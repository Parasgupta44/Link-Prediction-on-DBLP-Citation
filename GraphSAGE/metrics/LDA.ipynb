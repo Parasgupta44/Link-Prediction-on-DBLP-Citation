{
 "cells": [
  {
   "cell_type": "markdown",
   "metadata": {},
   "source": [
    "## Calculating various metrics for our models\n",
    "\n",
    "- The csv's with stored probabilties with different pair of nodes are used"
   ]
  },
  {
   "cell_type": "code",
   "execution_count": 1,
   "metadata": {},
   "outputs": [],
   "source": [
    "import pandas as pd"
   ]
  },
  {
   "cell_type": "code",
   "execution_count": 2,
   "metadata": {},
   "outputs": [],
   "source": [
    "mean_df = pd.read_csv(r\"D:\\notebooks\\lp\\small\\Mean\\raw_data.csv\")\n",
    "mean_pool_df = pd.read_csv(r\"D:\\notebooks\\lp\\small\\MeanPool\\raw_data.csv\")\n",
    "max_pool_df = pd.read_csv(r\"D:\\notebooks\\lp\\small\\MaxPool\\raw_data.csv\")\n",
    "attentional_df = pd.read_csv(r\"D:\\notebooks\\lp\\small\\Attentional\\raw_data.csv\")\n",
    "# lr_attentional_df = pd.read_csv(\"/content/gdrive/MyDrive/GraphSAGE_Ndarrays/AttentionsalLR/raw_data.csv\")"
   ]
  },
  {
   "cell_type": "code",
   "execution_count": 3,
   "metadata": {},
   "outputs": [
    {
     "data": {
      "text/html": [
       "<div>\n",
       "<style scoped>\n",
       "    .dataframe tbody tr th:only-of-type {\n",
       "        vertical-align: middle;\n",
       "    }\n",
       "\n",
       "    .dataframe tbody tr th {\n",
       "        vertical-align: top;\n",
       "    }\n",
       "\n",
       "    .dataframe thead th {\n",
       "        text-align: right;\n",
       "    }\n",
       "</style>\n",
       "<table border=\"1\" class=\"dataframe\">\n",
       "  <thead>\n",
       "    <tr style=\"text-align: right;\">\n",
       "      <th></th>\n",
       "      <th>y_true</th>\n",
       "      <th>y_pred</th>\n",
       "    </tr>\n",
       "  </thead>\n",
       "  <tbody>\n",
       "    <tr>\n",
       "      <th>0</th>\n",
       "      <td>1</td>\n",
       "      <td>0.986473</td>\n",
       "    </tr>\n",
       "    <tr>\n",
       "      <th>1</th>\n",
       "      <td>1</td>\n",
       "      <td>1.000000</td>\n",
       "    </tr>\n",
       "    <tr>\n",
       "      <th>2</th>\n",
       "      <td>1</td>\n",
       "      <td>0.643442</td>\n",
       "    </tr>\n",
       "    <tr>\n",
       "      <th>3</th>\n",
       "      <td>1</td>\n",
       "      <td>0.559263</td>\n",
       "    </tr>\n",
       "    <tr>\n",
       "      <th>4</th>\n",
       "      <td>1</td>\n",
       "      <td>0.962550</td>\n",
       "    </tr>\n",
       "  </tbody>\n",
       "</table>\n",
       "</div>"
      ],
      "text/plain": [
       "   y_true    y_pred\n",
       "0       1  0.986473\n",
       "1       1  1.000000\n",
       "2       1  0.643442\n",
       "3       1  0.559263\n",
       "4       1  0.962550"
      ]
     },
     "execution_count": 3,
     "metadata": {},
     "output_type": "execute_result"
    }
   ],
   "source": [
    "mean_df.head()"
   ]
  },
  {
   "cell_type": "code",
   "execution_count": 4,
   "metadata": {},
   "outputs": [],
   "source": [
    "# demonstration of calculating metrics for a neural network model using sklearn\n",
    "from sklearn.datasets import make_circles\n",
    "from sklearn.metrics import accuracy_score\n",
    "from sklearn.metrics import precision_score\n",
    "from sklearn.metrics import recall_score\n",
    "from sklearn.metrics import f1_score\n",
    "from sklearn.metrics import cohen_kappa_score\n",
    "from sklearn.metrics import roc_auc_score\n",
    "from sklearn.metrics import confusion_matrix"
   ]
  },
  {
   "cell_type": "code",
   "execution_count": 5,
   "metadata": {},
   "outputs": [],
   "source": [
    "def fill_prob_lists(df, true_l, false_l):\n",
    "  for i in range(len(df)):\n",
    "    true_l.append(df['y_true'][i])\n",
    "    false_l.append(df['y_pred'][i])"
   ]
  },
  {
   "cell_type": "code",
   "execution_count": 6,
   "metadata": {},
   "outputs": [],
   "source": [
    "mean_true = []\n",
    "mean_pred = []\n",
    "\n",
    "mean_pool_true = []\n",
    "mean_pool_pred = []\n",
    "\n",
    "max_pool_true = []\n",
    "max_pool_pred = []\n",
    "\n",
    "attentional_true = []\n",
    "attentional_pred = []\n",
    "\n",
    "# lr_attentional_true = []\n",
    "# lr_attentional_pred = []"
   ]
  },
  {
   "cell_type": "code",
   "execution_count": 7,
   "metadata": {},
   "outputs": [],
   "source": [
    "fill_prob_lists(mean_df, mean_true, mean_pred)\n",
    "fill_prob_lists(mean_pool_df, mean_pool_true, mean_pool_pred)\n",
    "fill_prob_lists(max_pool_df, max_pool_true, max_pool_pred)\n",
    "fill_prob_lists(attentional_df, attentional_true, attentional_pred)\n",
    "# fill_prob_lists(lr_attentional_df, lr_attentional_true, lr_attentional_pred)"
   ]
  },
  {
   "cell_type": "code",
   "execution_count": null,
   "metadata": {},
   "outputs": [],
   "source": [
    "print(mean_true)"
   ]
  },
  {
   "cell_type": "code",
   "execution_count": null,
   "metadata": {},
   "outputs": [],
   "source": [
    "print(mean_pred)"
   ]
  },
  {
   "cell_type": "code",
   "execution_count": 10,
   "metadata": {},
   "outputs": [],
   "source": [
    "mean_pred_copy = mean_pred.copy()\n",
    "mean_pool_pred_copy = mean_pool_pred.copy()\n",
    "max_pool_pred_copy = max_pool_pred.copy()\n",
    "attentional_pred_copy = attentional_pred.copy()\n",
    "# lr_attentional_pred_copy = lr_attentional_pred.copy()"
   ]
  },
  {
   "cell_type": "code",
   "execution_count": 11,
   "metadata": {},
   "outputs": [],
   "source": [
    "for i in range(0, len(mean_pred)):\n",
    "  mean_pred[i] = 1 if mean_pred[i] >= 0.5 else 0\n",
    "\n",
    "for i in range(0, len(mean_pool_pred)):\n",
    "  mean_pool_pred[i] = 1 if mean_pool_pred[i] >= 0.5 else 0\n",
    "\n",
    "for i in range(0, len(max_pool_pred)):\n",
    "  max_pool_pred[i] = 1 if max_pool_pred[i] >= 0.5 else 0\n",
    "\n",
    "for i in range(0, len(attentional_pred)):\n",
    "  attentional_pred[i] = 1 if attentional_pred[i] >= 0.5 else 0\n",
    "\n",
    "# for i in range(0, len(lr_attentional_pred)):\n",
    "#   lr_attentional_pred[i] = 1 if lr_attentional_pred[i] >= 0.5 else 0"
   ]
  },
  {
   "cell_type": "code",
   "execution_count": null,
   "metadata": {},
   "outputs": [],
   "source": [
    "print(mean_pred)"
   ]
  },
  {
   "cell_type": "code",
   "execution_count": 13,
   "metadata": {},
   "outputs": [
    {
     "name": "stdout",
     "output_type": "stream",
     "text": [
      "Accuracy mean: 0.891074\n",
      "Accuracy mean pool: 0.880765\n",
      "Accuracy max pool: 0.878033\n",
      "Accuracy attentional: 0.931109\n"
     ]
    }
   ],
   "source": [
    "accuracy_mean = accuracy_score(mean_true, mean_pred)\n",
    "print('Accuracy mean: %f' % accuracy_mean)\n",
    "\n",
    "accuracy_mean_pool = accuracy_score(mean_pool_true, mean_pool_pred)\n",
    "print('Accuracy mean pool: %f' % accuracy_mean_pool)\n",
    "\n",
    "accuracy_max_pool = accuracy_score(max_pool_true, max_pool_pred)\n",
    "print('Accuracy max pool: %f' % accuracy_max_pool)\n",
    "\n",
    "accuracy_attentional = accuracy_score(attentional_true, attentional_pred)\n",
    "print('Accuracy attentional: %f' % accuracy_attentional)\n",
    "\n",
    "# accuracy_lr_attentional = accuracy_score(lr_attentional_true, lr_attentional_pred)\n",
    "# print('Accuracy lr attentional: %f' % accuracy_lr_attentional)"
   ]
  },
  {
   "cell_type": "code",
   "execution_count": 14,
   "metadata": {},
   "outputs": [
    {
     "name": "stdout",
     "output_type": "stream",
     "text": [
      "Precision mean: 0.854899\n",
      "Precision mean pool: 0.830804\n",
      "Precision max pool: 0.851382\n",
      "Precision attentional: 0.913050\n"
     ]
    }
   ],
   "source": [
    "precision_mean = precision_score(mean_true, mean_pred)\n",
    "print('Precision mean: %f' % precision_mean)\n",
    "\n",
    "precision_mean_pool = precision_score(mean_pool_true, mean_pool_pred)\n",
    "print('Precision mean pool: %f' % precision_mean_pool)\n",
    "\n",
    "precision_max_pool = precision_score(max_pool_true, max_pool_pred)\n",
    "print('Precision max pool: %f' % precision_max_pool)\n",
    "\n",
    "precision_attentional = precision_score(attentional_true, attentional_pred)\n",
    "print('Precision attentional: %f' % precision_attentional)\n",
    "\n",
    "# precision_lr_attentional = precision_score(lr_attentional_true, lr_attentional_pred)\n",
    "# print('Precision lr attentional: %f' % precision_lr_attentional)\n",
    "  "
   ]
  },
  {
   "cell_type": "code",
   "execution_count": 15,
   "metadata": {},
   "outputs": [
    {
     "name": "stdout",
     "output_type": "stream",
     "text": [
      "Recall mean: 0.942039\n",
      "Recall mean pool: 0.956281\n",
      "Recall max pool: 0.915956\n",
      "Recall attentional: 0.952968\n"
     ]
    }
   ],
   "source": [
    "recall_mean = recall_score(mean_true, mean_pred)\n",
    "print('Recall mean: %f' % recall_mean)\n",
    "\n",
    "recall_mean_pool = recall_score(mean_pool_true, mean_pool_pred)\n",
    "print('Recall mean pool: %f' % recall_mean_pool)\n",
    "\n",
    "recall_max_pool = recall_score(max_pool_true, max_pool_pred)\n",
    "print('Recall max pool: %f' % recall_max_pool)\n",
    "\n",
    "recall_attentional = recall_score(attentional_true, attentional_pred)\n",
    "print('Recall attentional: %f' % recall_attentional)\n",
    "\n",
    "# recall_lr_attentional = recall_score(lr_attentional_true, lr_attentional_pred)\n",
    "# print('Recall lr attentional: %f' % recall_lr_attentional)"
   ]
  },
  {
   "cell_type": "code",
   "execution_count": 16,
   "metadata": {},
   "outputs": [
    {
     "name": "stdout",
     "output_type": "stream",
     "text": [
      "F1 score mean: 0.896356\n",
      "F1 score mean pool: 0.889137\n",
      "F1 score max pool: 0.882489\n",
      "F1 score attentional: 0.932582\n"
     ]
    }
   ],
   "source": [
    "f1_mean = f1_score(mean_true, mean_pred)\n",
    "print('F1 score mean: %f' % f1_mean)\n",
    "\n",
    "f1_mean_pool = f1_score(mean_pool_true, mean_pool_pred)\n",
    "print('F1 score mean pool: %f' % f1_mean_pool)\n",
    "\n",
    "f1_max_pool = f1_score(max_pool_true, max_pool_pred)\n",
    "print('F1 score max pool: %f' % f1_max_pool)\n",
    "\n",
    "f1_attentional = f1_score(attentional_true, attentional_pred)\n",
    "print('F1 score attentional: %f' % f1_attentional)\n",
    "\n",
    "# f1_lr_attentional = f1_score(lr_attentional_true, lr_attentional_pred)\n",
    "# print('F1 score lr attentional: %f' % f1_lr_attentional)"
   ]
  },
  {
   "cell_type": "code",
   "execution_count": null,
   "metadata": {},
   "outputs": [],
   "source": []
  },
  {
   "cell_type": "code",
   "execution_count": 17,
   "metadata": {},
   "outputs": [],
   "source": [
    "import numpy as np\n",
    "from sklearn.metrics import average_precision_score"
   ]
  },
  {
   "cell_type": "code",
   "execution_count": 18,
   "metadata": {},
   "outputs": [],
   "source": [
    "ap_mean = average_precision_score(mean_true, mean_pred_copy)\n",
    "ap_meanpool = average_precision_score(mean_pool_true, mean_pool_pred_copy)\n",
    "ap_maxpool = average_precision_score(max_pool_true, max_pool_pred_copy)\n",
    "ap_attentional = average_precision_score(attentional_true, attentional_pred_copy)"
   ]
  },
  {
   "cell_type": "code",
   "execution_count": 19,
   "metadata": {},
   "outputs": [
    {
     "name": "stdout",
     "output_type": "stream",
     "text": [
      "0.9688652125030746\n",
      "0.9660780218818967\n",
      "0.9520535615444232\n",
      "0.9822395923435012\n"
     ]
    }
   ],
   "source": [
    "print(ap_mean)\n",
    "print(ap_meanpool)\n",
    "print(ap_maxpool)\n",
    "print(ap_attentional)"
   ]
  },
  {
   "cell_type": "code",
   "execution_count": null,
   "metadata": {},
   "outputs": [],
   "source": []
  },
  {
   "cell_type": "code",
   "execution_count": 20,
   "metadata": {},
   "outputs": [],
   "source": [
    "from sklearn.metrics import precision_recall_curve\n",
    "precision_mean, recall_mean, thresholds_mean = precision_recall_curve(mean_true, mean_pred)\n",
    "precision_mean_pool, recall_mean_pool, thresholds_mean_pool = precision_recall_curve(mean_pool_true, mean_pool_pred)\n",
    "precision_max_pool, recall_max_pool, thresholds_max_pool = precision_recall_curve(max_pool_true, max_pool_pred)\n",
    "precision_attentional, recall_attentional, thresholds_attentional = precision_recall_curve(attentional_true, attentional_pred)\n",
    "# precision_lr_attentional, recall_lr_attentional, thresholds_lr_attentional = precision_recall_curve(lr_attentional_true, lr_attentional_pred)"
   ]
  },
  {
   "cell_type": "code",
   "execution_count": 21,
   "metadata": {},
   "outputs": [
    {
     "name": "stderr",
     "output_type": "stream",
     "text": [
      "The PostScript backend does not support transparency; partially transparent artists will be rendered opaque.\n",
      "The PostScript backend does not support transparency; partially transparent artists will be rendered opaque.\n"
     ]
    },
    {
     "data": {
      "image/png": "[encoded data removed]",
      "text/plain": [
       "<Figure size 432x288 with 1 Axes>"
      ]
     },
     "metadata": {
      "needs_background": "light"
     },
     "output_type": "display_data"
    }
   ],
   "source": [
    "import matplotlib.pyplot as plt\n",
    "plt.plot(recall_mean, precision_mean, label='Mean')\n",
    "plt.plot(recall_mean_pool, precision_mean_pool, label='Mean pool')\n",
    "plt.plot(recall_max_pool, precision_max_pool, label='Max pool')\n",
    "plt.plot(recall_attentional, precision_attentional, label='Attentional')\n",
    "# plt.plot(recall_lr_attentional, precision_lr_attentional, label='Attentional LR')\n",
    "\n",
    "plt.xlabel('recall')\n",
    "plt.ylabel('precision')\n",
    "plt.title('pr curve')\n",
    "plt.legend(loc='best')\n",
    "plt.savefig(r'D:\\notebooks\\lp\\metrics\\LDA\\pr\\pr.png', format='png', dpi=300)\n",
    "plt.savefig(r'D:\\notebooks\\lp\\metrics\\LDA\\pr\\pr_eps.eps', format='eps', dpi=300)\n",
    "plt.show()\n"
   ]
  },
  {
   "cell_type": "code",
   "execution_count": 22,
   "metadata": {},
   "outputs": [],
   "source": [
    "from sklearn.metrics import roc_curve"
   ]
  },
  {
   "cell_type": "code",
   "execution_count": 23,
   "metadata": {},
   "outputs": [],
   "source": [
    "fpr_keras_mean, tpr_keras_mean, thresholds_keras = roc_curve(mean_true, mean_pred_copy)\n",
    "fpr_keras_mean_pool, tpr_keras_mean_pool, thresholds_keras = roc_curve(mean_pool_true, mean_pool_pred_copy)\n",
    "fpr_keras_max_pool, tpr_keras_max_pool, thresholds_keras = roc_curve(max_pool_true, max_pool_pred_copy)\n",
    "fpr_keras_attentional, tpr_keras_attentional, thresholds_keras = roc_curve(attentional_true, attentional_pred_copy)\n",
    "# fpr_keras_lr_attentional, tpr_keras_lr_attentional, thresholds_keras = roc_curve(lr_attentional_true, lr_attentional_pred_copy)"
   ]
  },
  {
   "cell_type": "code",
   "execution_count": 24,
   "metadata": {},
   "outputs": [],
   "source": [
    "from sklearn.metrics import auc\n",
    "auc_mean = auc(fpr_keras_mean, tpr_keras_mean)\n",
    "auc_mean_pool = auc(fpr_keras_mean_pool, tpr_keras_mean_pool)\n",
    "auc_max_pool = auc(fpr_keras_max_pool, tpr_keras_max_pool)\n",
    "auc_attentional = auc(fpr_keras_attentional, tpr_keras_attentional)\n",
    "# auc_lr_attentional = auc(fpr_keras_lr_attentional, tpr_keras_lr_attentional)"
   ]
  },
  {
   "cell_type": "code",
   "execution_count": 25,
   "metadata": {},
   "outputs": [
    {
     "name": "stdout",
     "output_type": "stream",
     "text": [
      "0.9667908534709407\n",
      "0.9650446543678641\n",
      "0.9512701402784974\n",
      "0.9824955178272914\n"
     ]
    }
   ],
   "source": [
    "print(auc_mean)\n",
    "print(auc_mean_pool)\n",
    "print(auc_max_pool)\n",
    "print(auc_attentional)\n",
    "# print(auc_lr_attentional)"
   ]
  },
  {
   "cell_type": "code",
   "execution_count": null,
   "metadata": {},
   "outputs": [],
   "source": []
  },
  {
   "cell_type": "code",
   "execution_count": 26,
   "metadata": {},
   "outputs": [
    {
     "name": "stderr",
     "output_type": "stream",
     "text": [
      "The PostScript backend does not support transparency; partially transparent artists will be rendered opaque.\n",
      "The PostScript backend does not support transparency; partially transparent artists will be rendered opaque.\n"
     ]
    },
    {
     "data": {
      "image/png": "[encoded data removed]",
      "text/plain": [
       "<Figure size 432x288 with 1 Axes>"
      ]
     },
     "metadata": {
      "needs_background": "light"
     },
     "output_type": "display_data"
    }
   ],
   "source": [
    "import matplotlib.pyplot as plt\n",
    "plt.plot([0, 1], [0, 1], 'k--')\n",
    "plt.plot(fpr_keras_mean, tpr_keras_mean, label='Mean (area = {:.3f})'.format(auc_mean))\n",
    "plt.plot(fpr_keras_mean_pool, tpr_keras_mean_pool, label='Mean Pool (area = {:.3f})'.format(auc_mean_pool))\n",
    "plt.plot(fpr_keras_max_pool, tpr_keras_max_pool, label='Max pool (area = {:.3f})'.format(auc_max_pool))\n",
    "plt.plot(fpr_keras_attentional, tpr_keras_attentional, label='Attentional (area = {:.3f})'.format(auc_attentional))\n",
    "# plt.plot(fpr_keras_lr_attentional, tpr_keras_lr_attentional, label='LR Attentional (area = {:.3f})'.format(auc_lr_attentional))\n",
    "\n",
    "plt.xlabel('False positive rate')\n",
    "plt.ylabel('True positive rate')\n",
    "plt.title('ROC curve')\n",
    "plt.legend(loc='best')\n",
    "plt.savefig(r'D:\\notebooks\\lp\\metrics\\LDA\\auc\\auc.png', format='png', dpi=300)\n",
    "plt.savefig(r'D:\\notebooks\\lp\\metrics\\LDA\\auc\\auc_roc.eps', format='eps', dpi=300)\n",
    "plt.show()"
   ]
  },
  {
   "cell_type": "code",
   "execution_count": null,
   "metadata": {},
   "outputs": [],
   "source": []
  },
  {
   "cell_type": "code",
   "execution_count": null,
   "metadata": {},
   "outputs": [],
   "source": []
  }
 ],
 "metadata": {
  "kernelspec": {
   "display_name": "Python 3",
   "language": "python",
   "name": "python3"
  },
  "language_info": {
   "codemirror_mode": {
    "name": "ipython",
    "version": 3
   },
   "file_extension": ".py",
   "mimetype": "text/x-python",
   "name": "python",
   "nbconvert_exporter": "python",
   "pygments_lexer": "ipython3",
   "version": "3.8.2"
  }
 },
 "nbformat": 4,
 "nbformat_minor": 5
}
