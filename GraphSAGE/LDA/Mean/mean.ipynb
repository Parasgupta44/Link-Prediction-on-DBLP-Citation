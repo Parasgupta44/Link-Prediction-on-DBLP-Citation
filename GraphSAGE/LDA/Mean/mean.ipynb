{
 "cells": [
  {
   "cell_type": "markdown",
   "metadata": {},
   "source": [
    "## Some points to note\n",
    "\n",
    "- The neo4j queries are explained in the previous notebooks. (under the notebooks directory in repo's root)\n",
    "- Most of the code written is for checking dataframes in between, so very dirty at times and sub optimal too. (not the training part)\n",
    "- The notebook was executed on google colab (there might be some formatting issues)\n",
    "- neo4j instance ran on local machine and ngrok tool was used to expose it's tcp port over the internet for connection to colab (more info: [Stackoverflow](https://stackoverflow.com/questions/64579678/how-to-use-ngrok-to-expose-neo4j-instance-running-on-localhost-to-be-used-by-goo) )\n",
    "- code might contain some unused imported libraries (most of the helper code was not uploaded for sanity). Please don't run the whole notebook, go one step at a time while reading instructions / comments\n",
    "- parts of code need more documentation :)\n",
    "- Citation dataset v11 is used for this task\n",
    "- LDA is used and ten fields of study per author is taken to generate features"
   ]
  },
  {
   "cell_type": "code",
   "execution_count": 1,
   "metadata": {},
   "outputs": [],
   "source": [
    "import gc"
   ]
  },
  {
   "cell_type": "code",
   "execution_count": 2,
   "metadata": {},
   "outputs": [
    {
     "data": {
      "text/plain": [
       "20"
      ]
     },
     "execution_count": 2,
     "metadata": {},
     "output_type": "execute_result"
    }
   ],
   "source": [
    "gc.collect()"
   ]
  },
  {
   "cell_type": "code",
   "execution_count": 1,
   "metadata": {},
   "outputs": [],
   "source": [
    "from py2neo.data import Node, Relationship\n",
    "import py2neo"
   ]
  },
  {
   "cell_type": "code",
   "execution_count": 2,
   "metadata": {},
   "outputs": [],
   "source": [
    "graph = py2neo.Graph(\"bolt://localhost:7687\", auth=(\"neo4j\", \"graph\"))"
   ]
  },
  {
   "cell_type": "code",
   "execution_count": 3,
   "metadata": {},
   "outputs": [],
   "source": [
    "import pandas as pd\n",
    "import os\n",
    "\n",
    "import stellargraph as sg\n",
    "from stellargraph.connector.neo4j import Neo4jGraphSAGENodeGenerator, Neo4jStellarGraph\n",
    "from stellargraph.layer import GraphSAGE\n",
    "\n",
    "import numpy as np\n",
    "from tensorflow.keras import layers, optimizers, losses, metrics, Model\n",
    "from sklearn import preprocessing, feature_extraction, model_selection\n",
    "\n",
    "import time\n",
    "%matplotlib inline"
   ]
  },
  {
   "cell_type": "code",
   "execution_count": 4,
   "metadata": {},
   "outputs": [],
   "source": [
    "# Authors\n",
    "authors_df = graph.run(\n",
    "    \"\"\"\n",
    "    MATCH (n:Author) RETURN n.name as name\n",
    "    \"\"\").to_data_frame()"
   ]
  },
  {
   "cell_type": "code",
   "execution_count": 5,
   "metadata": {},
   "outputs": [
    {
     "data": {
      "text/html": [
       "<div>\n",
       "<style scoped>\n",
       "    .dataframe tbody tr th:only-of-type {\n",
       "        vertical-align: middle;\n",
       "    }\n",
       "\n",
       "    .dataframe tbody tr th {\n",
       "        vertical-align: top;\n",
       "    }\n",
       "\n",
       "    .dataframe thead th {\n",
       "        text-align: right;\n",
       "    }\n",
       "</style>\n",
       "<table border=\"1\" class=\"dataframe\">\n",
       "  <thead>\n",
       "    <tr style=\"text-align: right;\">\n",
       "      <th></th>\n",
       "      <th>name</th>\n",
       "    </tr>\n",
       "  </thead>\n",
       "  <tbody>\n",
       "    <tr>\n",
       "      <th>0</th>\n",
       "      <td>True</td>\n",
       "    </tr>\n",
       "  </tbody>\n",
       "</table>\n",
       "</div>"
      ],
      "text/plain": [
       "   name\n",
       "0  True"
      ]
     },
     "execution_count": 5,
     "metadata": {},
     "output_type": "execute_result"
    }
   ],
   "source": [
    "(authors_df.drop_duplicates() == authors_df).drop_duplicates()"
   ]
  },
  {
   "cell_type": "code",
   "execution_count": 6,
   "metadata": {},
   "outputs": [
    {
     "data": {
      "text/plain": [
       "63800"
      ]
     },
     "execution_count": 6,
     "metadata": {},
     "output_type": "execute_result"
    }
   ],
   "source": [
    "len(authors_df)"
   ]
  },
  {
   "cell_type": "code",
   "execution_count": 7,
   "metadata": {},
   "outputs": [
    {
     "data": {
      "text/html": [
       "<div>\n",
       "<style scoped>\n",
       "    .dataframe tbody tr th:only-of-type {\n",
       "        vertical-align: middle;\n",
       "    }\n",
       "\n",
       "    .dataframe tbody tr th {\n",
       "        vertical-align: top;\n",
       "    }\n",
       "\n",
       "    .dataframe thead th {\n",
       "        text-align: right;\n",
       "    }\n",
       "</style>\n",
       "<table border=\"1\" class=\"dataframe\">\n",
       "  <thead>\n",
       "    <tr style=\"text-align: right;\">\n",
       "      <th></th>\n",
       "      <th>name</th>\n",
       "    </tr>\n",
       "  </thead>\n",
       "  <tbody>\n",
       "    <tr>\n",
       "      <th>0</th>\n",
       "      <td>Eun-Kyeong Kwon</td>\n",
       "    </tr>\n",
       "    <tr>\n",
       "      <th>1</th>\n",
       "      <td>Yong-Gu Cho</td>\n",
       "    </tr>\n",
       "    <tr>\n",
       "      <th>2</th>\n",
       "      <td>Kijoon Chae</td>\n",
       "    </tr>\n",
       "    <tr>\n",
       "      <th>3</th>\n",
       "      <td>Dominik Slezak</td>\n",
       "    </tr>\n",
       "    <tr>\n",
       "      <th>4</th>\n",
       "      <td>Anthony Brabazon</td>\n",
       "    </tr>\n",
       "  </tbody>\n",
       "</table>\n",
       "</div>"
      ],
      "text/plain": [
       "               name\n",
       "0   Eun-Kyeong Kwon\n",
       "1       Yong-Gu Cho\n",
       "2       Kijoon Chae\n",
       "3    Dominik Slezak\n",
       "4  Anthony Brabazon"
      ]
     },
     "execution_count": 7,
     "metadata": {},
     "output_type": "execute_result"
    }
   ],
   "source": [
    "authors_df.head()"
   ]
  },
  {
   "cell_type": "code",
   "execution_count": 8,
   "metadata": {},
   "outputs": [],
   "source": [
    "# To give all the authors a identifier\n",
    "dic_authors = {}\n",
    "for i in range(len(authors_df)):\n",
    "    dic_authors[authors_df['name'][i]] = i"
   ]
  },
  {
   "cell_type": "code",
   "execution_count": 9,
   "metadata": {},
   "outputs": [
    {
     "data": {
      "text/plain": [
       "63800"
      ]
     },
     "execution_count": 9,
     "metadata": {},
     "output_type": "execute_result"
    }
   ],
   "source": [
    "len(dic_authors)"
   ]
  },
  {
   "cell_type": "code",
   "execution_count": 10,
   "metadata": {},
   "outputs": [
    {
     "data": {
      "text/plain": [
       "50"
      ]
     },
     "execution_count": 10,
     "metadata": {},
     "output_type": "execute_result"
    }
   ],
   "source": [
    "authors_ = list(dic_authors.keys())\n",
    "dic_authors[authors_[50]]"
   ]
  },
  {
   "cell_type": "code",
   "execution_count": 11,
   "metadata": {},
   "outputs": [],
   "source": [
    "co = graph.run(\n",
    "    \"\"\"\n",
    "    MATCH p=(a)-[r:CO_AUTHOR_DIRECT]->(b) RETURN a.name as source,b.name as target \n",
    "    \"\"\").to_data_frame()"
   ]
  },
  {
   "cell_type": "code",
   "execution_count": 12,
   "metadata": {},
   "outputs": [
    {
     "name": "stdout",
     "output_type": "stream",
     "text": [
      "(120775, 2)\n"
     ]
    },
    {
     "data": {
      "text/html": [
       "<div>\n",
       "<style scoped>\n",
       "    .dataframe tbody tr th:only-of-type {\n",
       "        vertical-align: middle;\n",
       "    }\n",
       "\n",
       "    .dataframe tbody tr th {\n",
       "        vertical-align: top;\n",
       "    }\n",
       "\n",
       "    .dataframe thead th {\n",
       "        text-align: right;\n",
       "    }\n",
       "</style>\n",
       "<table border=\"1\" class=\"dataframe\">\n",
       "  <thead>\n",
       "    <tr style=\"text-align: right;\">\n",
       "      <th></th>\n",
       "      <th>source</th>\n",
       "      <th>target</th>\n",
       "    </tr>\n",
       "  </thead>\n",
       "  <tbody>\n",
       "    <tr>\n",
       "      <th>0</th>\n",
       "      <td>Eun-Kyeong Kwon</td>\n",
       "      <td>Kijoon Chae</td>\n",
       "    </tr>\n",
       "    <tr>\n",
       "      <th>1</th>\n",
       "      <td>Eun-Kyeong Kwon</td>\n",
       "      <td>Yong-Gu Cho</td>\n",
       "    </tr>\n",
       "    <tr>\n",
       "      <th>2</th>\n",
       "      <td>Yong-Gu Cho</td>\n",
       "      <td>Kijoon Chae</td>\n",
       "    </tr>\n",
       "    <tr>\n",
       "      <th>3</th>\n",
       "      <td>Kijoon Chae</td>\n",
       "      <td>Youngsoo Kim</td>\n",
       "    </tr>\n",
       "    <tr>\n",
       "      <th>4</th>\n",
       "      <td>Kijoon Chae</td>\n",
       "      <td>Yeojin Kim</td>\n",
       "    </tr>\n",
       "  </tbody>\n",
       "</table>\n",
       "</div>"
      ],
      "text/plain": [
       "            source        target\n",
       "0  Eun-Kyeong Kwon   Kijoon Chae\n",
       "1  Eun-Kyeong Kwon   Yong-Gu Cho\n",
       "2      Yong-Gu Cho   Kijoon Chae\n",
       "3      Kijoon Chae  Youngsoo Kim\n",
       "4      Kijoon Chae    Yeojin Kim"
      ]
     },
     "execution_count": 12,
     "metadata": {},
     "output_type": "execute_result"
    }
   ],
   "source": [
    "print(co.shape)\n",
    "co.head()"
   ]
  },
  {
   "cell_type": "code",
   "execution_count": 13,
   "metadata": {},
   "outputs": [
    {
     "data": {
      "text/html": [
       "<div>\n",
       "<style scoped>\n",
       "    .dataframe tbody tr th:only-of-type {\n",
       "        vertical-align: middle;\n",
       "    }\n",
       "\n",
       "    .dataframe tbody tr th {\n",
       "        vertical-align: top;\n",
       "    }\n",
       "\n",
       "    .dataframe thead th {\n",
       "        text-align: right;\n",
       "    }\n",
       "</style>\n",
       "<table border=\"1\" class=\"dataframe\">\n",
       "  <thead>\n",
       "    <tr style=\"text-align: right;\">\n",
       "      <th></th>\n",
       "      <th>source</th>\n",
       "      <th>target</th>\n",
       "    </tr>\n",
       "  </thead>\n",
       "  <tbody>\n",
       "    <tr>\n",
       "      <th>101252</th>\n",
       "      <td>Roel Peeters</td>\n",
       "      <td>Christian Wachsmann</td>\n",
       "    </tr>\n",
       "    <tr>\n",
       "      <th>101253</th>\n",
       "      <td>Roel Peeters</td>\n",
       "      <td>Anthony Van Herrewege</td>\n",
       "    </tr>\n",
       "    <tr>\n",
       "      <th>101254</th>\n",
       "      <td>Roel Peeters</td>\n",
       "      <td>Milica Milutinovic</td>\n",
       "    </tr>\n",
       "    <tr>\n",
       "      <th>101255</th>\n",
       "      <td>Roel Peeters</td>\n",
       "      <td>Stefan Katzenbeisser</td>\n",
       "    </tr>\n",
       "  </tbody>\n",
       "</table>\n",
       "</div>"
      ],
      "text/plain": [
       "              source                 target\n",
       "101252  Roel Peeters    Christian Wachsmann\n",
       "101253  Roel Peeters  Anthony Van Herrewege\n",
       "101254  Roel Peeters     Milica Milutinovic\n",
       "101255  Roel Peeters   Stefan Katzenbeisser"
      ]
     },
     "execution_count": 13,
     "metadata": {},
     "output_type": "execute_result"
    }
   ],
   "source": [
    "co[co['source'] == 'Roel Peeters']"
   ]
  },
  {
   "cell_type": "code",
   "execution_count": 14,
   "metadata": {},
   "outputs": [],
   "source": [
    "cal_colab_direct_df = graph.run(\n",
    "    \"\"\"\n",
    "    MATCH p=(a)-[r:CO_AUTHOR_DIRECT]->(b) RETURN a.name as source, b.name as target, r.collaborations\n",
    "    \"\"\").to_data_frame()"
   ]
  },
  {
   "cell_type": "code",
   "execution_count": 15,
   "metadata": {},
   "outputs": [
    {
     "name": "stdout",
     "output_type": "stream",
     "text": [
      "(120775, 3)\n"
     ]
    },
    {
     "data": {
      "text/html": [
       "<div>\n",
       "<style scoped>\n",
       "    .dataframe tbody tr th:only-of-type {\n",
       "        vertical-align: middle;\n",
       "    }\n",
       "\n",
       "    .dataframe tbody tr th {\n",
       "        vertical-align: top;\n",
       "    }\n",
       "\n",
       "    .dataframe thead th {\n",
       "        text-align: right;\n",
       "    }\n",
       "</style>\n",
       "<table border=\"1\" class=\"dataframe\">\n",
       "  <thead>\n",
       "    <tr style=\"text-align: right;\">\n",
       "      <th></th>\n",
       "      <th>source</th>\n",
       "      <th>target</th>\n",
       "      <th>r.collaborations</th>\n",
       "    </tr>\n",
       "  </thead>\n",
       "  <tbody>\n",
       "    <tr>\n",
       "      <th>0</th>\n",
       "      <td>Eun-Kyeong Kwon</td>\n",
       "      <td>Kijoon Chae</td>\n",
       "      <td>2</td>\n",
       "    </tr>\n",
       "    <tr>\n",
       "      <th>1</th>\n",
       "      <td>Eun-Kyeong Kwon</td>\n",
       "      <td>Yong-Gu Cho</td>\n",
       "      <td>2</td>\n",
       "    </tr>\n",
       "    <tr>\n",
       "      <th>2</th>\n",
       "      <td>Yong-Gu Cho</td>\n",
       "      <td>Kijoon Chae</td>\n",
       "      <td>2</td>\n",
       "    </tr>\n",
       "    <tr>\n",
       "      <th>3</th>\n",
       "      <td>Kijoon Chae</td>\n",
       "      <td>Youngsoo Kim</td>\n",
       "      <td>1</td>\n",
       "    </tr>\n",
       "    <tr>\n",
       "      <th>4</th>\n",
       "      <td>Kijoon Chae</td>\n",
       "      <td>Yeojin Kim</td>\n",
       "      <td>1</td>\n",
       "    </tr>\n",
       "  </tbody>\n",
       "</table>\n",
       "</div>"
      ],
      "text/plain": [
       "            source        target  r.collaborations\n",
       "0  Eun-Kyeong Kwon   Kijoon Chae                 2\n",
       "1  Eun-Kyeong Kwon   Yong-Gu Cho                 2\n",
       "2      Yong-Gu Cho   Kijoon Chae                 2\n",
       "3      Kijoon Chae  Youngsoo Kim                 1\n",
       "4      Kijoon Chae    Yeojin Kim                 1"
      ]
     },
     "execution_count": 15,
     "metadata": {},
     "output_type": "execute_result"
    }
   ],
   "source": [
    "print(cal_colab_direct_df.shape)\n",
    "cal_colab_direct_df.head()"
   ]
  },
  {
   "cell_type": "code",
   "execution_count": 16,
   "metadata": {},
   "outputs": [],
   "source": [
    "ss = set()\n",
    "for i in range(len(cal_colab_direct_df)):\n",
    "    ss.add(cal_colab_direct_df['source'][i])\n",
    "    ss.add(cal_colab_direct_df['target'][i])"
   ]
  },
  {
   "cell_type": "code",
   "execution_count": 17,
   "metadata": {},
   "outputs": [
    {
     "data": {
      "text/plain": [
       "60544"
      ]
     },
     "execution_count": 17,
     "metadata": {},
     "output_type": "execute_result"
    }
   ],
   "source": [
    "len(ss)"
   ]
  },
  {
   "cell_type": "code",
   "execution_count": 18,
   "metadata": {},
   "outputs": [
    {
     "data": {
      "text/html": [
       "<div>\n",
       "<style scoped>\n",
       "    .dataframe tbody tr th:only-of-type {\n",
       "        vertical-align: middle;\n",
       "    }\n",
       "\n",
       "    .dataframe tbody tr th {\n",
       "        vertical-align: top;\n",
       "    }\n",
       "\n",
       "    .dataframe thead th {\n",
       "        text-align: right;\n",
       "    }\n",
       "</style>\n",
       "<table border=\"1\" class=\"dataframe\">\n",
       "  <thead>\n",
       "    <tr style=\"text-align: right;\">\n",
       "      <th></th>\n",
       "      <th>source</th>\n",
       "      <th>target</th>\n",
       "      <th>r.collaborations</th>\n",
       "    </tr>\n",
       "  </thead>\n",
       "  <tbody>\n",
       "  </tbody>\n",
       "</table>\n",
       "</div>"
      ],
      "text/plain": [
       "Empty DataFrame\n",
       "Columns: [source, target, r.collaborations]\n",
       "Index: []"
      ]
     },
     "execution_count": 18,
     "metadata": {},
     "output_type": "execute_result"
    }
   ],
   "source": [
    "cal_colab_direct_df[cal_colab_direct_df['r.collaborations'] == 0]"
   ]
  },
  {
   "cell_type": "code",
   "execution_count": 19,
   "metadata": {},
   "outputs": [],
   "source": [
    "# Calculate total collaborations per author (direct)\n",
    "colab_dic_direct = {}\n",
    "for i in range(len(cal_colab_direct_df)):\n",
    "    if dic_authors[cal_colab_direct_df['source'][i]] not in colab_dic_direct.keys():\n",
    "        colab_dic_direct[dic_authors[cal_colab_direct_df['source'][i]]] = cal_colab_direct_df['r.collaborations'][i]\n",
    "    else:\n",
    "        colab_dic_direct[dic_authors[cal_colab_direct_df['source'][i]]] += cal_colab_direct_df['r.collaborations'][i]\n",
    "\n",
    "    if dic_authors[cal_colab_direct_df['target'][i]]  not in colab_dic_direct.keys():\n",
    "        colab_dic_direct[dic_authors[cal_colab_direct_df['target'][i]]] = cal_colab_direct_df['r.collaborations'][i]\n",
    "    else:\n",
    "        colab_dic_direct[dic_authors[cal_colab_direct_df['target'][i]]] += cal_colab_direct_df['r.collaborations'][i]"
   ]
  },
  {
   "cell_type": "code",
   "execution_count": 20,
   "metadata": {},
   "outputs": [
    {
     "name": "stdout",
     "output_type": "stream",
     "text": [
      "60544\n"
     ]
    }
   ],
   "source": [
    "print(len(colab_dic_direct))\n",
    "# colab_dic_direct"
   ]
  },
  {
   "cell_type": "code",
   "execution_count": 21,
   "metadata": {},
   "outputs": [],
   "source": [
    "cal_colab_cited_df = graph.run(\n",
    "    \"\"\"\n",
    "    MATCH p=(a)-[r:CO_AUTHOR_CITED_FINAL]->(b) RETURN a.name as source, b.name as target, r.collaborations\n",
    "    \"\"\").to_data_frame()"
   ]
  },
  {
   "cell_type": "code",
   "execution_count": 22,
   "metadata": {},
   "outputs": [
    {
     "name": "stdout",
     "output_type": "stream",
     "text": [
      "(60863, 3)\n"
     ]
    },
    {
     "data": {
      "text/html": [
       "<div>\n",
       "<style scoped>\n",
       "    .dataframe tbody tr th:only-of-type {\n",
       "        vertical-align: middle;\n",
       "    }\n",
       "\n",
       "    .dataframe tbody tr th {\n",
       "        vertical-align: top;\n",
       "    }\n",
       "\n",
       "    .dataframe thead th {\n",
       "        text-align: right;\n",
       "    }\n",
       "</style>\n",
       "<table border=\"1\" class=\"dataframe\">\n",
       "  <thead>\n",
       "    <tr style=\"text-align: right;\">\n",
       "      <th></th>\n",
       "      <th>source</th>\n",
       "      <th>target</th>\n",
       "      <th>r.collaborations</th>\n",
       "    </tr>\n",
       "  </thead>\n",
       "  <tbody>\n",
       "    <tr>\n",
       "      <th>0</th>\n",
       "      <td>Raymond W. Yeung</td>\n",
       "      <td>Amir F. Dana</td>\n",
       "      <td>2</td>\n",
       "    </tr>\n",
       "    <tr>\n",
       "      <th>1</th>\n",
       "      <td>Raymond W. Yeung</td>\n",
       "      <td>Simon R. Blackburn</td>\n",
       "      <td>2</td>\n",
       "    </tr>\n",
       "    <tr>\n",
       "      <th>2</th>\n",
       "      <td>Raymond W. Yeung</td>\n",
       "      <td>Andreas Winter</td>\n",
       "      <td>3</td>\n",
       "    </tr>\n",
       "    <tr>\n",
       "      <th>3</th>\n",
       "      <td>Raymond W. Yeung</td>\n",
       "      <td>Øyvind Ytrehus</td>\n",
       "      <td>2</td>\n",
       "    </tr>\n",
       "    <tr>\n",
       "      <th>4</th>\n",
       "      <td>Raymond W. Yeung</td>\n",
       "      <td>Sang-Woon Jeon</td>\n",
       "      <td>4</td>\n",
       "    </tr>\n",
       "  </tbody>\n",
       "</table>\n",
       "</div>"
      ],
      "text/plain": [
       "             source              target  r.collaborations\n",
       "0  Raymond W. Yeung        Amir F. Dana                 2\n",
       "1  Raymond W. Yeung  Simon R. Blackburn                 2\n",
       "2  Raymond W. Yeung      Andreas Winter                 3\n",
       "3  Raymond W. Yeung      Øyvind Ytrehus                 2\n",
       "4  Raymond W. Yeung      Sang-Woon Jeon                 4"
      ]
     },
     "execution_count": 22,
     "metadata": {},
     "output_type": "execute_result"
    }
   ],
   "source": [
    "print(cal_colab_cited_df.shape)\n",
    "cal_colab_cited_df.head()"
   ]
  },
  {
   "cell_type": "code",
   "execution_count": 23,
   "metadata": {},
   "outputs": [
    {
     "data": {
      "text/html": [
       "<div>\n",
       "<style scoped>\n",
       "    .dataframe tbody tr th:only-of-type {\n",
       "        vertical-align: middle;\n",
       "    }\n",
       "\n",
       "    .dataframe tbody tr th {\n",
       "        vertical-align: top;\n",
       "    }\n",
       "\n",
       "    .dataframe thead th {\n",
       "        text-align: right;\n",
       "    }\n",
       "</style>\n",
       "<table border=\"1\" class=\"dataframe\">\n",
       "  <thead>\n",
       "    <tr style=\"text-align: right;\">\n",
       "      <th></th>\n",
       "      <th>source</th>\n",
       "      <th>target</th>\n",
       "      <th>r.collaborations</th>\n",
       "    </tr>\n",
       "  </thead>\n",
       "  <tbody>\n",
       "    <tr>\n",
       "      <th>9802</th>\n",
       "      <td>Steven Weber</td>\n",
       "      <td>Amir K. Khandani</td>\n",
       "      <td>5</td>\n",
       "    </tr>\n",
       "    <tr>\n",
       "      <th>9803</th>\n",
       "      <td>Steven Weber</td>\n",
       "      <td>Chun-Hung Liu</td>\n",
       "      <td>3</td>\n",
       "    </tr>\n",
       "    <tr>\n",
       "      <th>9804</th>\n",
       "      <td>Steven Weber</td>\n",
       "      <td>Radhika Gowaikar</td>\n",
       "      <td>2</td>\n",
       "    </tr>\n",
       "    <tr>\n",
       "      <th>9805</th>\n",
       "      <td>Steven Weber</td>\n",
       "      <td>Giovanni Luca Torrisi</td>\n",
       "      <td>2</td>\n",
       "    </tr>\n",
       "    <tr>\n",
       "      <th>9806</th>\n",
       "      <td>Steven Weber</td>\n",
       "      <td>Junse Lee</td>\n",
       "      <td>2</td>\n",
       "    </tr>\n",
       "    <tr>\n",
       "      <th>9807</th>\n",
       "      <td>Steven Weber</td>\n",
       "      <td>Xiangying Yang</td>\n",
       "      <td>3</td>\n",
       "    </tr>\n",
       "    <tr>\n",
       "      <th>9808</th>\n",
       "      <td>Steven Weber</td>\n",
       "      <td>François Baccelli</td>\n",
       "      <td>2</td>\n",
       "    </tr>\n",
       "    <tr>\n",
       "      <th>9809</th>\n",
       "      <td>Steven Weber</td>\n",
       "      <td>Rahul Vaze</td>\n",
       "      <td>2</td>\n",
       "    </tr>\n",
       "    <tr>\n",
       "      <th>9810</th>\n",
       "      <td>Steven Weber</td>\n",
       "      <td>Gustavo de Veciana</td>\n",
       "      <td>2</td>\n",
       "    </tr>\n",
       "    <tr>\n",
       "      <th>9811</th>\n",
       "      <td>Steven Weber</td>\n",
       "      <td>Abolfazl S. Motahari</td>\n",
       "      <td>2</td>\n",
       "    </tr>\n",
       "    <tr>\n",
       "      <th>9812</th>\n",
       "      <td>Steven Weber</td>\n",
       "      <td>G. de Veciana</td>\n",
       "      <td>3</td>\n",
       "    </tr>\n",
       "    <tr>\n",
       "      <th>9813</th>\n",
       "      <td>Steven Weber</td>\n",
       "      <td>Nihar Jindal</td>\n",
       "      <td>2</td>\n",
       "    </tr>\n",
       "    <tr>\n",
       "      <th>9814</th>\n",
       "      <td>Steven Weber</td>\n",
       "      <td>Dongning Guo</td>\n",
       "      <td>3</td>\n",
       "    </tr>\n",
       "    <tr>\n",
       "      <th>9815</th>\n",
       "      <td>Steven Weber</td>\n",
       "      <td>Masoud Ebrahimi</td>\n",
       "      <td>2</td>\n",
       "    </tr>\n",
       "    <tr>\n",
       "      <th>9816</th>\n",
       "      <td>Steven Weber</td>\n",
       "      <td>Radha Krishna Ganti</td>\n",
       "      <td>7</td>\n",
       "    </tr>\n",
       "    <tr>\n",
       "      <th>9817</th>\n",
       "      <td>Steven Weber</td>\n",
       "      <td>Aaron B. Wagner</td>\n",
       "      <td>2</td>\n",
       "    </tr>\n",
       "    <tr>\n",
       "      <th>9818</th>\n",
       "      <td>Steven Weber</td>\n",
       "      <td>John MacLaren Walsh</td>\n",
       "      <td>2</td>\n",
       "    </tr>\n",
       "    <tr>\n",
       "      <th>9819</th>\n",
       "      <td>Steven Weber</td>\n",
       "      <td>Ebad Ahmed</td>\n",
       "      <td>2</td>\n",
       "    </tr>\n",
       "    <tr>\n",
       "      <th>9820</th>\n",
       "      <td>Steven Weber</td>\n",
       "      <td>Ahmad AlAmmouri</td>\n",
       "      <td>2</td>\n",
       "    </tr>\n",
       "    <tr>\n",
       "      <th>9821</th>\n",
       "      <td>Steven Weber</td>\n",
       "      <td>Kaibin Huang</td>\n",
       "      <td>8</td>\n",
       "    </tr>\n",
       "    <tr>\n",
       "      <th>9822</th>\n",
       "      <td>Steven Weber</td>\n",
       "      <td>Namyoon Lee</td>\n",
       "      <td>5</td>\n",
       "    </tr>\n",
       "    <tr>\n",
       "      <th>9823</th>\n",
       "      <td>Steven Weber</td>\n",
       "      <td>Bartlomiej Blaszczyszyn</td>\n",
       "      <td>2</td>\n",
       "    </tr>\n",
       "    <tr>\n",
       "      <th>9824</th>\n",
       "      <td>Steven Weber</td>\n",
       "      <td>Matthew R. McKay</td>\n",
       "      <td>2</td>\n",
       "    </tr>\n",
       "    <tr>\n",
       "      <th>9825</th>\n",
       "      <td>Steven Weber</td>\n",
       "      <td>Yuchul Kim</td>\n",
       "      <td>2</td>\n",
       "    </tr>\n",
       "    <tr>\n",
       "      <th>9826</th>\n",
       "      <td>Steven Weber</td>\n",
       "      <td>Jeffrey G. Andrews</td>\n",
       "      <td>3</td>\n",
       "    </tr>\n",
       "    <tr>\n",
       "      <th>9827</th>\n",
       "      <td>Steven Weber</td>\n",
       "      <td>Emilio Leonardi</td>\n",
       "      <td>2</td>\n",
       "    </tr>\n",
       "    <tr>\n",
       "      <th>9828</th>\n",
       "      <td>Steven Weber</td>\n",
       "      <td>Robert W. Heath</td>\n",
       "      <td>8</td>\n",
       "    </tr>\n",
       "    <tr>\n",
       "      <th>9829</th>\n",
       "      <td>Steven Weber</td>\n",
       "      <td>Yuxin Chen</td>\n",
       "      <td>3</td>\n",
       "    </tr>\n",
       "    <tr>\n",
       "      <th>9830</th>\n",
       "      <td>Steven Weber</td>\n",
       "      <td>Bertrand M. Hochwald</td>\n",
       "      <td>2</td>\n",
       "    </tr>\n",
       "    <tr>\n",
       "      <th>9831</th>\n",
       "      <td>Steven Weber</td>\n",
       "      <td>Raymond Hall Yip Louie</td>\n",
       "      <td>2</td>\n",
       "    </tr>\n",
       "    <tr>\n",
       "      <th>9832</th>\n",
       "      <td>Steven Weber</td>\n",
       "      <td>Iain B. Collings</td>\n",
       "      <td>2</td>\n",
       "    </tr>\n",
       "  </tbody>\n",
       "</table>\n",
       "</div>"
      ],
      "text/plain": [
       "            source                   target  r.collaborations\n",
       "9802  Steven Weber         Amir K. Khandani                 5\n",
       "9803  Steven Weber            Chun-Hung Liu                 3\n",
       "9804  Steven Weber         Radhika Gowaikar                 2\n",
       "9805  Steven Weber    Giovanni Luca Torrisi                 2\n",
       "9806  Steven Weber                Junse Lee                 2\n",
       "9807  Steven Weber           Xiangying Yang                 3\n",
       "9808  Steven Weber        François Baccelli                 2\n",
       "9809  Steven Weber               Rahul Vaze                 2\n",
       "9810  Steven Weber       Gustavo de Veciana                 2\n",
       "9811  Steven Weber     Abolfazl S. Motahari                 2\n",
       "9812  Steven Weber            G. de Veciana                 3\n",
       "9813  Steven Weber             Nihar Jindal                 2\n",
       "9814  Steven Weber             Dongning Guo                 3\n",
       "9815  Steven Weber          Masoud Ebrahimi                 2\n",
       "9816  Steven Weber      Radha Krishna Ganti                 7\n",
       "9817  Steven Weber          Aaron B. Wagner                 2\n",
       "9818  Steven Weber      John MacLaren Walsh                 2\n",
       "9819  Steven Weber               Ebad Ahmed                 2\n",
       "9820  Steven Weber          Ahmad AlAmmouri                 2\n",
       "9821  Steven Weber             Kaibin Huang                 8\n",
       "9822  Steven Weber              Namyoon Lee                 5\n",
       "9823  Steven Weber  Bartlomiej Blaszczyszyn                 2\n",
       "9824  Steven Weber         Matthew R. McKay                 2\n",
       "9825  Steven Weber               Yuchul Kim                 2\n",
       "9826  Steven Weber       Jeffrey G. Andrews                 3\n",
       "9827  Steven Weber          Emilio Leonardi                 2\n",
       "9828  Steven Weber          Robert W. Heath                 8\n",
       "9829  Steven Weber               Yuxin Chen                 3\n",
       "9830  Steven Weber     Bertrand M. Hochwald                 2\n",
       "9831  Steven Weber   Raymond Hall Yip Louie                 2\n",
       "9832  Steven Weber         Iain B. Collings                 2"
      ]
     },
     "execution_count": 23,
     "metadata": {},
     "output_type": "execute_result"
    }
   ],
   "source": [
    "cal_colab_cited_df[cal_colab_cited_df['source'] == 'Steven Weber']"
   ]
  },
  {
   "cell_type": "code",
   "execution_count": 24,
   "metadata": {},
   "outputs": [],
   "source": [
    "# Calculate total collaborations per author (cited)\n",
    "colab_dic_cited = {}\n",
    "for i in range(len(cal_colab_cited_df)):\n",
    "    if dic_authors[cal_colab_cited_df['source'][i]] not in colab_dic_cited.keys():\n",
    "        colab_dic_cited[dic_authors[cal_colab_cited_df['source'][i]]] = cal_colab_cited_df['r.collaborations'][i]\n",
    "    else:\n",
    "        colab_dic_cited[dic_authors[cal_colab_cited_df['source'][i]]] += cal_colab_cited_df['r.collaborations'][i]\n",
    "\n",
    "    if dic_authors[cal_colab_cited_df['target'][i]]  not in colab_dic_cited.keys():\n",
    "        colab_dic_cited[dic_authors[cal_colab_cited_df['target'][i]]] = cal_colab_cited_df['r.collaborations'][i]\n",
    "    else:\n",
    "        colab_dic_cited[dic_authors[cal_colab_cited_df['target'][i]]] += cal_colab_cited_df['r.collaborations'][i]"
   ]
  },
  {
   "cell_type": "code",
   "execution_count": 25,
   "metadata": {},
   "outputs": [
    {
     "name": "stdout",
     "output_type": "stream",
     "text": [
      "8868\n"
     ]
    }
   ],
   "source": [
    "print(len(colab_dic_cited))\n",
    "# colab_dic_direct"
   ]
  },
  {
   "cell_type": "code",
   "execution_count": 26,
   "metadata": {},
   "outputs": [
    {
     "data": {
      "text/plain": [
       "False"
      ]
     },
     "execution_count": 26,
     "metadata": {},
     "output_type": "execute_result"
    }
   ],
   "source": [
    "colab_dic_direct == colab_dic_cited"
   ]
  },
  {
   "cell_type": "code",
   "execution_count": 27,
   "metadata": {},
   "outputs": [],
   "source": [
    "co['source'] = co['source'].apply(lambda x: dic_authors[x])\n",
    "co['target'] = co['target'].apply(lambda x: dic_authors[x])"
   ]
  },
  {
   "cell_type": "code",
   "execution_count": 28,
   "metadata": {},
   "outputs": [],
   "source": [
    "co.head()\n",
    "dff = co\n",
    "del co"
   ]
  },
  {
   "cell_type": "code",
   "execution_count": 29,
   "metadata": {},
   "outputs": [
    {
     "name": "stdout",
     "output_type": "stream",
     "text": [
      "(120775, 2)\n"
     ]
    },
    {
     "data": {
      "text/html": [
       "<div>\n",
       "<style scoped>\n",
       "    .dataframe tbody tr th:only-of-type {\n",
       "        vertical-align: middle;\n",
       "    }\n",
       "\n",
       "    .dataframe tbody tr th {\n",
       "        vertical-align: top;\n",
       "    }\n",
       "\n",
       "    .dataframe thead th {\n",
       "        text-align: right;\n",
       "    }\n",
       "</style>\n",
       "<table border=\"1\" class=\"dataframe\">\n",
       "  <thead>\n",
       "    <tr style=\"text-align: right;\">\n",
       "      <th></th>\n",
       "      <th>source</th>\n",
       "      <th>target</th>\n",
       "    </tr>\n",
       "  </thead>\n",
       "  <tbody>\n",
       "    <tr>\n",
       "      <th>0</th>\n",
       "      <td>0</td>\n",
       "      <td>2</td>\n",
       "    </tr>\n",
       "    <tr>\n",
       "      <th>1</th>\n",
       "      <td>0</td>\n",
       "      <td>1</td>\n",
       "    </tr>\n",
       "    <tr>\n",
       "      <th>2</th>\n",
       "      <td>1</td>\n",
       "      <td>2</td>\n",
       "    </tr>\n",
       "    <tr>\n",
       "      <th>3</th>\n",
       "      <td>2</td>\n",
       "      <td>50962</td>\n",
       "    </tr>\n",
       "    <tr>\n",
       "      <th>4</th>\n",
       "      <td>2</td>\n",
       "      <td>59629</td>\n",
       "    </tr>\n",
       "  </tbody>\n",
       "</table>\n",
       "</div>"
      ],
      "text/plain": [
       "   source  target\n",
       "0       0       2\n",
       "1       0       1\n",
       "2       1       2\n",
       "3       2   50962\n",
       "4       2   59629"
      ]
     },
     "execution_count": 29,
     "metadata": {},
     "output_type": "execute_result"
    }
   ],
   "source": [
    "print(dff.shape)\n",
    "dff.head()"
   ]
  },
  {
   "cell_type": "code",
   "execution_count": 30,
   "metadata": {},
   "outputs": [
    {
     "data": {
      "text/plain": [
       "63799"
      ]
     },
     "execution_count": 30,
     "metadata": {},
     "output_type": "execute_result"
    }
   ],
   "source": [
    "dff['target'].max()"
   ]
  },
  {
   "cell_type": "code",
   "execution_count": 31,
   "metadata": {},
   "outputs": [
    {
     "name": "stdout",
     "output_type": "stream",
     "text": [
      "['f0', 'f1']\n"
     ]
    }
   ],
   "source": [
    "# cora_feature_names = [f\"f{i}\" for i in range(2)]\n",
    "# print(cora_feature_names)"
   ]
  },
  {
   "cell_type": "code",
   "execution_count": 32,
   "metadata": {},
   "outputs": [],
   "source": [
    "cols = ['dir_colabs', 'cited_colabs']\n",
    "idx = [i for i in range(len(dic_authors))]"
   ]
  },
  {
   "cell_type": "code",
   "execution_count": 33,
   "metadata": {},
   "outputs": [],
   "source": [
    "feat = pd.DataFrame(index=idx, columns=cols)"
   ]
  },
  {
   "cell_type": "code",
   "execution_count": 34,
   "metadata": {},
   "outputs": [
    {
     "data": {
      "text/html": [
       "<div>\n",
       "<style scoped>\n",
       "    .dataframe tbody tr th:only-of-type {\n",
       "        vertical-align: middle;\n",
       "    }\n",
       "\n",
       "    .dataframe tbody tr th {\n",
       "        vertical-align: top;\n",
       "    }\n",
       "\n",
       "    .dataframe thead th {\n",
       "        text-align: right;\n",
       "    }\n",
       "</style>\n",
       "<table border=\"1\" class=\"dataframe\">\n",
       "  <thead>\n",
       "    <tr style=\"text-align: right;\">\n",
       "      <th></th>\n",
       "      <th>dir_colabs</th>\n",
       "      <th>cited_colabs</th>\n",
       "    </tr>\n",
       "  </thead>\n",
       "  <tbody>\n",
       "    <tr>\n",
       "      <th>0</th>\n",
       "      <td>0</td>\n",
       "      <td>0</td>\n",
       "    </tr>\n",
       "    <tr>\n",
       "      <th>1</th>\n",
       "      <td>0</td>\n",
       "      <td>0</td>\n",
       "    </tr>\n",
       "    <tr>\n",
       "      <th>2</th>\n",
       "      <td>0</td>\n",
       "      <td>0</td>\n",
       "    </tr>\n",
       "    <tr>\n",
       "      <th>3</th>\n",
       "      <td>0</td>\n",
       "      <td>0</td>\n",
       "    </tr>\n",
       "    <tr>\n",
       "      <th>4</th>\n",
       "      <td>0</td>\n",
       "      <td>0</td>\n",
       "    </tr>\n",
       "  </tbody>\n",
       "</table>\n",
       "</div>"
      ],
      "text/plain": [
       "   dir_colabs  cited_colabs\n",
       "0           0             0\n",
       "1           0             0\n",
       "2           0             0\n",
       "3           0             0\n",
       "4           0             0"
      ]
     },
     "execution_count": 34,
     "metadata": {},
     "output_type": "execute_result"
    }
   ],
   "source": [
    "feat.fillna(0, inplace=True)\n",
    "feat.head()"
   ]
  },
  {
   "cell_type": "code",
   "execution_count": 35,
   "metadata": {},
   "outputs": [
    {
     "data": {
      "text/html": [
       "<div>\n",
       "<style scoped>\n",
       "    .dataframe tbody tr th:only-of-type {\n",
       "        vertical-align: middle;\n",
       "    }\n",
       "\n",
       "    .dataframe tbody tr th {\n",
       "        vertical-align: top;\n",
       "    }\n",
       "\n",
       "    .dataframe thead th {\n",
       "        text-align: right;\n",
       "    }\n",
       "</style>\n",
       "<table border=\"1\" class=\"dataframe\">\n",
       "  <thead>\n",
       "    <tr style=\"text-align: right;\">\n",
       "      <th></th>\n",
       "      <th>dir_colabs</th>\n",
       "      <th>cited_colabs</th>\n",
       "    </tr>\n",
       "  </thead>\n",
       "  <tbody>\n",
       "    <tr>\n",
       "      <th>0</th>\n",
       "      <td>4</td>\n",
       "      <td>0</td>\n",
       "    </tr>\n",
       "    <tr>\n",
       "      <th>1</th>\n",
       "      <td>4</td>\n",
       "      <td>0</td>\n",
       "    </tr>\n",
       "    <tr>\n",
       "      <th>2</th>\n",
       "      <td>16</td>\n",
       "      <td>0</td>\n",
       "    </tr>\n",
       "    <tr>\n",
       "      <th>3</th>\n",
       "      <td>19</td>\n",
       "      <td>0</td>\n",
       "    </tr>\n",
       "    <tr>\n",
       "      <th>4</th>\n",
       "      <td>15</td>\n",
       "      <td>0</td>\n",
       "    </tr>\n",
       "  </tbody>\n",
       "</table>\n",
       "</div>"
      ],
      "text/plain": [
       "   dir_colabs  cited_colabs\n",
       "0           4             0\n",
       "1           4             0\n",
       "2          16             0\n",
       "3          19             0\n",
       "4          15             0"
      ]
     },
     "execution_count": 35,
     "metadata": {},
     "output_type": "execute_result"
    }
   ],
   "source": [
    "for i in range(len(dic_authors)):\n",
    "    if i in colab_dic_direct.keys():\n",
    "        feat['dir_colabs'][i] = colab_dic_direct[i]\n",
    "    else:\n",
    "        feat['dir_colabs'][i] = 0\n",
    "        \n",
    "    if i in colab_dic_cited.keys():\n",
    "        feat['cited_colabs'][i] = colab_dic_cited[i]\n",
    "    else:\n",
    "        feat['cited_colabs'][i] = 0\n",
    "\n",
    "feat.head()"
   ]
  },
  {
   "cell_type": "code",
   "execution_count": 36,
   "metadata": {},
   "outputs": [
    {
     "data": {
      "text/plain": [
       "489"
      ]
     },
     "execution_count": 36,
     "metadata": {},
     "output_type": "execute_result"
    }
   ],
   "source": [
    "len(feat['cited_colabs'].drop_duplicates())"
   ]
  },
  {
   "cell_type": "code",
   "execution_count": 37,
   "metadata": {},
   "outputs": [],
   "source": [
    "# Normalise thee feaatures to feed into the moddel\n",
    "dir_mean = feat['dir_colabs'].mean()\n",
    "dir_max = feat['dir_colabs'].max()\n",
    "dir_min = feat['dir_colabs'].min()\n",
    "\n",
    "cit_mean = feat['cited_colabs'].mean()\n",
    "cit_max = feat['cited_colabs'].max()\n",
    "cit_min = feat['cited_colabs'].min()"
   ]
  },
  {
   "cell_type": "code",
   "execution_count": 38,
   "metadata": {},
   "outputs": [],
   "source": [
    "feat['dir_colabs'] = feat['dir_colabs'].apply(lambda x: ((x - dir_min) / (dir_max - dir_min)))\n",
    "feat['cited_colabs'] = feat['cited_colabs'].apply(lambda x: ((x - cit_min) / (cit_max - cit_min)))"
   ]
  },
  {
   "cell_type": "code",
   "execution_count": 39,
   "metadata": {},
   "outputs": [
    {
     "data": {
      "text/html": [
       "<div>\n",
       "<style scoped>\n",
       "    .dataframe tbody tr th:only-of-type {\n",
       "        vertical-align: middle;\n",
       "    }\n",
       "\n",
       "    .dataframe tbody tr th {\n",
       "        vertical-align: top;\n",
       "    }\n",
       "\n",
       "    .dataframe thead th {\n",
       "        text-align: right;\n",
       "    }\n",
       "</style>\n",
       "<table border=\"1\" class=\"dataframe\">\n",
       "  <thead>\n",
       "    <tr style=\"text-align: right;\">\n",
       "      <th></th>\n",
       "      <th>dir_colabs</th>\n",
       "      <th>cited_colabs</th>\n",
       "    </tr>\n",
       "  </thead>\n",
       "  <tbody>\n",
       "    <tr>\n",
       "      <th>0</th>\n",
       "      <td>0.016667</td>\n",
       "      <td>0.0</td>\n",
       "    </tr>\n",
       "    <tr>\n",
       "      <th>1</th>\n",
       "      <td>0.016667</td>\n",
       "      <td>0.0</td>\n",
       "    </tr>\n",
       "    <tr>\n",
       "      <th>2</th>\n",
       "      <td>0.066667</td>\n",
       "      <td>0.0</td>\n",
       "    </tr>\n",
       "    <tr>\n",
       "      <th>3</th>\n",
       "      <td>0.079167</td>\n",
       "      <td>0.0</td>\n",
       "    </tr>\n",
       "    <tr>\n",
       "      <th>4</th>\n",
       "      <td>0.062500</td>\n",
       "      <td>0.0</td>\n",
       "    </tr>\n",
       "    <tr>\n",
       "      <th>5</th>\n",
       "      <td>0.016667</td>\n",
       "      <td>0.0</td>\n",
       "    </tr>\n",
       "    <tr>\n",
       "      <th>6</th>\n",
       "      <td>0.004167</td>\n",
       "      <td>0.0</td>\n",
       "    </tr>\n",
       "    <tr>\n",
       "      <th>7</th>\n",
       "      <td>0.041667</td>\n",
       "      <td>0.0</td>\n",
       "    </tr>\n",
       "    <tr>\n",
       "      <th>8</th>\n",
       "      <td>0.016667</td>\n",
       "      <td>0.0</td>\n",
       "    </tr>\n",
       "    <tr>\n",
       "      <th>9</th>\n",
       "      <td>0.054167</td>\n",
       "      <td>0.0</td>\n",
       "    </tr>\n",
       "  </tbody>\n",
       "</table>\n",
       "</div>"
      ],
      "text/plain": [
       "   dir_colabs  cited_colabs\n",
       "0    0.016667           0.0\n",
       "1    0.016667           0.0\n",
       "2    0.066667           0.0\n",
       "3    0.079167           0.0\n",
       "4    0.062500           0.0\n",
       "5    0.016667           0.0\n",
       "6    0.004167           0.0\n",
       "7    0.041667           0.0\n",
       "8    0.016667           0.0\n",
       "9    0.054167           0.0"
      ]
     },
     "execution_count": 39,
     "metadata": {},
     "output_type": "execute_result"
    }
   ],
   "source": [
    "feat.head(10)"
   ]
  },
  {
   "cell_type": "code",
   "execution_count": 40,
   "metadata": {},
   "outputs": [],
   "source": [
    "from tqdm import tqdm\n",
    "tqdm.pandas()"
   ]
  },
  {
   "cell_type": "code",
   "execution_count": 41,
   "metadata": {},
   "outputs": [],
   "source": [
    "fos_dff = graph.run(\"\"\"\n",
    "\n",
    "MATCH((n:Author)<-[:AUTHOR]-(a:Article))\n",
    "RETURN n.name as name,apoc.text.join(collect(a.fos),\":\") as fos,apoc.text.join(collect(a.title),\" \") as title\n",
    "ORDER BY n.name\n",
    "\n",
    "\"\"\").to_data_frame()"
   ]
  },
  {
   "cell_type": "code",
   "execution_count": 42,
   "metadata": {},
   "outputs": [
    {
     "data": {
      "text/html": [
       "<div>\n",
       "<style scoped>\n",
       "    .dataframe tbody tr th:only-of-type {\n",
       "        vertical-align: middle;\n",
       "    }\n",
       "\n",
       "    .dataframe tbody tr th {\n",
       "        vertical-align: top;\n",
       "    }\n",
       "\n",
       "    .dataframe thead th {\n",
       "        text-align: right;\n",
       "    }\n",
       "</style>\n",
       "<table border=\"1\" class=\"dataframe\">\n",
       "  <thead>\n",
       "    <tr style=\"text-align: right;\">\n",
       "      <th></th>\n",
       "      <th>name</th>\n",
       "      <th>fos</th>\n",
       "      <th>title</th>\n",
       "    </tr>\n",
       "  </thead>\n",
       "  <tbody>\n",
       "    <tr>\n",
       "      <th>0</th>\n",
       "      <td>A Aart Blokhuis</td>\n",
       "      <td>Discrete mathematics:0.4204095:Combinatorics:0...</td>\n",
       "      <td>Bounds for the size of radar arrays</td>\n",
       "    </tr>\n",
       "    <tr>\n",
       "      <th>1</th>\n",
       "      <td>A Alejandro Montes Garcia</td>\n",
       "      <td>Empirical research:0.471031338:Cluster analysi...</td>\n",
       "      <td>Effects of Evolutionary Linguistics in Text Cl...</td>\n",
       "    </tr>\n",
       "    <tr>\n",
       "      <th>2</th>\n",
       "      <td>A Anne Rozinat</td>\n",
       "      <td>Versa:0.441023469:Business process:0.4714488:T...</td>\n",
       "      <td>Conformance testing : Measuring the fit and ap...</td>\n",
       "    </tr>\n",
       "    <tr>\n",
       "      <th>3</th>\n",
       "      <td>A Arakala</td>\n",
       "      <td>Biometrics:0.4345782:Minutiae:0.700131357:Fing...</td>\n",
       "      <td>Fuzzy extractors for minutiae-based fingerprin...</td>\n",
       "    </tr>\n",
       "    <tr>\n",
       "      <th>4</th>\n",
       "      <td>A Campilho</td>\n",
       "      <td>Image segmentation:0.619028568:Discrete mathem...</td>\n",
       "      <td>Automatic image segmentation using a deformabl...</td>\n",
       "    </tr>\n",
       "  </tbody>\n",
       "</table>\n",
       "</div>"
      ],
      "text/plain": [
       "                        name  \\\n",
       "0            A Aart Blokhuis   \n",
       "1  A Alejandro Montes Garcia   \n",
       "2             A Anne Rozinat   \n",
       "3                  A Arakala   \n",
       "4                 A Campilho   \n",
       "\n",
       "                                                 fos  \\\n",
       "0  Discrete mathematics:0.4204095:Combinatorics:0...   \n",
       "1  Empirical research:0.471031338:Cluster analysi...   \n",
       "2  Versa:0.441023469:Business process:0.4714488:T...   \n",
       "3  Biometrics:0.4345782:Minutiae:0.700131357:Fing...   \n",
       "4  Image segmentation:0.619028568:Discrete mathem...   \n",
       "\n",
       "                                               title  \n",
       "0                Bounds for the size of radar arrays  \n",
       "1  Effects of Evolutionary Linguistics in Text Cl...  \n",
       "2  Conformance testing : Measuring the fit and ap...  \n",
       "3  Fuzzy extractors for minutiae-based fingerprin...  \n",
       "4  Automatic image segmentation using a deformabl...  "
      ]
     },
     "execution_count": 42,
     "metadata": {},
     "output_type": "execute_result"
    }
   ],
   "source": [
    "fos_dff.head(5)"
   ]
  },
  {
   "cell_type": "code",
   "execution_count": 43,
   "metadata": {},
   "outputs": [],
   "source": [
    "def get_d(x):\n",
    "    t = x.split(':')\n",
    "    dict_val={}\n",
    "    for i in range(len(t)):\n",
    "        try:\n",
    "            if(float(t[i])):\n",
    "                if(t[i-1] in dict_val):\n",
    "                    dict_val[t[i-1]].append(t[i])\n",
    "                else:\n",
    "                    dict_val[t[i-1]]=[t[i]]\n",
    "        except:\n",
    "            pass\n",
    "    for i in dict_val:\n",
    "        dict_val[i] = sorted(dict_val[i],reverse=True)\n",
    "    return dict_val"
   ]
  },
  {
   "cell_type": "code",
   "execution_count": 44,
   "metadata": {},
   "outputs": [],
   "source": [
    "fos_dff['key'] = fos_dff['fos'].apply(lambda x: get_d(x))"
   ]
  },
  {
   "cell_type": "code",
   "execution_count": 45,
   "metadata": {},
   "outputs": [
    {
     "data": {
      "text/html": [
       "<div>\n",
       "<style scoped>\n",
       "    .dataframe tbody tr th:only-of-type {\n",
       "        vertical-align: middle;\n",
       "    }\n",
       "\n",
       "    .dataframe tbody tr th {\n",
       "        vertical-align: top;\n",
       "    }\n",
       "\n",
       "    .dataframe thead th {\n",
       "        text-align: right;\n",
       "    }\n",
       "</style>\n",
       "<table border=\"1\" class=\"dataframe\">\n",
       "  <thead>\n",
       "    <tr style=\"text-align: right;\">\n",
       "      <th></th>\n",
       "      <th>name</th>\n",
       "      <th>fos</th>\n",
       "      <th>title</th>\n",
       "      <th>key</th>\n",
       "    </tr>\n",
       "  </thead>\n",
       "  <tbody>\n",
       "    <tr>\n",
       "      <th>0</th>\n",
       "      <td>A Aart Blokhuis</td>\n",
       "      <td>Discrete mathematics:0.4204095:Combinatorics:0...</td>\n",
       "      <td>Bounds for the size of radar arrays</td>\n",
       "      <td>{'Discrete mathematics': ['0.4204095'], 'Combi...</td>\n",
       "    </tr>\n",
       "    <tr>\n",
       "      <th>1</th>\n",
       "      <td>A Alejandro Montes Garcia</td>\n",
       "      <td>Empirical research:0.471031338:Cluster analysi...</td>\n",
       "      <td>Effects of Evolutionary Linguistics in Text Cl...</td>\n",
       "      <td>{'Empirical research': ['0.471031338'], 'Clust...</td>\n",
       "    </tr>\n",
       "    <tr>\n",
       "      <th>2</th>\n",
       "      <td>A Anne Rozinat</td>\n",
       "      <td>Versa:0.441023469:Business process:0.4714488:T...</td>\n",
       "      <td>Conformance testing : Measuring the fit and ap...</td>\n",
       "      <td>{'Versa': ['0.441023469'], 'Business process':...</td>\n",
       "    </tr>\n",
       "    <tr>\n",
       "      <th>3</th>\n",
       "      <td>A Arakala</td>\n",
       "      <td>Biometrics:0.4345782:Minutiae:0.700131357:Fing...</td>\n",
       "      <td>Fuzzy extractors for minutiae-based fingerprin...</td>\n",
       "      <td>{'Biometrics': ['0.4345782'], 'Minutiae': ['0....</td>\n",
       "    </tr>\n",
       "    <tr>\n",
       "      <th>4</th>\n",
       "      <td>A Campilho</td>\n",
       "      <td>Image segmentation:0.619028568:Discrete mathem...</td>\n",
       "      <td>Automatic image segmentation using a deformabl...</td>\n",
       "      <td>{'Image segmentation': ['0.619028568'], 'Discr...</td>\n",
       "    </tr>\n",
       "    <tr>\n",
       "      <th>5</th>\n",
       "      <td>A Hammers</td>\n",
       "      <td>Mutual information:0.406580359:Image segmentat...</td>\n",
       "      <td>Construction and validation of mean shape atla...</td>\n",
       "      <td>{'Mutual information': ['0.406580359'], 'Image...</td>\n",
       "    </tr>\n",
       "    <tr>\n",
       "      <th>6</th>\n",
       "      <td>A Jakoby</td>\n",
       "      <td>Computational physics:0.4558729:Discrete mathe...</td>\n",
       "      <td>A parallel semi-implicit method for 3D nonline...</td>\n",
       "      <td>{'Computational physics': ['0.4558729'], 'Disc...</td>\n",
       "    </tr>\n",
       "    <tr>\n",
       "      <th>7</th>\n",
       "      <td>A Kaptein</td>\n",
       "      <td>Computer engineering:0.460699946:Electronic pr...</td>\n",
       "      <td>A model-based approach providing context-sensi...</td>\n",
       "      <td>{'Computer engineering': ['0.460699946'], 'Ele...</td>\n",
       "    </tr>\n",
       "    <tr>\n",
       "      <th>8</th>\n",
       "      <td>A Leonardis</td>\n",
       "      <td>Image restoration:0.484874457:Initialization:0...</td>\n",
       "      <td>A Physically-Motivated Deformable Model Based ...</td>\n",
       "      <td>{'Image restoration': ['0.484874457'], 'Initia...</td>\n",
       "    </tr>\n",
       "    <tr>\n",
       "      <th>9</th>\n",
       "      <td>A Min Tjoa</td>\n",
       "      <td>Knowledge management:0.457342237:Personalizati...</td>\n",
       "      <td>Towards the use of ontologies for improving us...</td>\n",
       "      <td>{'Knowledge management': ['0.457342237'], 'Per...</td>\n",
       "    </tr>\n",
       "  </tbody>\n",
       "</table>\n",
       "</div>"
      ],
      "text/plain": [
       "                        name  \\\n",
       "0            A Aart Blokhuis   \n",
       "1  A Alejandro Montes Garcia   \n",
       "2             A Anne Rozinat   \n",
       "3                  A Arakala   \n",
       "4                 A Campilho   \n",
       "5                  A Hammers   \n",
       "6                   A Jakoby   \n",
       "7                  A Kaptein   \n",
       "8                A Leonardis   \n",
       "9                 A Min Tjoa   \n",
       "\n",
       "                                                 fos  \\\n",
       "0  Discrete mathematics:0.4204095:Combinatorics:0...   \n",
       "1  Empirical research:0.471031338:Cluster analysi...   \n",
       "2  Versa:0.441023469:Business process:0.4714488:T...   \n",
       "3  Biometrics:0.4345782:Minutiae:0.700131357:Fing...   \n",
       "4  Image segmentation:0.619028568:Discrete mathem...   \n",
       "5  Mutual information:0.406580359:Image segmentat...   \n",
       "6  Computational physics:0.4558729:Discrete mathe...   \n",
       "7  Computer engineering:0.460699946:Electronic pr...   \n",
       "8  Image restoration:0.484874457:Initialization:0...   \n",
       "9  Knowledge management:0.457342237:Personalizati...   \n",
       "\n",
       "                                               title  \\\n",
       "0                Bounds for the size of radar arrays   \n",
       "1  Effects of Evolutionary Linguistics in Text Cl...   \n",
       "2  Conformance testing : Measuring the fit and ap...   \n",
       "3  Fuzzy extractors for minutiae-based fingerprin...   \n",
       "4  Automatic image segmentation using a deformabl...   \n",
       "5  Construction and validation of mean shape atla...   \n",
       "6  A parallel semi-implicit method for 3D nonline...   \n",
       "7  A model-based approach providing context-sensi...   \n",
       "8  A Physically-Motivated Deformable Model Based ...   \n",
       "9  Towards the use of ontologies for improving us...   \n",
       "\n",
       "                                                 key  \n",
       "0  {'Discrete mathematics': ['0.4204095'], 'Combi...  \n",
       "1  {'Empirical research': ['0.471031338'], 'Clust...  \n",
       "2  {'Versa': ['0.441023469'], 'Business process':...  \n",
       "3  {'Biometrics': ['0.4345782'], 'Minutiae': ['0....  \n",
       "4  {'Image segmentation': ['0.619028568'], 'Discr...  \n",
       "5  {'Mutual information': ['0.406580359'], 'Image...  \n",
       "6  {'Computational physics': ['0.4558729'], 'Disc...  \n",
       "7  {'Computer engineering': ['0.460699946'], 'Ele...  \n",
       "8  {'Image restoration': ['0.484874457'], 'Initia...  \n",
       "9  {'Knowledge management': ['0.457342237'], 'Per...  "
      ]
     },
     "execution_count": 45,
     "metadata": {},
     "output_type": "execute_result"
    }
   ],
   "source": [
    "fos_dff.head(10)"
   ]
  },
  {
   "cell_type": "code",
   "execution_count": 46,
   "metadata": {},
   "outputs": [],
   "source": [
    "fos_dff['key'] = fos_dff['key'].apply(lambda x: {k: v for k, v in sorted(x.items(), key=lambda item: item[1],reverse=True)} )"
   ]
  },
  {
   "cell_type": "code",
   "execution_count": 47,
   "metadata": {},
   "outputs": [],
   "source": [
    "def get_ten(x):\n",
    "    y={}\n",
    "    k=list(x.keys())[:10]\n",
    "    for i in k:\n",
    "        y[i]=x[i]    \n",
    "    return y\n",
    "\n",
    "fos_dff['sortedkey'] = fos_dff['key'].apply(lambda x:get_ten(x))"
   ]
  },
  {
   "cell_type": "code",
   "execution_count": 48,
   "metadata": {},
   "outputs": [
    {
     "data": {
      "text/html": [
       "<div>\n",
       "<style scoped>\n",
       "    .dataframe tbody tr th:only-of-type {\n",
       "        vertical-align: middle;\n",
       "    }\n",
       "\n",
       "    .dataframe tbody tr th {\n",
       "        vertical-align: top;\n",
       "    }\n",
       "\n",
       "    .dataframe thead th {\n",
       "        text-align: right;\n",
       "    }\n",
       "</style>\n",
       "<table border=\"1\" class=\"dataframe\">\n",
       "  <thead>\n",
       "    <tr style=\"text-align: right;\">\n",
       "      <th></th>\n",
       "      <th>name</th>\n",
       "      <th>fos</th>\n",
       "      <th>title</th>\n",
       "      <th>key</th>\n",
       "      <th>sortedkey</th>\n",
       "    </tr>\n",
       "  </thead>\n",
       "  <tbody>\n",
       "    <tr>\n",
       "      <th>0</th>\n",
       "      <td>A Aart Blokhuis</td>\n",
       "      <td>Discrete mathematics:0.4204095:Combinatorics:0...</td>\n",
       "      <td>Bounds for the size of radar arrays</td>\n",
       "      <td>{'Matrix (mathematics)': ['0.4815577'], 'Radar...</td>\n",
       "      <td>{'Matrix (mathematics)': ['0.4815577'], 'Radar...</td>\n",
       "    </tr>\n",
       "    <tr>\n",
       "      <th>1</th>\n",
       "      <td>A Alejandro Montes Garcia</td>\n",
       "      <td>Empirical research:0.471031338:Cluster analysi...</td>\n",
       "      <td>Effects of Evolutionary Linguistics in Text Cl...</td>\n",
       "      <td>{'Cluster analysis': ['0.547445059'], 'Evoluti...</td>\n",
       "      <td>{'Cluster analysis': ['0.547445059'], 'Evoluti...</td>\n",
       "    </tr>\n",
       "    <tr>\n",
       "      <th>2</th>\n",
       "      <td>A Anne Rozinat</td>\n",
       "      <td>Versa:0.441023469:Business process:0.4714488:T...</td>\n",
       "      <td>Conformance testing : Measuring the fit and ap...</td>\n",
       "      <td>{'Transaction log': ['0.555015'], 'Conformance...</td>\n",
       "      <td>{'Transaction log': ['0.555015'], 'Conformance...</td>\n",
       "    </tr>\n",
       "    <tr>\n",
       "      <th>3</th>\n",
       "      <td>A Arakala</td>\n",
       "      <td>Biometrics:0.4345782:Minutiae:0.700131357:Fing...</td>\n",
       "      <td>Fuzzy extractors for minutiae-based fingerprin...</td>\n",
       "      <td>{'Minutiae': ['0.700131357'], 'Fingerprint rec...</td>\n",
       "      <td>{'Minutiae': ['0.700131357'], 'Fingerprint rec...</td>\n",
       "    </tr>\n",
       "    <tr>\n",
       "      <th>4</th>\n",
       "      <td>A Campilho</td>\n",
       "      <td>Image segmentation:0.619028568:Discrete mathem...</td>\n",
       "      <td>Automatic image segmentation using a deformabl...</td>\n",
       "      <td>{'Image segmentation': ['0.619028568'], 'Class...</td>\n",
       "      <td>{'Image segmentation': ['0.619028568'], 'Class...</td>\n",
       "    </tr>\n",
       "    <tr>\n",
       "      <th>5</th>\n",
       "      <td>A Hammers</td>\n",
       "      <td>Mutual information:0.406580359:Image segmentat...</td>\n",
       "      <td>Construction and validation of mean shape atla...</td>\n",
       "      <td>{'Image segmentation': ['0.601378739'], 'Compu...</td>\n",
       "      <td>{'Image segmentation': ['0.601378739'], 'Compu...</td>\n",
       "    </tr>\n",
       "    <tr>\n",
       "      <th>6</th>\n",
       "      <td>A Jakoby</td>\n",
       "      <td>Computational physics:0.4558729:Discrete mathe...</td>\n",
       "      <td>A parallel semi-implicit method for 3D nonline...</td>\n",
       "      <td>{'Computational magnetohydrodynamics': ['0.684...</td>\n",
       "      <td>{'Computational magnetohydrodynamics': ['0.684...</td>\n",
       "    </tr>\n",
       "    <tr>\n",
       "      <th>7</th>\n",
       "      <td>A Kaptein</td>\n",
       "      <td>Computer engineering:0.460699946:Electronic pr...</td>\n",
       "      <td>A model-based approach providing context-sensi...</td>\n",
       "      <td>{'Electronic program guide': ['0.55619055'], '...</td>\n",
       "      <td>{'Electronic program guide': ['0.55619055'], '...</td>\n",
       "    </tr>\n",
       "    <tr>\n",
       "      <th>8</th>\n",
       "      <td>A Leonardis</td>\n",
       "      <td>Image restoration:0.484874457:Initialization:0...</td>\n",
       "      <td>A Physically-Motivated Deformable Model Based ...</td>\n",
       "      <td>{'Watershed': ['0.5677321'], 'Image segmentati...</td>\n",
       "      <td>{'Watershed': ['0.5677321'], 'Image segmentati...</td>\n",
       "    </tr>\n",
       "    <tr>\n",
       "      <th>9</th>\n",
       "      <td>A Min Tjoa</td>\n",
       "      <td>Knowledge management:0.457342237:Personalizati...</td>\n",
       "      <td>Towards the use of ontologies for improving us...</td>\n",
       "      <td>{'Efficient XML Interchange': ['0.716740966'],...</td>\n",
       "      <td>{'Efficient XML Interchange': ['0.716740966'],...</td>\n",
       "    </tr>\n",
       "  </tbody>\n",
       "</table>\n",
       "</div>"
      ],
      "text/plain": [
       "                        name  \\\n",
       "0            A Aart Blokhuis   \n",
       "1  A Alejandro Montes Garcia   \n",
       "2             A Anne Rozinat   \n",
       "3                  A Arakala   \n",
       "4                 A Campilho   \n",
       "5                  A Hammers   \n",
       "6                   A Jakoby   \n",
       "7                  A Kaptein   \n",
       "8                A Leonardis   \n",
       "9                 A Min Tjoa   \n",
       "\n",
       "                                                 fos  \\\n",
       "0  Discrete mathematics:0.4204095:Combinatorics:0...   \n",
       "1  Empirical research:0.471031338:Cluster analysi...   \n",
       "2  Versa:0.441023469:Business process:0.4714488:T...   \n",
       "3  Biometrics:0.4345782:Minutiae:0.700131357:Fing...   \n",
       "4  Image segmentation:0.619028568:Discrete mathem...   \n",
       "5  Mutual information:0.406580359:Image segmentat...   \n",
       "6  Computational physics:0.4558729:Discrete mathe...   \n",
       "7  Computer engineering:0.460699946:Electronic pr...   \n",
       "8  Image restoration:0.484874457:Initialization:0...   \n",
       "9  Knowledge management:0.457342237:Personalizati...   \n",
       "\n",
       "                                               title  \\\n",
       "0                Bounds for the size of radar arrays   \n",
       "1  Effects of Evolutionary Linguistics in Text Cl...   \n",
       "2  Conformance testing : Measuring the fit and ap...   \n",
       "3  Fuzzy extractors for minutiae-based fingerprin...   \n",
       "4  Automatic image segmentation using a deformabl...   \n",
       "5  Construction and validation of mean shape atla...   \n",
       "6  A parallel semi-implicit method for 3D nonline...   \n",
       "7  A model-based approach providing context-sensi...   \n",
       "8  A Physically-Motivated Deformable Model Based ...   \n",
       "9  Towards the use of ontologies for improving us...   \n",
       "\n",
       "                                                 key  \\\n",
       "0  {'Matrix (mathematics)': ['0.4815577'], 'Radar...   \n",
       "1  {'Cluster analysis': ['0.547445059'], 'Evoluti...   \n",
       "2  {'Transaction log': ['0.555015'], 'Conformance...   \n",
       "3  {'Minutiae': ['0.700131357'], 'Fingerprint rec...   \n",
       "4  {'Image segmentation': ['0.619028568'], 'Class...   \n",
       "5  {'Image segmentation': ['0.601378739'], 'Compu...   \n",
       "6  {'Computational magnetohydrodynamics': ['0.684...   \n",
       "7  {'Electronic program guide': ['0.55619055'], '...   \n",
       "8  {'Watershed': ['0.5677321'], 'Image segmentati...   \n",
       "9  {'Efficient XML Interchange': ['0.716740966'],...   \n",
       "\n",
       "                                           sortedkey  \n",
       "0  {'Matrix (mathematics)': ['0.4815577'], 'Radar...  \n",
       "1  {'Cluster analysis': ['0.547445059'], 'Evoluti...  \n",
       "2  {'Transaction log': ['0.555015'], 'Conformance...  \n",
       "3  {'Minutiae': ['0.700131357'], 'Fingerprint rec...  \n",
       "4  {'Image segmentation': ['0.619028568'], 'Class...  \n",
       "5  {'Image segmentation': ['0.601378739'], 'Compu...  \n",
       "6  {'Computational magnetohydrodynamics': ['0.684...  \n",
       "7  {'Electronic program guide': ['0.55619055'], '...  \n",
       "8  {'Watershed': ['0.5677321'], 'Image segmentati...  \n",
       "9  {'Efficient XML Interchange': ['0.716740966'],...  "
      ]
     },
     "execution_count": 48,
     "metadata": {},
     "output_type": "execute_result"
    }
   ],
   "source": [
    "fos_dff.head(10)"
   ]
  },
  {
   "cell_type": "code",
   "execution_count": 49,
   "metadata": {},
   "outputs": [
    {
     "data": {
      "text/plain": [
       "dict_keys(['Matrix (mathematics)', 'Radar', 'Inequality', 'Combinatorics', 'Discrete mathematics', 'Mathematics'])"
      ]
     },
     "execution_count": 49,
     "metadata": {},
     "output_type": "execute_result"
    }
   ],
   "source": [
    "fos_dff['sortedkey'][0].keys()"
   ]
  },
  {
   "cell_type": "code",
   "execution_count": 50,
   "metadata": {},
   "outputs": [],
   "source": [
    "kk = set()\n",
    "for i in range(len(fos_dff)):\n",
    "    for k in fos_dff['sortedkey'][i].keys():\n",
    "        kk.add(k)"
   ]
  },
  {
   "cell_type": "code",
   "execution_count": 51,
   "metadata": {},
   "outputs": [
    {
     "data": {
      "text/plain": [
       "17506"
      ]
     },
     "execution_count": 51,
     "metadata": {},
     "output_type": "execute_result"
    }
   ],
   "source": [
    "len(kk)"
   ]
  },
  {
   "cell_type": "code",
   "execution_count": 52,
   "metadata": {},
   "outputs": [],
   "source": [
    "kkk = list()\n",
    "for i in range(len(fos_dff)):\n",
    "    for k in fos_dff['sortedkey'][i].keys():\n",
    "        kkk.append(k)"
   ]
  },
  {
   "cell_type": "code",
   "execution_count": 53,
   "metadata": {},
   "outputs": [
    {
     "name": "stdout",
     "output_type": "stream",
     "text": [
      "587864\n",
      "17506\n"
     ]
    }
   ],
   "source": [
    "print(len(kkk))\n",
    "print(len(set(kkk)))"
   ]
  },
  {
   "cell_type": "code",
   "execution_count": 54,
   "metadata": {},
   "outputs": [],
   "source": [
    "fos_dff['FOS_BEST'] = fos_dff['sortedkey'].apply(lambda x: list(x.keys()))"
   ]
  },
  {
   "cell_type": "code",
   "execution_count": 55,
   "metadata": {},
   "outputs": [
    {
     "name": "stdout",
     "output_type": "stream",
     "text": [
      "['Matrix (mathematics)', 'Radar', 'Inequality', 'Combinatorics', 'Discrete mathematics', 'Mathematics']\n",
      "['Pattern matching', 'Subsequence', 'Gram', 'Theoretical computer science', 'Discrete mathematics', 'Computer science']\n"
     ]
    }
   ],
   "source": [
    "print(fos_dff['FOS_BEST'][0])\n",
    "print(fos_dff['FOS_BEST'][63798])"
   ]
  },
  {
   "cell_type": "code",
   "execution_count": 56,
   "metadata": {},
   "outputs": [
    {
     "data": {
      "text/plain": [
       "0        [Matrix (mathematics), Radar, Inequality, Comb...\n",
       "1        [Cluster analysis, Evolutionary linguistics, E...\n",
       "2        [Transaction log, Conformance testing, Referen...\n",
       "3        [Minutiae, Fingerprint recognition, Authentica...\n",
       "4        [Image segmentation, Classical electromagnetis...\n",
       "                               ...                        \n",
       "63795    [Pattern matching, Subsequence, Gram, Theoreti...\n",
       "63796    [Delimiter, HTML, XML, Markup language, Natura...\n",
       "63797    [Learning environment, Synchronous learning, E...\n",
       "63798    [Pattern matching, Subsequence, Gram, Theoreti...\n",
       "63799    [Distributed computing, Computer science, Spec...\n",
       "Name: FOS_BEST, Length: 63800, dtype: object"
      ]
     },
     "execution_count": 56,
     "metadata": {},
     "output_type": "execute_result"
    }
   ],
   "source": [
    "# Practice\n",
    "fos_dff['FOS_BEST']"
   ]
  },
  {
   "cell_type": "code",
   "execution_count": 57,
   "metadata": {},
   "outputs": [
    {
     "name": "stdout",
     "output_type": "stream",
     "text": [
      "63800\n"
     ]
    }
   ],
   "source": [
    "fos_multi_list = []\n",
    "for i in range(len(fos_dff)):\n",
    "  fos_multi_list.append(fos_dff['FOS_BEST'][i])\n",
    "\n",
    "print(len(fos_multi_list))"
   ]
  },
  {
   "cell_type": "code",
   "execution_count": 58,
   "metadata": {},
   "outputs": [
    {
     "name": "stdout",
     "output_type": "stream",
     "text": [
      "['Watershed', 'Image segmentation', 'Image processing', 'Image restoration', 'Fluid dynamics', 'Mathematical morphology', 'Partial differential equation', 'Computer vision', 'Initialization', 'Computer science']\n"
     ]
    }
   ],
   "source": [
    "print(fos_multi_list[10])"
   ]
  },
  {
   "cell_type": "code",
   "execution_count": null,
   "metadata": {},
   "outputs": [],
   "source": []
  },
  {
   "cell_type": "code",
   "execution_count": null,
   "metadata": {},
   "outputs": [],
   "source": [
    "print(kk)"
   ]
  },
  {
   "cell_type": "code",
   "execution_count": null,
   "metadata": {},
   "outputs": [],
   "source": [
    "fos_list = list(kk)\n",
    "print(fos_list)"
   ]
  },
  {
   "cell_type": "code",
   "execution_count": null,
   "metadata": {},
   "outputs": [],
   "source": []
  },
  {
   "cell_type": "markdown",
   "metadata": {},
   "source": [
    "### LDA used here, the part to train the LDA model has been commented and the saved model is loaded. Use accordingly"
   ]
  },
  {
   "cell_type": "code",
   "execution_count": 61,
   "metadata": {},
   "outputs": [
    {
     "name": "stderr",
     "output_type": "stream",
     "text": [
      "d:\\env\\env\\lib\\site-packages\\gensim\\similarities\\__init__.py:15: UserWarning: The gensim.similarities.levenshtein submodule is disabled, because the optional Levenshtein package <https://pypi.org/project/python-Levenshtein/> is unavailable. Install Levenhstein (e.g. `pip install python-Levenshtein`) to suppress this warning.\n",
      "  warnings.warn(msg)\n"
     ]
    }
   ],
   "source": [
    "# LDA Logic ahead\n",
    "import pandas as pd\n",
    "import numpy as np\n",
    "\n",
    "import re\n",
    "import string\n",
    "\n",
    "import spacy\n",
    "\n",
    "import gensim\n",
    "from gensim import corpora\n",
    "\n",
    "# libraries for visualization\n",
    "import pyLDAvis\n",
    "import pyLDAvis.gensim\n",
    "import matplotlib.pyplot as plt\n",
    "import seaborn as sns\n",
    "%matplotlib inline"
   ]
  },
  {
   "cell_type": "code",
   "execution_count": 62,
   "metadata": {},
   "outputs": [],
   "source": [
    "dictionary = corpora.Dictionary(fos_multi_list)\n",
    "doc_term_matrix = [dictionary.doc2bow(rev) for rev in fos_multi_list]"
   ]
  },
  {
   "cell_type": "code",
   "execution_count": 63,
   "metadata": {},
   "outputs": [],
   "source": [
    "# logging\n",
    "import logging\n",
    "logging.basicConfig(format='%(asctime)s : %(levelname)s : %(message)s', level=logging.INFO)"
   ]
  },
  {
   "cell_type": "code",
   "execution_count": 64,
   "metadata": {
    "scrolled": true
   },
   "outputs": [
    {
     "name": "stderr",
     "output_type": "stream",
     "text": [
      "2021-04-21 00:02:05,459 : INFO : loading LdaModel object from D:\\notebooks\\lp\\lda\\model\\lda_model.model\n",
      "2021-04-21 00:02:05,462 : INFO : loading expElogbeta from D:\\notebooks\\lp\\lda\\model\\lda_model.model.expElogbeta.npy with mmap=None\n",
      "2021-04-21 00:02:05,474 : INFO : setting ignored attribute dispatcher to None\n",
      "2021-04-21 00:02:05,475 : INFO : setting ignored attribute id2word to None\n",
      "2021-04-21 00:02:05,476 : INFO : setting ignored attribute state to None\n",
      "2021-04-21 00:02:05,477 : INFO : LdaMulticore lifecycle event {'fname': 'D:\\\\notebooks\\\\lp\\\\lda\\\\model\\\\lda_model.model', 'datetime': '2021-04-21T00:02:05.477316', 'gensim': '4.0.1', 'python': '3.8.8 (tags/v3.8.8:024d805, Feb 19 2021, 13:18:16) [MSC v.1928 64 bit (AMD64)]', 'platform': 'Windows-10-10.0.18362-SP0', 'event': 'loaded'}\n",
      "2021-04-21 00:02:05,478 : INFO : loading LdaState object from D:\\notebooks\\lp\\lda\\model\\lda_model.model.state\n",
      "2021-04-21 00:02:05,488 : INFO : LdaState lifecycle event {'fname': 'D:\\\\notebooks\\\\lp\\\\lda\\\\model\\\\lda_model.model.state', 'datetime': '2021-04-21T00:02:05.488285', 'gensim': '4.0.1', 'python': '3.8.8 (tags/v3.8.8:024d805, Feb 19 2021, 13:18:16) [MSC v.1928 64 bit (AMD64)]', 'platform': 'Windows-10-10.0.18362-SP0', 'event': 'loaded'}\n"
     ]
    }
   ],
   "source": [
    "# Creating the object for LDA model using gensim library\n",
    "LDA = gensim.models.ldamulticore.LdaMulticore\n",
    "\n",
    "# Build LDA model\n",
    "# lda_model = LDA(corpus=doc_term_matrix, id2word=dictionary, num_topics=80, random_state=100, passes=50,iterations=100)\n",
    "lda_model = gensim.models.ldamodel.LdaModel.load(r\"D:\\notebooks\\lp\\lda\\model\\lda_model.model\")"
   ]
  },
  {
   "cell_type": "code",
   "execution_count": 65,
   "metadata": {},
   "outputs": [
    {
     "name": "stdout",
     "output_type": "stream",
     "text": [
      "[(0, 0.028158896), (1, 0.040708113), (3, 0.17056112), (4, 0.1798237), (5, 0.037887566), (6, 0.013244342), (7, 0.023258457), (9, 0.06192701), (11, 0.022470525), (14, 0.028821277), (16, 0.08706847), (18, 0.04059214), (19, 0.03604385), (21, 0.11183), (27, 0.17696337), (28, 0.02876005), (29, 0.06822182), (30, 0.09487047), (31, 0.043318216), (32, 0.07206491), (35, 0.06251461), (37, 0.09991048), (38, 0.10810062), (39, 0.07220449), (42, 0.022579134), (43, 0.03341099), (44, 0.047455188), (45, 0.10439112), (47, 0.07495602), (48, 0.012446683), (51, 0.012872744), (53, 0.012565144), (54, 0.011239795), (56, 0.12525532), (57, 0.0117244), (58, 0.07028545), (59, 0.024616295), (60, 0.056122687), (63, 0.016313113), (65, 0.015773227), (68, 0.052301068), (69, 0.0873502), (70, 0.042898532), (72, 0.10608263), (73, 0.033564553), (74, 0.11042948), (75, 0.021631734), (76, 0.027278643), (78, 0.05796712), (83, 0.030996077), (84, 0.024341611), (85, 0.09696724), (86, 0.11940768), (89, 0.016423795), (90, 0.050899148), (92, 0.021438356), (93, 0.093584344), (94, 0.04845838), (95, 0.015857993), (98, 0.05117334), (99, 0.056282625), (100, 0.030602185), (104, 0.019397607), (107, 0.17094772), (108, 0.17130978), (109, 0.011670118), (110, 0.043013647), (112, 0.2237222), (113, 0.1856334), (114, 0.06806273), (116, 0.013951621), (118, 0.14543131)]\n"
     ]
    }
   ],
   "source": [
    "print(lda_model.get_term_topics('Computer science'))"
   ]
  },
  {
   "cell_type": "code",
   "execution_count": 66,
   "metadata": {},
   "outputs": [
    {
     "name": "stderr",
     "output_type": "stream",
     "text": [
      "2021-04-21 00:02:05,515 : INFO : topic #0 (0.008): 0.476*\"Architecture\" + 0.160*\"Systems architecture\" + 0.062*\"Distributed computing\" + 0.053*\"Internet Protocol\" + 0.049*\"Information integration\" + 0.028*\"Computer science\" + 0.025*\"Image resolution\" + 0.022*\"Packet switching\" + 0.020*\"Code generation\" + 0.018*\"Complete information\"\n",
      "2021-04-21 00:02:05,517 : INFO : topic #1 (0.008): 0.166*\"Integer\" + 0.148*\"Heuristic\" + 0.086*\"Workload\" + 0.070*\"Adaptive system\" + 0.043*\"Automatic summarization\" + 0.041*\"Computer science\" + 0.040*\"Tuple\" + 0.030*\"Enumeration\" + 0.029*\"Hadamard transform\" + 0.025*\"Roaming\"\n",
      "2021-04-21 00:02:05,518 : INFO : topic #2 (0.008): 0.066*\"Phenomenon\" + 0.065*\"Web server\" + 0.041*\"Quantum convolutional code\" + 0.041*\"Quantum computer\" + 0.037*\"Multi-objective optimization\" + 0.036*\"Flow network\" + 0.034*\"Quantum algorithm\" + 0.031*\"Robot control\" + 0.030*\"Markov decision process\" + 0.029*\"Quantum information\"\n",
      "2021-04-21 00:02:05,519 : INFO : topic #3 (0.008): 0.179*\"Artificial neural network\" + 0.171*\"Computer science\" + 0.132*\"Machine learning\" + 0.124*\"Artificial intelligence\" + 0.097*\"Distributed computing\" + 0.089*\"Genetic algorithm\" + 0.082*\"Evolutionary algorithm\" + 0.018*\"Electronic engineering\" + 0.017*\"Telecommunications\" + 0.013*\"Genetic programming\"\n",
      "2021-04-21 00:02:05,522 : INFO : topic #4 (0.008): 0.292*\"Computer vision\" + 0.252*\"Image processing\" + 0.180*\"Computer science\" + 0.045*\"Facial recognition system\" + 0.031*\"Principal component analysis\" + 0.022*\"Biometrics\" + 0.022*\"Feature extraction\" + 0.018*\"Invariant (mathematics)\" + 0.018*\"Face detection\" + 0.012*\"Three-dimensional face recognition\"\n",
      "2021-04-21 00:02:05,523 : INFO : topic #5 (0.008): 0.395*\"Discrete mathematics\" + 0.284*\"Mathematics\" + 0.133*\"Combinatorics\" + 0.038*\"Computer science\" + 0.034*\"Bounded function\" + 0.022*\"Topology\" + 0.014*\"Mathematical analysis\" + 0.010*\"Bipartite graph\" + 0.008*\"Binary logarithm\" + 0.008*\"Disjoint sets\"\n",
      "2021-04-21 00:02:05,525 : INFO : topic #6 (0.008): 0.212*\"Statistics\" + 0.102*\"Estimator\" + 0.099*\"Approximation algorithm\" + 0.099*\"Stochastic process\" + 0.088*\"Estimation theory\" + 0.063*\"Greedy algorithm\" + 0.049*\"System identification\" + 0.038*\"Econometrics\" + 0.026*\"Self-organization\" + 0.026*\"Spite\"\n",
      "2021-04-21 00:02:05,526 : INFO : topic #7 (0.008): 0.141*\"Petri net\" + 0.075*\"Directed graph\" + 0.061*\"Service quality\" + 0.050*\"Java concurrency\" + 0.043*\"Directed acyclic graph\" + 0.042*\"Vocabulary\" + 0.041*\"Discriminative model\" + 0.041*\"strictfp\" + 0.040*\"Timed automaton\" + 0.037*\"Static web page\"\n",
      "2021-04-21 00:02:05,528 : INFO : topic #8 (0.008): 0.125*\"Expert system\" + 0.092*\"Abstraction\" + 0.088*\"Real-time operating system\" + 0.079*\"Hamming distance\" + 0.070*\"Numerical analysis\" + 0.052*\"Hamming(7,4)\" + 0.037*\"Hamming bound\" + 0.035*\"Lossless compression\" + 0.034*\"Monotonic function\" + 0.028*\"Amplitude\"\n",
      "2021-04-21 00:02:05,529 : INFO : topic #9 (0.008): 0.265*\"Software development\" + 0.194*\"Systems engineering\" + 0.062*\"Computer science\" + 0.059*\"Distributed computing\" + 0.042*\"Social software engineering\" + 0.035*\"Package development process\" + 0.035*\"Software construction\" + 0.028*\"Software Engineering Process Group\" + 0.025*\"Project management\" + 0.024*\"Software design description\"\n",
      "2021-04-21 00:02:05,531 : INFO : topic #10 (0.008): 0.154*\"Ontology (information science)\" + 0.077*\"Fuzzy logic\" + 0.068*\"Ranging\" + 0.064*\"Covariance\" + 0.064*\"Fuzzy set\" + 0.059*\"Software quality\" + 0.049*\"Soft computing\" + 0.048*\"Process ontology\" + 0.048*\"Membership function\" + 0.038*\"Upper ontology\"\n",
      "2021-04-21 00:02:05,533 : INFO : topic #11 (0.008): 0.256*\"Control theory\" + 0.127*\"Throughput\" + 0.083*\"Quantization (signal processing)\" + 0.053*\"Vector quantization\" + 0.047*\"Routing protocol\" + 0.045*\"Pseudorandom binary sequence\" + 0.044*\"Code rate\" + 0.028*\"Simulated annealing\" + 0.026*\"Ranking (information retrieval)\" + 0.023*\"Computer science\"\n",
      "2021-04-21 00:02:05,535 : INFO : topic #12 (0.008): 0.341*\"Pattern recognition\" + 0.124*\"Speech recognition\" + 0.098*\"Discrete mathematics\" + 0.069*\"Filter (signal processing)\" + 0.065*\"Probability distribution\" + 0.058*\"Speech processing\" + 0.049*\"Random variable\" + 0.037*\"Classifier (linguistics)\" + 0.022*\"Speaker recognition\" + 0.022*\"Mixture model\"\n",
      "2021-04-21 00:02:05,536 : INFO : topic #13 (0.008): 0.151*\"Image retrieval\" + 0.103*\"Content analysis\" + 0.100*\"Fault tolerance\" + 0.090*\"Color image\" + 0.069*\"Image texture\" + 0.066*\"Image processing\" + 0.049*\"Algebra\" + 0.046*\"Algebraic number\" + 0.039*\"Dependability\" + 0.037*\"Color histogram\"\n",
      "2021-04-21 00:02:05,537 : INFO : topic #14 (0.008): 0.193*\"Operator (computer programming)\" + 0.179*\"Probabilistic logic\" + 0.085*\"Feature extraction\" + 0.065*\"Image quality\" + 0.049*\"Machine learning\" + 0.041*\"Generalization\" + 0.029*\"Computer science\" + 0.028*\"Optical character recognition\" + 0.025*\"User interface design\" + 0.022*\"Distributed source coding\"\n",
      "2021-04-21 00:02:05,538 : INFO : topic #15 (0.008): 0.113*\"XML validation\" + 0.090*\"Efficient XML Interchange\" + 0.087*\"XML Schema Editor\" + 0.084*\"Document Structure Description\" + 0.081*\"Streaming XML\" + 0.062*\"XML framework\" + 0.051*\"XML schema\" + 0.047*\"Cellular network\" + 0.042*\"XML Encryption\" + 0.033*\"Text mining\"\n",
      "2021-04-21 00:02:05,539 : INFO : topic #16 (0.008): 0.220*\"Distributed algorithm\" + 0.112*\"Operations research\" + 0.110*\"Distributed computing\" + 0.087*\"Computer science\" + 0.059*\"Smart card\" + 0.045*\"Parametric statistics\" + 0.039*\"Wi-Fi array\" + 0.035*\"Documentation\" + 0.030*\"Manifold\" + 0.028*\"Java Card\"\n",
      "2021-04-21 00:02:05,540 : INFO : topic #17 (0.008): 0.207*\"Data structure\" + 0.059*\"Provisioning\" + 0.050*\"Maximum entropy probability distribution\" + 0.045*\"Kullback–Leibler divergence\" + 0.045*\"Principle of maximum entropy\" + 0.042*\"Heterogeneous network\" + 0.040*\"Min entropy\" + 0.029*\"Maximum entropy thermodynamics\" + 0.029*\"Lossy compression\" + 0.026*\"AdaBoost\"\n",
      "2021-04-21 00:02:05,542 : INFO : topic #18 (0.008): 0.133*\"Network management\" + 0.095*\"Feature selection\" + 0.072*\"CPU cache\" + 0.072*\"Cache\" + 0.065*\"Invariant (mathematics)\" + 0.047*\"Active networking\" + 0.045*\"Distributed computing\" + 0.041*\"Computer science\" + 0.029*\"Network management station\" + 0.025*\"Comprehension\"\n",
      "2021-04-21 00:02:05,544 : INFO : topic #19 (0.008): 0.161*\"Motion estimation\" + 0.114*\"Authentication\" + 0.082*\"Video tracking\" + 0.050*\"Broadcasting\" + 0.043*\"Computer data storage\" + 0.041*\"Cognitive neuroscience of visual object recognition\" + 0.040*\"Histogram\" + 0.037*\"Motion compensation\" + 0.036*\"Computer science\" + 0.027*\"Authentication protocol\"\n",
      "2021-04-21 00:02:05,545 : INFO : topic #20 (0.008): 0.122*\"Compiler\" + 0.065*\"Program transformation\" + 0.049*\"Optimizing compiler\" + 0.030*\"Reachability\" + 0.030*\"Programming language\" + 0.029*\"Derivation\" + 0.028*\"DNA microarray\" + 0.028*\"Divergence\" + 0.027*\"Sketch\" + 0.025*\"Networking hardware\"\n",
      "2021-04-21 00:02:05,547 : INFO : topic #21 (0.008): 0.211*\"Knowledge management\" + 0.112*\"Computer science\" + 0.073*\"Autonomous system (mathematics)\" + 0.043*\"Distributed computing\" + 0.042*\"Asymptotic analysis\" + 0.036*\"Goal-Driven Software Development Process\" + 0.035*\"Personal software process\" + 0.033*\"Key distribution\" + 0.030*\"Noise reduction\" + 0.029*\"Spectral efficiency\"\n",
      "2021-04-21 00:02:05,548 : INFO : topic #22 (0.008): 0.130*\"Data compression\" + 0.089*\"Kernel method\" + 0.066*\"Image compression\" + 0.065*\"Linear discriminant analysis\" + 0.052*\"Contextual image classification\" + 0.048*\"Conversation\" + 0.047*\"Subspace topology\" + 0.044*\"Discrete cosine transform\" + 0.042*\"Variable kernel density estimation\" + 0.037*\"Kernel embedding of distributions\"\n",
      "2021-04-21 00:02:05,550 : INFO : topic #23 (0.008): 0.120*\"Applications of UML\" + 0.094*\"Decision tree\" + 0.089*\"UML tool\" + 0.059*\"Information access\" + 0.038*\"Class diagram\" + 0.033*\"Competitive analysis\" + 0.031*\"Dominance-based rough set approach\" + 0.030*\"Online algorithm\" + 0.029*\"Machine learning\" + 0.029*\"Decision tree learning\"\n",
      "2021-04-21 00:02:05,551 : INFO : topic #24 (0.008): 0.252*\"Java\" + 0.061*\"Mobile wireless sensor network\" + 0.053*\"Extensibility\" + 0.048*\"Real time Java\" + 0.048*\"Recurrent neural network\" + 0.043*\"Java annotation\" + 0.042*\"Time series\" + 0.040*\"Optical flow\" + 0.036*\"Sensor node\" + 0.033*\"Generics in Java\"\n"
     ]
    },
    {
     "name": "stderr",
     "output_type": "stream",
     "text": [
      "2021-04-21 00:02:05,553 : INFO : topic #25 (0.008): 0.190*\"Matrix (mathematics)\" + 0.098*\"Programming language\" + 0.091*\"Additive white Gaussian noise\" + 0.060*\"Gaussian noise\" + 0.049*\"Compressed sensing\" + 0.046*\"Sparse matrix\" + 0.042*\"Sparse approximation\" + 0.042*\"White noise\" + 0.038*\"Particle swarm optimization\" + 0.030*\"Modulation\"\n",
      "2021-04-21 00:02:05,554 : INFO : topic #26 (0.008): 0.132*\"Asynchronous communication\" + 0.079*\"Probability density function\" + 0.070*\"Rate–distortion theory\" + 0.058*\"Rayleigh fading\" + 0.045*\"Fading distribution\" + 0.044*\"Automation\" + 0.041*\"Planar graph\" + 0.037*\"Analogy\" + 0.036*\"Convex hull\" + 0.031*\"Piecewise\"\n",
      "2021-04-21 00:02:05,555 : INFO : topic #27 (0.008): 0.375*\"Theoretical computer science\" + 0.177*\"Computer science\" + 0.113*\"Distributed computing\" + 0.073*\"Discrete mathematics\" + 0.050*\"Interoperability\" + 0.049*\"Tornado code\" + 0.031*\"State space\" + 0.017*\"Process control\" + 0.011*\"Burst error-correcting code\" + 0.009*\"Variable-order Bayesian network\"\n",
      "2021-04-21 00:02:05,557 : INFO : topic #28 (0.008): 0.220*\"Time complexity\" + 0.158*\"Robotics\" + 0.092*\"Robot\" + 0.071*\"Mobile robot\" + 0.067*\"Computational geometry\" + 0.052*\"Shortest path problem\" + 0.029*\"Voltage graph\" + 0.029*\"Computer science\" + 0.021*\"Distributed computing\" + 0.018*\"Bent function\"\n",
      "2021-04-21 00:02:05,558 : INFO : topic #29 (0.008): 0.191*\"Wireless network\" + 0.110*\"Distributed computing\" + 0.105*\"Wireless sensor network\" + 0.081*\"Wireless ad hoc network\" + 0.070*\"Mobile computing\" + 0.069*\"Sensor array\" + 0.068*\"Computer science\" + 0.056*\"Key distribution in wireless sensor networks\" + 0.049*\"STREAMS\" + 0.046*\"Computer network\"\n",
      "2021-04-21 00:02:05,559 : INFO : topic #30 (0.008): 0.330*\"Real-time computing\" + 0.138*\"Distributed computing\" + 0.112*\"Network packet\" + 0.095*\"Computer science\" + 0.051*\"Bandwidth (signal processing)\" + 0.038*\"Latency (engineering)\" + 0.032*\"Packet loss\" + 0.031*\"Computer network\" + 0.015*\"Video quality\" + 0.015*\"Overlay\"\n",
      "2021-04-21 00:02:05,561 : INFO : topic #31 (0.008): 0.132*\"Circuit design\" + 0.130*\"Field-programmable gate array\" + 0.079*\"Kernel (linear algebra)\" + 0.072*\"Job shop scheduling\" + 0.059*\"Categorization\" + 0.043*\"Computer science\" + 0.041*\"Adversary\" + 0.038*\"System on a chip\" + 0.032*\"Telecommunications link\" + 0.032*\"Statistical hypothesis testing\"\n",
      "2021-04-21 00:02:05,562 : INFO : topic #32 (0.008): 0.183*\"Cryptography\" + 0.163*\"Computation\" + 0.084*\"Encryption\" + 0.080*\"Distributed computing\" + 0.078*\"Public-key cryptography\" + 0.072*\"Computer science\" + 0.063*\"Variable-length code\" + 0.037*\"Shannon–Fano coding\" + 0.024*\"RDF\" + 0.019*\"Electronic circuit\"\n",
      "2021-04-21 00:02:05,563 : INFO : topic #33 (0.008): 0.100*\"Functional programming\" + 0.082*\"Boolean algebra\" + 0.061*\"Reconfigurable computing\" + 0.057*\"Negotiation\" + 0.054*\"Rule of inference\" + 0.048*\"Geometry\" + 0.035*\"Missing data\" + 0.035*\"Haskell\" + 0.033*\"Receiver operating characteristic\" + 0.032*\"Sorting\"\n",
      "2021-04-21 00:02:05,564 : INFO : topic #34 (0.008): 0.076*\"User requirements document\" + 0.072*\"Machine vision\" + 0.068*\"Aspect-oriented programming\" + 0.068*\"Test case\" + 0.048*\"Artificial life\" + 0.041*\"Web design\" + 0.037*\"Markov chain Monte Carlo\" + 0.032*\"Graph power\" + 0.031*\"P system\" + 0.029*\"Factor-critical graph\"\n",
      "2021-04-21 00:02:05,565 : INFO : topic #35 (0.008): 0.116*\"Hierarchy\" + 0.078*\"Computer engineering\" + 0.070*\"Information and Communications Technology\" + 0.063*\"Computer science\" + 0.055*\"Periodic graph (geometry)\" + 0.048*\"Distributed computing\" + 0.045*\"State diagram\" + 0.034*\"Interconnection\" + 0.030*\"Elliptic curve cryptography\" + 0.028*\"Elliptic curve point multiplication\"\n",
      "2021-04-21 00:02:05,566 : INFO : topic #36 (0.008): 0.165*\"Search algorithm\" + 0.147*\"Computational complexity theory\" + 0.115*\"Special case\" + 0.095*\"Edge detection\" + 0.058*\"Detector\" + 0.056*\"Autocorrelation\" + 0.048*\"Permutation\" + 0.043*\"Communications system\" + 0.030*\"Communication complexity\" + 0.026*\"Spread spectrum\"\n",
      "2021-04-21 00:02:05,567 : INFO : topic #37 (0.008): 0.100*\"Computer science\" + 0.097*\"Control reconfiguration\" + 0.080*\"Computer architecture\" + 0.065*\"Domain knowledge\" + 0.064*\"Overlay network\" + 0.062*\"Distributed computing\" + 0.058*\"Information management\" + 0.048*\"Virtual network\" + 0.041*\"Peer-to-peer\" + 0.041*\"Software engineering\"\n",
      "2021-04-21 00:02:05,568 : INFO : topic #38 (0.008): 0.249*\"User interface\" + 0.108*\"Computer science\" + 0.096*\"Human–computer interaction\" + 0.089*\"User assistance\" + 0.068*\"Distributed computing\" + 0.060*\"Usability\" + 0.028*\"Ontology-based data integration\" + 0.027*\"Inductive logic programming\" + 0.019*\"Cryptographic primitive\" + 0.019*\"Blind signature\"\n",
      "2021-04-21 00:02:05,569 : INFO : topic #39 (0.008): 0.206*\"Concurrency\" + 0.119*\"Common Object Request Broker Architecture\" + 0.072*\"Computer science\" + 0.070*\"Distributed computing\" + 0.068*\"Distributed object\" + 0.052*\"Process management\" + 0.049*\"Operating system\" + 0.045*\"Trajectory\" + 0.030*\"Hardware architecture\" + 0.029*\"Business Process Execution Language\"\n",
      "2021-04-21 00:02:05,570 : INFO : topic #40 (0.008): 0.151*\"Intrusion detection system\" + 0.137*\"Iterative method\" + 0.083*\"Solver\" + 0.080*\"Dynamic programming\" + 0.066*\"Pattern matching\" + 0.060*\"Mean squared error\" + 0.055*\"Anomaly detection\" + 0.039*\"Connectivity\" + 0.031*\"HTML\" + 0.022*\"Minimum-variance unbiased estimator\"\n",
      "2021-04-21 00:02:05,571 : INFO : topic #41 (0.008): 0.153*\"Access control\" + 0.103*\"Hybrid system\" + 0.053*\"Discrete time and continuous time\" + 0.047*\"Dynamical system\" + 0.039*\"Automata theory\" + 0.037*\"Fingerprint recognition\" + 0.037*\"Outlier\" + 0.035*\"Minutiae\" + 0.034*\"Discrete Fourier transform\" + 0.034*\"Coding theory\"\n",
      "2021-04-21 00:02:05,572 : INFO : topic #42 (0.008): 0.290*\"World Wide Web\" + 0.061*\"Constant false alarm rate\" + 0.053*\"Relevance feedback\" + 0.051*\"Compromise\" + 0.045*\"Location-based service\" + 0.034*\"Virtex\" + 0.032*\"False alarm\" + 0.032*\"Database theory\" + 0.030*\"Data stream\" + 0.029*\"Constraint graph\"\n",
      "2021-04-21 00:02:05,573 : INFO : topic #43 (0.008): 0.163*\"Message passing\" + 0.121*\"Systems design\" + 0.054*\"Formalism (philosophy)\" + 0.052*\"Message Passing Interface\" + 0.051*\"Virtual machine\" + 0.047*\"Notation\" + 0.034*\"Computer science\" + 0.033*\"Distributed computing\" + 0.032*\"Collaborative learning\" + 0.030*\"Profiling (computer programming)\"\n",
      "2021-04-21 00:02:05,574 : INFO : topic #44 (0.008): 0.172*\"Mobile ad hoc network\" + 0.063*\"Web mining\" + 0.062*\"XML Signature\" + 0.048*\"Computer science\" + 0.046*\"Simple API for XML\" + 0.043*\"Graph (abstract data type)\" + 0.041*\"Viterbi decoder\" + 0.038*\"XML Catalog\" + 0.038*\"Negation\" + 0.036*\"Query by Example\"\n",
      "2021-04-21 00:02:05,575 : INFO : topic #45 (0.008): 0.188*\"Management science\" + 0.131*\"Fuzzy logic\" + 0.114*\"Signal processing\" + 0.104*\"Computer science\" + 0.071*\"Distributed computing\" + 0.064*\"Algorithmics\" + 0.055*\"Control system\" + 0.037*\"Fuzzy control system\" + 0.028*\"Machine learning\" + 0.020*\"Question answering\"\n",
      "2021-04-21 00:02:05,576 : INFO : topic #46 (0.008): 0.078*\"Parameterized complexity\" + 0.074*\"Indifference graph\" + 0.073*\"Random graph\" + 0.065*\"Chordal graph\" + 0.056*\"Management system\" + 0.055*\"User profile\" + 0.052*\"Intelligent decision support system\" + 0.047*\"1-planar graph\" + 0.036*\"Pathwidth\" + 0.031*\"Maximal independent set\"\n",
      "2021-04-21 00:02:05,576 : INFO : topic #47 (0.008): 0.171*\"Grid\" + 0.105*\"Distributed computing\" + 0.097*\"Resource allocation\" + 0.095*\"Software deployment\" + 0.083*\"Grid computing\" + 0.075*\"Computer science\" + 0.048*\"Semantic grid\" + 0.039*\"Cryptographic protocol\" + 0.039*\"Transmission Control Protocol\" + 0.027*\"Security policy\"\n",
      "2021-04-21 00:02:05,577 : INFO : topic #48 (0.008): 0.093*\"Synchronization\" + 0.091*\"Pixel\" + 0.066*\"Regression analysis\" + 0.052*\"Dimensionality reduction\" + 0.042*\"Schedule\" + 0.037*\"Bidding\" + 0.030*\"Common value auction\" + 0.027*\"Sample size determination\" + 0.025*\"Raw data\" + 0.025*\"Statistic\"\n",
      "2021-04-21 00:02:05,578 : INFO : topic #49 (0.008): 0.250*\"Formal specification\" + 0.231*\"Formal methods\" + 0.127*\"Specification language\" + 0.045*\"Perception\" + 0.037*\"Software requirements specification\" + 0.027*\"Axiom\" + 0.023*\"Proof assistant\" + 0.022*\"Secure communication\" + 0.021*\"Algebraic specification\" + 0.019*\"Asynchronous Transfer Mode\"\n"
     ]
    },
    {
     "name": "stderr",
     "output_type": "stream",
     "text": [
      "2021-04-21 00:02:05,579 : INFO : topic #50 (0.008): 0.159*\"Multicast\" + 0.075*\"Xcast\" + 0.063*\"Source-specific multicast\" + 0.061*\"Protocol Independent Multicast\" + 0.057*\"Pragmatic General Multicast\" + 0.053*\"Distributed computing\" + 0.050*\"Finite element method\" + 0.050*\"Distance Vector Multicast Routing Protocol\" + 0.048*\"Computer network\" + 0.042*\"IP multicast\"\n",
      "2021-04-21 00:02:05,580 : INFO : topic #51 (0.008): 0.228*\"Feature vector\" + 0.061*\"Binary erasure channel\" + 0.060*\"Naive Bayes classifier\" + 0.053*\"Abstract machine\" + 0.043*\"Data processing\" + 0.033*\"Routing table\" + 0.031*\"Shannon–Hartley theorem\" + 0.026*\"Domain-specific language\" + 0.025*\"IPv6\" + 0.025*\"Abstract state machines\"\n",
      "2021-04-21 00:02:05,581 : INFO : topic #52 (0.008): 0.087*\"Sampling (statistics)\" + 0.070*\"Database design\" + 0.066*\"Randomized algorithm\" + 0.060*\"Feature (computer vision)\" + 0.055*\"Shared resource\" + 0.050*\"Time delay neural network\" + 0.044*\"View\" + 0.040*\"Database schema\" + 0.038*\"Abstraction model checking\" + 0.035*\"Spectral density\"\n",
      "2021-04-21 00:02:05,582 : INFO : topic #53 (0.008): 0.070*\"Wireless Routing Protocol\" + 0.063*\"Dynamic Source Routing\" + 0.063*\"Optimized Link State Routing Protocol\" + 0.060*\"Static routing\" + 0.056*\"Link-state routing protocol\" + 0.054*\"Ad hoc wireless distribution service\" + 0.049*\"Destination-Sequenced Distance Vector routing\" + 0.045*\"Distributed computing\" + 0.040*\"Wireless ad hoc network\" + 0.039*\"Computer network\"\n",
      "2021-04-21 00:02:05,583 : INFO : topic #54 (0.008): 0.097*\"Adaptive algorithm\" + 0.082*\"Digital image\" + 0.081*\"Supervised learning\" + 0.059*\"Graphics\" + 0.048*\"Perceptron\" + 0.044*\"Range query (data structures)\" + 0.040*\"Random field\" + 0.038*\"Application server\" + 0.034*\"Binary image\" + 0.031*\"SQL\"\n",
      "2021-04-21 00:02:05,584 : INFO : topic #55 (0.008): 0.146*\"Web modeling\" + 0.092*\"Web page\" + 0.080*\"Semantic Web Stack\" + 0.068*\"Social Semantic Web\" + 0.065*\"WS-Policy\" + 0.062*\"Web standards\" + 0.049*\"Semantic Web\" + 0.046*\"Data Web\" + 0.034*\"WS-I Basic Profile\" + 0.031*\"Declarative programming\"\n",
      "2021-04-21 00:02:05,585 : INFO : topic #56 (0.008): 0.184*\"Scalability\" + 0.160*\"Distributed computing\" + 0.140*\"Parallel computing\" + 0.136*\"Parallel algorithm\" + 0.135*\"Object-oriented programming\" + 0.125*\"Computer science\" + 0.016*\"Software portability\" + 0.012*\"Massively parallel\" + 0.012*\"Programmer\" + 0.011*\"Heuristic (computer science)\"\n",
      "2021-04-21 00:02:05,586 : INFO : topic #57 (0.008): 0.132*\"Virtual machine\" + 0.071*\"Fuzzy classification\" + 0.063*\"Fuzzy number\" + 0.060*\"Haptic technology\" + 0.059*\"Fuzzy set operations\" + 0.057*\"Gabor filter\" + 0.046*\"Pointer (computer programming)\" + 0.040*\"Defuzzification\" + 0.040*\"Neuro-fuzzy\" + 0.038*\"Virtual reality\"\n",
      "2021-04-21 00:02:05,587 : INFO : topic #58 (0.008): 0.225*\"Software\" + 0.136*\"Software development\" + 0.108*\"Component-based software engineering\" + 0.085*\"Software architecture\" + 0.070*\"Computer science\" + 0.063*\"Software system\" + 0.053*\"Distributed computing\" + 0.049*\"Unified Modeling Language\" + 0.038*\"Metamodeling\" + 0.025*\"Object Constraint Language\"\n",
      "2021-04-21 00:02:05,588 : INFO : topic #59 (0.008): 0.207*\"Visualization\" + 0.086*\"Computer animation\" + 0.081*\"Animation\" + 0.073*\"Correlation\" + 0.047*\"Data visualization\" + 0.046*\"Speech synthesis\" + 0.046*\"Minimax\" + 0.044*\"Language model\" + 0.035*\"Clustering high-dimensional data\" + 0.033*\"Data reduction\"\n",
      "2021-04-21 00:02:05,588 : INFO : topic #60 (0.008): 0.163*\"Information retrieval\" + 0.104*\"Data modeling\" + 0.076*\"Search engine\" + 0.072*\"Operational semantics\" + 0.072*\"Spatial database\" + 0.067*\"Data model\" + 0.056*\"Computer science\" + 0.042*\"Spatial analysis\" + 0.041*\"Data type\" + 0.035*\"Deterministic automaton\"\n",
      "2021-04-21 00:02:05,589 : INFO : topic #61 (0.008): 0.087*\"Computer security model\" + 0.080*\"Coding (social sciences)\" + 0.067*\"Least squares\" + 0.062*\"Security service\" + 0.058*\"Gesture recognition\" + 0.056*\"Cloud computing security\" + 0.050*\"Musical acoustics\" + 0.043*\"Dynamic logic (modal logic)\" + 0.038*\"Secret sharing\" + 0.038*\"Algorithm design\"\n",
      "2021-04-21 00:02:05,590 : INFO : topic #62 (0.008): 0.174*\"Correctness\" + 0.088*\"Source code\" + 0.078*\"Automated theorem proving\" + 0.078*\"Satisfiability\" + 0.077*\"Communications protocol\" + 0.076*\"Symbolic computation\" + 0.067*\"Proof theory\" + 0.041*\"Encoding (memory)\" + 0.027*\"Restricted isometry property\" + 0.022*\"Orthonormal basis\"\n",
      "2021-04-21 00:02:05,591 : INFO : topic #63 (0.008): 0.104*\"Control engineering\" + 0.074*\"Social network\" + 0.066*\"New product development\" + 0.054*\"Active shape model\" + 0.053*\"Pose\" + 0.035*\"Active appearance model\" + 0.035*\"Ambient intelligence\" + 0.033*\"Atomic broadcast\" + 0.032*\"Convexity\" + 0.032*\"Mathematical morphology\"\n",
      "2021-04-21 00:02:05,592 : INFO : topic #64 (0.008): 0.105*\"Online codes\" + 0.104*\"Virtual reality\" + 0.093*\"Reed–Muller code\" + 0.062*\"Narrative\" + 0.041*\"Binary symmetric channel\" + 0.040*\"Turbo code\" + 0.038*\"Immersion (virtual reality)\" + 0.038*\"Standardization\" + 0.034*\"Expectation–maximization algorithm\" + 0.030*\"Interactivity\"\n",
      "2021-04-21 00:02:05,593 : INFO : topic #65 (0.008): 0.128*\"Cognition\" + 0.047*\"Joint quantum entropy\" + 0.045*\"k-nearest neighbors algorithm\" + 0.037*\"Nonparametric statistics\" + 0.036*\"Role-based access control\" + 0.034*\"Application domain\" + 0.030*\"Feature detection (computer vision)\" + 0.030*\"Modal logic\" + 0.030*\"Probabilistic encryption\" + 0.028*\"40-bit encryption\"\n",
      "2021-04-21 00:02:05,594 : INFO : topic #66 (0.008): 0.143*\"Signal-to-noise ratio\" + 0.098*\"Business process\" + 0.093*\"Gaussian noise\" + 0.047*\"Business process modeling\" + 0.040*\"Prefix code\" + 0.035*\"Business rule\" + 0.035*\"Process modeling\" + 0.033*\"Artifact-centric business process model\" + 0.029*\"DSRFLOW\" + 0.029*\"Quantum finite automata\"\n",
      "2021-04-21 00:02:05,594 : INFO : topic #67 (0.008): 0.096*\"Reference architecture\" + 0.095*\"Data transmission\" + 0.088*\"Swarm intelligence\" + 0.077*\"Code division multiple access\" + 0.070*\"Applications architecture\" + 0.054*\"Debugging\" + 0.051*\"Admission control\" + 0.046*\"FSA-Red Algorithm\" + 0.040*\"Optimal control\" + 0.039*\"Software verification and validation\"\n",
      "2021-04-21 00:02:05,595 : INFO : topic #68 (0.008): 0.201*\"Multi-agent system\" + 0.072*\"Reinforcement learning\" + 0.068*\"Autonomous agent\" + 0.052*\"Computer science\" + 0.044*\"Linear programming\" + 0.037*\"Transmitter\" + 0.034*\"Interference (wave propagation)\" + 0.031*\"Self-organizing map\" + 0.031*\"Distributed computing\" + 0.029*\"Entertainment\"\n",
      "2021-04-21 00:02:05,595 : INFO : topic #69 (0.008): 0.541*\"Information system\" + 0.087*\"Computer science\" + 0.072*\"Information processing\" + 0.062*\"Distributed computing\" + 0.043*\"Temporal database\" + 0.036*\"Data management\" + 0.032*\"Graphical user interface\" + 0.024*\"Communication source\" + 0.018*\"Euclidean geometry\" + 0.009*\"Formal proof\"\n",
      "2021-04-21 00:02:05,596 : INFO : topic #70 (0.008): 0.195*\"XML\" + 0.110*\"Transaction processing\" + 0.100*\"Geographic information system\" + 0.091*\"Knowledge acquisition\" + 0.090*\"Database transaction\" + 0.068*\"Relational database\" + 0.046*\"Testbed\" + 0.045*\"Distributed computing\" + 0.043*\"Computer science\" + 0.027*\"Semantic interoperability\"\n",
      "2021-04-21 00:02:05,597 : INFO : topic #71 (0.008): 0.165*\"Network architecture\" + 0.073*\"Digital signature\" + 0.063*\"Curse of dimensionality\" + 0.052*\"Bit error rate\" + 0.037*\"Voice over IP\" + 0.035*\"Gabor wavelet\" + 0.034*\"Active learning (machine learning)\" + 0.034*\"Program optimization\" + 0.023*\"Stability (learning theory)\" + 0.023*\"Butterfly graph\"\n",
      "2021-04-21 00:02:05,598 : INFO : topic #72 (0.008): 0.190*\"Computer security\" + 0.106*\"Computer science\" + 0.093*\"Load balancing (computing)\" + 0.072*\"Distributed memory\" + 0.069*\"Bioinformatics\" + 0.045*\"Information privacy\" + 0.034*\"Situated\" + 0.030*\"Cellular automaton\" + 0.029*\"Distributed shared memory\" + 0.024*\"Camera resectioning\"\n",
      "2021-04-21 00:02:05,599 : INFO : topic #73 (0.008): 0.152*\"Embedded system\" + 0.073*\"Digital watermarking\" + 0.067*\"Mobile QoS\" + 0.051*\"Watermark\" + 0.043*\"Crossover\" + 0.042*\"TCP global synchronization\" + 0.041*\"TCP acceleration\" + 0.040*\"TCP tuning\" + 0.038*\"Zeta-TCP\" + 0.034*\"Computer science\"\n"
     ]
    },
    {
     "name": "stderr",
     "output_type": "stream",
     "text": [
      "2021-04-21 00:02:05,600 : INFO : topic #74 (0.008): 0.152*\"Telecommunications network\" + 0.115*\"Distributed computing\" + 0.111*\"Implementation\" + 0.111*\"Computer science\" + 0.075*\"Wireless\" + 0.042*\"Complementary sequences\" + 0.041*\"Computer network\" + 0.037*\"Multiplexing\" + 0.033*\"Data collection\" + 0.026*\"Experimental data\"\n",
      "2021-04-21 00:02:05,600 : INFO : topic #75 (0.008): 0.115*\"Turbo code\" + 0.089*\"Iterative reconstruction\" + 0.079*\"String (computer science)\" + 0.069*\"Reed–Solomon error correction\" + 0.054*\"Computer graphics (images)\" + 0.053*\"Web navigation\" + 0.047*\"User modeling\" + 0.034*\"Space–time trellis code\" + 0.030*\"String searching algorithm\" + 0.028*\"3D reconstruction\"\n",
      "2021-04-21 00:02:05,601 : INFO : topic #76 (0.008): 0.128*\"Network topology\" + 0.116*\"Personalization\" + 0.052*\"Recommender system\" + 0.052*\"Empirical research\" + 0.051*\"Network congestion\" + 0.050*\"Fourier transform\" + 0.048*\"Functional analysis\" + 0.034*\"BCJR algorithm\" + 0.031*\"Mobility model\" + 0.030*\"Distributed computing\"\n",
      "2021-04-21 00:02:05,602 : INFO : topic #77 (0.008): 0.387*\"Mathematical optimization\" + 0.143*\"Discrete mathematics\" + 0.086*\"Mathematics\" + 0.063*\"Finite-state machine\" + 0.036*\"Convergence (routing)\" + 0.022*\"Convex optimization\" + 0.020*\"Inequality\" + 0.019*\"Graph rewriting\" + 0.017*\"Regular language\" + 0.016*\"Independent and identically distributed random variables\"\n",
      "2021-04-21 00:02:05,603 : INFO : topic #78 (0.008): 0.074*\"Software agent\" + 0.071*\"Computer Aided Design\" + 0.070*\"Engineering design process\" + 0.061*\"Collaborative software\" + 0.058*\"Computer science\" + 0.055*\"Concurrent engineering\" + 0.045*\"Cache algorithms\" + 0.044*\"Cache\" + 0.042*\"Distributed computing\" + 0.038*\"Agent architecture\"\n",
      "2021-04-21 00:02:05,604 : INFO : topic #79 (0.008): 0.219*\"Error detection and correction\" + 0.147*\"Cyclic code\" + 0.140*\"Hidden Markov model\" + 0.110*\"Markov model\" + 0.054*\"Nondeterministic algorithm\" + 0.040*\"Viterbi algorithm\" + 0.039*\"RDF query language\" + 0.030*\"System model\" + 0.025*\"Conditional probability distribution\" + 0.024*\"Decoding methods\"\n",
      "2021-04-21 00:02:05,604 : INFO : topic #80 (0.008): 0.070*\"Discretization\" + 0.061*\"Variable-order Markov model\" + 0.058*\"Shadow\" + 0.055*\"Bottleneck\" + 0.038*\"Markov model\" + 0.038*\"Quantum\" + 0.036*\"Functional verification\" + 0.035*\"Markov chain\" + 0.030*\"Open problem\" + 0.028*\"Materialized view\"\n",
      "2021-04-21 00:02:05,605 : INFO : topic #81 (0.008): 0.176*\"Binary number\" + 0.159*\"Markov chain\" + 0.156*\"Markov process\" + 0.063*\"Dynamic priority scheduling\" + 0.050*\"Fair-share scheduling\" + 0.048*\"Binary code\" + 0.040*\"Conjecture\" + 0.034*\"Turing machine\" + 0.032*\"Fingerprint\" + 0.031*\"Partition (number theory)\"\n",
      "2021-04-21 00:02:05,606 : INFO : topic #82 (0.008): 0.177*\"Image segmentation\" + 0.101*\"Information technology\" + 0.089*\"Expression (mathematics)\" + 0.067*\"Bayesian network\" + 0.066*\"Scale-space segmentation\" + 0.055*\"Interpolation\" + 0.054*\"Queue\" + 0.052*\"Object detection\" + 0.041*\"Queueing theory\" + 0.039*\"Bayesian probability\"\n",
      "2021-04-21 00:02:05,607 : INFO : topic #83 (0.008): 0.063*\"Detection theory\" + 0.058*\"Scale space\" + 0.050*\"Gaussian random field\" + 0.046*\"Software framework\" + 0.039*\"Gaussian function\" + 0.037*\"Computer cluster\" + 0.036*\"Gaussian process\" + 0.035*\"Nearest neighbor search\" + 0.034*\"Garbage collection\" + 0.034*\"Shape analysis (digital geometry)\"\n",
      "2021-04-21 00:02:05,607 : INFO : topic #84 (0.008): 0.176*\"Robustness (computer science)\" + 0.143*\"Rough set\" + 0.052*\"Affine transformation\" + 0.043*\"Normalization (statistics)\" + 0.042*\"Decision rule\" + 0.038*\"Machine learning\" + 0.033*\"Software sizing\" + 0.032*\"Resource-oriented architecture\" + 0.025*\"Inductive programming\" + 0.024*\"Computer science\"\n",
      "2021-04-21 00:02:05,608 : INFO : topic #85 (0.008): 0.186*\"Ubiquitous computing\" + 0.141*\"Natural language\" + 0.097*\"Computer science\" + 0.088*\"Mobile computing\" + 0.084*\"Distributed computing\" + 0.081*\"Adaptability\" + 0.041*\"Software design\" + 0.035*\"End user\" + 0.025*\"Multilingualism\" + 0.025*\"Context model\"\n",
      "2021-04-21 00:02:05,609 : INFO : topic #86 (0.008): 0.309*\"Database\" + 0.122*\"Data mining\" + 0.119*\"Computer science\" + 0.067*\"Ontology\" + 0.062*\"Data warehouse\" + 0.058*\"Metadata\" + 0.030*\"Online analytical processing\" + 0.030*\"Smoothing\" + 0.027*\"Entity–relationship model\" + 0.019*\"Object model\"\n",
      "2021-04-21 00:02:05,610 : INFO : topic #87 (0.008): 0.218*\"Server\" + 0.105*\"Local search (optimization)\" + 0.051*\"Spanning tree\" + 0.049*\"Boolean satisfiability problem\" + 0.044*\"Embedding\" + 0.041*\"Tree (graph theory)\" + 0.037*\"Propositional calculus\" + 0.027*\"Ternary operation\" + 0.026*\"Constraint satisfaction\" + 0.025*\"Robot learning\"\n",
      "2021-04-21 00:02:05,611 : INFO : topic #88 (0.008): 0.115*\"Constraint satisfaction\" + 0.104*\"Vertex (geometry)\" + 0.089*\"Web development\" + 0.070*\"Scaling\" + 0.068*\"Constraint programming\" + 0.067*\"Constraint logic programming\" + 0.067*\"Ranking\" + 0.049*\"Web intelligence\" + 0.044*\"Software design pattern\" + 0.041*\"Web application security\"\n",
      "2021-04-21 00:02:05,612 : INFO : topic #89 (0.008): 0.233*\"Model checking\" + 0.168*\"Formal verification\" + 0.064*\"Temporal logic\" + 0.041*\"Agile software development\" + 0.028*\"Access network\" + 0.028*\"Linear temporal logic\" + 0.026*\"Personal knowledge management\" + 0.024*\"Bluetooth\" + 0.024*\"Empirical process (process control model)\" + 0.023*\"Domain knowledge\"\n",
      "2021-04-21 00:02:05,612 : INFO : topic #90 (0.008): 0.333*\"Scheduling (computing)\" + 0.067*\"Monte Carlo method\" + 0.051*\"Computer science\" + 0.038*\"Initialization\" + 0.035*\"Distributed computing\" + 0.034*\"Model selection\" + 0.031*\"Image restoration\" + 0.029*\"Maximum a posteriori estimation\" + 0.027*\"Joint probability distribution\" + 0.021*\"Computational science\"\n",
      "2021-04-21 00:02:05,613 : INFO : topic #91 (0.008): 0.152*\"Case-based reasoning\" + 0.139*\"Heuristics\" + 0.074*\"Constrained optimization\" + 0.072*\"Model-based reasoning\" + 0.040*\"Duality (optimization)\" + 0.035*\"Inverse problem\" + 0.034*\"Boolean expression\" + 0.031*\"Learning environment\" + 0.031*\"Constraint satisfaction\" + 0.028*\"Interval arithmetic\"\n",
      "2021-04-21 00:02:05,614 : INFO : topic #92 (0.008): 0.187*\"Knowledge representation and reasoning\" + 0.091*\"Inference\" + 0.079*\"Parsing\" + 0.071*\"Shared memory\" + 0.060*\"Syntax\" + 0.054*\"Recursion\" + 0.043*\"Rewriting\" + 0.041*\"Description logic\" + 0.037*\"Multiprocessing\" + 0.036*\"Machine learning\"\n",
      "2021-04-21 00:02:05,615 : INFO : topic #93 (0.008): 0.443*\"Algorithm\" + 0.106*\"Graph theory\" + 0.094*\"Computer science\" + 0.075*\"Combinatorial optimization\" + 0.035*\"Integer programming\" + 0.034*\"Cryptanalysis\" + 0.028*\"Block cipher\" + 0.019*\"Assignment problem\" + 0.015*\"Delegation\" + 0.013*\"Session Initiation Protocol\"\n",
      "2021-04-21 00:02:05,615 : INFO : topic #94 (0.008): 0.224*\"Quality of service\" + 0.156*\"Computer network\" + 0.116*\"Distributed computing\" + 0.060*\"Client–server model\" + 0.049*\"Computer science\" + 0.031*\"Hierarchical control system\" + 0.029*\"Mobile IP\" + 0.027*\"Handover\" + 0.020*\"Concurrency control\" + 0.018*\"Benchmarking\"\n",
      "2021-04-21 00:02:05,616 : INFO : topic #95 (0.008): 0.248*\"Cluster analysis\" + 0.058*\"Correlation clustering\" + 0.055*\"Fuzzy clustering\" + 0.047*\"CURE data clustering algorithm\" + 0.044*\"Schema (psychology)\" + 0.041*\"Canopy clustering algorithm\" + 0.040*\"Machine learning\" + 0.040*\"Constraint satisfaction problem\" + 0.029*\"Constraint satisfaction\" + 0.029*\"k-medians clustering\"\n",
      "2021-04-21 00:02:05,617 : INFO : topic #96 (0.008): 0.146*\"Linear code\" + 0.136*\"Block code\" + 0.076*\"Concatenated error correction code\" + 0.060*\"Serial concatenated convolutional codes\" + 0.055*\"Expander code\" + 0.046*\"Low-density parity-check code\" + 0.044*\"Sequential decoding\" + 0.041*\"Discrete mathematics\" + 0.041*\"Hamming code\" + 0.040*\"Decoding methods\"\n",
      "2021-04-21 00:02:05,618 : INFO : topic #97 (0.008): 0.144*\"Wavelet\" + 0.080*\"Wavelet transform\" + 0.071*\"Eigenvalues and eigenvectors\" + 0.070*\"Knowledge-based systems\" + 0.061*\"Mathematical analysis\" + 0.052*\"Network simulation\" + 0.044*\"Discrete wavelet transform\" + 0.043*\"Document retrieval\" + 0.039*\"Linear combination\" + 0.033*\"Wavelet packet decomposition\"\n",
      "2021-04-21 00:02:05,619 : INFO : topic #98 (0.008): 0.089*\"Data set\" + 0.088*\"Similitude\" + 0.087*\"Machine learning\" + 0.062*\"Unsupervised learning\" + 0.051*\"Computer science\" + 0.041*\"Power control\" + 0.037*\"Bayes' theorem\" + 0.030*\"k-means clustering\" + 0.025*\"Metric (mathematics)\" + 0.024*\"Active learning\"\n"
     ]
    },
    {
     "name": "stderr",
     "output_type": "stream",
     "text": [
      "2021-04-21 00:02:05,619 : INFO : topic #99 (0.008): 0.252*\"Mobile computing\" + 0.207*\"Mobile agent\" + 0.086*\"Distributed computing\" + 0.057*\"Mobile search\" + 0.056*\"Computer science\" + 0.036*\"Mobile Web\" + 0.033*\"Abstract interpretation\" + 0.029*\"Mobile station\" + 0.026*\"Rule-based machine translation\" + 0.024*\"Mobile technology\"\n",
      "2021-04-21 00:02:05,620 : INFO : topic #100 (0.008): 0.266*\"Web service\" + 0.068*\"Service provider\" + 0.047*\"Service delivery framework\" + 0.047*\"Services computing\" + 0.044*\"Service-oriented architecture\" + 0.040*\"Distributed computing\" + 0.039*\"Service discovery\" + 0.038*\"Differentiated service\" + 0.038*\"Visual Word\" + 0.033*\"Conceptual model\"\n",
      "2021-04-21 00:02:05,621 : INFO : topic #101 (0.008): 0.223*\"Middleware\" + 0.133*\"Complex system\" + 0.093*\"Software development process\" + 0.077*\"Reuse\" + 0.060*\"Programming paradigm\" + 0.055*\"Distributed computing\" + 0.046*\"Executable\" + 0.044*\"Steganography\" + 0.035*\"Data flow diagram\" + 0.031*\"Local area network\"\n",
      "2021-04-21 00:02:05,622 : INFO : topic #102 (0.008): 0.104*\"Boolean function\" + 0.071*\"Process calculus\" + 0.060*\"Metaverse\" + 0.058*\"Type theory\" + 0.055*\"Exponential function\" + 0.053*\"Polygon\" + 0.051*\"Deterministic system (philosophy)\" + 0.048*\"Binary decision diagram\" + 0.042*\"Context awareness\" + 0.040*\"Logarithm\"\n",
      "2021-04-21 00:02:05,623 : INFO : topic #103 (0.008): 0.127*\"Distortion\" + 0.112*\"Hash function\" + 0.061*\"Encoder\" + 0.056*\"Data science\" + 0.052*\"Euclidean distance\" + 0.046*\"Tree structure\" + 0.040*\"Signal reconstruction\" + 0.032*\"Password\" + 0.032*\"Poisson distribution\" + 0.029*\"Sampling (statistics)\"\n",
      "2021-04-21 00:02:05,623 : INFO : topic #104 (0.008): 0.190*\"Knowledge base\" + 0.116*\"Knowledge engineering\" + 0.101*\"Workflow\" + 0.069*\"Input/output\" + 0.066*\"Small number\" + 0.052*\"Workflow management system\" + 0.048*\"Workflow technology\" + 0.042*\"Workflow engine\" + 0.030*\"Integrated design\" + 0.029*\"Network performance\"\n",
      "2021-04-21 00:02:05,624 : INFO : topic #105 (0.008): 0.104*\"Gaussian process\" + 0.074*\"Game theory\" + 0.067*\"Covariance matrix\" + 0.062*\"Design process\" + 0.057*\"Gesture\" + 0.052*\"Metaheuristic\" + 0.041*\"Quantum channel\" + 0.039*\"Minimum mean square error\" + 0.031*\"Ant colony optimization algorithms\" + 0.031*\"Amplitude damping channel\"\n",
      "2021-04-21 00:02:05,625 : INFO : topic #106 (0.008): 0.240*\"Communication channel\" + 0.116*\"Channel capacity\" + 0.089*\"Decoding methods\" + 0.071*\"Fading\" + 0.063*\"MIMO\" + 0.050*\"Channel state information\" + 0.047*\"Linear network coding\" + 0.041*\"Gaussian\" + 0.035*\"Relay channel\" + 0.031*\"Precoding\"\n",
      "2021-04-21 00:02:05,626 : INFO : topic #107 (0.008): 0.260*\"Multimedia\" + 0.171*\"Computer science\" + 0.074*\"User interface\" + 0.055*\"Augmented reality\" + 0.055*\"Rendering (computer graphics)\" + 0.054*\"Mobile device\" + 0.052*\"Computer graphics\" + 0.029*\"Distributed computing\" + 0.026*\"Human–computer interaction\" + 0.023*\"Computer animation\"\n",
      "2021-04-21 00:02:05,626 : INFO : topic #108 (0.008): 0.231*\"Natural language processing\" + 0.171*\"Computer science\" + 0.131*\"Peer-to-peer\" + 0.073*\"Modular design\" + 0.047*\"Thread (computing)\" + 0.031*\"Speech recognition\" + 0.027*\"Hypermedia\" + 0.026*\"Fifth-generation programming language\" + 0.019*\"Sign language\" + 0.019*\"Workstation\"\n",
      "2021-04-21 00:02:05,627 : INFO : topic #109 (0.008): 0.145*\"Semantic Web\" + 0.112*\"Query language\" + 0.074*\"Query optimization\" + 0.073*\"Distributed database\" + 0.073*\"Sensor fusion\" + 0.066*\"Query expansion\" + 0.059*\"Annotation\" + 0.055*\"Web query classification\" + 0.054*\"Web search query\" + 0.045*\"Sargable\"\n",
      "2021-04-21 00:02:05,628 : INFO : topic #110 (0.008): 0.235*\"Semantics\" + 0.132*\"Indexation\" + 0.128*\"Decision support system\" + 0.097*\"Search engine indexing\" + 0.074*\"Exploit\" + 0.043*\"Computer science\" + 0.042*\"Linear system\" + 0.032*\"Rule-based system\" + 0.021*\"WordNet\" + 0.015*\"Separable space\"\n",
      "2021-04-21 00:02:05,629 : INFO : topic #111 (0.008): 0.136*\"Speedup\" + 0.060*\"Computer hardware\" + 0.052*\"VHDL\" + 0.050*\"Boundary value problem\" + 0.049*\"Semantic integration\" + 0.043*\"Hardware description language\" + 0.042*\"Field-programmable gate array\" + 0.034*\"Weighting\" + 0.028*\"Ontology alignment\" + 0.026*\"Coprocessor\"\n",
      "2021-04-21 00:02:05,630 : INFO : topic #112 (0.008): 0.353*\"Simulation\" + 0.224*\"Computer science\" + 0.182*\"Distributed computing\" + 0.050*\"Resource management\" + 0.016*\"Digital signal processing\" + 0.010*\"Orchestration (computing)\" + 0.010*\"Machine learning\" + 0.010*\"Modeling and simulation\" + 0.009*\"Navigation system\" + 0.008*\"Digital signal\"\n",
      "2021-04-21 00:02:05,630 : INFO : topic #113 (0.008): 0.323*\"Data mining\" + 0.186*\"Computer science\" + 0.117*\"Information extraction\" + 0.114*\"Knowledge extraction\" + 0.076*\"Population\" + 0.035*\"Association rule learning\" + 0.035*\"Data stream mining\" + 0.017*\"Distributed computing\" + 0.017*\"Response time\" + 0.010*\"Vector space model\"\n",
      "2021-04-21 00:02:05,631 : INFO : topic #114 (0.008): 0.241*\"Support vector machine\" + 0.086*\"Mathematical proof\" + 0.080*\"Segmentation\" + 0.068*\"Computer science\" + 0.068*\"Machine learning\" + 0.052*\"Lattice (order)\" + 0.046*\"Image registration\" + 0.042*\"Kernel (statistics)\" + 0.023*\"Human visual system model\" + 0.023*\"HOL\"\n",
      "2021-04-21 00:02:05,632 : INFO : topic #115 (0.008): 0.260*\"Upper and lower bounds\" + 0.143*\"Discrete mathematics\" + 0.118*\"Polynomial\" + 0.089*\"Combinatorics\" + 0.057*\"Finite field\" + 0.040*\"Prime (order theory)\" + 0.040*\"Decidability\" + 0.023*\"Cardinality\" + 0.018*\"Coding gain\" + 0.017*\"Elliptic curve\"\n",
      "2021-04-21 00:02:05,633 : INFO : topic #116 (0.008): 0.199*\"Optimization problem\" + 0.086*\"Logic programming\" + 0.078*\"Program analysis\" + 0.050*\"Data integrity\" + 0.045*\"Travelling salesman problem\" + 0.044*\"Belief propagation\" + 0.038*\"Prolog\" + 0.033*\"Reactive system\" + 0.030*\"Combinatorial optimization\" + 0.029*\"Metric space\"\n",
      "2021-04-21 00:02:05,633 : INFO : topic #117 (0.008): 0.273*\"Information theory\" + 0.109*\"Mutual information\" + 0.093*\"Redundancy (engineering)\" + 0.061*\"Word error rate\" + 0.044*\"Matching (graph theory)\" + 0.034*\"Blossom algorithm\" + 0.027*\"Adaptive control\" + 0.023*\"3-dimensional matching\" + 0.023*\"Deterministic algorithm\" + 0.022*\"Isomorphism\"\n",
      "2021-04-21 00:02:05,634 : INFO : topic #118 (0.008): 0.382*\"The Internet\" + 0.145*\"Computer science\" + 0.100*\"Distributed computing\" + 0.043*\"Computer security\" + 0.041*\"Web application\" + 0.020*\"Phrase\" + 0.019*\"Sentence\" + 0.016*\"Hop (networking)\" + 0.015*\"Radar\" + 0.015*\"Processing delay\"\n",
      "2021-04-21 00:02:05,635 : INFO : topic #119 (0.008): 0.208*\"Intelligent agent\" + 0.148*\"Nonlinear system\" + 0.049*\"Formal language\" + 0.043*\"Backpropagation\" + 0.040*\"Matched filter\" + 0.039*\"Kalman filter\" + 0.038*\"OWL-S\" + 0.035*\"Chip\" + 0.027*\"Ambiguity\" + 0.020*\"Nyquist–Shannon sampling theorem\"\n"
     ]
    }
   ],
   "source": [
    "new_topics = lda_model.print_topics(124)"
   ]
  },
  {
   "cell_type": "code",
   "execution_count": null,
   "metadata": {},
   "outputs": [],
   "source": [
    "print(new_topics)"
   ]
  },
  {
   "cell_type": "code",
   "execution_count": 68,
   "metadata": {},
   "outputs": [
    {
     "data": {
      "text/html": [
       "\n",
       "<link rel=\"stylesheet\" type=\"text/css\" href=\"https://cdn.rawgit.com/bmabey/pyLDAvis/files/ldavis.v1.0.0.css\">\n",
       "\n",
       "\n",
       "<div id=\"ldavis_el1823614861120339205521153931\"></div>\n",
       "<script type=\"text/javascript\">\n",
       "\n",
       "var ldavis_el1823614861120339205521153931_data = {\"mdsDat\": {\"x\": [0.36962056255471465, -0.10935217314029526, 0.5385351951910918, -0.03474858413025622, -0.1484505475946577, -0.1699175923830856, 0.1536887133571196, 0.36378250353300773, -0.02610426169326531, 0.062481093891104754, -0.15782464445491484, -0.24173212743968261, 0.3751002507363444, -0.10339855139658444, -0.3532522093725457, 0.4482758316489012, -0.13330730296039867, -0.2371076015473889, 0.48685521802328124, 0.02829859783390854, -0.2011226893605035, -0.10391747433004085, -0.1021447784725564, 0.5330363385381245, -0.026142990369913598, -0.07128062687753765, 0.02603643414364226, 0.0316535579021756, -0.35404831641381285, 0.24884108838039465, 0.2255341274628316, -0.06937220959842703, -0.13553718637198095, -0.2725570641624683, 0.3000543065464853, 0.2023484108906268, -0.35284894015906576, 0.14337081766488963, -0.09560084208983975, 0.31497215391332095, -0.2474382944032144, -0.38614498786423906, -0.5176809864971506, 0.1740082389001786, -0.49523604001137594, -0.3270649465707377, -0.4224842283458853, 0.06974302502050221, -0.41597687907699604, 0.0911667232672806, -0.15757061439280318, 0.026007565301399742, 0.2556389976740392, 0.1566142362038944, -0.028715890470286554, 0.09113554964587543, -0.5308863759088974, 0.09803053170407956, -0.1912792723778557, -0.09176234712698654, -0.27104053970221487, 0.004395316137161906, 0.3402612487811217, 0.2298166187549562, 0.5006366662709774, 0.26474294497238693, 0.40277553025924345, -0.2126856854854239, 0.22201245697665634, -0.0178993865083339, 0.46930618503108806, 0.5070187004695574, 0.05514777470921476, 0.1652171171893226, 0.3810946858640403, -0.5287742406157026, -0.2371991806204791, -0.3286413567754078, -0.45355207098986583, -0.40512247573646665, -0.07019143200270232, -0.2879747095740339, 0.2831215201715221, -0.20984628626391463, 0.03119967835051184, -0.26845754586780796, -0.4847675296297284, -0.3313075575171281, -0.27376902434643546, -0.47155657818690955, 0.380046511217187, 0.001834140093342167, 0.34305213363725434, 0.3834032016082444, 0.4674048869580159, -0.4330722502165892, -0.43428027870358843, 0.41369034557971673, 0.18246021347090347, 0.39382597017509224, -0.16901062183225815, 0.09910677201203194, -0.3966864922118174, 0.2809163150663243, 0.2735942209317715, -0.2158845752716565, -0.24295935009999103, 0.45612151873366813, 0.2338613470442503, 0.15901953004656513, -0.4661119665313128, -0.13765650710633567, -0.31851316459085594, -0.06992805307236163, 0.43061191859997, 0.038904243341615775, 0.12124076616868035, 0.46850963693741765, 0.05553247746042705, 0.19418577387551758], \"y\": [-0.2651186969102609, -0.09331586546762416, -0.13956065926505368, -0.313108994795317, 0.039989549239161454, 0.3251732947953329, 0.3271159582364647, -0.4081096917556279, 0.11117890501188371, 0.0021436927341315875, -0.22224579752489396, 0.06123277960399081, 0.39107457668945833, 0.02648130549620975, 0.09569468970851262, 0.29703679768852564, 0.21358481767445628, 0.1897692616007539, 0.22679959605751812, 0.2315157578584675, 0.13895286729549444, -0.27883935904541657, -0.3731740249215544, -0.04272444423718289, 0.29299678232983317, -0.5084834726168271, -0.078986330963503, -0.18153316701742903, 0.2886390794642978, 0.3643742845859936, 0.1742674484649415, -0.1776124772306081, -0.4510170257694029, -0.23724760589620233, -0.4341418014894879, -0.32938280575081186, -0.3179113943086591, -0.30080363671904325, 0.15665319622589227, 0.23253696375901436, -0.13040888794737868, -0.0065753763199599075, 0.10649358816826315, 0.24969630105866622, -0.1296223094612048, 0.1721704428774788, 0.17972477975569853, 0.06959006439657678, -0.09156251018672937, -0.3392599078346178, -0.5185998111507285, -0.5325065577584637, -0.278012395011843, -0.5070573790986604, 0.39264781659328396, -0.5120964565956069, -0.07026010979248018, 0.5263017049042734, -0.41416867155392845, 0.32473538531647, 0.2570060936341842, 0.016809250760971606, -0.04185451021901157, 0.05260231980395045, 0.10375754471301991, -0.18430816945588593, 0.1750345104640269, -0.05702529883186019, 0.47875903044372775, 0.537128927222041, -0.016428845015245577, 0.0457576114762113, 0.1397811046678518, -0.17810658177134914, -0.11495438368402909, 0.006369928746825781, 0.4131383365994123, 0.35890367209787283, -0.2792840665122669, -0.3444228247919606, 0.46843994104224357, 0.43120239577674524, 0.018988754527984042, -0.1953138083098552, -0.367151141325757, -0.0023716389147629188, -0.20173502912404648, -0.12969856887847966, -0.36528311557265214, 0.15461482599978907, 0.3374653919850094, -0.4761120595063896, 0.1511254945442484, -0.34355467776732757, -0.1975388792841148, 0.3267116160536752, 0.24606861768616695, -0.21273132118310384, -0.43681758164214013, 0.05967521503614743, 0.5108664247518516, -0.11738128024132234, -0.20864829726975437, 0.43614830833707424, 0.2883160039412513, 0.34387271067635833, -0.42456042264472865, -0.11372681792875294, -0.44669094454968067, 0.488244676822002, 0.03523959867490236, 0.4586310507526716, -0.39899604805293243, -0.05886793757510484, -0.2716107865477991, 0.48053455349521407, 0.378576673118626, 0.16202304174489987, 0.3567737073779028, -0.05851635956908312], \"topics\": [1, 2, 3, 4, 5, 6, 7, 8, 9, 10, 11, 12, 13, 14, 15, 16, 17, 18, 19, 20, 21, 22, 23, 24, 25, 26, 27, 28, 29, 30, 31, 32, 33, 34, 35, 36, 37, 38, 39, 40, 41, 42, 43, 44, 45, 46, 47, 48, 49, 50, 51, 52, 53, 54, 55, 56, 57, 58, 59, 60, 61, 62, 63, 64, 65, 66, 67, 68, 69, 70, 71, 72, 73, 74, 75, 76, 77, 78, 79, 80, 81, 82, 83, 84, 85, 86, 87, 88, 89, 90, 91, 92, 93, 94, 95, 96, 97, 98, 99, 100, 101, 102, 103, 104, 105, 106, 107, 108, 109, 110, 111, 112, 113, 114, 115, 116, 117, 118, 119, 120], \"cluster\": [1, 1, 1, 1, 1, 1, 1, 1, 1, 1, 1, 1, 1, 1, 1, 1, 1, 1, 1, 1, 1, 1, 1, 1, 1, 1, 1, 1, 1, 1, 1, 1, 1, 1, 1, 1, 1, 1, 1, 1, 1, 1, 1, 1, 1, 1, 1, 1, 1, 1, 1, 1, 1, 1, 1, 1, 1, 1, 1, 1, 1, 1, 1, 1, 1, 1, 1, 1, 1, 1, 1, 1, 1, 1, 1, 1, 1, 1, 1, 1, 1, 1, 1, 1, 1, 1, 1, 1, 1, 1, 1, 1, 1, 1, 1, 1, 1, 1, 1, 1, 1, 1, 1, 1, 1, 1, 1, 1, 1, 1, 1, 1, 1, 1, 1, 1, 1, 1, 1, 1], \"Freq\": [3.0792661795644594, 2.3683653198192713, 2.348469813684419, 2.3046889668994153, 1.5144414572507081, 1.4973902959009628, 1.4283303841461383, 1.4165701262820904, 1.4077273501338443, 1.3644452682356831, 1.3291230297781427, 1.3280347042873757, 1.3253256104613844, 1.281112452970307, 1.2722965222845644, 1.200648789472749, 1.1697253280209075, 1.14098445177128, 1.1236629188319502, 1.0690608477711443, 1.0040283264727554, 1.0026243815762939, 0.9891501380794193, 0.9716809773809922, 0.9652421614796766, 0.9606502756293314, 0.9406181643138454, 0.9282877743249606, 0.9133346758777368, 0.9127957629914066, 0.9041928365559406, 0.8749951017700928, 0.8414641726781308, 0.8412565225156741, 0.8334436982968941, 0.8324500308046092, 0.8232395220338344, 0.8070257502879079, 0.8047787500671713, 0.7993436149382779, 0.7820565068260297, 0.7820067388789136, 0.7810357376013264, 0.7808889179789417, 0.775964868203126, 0.7740062238995099, 0.7718795991582207, 0.7647563936951368, 0.7554636493701593, 0.7526410092197307, 0.7437416345427524, 0.7399219198680221, 0.73708118548376, 0.7284171031195366, 0.7200890802564637, 0.7194210023366984, 0.7163525258214126, 0.7120510636428032, 0.70955669896755, 0.7045136635109762, 0.702942147867171, 0.6974804952268723, 0.6956674076869599, 0.6933968528059606, 0.6870742294664343, 0.6861985285249333, 0.681159751319607, 0.6798243500184253, 0.6763338554201032, 0.6737410595594572, 0.673658553510046, 0.6702825969409131, 0.668670472004754, 0.668604162684239, 0.66783182462989, 0.667604706313279, 0.6669701822184279, 0.664314134650717, 0.6619299031609435, 0.6580132519215376, 0.6516811004886138, 0.6430924546679799, 0.6407057390499213, 0.6340771870859897, 0.6319834958857297, 0.6306649351703721, 0.6305968870737452, 0.6283242131766523, 0.6180860054101079, 0.6152120615796275, 0.614644275761122, 0.6132858239716749, 0.6117077402792672, 0.6113436834968383, 0.6060705618018265, 0.6020380131825505, 0.5998641146832396, 0.5867046511573203, 0.5780359899014336, 0.5712751924330003, 0.570854650118778, 0.5613220883708459, 0.5587127110255602, 0.5550224481688253, 0.554705734878798, 0.5518209073775723, 0.5514347477205296, 0.5500914681960873, 0.5428130925808458, 0.5394659823241967, 0.5090847398655489, 0.5080242134457331, 0.5000085765764158, 0.49957092088639654, 0.48481598706872076, 0.47748645900871783, 0.460818129571001, 0.4542171798025514, 0.44708436643184, 0.38943502637054306]}, \"tinfo\": {\"Term\": [\"Discrete mathematics\", \"Mathematics\", \"Computer science\", \"Architecture\", \"Computer vision\", \"Distributed computing\", \"Theoretical computer science\", \"Mathematical optimization\", \"Image processing\", \"The Internet\", \"Information system\", \"Algorithm\", \"Software development\", \"Real-time computing\", \"Simulation\", \"Data mining\", \"Pattern recognition\", \"Combinatorics\", \"Artificial neural network\", \"Communication channel\", \"Database\", \"Software\", \"User interface\", \"Machine learning\", \"Mobile computing\", \"Upper and lower bounds\", \"Linear code\", \"Web service\", \"Block code\", \"Wireless network\", \"Bounded function\", \"Topology\", \"Bipartite graph\", \"Binary logarithm\", \"Set theory\", \"Random walk\", \"Intelligent tutoring system\", \"Functional decomposition\", \"Generalized relative entropy\", \"Quantum relative entropy\", \"Divide and conquer algorithms\", \"Conditional quantum entropy\", \"Financial economics\", \"cons\", \"Tomography\", \"Bounded set\", \"Database index\", \"Eigenfunction\", \"Semi-Thue system\", \"Disjoint sets\", \"Gaussian binomial coefficient\", \"Human error\", \"Crystal structure\", \"Index locking\", \"Troubleshooting\", \"Standard array\", \"Mathematics\", \"Transmission electron microscopy\", \"Homotopy\", \"CSS code\", \"Combinatorics\", \"Discrete mathematics\", \"Mathematical analysis\", \"Computer science\", \"Artificial neural network\", \"Artificial intelligence\", \"Genetic algorithm\", \"Evolutionary algorithm\", \"Telecommunications\", \"Genetic programming\", \"Evolutionary computation\", \"Joint entropy\", \"R\\u00e9nyi entropy\", \"Computational biology\", \"Memetic algorithm\", \"Flow shop scheduling\", \"Scheduling (production processes)\", \"Deep learning\", \"Decomposition method (constraint satisfaction)\", \"Fourier analysis\", \"Information diagram\", \"Search analytics\", \"Evolutionary music\", \"Cognitive skill\", \"Lottery scheduling\", \"Database search engine\", \"Window function\", \"Thumbnail\", \"Bandwidth compression\", \"Extranet\", \"Macrocell array\", \"DICOM\", \"Logic block\", \"Linear genetic programming\", \"Electronic engineering\", \"Machine learning\", \"Computer science\", \"Distributed computing\", \"Linear code\", \"Block code\", \"Concatenated error correction code\", \"Serial concatenated convolutional codes\", \"Expander code\", \"Low-density parity-check code\", \"Sequential decoding\", \"List decoding\", \"Berlekamp\\u2013Welch algorithm\", \"Convolutional code\", \"Constant-weight code\", \"Forward error correction\", \"Polynomial code\", \"Group code\", \"BCH code\", \"Soft-decision decoder\", \"Luby transform code\", \"Ternary Golay code\", \"Iris recognition\", \"Fountain code\", \"Binary Golay code\", \"Quadrature amplitude modulation\", \"Gray code\", \"Attenuation\", \"Real algebraic geometry\", \"Real Time Streaming Protocol\", \"Color depth\", \"Histogram equalization\", \"Affine hull\", \"Coset\", \"Hamming code\", \"Decoding methods\", \"Binary code\", \"Combinatorics\", \"Discrete mathematics\", \"Computer vision\", \"Facial recognition system\", \"Principal component analysis\", \"Face detection\", \"Three-dimensional face recognition\", \"Approximation error\", \"Node (networking)\", \"Silhouette\", \"Vertex (graph theory)\", \"Gait\", \"Content-addressable memory\", \"Data as a service\", \"Degree (graph theory)\", \"Provable security\", \"Neighbourhood (graph theory)\", \"Wavelength\", \"Radar imaging\", \"Feedback vertex set\", \"Register-transfer level\", \"Gait (human)\", \"Circulant graph\", \"Depth of field\", \"Services marketing\", \"Bijection\", \"Schematic\", \"Image processing\", \"Zipf's law\", \"Nervous system network models\", \"Face Recognition Grand Challenge\", \"Forward secrecy\", \"Biometrics\", \"Feature extraction\", \"Invariant (mathematics)\", \"Computer science\", \"Feature (computer vision)\", \"Distributed computing\", \"Theoretical computer science\", \"Interoperability\", \"Tornado code\", \"State space\", \"Process control\", \"Burst error-correcting code\", \"Variable-order Bayesian network\", \"Interpreter\", \"Observable\", \"Time domain\", \"Dissemination\", \"Burst error\", \"Hidden semi-Markov model\", \"Invertible matrix\", \"Information Dissemination\", \"Sequential estimation\", \"Sequential probability ratio test\", \"Planner\", \"Queuing delay\", \"Rank (linear algebra)\", \"Fractal analysis\", \"Control unit\", \"Greatest common divisor\", \"Open Archives Initiative\", \"Program derivation\", \"Sammon mapping\", \"Discrete mathematics\", \"Distributed computing\", \"Computer science\", \"Machine learning\", \"Software\", \"Component-based software engineering\", \"Software architecture\", \"Software system\", \"Unified Modeling Language\", \"Metamodeling\", \"Object Constraint Language\", \"Statistical model\", \"Modeling language\", \"Tree traversal\", \"Voting\", \"Magnitude (mathematics)\", \"Information visualization\", \"Object-oriented design\", \"Model-driven architecture\", \"Horizontal and vertical\", \"Common Component Architecture\", \"Earth system science\", \"Pre-play attack\", \"Component (UML)\", \"Superstructure\", \"Tangent space\", \"Atmospheric model\", \"Ageing\", \"Intelligent sensor\", \"Presentation layer\", \"Typical set\", \"Reflection attack\", \"Software development\", \"Software architecture description\", \"Computer science\", \"Distributed computing\", \"Architecture\", \"Systems architecture\", \"Internet Protocol\", \"Information integration\", \"Image resolution\", \"Packet switching\", \"Code generation\", \"Complete information\", \"Task analysis\", \"Iterative and incremental development\", \"External Data Representation\", \"IP tunnel\", \"Suurballe's algorithm\", \"Customer relationship management\", \"Renewal theory\", \"User Datagram Protocol\", \"IP address management\", \"Hopcroft\\u2013Karp algorithm\", \"Transport layer\", \"Black box (phreaking)\", \"First class\", \"Abductive logic programming\", \"Lexical item\", \"Tarjan's strongly connected components algorithm\", \"Categorial grammar\", \"Union type\", \"Standard ML\", \"Call site\", \"Distributed computing\", \"Computer science\", \"Communication channel\", \"Channel capacity\", \"MIMO\", \"Channel state information\", \"Linear network coding\", \"Gaussian\", \"Relay channel\", \"Precoding\", \"Independent component analysis\", \"Cryptosystem\", \"Spatial correlation\", \"Blind signal separation\", \"Source separation\", \"E-commerce\", \"Information protection policy\", \"Scalar (physics)\", \"Dirty paper coding\", \"Payment\", \"Atomicity\", \"Steady state\", \"Principle of compositionality\", \"Underdetermined system\", \"Short-time Fourier transform\", \"Phylogenetic tree\", \"Stimulus (physiology)\", \"Compatibility (mechanics)\", \"Excitatory postsynaptic potential\", \"Ubiquitous commerce\", \"Characteristic polynomial\", \"Envelope detector\", \"Fading\", \"Decoding methods\", \"Real-time computing\", \"Network packet\", \"Bandwidth (signal processing)\", \"Latency (engineering)\", \"Packet loss\", \"Video quality\", \"Overlay\", \"Randomness\", \"Network traffic control\", \"Unicast\", \"Retransmission\", \"Reference frame\", \"Bandwidth allocation\", \"Multiprotocol Label Switching\", \"Multigraph\", \"Recall\", \"Dynamic bandwidth allocation\", \"Partial k-tree\", \"Capacity planning\", \"Conceptual graph\", \"Selection algorithm\", \"Price of anarchy\", \"Boolean conjunctive query\", \"Implicit graph\", \"Randomness tests\", \"Computer network\", \"Distributed computing\", \"Computer science\", \"Dividend\", \"Financial risk management\", \"Observed information\", \"General insurance\", \"S-matrix\", \"Computation tree\", \"Risk pool\", \"Auto insurance risk selection\", \"Topological tensor product\", \"Scalability\", \"Parallel computing\", \"Parallel algorithm\", \"Object-oriented programming\", \"Software portability\", \"Massively parallel\", \"Programmer\", \"Heuristic (computer science)\", \"Beam search\", \"Execution model\", \"Best-first search\", \"Iterated local search\", \"Logical framework\", \"Incremental heuristic search\", \"Service layer\", \"Branching factor\", \"Iterative deepening depth-first search\", \"Beam stack search\", \"Nuprl\", \"Depth-first search\", \"Fringe search\", \"Embarrassingly parallel\", \"Sieve of Eratosthenes\", \"Distributed computing\", \"Computer science\", \"Telnet\", \"FileVault\", \"Isoperimetric inequality\", \"Tracking error\", \"Chi-square test\", \"Interior\", \"Space (mathematics)\", \"Heyting arithmetic\", \"Topological tensor product\", \"Authentication server\", \"Wireless network\", \"Wireless sensor network\", \"Sensor array\", \"Key distribution in wireless sensor networks\", \"STREAMS\", \"Energy consumption\", \"Mobile phone\", \"Differentiated services\", \"Pairwise comparison\", \"Mobile database\", \"Neighbourhood (mathematics)\", \"Fair queuing\", \"Stateless protocol\", \"Query plan\", \"Random early detection\", \"Network allocation vector\", \"Active queue management\", \"Shortest-path tree\", \"Token bucket\", \"Code reuse\", \"Symmetric graph\", \"PEPA\", \"Behavior-based robotics\", \"Wireless ad hoc network\", \"Mobile computing\", \"Computer network\", \"Distributed computing\", \"Computer science\", \"Mixin\", \"Optical amplifier\", \"Abstract type\", \"Dividend\", \"Edge dominating set\", \"Chi-square test\", \"Auto insurance risk selection\", \"General insurance\", \"Consumer privacy\", \"Key person insurance\", \"Tracking error\", \"Interphase\", \"The Internet\", \"Web application\", \"Phrase\", \"Hop (networking)\", \"Radar\", \"Processing delay\", \"Anonymity\", \"Internet privacy\", \"Uniform memory access\", \"End-to-end delay\", \"Transmission delay\", \"Zone Routing Protocol\", \"Key (lock)\", \"Intranet\", \"Medical imaging\", \"Flat memory model\", \"Fast packet switching\", \"Confidentiality\", \"High-level design\", \"Memory map\", \"Interleaved memory\", \"Link state packet\", \"Topic Maps\", \"Guideline\", \"Phonetics\", \"Cache-only memory architecture\", \"Transmitter power output\", \"Radar tracker\", \"Computing with Memory\", \"Globally asynchronous locally synchronous\", \"Sentence\", \"Computer security\", \"Computer science\", \"Distributed computing\", \"Mathematical optimization\", \"Finite-state machine\", \"Convergence (routing)\", \"Convex optimization\", \"Inequality\", \"Graph rewriting\", \"Regular language\", \"Independent and identically distributed random variables\", \"Oracle\", \"Regular polygon\", \"Fixed point\", \"Residual\", \"Existential quantification\", \"Convex function\", \"Subclass\", \"Distributed design patterns\", \"Markov property\", \"Quadratic residue code\", \"Linear equation\", \"Formal semantics (linguistics)\", \"Quadratic residue\", \"Computational semantics\", \"Schema matching\", \"Balance equation\", \"Markov renewal process\", \"Counting process\", \"Layered queueing network\", \"Cross entropy\", \"Distributed object communication\", \"Rate of convergence\", \"Discrete mathematics\", \"Mathematics\", \"Linear programming\", \"Simulation\", \"Resource management\", \"Digital signal processing\", \"Orchestration (computing)\", \"Modeling and simulation\", \"Navigation system\", \"Digital signal\", \"Revenue\", \"Invariant (physics)\", \"Emerging technologies\", \"MATLAB\", \"Digital signal processor\", \"Proof of concept\", \"Deterministic pushdown automaton\", \"Ubiquitous robot\", \"Design methods\", \"Multimodal interaction\", \"Tree rotation\", \"Competitive advantage\", \"Embedded pushdown automaton\", \"Bootstrapping\", \"Internet traffic engineering\", \"Cycles per instruction\", \"Low-rank approximation\", \"Digital data\", \"Deterministic context-free grammar\", \"Deterministic context-free language\", \"Toolbox\", \"Phase detector\", \"Sophistication\", \"Rapid prototyping\", \"Distributed computing\", \"Computer science\", \"Nested word\", \"Machine learning\", \"Systems engineering\", \"Social software engineering\", \"Package development process\", \"Software Engineering Process Group\", \"Project management\", \"Software design description\", \"Government\", \"Software peer review\", \"Diagram\", \"Extreme programming\", \"Risk analysis (business)\", \"Risk management\", \"Model transformation\", \"Separation of concerns\", \"Commercial off-the-shelf\", \"Toeplitz matrix\", \"Evolutionary programming\", \"Software walkthrough\", \"Risk assessment\", \"Virtual team\", \"Spatial frequency\", \"Pair programming\", \"Process capability index\", \"FERET database\", \"Capability Maturity Model Integration\", \"Project planning\", \"Vandermonde matrix\", \"Capability Maturity Model\", \"Cauchy distribution\", \"Tacit knowledge\", \"Software construction\", \"Software development\", \"Distributed computing\", \"Computer science\", \"Software deployment\", \"Pattern recognition\", \"Filter (signal processing)\", \"Probability distribution\", \"Speech processing\", \"Random variable\", \"Classifier (linguistics)\", \"Speaker recognition\", \"Mixture model\", \"Curvature\", \"Regularization (mathematics)\", \"Markov kernel\", \"Rate-monotonic scheduling\", \"Cepstrum\", \"Equivalence relation\", \"Moment-generating function\", \"Multiprocessor scheduling\", \"Probability mass function\", \"Convolution of probability distributions\", \"Regularization perspectives on support vector machines\", \"Brownian motion\", \"Mean curvature flow\", \"Speech recognition\", \"Discrete mathematics\", \"General insurance\", \"Tracking error\", \"Network Service Access Point Identifier\", \"Telnet\", \"FileVault\", \"Generalized gamma distribution\", \"Gamma distribution\", \"Fisher's inequality\", \"Modal verb\", \"Laurent polynomial\", \"S-matrix\", \"Sensemaking\", \"Chi-square test\", \"Tail call\", \"Auto insurance risk selection\", \"Hyperparameter optimization\", \"Dividend\", \"Hyperparameter\", \"Pointer aliasing\", \"Mixin\", \"Financial risk management\", \"Cognitive neuroscience\", \"Collaboratory\", \"Abstract type\", \"Edge dominating set\", \"Consumer privacy\", \"Nearest-neighbor chain algorithm\", \"Zernike polynomials\", \"Key person insurance\", \"NTLMSSP\", \"Isoperimetric inequality\", \"Authentication server\", \"Multipoint relay\", \"Topological tensor product\", \"Flexible Macroblock Ordering\", \"Fuzzy Control Language\", \"User assistance\", \"Ontology-based data integration\", \"Inductive logic programming\", \"Cryptographic primitive\", \"Blind signature\", \"Requirements analysis\", \"Ring signature\", \"Multilayer perceptron\", \"Soundness\", \"Schnorr signature\", \"Suggested Upper Merged Ontology\", \"Deductive database\", \"Wheelchair\", \"Merkle signature scheme\", \"Non-functional requirement\", \"Phone\", \"Boolean data type\", \"Requirements management\", \"Braille\", \"Inductive reasoning\", \"MAXEkSAT\", \"Input device\", \"Modulus\", \"Non-functional testing\", \"Exponential decay\", \"Preemption\", \"Customer retention\", \"Adaptive resonance theory\", \"Chien search\", \"Reservation price\", \"Usability\", \"User interface\", \"Human\\u2013computer interaction\", \"Computer science\", \"Distributed computing\", \"Requirements engineering\", \"Information extraction\", \"Knowledge extraction\", \"Population\", \"Association rule learning\", \"Data stream mining\", \"Response time\", \"Vector space model\", \"Access time\", \"Logical consequence\", \"Matrix analysis\", \"Ordinal number\", \"Media access control\", \"Strong perfect graph theorem\", \"Learnability\", \"Genetic program\", \"Mutation\", \"AND gate\", \"Shared medium\", \"Iterative learning control\", \"Odd graph\", \"Adaptive architecture\", \"Memorization\", \"Data mining\", \"Video Graphics Array\", \"Document clustering\", \"Computer science\", \"Method of steepest descent\", \"Dividend\", \"Isoperimetric inequality\", \"Tracking error\", \"Distributed computing\", \"NTLMSSP\", \"Rebound attack\", \"Authentication server\", \"Microstructure\", \"Telnet\", \"Odometer\", \"Head direction cells\", \"Closure (topology)\", \"Heyting algebra\", \"Heyting arithmetic\", \"Upper and lower bounds\", \"Polynomial\", \"Finite field\", \"Prime (order theory)\", \"Decidability\", \"Cardinality\", \"Coding gain\", \"Elliptic curve\", \"Covering code\", \"Antenna diversity\", \"Johnson bound\", \"Stochastic matrix\", \"Pairwise error probability\", \"Plotkin bound\", \"Space\\u2013time code\", \"Hyperelliptic curve\", \"Cardinal number\", \"Laplace operator\", \"Discriminant\", \"Chernoff bound\", \"Laplace transform\", \"M/G/1 queue\", \"Algebraic number field\", \"Division algebra\", \"Change data capture\", \"P versus NP problem\", \"One half\", \"Leaky bucket\", \"Synchronizing\", \"NP\", \"Combinatorics\", \"Discrete mathematics\", \"Decoding methods\", \"Hamming weight\", \"Hamming distance\", \"Cryptography\", \"Computation\", \"Public-key cryptography\", \"Variable-length code\", \"Shannon\\u2013Fano coding\", \"RDF\", \"Electronic circuit\", \"Tunstall coding\", \"CMOS\", \"Entropy encoding\", \"Logic gate\", \"Huffman coding\", \"Adder\", \"Side channel attack\", \"Power analysis\", \"Canonical Huffman code\", \"Rotation formalisms in three dimensions\", \"Central limit theorem\", \"Dynamic network analysis\", \"JavaScript\", \"Gomory\\u2013Hu tree\", \"L-reduction\", \"Sentiment analysis\", \"Randomized rounding\", \"Integration platform\", \"Military service\", \"Encryption\", \"APX\", \"Euler tour technique\", \"Electronic engineering\", \"Distributed computing\", \"Computer science\", \"Grid\", \"Resource allocation\", \"Grid computing\", \"Semantic grid\", \"Cryptographic protocol\", \"Transmission Control Protocol\", \"Security policy\", \"Erasure code\", \"Key management\", \"Public key infrastructure\", \"Dual code\", \"Virtual memory\", \"Certificate authority\", \"Boomerang attack\", \"Certification\", \"Trellis modulation\", \"Maximum throughput scheduling\", \"Universal composability\", \"Multidimensional parity-check code\", \"Data stream management system\", \"IEEE 802.11\", \"Daemon\", \"Web information system\", \"Multicast address\", \"Network security policy\", \"Periodic function\", \"Pseudorandom generator\", \"Polyomino\", \"Public key certificate\", \"Bivariate analysis\", \"Software deployment\", \"Distributed computing\", \"Computer science\", \"Database\", \"Ontology\", \"Data warehouse\", \"Metadata\", \"Online analytical processing\", \"Smoothing\", \"Entity\\u2013relationship model\", \"Object model\", \"Tracking system\", \"Likelihood-ratio test\", \"Wiener filter\", \"Countermeasure\", \"XML Base\", \"Conflict resolution\", \"Pure mathematics\", \"Martingale (probability theory)\", \"Multidimensional analysis\", \"Mobile broadband\", \"Evaluation function\", \"Asset (computer security)\", \"Design strategy\", \"Linear scale\", \"e-Science\", \"Database administrator\", \"Application software\", \"Mean curvature\", \"Stacking\", \"Omnidirectional camera\", \"Definite clause grammar\", \"Mobile interaction\", \"Data mining\", \"Computer science\", \"Distributed computing\", \"Web service\", \"Service provider\", \"Service delivery framework\", \"Services computing\", \"Service-oriented architecture\", \"Service discovery\", \"Differentiated service\", \"Visual Word\", \"Conceptual model\", \"Service design\", \"Content-based image retrieval\", \"Collision\", \"Automatic image annotation\", \"Process architecture\", \"Service level requirement\", \"Anomaly-based intrusion detection system\", \"Service level objective\", \"Signal transfer function\", \"Line graph\", \"Analog signal\", \"Conditional entropy\", \"Ring network\", \"Grayscale\", \"Steganalysis\", \"Bitmap\", \"Transactional leadership\", \"Amplitude distortion\", \"Comparability graph\", \"WSMO\", \"Host-based intrusion detection system\", \"Service quality\", \"Distributed computing\", \"Computer science\", \"Matrix (mathematics)\", \"Additive white Gaussian noise\", \"Compressed sensing\", \"Sparse matrix\", \"Sparse approximation\", \"White noise\", \"Particle swarm optimization\", \"Modulation\", \"Intersymbol interference\", \"Noise measurement\", \"Spatial intelligence\", \"Multi-swarm optimization\", \"Phase-shift keying\", \"Static analysis\", \"Matrix completion\", \"RDF Schema\", \"Active vision\", \"Color normalization\", \"Clutter\", \"Swarm behaviour\", \"Page cache\", \"Color balance\", \"Continuous phase modulation\", \"Keying\", \"Color quantization\", \"Phase modulation\", \"Logic Control\", \"RDF/XML\", \"Pulse-width modulation\", \"Image formation\", \"Programming language\", \"Gaussian noise\", \"SPARQL\", \"RDF query language\", \"Algorithm\", \"Graph theory\", \"Integer programming\", \"Cryptanalysis\", \"Block cipher\", \"Assignment problem\", \"Delegation\", \"Session Initiation Protocol\", \"Control flow\", \"Information security\", \"Graph partition\", \"Security management\", \"Choreography\", \"Reverse-delete algorithm\", \"Session key\", \"Branch and cut\", \"Auction algorithm\", \"Chosen-ciphertext attack\", \"Revocation\", \"Obligation\", \"Mathematical logic\", \"Information security standards\", \"Information security management\", \"Algebraic data type\", \"Intuitionistic type theory\", \"Standard of Good Practice\", \"Collaborative engineering\", \"Kronecker product\", \"Combinatorial optimization\", \"Linear cryptanalysis\", \"Computer science\", \"Distributed computing\", \"Graph bandwidth\", \"Statistics\", \"Estimator\", \"Approximation algorithm\", \"Stochastic process\", \"Estimation theory\", \"Greedy algorithm\", \"System identification\", \"Econometrics\", \"Self-organization\", \"Spite\", \"Autoregressive model\", \"Frequency domain\", \"Metadata repository\", \"Stochastic neural network\", \"Fisher information\", \"Biological data\", \"Consensus\", \"Data element\", \"Complex network\", \"Commonsense knowledge\", \"Database catalog\", \"Meta Data Services\", \"Polynomial-time approximation scheme\", \"Radial basis function network\", \"Powerset construction\", \"Physical system\", \"Bottleneck traveling salesman problem\", \"2-opt\", \"Orthogonalization\", \"Design research\", \"Computer science\", \"Management science\", \"Signal processing\", \"Algorithmics\", \"Control system\", \"Question answering\", \"Abelian group\", \"Knapsack problem\", \"Random subspace method\", \"Lasso (statistics)\", \"Persistence (computer science)\", \"Spike train\", \"Top-down and bottom-up design\", \"Modular programming\", \"Logic synthesis\", \"CBC-MAC\", \"Integrated services\", \"Instruction prefetch\", \"Continuous knapsack problem\", \"Cascading classifiers\", \"Block cipher mode of operation\", \"Component analysis\", \"RNA splicing\", \"Confusion matrix\", \"Exon\", \"Intron\", \"Fuzzy control system\", \"ID-based cryptography\", \"splice\", \"Computational gene\", \"Abelian variety\", \"Fuzzy logic\", \"Computer science\", \"Distributed computing\", \"Machine learning\", \"Quality of service\", \"Client\\u2013server model\", \"Hierarchical control system\", \"Mobile IP\", \"Handover\", \"Concurrency control\", \"Benchmarking\", \"Wide area network\", \"Branch and bound\", \"Multimedia database\", \"Modalities\", \"Serializability\", \"Systems development life cycle\", \"Wake-sleep algorithm\", \"Multi-task learning\", \"Packet forwarding\", \"Intelligent transportation system\", \"Telematics\", \"Optimistic concurrency control\", \"Exact algorithm\", \"Algorithmic learning theory\", \"End-to-end principle\", \"System of systems\", \"Isolation (database systems)\", \"Register allocation\", \"Nested transaction\", \"Register file\", \"Binary search algorithm\", \"Embedded operating system\", \"Quantum gate\", \"Network element\", \"Distributed transaction\", \"Computer network\", \"Distributed computing\", \"Computer science\", \"Time complexity\", \"Robotics\", \"Robot\", \"Mobile robot\", \"Computational geometry\", \"Shortest path problem\", \"Voltage graph\", \"Bent function\", \"Personally identifiable information\", \"User agent\", \"Dijkstra's algorithm\", \"Distance-hereditary graph\", \"Regular expression\", \"Longest path problem\", \"Lattice reduction\", \"Symmetric function\", \"Chapman\\u2013Robbins bound\", \"Moral graph\", \"Symmetric Boolean function\", \"Quality management\", \"Quartic graph\", \"Piling-up lemma\", \"Key size\", \"Matrix polynomial\", \"Path (graph theory)\", \"Virtual address space\", \"Bhattacharyya distance\", \"Proof complexity\", \"Square-free polynomial\", \"Trilateration\", \"Strength of a graph\", \"Function field of an algebraic variety\", \"Computer science\", \"Distributed computing\", \"Machine learning\", \"Cluster analysis\", \"Correlation clustering\", \"Fuzzy clustering\", \"CURE data clustering algorithm\", \"Schema (psychology)\", \"Canopy clustering algorithm\", \"k-medians clustering\", \"Hierarchical clustering\", \"Multiplication\", \"Local consistency\", \"Global optimization\", \"Data stream clustering\", \"Nonlinear programming\", \"GRASP\", \"Treewidth\", \"Constrained clustering\", \"Determining the number of clusters in a data set\", \"Brown clustering\", \"Floating point\", \"Single-linkage clustering\", \"Constraint (mathematics)\", \"Constraint satisfaction dual problem\", \"Causality\", \"Transient response\", \"Universal Networking Language\", \"Tournament\", \"Hierarchical task network\", \"Scratch\", \"Unimodular matrix\", \"Rounding\", \"Constraint satisfaction problem\", \"Document clustering\", \"Constraint satisfaction\", \"Machine learning\", \"Computer science\", \"Distributed computing\", \"Semantics\", \"Indexation\", \"Decision support system\", \"Search engine indexing\", \"Exploit\", \"Linear system\", \"Rule-based system\", \"WordNet\", \"Separable space\", \"Computational linguistics\", \"Linear algebra\", \"System of linear equations\", \"Maintainability\", \"Generality\", \"Data point\", \"Interoperation\", \"Numerical linear algebra\", \"Almost surely\", \"Video production\", \"Mean-shift\", \"Function space\", \"Routing domain\", \"Granular computing\", \"Sobolev space\", \"Defeasible estate\", \"Common law\", \"Banach space\", \"Hyper-heuristic\", \"Algebra tile\", \"Electronic nose\", \"Computer science\", \"Machine learning\", \"Distributed computing\", \"Multimedia\", \"Augmented reality\", \"Rendering (computer graphics)\", \"Mobile device\", \"Computer graphics\", \"Feedforward neural network\", \"Legacy system\", \"Cloud computing\", \"Type-2 fuzzy sets and systems\", \"Change detection\", \"Markup language\", \"Data acquisition\", \"No-communication theorem\", \"Control flow graph\", \"Range query (database)\", \"Cardiology\", \"Data redundancy\", \"Recurrence quantification analysis\", \"Analysis of variance\", \"Crowding\", \"Fibrillation\", \"Computer animation\", \"User interface\", \"Human\\u2013computer interaction\", \"Storytelling\", \"Computer science\", \"FileVault\", \"S-matrix\", \"Chi-square test\", \"Auto insurance risk selection\", \"Distributed computing\", \"Dividend\", \"Telnet\", \"Isoperimetric inequality\", \"Space (mathematics)\", \"Knowledge representation and reasoning\", \"Inference\", \"Parsing\", \"Shared memory\", \"Syntax\", \"Recursion\", \"Rewriting\", \"Description logic\", \"Multiprocessing\", \"First-order logic\", \"Semantic analytics\", \"Transition system\", \"Reference model\", \"Confluence\", \"Transitive relation\", \"Semantic reasoner\", \"CTL*\", \"Terminology\", \"Computability\", \"Horn clause\", \"Data retrieval\", \"Open Biomedical Ontologies\", \"Lisp\", \"Bigram\", \"Kruskal's algorithm\", \"Learning theory\", \"Romanian\", \"Bulgarian\", \"Belief\\u2013desire\\u2013intention model\", \"Context-sensitive language\", \"Machine learning\", \"Computer science\", \"Natural language processing\", \"Modular design\", \"Thread (computing)\", \"Hypermedia\", \"Fifth-generation programming language\", \"Sign language\", \"Workstation\", \"Hypertext\", \"Service-level agreement\", \"Lexicon\", \"Hash table\", \"Wearable computer\", \"Fourth-generation programming language\", \"Programming language theory\", \"Distributed hash table\", \"Digital storytelling\", \"Structuring\", \"Very high-level programming language\", \"First-generation programming language\", \"Operations management\", \"American Sign Language\", \"Key-based routing\", \"Semantics (computer science)\", \"Small and medium-sized enterprises\", \"Peer-to-peer\", \"Emacs Lisp\", \"Hazardous waste\", \"Occupational safety and health\", \"TOPSIS\", \"Sentence\", \"Speech recognition\", \"Computer science\", \"Web modeling\", \"Web page\", \"Semantic Web Stack\", \"Social Semantic Web\", \"WS-Policy\", \"Web standards\", \"Data Web\", \"WS-I Basic Profile\", \"Declarative programming\", \"Binary tree\", \"WS-Addressing\", \"Memory management\", \"Document management system\", \"Web mapping\", \"Cross-correlation\", \"Electronic document\", \"Circumscription\", \"Connected component\", \"Fortran\", \"Default logic\", \"Statistical learning theory\", \"Blind deconvolution\", \"Pointwise\", \"Computable function\", \"Nyquist rate\", \"Multitier architecture\", \"Publishing\", \"Non-uniform memory access\", \"Hacker\", \"Semantic compression\", \"Semantic Web\", \"Wireless Routing Protocol\", \"Dynamic Source Routing\", \"Optimized Link State Routing Protocol\", \"Static routing\", \"Link-state routing protocol\", \"Ad hoc wireless distribution service\", \"Destination-Sequenced Distance Vector routing\", \"Equal-cost multi-path routing\", \"Adaptive filter\", \"Raptor code\", \"Adaptive quality of service multi-hop routing\", \"Vehicular ad hoc network\", \"Multipath routing\", \"Linear subspace\", \"Goppa code\", \"TCP Westwood plus\", \"Policy-based routing\", \"Filter design\", \"Diversity gain\", \"Decision theory\", \"Nonlinear control\", \"Embedded software\", \"Filtering problem\", \"Nonlinear filter\", \"Root-raised-cosine filter\", \"Gilbert\\u2013Varshamov bound\", \"Dilemma\", \"Median filter\", \"Lexical analysis\", \"Series (mathematics)\", \"Wireless ad hoc network\", \"Computer network\", \"Distributed computing\", \"Computer science\", \"Control theory\", \"Throughput\", \"Vector quantization\", \"Routing protocol\", \"Pseudorandom binary sequence\", \"Code rate\", \"Simulated annealing\", \"Ranking (information retrieval)\", \"User experience design\", \"Approximation theory\", \"Human\\u2013computer information retrieval\", \"Incentive\", \"Batch processing\", \"Information filtering system\", \"Piecewise linear function\", \"Hypercube\", \"Concept search\", \"Level of detail\", \"Quadtree\", \"Ad hoc On-Demand Distance Vector Routing\", \"Relevance (information retrieval)\", \"Job scheduler\", \"System testing\", \"Cognitive models of information retrieval\", \"Replicate\", \"Effective input noise temperature\", \"Resampling\", \"Quantization (physics)\", \"Collaborative virtual environment\", \"Batch production\", \"Quantization (signal processing)\", \"Computer science\", \"Information retrieval\", \"Data modeling\", \"Search engine\", \"Operational semantics\", \"Spatial database\", \"Data model\", \"Spatial analysis\", \"Data type\", \"Deterministic automaton\", \"FLAME clustering\", \"Denotational semantics\", \"Well-founded semantics\", \"Two-way deterministic finite automaton\", \"Action semantics\", \"B\\u00fcchi automaton\", \"Unary operation\", \"Failure semantics\", \"Model of computation\", \"Visual search\", \"Nested stack automaton\", \"Distributed Component Object Model\", \"Open architecture\", \"Event structure\", \"Unicode\", \"Typography\", \"Type erasure\", \"MathML\", \"Proof-theoretic semantics\", \"Complex event processing\", \"Visual search engine\", \"Nondeterministic finite automaton\", \"Deterministic finite automaton\", \"Computer science\", \"Distributed computing\", \"Information system\", \"Information processing\", \"Temporal database\", \"Data management\", \"Communication source\", \"Euclidean geometry\", \"Formal proof\", \"M.2\", \"Shannon capacity of a graph\", \"Metaphor\", \"Berlekamp\\u2013Massey algorithm\", \"Publication\", \"Sequential access\", \"Graphical user interface\", \"Electronic music\", \"Full Rate\", \"Euclidean algorithm\", \"Musicality\", \"Popular music\", \"Pop music automation\", \"VoIP gateway\", \"Audio codec\", \"Distributed computing\", \"Computer science\", \"Risk pool\", \"Affine geometry of curves\", \"Line integral\", \"Generalized gamma distribution\", \"Gamma distribution\", \"Computation tree\", \"Isoperimetric inequality\", \"Telnet\", \"FileVault\", \"S-matrix\", \"Chi-square test\", \"Auto insurance risk selection\", \"Unit cost\", \"Tracking error\", \"Federal enterprise architecture\", \"Method of steepest descent\", \"Optical amplifier\", \"Interior\", \"Remote presence\", \"Space (mathematics)\", \"Topological tensor product\", \"Heyting arithmetic\", \"Authentication server\", \"Multicast\", \"Xcast\", \"Source-specific multicast\", \"Protocol Independent Multicast\", \"Pragmatic General Multicast\", \"Finite element method\", \"Distance Vector Multicast Routing Protocol\", \"IP multicast\", \"Stream cipher\", \"Inter-domain\", \"Deformation (mechanics)\", \"Message authentication code\", \"Shift register\", \"Multipath propagation\", \"Stream cipher attack\", \"Cipher\", \"Correlation attack\", \"Geospatial analysis\", \"Conjunctive normal form\", \"Core network\", \"Neuroscience\", \"Maximum satisfiability problem\", \"IPsec\", \"Keystream\", \"Fluhrer, Mantin and Shamir attack\", \"Inhibitory postsynaptic potential\", \"Self-shrinking generator\", \"Legislation\", \"Ultrasound\", \"Cardiac cycle\", \"Computer network\", \"Distributed computing\", \"Mobile agent\", \"Mobile search\", \"Mobile Web\", \"Abstract interpretation\", \"Mobile station\", \"Rule-based machine translation\", \"Mobile technology\", \"Deadlock\", \"Conformance testing\", \"High-level programming language\", \"Radio access network\", \"Noun phrase\", \"Estimation of distribution algorithm\", \"Evidential reasoning approach\", \"Video camera\", \"Deadlock prevention algorithms\", \"Mobile business development\", \"Emotional expression\", \"Trait\", \"Referent\", \"Imperative programming\", \"Psychometrics\", \"Personality test\", \"Logical form\", \"Pattern search\", \"Region connection calculus\", \"Mobile computing\", \"Software agent\", \"Distributed computing\", \"Computer science\", \"Load balancing (computing)\", \"Distributed memory\", \"Bioinformatics\", \"Information privacy\", \"Situated\", \"Cellular automaton\", \"Distributed shared memory\", \"Camera resectioning\", \"Gene\", \"B-Method\", \"Context-free grammar\", \"Calibration\", \"Privacy software\", \"L-attributed grammar\", \"Gene regulatory network\", \"Privacy policy\", \"Tree-adjoining grammar\", \"Privacy by Design\", \"Identity management\", \"Gene expression\", \"Porting\", \"Systems biology\", \"Context-sensitive grammar\", \"Demodulation\", \"Infrared\", \"Phrase structure grammar\", \"Hamiltonian path\", \"Advanced driver assistance systems\", \"S-attributed grammar\", \"Parsing expression grammar\", \"Computer security\", \"Computer science\", \"Image segmentation\", \"Information technology\", \"Bayesian network\", \"Scale-space segmentation\", \"Interpolation\", \"Queue\", \"Object detection\", \"Queueing theory\", \"Bayesian probability\", \"Segmentation-based object categorization\", \"Active contour model\", \"Reliable multicast\", \"Instability\", \"Linear filter\", \"Object-class detection\", \"Conditional probability\", \"Data consistency\", \"Queue management system\", \"Information overload\", \"Internet Group Management Protocol\", \"Method of moments (statistics)\", \"Pipeline (computing)\", \"Viola\\u2013Jones object detection framework\", \"Critical success factor\", \"Protection mechanism\", \"Expression (mathematics)\", \"Discretionary access control\", \"Extended enterprise\", \"Arrival theorem\", \"Physical access\", \"Computer science\", \"Distributed computing\", \"Motion estimation\", \"Authentication\", \"Video tracking\", \"Broadcasting\", \"Computer data storage\", \"Cognitive neuroscience of visual object recognition\", \"Histogram\", \"Motion compensation\", \"Authentication protocol\", \"Context-adaptive binary arithmetic coding\", \"Skeleton (computer programming)\", \"Video processing\", \"Video compression picture types\", \"Multiplicative function\", \"Particle filter\", \"Arithmetic coding\", \"Interval graph\", \"Adaptive coding\", \"Smacker video\", \"Quadratic classifier\", \"Matching pursuit\", \"Lightweight Extensible Authentication Protocol\", \"Log-log plot\", \"Match moving\", \"Multifractal system\", \"Locality of reference\", \"Flash memory\", \"Information sensitivity\", \"Range encoding\", \"Video post-processing\", \"Biometrics\", \"Computer science\", \"Distributed computing\", \"Search algorithm\", \"Computational complexity theory\", \"Special case\", \"Edge detection\", \"Detector\", \"Autocorrelation\", \"Permutation\", \"Communications system\", \"Communication complexity\", \"Spread spectrum\", \"Reasoning system\", \"Pseudorandom number generator\", \"Convolution\", \"DNA\", \"Deductive reasoning\", \"CLIPS\", \"Impulse response\", \"Inverse\", \"DNA sequencing\", \"Concept mining\", \"Classification of discontinuities\", \"Discontinuity (linguistics)\", \"Contour line\", \"Set partitioning in hierarchical trees\", \"LTI system theory\", \"Network Service Access Point Identifier\", \"Computation tree\", \"Gamma distribution\", \"FileVault\", \"Secure cryptoprocessor\", \"Distributed computing\", \"Observed information\", \"Dividend\", \"Computer science\", \"Auto insurance risk selection\", \"Financial risk management\", \"Flexible Macroblock Ordering\", \"NTLMSSP\", \"Fuzzy Control Language\", \"Network management\", \"Feature selection\", \"CPU cache\", \"Active networking\", \"Network management station\", \"Comprehension\", \"Intelligent computer network\", \"Network security\", \"Motion analysis\", \"Network management application\", \"Intelligent Network\", \"Element management system\", \"Complex data type\", \"Basis function\", \"Coherence (physics)\", \"Epipolar geometry\", \"System integration\", \"Broadband\", \"Fractal\", \"Motion detection\", \"Knowledge sharing\", \"CONTEST\", \"Virtual Physiological Human\", \"Vision disorder\", \"Shading\", \"Heart failure\", \"Enterprise information integration\", \"Cardiac resynchronization therapy\", \"Health informatics\", \"Cardiac electrophysiology\", \"Stochastic modelling\", \"Cache\", \"Invariant (mathematics)\", \"Distributed computing\", \"Computer science\", \"Machine learning\", \"Knowledge base\", \"Knowledge engineering\", \"Workflow\", \"Input/output\", \"Small number\", \"Workflow management system\", \"Workflow technology\", \"Workflow engine\", \"Integrated design\", \"Network performance\", \"Traffic generation model\", \"Multidisciplinary approach\", \"Windows Workflow Foundation\", \"Recursive least squares filter\", \"XPDL\", \"Kernel adaptive filter\", \"Organizational learning\", \"Enterprise modelling\", \"Identifiability\", \"Abstraction layer\", \"Distributed knowledge\", \"Sequence analysis\", \"Procurement\", \"Singleton\", \"Infinite set\", \"Index set\", \"Distribution function\", \"Set function\", \"Alignment-free sequence analysis\", \"Quantile\", \"Distributed computing\", \"Computer science\", \"Telecommunications network\", \"Implementation\", \"Wireless\", \"Complementary sequences\", \"Multiplexing\", \"Data collection\", \"Experimental data\", \"Denial-of-service attack\", \"Tracing\", \"Use case\", \"Computational model\", \"Orthogonal frequency-division multiplexing\", \"Internet access\", \"Base station\", \"False positive paradox\", \"Digital camera\", \"Typing\", \"Time evolution\", \"Functional testing\", \"Polyphase system\", \"IP traceback\", \"Software analysis pattern\", \"Gossip\", \"Photography\", \"Checklist\", \"Object-oriented analysis and design\", \"Image map\", \"Digital photography\", \"Foveal\", \"Wi-Fi\", \"Computer network\", \"Distributed computing\", \"Computer science\", \"Robustness (computer science)\", \"Rough set\", \"Affine transformation\", \"Normalization (statistics)\", \"Decision rule\", \"Software sizing\", \"Inductive programming\", \"Counterexample\", \"Backporting\", \"Random oracle\", \"Linear logic\", \"Decision table\", \"Programming domain\", \"Plaintext\", \"Functional logic programming\", \"Performance metric\", \"Template matching\", \"Reactive programming\", \"Quality assurance\", \"Structure of Management Information\", \"Random geometric graph\", \"Management information systems\", \"Clustering coefficient\", \"Logic model\", \"Telecommunications Management Network\", \"Legal expert system\", \"Closeness\", \"Engineering physics\", \"Signcryption\", \"Legendre polynomials\", \"Resource-oriented architecture\", \"Programming paradigm\", \"Machine learning\", \"Computer science\", \"Distributed computing\", \"Circuit design\", \"Kernel (linear algebra)\", \"Job shop scheduling\", \"Categorization\", \"Adversary\", \"System on a chip\", \"Telecommunications link\", \"Statistical hypothesis testing\", \"Tensor\", \"Domain engineering\", \"Conceptual framework\", \"Stochastic resonance\", \"Hilbert space\", \"Noise floor\", \"Problem domain\", \"Noise spectral density\", \"Private information retrieval\", \"Domain analysis\", \"Matroid\", \"Conditional mutual information\", \"Critical path method\", \"Concept map\", \"Noise temperature\", \"Reproducing kernel Hilbert space\", \"Shared secret\", \"K-SVD\", \"Application-specific integrated circuit\", \"Access structure\", \"Static random-access memory\", \"Time to market\", \"Field-programmable gate array\", \"Computer science\", \"Value noise\", \"Distributed computing\", \"Formal specification\", \"Formal methods\", \"Specification language\", \"Perception\", \"Software requirements specification\", \"Axiom\", \"Proof assistant\", \"Secure communication\", \"Algebraic specification\", \"Asynchronous Transfer Mode\", \"Test data\", \"Abstract syntax\", \"System requirements specification\", \"Requirements elicitation\", \"Zoom\", \"Superposition principle\", \"Geometric networks\", \"Sonar\", \"Raster graphics\", \"Unitary matrix\", \"Sensory cue\", \"Out-of-order delivery\", \"Universal Plug and Play\", \"Manufacturing\", \"Diversity coding\", \"Adaptive mesh refinement\", \"Packet erasure channel\", \"Write-once\", \"Virtual circuit\", \"Mathematical knowledge management\", \"Requirement\", \"Image retrieval\", \"Content analysis\", \"Fault tolerance\", \"Color image\", \"Image texture\", \"Algebra\", \"Algebraic number\", \"Dependability\", \"Color histogram\", \"Content management\", \"Gradient descent\", \"Region growing\", \"Fault injection\", \"Partial evaluation\", \"Cyclic group\", \"Stochastic gradient descent\", \"Crash\", \"Polygon covering\", \"Krein\\u2013Milman theorem\", \"Pyramid (image processing)\", \"Star-shaped polygon\", \"Communication in small groups\", \"Output-sensitive algorithm\", \"Feature recognition\", \"Monoidal functor\", \"Similarity measure\", \"Rate of convergence\", \"Image restoration\", \"Image processing\", \"Key person insurance\", \"Space (mathematics)\", \"Middleware\", \"Complex system\", \"Software development process\", \"Reuse\", \"Executable\", \"Data flow diagram\", \"Local area network\", \"Software product line\", \"Space\\u2013time block code\", \"Autonomic computing\", \"Software project management\", \"Plug-in\", \"Textual entailment\", \"Position paper\", \"Fixed wireless\", \"Avionics software\", \"HiperLAN\", \"Semantic equivalence\", \"Field extension\", \"RIPEMD\", \"Misuse case\", \"Self-management\", \"Sewage treatment\", \"Steganography\", \"Wi-Fi\", \"Programming paradigm\", \"Plain text\", \"Tree alignment\", \"Dataspaces\", \"Distributed computing\", \"Computer science\", \"XML validation\", \"Efficient XML Interchange\", \"XML Schema Editor\", \"Document Structure Description\", \"Streaming XML\", \"XML framework\", \"XML schema\", \"Cellular network\", \"XML Encryption\", \"Text mining\", \"Mobile telephony\", \"Mesh generation\", \"RELAX NG\", \"cXML\", \"Conceptual schema\", \"Digital filter\", \"Semi-structured model\", \"Star schema\", \"Finite impulse response\", \"Visual processing\", \"Multivariate kernel density estimation\", \"Transfer function\", \"Colors of noise\", \"Schema migration\", \"Performance tuning\", \"Multivariate mutual information\", \"Infinite impulse response\", \"Chaining\", \"Performance measurement\", \"Machining\", \"Database schema\", \"Message passing\", \"Systems design\", \"Formalism (philosophy)\", \"Message Passing Interface\", \"Notation\", \"Collaborative learning\", \"Profiling (computer programming)\", \"Time division multiple access\", \"Stochastic approximation\", \"Fault detection and isolation\", \"Test suite\", \"Random access\", \"Cooperative diversity\", \"Hyperlink\", \"Lambda calculus\", \"Conceptualization\", \"Call Admission Control\", \"Fault model\", \"Multiplexer\", \"Stochastic optimization\", \"De Bruijn sequence\", \"Active listening\", \"Dimensioning\", \"Polynomial hierarchy\", \"Scale parameter\", \"Arity\", \"Interactive television\", \"Fault coverage\", \"Affordance\", \"Level of service\", \"Zero-forcing precoding\", \"Virtual machine\", \"Distributed computing\", \"Computer science\", \"Online codes\", \"Reed\\u2013Muller code\", \"Narrative\", \"Binary symmetric channel\", \"Immersion (virtual reality)\", \"Standardization\", \"Expectation\\u2013maximization algorithm\", \"Interactivity\", \"Mixed reality\", \"Coordinate system\", \"Geographic routing\", \"Factorization\", \"Structure from motion\", \"Smoothness\", \"Automotive industry\", \"Object request broker\", \"Telecommunications service\", \"Accessibility relation\", \"Grid network\", \"Normal modal logic\", \"Delaunay triangulation\", \"Tourism\", \"Probabilistic automaton\", \"Painting\", \"Monoid\", \"Modal \\u03bc-calculus\", \"Symmetric probability distribution\", \"Convex analysis\", \"Sieve\", \"Virtual prototyping\", \"Storytelling\", \"Virtual reality\", \"Probabilistic analysis of algorithms\", \"Turbo code\", \"Binary erasure channel\", \"Wavelet\", \"Wavelet transform\", \"Eigenvalues and eigenvectors\", \"Knowledge-based systems\", \"Network simulation\", \"Discrete wavelet transform\", \"Document retrieval\", \"Linear combination\", \"Wavelet packet decomposition\", \"Matrix decomposition\", \"Stationary wavelet transform\", \"Open Knowledge Base Connectivity\", \"Cascade algorithm\", \"Expected value\", \"TUTOR\", \"Deconvolution\", \"Factor graph\", \"Tanner graph\", \"Direct-sequence spread spectrum\", \"Degree distribution\", \"Symbolic simulation\", \"Autocorrelation matrix\", \"Educational program\", \"Fractional Brownian motion\", \"Diffusion process\", \"Parser combinator\", \"Top-down parsing\", \"Descriptive knowledge\", \"Collective intelligence\", \"Mellin transform\", \"Mathematical analysis\", \"Intelligent agent\", \"Nonlinear system\", \"Formal language\", \"Backpropagation\", \"Matched filter\", \"Kalman filter\", \"OWL-S\", \"Chip\", \"Ambiguity\", \"Nyquist\\u2013Shannon sampling theorem\", \"Cellular neural network\", \"Context-aware pervasive systems\", \"Bilinear interpolation\", \"Attractor\", \"Sliding window protocol\", \"Computational chemistry\", \"Systems modeling\", \"Vector field\", \"DARPA Agent Markup Language\", \"Continuous-time Markov chain\", \"Multivariate interpolation\", \"Oscillation\", \"Oblivious transfer\", \"Visual modeling\", \"Kolmogorov complexity\", \"Nearest-neighbor interpolation\", \"Inertial measurement unit\", \"Extended Kalman filter\", \"Stairstep interpolation\", \"Image scaling\", \"Global Positioning System\", \"Iterative reconstruction\", \"String (computer science)\", \"Reed\\u2013Solomon error correction\", \"Computer graphics (images)\", \"Web navigation\", \"User modeling\", \"Space\\u2013time trellis code\", \"String searching algorithm\", \"3D reconstruction\", \"Reputation\", \"Semantic search\", \"Scripting language\", \"Quadratic equation\", \"Qualitative reasoning\", \"Edit distance\", \"Golomb coding\", \"Automorphism\", \"Stereo cameras\", \"Communication theory\", \"Automatic repeat request\", \"Context-free language\", \"Web search engine\", \"Web crawler\", \"Longest common subsequence problem\", \"Hybrid automatic repeat request\", \"Computer stereo vision\", \"User information\", \"Approximate string matching\", \"Distributed web crawling\", \"Outer automorphism group\", \"Turbo code\", \"Stereopsis\", \"Computer science\", \"Computer Aided Design\", \"Engineering design process\", \"Collaborative software\", \"Concurrent engineering\", \"Cache algorithms\", \"Cache coloring\", \"Open system (systems theory)\", \"Applied mathematics\", \"Smart Cache\", \"Cache pollution\", \"Cache invalidation\", \"Added value\", \"Facial expression\", \"Computer-supported cooperative work\", \"Application layer\", \"Face hallucination\", \"Interaction protocol\", \"Eigenface\", \"Bayes estimator\", \"Cache-oblivious algorithm\", \"Job shop\", \"Conceptual design\", \"Local binary patterns\", \"Overhead (business)\", \"Collusion\", \"Bus sniffing\", \"Homomorphic encryption\", \"Conditional expectation\", \"Compound Poisson process\", \"Shapley value\", \"Software agent\", \"Agent architecture\", \"Cache\", \"Computer science\", \"Distributed computing\", \"Multi-agent system\", \"Reinforcement learning\", \"Autonomous agent\", \"Transmitter\", \"Interference (wave propagation)\", \"Self-organizing map\", \"Entertainment\", \"Posterior probability\", \"Fitness function\", \"Precision and recall\", \"Electroencephalography\", \"Evolution strategy\", \"Cultural heritage\", \"Probabilistic CTL\", \"Production planning\", \"Subtyping\", \"Swarm robotics\", \"Semantic technology\", \"Distraction\", \"Co-channel interference\", \"Action selection\", \"Probabilistic argumentation\", \"Data parallelism\", \"Bytecode\", \"Task parallelism\", \"Least significant bit\", \"Ant robotics\", \"Synonym\", \"Adjacent-channel interference\", \"Self-reconfiguring modular robot\", \"Linear programming\", \"Agent architecture\", \"Computer science\", \"Machine learning\", \"Distributed computing\", \"Knowledge management\", \"Autonomous system (mathematics)\", \"Asymptotic analysis\", \"Goal-Driven Software Development Process\", \"Personal software process\", \"Key distribution\", \"Noise reduction\", \"Spectral efficiency\", \"Teamwork\", \"Linear model\", \"Predicate (grammar)\", \"Audio signal\", \"Motion vector\", \"Social relation\", \"Software maintenance\", \"Virtual community\", \"Symmetric-key algorithm\", \"Speech coding\", \"Interactive visualization\", \"Key (cryptography)\", \"Collision detection\", \"Component-based usability testing\", \"Autoregressive\\u2013moving-average model\", \"Motion interpolation\", \"Design review\", \"Uninterpreted function\", \"Audio signal processing\", \"Esterel\", \"Memory footprint\", \"Poisson point process\", \"Computer science\", \"Distributed computing\", \"Operator (computer programming)\", \"Probabilistic logic\", \"Image quality\", \"Generalization\", \"Optical character recognition\", \"User interface design\", \"Distributed source coding\", \"Linear classifier\", \"Image sensor\", \"Computational trust\", \"Efficient energy use\", \"Document processing\", \"Handwriting recognition\", \"Parity bit\", \"Group method of data handling\", \"Dynamic logic (digital electronics)\", \"Obstacle\", \"Spelling\", \"Fold (higher-order function)\", \"tf\\u2013idf\", \"Python (programming language)\", \"Intelligent character recognition\", \"Natural number\", \"Intersection graph\", \"Neural gas\", \"Event-related potential\", \"Neocognitron\", \"Certified Information Security Manager\", \"Bowyer\\u2013Watson algorithm\", \"Frame rate\", \"Feature extraction\", \"Triangulation (social science)\", \"Machine learning\", \"Computer science\", \"Data set\", \"Similitude\", \"Unsupervised learning\", \"Power control\", \"Bayes' theorem\", \"k-means clustering\", \"Metric (mathematics)\", \"Active learning\", \"Prior probability\", \"Data grid\", \"Decision problem\", \"Semi-supervised learning\", \"Bayesian inference\", \"Educational technology\", \"Enforcement\", \"Experiential learning\", \"Header\", \"Cooperative learning\", \"File system\", \"Argumentation theory\", \"Software requirements\", \"Synchronous learning\", \"Parallel I/O\", \"Strengths and weaknesses\", \"Combinatorial game theory\", \"Structural proof theory\", \"Haar wavelet\", \"Linearization\", \"Process automation system\", \"Reconstruction algorithm\", \"Machine learning\", \"Similarity measure\", \"Computer science\", \"Applications of UML\", \"Decision tree\", \"UML tool\", \"Information access\", \"Class diagram\", \"Competitive analysis\", \"Dominance-based rough set approach\", \"Online algorithm\", \"Decision tree learning\", \"Data integration\", \"Information needs\", \"Liveness\", \"Incremental decision tree\", \"Grammar\", \"Enterprise information system\", \"Random matrix\", \"Activity diagram\", \"Complexity class\", \"Enterprise integration\", \"Decision analysis\", \"Enterprise life cycle\", \"Message sequence chart\", \"Sequence diagram\", \"Story-driven modeling\", \"Enterprise software\", \"Non-negative matrix factorization\", \"UML state machine\", \"Neuron\", \"Kleene algebra\", \"Policy-based management\", \"Machine learning\", \"Embedded system\", \"Digital watermarking\", \"Mobile QoS\", \"Watermark\", \"Crossover\", \"TCP global synchronization\", \"TCP acceleration\", \"TCP tuning\", \"Zeta-TCP\", \"Multiresolution analysis\", \"TCP Friendly Rate Control\", \"Motion planning\", \"H-TCP\", \"CUBIC TCP\", \"Real image\", \"Planar\", \"Surface reconstruction\", \"On-the-fly encryption\", \"Filesystem-level encryption\", \"Multiple encryption\", \"Geometric modeling\", \"Flow control (data)\", \"Randomization\", \"Routing and wavelength assignment\", \"MPEG-4\", \"Computational learning theory\", \"Round-trip delay time\", \"TCP hole punching\", \"Free field\", \"Ask price\", \"Computer network\", \"Computer science\", \"Distributed computing\", \"Correctness\", \"Source code\", \"Automated theorem proving\", \"Satisfiability\", \"Communications protocol\", \"Symbolic computation\", \"Proof theory\", \"Encoding (memory)\", \"Restricted isometry property\", \"Orthonormal basis\", \"Erasure\", \"Network processor\", \"Game design\", \"Modulo\", \"Game mechanics\", \"Information science\", \"Visual cortex\", \"Game Developer\", \"Aliasing\", \"Presburger arithmetic\", \"Wireless Application Protocol\", \"Sub-band coding\", \"GSP Algorithm\", \"Neuroprosthetics\", \"Requirements traceability\", \"Game art design\", \"Group decision-making\", \"Social network analysis\", \"Inductive effect\", \"Programmable logic controller\", \"Video game design\", \"Computer science\", \"Distributed computing\", \"Ubiquitous computing\", \"Natural language\", \"Adaptability\", \"Software design\", \"End user\", \"Multilingualism\", \"Context model\", \"Preprocessor\", \"SOAP\", \"Teleconference\", \"Visual analytics\", \"Exception handling\", \"Affect (psychology)\", \"Service-orientation\", \"Big data\", \"Mashup\", \"Context management\", \"Electronic business\", \"Scientific method\", \"Primary research\", \"New business development\", \"Content negotiation\", \"Enterprise system\", \"Biomarker discovery\", \"Leech lattice\", \"Command-line interface\", \"False discovery rate\", \"Geometric hashing\", \"Relaxation labelling\", \"Linked data\", \"Mobile computing\", \"Distributed computing\", \"Computer science\", \"Distortion\", \"Hash function\", \"Encoder\", \"Data science\", \"Euclidean distance\", \"Tree structure\", \"Signal reconstruction\", \"Password\", \"Poisson distribution\", \"Finite set\", \"Stationary process\", \"Nonuniform sampling\", \"Double hashing\", \"Hash chain\", \"Sampling (signal processing)\", \"Semantic data model\", \"Security of cryptographic hash functions\", \"Polytope\", \"Cryptographic hash function\", \"Oversampling\", \"Collision resistance\", \"Convex polytope\", \"Decision tree model\", \"SWIFFT\", \"Hash buster\", \"SHA-2\", \"Password policy\", \"Stationary sequence\", \"Watermarking attack\", \"Series expansion\", \"Sampling (statistics)\", \"Quantization (signal processing)\", \"Server\", \"Local search (optimization)\", \"Spanning tree\", \"Boolean satisfiability problem\", \"Embedding\", \"Tree (graph theory)\", \"Propositional calculus\", \"Ternary operation\", \"Robot learning\", \"Bisimulation\", \"Network interface\", \"Minimum spanning tree\", \"Ciphertext\", \"Euclidean space\", \"Attribute-based encryption\", \"Bin packing problem\", \"Hybrid automaton\", \"FIFO (computing and electronics)\", \"Sound recording and reproduction\", \"Dynamic load testing\", \"Plaintext-aware encryption\", \"Continuous-time stochastic process\", \"Stochastic cellular automaton\", \"Semantic security\", \"Burstiness\", \"Complete graph\", \"Ciphertext stealing\", \"Distributed minimum spanning tree\", \"Malleability\", \"Dense graph\", \"Constraint satisfaction\", \"Signal-to-noise ratio\", \"Business process\", \"Business process modeling\", \"Prefix code\", \"Business rule\", \"Process modeling\", \"Artifact-centric business process model\", \"DSRFLOW\", \"Quantum finite automata\", \"Business process management\", \"\\u03c9-automaton\", \"Business Process Model and Notation\", \"Business process discovery\", \"Calculus\", \"Self-synchronizing code\", \"Universal code\", \"Linear prediction\", \"Business domain\", \"Quadratic form\", \"Data striping\", \"Prefix\", \"Discrete-time signal\", \"Kraft's inequality\", \"Linear regression\", \"Turbo equalizer\", \"Importance sampling\", \"DFA minimization\", \"Sound quality\", \"Semantics of Business Vocabulary and Business Rules\", \"Sort-merge join\", \"Gaussian noise\", \"Nested word\", \"Nondeterministic finite automaton\", \"Process management\", \"Deterministic finite automaton\", \"Expert system\", \"Abstraction\", \"Real-time operating system\", \"Numerical analysis\", \"Hamming(7,4)\", \"Hamming bound\", \"Lossless compression\", \"Monotonic function\", \"Amplitude\", \"Web API\", \"Data access\", \"DNA computing\", \"Hamming graph\", \"Test Management Approach\", \"Monotone polygon\", \"Model-based testing\", \"Classical logic\", \"Test data generation\", \"Clique-width\", \"Hebbian theory\", \"Digital audio\", \"Newton's method\", \"Degeneracy (graph theory)\", \"Base pair\", \"Multivariable calculus\", \"A-DNA\", \"MIDI\", \"Gel electrophoresis\", \"Hamming distance\", \"Leabra\", \"Boosting (machine learning)\", \"Hamming weight\", \"Linked data\", \"Hamming code\", \"SPARQL\", \"Machine learning\", \"Distributed algorithm\", \"Operations research\", \"Smart card\", \"Parametric statistics\", \"Wi-Fi array\", \"Documentation\", \"Manifold\", \"Java Card\", \"Language Of Temporal Ordering Specification\", \"Multimodal logic\", \"Inter-Access Point Protocol\", \"Upload\", \"Type inference\", \"Proof calculus\", \"Electric power\", \"Multiple Access with Collision Avoidance for Wireless\", \"Design pattern\", \"Electrical network\", \"IEEE 802.11s\", \"Embedded Java\", \"IEEE 802.11b-1999\", \"Analysis of algorithms\", \"Electric utility\", \"Wireless distribution system\", \"Type constructor\", \"Electric power industry\", \"PKCS #11\", \"Subject reduction\", \"Clearing\", \"PKCS #12\", \"Distributed computing\", \"Computer science\", \"Microeconomics\", \"XML\", \"Transaction processing\", \"Geographic information system\", \"Knowledge acquisition\", \"Database transaction\", \"Testbed\", \"Semantic interoperability\", \"Relational database management system\", \"Category theory\", \"Rational function\", \"Information space\", \"Abstract data type\", \"Directory service\", \"Transaction data\", \"Philosophy of logic\", \"Log sum inequality\", \"Coloured Petri net\", \"Composability\", \"Syntax (logic)\", \"Paraconsistent logic\", \"Facade pattern\", \"Multidimensional Chebyshev's inequality\", \"Second moment method\", \"Cauchy\\u2013Schwarz inequality\", \"Personal information manager\", \"Bernoulli's inequality\", \"Markov's inequality\", \"Chebyshev's inequality\", \"Relational database\", \"Spatial relation\", \"Distributed computing\", \"Computer science\", \"Query language\", \"Query optimization\", \"Distributed database\", \"Sensor fusion\", \"Query expansion\", \"Annotation\", \"Web query classification\", \"Web search query\", \"Sargable\", \"Reusability\", \"Nash equilibrium\", \"Spatial query\", \"Semantic similarity\", \"Categorical variable\", \"Situation calculus\", \"Best response\", \"Slicing\", \"Business intelligence\", \"Spectrum analyzer\", \"Epsilon-equilibrium\", \"Monte Carlo localization\", \"Simple Features\", \"Loose coupling\", \"Digital Chart of the World\", \"Semantic Web\", \"Dividend\", \"FileVault\", \"Telnet\", \"S-matrix\", \"Tracking error\", \"Computer science\", \"Financial risk management\", \"Chi-square test\", \"Distributed computing\", \"Isoperimetric inequality\", \"Interior\", \"Authentication server\", \"Heyting algebra\", \"Ontology (information science)\", \"Ranging\", \"Covariance\", \"Fuzzy set\", \"Software quality\", \"Soft computing\", \"Process ontology\", \"Membership function\", \"Upper ontology\", \"Diagrammatic reasoning\", \"Ontology language\", \"Fuzzy rule\", \"Configuration management\", \"Engineering\", \"Multiple description coding\", \"Web Ontology Language\", \"Logical data model\", \"IDEF5\", \"Ontology components\", \"Assertion\", \"Software measurement\", \"Variables\", \"Deterministic system\", \"T-norm\", \"Data dependency\", \"Partial correlation\", \"Pastry\", \"Anycast\", \"Venn diagram\", \"Euler diagram\", \"Fuzzy logic\", \"Machine learning\", \"Synchronization\", \"Pixel\", \"Regression analysis\", \"Dimensionality reduction\", \"Schedule\", \"Bidding\", \"Common value auction\", \"Sample size determination\", \"Raw data\", \"Statistic\", \"Learning classifier system\", \"GSM\", \"Combinatorial auction\", \"K shortest path routing\", \"Singularity\", \"Constrained Shortest Path First\", \"Shortest Path Faster Algorithm\", \"Locality\", \"Standard deviation\", \"Codec\", \"Computer-aided\", \"Spline (mathematics)\", \"Background noise\", \"Real number\", \"Loop fusion\", \"Floyd\\u2013Warshall algorithm\", \"Auction theory\", \"Yen's algorithm\", \"Differential geometry\", \"Parse tree\", \"Microeconomics\", \"Curse of dimensionality\", \"Machine learning\", \"Distributed computing\", \"Computer science\", \"Cognition\", \"Nonparametric statistics\", \"Role-based access control\", \"Application domain\", \"Feature detection (computer vision)\", \"Probabilistic encryption\", \"40-bit encryption\", \"Multivariate statistics\", \"Database-centric architecture\", \"Entropy rate\", \"Differential entropy\", \"56-bit encryption\", \"Differential cryptanalysis\", \"Digital image processing\", \"Protocol stack\", \"Maximum-entropy Markov model\", \"T-norm fuzzy logics\", \"Block size\", \"Network Access Control\", \"Collision attack\", \"Web usability\", \"Computer access control\", \"Client-side encryption\", \"Usability engineering\", \"Usability inspection\", \"A priori and a posteriori\", \"Test statistic\", \"Transfer entropy\", \"Usability goals\", \"Monoidal t-norm logic\", \"Joint quantum entropy\", \"Modal logic\", \"k-nearest neighbors algorithm\", \"Spatial relation\", \"Encryption\", \"Higher-order differential cryptanalysis\", \"Computer science\", \"Phenomenon\", \"Web server\", \"Quantum convolutional code\", \"Quantum computer\", \"Multi-objective optimization\", \"Flow network\", \"Quantum algorithm\", \"Robot control\", \"Markov decision process\", \"Runtime system\", \"Network planning and design\", \"Channel allocation schemes\", \"Quantum information science\", \"Test set\", \"Curve fitting\", \"Visual servoing\", \"Kinematics\", \"Social robot\", \"Quantum cryptography\", \"Camera auto-calibration\", \"Voice activity detection\", \"Quantum network\", \"Speaker diarisation\", \"Quantum phase estimation algorithm\", \"Popularity\", \"MPICH\", \"Maximum flow problem\", \"Bayesian information criterion\", \"Interactive evolutionary computation\", \"Numerical stability\", \"Quantum information\", \"Quantum capacity\", \"Java\", \"Mobile wireless sensor network\", \"Extensibility\", \"Real time Java\", \"Recurrent neural network\", \"Java annotation\", \"Time series\", \"Optical flow\", \"Sensor node\", \"Generics in Java\", \"Multiuser detection\", \"Region of interest\", \"Discrete geometry\", \"Hough transform\", \"Java Modeling Language\", \"Motion field\", \"Router\", \"Brooks\\u2013Iyengar algorithm\", \"Singular value decomposition\", \"Visual sensor network\", \"Scale-invariant feature transform\", \"Java bytecode\", \"Biological neural network\", \"Decorrelation\", \"Integer lattice\", \"Compact convergence\", \"Higher-order statistics\", \"Network dynamics\", \"Cognitive dimensions of notations\", \"Radiography\", \"Cumulant\", \"Model checking\", \"Formal verification\", \"Temporal logic\", \"Agile software development\", \"Access network\", \"Linear temporal logic\", \"Personal knowledge management\", \"Bluetooth\", \"Empirical process (process control model)\", \"Earliest deadline first scheduling\", \"Body of knowledge\", \"Code refactoring\", \"Compiler correctness\", \"Group key\", \"Identifier\", \"Key generation\", \"Knowledge integration\", \"Agile usability engineering\", \"Elaboration\", \"Interval temporal logic\", \"Procedural knowledge\", \"Commitment scheme\", \"Secure two-party computation\", \"Agile Unified Process\", \"IEEE 802.11e-2005\", \"Model-based design\", \"Piconet\", \"Formal system\", \"LeanCMMI\", \"Refinement\", \"Domain knowledge\", \"Computer science\", \"Distributed computing\", \"Game theory\", \"Covariance matrix\", \"Design process\", \"Metaheuristic\", \"Quantum channel\", \"Minimum mean square error\", \"Amplitude damping channel\", \"Covariance function\", \"Estimation of covariance matrices\", \"Classical capacity\", \"Hybrid algorithm\", \"White-box testing\", \"Test strategy\", \"Integration testing\", \"Mathematical economics\", \"Squashed entanglement\", \"Channel use\", \"Software performance testing\", \"Non-regression testing\", \"Design knowledge\", \"Reputation system\", \"Directional antenna\", \"Rational quadratic covariance function\", \"Mat\\u00e9rn covariance function\", \"Keyword-driven testing\", \"Connectionism\", \"PSPACE\", \"Quantum no-deleting theorem\", \"Von Neumann entropy\", \"Manual testing\", \"Gaussian process\", \"Ant colony optimization algorithms\", \"Gesture\", \"Quantum capacity\", \"Quantum information\", \"Distributed computing\", \"Detection theory\", \"Scale space\", \"Gaussian random field\", \"Software framework\", \"Gaussian function\", \"Computer cluster\", \"Nearest neighbor search\", \"Garbage collection\", \"Shape analysis (digital geometry)\", \"Feature (machine learning)\", \"Graphical model\", \"Background subtraction\", \"Constructive\", \"Novelty\", \"Self-certifying File System\", \"Motion control\", \"Autonomous robot\", \"Large margin nearest neighbor\", \"Reduct\", \"Garbage\", \"Stub file\", \"SSH File Transfer Protocol\", \"Unix file types\", \"Nearest neighbor graph\", \"Rule induction\", \"Versioning file system\", \"One-class classification\", \"Decision boundary\", \"File system fragmentation\", \"Mobile identification number\", \"Gaussian process\", \"k-nearest neighbors algorithm\", \"Machine learning\", \"Computer science\", \"Scheduling (computing)\", \"Monte Carlo method\", \"Initialization\", \"Model selection\", \"Maximum a posteriori estimation\", \"Joint probability distribution\", \"Computational science\", \"Probability measure\", \"Maximum likelihood sequence estimation\", \"Online transaction processing\", \"Likelihood function\", \"Normal distribution\", \"Watershed\", \"Optimal estimation\", \"Hybrid Monte Carlo\", \"Distributed concurrency control\", \"Covert channel\", \"Large deviations theory\", \"Transform coding\", \"Transaction processing system\", \"Quasi-Monte Carlo method\", \"Monte Carlo molecular modeling\", \"Dynamic Monte Carlo method\", \"Euler equations\", \"Two-phase commit protocol\", \"Regular conditional probability\", \"Polling\", \"Monte Carlo method in statistical physics\", \"Sufficient statistic\", \"Pointwise mutual information\", \"Image restoration\", \"Computer science\", \"Distributed computing\", \"Distributed transaction\", \"Network topology\", \"Personalization\", \"Recommender system\", \"Empirical research\", \"Network congestion\", \"Fourier transform\", \"Functional analysis\", \"BCJR algorithm\", \"Mobility model\", \"Mobility management\", \"Network analysis\", \"Collaborative filtering\", \"Generator matrix\", \"Mobile architecture\", \"Systematic code\", \"Wavelength-division multiplexing\", \"Backbone network\", \"Vehicle routing problem\", \"Logical topology\", \"Characteristic function (probability theory)\", \"Initial value problem\", \"Process mining\", \"Repetition code\", \"Asynchronous system\", \"Modified Huffman coding\", \"Relationship extraction\", \"Limiting factor\", \"Linear differential equation\", \"Asynchronous circuit\", \"MovieLens\", \"Distributed computing\", \"Computer science\", \"Control reconfiguration\", \"Computer architecture\", \"Overlay network\", \"Information management\", \"Virtual network\", \"Software engineering\", \"Digital library\", \"Software verification\", \"Semantic network\", \"Conjunctive query\", \"European union\", \"Image warping\", \"Texture filtering\", \"Paging\", \"Correspondence problem\", \"Formal grammar\", \"Action language\", \"Speech analytics\", \"Normal basis\", \"Text processing\", \"Total cost\", \"Semantic query\", \"Speech technology\", \"Physical security\", \"Experimental software engineering\", \"Human communication\", \"Embedding problem\", \"Galois group\", \"Fundamental theorem of Galois theory\", \"Computer-aided software engineering\", \"Domain knowledge\", \"Peer-to-peer\", \"Computer science\", \"Distributed computing\", \"Information theory\", \"Mutual information\", \"Redundancy (engineering)\", \"Word error rate\", \"Matching (graph theory)\", \"Blossom algorithm\", \"Adaptive control\", \"3-dimensional matching\", \"Deterministic algorithm\", \"Isomorphism\", \"Degrees of freedom (statistics)\", \"Graph isomorphism\", \"Neural coding\", \"Antenna array\", \"Link adaptation\", \"Interaction technique\", \"Spatial multiplexing\", \"Intelligibility (communication)\", \"Kripke structure\", \"Symmetry group\", \"Spin-\\u00bd\", \"Antenna (radio)\", \"SPMD\", \"Standard test image\", \"Promela\", \"Lagrange multiplier\", \"Dual graph\", \"Scattering\", \"Service-oriented modeling\", \"Speech enhancement\", \"Machine learning\", \"Support vector machine\", \"Mathematical proof\", \"Segmentation\", \"Lattice (order)\", \"Image registration\", \"Kernel (statistics)\", \"Human visual system model\", \"HOL\", \"Entropy power inequality\", \"Search problem\", \"Domain decomposition methods\", \"Backup\", \"Leader election\", \"Quantum operation\", \"Number theory\", \"Versa\", \"Computer experiment\", \"Hyperplane\", \"Pentium\", \"Kolmogorov structure function\", \"Gossip protocol\", \"Information theory and measure theory\", \"Returns to scale\", \"Call blocking\", \"Message switching\", \"Winner-take-all\", \"Economies of agglomeration\", \"Urban agglomeration\", \"Economic geography\", \"Machine learning\", \"Computer science\", \"Distributed computing\", \"Adaptive algorithm\", \"Digital image\", \"Supervised learning\", \"Graphics\", \"Perceptron\", \"Range query (data structures)\", \"Application server\", \"Binary image\", \"SQL\", \"Relational algebra\", \"Service level\", \"Motion capture\", \"K-ary tree\", \"Computational physics\", \"Markov random field\", \"Architecture description language\", \"Machine code\", \"Deployment diagram\", \"Group theory\", \"Relational model\", \"Algebraic geometry\", \"Sustainability\", \"Database server\", \"Interval tree\", \"Building automation\", \"Random binary tree\", \"Memory model\", \"Semigroup\", \"Occultation\", \"Statistical mechanics\", \"Random field\", \"Beamforming\", \"Relational database\", \"Computer science\", \"Fuzzy classification\", \"Fuzzy number\", \"Haptic technology\", \"Fuzzy set operations\", \"Gabor filter\", \"Pointer (computer programming)\", \"Defuzzification\", \"Neuro-fuzzy\", \"Embodied cognition\", \"Adaptive neuro fuzzy inference system\", \"Network delay\", \"Fuzzy associative matrix\", \"Tree automaton\", \"System under test\", \"Enterprise architecture\", \"Unit testing\", \"Rehabilitation\", \"Lexico\", \"Embodied agent\", \"Imitation\", \"Rectangle\", \"Physical medicine and rehabilitation\", \"Motor learning\", \"Broadcasting (networking)\", \"Feature model\", \"Extreme Transaction Processing\", \"Salience (neuroscience)\", \"Deixis\", \"Psychological intervention\", \"Labelling\", \"Virtual machine\", \"Virtual reality\", \"Fuzzy control system\", \"Gesture\", \"Computer science\", \"Data structure\", \"Provisioning\", \"Maximum entropy probability distribution\", \"Kullback\\u2013Leibler divergence\", \"Principle of maximum entropy\", \"Min entropy\", \"Maximum entropy thermodynamics\", \"AdaBoost\", \"Density estimation\", \"Backtracking\", \"Heap (data structure)\", \"Remote procedure call\", \"Shannon's source coding theorem\", \"Security token\", \"Internet traffic\", \"Memory hierarchy\", \"Noise (electronics)\", \"Probability theory\", \"Entropy in thermodynamics and information theory\", \"Parameter space\", \"Shot noise\", \"Predicate abstraction\", \"Bregman divergence\", \"Regret\", \"Software as a service\", \"Auxiliary memory\", \"Baseband\", \"Hand geometry\", \"Psychological resilience\", \"Jensen\\u2013Shannon divergence\", \"Heterogeneous network\", \"Lossy compression\", \"Boosting (machine learning)\", \"Compiler\", \"Program transformation\", \"Optimizing compiler\", \"Reachability\", \"Derivation\", \"DNA microarray\", \"Divergence\", \"Sketch\", \"Networking hardware\", \"Architectural pattern\", \"Pareto principle\", \"Technical report\", \"Microarray analysis techniques\", \"Traffic congestion\", \"Network model\", \"Runtime verification\", \"Performance prediction\", \"Multi-user MIMO\", \"Metaprogramming\", \"Videoconferencing\", \"3G MIMO\", \"High-level verification\", \"Locally decodable code\", \"Address space\", \"Functional software architecture\", \"Monomial\", \"Hill climbing\", \"Microarray\", \"Method\", \"Matrix calculus\", \"Software architecture description\", \"Resource-oriented architecture\", \"Programming language\", \"Vertex (geometry)\", \"Web development\", \"Scaling\", \"Constraint programming\", \"Constraint logic programming\", \"Ranking\", \"Web intelligence\", \"Software design pattern\", \"Web application security\", \"Synthetic data\", \"Concurrent constraint logic programming\", \"Hybrid algorithm (constraint satisfaction)\", \"Binary constraint\", \"Geometric transformation\", \"Behavioral pattern\", \"Structural pattern\", \"Monadic predicate calculus\", \"Homomorphism\", \"Independence (probability theory)\", \"Rendezvous\", \"Discrete space\", \"Process patterns\", \"Set operations\", \"Sensor web\", \"Transformation geometry\", \"Large numbers\", \"Stochastic programming\", \"Patterns of evolution\", \"Constraint satisfaction\", \"Machine learning\", \"Computer science\", \"Distributed computing\", \"Access control\", \"Hybrid system\", \"Discrete time and continuous time\", \"Dynamical system\", \"Automata theory\", \"Fingerprint recognition\", \"Outlier\", \"Minutiae\", \"Discrete Fourier transform\", \"Coding theory\", \"Dynamical systems theory\", \"Dynamic time warping\", \"Maximum entropy spectral estimation\", \"Mobile robot navigation\", \"Exponential stability\", \"Fingerprint Verification Competition\", \"Cut\", \"Symbolic trajectory evaluation\", \"Symbolic data analysis\", \"Discrete Fourier transform (general)\", \"Fast Fourier transform\", \"State variable\", \"Symbolic execution\", \"Combinatorial design\", \"Non-uniform discrete Fourier transform\", \"Digital content\", \"Cyclotomic fast Fourier transform\", \"Ridge\", \"Traitor tracing\", \"Navigational aid\", \"Network architecture\", \"Digital signature\", \"Bit error rate\", \"Voice over IP\", \"Gabor wavelet\", \"Active learning (machine learning)\", \"Program optimization\", \"Stability (learning theory)\", \"Butterfly graph\", \"Signal-to-interference-plus-noise ratio\", \"Second-generation programming language\", \"Perfect information\", \"Third-generation programming language\", \"Quantum error correction\", \"Telephony\", \"Gabor transform\", \"Trusted third party\", \"Instance-based learning\", \"Cycle graph\", \"Next-generation network\", \"General Packet Radio Service\", \"IP Multimedia Subsystem\", \"Level structure\", \"CPU time\", \"Hypergraph\", \"Hypercube graph\", \"Rationality\", \"Location transparency\", \"Lattice problem\", \"Online machine learning\", \"Curse of dimensionality\", \"Graph power\", \"Machine learning\", \"Data compression\", \"Kernel method\", \"Image compression\", \"Linear discriminant analysis\", \"Contextual image classification\", \"Conversation\", \"Subspace topology\", \"Discrete cosine transform\", \"Variable kernel density estimation\", \"Kernel embedding of distributions\", \"Radial basis function kernel\", \"JPEG\", \"Vector space\", \"Polynomial kernel\", \"Kernel principal component analysis\", \"Least squares support vector machine\", \"String kernel\", \"Tree kernel\", \"Optimal discriminant analysis\", \"Emulation\", \"Dependence analysis\", \"Kernel Fisher discriminant analysis\", \"McEliece cryptosystem\", \"Trellis quantization\", \"Quantization (image processing)\", \"Multiple discriminant analysis\", \"Integrable system\", \"Gait analysis\", \"Failure mode and effects analysis\", \"Deployment environment\", \"Photometric stereo\", \"Lossy compression\", \"Machine learning\", \"Petri net\", \"Directed graph\", \"Java concurrency\", \"Directed acyclic graph\", \"Vocabulary\", \"Discriminative model\", \"strictfp\", \"Timed automaton\", \"Static web page\", \"Search tree\", \"Stochastic Petri net\", \"Default gateway\", \"Network monitoring\", \"Formal concept analysis\", \"Vertex cover\", \"Learning vector quantization\", \"Network service\", \"Ordinary differential equation\", \"Adjacency matrix\", \"Transitive closure\", \"Scala\", \"Arc (geometry)\", \"Phylogenetics\", \"Statistical time division multiplexing\", \"H.248\", \"Lightweight Directory Access Protocol\", \"Edge cover\", \"Stochastic differential equation\", \"Projective space\", \"Lattice Miner\", \"Service quality\", \"Dialog box\", \"Computer science\", \"Intrusion detection system\", \"Iterative method\", \"Solver\", \"Dynamic programming\", \"Pattern matching\", \"Mean squared error\", \"Anomaly detection\", \"Connectivity\", \"HTML\", \"Minimum-variance unbiased estimator\", \"Conjugate gradient method\", \"Consistent estimator\", \"Sequence alignment\", \"Efficient estimator\", \"Active database\", \"Dynamic web page\", \"Inference engine\", \"Bias of an estimator\", \"Utterance\", \"XSLT\", \"Cram\\u00e9r\\u2013Rao bound\", \"Stein's unbiased risk estimate\", \"Procedural programming\", \"Vector processor\", \"Topology control\", \"Elliptic boundary value problem\", \"Misuse detection\", \"U-statistic\", \"In-place algorithm\", \"Arborescence\", \"Machine learning\", \"Case-based reasoning\", \"Heuristics\", \"Constrained optimization\", \"Model-based reasoning\", \"Duality (optimization)\", \"Inverse problem\", \"Boolean expression\", \"Learning environment\", \"Interval arithmetic\", \"Adjacency list\", \"Partially ordered set\", \"Economic model\", \"Continuous optimization\", \"Web 2.0\", \"String graph\", \"Boolean circuit\", \"Information geometry\", \"Profitability index\", \"Submodular set function\", \"Football\", \"Interaction design\", \"Non-cooperative game\", \"Weight-balanced tree\", \"Product term\", \"Partial order reduction\", \"Design studio\", \"Participatory design\", \"Fitness landscape\", \"Volterra series\", \"Graph operations\", \"Constraint satisfaction\", \"Constraint satisfaction problem\", \"Optimization problem\", \"Logic programming\", \"Program analysis\", \"Data integrity\", \"Travelling salesman problem\", \"Belief propagation\", \"Prolog\", \"Reactive system\", \"Metric space\", \"Steiner tree problem\", \"Gradient method\", \"Concatenation\", \"Private network\", \"Group testing\", \"Parity function\", \"Geodesic\", \"Luminance\", \"Malware\", \"Lexicographical order\", \"Complete Boolean algebra\", \"Texture mapping\", \"Rational agent\", \"Magnetic resonance imaging\", \"Coaching\", \"Wizard\", \"Full text search\", \"Video game development\", \"Business decision mapping\", \"Spherical harmonics\", \"Decision-making\", \"Combinatorial optimization\", \"Computer science\", \"Computer security model\", \"Coding (social sciences)\", \"Least squares\", \"Security service\", \"Gesture recognition\", \"Cloud computing security\", \"Musical acoustics\", \"Secret sharing\", \"Algorithm design\", \"Security information and event management\", \"Automated reasoning\", \"Verifiable secret sharing\", \"Secure multi-party computation\", \"Parity-check matrix\", \"Higher-order logic\", \"Bunched logic\", \"Homomorphic secret sharing\", \"Modular exponentiation\", \"Security convergence\", \"Intermediate logic\", \"Predicate functor logic\", \"Multidimensional scaling\", \"Personal mobility\", \"Shamir's Secret Sharing\", \"Open platform\", \"Many-valued logic\", \"Autoepistemic logic\", \"New Interfaces for Musical Expression\", \"ITIL security management\", \"Mutual coherence\", \"Dynamic logic (modal logic)\", \"Gesture\", \"Concurrency\", \"Common Object Request Broker Architecture\", \"Distributed object\", \"Operating system\", \"Trajectory\", \"Hardware architecture\", \"Business Process Execution Language\", \"Matrix multiplication\", \"Data exchange\", \"Humanoid robot\", \"Semantic Web Rule Language\", \"Spoken language\", \"Decentralised system\", \"Natural language user interface\", \"Multiple sequence alignment\", \"Tuple space\", \"Acceleration\", \"Hardware acceleration\", \"Interface description language\", \"Bionics\", \"Power factor\", \"Control flow analysis\", \"Robotic arm\", \"DC motor\", \"Service Location Protocol\", \"Fluidics\", \"Domination analysis\", \"Process management\", \"Neuroevolution\", \"Computational genomics\", \"Distributed computing\", \"Computer science\", \"Asynchronous communication\", \"Probability density function\", \"Rate\\u2013distortion theory\", \"Rayleigh fading\", \"Fading distribution\", \"Automation\", \"Planar graph\", \"Analogy\", \"Convex hull\", \"Piecewise\", \"Lyapunov function\", \"Pulse (signal processing)\", \"Rician fading\", \"Convex set\", \"restrict\", \"Graph drawing\", \"Distributed Computing Environment\", \"Ergodic theory\", \"Automatic programming\", \"Convex combination\", \"Complex adaptive system\", \"Code (cryptography)\", \"Convex polygon\", \"Masking (art)\", \"Distortion function\", \"Vendor\", \"Self-stabilization\", \"Dominance drawing\", \"Transaction cost\", \"Radiosity (computer graphics)\", \"Fading\", \"Distributed computing\", \"Computer science\", \"Binary number\", \"Markov process\", \"Dynamic priority scheduling\", \"Fair-share scheduling\", \"Conjecture\", \"Turing machine\", \"Fingerprint\", \"Partition (number theory)\", \"Two-level scheduling\", \"Computation tree logic\", \"Countable set\", \"Timestamp\", \"Exponential distribution\", \"Gradient noise\", \"Least mean squares filter\", \"Switched mesh\", \"Cone (formal languages)\", \"Software versioning\", \"Care-of address\", \"Sphere packing\", \"Poisson regression\", \"Turing\", \"Compound Poisson distribution\", \"Loose Source Routing\", \"Phase correlation\", \"Markov chain\", \"Sine and cosine transforms\", \"Value noise\", \"Binary code\", \"Hyperparameter\", \"S-matrix\", \"Key person insurance\", \"General insurance\", \"Auto insurance risk selection\", \"Fisher's inequality\", \"Hyperparameter optimization\", \"Method of steepest descent\", \"Mixin\", \"Abstract type\", \"Tail call\", \"Heyting arithmetic\", \"Visualization\", \"Animation\", \"Correlation\", \"Data visualization\", \"Speech synthesis\", \"Minimax\", \"Language model\", \"Clustering high-dimensional data\", \"Data reduction\", \"Computer facial animation\", \"Computational logic\", \"Penalty method\", \"Stochastic game\", \"Minimax approximation algorithm\", \"NIST\", \"Deontic logic\", \"Polynomial interpolation\", \"Biomedical engineering\", \"Repeated game\", \"Performance engineering\", \"Order statistic\", \"Factorization of polynomials\", \"Colored\", \"Social infrastructure\", \"Circuit complexity\", \"Fieldbus\", \"Viseme\", \"Performative utterance\", \"Stiffness matrix\", \"Standard CMMI Appraisal Method for Process Improvement\", \"Computer animation\", \"Computer science\", \"Distributed computing\", \"Integer\", \"Heuristic\", \"Workload\", \"Adaptive system\", \"Automatic summarization\", \"Tuple\", \"Enumeration\", \"Hadamard transform\", \"Roaming\", \"RGB color model\", \"Scalable Video Coding\", \"Second-generation wavelet transform\", \"Information hiding\", \"Variable bitrate\", \"Adaptive learning\", \"Generating function\", \"Quadratic function\", \"Coprime integers\", \"Constant bitrate\", \"Band-pass filter\", \"Walsh matrix\", \"Teaching method\", \"Vertical handover\", \"Corner detection\", \"Session ID\", \"Datapath\", \"Group of pictures\", \"Average bitrate\", \"Steganography\", \"Machine learning\", \"Computer science\", \"Distributed computing\", \"Discretization\", \"Variable-order Markov model\", \"Shadow\", \"Bottleneck\", \"Quantum\", \"Functional verification\", \"Open problem\", \"Materialized view\", \"Domain model\", \"Additive Markov chain\", \"Artificial immune system\", \"Converse\", \"Intelligent verification\", \"Markov chain mixing time\", \"Commit\", \"Business logic\", \"Functional compiler\", \"Residual frame\", \"Business requirements\", \"Minification\", \"Transparency (graphic)\", \"Compensating transaction\", \"Generative model\", \"Hamiltonian (quantum mechanics)\", \"Univariate\", \"Examples of Markov chains\", \"Document classification\", \"Suffix tree\", \"Discretization of continuous features\", \"Interaction information\", \"Markov model\", \"Markov chain\", \"Functional programming\", \"Boolean algebra\", \"Reconfigurable computing\", \"Negotiation\", \"Rule of inference\", \"Geometry\", \"Missing data\", \"Haskell\", \"Receiver operating characteristic\", \"Sorting\", \"Noun\", \"Round-robin scheduling\", \"XQuery\", \"Fixed-priority pre-emptive scheduling\", \"Handwriting\", \"Computer program\", \"Two-element Boolean algebra\", \"sort\", \"Reconfigurability\", \"Binary search tree\", \"Monad (functional programming)\", \"Sorting algorithm\", \"Subroutine\", \"Digitization\", \"JPEG 2000\", \"Distributive property\", \"Context switch\", \"Keyword extraction\", \"Multiversion concurrency control\", \"Algebra representation\", \"Expression (mathematics)\", \"Programming language\", \"Error detection and correction\", \"Cyclic code\", \"Hidden Markov model\", \"Nondeterministic algorithm\", \"Viterbi algorithm\", \"System model\", \"Conditional probability distribution\", \"Communication diagram\", \"Iterative Viterbi decoding\", \"Forward algorithm\", \"Data control language\", \"Conditional independence\", \"Use Case Diagram\", \"Systems analysis\", \"Object-based spatial database\", \"Object Query Language\", \"System sequence diagram\", \"Block design\", \"Timing diagram\", \"System context diagram\", \"RDF query language\", \"Markov model\", \"Decoding methods\", \"Machine learning\", \"Isoperimetric inequality\", \"Telnet\", \"Unit cost\", \"Fuzzy Control Language\", \"Gamma distribution\", \"Tracking error\", \"Affine geometry of curves\", \"Flexible Macroblock Ordering\", \"Heyting arithmetic\", \"Combinatorics\", \"Heyting algebra\", \"Closure (topology)\", \"Algebraic interior\", \"Interphase\", \"Boolean function\", \"Process calculus\", \"Metaverse\", \"Type theory\", \"Exponential function\", \"Polygon\", \"Deterministic system (philosophy)\", \"Binary decision diagram\", \"Context awareness\", \"Logarithm\", \"Function approximation\", \"Tabu search\", \"Weight function\", \"Greedy randomized adaptive search procedure\", \"Uniform distribution (continuous)\", \"Logistic regression\", \"Utility computing\", \"Linear space\", \"Project manager\", \"Eye movement\", \"Parallel metaheuristic\", \"End-user computing\", \"Simple polygon\", \"Expander graph\", \"Type safety\", \"Continuous signal\", \"Residue number system\", \"Dynamic circuit network\", \"Quadrature modulation\", \"Delay-tolerant networking\", \"Requirements engineering\", \"Agent-based social simulation\", \"Dialog box\", \"Feature vector\", \"Naive Bayes classifier\", \"Abstract machine\", \"Data processing\", \"Routing table\", \"Shannon\\u2013Hartley theorem\", \"Domain-specific language\", \"IPv6\", \"Abstract state machines\", \"Linde\\u2013Buzo\\u2013Gray algorithm\", \"Traffic engineering\", \"R-tree\", \"Non-monotonic logic\", \"Associative property\", \"Refinement calculus\", \"Dynamic data\", \"Relational calculus\", \"Bayes classifier\", \"Statistical relational learning\", \"Qubit\", \"Codd's theorem\", \"Real-valued function\", \"Observability\", \"Interoperable Object Reference\", \"Border Gateway Protocol\", \"Inter-process communication\", \"Quantum noise\", \"Schaefer's dichotomy theorem\", \"Domain theory\", \"IPv6 address\", \"Binary erasure channel\", \"Machine learning\", \"Computer science\", \"Parameterized complexity\", \"Indifference graph\", \"Random graph\", \"Chordal graph\", \"Management system\", \"User profile\", \"Intelligent decision support system\", \"1-planar graph\", \"Pathwidth\", \"Maximal independent set\", \"InfiniBand\", \"Systems management\", \"Myrinet\", \"Front and back ends\", \"Clique-sum\", \"Greedy coloring\", \"Transmission time\", \"Location awareness\", \"Graph coloring\", \"Universal graph\", \"Modular decomposition\", \"Dynamic problem\", \"Remote direct memory access\", \"Clique (graph theory)\", \"Ambient network\", \"Random regular graph\", \"Complete coloring\", \"Socioeconomics\", \"Multimedia framework\", \"Genetic representation\", \"Distributed computing\", \"Computer science\", \"Database design\", \"Randomized algorithm\", \"Shared resource\", \"Time delay neural network\", \"View\", \"Abstraction model checking\", \"Spectral density\", \"Database testing\", \"Waveform\", \"Exponential growth\", \"Asymptotic distribution\", \"Undecidable problem\", \"Generative grammar\", \"Software metric\", \"Path expression\", \"Spectral density estimation\", \"Ambiguity function\", \"Erlang (programming language)\", \"Multidimensional signal processing\", \"Information and Computer Science\", \"Intelligent database\", \"Duration calculus\", \"Database tuning\", \"Public health\", \"Selectivity\", \"Generative Design\", \"Dither\", \"Stochastic simulation\", \"Energy (signal processing)\", \"Stationary distribution\", \"Sampling (statistics)\", \"Database schema\", \"Feature (computer vision)\", \"Delegate\", \"Relational database\", \"Hierarchy\", \"Computer engineering\", \"Information and Communications Technology\", \"Periodic graph (geometry)\", \"State diagram\", \"Interconnection\", \"Elliptic curve cryptography\", \"Elliptic curve point multiplication\", \"Certificate\", \"Polyhedron\", \"Information society\", \"Ergodicity\", \"Multigrid method\", \"Lookup table\", \"Covariance mapping\", \"Tate pairing\", \"Complex Hadamard matrix\", \"Common knowledge\", \"Hermitian matrix\", \"Agent-oriented software engineering\", \"Schoof's algorithm\", \"Hierarchical routing\", \"Information technology management\", \"Counting points on elliptic curves\", \"Measure (mathematics)\", \"Supersingular elliptic curve\", \"Compact space\", \"KAOS\", \"Stateflow\", \"Pairing-based cryptography\", \"Computer science\", \"Distributed computing\", \"User requirements document\", \"Machine vision\", \"Aspect-oriented programming\", \"Test case\", \"Artificial life\", \"Web design\", \"Markov chain Monte Carlo\", \"P system\", \"Factor-critical graph\", \"Web engineering\", \"Web Accessibility Initiative\", \"Random function\", \"Graph factorization\", \"Health care\", \"Multivariate random variable\", \"Consistency model\", \"Simplex graph\", \"Recursively enumerable language\", \"UMTS frequency bands\", \"Multivariate analysis\", \"Random element\", \"Automatic control\", \"Visual inspection\", \"Sequential consistency\", \"Membrane computing\", \"Fractional coloring\", \"Block cellular automaton\", \"Continuous automaton\", \"Sight\", \"Clique graph\", \"Graph bandwidth\", \"Graph power\", \"Reference architecture\", \"Data transmission\", \"Swarm intelligence\", \"Code division multiple access\", \"Applications architecture\", \"Debugging\", \"Admission control\", \"FSA-Red Algorithm\", \"Optimal control\", \"Software verification and validation\", \"Composite number\", \"Software reliability testing\", \"Efficiency\", \"Debugger\", \"System integration testing\", \"Optical burst switching\", \"Overhead (computing)\", \"Differential evolution\", \"Classification rule\", \"Regression testing\", \"Gestalt psychology\", \"Elasticity (economics)\", \"Norm (social)\", \"Music theory\", \"Optical switch\", \"Social choice theory\", \"Variable elimination\", \"Threat model\", \"Background debug mode interface\", \"Optical Transport Network\", \"Ant colony optimization algorithms\", \"Software construction\", \"Computer science\", \"Control engineering\", \"Social network\", \"New product development\", \"Active shape model\", \"Pose\", \"Active appearance model\", \"Ambient intelligence\", \"Atomic broadcast\", \"Convexity\", \"Mathematical morphology\", \"Thresholding\", \"Broadcast radiation\", \"Communication\", \"Matrix norm\", \"Ground truth\", \"Personality\", \"Broadcast encryption\", \"Cross-domain interoperability\", \"Evolutionary robotics\", \"Prosody\", \"Orthogonality\", \"Point distribution model\", \"Multiple edges\", \"Chromatic scale\", \"Broadcast control channel\", \"Nonverbal communication\", \"Product lifecycle\", \"Concept drift\", \"Broadcast domain\", \"Multimedia Broadcast Multicast Service\", \"Distributed computing\", \"Computer science\", \"Speedup\", \"Computer hardware\", \"VHDL\", \"Boundary value problem\", \"Semantic integration\", \"Hardware description language\", \"Ontology alignment\", \"Coprocessor\", \"Partial differential equation\", \"Quantum entanglement\", \"Alice and Bob\", \"Digital electronics\", \"Multiset\", \"Replication (computing)\", \"Radio resource management\", \"Grid file\", \"Quantum state\", \"Fibonacci number\", \"Graphics hardware\", \"Information leakage\", \"Facility location problem\", \"Pancyclic graph\", \"Reverse engineering\", \"Force-directed graph drawing\", \"Static timing analysis\", \"Quotient\", \"Xeon\", \"Shader\", \"Security association\", \"Logic simulation\", \"Weighting\", \"Wireless mesh network\", \"Field-programmable gate array\", \"World Wide Web\", \"Constant false alarm rate\", \"Relevance feedback\", \"Compromise\", \"Location-based service\", \"Virtex\", \"False alarm\", \"Database theory\", \"Data stream\", \"Constraint graph\", \"Jitter\", \"Correlation function\", \"Database model\", \"Marketing\", \"Equivalence class\", \"Genetic operator\", \"Omnidirectional antenna\", \"Subject-matter expert\", \"Spatiotemporal database\", \"Programmable logic device\", \"SystemC\", \"English auction\", \"Electronic system-level design and verification\", \"Visual odometry\", \"Zernike polynomials\", \"Key person insurance\", \"General insurance\", \"Financial risk management\", \"Auto insurance risk selection\", \"Dividend\", \"Distributed computing\", \"Chi-square test\", \"Tracking error\", \"S-matrix\", \"FileVault\", \"Telnet\", \"Computer science\", \"Network Service Access Point Identifier\", \"Algebraic interior\", \"Topological tensor product\", \"Heyting algebra\", \"Mobile ad hoc network\", \"Web mining\", \"XML Signature\", \"Simple API for XML\", \"Graph (abstract data type)\", \"Viterbi decoder\", \"XML Catalog\", \"Negation\", \"Query by Example\", \"Supply chain\", \"Gaze\", \"Answer set programming\", \"Scale-space axioms\", \"Cartesian product\", \"Digital geometry\", \"Best practice\", \"Empirical risk minimization\", \"Server-side\", \"German\", \"Supply chain management\", \"Stable model semantics\", \"Extension topology\", \"Distance-vector routing protocol\", \"Outbreak\", \"Computational epidemiology\", \"Randomized Hough transform\", \"Usage data\", \"Robust optimization\", \"Information good\", \"Honour\", \"Wireless mesh network\", \"Computer science\", \"Distributed computing\"], \"Freq\": [11119.0, 5823.0, 29125.0, 3998.0, 3959.0, 18539.0, 3344.0, 3018.0, 3703.0, 2985.0, 2558.0, 2514.0, 3176.0, 2731.0, 2660.0, 2888.0, 2405.0, 3498.0, 2489.0, 2002.0, 1823.0, 1982.0, 2092.0, 4735.0, 2056.0, 1719.0, 2010.0, 1546.0, 1876.0, 1490.0, 620.1408304676345, 396.59956970697317, 178.53270113641233, 143.55827374720116, 120.55141910005133, 101.73571421554111, 93.92872640515425, 55.15057070834687, 51.66459526011658, 48.209673545277205, 45.666542210539724, 45.34463789523054, 35.095017701342144, 26.30902174931905, 23.39917355580348, 18.385116717008916, 16.478945164252412, 16.262072684308098, 15.157116323568426, 136.65954863303344, 11.593555010635814, 11.351477714036909, 10.95514432641273, 10.72922082957686, 10.157130180882112, 9.031259543741912, 5149.664142966978, 7.313388654918094, 7.2460997707248245, 6.930198207829054, 2406.351575113165, 7150.979546961217, 260.55297827561924, 686.7161910731709, 2488.3580363642454, 1719.7732799247, 1232.3781798469001, 1147.6304389071581, 231.02133746182713, 183.75675590037613, 132.69918851125493, 106.14482563901845, 79.3504447708737, 78.52605514639805, 74.6152873319726, 68.77181092814565, 65.42068746219265, 47.13979437644128, 45.54572763842891, 43.96985626265734, 38.513717725110176, 37.13852696402613, 26.289085966194527, 22.479553153568297, 12.573041501855126, 11.483421975212906, 10.512437798787511, 9.862434983195778, 8.644006198552526, 6.422906142186571, 5.262987457448056, 4.08036428007912, 3.6812474857533255, 3.457008204562148, 253.83228576586004, 1835.1095091699729, 2376.5690502028783, 1348.5263248606175, 2009.7364315061247, 1875.7552919337802, 1044.6256440446682, 828.5075080963237, 756.0423008842346, 630.3294082871691, 609.462660100113, 508.9992291802626, 443.980098718921, 379.87800229914757, 265.1749698488302, 195.49671191811393, 192.6226648464718, 173.13501643598616, 169.5445662527081, 134.3321279807841, 129.6410363681249, 123.67510774554606, 113.61360290064022, 102.98103150629336, 92.8708154156782, 87.41927034750022, 56.192378870647644, 44.81117342493097, 42.208220475592405, 38.14285654034618, 37.87669011631848, 31.57060887844285, 30.829265120412657, 27.240467146471712, 563.3989094895027, 551.9270478960533, 118.11810414831753, 502.06540161232084, 566.1380539902111, 3957.8531556332096, 615.6699843582059, 418.2363226831903, 241.07339498219972, 168.99100424238338, 118.00706068085884, 102.4944410708928, 92.01375195336152, 91.28715280382804, 74.44941984763676, 73.42311250754342, 52.233554165501076, 50.66825787401504, 46.88189077359505, 40.46337536868478, 32.40483378033644, 31.538389735487726, 31.024803900173115, 29.757584927396405, 20.03026239283714, 19.897292710671323, 19.369079500557998, 17.66465122872428, 16.928178522339387, 15.196375577548318, 3414.239367121499, 13.277445071740498, 12.660110393079181, 10.667644758788166, 10.534198748480314, 302.64830235787264, 302.3463040068418, 241.28517489043492, 2438.3030403690873, 100.67278560426291, 120.71351302101525, 3342.951585955692, 442.172655945818, 436.7149712260327, 275.21683089726093, 149.29380172457763, 96.78030182003825, 77.0622276613693, 71.79289936269288, 68.79733827434875, 56.894965268621235, 52.30454757067638, 45.04171484144106, 42.13089217030577, 39.978888758987196, 39.1198717102507, 33.82017812112191, 32.17319536236387, 25.366107315682036, 23.454109717390004, 23.0798241913794, 19.647835380119005, 19.5637768601911, 16.09793932134236, 5.134322049116257, 4.040535743773811, 2.0841002250286698, 654.2983191618357, 1005.774767271756, 1576.667599552593, 68.59949231131267, 1981.2383746119178, 951.455400945019, 748.6878449256678, 553.9342039978867, 430.48569609485025, 330.20039477651864, 219.26984169263133, 190.27901589935234, 161.62809876163863, 114.13484513939828, 98.86304978634084, 90.59189544450965, 75.92543787588822, 60.033826934966854, 52.518863186675354, 41.07984084405019, 38.762252762924014, 30.463981232933868, 24.843090874637703, 23.500659916302613, 21.09637717421934, 20.029530712250057, 18.329891107022515, 15.048710315030787, 14.519654609400746, 7.192491889458066, 5.262705115518463, 2.5250232469486726, 1196.2001264901908, 41.682219122802465, 619.1617092674334, 464.16264089890996, 3996.9358668520417, 1341.0786327152707, 448.79803067184025, 413.8451603342701, 210.8479441996735, 183.3092124491347, 169.58733731182284, 153.7246331960466, 90.16797330493975, 69.71989103273961, 51.842541134231446, 33.31354840032517, 32.6855316792123, 29.64525252216897, 29.24948529421775, 27.433005622235463, 25.648408008322168, 25.13975937045535, 22.798707626526536, 20.565049621615618, 19.094056661796206, 18.89351523215069, 17.1914418661653, 11.918325802100979, 11.797208975848882, 10.766280497644921, 10.667935452873547, 3.961867943105138, 518.5715824066817, 236.9581063813726, 2001.0007144584958, 965.896946267999, 524.5786690117918, 418.8067362944964, 391.52485382721704, 345.5890626319862, 291.47434656420415, 262.05877622072256, 218.28507388528877, 148.97533523632939, 143.5240371055327, 125.68407016548, 117.4190349376986, 113.46658281714788, 97.7788318662979, 93.99280702782248, 84.82499744357484, 53.1567373963985, 50.51422829389902, 42.66836350872743, 41.13575352194409, 39.897103797638, 33.29139719971875, 30.576576881820166, 29.044122006907905, 28.248217790717394, 22.009337195613615, 21.237262040617768, 19.775018554149867, 14.807088761055388, 589.9318295644297, 739.2541810787393, 2730.340708374783, 927.084739050009, 418.61391774058364, 313.6328446130383, 265.5675088489416, 124.65956187502677, 121.35805252728478, 118.09349140119586, 89.96663839985887, 89.44591048000763, 87.38751534066904, 79.39041419194649, 78.03092156323414, 75.64449342222738, 70.6297935341957, 58.16767629312719, 58.04591440748143, 45.03400161661497, 39.38199885532919, 36.834132265249494, 35.425702896156245, 29.859635193575414, 13.87553797270829, 10.472892116807268, 10.24710353044512, 259.63461405339297, 1145.9447323054733, 785.5326953235353, 0.008995190890981754, 0.008995190890981754, 0.008995190890981754, 0.008995190890981754, 0.008995190890981754, 0.008995190890981754, 0.008995190890981754, 0.008995190890981754, 0.008995190890981754, 1476.648208871559, 1126.9283763798792, 1088.0641363879056, 1084.9480409246546, 127.75677650313857, 98.52421296433644, 95.12298687765114, 89.91461875143564, 74.38697826348434, 49.69834087267814, 49.22859136408712, 48.50412994616564, 40.1895083645162, 33.988483173583816, 29.142452206887988, 10.760370795767518, 9.887857193459709, 9.566313942432425, 7.492198103092481, 5.423982332670275, 5.085173548005426, 4.8252955183477635, 4.008488707439795, 1280.274552492876, 1005.0988566407397, 0.009473848063053987, 0.009473848063053987, 0.009473848063053987, 0.009473848063053987, 0.009473848063053987, 0.009473848063053987, 0.009473848063053987, 0.009473848063053987, 0.009473848063053987, 0.009473848063053987, 1489.745066657368, 820.400774831623, 541.4687575638932, 440.063822502816, 386.56460777726255, 225.44204411449255, 126.73804952314408, 124.62830771581437, 111.22431667493015, 77.17467491043271, 57.47449161096786, 50.40336076795613, 46.53597014329606, 42.62567169882362, 42.10901323014088, 27.567264569476695, 26.745172135747858, 21.98527484545624, 21.870650241422595, 16.013254385554678, 12.477396981301425, 8.321277261239416, 6.644298456113313, 636.1894889504438, 546.2947502883162, 360.8438421022652, 862.0230701043366, 533.4878812483075, 0.008603448988941999, 0.008603448988941999, 0.008603448988941999, 0.008603448988941999, 0.008603448988941999, 0.008603448988941999, 0.008603448988941999, 0.008603448988941999, 0.008603448988941999, 0.008603448988941999, 0.008603448988941999, 0.008603448988941999, 2984.325496258264, 317.8538231309773, 153.70303859994397, 123.1416520115081, 117.93857373448239, 115.52023143929942, 110.02008722212726, 109.5928945195949, 94.5134080139731, 87.1977057173436, 86.56114103907986, 85.77497093740145, 55.254173981363145, 52.699920946620566, 51.013617125135745, 50.818623295049896, 47.480428680318084, 39.45119954529437, 36.56919386309966, 36.34525469909985, 35.61695345263904, 33.11784996769235, 32.132668880191474, 31.065079750846603, 31.05522772184549, 27.257599548789308, 26.25522285347468, 25.02841439271018, 23.737949464119303, 23.226507371887216, 152.19241354209373, 336.307175140098, 1135.7765707568988, 776.9478463628814, 3017.008849337477, 490.24794280702423, 279.1769643919544, 174.57616898410978, 155.52580384005316, 150.51530638544722, 133.68112392416444, 126.62427861379022, 118.18084796496419, 112.13000154036857, 102.21977005225558, 89.31801918971472, 84.9896401057109, 79.64923236829448, 76.7491027933255, 75.58040902199964, 58.142585869832736, 50.658584854468714, 48.926408934942735, 43.60143479049567, 36.20955643443537, 34.16651733202581, 28.169472615690463, 24.114938222359864, 19.798143403130656, 15.107753323906168, 14.776361902325162, 11.639492294345393, 10.141843316219656, 97.42588710207576, 1111.6833124235134, 672.7366616707968, 83.04185101501211, 2659.424380401473, 376.97248428559095, 118.13677407281374, 76.26034121205491, 71.93746708476596, 70.4368551847769, 59.34729073916908, 50.01583875153388, 49.609382406014845, 49.44295129971283, 47.843428323967984, 42.61357357963766, 42.493171684415444, 40.74728107791811, 38.83611667099735, 36.60551479966406, 36.2356363338831, 35.84560671786484, 35.63305521880775, 33.92849095313817, 25.10912752834232, 24.7129799726114, 23.339896166466584, 22.75404688880546, 21.014659990646987, 16.41385359613633, 16.127094241349827, 13.914751500491736, 12.661622448661502, 11.918433053073345, 38.74741794287314, 1368.9439897516197, 1685.1884121752728, 28.5975998986205, 72.4686845109832, 1448.2727953063068, 314.4932171307335, 261.72106452494194, 209.3691113245605, 185.28098049358903, 176.77105788904242, 171.6697072665554, 149.85652113772073, 126.52449011212768, 126.50901230762499, 93.75145807665103, 67.50978787868127, 66.58925555616025, 61.257932064340714, 56.262111927099426, 48.53776104100544, 41.16138909358707, 39.66824766155189, 37.99770008011204, 34.89339721528139, 34.85266523425998, 29.841799166449, 26.009849674431877, 25.205919830971652, 24.632058635337156, 24.56573289950293, 24.238957577796825, 21.80113719438887, 19.163892056700877, 19.114001910301457, 258.27841629642546, 1978.8452465788343, 440.080011414357, 463.6650927018647, 75.56572042541333, 2404.0526716621903, 489.7422772501615, 455.990798958525, 411.6096414578899, 346.0489271461189, 258.96139413793543, 157.84267458223943, 155.38932076708997, 136.43424360737288, 88.15408739998149, 65.38488783892741, 62.1642356577091, 60.93798602397671, 59.05163774449596, 44.68977739695511, 44.624121840997226, 25.679795548497722, 20.28471720312944, 19.413336572428214, 17.2746962359349, 9.5631420724903, 873.279106984386, 688.9165704655081, 0.009305699786510427, 0.009305699786510427, 0.009305699786510427, 0.009305699786510427, 0.009305699786510427, 0.009305699786510427, 0.009305699786510427, 0.009305699786510427, 0.009305699786510427, 0.009305699786510427, 0.009305699786510427, 0.009305699786510427, 0.009305699786510427, 0.009305699786510427, 0.009305699786510427, 0.009305699786510427, 0.009305699786510427, 0.009305699786510427, 0.009305699786510427, 0.009305699786510427, 0.009305699786510427, 0.009305699786510427, 0.009305699786510427, 0.009305699786510427, 0.009305699786510427, 0.009305699786510427, 0.009305699786510427, 0.009305699786510427, 0.009305699786510427, 0.009305699786510427, 0.009305699786510427, 0.009305699786510427, 0.009305699786510427, 0.009305699786510427, 0.009305699786510427, 0.009305699786510427, 612.1255846713849, 189.513658812328, 182.5203116948859, 131.24025760422924, 127.25433332263161, 122.76674709373553, 100.71802759231004, 97.16721342922229, 95.95242481305114, 88.75029630893304, 80.97448489268234, 74.9225080139768, 68.67215007287862, 59.60396387746853, 57.421247051622956, 51.29071698470332, 40.613916346787505, 40.317561539906585, 39.01603844594499, 37.79269710004452, 37.36589635392237, 37.29920043197099, 30.32721112332507, 30.24591696294763, 28.033651432518663, 27.191205953144816, 22.14751137487142, 22.087578225360446, 21.416504345531283, 15.118032096341441, 411.19526446746494, 1709.429678547722, 662.8885940690974, 743.7804207194612, 465.6227230985139, 39.529785006496354, 785.5450424132351, 766.2345750592542, 508.9530119233511, 237.50131242246516, 232.776067927127, 112.49504888235846, 70.34611010940088, 44.17906954290656, 42.64879728778017, 30.90973233754873, 26.736981783164534, 22.8584127243491, 18.66627839032027, 18.033453893665282, 16.39613669880621, 13.991517303038217, 13.52501194498896, 9.684375718567855, 8.870321003058427, 7.827986831717922, 7.574592950141175, 5.645587898945342, 2166.3970792054733, 1.732565468019837, 24.02618393765198, 1245.4431864880883, 0.00881721384081224, 0.00881721384081224, 0.00881721384081224, 0.00881721384081224, 114.32280874500235, 0.00881721384081224, 0.00881721384081224, 0.00881721384081224, 0.00881721384081224, 0.00881721384081224, 0.00881721384081224, 0.00881721384081224, 0.00881721384081224, 0.00881721384081224, 0.00881721384081224, 1717.9034545713268, 780.0419052894009, 373.46186369471985, 265.24143057200644, 261.0225688262707, 153.2201363045928, 121.8212570237204, 115.36157099215777, 83.51539550988876, 80.3493605510047, 60.495765406873396, 54.59458443175282, 53.880053542392496, 52.31768509331834, 50.92419698303274, 38.00678739292618, 37.507744038560894, 37.16120452400032, 35.65139836167222, 30.04193992357819, 27.691986142832206, 25.238921015225387, 24.496524854585065, 21.48953326158378, 21.03890731560604, 19.679085768314103, 18.30165886941922, 17.5265927621772, 16.747037267206604, 14.592655611487414, 588.4491710844337, 946.1537421723597, 111.97958402582438, 37.65557547003419, 42.26779616891672, 1147.1584385388458, 1021.6724914018823, 491.7943386177179, 394.43244011787857, 235.48466162415278, 152.96735850947235, 122.38845144171088, 103.32713577193195, 93.71276816475094, 91.47229384399283, 89.26289316196328, 87.81375771921958, 87.07159584489652, 83.45578085198986, 64.38963059460691, 51.091201878946634, 41.024697903085446, 39.54212127841001, 35.17950004645414, 26.133050157455838, 21.19960372379147, 17.256630256226344, 17.030458180929877, 16.351933175523033, 13.2653679794843, 7.0275149848337675, 526.2695135835127, 5.3219956840271445, 2.7319057975302443, 76.73192888989026, 501.3543668649524, 453.3879064503826, 1007.8923536251461, 572.07757701635, 492.51666846170747, 284.90467679191465, 231.19918025751238, 230.5985599344862, 156.70414220745673, 137.36122583064287, 71.88223740135305, 70.2632329545093, 68.66547427524222, 63.34784279911299, 54.82952681787208, 50.217265819216856, 47.759402610337226, 44.8009226040817, 44.06637423933811, 40.35100345635572, 36.185618182188115, 34.292526842712114, 30.18529945236367, 25.75634847550992, 23.697784763853736, 23.588848670981687, 23.077628229193017, 21.273392571474567, 20.501052576177408, 20.347766974169915, 20.343166014930155, 18.996536156294308, 558.1798436786275, 616.8507481954355, 442.8817180739178, 1822.257076759869, 394.1658606962423, 363.1383756695068, 342.63945753687943, 178.7666369658451, 175.2407200242642, 160.05904589257057, 110.91521992298871, 70.75636490306545, 63.84032477838972, 59.427335027159536, 59.28023335604994, 48.404195166276466, 44.86773606634921, 39.61393714022276, 36.168800413286576, 34.711726468241004, 28.77641721398298, 25.623079525513994, 23.001401738122198, 21.9545895671509, 19.82686034116457, 16.831215885653297, 14.834204208347861, 12.432476300039967, 11.868505136496589, 8.400161800771514, 7.134776187167941, 6.990865158879916, 4.944152872650859, 720.6369354072982, 704.2055942094756, 94.65064298997348, 1544.8391657369805, 397.6792302184758, 275.3527240421839, 272.899347417196, 255.31521555817324, 227.60941314870226, 218.98532543721245, 218.71461503800998, 193.3191981880604, 159.0360233874362, 145.43810594752526, 120.18494365399421, 117.29852137081177, 113.31354168745692, 97.13184219699998, 68.4858480792002, 59.17032459034436, 59.09676574917513, 52.4427205999218, 47.75519793289611, 46.56698138714484, 45.06960433747923, 42.39261869156086, 41.744712765134835, 41.21465640965072, 33.450789604196714, 30.6757480680015, 27.00687156943997, 26.065872950462985, 24.80796423604451, 95.47801112971095, 233.90751863847768, 178.46473132616515, 1082.8269847766194, 518.6993685129654, 282.3483996634724, 260.16939043193577, 240.94167241521552, 237.38142682167222, 218.98809780953886, 173.22319832216743, 161.6419040482673, 142.32862131278335, 125.53591219139545, 123.95372031518602, 98.1832591583312, 71.6602125706541, 58.09370404028457, 51.39591873628221, 47.927541902272026, 47.580590905733125, 45.69443254726051, 43.98005530985478, 39.53177518672999, 37.99441647810207, 30.683979488761164, 30.401239270354445, 28.292396656551684, 27.97852990435446, 24.274552181268888, 23.828226094795514, 23.389424958253205, 22.283547251063215, 559.4800539740975, 340.1470799156147, 49.514622734993765, 31.4962378523348, 2513.069715899986, 601.8624973070989, 196.66871647044587, 190.13672256206954, 157.69695230352352, 105.37174088945997, 84.96556446991897, 76.18972358774195, 61.87640553257843, 60.10608636868687, 56.194098236737524, 35.2850194820781, 31.955509398227605, 31.25437856119974, 30.189571179087054, 26.995886236359084, 26.752738518064085, 17.880861672408177, 17.62062219227848, 16.11052401236869, 12.95946740599061, 12.838559408168356, 8.80482632770322, 8.137039421344378, 7.004426482097699, 6.1244834744430445, 6.116866364382135, 4.910587561704928, 426.58851823195255, 66.8872603818881, 531.4790950447178, 67.10327953579306, 6.655085112230273, 1199.5236683962303, 575.9521133674416, 561.6985614137873, 561.2293322231616, 497.7740365150229, 354.84422476673603, 278.2325032837058, 213.30712160970722, 147.74319777314273, 144.69163019201642, 133.30060982180328, 119.70420804807074, 71.26764931932796, 55.69713571222257, 54.305326490938555, 46.63408455461128, 42.64483699431641, 38.13434667990176, 37.32919491479104, 34.75805920291342, 31.794298532402877, 30.269892723905095, 24.84024629610137, 24.407152318376923, 20.21081824723541, 17.617974058354704, 14.934819449457043, 14.934819449457043, 14.798278257094323, 14.6659025677689, 75.33981773932742, 1041.8953287793488, 629.6410636231778, 351.51769428137953, 304.45192543591406, 108.60017756239358, 79.83078128417833, 75.0321826318127, 73.31519311998824, 72.56513511790008, 63.70939565004025, 56.49819316440352, 51.572337815827844, 50.651275570513974, 49.57954564032222, 45.692523302534404, 45.226996874332414, 40.630551027655635, 31.411251162307213, 24.652960670921335, 24.606813317324224, 15.2986420740198, 12.294112557958577, 12.275311927320852, 8.871886664289226, 6.964083561618188, 202.8113620528707, 4.415259484190903, 4.3406417857492405, 4.3406417857492405, 4.057865971640666, 723.6794105417962, 577.69870241145, 394.4085206470797, 156.81920281442578, 1221.9651695105351, 325.8919367648259, 170.75457423881963, 157.93518446848825, 145.16378169694508, 109.94669148648347, 99.36003380253727, 76.23056466578302, 71.19648352643516, 66.9964623699442, 61.36404810410415, 60.907170404139464, 56.458655674385255, 56.424040185214885, 47.97941092663148, 46.764926158740145, 44.217483319764035, 43.6962079009214, 43.450956829800376, 42.525453712470146, 41.11387512901994, 39.9553336876655, 36.96409242656643, 31.62956906874097, 28.363505421921285, 28.349643471148685, 26.30228289438029, 21.743347752724738, 19.42097293372183, 17.60879667867287, 64.12929763870282, 87.98645439179866, 853.4068038832828, 631.754399074201, 264.9525547955181, 1182.9085938324035, 849.8343719275116, 494.65903205159196, 382.33388758568447, 361.71413548893133, 276.76239698967413, 155.75402469456216, 98.9399871054465, 78.88890832986988, 66.04591203779238, 62.04086672201841, 54.01744495770058, 48.604860040800794, 48.038411908702585, 46.02334568496666, 41.718074858500806, 38.07589787629003, 37.99931886923655, 37.33509492895523, 36.929050426636735, 33.24440233558082, 32.2908288087541, 31.274092414867006, 30.007109757112907, 24.966073911393906, 19.039392810833426, 18.86091639537719, 16.638846332159424, 16.569389180262554, 13.295926028317131, 96.02406933476361, 25.387604729612015, 154.9630474838316, 113.37238345165372, 62.18460393562331, 1330.4844848480443, 310.5785609966492, 294.37576950134326, 250.43079824256776, 234.52497666574212, 221.94065648126727, 154.48715587299483, 133.78506821474724, 131.858901653425, 130.35297271402328, 106.97391793116586, 102.1068076527128, 81.61528857812108, 75.90612385391798, 64.95833660469775, 63.76350544389248, 63.113304040187, 62.965688641491695, 61.22696235232277, 60.96667389590573, 60.40045005194282, 60.113535051946364, 54.78253921020218, 43.616597211193664, 32.18430481932632, 29.566342874904556, 29.28518496541176, 27.512503336462373, 23.593496409169838, 22.487625290079485, 213.52245084178375, 79.48738397039988, 157.64818836250498, 217.0824117223919, 85.60166895647703, 43.48956141205917, 1249.1457306087734, 701.554906017775, 681.0478424910498, 513.803372530653, 392.7854171766861, 221.4757989718173, 171.4061306992966, 113.09723790503587, 81.58582926837028, 76.9215768435206, 65.82300631200981, 56.78763786760092, 50.80572455375724, 46.95479384987682, 44.45663703883615, 43.631404717662065, 37.512182876020674, 32.46762043228666, 32.45169755383328, 30.659887353568102, 27.50695692964633, 18.345852694608816, 15.642932320009418, 15.506054474762758, 14.479772608235956, 11.693610454711282, 6.939538441284559, 6.932975482755237, 5.337561476141803, 2.5031645785909387, 229.16115583216214, 80.93126109601639, 67.72748950311538, 1338.2486277338737, 284.93795431036017, 280.98259507553826, 278.5514640738701, 268.45812757595354, 114.1587045980278, 110.57498426077075, 107.24647404273398, 106.60424745935539, 100.91641612227826, 79.75514074076638, 57.35997612252641, 30.28816535266713, 29.68871091985839, 26.720256123989987, 22.135374762675966, 20.367275569219803, 10.819906159748445, 10.209954501769055, 9.47342415291554, 7.168258655665464, 117.54263154203109, 382.40656670578267, 131.28755087202157, 16.51386576849679, 879.6959920521246, 0.009909209992416967, 0.009909209992416967, 0.009909209992416967, 0.009909209992416967, 148.46550954873047, 0.009909209992416967, 0.009909209992416967, 0.009909209992416967, 0.009909209992416967, 923.5496520970747, 448.59311653827297, 389.1244450920035, 350.40893438454486, 297.5642508086088, 265.5745229260837, 215.10469868742953, 201.84564786209324, 183.26996670699393, 161.88080863507005, 142.8743416990713, 131.56825582504766, 100.19314907228005, 93.07742559984153, 73.11378387531214, 70.91638388140457, 65.82632748638957, 65.29820626917616, 64.63394996378227, 62.35940675323911, 37.09187058562267, 29.94986221485544, 22.3802675832815, 19.454786731978277, 16.50977015000063, 16.275272277801843, 13.765465291221988, 11.336290126879245, 10.989976053022241, 8.753840904413446, 176.67286494070868, 106.60553095715468, 1141.4760341796305, 361.5923116173078, 233.4523176595474, 131.93857513502368, 130.27961076786895, 96.18940602929325, 95.70965632382789, 93.949382702613, 93.64870663771227, 93.42181554508122, 88.20817493146933, 72.44691265645999, 65.0202433305544, 61.78140084835749, 55.83934780344577, 46.72716165313609, 44.91259021431275, 44.18003716565521, 41.75150751281679, 36.5235129125583, 12.300251951683416, 11.000776305930968, 10.778203154092859, 9.079800442911779, 650.0826363561848, 3.8900835241945146, 3.7299987479236143, 2.996776706305891, 2.426516053115322, 40.82109375106727, 151.77609326945574, 847.5783855778354, 713.552896259756, 449.0999219583497, 392.1617524509835, 333.89256563491483, 320.83909030760674, 305.7902389005542, 226.94303241489698, 165.19391541041423, 149.51378719260748, 123.75816239321806, 115.05126422722475, 98.46047405873307, 90.80308168999511, 90.4305468759521, 87.20748784235705, 68.71815819566942, 60.91500899141816, 54.43658924190023, 50.369114312717834, 42.293698293783955, 41.45183769443952, 40.61494623368174, 39.71035767460274, 33.295053742284814, 32.789654931182724, 32.409112001235584, 28.23119123649668, 25.241905304896342, 23.53693864315922, 22.640412956332415, 242.20703976560299, 341.1708495178056, 310.3751493086221, 308.7818527369507, 292.5583498516203, 276.1569187008889, 265.82254971464926, 240.70106574873563, 175.4492470286205, 174.62366716930208, 157.25834245540014, 156.12350285281718, 155.3990103123152, 146.1862183453512, 127.825716778993, 115.79823091194227, 111.10693160734976, 95.14047672838754, 92.3001053731966, 75.53497408139808, 57.42240534387728, 52.48572546015599, 49.228667436911415, 41.62407991447043, 39.17994076895402, 38.469822863418074, 35.10732958167489, 31.417252771035912, 30.12873127528389, 17.881845363861512, 17.811479611515413, 195.4568064837267, 188.74333238946173, 220.10165781655547, 62.02092581397268, 1237.7953544928173, 615.010772799255, 257.097646477956, 225.77618742254126, 219.36862554958034, 215.0728854461617, 134.61288527691593, 125.0066265462798, 107.05908918915856, 96.87871716946613, 67.32499862466473, 64.42859712644726, 61.09587079055236, 60.64580361574975, 56.428407003282274, 50.38885941979628, 48.2215589924403, 44.887904181160756, 44.28393545060977, 42.38820956610105, 42.197998312786076, 40.91714398385486, 39.996173024039805, 39.71098685176713, 30.754032141276536, 22.184337302263025, 21.278638861093008, 21.27457340091363, 20.089728384633208, 19.90128168526527, 403.28463547016116, 109.29405564054227, 774.8117512867607, 492.6150974581315, 359.2740019645511, 341.10560478227785, 339.7322975047818, 319.29203327199633, 199.657288111757, 193.88737922429425, 165.6656177557329, 153.71653306243803, 144.89249829527932, 113.71510576656136, 106.05213634475298, 73.1011654685718, 72.65141281399934, 54.55191605411513, 48.23977754397662, 42.5229291395503, 38.36558351729467, 24.728668231910692, 24.26501973096054, 20.589698706661345, 17.84853755338365, 16.878756596989543, 14.721556789451899, 11.9970187357082, 9.127481170187739, 8.883083277477596, 8.644396710180473, 5.801605887441343, 33.940399322203234, 19.843984407013348, 266.76460285572574, 34.346871606921155, 2557.5084015824277, 338.62649330193426, 203.96637690581355, 169.59692841400823, 113.38976495943146, 85.87183203588155, 43.57027856379193, 35.679377143508226, 29.687855635200215, 29.067255514592272, 25.415575414362234, 14.35334263026467, 11.663107936814502, 150.16222498600337, 10.633923286977444, 9.555706554952849, 9.535219333318587, 8.212810428853901, 6.1503522767303815, 5.24997143590179, 2.22696933567924, 2.22696933567924, 291.5939040230661, 413.71365095179, 0.009343679638543245, 0.009343679638543245, 0.009343679638543245, 0.009343679638543245, 0.009343679638543245, 0.009343679638543245, 0.009343679638543245, 0.009343679638543245, 0.009343679638543245, 0.009343679638543245, 0.009343679638543245, 0.009343679638543245, 0.009343679638543245, 0.009343679638543245, 0.009343679638543245, 0.009343679638543245, 0.009343679638543245, 0.009343679638543245, 0.009343679638543245, 0.009343679638543245, 0.009343679638543245, 0.009343679638543245, 0.009343679638543245, 749.4913327583115, 353.1438710624713, 296.7192699983305, 287.61702017351814, 268.07803620576937, 236.64408855317504, 236.363040375516, 195.4952568139475, 161.77539229860474, 122.71188377106401, 111.38571223275135, 75.69125451181226, 75.13951256303955, 74.5123313665794, 67.51910260275343, 61.87735146246799, 60.94789686783113, 60.87256265216277, 53.120070551578834, 42.04279864042562, 39.45924291734134, 38.631840058220384, 37.24240211245915, 37.14448601269361, 35.68032434987479, 24.971250934192838, 23.049226254134346, 22.956126310075962, 21.34517583612431, 18.509508256631108, 225.44060316578876, 248.47890390177415, 952.8973717846, 260.7364006458744, 164.1068374171561, 151.28744410967303, 133.84242253546535, 119.63115496902223, 109.9293705796984, 80.29324214490397, 79.53927956919776, 70.89732447463373, 57.47463265592256, 44.31246019049007, 38.86391275040039, 34.692203437057096, 33.110802365487906, 30.1723029111577, 30.145955539304627, 23.966958417395325, 23.483566459358002, 17.31279339115583, 14.697587129177679, 12.972507568360456, 10.853586499731657, 8.363394845648232, 7.417897880510302, 3.3332853421213575, 1157.801664094173, 105.59075247467938, 394.0128181793081, 259.2616842725708, 426.98006424328304, 329.92748108739454, 318.02291744776034, 207.91199746309917, 155.06690426195658, 139.78877296331197, 132.67237405258504, 109.00884917871443, 100.5943762240053, 89.04061471000841, 85.65189940014241, 80.70632411969267, 71.68815006015186, 55.3766004658685, 54.63868552298664, 54.304405382835974, 50.21308397028205, 47.960391097590836, 47.49674368263719, 45.40870551786142, 39.45939928237011, 38.37054092711316, 31.428301468479034, 29.097785291773597, 28.900497628849273, 26.354940896547724, 25.39462564345676, 24.68320196390702, 24.62294317024755, 23.691750110802662, 873.736846641515, 488.17147025170084, 814.7962425524018, 465.51312746042254, 307.4324097746113, 301.29425615515555, 253.0291098353258, 249.28834321375825, 237.7512026470813, 187.08211834393083, 178.59118600337013, 151.37813595072276, 144.3485864936295, 99.25793140446902, 86.87526045038246, 73.60146732906811, 70.35635630439242, 70.25702677396701, 44.61405807064508, 36.17445176020602, 35.16986968960133, 25.77173918329226, 25.58794170851891, 24.757039859728486, 22.082153204441234, 18.72962012980291, 16.17574710881068, 408.7830988021566, 11.729516967379787, 8.89684114746727, 8.602335974277175, 8.1477421636052, 25.32415122820644, 10.248087726400803, 738.010544684928, 523.729067294837, 377.25909102776785, 227.63300550574525, 196.07143412302247, 186.4665362922737, 184.39279525798358, 170.4748929860356, 125.71942366325688, 116.7863629986109, 103.6180569823719, 99.9638500534763, 92.29955197878388, 89.34863129577683, 76.4753805802901, 72.57348008335927, 69.3463282293303, 65.16275410915252, 60.16023842683225, 54.016338333342645, 47.79722295156176, 45.76989880950027, 40.41739026861818, 39.61544300937785, 36.05979021142585, 33.00960569828481, 32.89373661721447, 30.39601444611725, 25.6243134619309, 23.754882426191795, 77.26361696420786, 166.00452343761043, 81.09744619301081, 752.9712777505288, 672.5631619362412, 522.3373901961751, 432.39311593879813, 266.3160489071749, 255.003184699878, 220.98130766768463, 197.07807015018776, 135.08982003020625, 116.98539340267112, 110.11802364630545, 100.82194725764514, 84.73567641345365, 73.68210524321128, 55.54018278802199, 52.789987456214575, 46.820452871474984, 44.718855489337415, 43.920784029562945, 38.76059174424958, 35.047627524774875, 33.97377522972182, 22.88494922990909, 20.530127560978052, 15.662746634295708, 0.009709003054033582, 0.009709003054033582, 0.009709003054033582, 0.009709003054033582, 0.009709003054033582, 16.902922408457844, 0.009709003054033582, 0.009709003054033582, 23.28389574470673, 0.009709003054033582, 0.009709003054033582, 0.009709003054033582, 0.009709003054033582, 0.009709003054033582, 607.3010338705594, 434.21507170119133, 328.40747270701564, 215.60169116979813, 131.48091341073248, 115.28008209179684, 109.76772574007707, 105.20184899490374, 91.50644774445236, 88.77226278628461, 80.42966323773707, 75.28151287595354, 71.20008018599525, 70.64969037861736, 70.2727800213129, 67.1432765097608, 57.46561237024446, 56.41358650684671, 56.292170384820636, 55.63285270446075, 52.24932117214307, 46.42745371695189, 29.69412379778602, 27.634175040765292, 27.296354555638324, 21.192577697060088, 18.50657653114062, 15.21043096002498, 13.593876489474816, 12.750391036628407, 56.282326407036656, 325.4908076062161, 296.4748122582188, 206.66571545543937, 185.22125185159123, 98.46690704589582, 860.3628233971132, 524.1079134361984, 458.3243508943108, 312.30785297118746, 297.3638048563693, 236.07616847005735, 215.99239285529669, 188.44524797198153, 137.35546308321955, 129.5496633747787, 96.21069829181597, 95.15876956052495, 81.00114931538728, 54.29171446129874, 52.83024264275823, 50.87432797715931, 49.26832794630098, 45.87074858880289, 39.39419428851622, 37.040750971563114, 34.27510220555467, 33.940937765179825, 29.269253470706587, 21.11846449686598, 16.23776684025589, 13.237213243548654, 12.689167122306253, 12.049450179027266, 11.381817527019669, 8.721067400901063, 116.51828978905547, 88.54408516819674, 681.2595022168557, 498.8919749528699, 337.9051375580555, 187.1090723211921, 168.57971052946456, 147.89335463641456, 117.30267410243306, 112.67562598737914, 107.63462030351357, 102.85856622132299, 86.32080475453735, 79.00832477508575, 69.67900540218884, 63.81309082674935, 61.512860406000485, 60.01711482636773, 30.72431612612213, 29.122478951055733, 26.315959850241498, 26.031578604009443, 19.788151959391378, 19.59666706566189, 19.01929825181278, 11.966377053825065, 10.972759350620443, 9.986898013441465, 9.308069442169977, 7.081414067272616, 6.231624093319526, 6.676123007571551, 185.2742573577597, 518.5644471504585, 496.9093598702983, 782.3064211355803, 635.9499287053709, 232.06242527580056, 191.35757302405378, 185.92458025593206, 146.6744754351313, 109.41590049036981, 107.06560570997408, 102.68588614860813, 102.35224388696622, 92.24220421237167, 85.74588752597028, 67.70291223962886, 63.996975007227434, 57.17069718398095, 56.41178987811348, 54.41124745046491, 48.88698346785814, 47.280135269183184, 43.363240633256304, 40.896225244134044, 40.60483733184544, 39.73410655405981, 38.37855923224548, 37.24383803728834, 35.45118403046944, 35.37562170584771, 32.54900178502768, 29.178470858903953, 26.5008806550694, 140.12091519009152, 79.55408671826775, 169.6160227549046, 108.63876954871039, 44.390501936812875, 581.9671764842689, 349.2587892783, 317.3571448029669, 261.706314457146, 181.1752480581219, 166.38586985544532, 143.18545454766186, 141.54316460572852, 106.13320589144527, 76.9184669630346, 76.38322034598717, 72.95112973493477, 71.80111635968034, 66.62006475818191, 64.66850830394422, 63.03237460052745, 59.21709728791473, 56.332656425057564, 50.356658891741226, 48.064139950186274, 39.899443039856145, 35.07604664470481, 31.43418859319538, 29.84064378080123, 29.415185477619744, 28.044552952314344, 27.991147377151187, 26.907435124876205, 25.289939083313744, 24.38666148442747, 576.0841529868621, 192.20340352439737, 28.997712977815148, 36.7748882716456, 1094.5506642301216, 1009.6791823809217, 556.3564265915365, 198.61623602508595, 161.48081343130877, 118.39979561300757, 98.95021268125777, 94.71281161694728, 90.40920930484353, 82.72442447797268, 72.95195084875303, 65.03316102076384, 62.65744507715197, 57.96019413488684, 48.527595382700426, 45.542801899113584, 32.33599093358094, 27.266882231960512, 26.174235889907653, 24.116522514156838, 20.00736244492571, 19.870271135411688, 18.37528058165835, 17.803851998326028, 15.36229517169086, 15.167443701028654, 12.33654836975732, 11.93504602716628, 10.596179947061396, 10.534988176762164, 56.61663211499738, 657.3423724354578, 448.55058893686237, 436.0715792710019, 391.81774471856767, 301.4018574753475, 212.8238305032831, 200.13313148296683, 170.09139165582863, 162.18904620249876, 131.54420884906764, 115.95168531553765, 59.2096129062323, 57.76408443621592, 52.64183482547739, 44.451568192214246, 41.78022969995731, 39.221825144923265, 20.790210972626543, 15.7268660231863, 12.978215099678398, 10.578151192135081, 9.583502696053701, 6.321768605911981, 5.047876184131196, 4.18457952273966, 142.8879322663149, 107.32847149787251, 40.39104666838102, 288.21320883298387, 0.009310266403912207, 0.009310266403912207, 964.2199570519681, 575.4355098459681, 404.3679460083542, 335.09629694311326, 200.5419149163689, 152.275379546131, 136.18591565326648, 115.9725901101127, 111.64154023461225, 92.45007208672914, 56.187996335494375, 39.447605811352915, 37.98977825693976, 36.56813660910346, 31.10869741598123, 30.743565597872536, 24.19899108954228, 12.033626864041715, 11.919522414235319, 11.369392317808398, 10.210053093808664, 9.763315337339998, 6.398950648848731, 191.43704526800957, 25.834761941658854, 259.89769742537294, 3.3862285203429727, 3.3659438116726372, 2.265025335556794, 237.40844098728857, 31.188375416695713, 482.5375292420688, 384.22787958980575, 370.6692249820671, 358.3832585438166, 348.83498661870925, 265.04532721187326, 219.7085030859206, 202.41157623142738, 178.94025652899893, 139.6909343174476, 104.8937395528789, 102.57370217610169, 93.90617602339648, 85.72089694461523, 76.33128432278093, 70.54691164731446, 65.85657989245684, 61.68045119878254, 46.44562071271148, 45.34335649923743, 43.1481600341247, 39.29375670675211, 36.13899129587127, 36.05275040925153, 35.42870537164427, 32.88731705054605, 26.735037761746355, 19.57309603460834, 19.522190980399895, 15.808682330661158, 46.90570238326746, 689.2766591140519, 511.94307958792, 228.64715996447325, 219.73616500302379, 200.17405277688138, 137.51003236473542, 127.28871802334645, 101.72216985989425, 91.66228195858604, 87.36616085813544, 84.43627846127272, 83.04858509332401, 77.13437544204189, 75.79333670438466, 75.74094190663462, 74.22800565419203, 64.01409518264315, 63.6268349427493, 57.366811741471466, 56.479806057063435, 45.269211701452164, 44.203361953452486, 39.637918188329465, 33.52074867376893, 30.975835969208415, 27.154694013838917, 25.55409996376102, 21.185400832521903, 17.684214076625725, 17.10214493239615, 65.56860428251042, 217.77091459363143, 140.42889174771483, 141.98742606116397, 445.5181249496172, 392.291261232114, 261.20073178540133, 171.95126220362312, 161.32488376064535, 159.2833588208217, 143.7397473281703, 128.12247305176422, 94.77486370849466, 92.2289247627488, 88.36166406451434, 77.54216009415667, 76.54095753142727, 64.97924843222812, 60.04204584380802, 54.859462132238974, 53.36928946130429, 52.96641287931596, 50.59429951226012, 49.66763413912398, 49.65956360955959, 47.17197746786278, 38.959412097406066, 33.921570123480926, 33.89193879409443, 32.52121901987237, 27.59971241013169, 22.05944944539395, 17.935113430610492, 17.894682007487745, 122.56006241121358, 439.7559322687712, 101.913142730928, 168.24401777385285, 83.93392497879613, 604.8609418998712, 336.72065376212936, 297.45205356537633, 293.3257694486937, 217.7604932497421, 185.30095838657178, 180.03619046372776, 165.7057524393707, 140.6848524847519, 138.96758071170962, 107.13024997247403, 94.60694379256097, 82.94393641250154, 82.65293442324428, 81.66203417534261, 78.23877804569898, 76.10285215333735, 68.75334783062189, 49.52883036581445, 45.98625236063289, 30.455437994029065, 29.689236949199216, 29.26761194108418, 29.180944349523664, 29.015447214268214, 26.674471165523087, 24.890161237781573, 23.095838532356375, 20.21758655957909, 19.686693634246577, 258.98670325966896, 871.3180850081504, 620.1414413992514, 203.3506509292797, 179.85253174143628, 168.80713610731516, 163.7580645606374, 160.60370081308585, 145.06234079359726, 113.1982535812641, 84.94660950668973, 79.20580315099802, 77.00614571424607, 67.13662128714286, 60.43765852312012, 58.406108550492945, 57.1566274659739, 55.85429556537166, 52.57611035138695, 47.12824651422851, 43.927082291123476, 39.49985476414494, 38.21486301475152, 37.07058066682649, 36.19390113805132, 35.75921223958259, 32.32904340711154, 30.12314655668834, 30.070170991315873, 29.872336161399083, 27.959652769371797, 67.45873954570466, 371.7818659326686, 331.32629785840993, 287.81734039170135, 225.47476115053584, 223.10555548997917, 196.6595622445702, 141.5218898861736, 123.10109366713824, 118.67750320471578, 111.56744659447646, 111.18572241855493, 108.40807321058023, 88.11166102328268, 84.42392935522028, 80.95466875639599, 74.5352134997005, 58.415942672217476, 56.430842544768645, 52.972233954761364, 50.49313235057802, 49.27991050171658, 39.91759112713445, 38.98828299540729, 36.6033712547459, 34.479387112994786, 30.17651941716507, 25.83374359348083, 23.377426100060344, 21.201679488767937, 19.5243144198341, 479.24756656744745, 45.82467776716589, 90.7885706642834, 295.8359924816476, 289.88651031949047, 251.74764107313032, 227.65860569747534, 187.60225525853645, 141.41169609168423, 129.9982079319139, 125.29905909380935, 121.10774245414004, 108.34991454209089, 106.92644152699044, 100.94421217233207, 100.52584268094914, 80.58656702482115, 73.24337360696754, 68.32295557628032, 63.58616482396851, 59.69874521642979, 50.471442656588856, 41.93080128057015, 40.974648831061515, 36.07764369301064, 34.26727551995605, 31.645693045687683, 27.108282167060473, 24.291932968958086, 18.961596459699518, 17.032881321518925, 16.401045649382542, 15.715437467156645, 304.88446219895286, 156.92428417989657, 182.05374684710492, 240.56332926078687, 172.81768084540735, 828.587323112402, 299.26478317707813, 281.87502574701364, 154.00984959548137, 139.27572662380956, 129.7495006556425, 119.77083206390573, 108.73118894510284, 101.82049559853085, 81.16159178960845, 66.58085641941496, 63.576274404166654, 60.115366583647216, 50.97654668050456, 50.17410584734925, 49.31208569217252, 45.821682624319436, 45.65380525167576, 44.645070871700845, 43.15909384547639, 41.90865930653812, 39.919769840259946, 38.61234989849425, 38.13290588462014, 37.63379965537186, 29.48761759358553, 26.245056962193768, 24.019331897577207, 23.80043436654338, 22.835771597325408, 180.7020478107853, 81.97712922071214, 216.6537678397388, 97.52771327423922, 129.3089808238577, 864.4749141865339, 298.072560326858, 171.74784117287956, 149.29607006652773, 144.36768391856742, 134.99893416521525, 123.70567247948004, 120.36756773917003, 117.93361067842976, 110.37605081541633, 108.86625112221965, 96.14341179003485, 88.57685520471867, 83.49839639695446, 81.74188183341145, 67.7269436308142, 57.895580583706206, 52.735723587230034, 44.7104143559713, 43.265470491123466, 42.97689184038451, 34.8888766766413, 26.29904603274158, 24.579152253104915, 23.02240425670317, 22.825791888467705, 21.456621351571243, 19.038347456576894, 18.902273941069197, 18.734454139116725, 458.99205956797505, 175.64058085976868, 789.2383426582624, 731.6278225017803, 266.96791324529903, 167.18605271700724, 114.08663702945296, 102.50188570974882, 89.3473338994119, 87.6148707550671, 80.16234042892405, 74.59840776118102, 68.13277675552227, 67.28222185944519, 64.48101008234975, 48.76385495070439, 45.5380893816584, 42.77600835534122, 34.48210213928964, 31.91427325928275, 31.543559480277608, 31.192974766666957, 23.881475490279822, 22.699470871044678, 21.341844441048366, 18.521815701307435, 14.966262913747602, 13.884019047135277, 11.403458330442996, 11.03605432586128, 8.625602553587, 76.7219194206031, 346.6927235860002, 35.95670376719103, 202.13404083701963, 118.41899844465074, 362.3049136525118, 358.57021941358494, 251.73094070392625, 167.089816932251, 152.61884860541284, 123.70423001981636, 101.8209997143554, 96.66711741279696, 92.5233886319953, 87.82187926380685, 86.54153653496518, 83.9417113771841, 81.00842812268299, 74.37204331443574, 74.05016388748273, 60.09877033408536, 53.012985083755844, 51.85518644018618, 51.84834553431071, 49.97489019200953, 49.04063580064688, 46.75745499257006, 42.002300318651166, 38.95302536708062, 36.67866712573776, 36.484297325058485, 35.1274518574807, 33.48352371281369, 32.588519113818684, 32.16847914123746, 353.4342100226046, 59.87221942402409, 209.11334228128493, 483.71092862929487, 378.32120066619734, 357.4971707658971, 239.69495703099773, 152.97604932314317, 134.86470967776006, 124.94909214200851, 121.57684582511152, 116.56908584957142, 112.18866699946194, 106.66734887382297, 105.1459717874331, 92.8481492215973, 87.41803653168608, 84.93208466016938, 74.28856152984811, 72.40898323865164, 72.02119274252134, 69.74268941383704, 66.97165566687431, 66.66404891519558, 65.88801652260968, 64.70980901019375, 63.75324658084108, 63.72771236910636, 48.5141897753865, 44.87975510287517, 38.24588188046643, 31.633514121889068, 26.61009619756497, 117.25826881956876, 611.1432379242589, 292.70495326288267, 269.76192805988853, 205.05070302176426, 174.74026562565336, 167.7255037744678, 164.99754667636785, 159.61027810005723, 151.99008832984816, 126.3154994287599, 125.79191878835441, 124.62428955398774, 118.97697009059655, 118.12926130321387, 106.03110946647753, 65.92524416491614, 61.070993498995776, 57.31159764193448, 51.852366125114926, 47.00676002855563, 45.37457817368825, 44.34805716409397, 44.083993934519896, 44.03525223834851, 37.45531861271159, 34.306978473414695, 28.576692182657336, 25.110984392934835, 20.25861779982394, 19.754954232198823, 72.3812835670029, 135.92600643325866, 53.101989156224356, 696.1064188102152, 352.05828586554617, 313.2712427586676, 312.6565665696803, 309.2934646874406, 305.4979443863695, 267.57138230860187, 165.2887184933269, 107.06499851061092, 86.33544456256004, 86.29310222497715, 78.45839739410584, 68.30315047443082, 54.262358237897246, 52.99504170662034, 50.073606877808196, 47.5525372362328, 45.36986320081131, 37.07277512087451, 33.96058347422703, 25.511511985284322, 24.988678840054494, 22.994809340125137, 22.1662622053882, 22.06940140443344, 19.96512446436755, 18.660798477553158, 18.448758612282074, 16.761140119352508, 16.565190267777158, 18.490929402610355, 37.59313761270918, 28.10243119379009, 743.07459278954, 564.0178451634309, 322.6434123040244, 163.27255803433948, 138.62616268859475, 99.35037320503658, 98.09521092086044, 74.92486974685015, 67.85329221179981, 47.99557378984479, 47.53123855643616, 44.464396551750845, 42.00259167481546, 38.692414261611134, 31.77011405577661, 29.36735462105031, 26.03894882577217, 25.37996722521228, 22.109722902619485, 18.683685930173763, 17.70706895638867, 15.17582966910463, 14.706866157368522, 9.393370013872975, 9.186359239320145, 8.595650792302981, 6.5174714745286755, 4.8504729069589905, 1.51546223097358, 21.469734550395007, 351.45758810205876, 336.91490113908793, 387.9767623590536, 504.5833194285941, 445.11501202590466, 244.33877570602922, 221.40521829942102, 205.74161777155763, 184.50772066021605, 158.00680656772371, 127.7189113537489, 127.47866935581224, 104.44114285521412, 97.11816832963736, 81.01946614139253, 78.88710364343036, 78.48723846351078, 76.73434575513784, 71.4043207925307, 65.81365103592292, 57.58101914383702, 51.858479191906824, 48.254201221167165, 48.14630708837003, 38.969888506486136, 38.439874964305794, 36.4036388884527, 34.67835105206832, 30.749050245155914, 30.044263241483417, 29.491606668825536, 28.336554765228573, 26.526017677958, 114.46052276681868, 109.94510628285019, 863.4719579138705, 415.52175952326854, 200.09990748248137, 194.96784410322303, 175.95688871113163, 162.39054520980378, 148.3031547304607, 107.49278536664534, 99.42729861874727, 98.21755454413216, 96.35311554658301, 84.40662999191602, 83.29857521255153, 80.49364302610712, 77.62694034712545, 76.79600070106768, 68.80806458228125, 56.10995319563365, 49.729680275608374, 47.150612820983, 44.637377086189964, 43.19208920580276, 42.03751290178284, 35.692946321645344, 34.90901141620637, 29.94981209266403, 29.632839019723296, 27.813696907899548, 26.51044316703184, 26.336537061623883, 102.67276146222858, 565.2153708142212, 387.3344200210691, 185.8578472490969, 158.79543146912064, 138.46242344538595, 137.49464933249635, 131.01095077685503, 115.93343462197855, 114.32360045989506, 109.3749168402283, 91.63858518764057, 91.15823144572856, 86.2210698246009, 74.26009199288289, 73.3746610744184, 61.366470341516305, 58.954138570555514, 48.46202007692603, 46.047136057889354, 41.28752164792495, 39.63082865375461, 39.20184443669942, 39.00209783078364, 36.70916110998544, 35.965741405269256, 35.765891529200125, 27.92463488736333, 24.85623520854941, 24.195110751401433, 23.312995542503735, 368.068015646989, 56.155465779437456, 43.82689414861669, 72.06002464571294, 37.295547481859266, 494.3334975853139, 362.2758203994032, 347.7573438244494, 274.27638558278113, 202.93020125632614, 144.44413948765384, 136.57504967552643, 133.88896387558725, 110.65142775174768, 92.53688810548962, 92.30546716937356, 83.61824625614385, 80.32947959707654, 77.24552094353771, 76.95763009899893, 59.04588010308137, 40.493118848147745, 36.11252478501585, 23.8461344334052, 23.443334958278523, 22.672895755399626, 19.686403473887918, 16.841924498270203, 15.85954699144423, 12.24628478163593, 10.517989252596555, 10.197161603692617, 10.025295907134353, 313.1331137879396, 7.060966541737831, 94.57732042948037, 87.99277791423842, 45.136631197538165, 83.85563418414289, 22.318670750174, 80.47860301783724, 866.2708175139006, 440.11351412886916, 233.07770768946767, 175.25430047201684, 154.52953487138672, 136.7416834400954, 117.80979748789206, 110.18920965084996, 102.0501709953038, 85.68771701976998, 71.1708744470284, 59.058883960005545, 54.88108222244196, 41.34270217292508, 39.3518807564625, 37.350889330722815, 35.56774770413805, 33.68229827364478, 33.24189440538496, 32.56037199104249, 28.07428681351493, 16.882208078164112, 13.164881150495226, 9.7498905137368, 9.012522740676722, 7.202563114466545, 7.155832049970139, 7.134950216666836, 6.932014966754147, 3.4854974842822344, 431.00918124504784, 342.7619972468993, 8.071597362924578, 764.6539781349807, 433.6743078219576, 395.00598327204733, 358.68046764569596, 354.0246320124636, 180.0221498823714, 104.77780380332788, 67.05792709236869, 60.960556899806186, 51.59941699538092, 50.43351433638784, 50.18094754540325, 34.6209414498412, 31.49131615907532, 30.814169792852386, 23.87342045420417, 18.784159532870394, 16.303778085547037, 16.163031867161283, 13.995964910549851, 9.576909042376057, 8.16233075431581, 7.09028178600133, 6.748051258439489, 5.546627104760178, 5.33159648225326, 2.50014520046298, 2.50014520046298, 267.41769047432007, 40.885247247372924, 177.06414935783175, 169.14789341363453, 440.2422712746235, 290.27504429966405, 288.393970577718, 284.8439188833762, 259.6215192573611, 233.1537773975708, 217.83325986918297, 212.87457473683693, 178.08431968703127, 127.65930843314905, 122.88298586466614, 102.5028249251331, 97.68168319898247, 75.97431504442278, 31.592401934473397, 29.77126807720556, 27.34358381329295, 25.043119339025356, 23.044988565950973, 20.729833002149295, 17.413619357983627, 9.368653683011292, 6.824494179722977, 2.8329817348481243, 569.5641664346467, 0.009510575652548453, 0.009510575652548453, 0.009510575652548453, 0.009510575652548453, 0.009510575652548453, 46.37213160881974, 0.009510575652548453, 0.009510575652548453, 17.782395687104508, 0.009510575652548453, 0.009510575652548453, 0.009510575652548453, 0.009510575652548453, 605.3712649680967, 266.5492461231308, 250.05874435005646, 249.6075325902294, 230.9138975112014, 192.06073739503194, 189.94721191993764, 189.86177087514375, 150.3347610405364, 124.2346417997875, 96.05610773915862, 88.27925477743058, 81.37370602258393, 77.7025628147291, 72.7894541939461, 60.81775149714901, 51.589570398083374, 50.28365212920213, 47.18068309704555, 39.78062455804653, 35.62205510235053, 35.49939442378112, 32.41364079721058, 29.90739390791356, 28.662493469362115, 26.305746478001446, 22.0992279144115, 15.363912473252118, 14.936514444050204, 13.66562824626013, 303.3460022840571, 49.08819389688474, 364.4868564867643, 357.3134459440035, 257.483041930664, 205.35581656604322, 165.74311166929385, 143.62818021521034, 115.90860275331892, 104.51594191507986, 99.39787181165615, 98.20689466819123, 95.2673773430594, 75.31807930104102, 71.05614178363217, 66.24845050738176, 63.28645392320761, 62.24909235306827, 60.489385573910866, 58.70320833523466, 58.694732968074625, 57.512589048720066, 53.27548607334286, 51.79613830514908, 50.21543303318051, 48.95282242242625, 45.09619076566442, 44.95939812060524, 44.94096118446089, 44.463006711298135, 43.217719298220416, 37.4190600493181, 54.22802459145264, 71.17922996813485, 68.91076015367368, 52.91367078696388, 49.40221771999285, 501.4254471683715, 145.15655960423732, 140.5337546168908, 132.67719601600496, 117.5054697305518, 115.49904925883946, 107.66622611094714, 104.61873360968228, 102.43154398616441, 95.53907540470843, 95.17729705514307, 87.58990271019304, 87.06532955891313, 86.26699490796716, 84.53624902943524, 78.73756074979379, 63.6277735946623, 62.97359745043567, 56.245098441046196, 51.59343338328848, 45.102867196360215, 43.87190790579978, 43.769666514579995, 42.7801207128177, 39.21848251104408, 38.40772730049455, 35.32017622134579, 29.860241883489213, 29.543593991856717, 28.28191791179941, 184.0161443171673, 117.14214199346341, 174.24304426914395, 85.12279040751613, 100.81956993615773, 44.05896917125515, 62.186232172187886, 257.45860947227493, 254.83691622220755, 160.9161645522546, 160.24265019948427, 144.12341736542314, 140.77279145578325, 131.63414885901844, 119.37498301885066, 115.38229188450929, 108.89723379466899, 99.0922886179913, 94.42950419297881, 80.7461110616374, 80.0734302303531, 77.68739887243385, 77.17651543360888, 72.93625392188841, 71.45845656720776, 68.67059537288901, 65.86080893948098, 64.4098002405603, 62.62429574528615, 59.93696811420294, 56.11625420646997, 53.61883538596435, 52.357630401433894, 47.87540485032953, 47.037915077216766, 45.08722474344219, 40.369543868557955, 112.09523104819594, 78.00131031208865, 976.5680623573289, 237.404804603204, 205.76209467022298, 186.4631350600294, 186.41022061249555, 165.8924274274484, 161.89591679287636, 154.983808570986, 138.52026790266456, 126.36960055441585, 109.71683165412517, 96.98615163887258, 93.82998929471046, 93.50316476582479, 88.28987401739417, 87.86505256572688, 78.37910030709371, 62.60302955938728, 61.453804709700485, 59.40516034164811, 37.950898878810136, 34.13400123516241, 33.26929241273834, 32.301759232912865, 25.273131509809836, 22.345584220525968, 21.056540292459744, 19.15443198177828, 13.27836598247889, 11.419397464867023, 28.450444502220282, 891.688252127361, 644.9960435769883, 244.57436305092557, 158.96689950017586, 106.98348717356393, 106.38149048945567, 100.47471869122379, 92.58928498497147, 90.70903989791786, 75.09713648778252, 74.98523302299125, 64.92819277254388, 64.45482584588541, 64.38443127375392, 59.59316547509014, 54.112607300663726, 53.66788343660391, 49.318833271680205, 47.65160936704473, 45.242741360499366, 43.11363915172256, 41.75548773595994, 39.08105772240403, 33.608159818954114, 23.66899033800606, 20.67456294050043, 20.37869523173191, 18.756319769655615, 16.807965347340776, 16.64815575381107, 89.13262249380534, 63.491287206215716, 36.28592581451422, 280.37940824078436, 253.7068507501808, 233.87813828496616, 197.96145797100533, 153.549093876927, 147.91769672298875, 116.04307030631593, 108.80846469733687, 97.6475926248616, 93.90234833253152, 72.48715155964913, 66.72712986848289, 60.947581414931165, 60.4809248901255, 59.59706602451463, 55.10709016835197, 46.87461630090153, 44.34518583473557, 42.057466829897756, 38.25956787989097, 35.73101411113467, 33.46496608041923, 32.16347180660801, 26.855169335988435, 25.690693360949943, 25.45213308107419, 24.833917051464056, 20.03323470409477, 18.12162945062138, 17.4453595043879, 394.4418958681141, 117.06255320493958, 216.41459347085575, 115.85642882163243, 42.45346647270704, 27.94310681046492, 238.78059720248453, 220.3080975181074, 189.9382842066156, 173.75438945773502, 147.91187695234947, 137.6670346439829, 133.23447266444845, 129.1822129887354, 128.38914012802877, 116.43523857325356, 116.30819986830967, 93.31547111488082, 90.4920941270841, 86.35854455330472, 78.70529743828294, 71.4034623362189, 69.03659123149583, 55.999847479276134, 55.76352307595236, 55.29608686913766, 54.171978840984096, 51.81299679213189, 51.75979038953114, 50.09458924252368, 49.630608224696445, 46.02305768021459, 43.61240564782408, 43.28293145408213, 40.31717612535965, 32.00787456286884, 136.60884179985297, 88.37065018245887, 116.85196593539548, 117.32961687351117, 1242.626199674393, 251.19765689059756, 141.88372086192967, 126.19485985963912, 109.40273739145022, 101.06733047363932, 77.23051049664947, 71.24362537471848, 69.7958923831686, 66.19872900135131, 61.0510896595359, 54.08669524392812, 51.699594497907476, 49.64090257599052, 48.64265792109799, 41.95096145117596, 38.71360674984884, 36.85332928805013, 35.906962958623566, 34.9925206844021, 34.41177088065472, 34.08306697774585, 32.644571688555786, 30.796958314772322, 29.616115423719183, 27.911375735888424, 26.706990763454968, 25.39745879818989, 24.420267148168104, 20.228756036957673, 116.90080786259082, 190.23952746923936, 129.87011150785304, 34.137656556704115, 477.100782662349, 431.09512076327906, 193.99407625880573, 191.61660492677055, 188.5520086720345, 187.0585807754036, 179.5927976328623, 127.0268068320498, 115.54373655608667, 110.63289776275768, 98.15607270403295, 94.79004358821844, 94.0466166898585, 90.70615044254014, 83.27703001718687, 73.88208071580642, 66.38508097884547, 61.60982088599742, 50.188996956034, 44.74534120512637, 43.99704947283227, 34.943060673258515, 30.982532242436985, 30.157032896766715, 29.263266713599275, 27.1036195319846, 25.562505190630635, 22.50329104769018, 20.8083012477871, 16.801868299323658, 113.21622146327014, 101.90492895792966, 358.7966165053855, 297.59254470034364, 236.04258183820346, 216.011837915415, 179.5237980364651, 150.26952738373964, 127.9440440724421, 124.27719005170404, 117.2748159209366, 88.6624546541222, 81.61973761576076, 69.63213473392571, 47.473240284549384, 46.601209898773796, 40.09852293859759, 39.44496369217453, 34.75927516017528, 34.244920352519735, 32.791667583903276, 32.42866083072973, 30.02091019902042, 26.66192808478859, 19.135387919737017, 16.298878224916425, 10.876956662370203, 7.517374618303178, 5.935848218837365, 5.891775819368585, 5.633274253861397, 50.085861344124346, 239.74009702116632, 153.48553801776396, 370.8797938208222, 228.27783586345072, 1012.4153594493226, 405.2238299468235, 343.08488968592667, 226.75331775175835, 161.4440930088054, 126.42689941246685, 100.91316409077737, 86.97907972151307, 86.26062948678106, 80.07264549020447, 65.77070830346847, 60.79802511289684, 57.69114853005694, 57.390207859743505, 50.87588688954115, 50.350967810121226, 47.902637810739265, 41.54075335224833, 40.91375881011331, 39.215576090149405, 35.9323995849816, 32.13287991358419, 29.10013802637039, 27.821237709562276, 26.371426762088923, 23.080359657244628, 20.607323846755673, 18.947337429360548, 18.39795075864448, 17.72392851863441, 56.169766339269806, 889.8235452053158, 319.25712180836393, 296.2156863107521, 191.28962284189546, 168.29695304430382, 155.7599713167485, 86.35516572828367, 84.26486610274458, 81.02348129958547, 73.79402131189217, 71.4617026359004, 71.09499668061345, 70.3187152614581, 56.214127495381256, 55.11520675590355, 54.78112593457478, 50.640499696633896, 45.25836051890949, 32.31181020752243, 30.60810672332534, 22.798315641289577, 16.205224646734468, 15.482600633681976, 13.888556334190884, 10.16984060588924, 9.752714301759518, 7.9091327917286804, 7.9091327917286804, 4.951276020349375, 250.16903182863604, 251.91755187179635, 23.267542743222286, 351.3742576295281, 297.69693725044147, 293.2675976791602, 213.18369530768473, 174.2789932660662, 161.6734120217859, 137.22847397814638, 123.64916355029716, 114.15118572499884, 109.85572258017527, 95.0212385931318, 68.82078744956877, 62.82832672896876, 59.84093528545526, 58.9653613929695, 57.86417178073275, 53.309276953123145, 52.97097519623951, 49.923586051874295, 47.38537536502486, 46.284808402362664, 40.8910218637243, 40.54304873464471, 39.49693315406963, 36.53752033382978, 35.09496986027792, 28.382761763135182, 25.29044709838039, 24.48209059624251, 20.675989409431743, 147.05461520095147, 81.86757682878687, 73.54862658047381, 41.41020332201377, 257.9174808202764, 226.78961492218139, 217.09001377934425, 213.4717932158826, 206.56130249052262, 167.4974409373197, 144.2545756846225, 144.02762431379895, 99.04828100607277, 87.74307806807586, 75.84567958072527, 74.9520678207415, 70.07429072682278, 64.28761010646825, 49.83761834707281, 48.714822079446655, 48.24010367333405, 45.46727865030528, 41.28787046743656, 39.04192089975166, 38.649710667870174, 36.19971032850436, 31.014215064697442, 25.46158099270636, 22.933060464016737, 22.365739296876363, 22.26588305147536, 19.628999811266972, 19.38838858166674, 18.270354991961987, 475.91674168556705, 138.0851360871584, 44.85641636754253, 44.68216769929062, 42.98611881062055, 747.771387388721, 212.0120225351947, 180.30910124346002, 162.3340467587901, 161.28408833830318, 146.0203933474617, 103.47551361647844, 93.69274749226513, 90.92269354190893, 84.56630801707469, 77.40389502948675, 76.97224411057113, 74.10503236014219, 70.56159262965579, 68.99463033787569, 52.330661004436834, 48.994724786900214, 48.22814328329215, 47.01914920086847, 42.18246956069249, 39.251643545488854, 39.03453597457954, 39.00498683900048, 37.45201672416352, 36.60207778547641, 35.137018115676184, 31.79699664012875, 30.081053670708695, 26.39258728083829, 23.187172364649744, 150.08318580434138, 103.04434054487545, 32.20597673266967, 439.6314385169127, 232.73298678723285, 177.3453347902406, 109.60705810390532, 103.88115840136945, 101.03909334780994, 99.56823278276762, 98.24286068793536, 91.7437198175094, 86.03047858561031, 84.63800652334953, 80.8723499045063, 80.09653003490558, 75.60961591989606, 75.13853949724356, 73.74043324035982, 70.59650563316944, 68.90916171644643, 68.64189002873073, 64.71813347662389, 61.296740251517996, 58.679465461139294, 57.716931470803715, 56.39601166564371, 47.563891153066294, 45.77566224728416, 43.906069930236605, 43.66458190194261, 39.95234268611281, 34.87964692991129, 87.46649981608306, 77.93443638866623, 107.93947751826138, 373.8816115293456, 321.6980837748584, 252.98369840406704, 245.2458245058805, 241.711296363508, 240.31361946408072, 175.59771208957204, 156.92540834105833, 145.6637768281043, 93.55715653503535, 84.6227493592984, 78.28861413136161, 56.399546295269296, 55.84875236445453, 51.706365919419774, 43.545789001273036, 42.66365733768458, 42.60808329070782, 35.41780833473681, 29.637571602008407, 18.115685829046857, 13.203774323323696, 13.148812314257317, 11.650587047204166, 10.928339612625155, 7.9470208995236025, 59.7588189309349, 3.10553373271579, 412.47409985654775, 41.24803290796029, 30.534127600918595, 27.237490472881227, 549.0722806622075, 370.30034378062516, 191.8070824048744, 168.42369717699594, 139.3691214822308, 133.7243994984106, 132.26404077512933, 127.06348591028437, 123.16812046232684, 122.8273906221436, 108.50345623419298, 105.44684849773412, 104.22249037397464, 99.50901852212093, 97.91092193652901, 88.44760917149122, 84.0734011512746, 81.90158647230534, 62.84798050336068, 61.440458334668115, 55.30561086806566, 51.59145478697967, 46.61150743192173, 36.99467880391886, 36.78943760745484, 35.44008049929965, 34.753583506462846, 26.093466030998886, 25.338436485680038, 23.45925117014283, 587.3896053384852, 260.87652654591284, 186.29265686046332, 130.08877911305922, 123.20186663594191, 121.5707812837044, 120.33426754308148, 83.28593368507714, 81.91567068011621, 77.72240494313395, 72.43234082040165, 69.58946881689931, 66.71096617926824, 65.32524044800446, 63.88922435625874, 57.33255722206354, 57.24627122747573, 57.129882689321526, 56.91699479358376, 47.52850520064772, 46.91047064850413, 45.64785940951814, 45.331965202059514, 44.60530665672923, 43.38584836958198, 43.219368561842415, 40.321544152696006, 36.620889021178954, 34.11786849635983, 32.91907584427999, 223.8516986864341, 36.825896235592836, 36.84355559812154, 458.9104631245119, 313.23024432624516, 232.09393402787248, 231.795386132763, 184.3298174180128, 170.54903168894697, 166.75936933994532, 157.23200776037913, 149.41830371546888, 130.23227696653805, 129.07273402893478, 127.53168685652813, 127.01464683468511, 116.86082777251305, 91.25401065542846, 59.652358660441365, 48.02252455325302, 47.77228105889903, 35.94458513847619, 34.73996798181244, 34.35271863813722, 28.901098142118634, 26.66529821698304, 25.196373091176923, 23.4877470589265, 23.407579223022367, 22.81115418992069, 17.546895768575926, 12.026425432974886, 11.903044852614617, 35.89225949112079, 44.98567912100002, 17.837046839330263, 497.23956622936214, 265.4230210273681, 177.42955790200384, 153.3415398585071, 149.1939738610906, 145.4406171828213, 143.4576949131147, 140.9041228628684, 130.38834492999743, 119.06637425829864, 117.91015128391108, 96.6570103178387, 90.0559944484577, 77.07825399236897, 73.59769625842821, 66.60475030599945, 63.12773951008088, 57.39842307007446, 35.799698677777535, 33.931828568064645, 30.657331512203505, 27.92358157883392, 26.951067004582463, 26.403386931938286, 24.405656195989064, 23.37296026452692, 23.347668625907612, 23.001218170388764, 22.876566288322046, 22.749204939710605, 214.1490235877603, 66.40604952431586, 82.59964104343038, 521.6087444712601, 472.5353420133673, 285.32560372610794, 275.4908331323122, 228.08662059462313, 205.9505940705586, 190.1597557398344, 132.97965783376597, 105.7533292849717, 74.49277175863544, 69.1345824314141, 68.78804230165078, 65.98361898649792, 54.86481512964328, 54.69015098949265, 51.95955263265012, 46.73935105981657, 45.682677339644215, 44.107256648131084, 43.94432651018676, 39.19496582905947, 32.47795142181456, 31.245113485107687, 23.79297652764976, 18.908469243230066, 12.976568154426147, 9.540406300697459, 7.538165695642958, 5.206986365653967, 4.932573971804091, 48.5428122710758, 514.8724602728994, 471.20579805624277, 250.73935604962767, 244.4874886952181, 136.8388993015075, 118.28152106552022, 114.35816023631033, 106.40173759526874, 93.59393900431539, 80.46797465093232, 78.93368627714987, 68.18873706608109, 47.746659617954684, 41.03390509232597, 38.63881022258023, 38.22112113619803, 37.76919321612712, 36.9920549228685, 36.89955405681, 36.014528151084285, 35.66902258976036, 30.642224439072326, 30.295500470227356, 29.20728216633023, 27.20457464756221, 27.124818007704317, 25.43246894914675, 25.162104320227627, 22.179059780639847, 20.04132580863411, 105.9642058721153, 50.38096427807177, 667.5850025191962, 290.3432696826649, 261.8431980169113, 169.22027958648897, 152.4154545588439, 149.00097869995034, 127.44675892355353, 109.46810304213032, 98.08830796395812, 88.26187520947262, 77.53796715984446, 75.15996695527869, 64.52109427232, 60.021795080049955, 50.81371406517954, 49.802347426727245, 49.66504539783865, 46.85073694643513, 46.163582499890694, 43.502943227360376, 43.218577679978374, 31.91383441358345, 29.414151814568815, 29.23378163064716, 25.560405795778962, 25.029755770122073, 23.16246037518954, 19.572030616681296, 19.40638711452966, 17.515717002339354, 100.66798098163436, 47.45183640259616, 291.79148529115974, 268.20378493662844, 224.64112079322874, 206.71711734387026, 195.15294492102825, 187.39622009286867, 166.36725393760267, 128.8976510840742, 127.4063708767105, 121.51370880322347, 118.99711719649913, 96.93027562362755, 84.1896547879204, 81.40163663181828, 78.44530438652158, 58.46497744956651, 55.48612998351449, 51.86815841024959, 47.68974098730857, 43.468709039798, 42.20023075597763, 41.73989387854109, 39.8362013349766, 26.659227770094493, 25.350566505534072, 22.611812115000507, 21.329949401296087, 17.740525027695153, 15.735179575320673, 13.182918033215902, 145.28704409001233, 106.10610943792898, 680.0049927539807, 394.1622922399181, 223.90528107346006, 161.25677515668522, 147.01332434216752, 99.80124384927123, 96.2965067736642, 90.7821999304201, 60.907600369308255, 59.313789880685455, 58.92421416136843, 49.3287078292673, 48.82802715293918, 41.94128997439984, 40.21516031367321, 39.04228127906122, 38.65585865038379, 30.26833944984082, 29.9676218813555, 25.098300318799133, 13.27440095794794, 10.304287917454955, 9.543242932793467, 8.338355111089143, 7.045484997064108, 4.879984755779319, 4.044114179737128, 170.91886517474884, 1.970365111409634, 1.52960074416615, 230.4461801408527, 238.79612962105543, 432.6899100163105, 257.83528524234595, 230.81784228679766, 191.09578968427797, 147.5725256474418, 145.21969190997785, 134.077911824089, 122.44948495650048, 117.10250039671583, 102.06887973835018, 98.15598168689755, 96.8681718555881, 85.9079620539884, 82.21389782675568, 81.29283806797447, 79.66921589545017, 73.86532319583145, 63.96938481057975, 50.45122050340432, 45.821627912574066, 41.58058924525107, 37.34760160707746, 37.22882445591085, 36.98717428426494, 33.48073390769167, 29.9463382289162, 20.68363989870779, 20.43634299461136, 20.050750087903715, 15.16145521732531, 56.1630249687745, 50.27965282751885, 30.414454184405013, 574.8203979997702, 508.5827661929918, 205.34070857743626, 164.1484008080669, 130.4927077779893, 110.12549546268971, 104.44121012619799, 101.01863363704847, 61.481231074639524, 54.39345023207991, 51.92376683014856, 45.48410984060777, 43.07356557519222, 41.90691225278036, 25.24329216015425, 23.123248923434492, 21.451006426196063, 18.55467921819163, 18.493368932100232, 15.560335774062786, 15.047487150200341, 12.619926936798747, 8.86863019741776, 8.107268511337324, 7.504890734296138, 517.6386690565855, 1.7133482917621816, 43.011883048620746, 155.28095798181312, 0.009917293246503657, 0.009917293246503657, 0.009917293246503657, 0.009917293246503657, 0.009917293246503657, 0.009917293246503657, 0.009917293246503657, 0.009917293246503657, 0.009917293246503657, 0.009917293246503657, 0.009917293246503657, 0.009917293246503657, 676.1409755774516, 264.37831774306824, 236.68669853666324, 152.03391955164338, 150.8880973981262, 148.75514052460645, 142.39894531964364, 114.6266765020388, 107.45737675180584, 70.68254497411827, 64.3278378814272, 63.00155326380718, 51.497655792785075, 46.554729923170314, 44.719070548866696, 42.74414512467642, 38.48143537446685, 29.83523278596862, 29.259017492574046, 25.87915616175739, 23.500560543597064, 22.528521052261013, 18.704368617901963, 17.535500464437902, 16.5337959105096, 14.085659894802454, 13.35490110502549, 12.720881001524932, 11.942661300412379, 9.45109822056335, 280.70552115276905, 80.86499267392155, 14.717096301333278, 538.2109319348491, 480.3464454644542, 279.02635869380947, 227.31761414682111, 139.6696275960457, 128.27279681834506, 96.53592928924331, 95.06977982759264, 82.43133291660835, 80.62727167197609, 80.21082760511975, 79.13926102674007, 74.80487956537998, 60.55929124753201, 59.621731670135205, 38.52952639572252, 37.65598238203358, 34.12336496465479, 28.464569194590876, 27.05558932622181, 24.781606290763552, 24.282791543992484, 18.936994991978594, 15.785850092175853, 13.164207469861188, 12.94003819243698, 10.605547171234182, 5.22406833977989, 43.39344940977613, 49.37745898678388, 132.60755894708103, 49.21494422898628, 226.84158666265122, 196.51845929469707, 187.34403279924055, 179.5858452202846, 121.81861007635591, 118.20213184516129, 97.19060477656501, 89.89840840793069, 82.30305056617905, 74.57495693205296, 69.13647269236135, 66.46806240930327, 65.82562552165068, 63.21820619700476, 58.61531197521488, 58.44939676332998, 57.69233237795475, 54.89581753359854, 50.79552358864377, 49.9041021781118, 46.13322039350301, 45.92198915915664, 45.89321454156302, 43.10742640125781, 41.53393394298838, 40.8853653536956, 40.481886705738226, 37.82691121947918, 37.23059342304054, 36.727972012817204, 122.17101838214418, 114.00135769637157, 322.6147498011666, 264.6527064170158, 196.90573040104417, 184.65863572401108, 173.47520160397136, 156.53327446234005, 114.48484298724574, 114.09268336018381, 106.16538002988908, 102.98512001491866, 88.68459932273446, 85.94851101327772, 80.12816367395351, 72.4389232708908, 68.2644645737047, 67.82551515794408, 59.36524914952916, 58.13530052654648, 48.79532264253226, 46.67020609376996, 45.07269139512299, 43.23939362699661, 42.94609911280878, 32.11571768070558, 26.868801247536084, 25.385683004471694, 24.677454379304617, 24.521619927924828, 23.5470469960989, 22.92142330942485, 32.41601440001213, 32.43120542049335, 698.5198494678469, 469.38045059854124, 445.18286530871364, 170.91262638973257, 128.2159001062106, 94.17274520888341, 81.14165266069075, 55.56593607269703, 48.819060786228675, 39.05895274615946, 38.75070029909785, 23.629619665476607, 21.58589441066975, 18.140851463111346, 17.6021348128067, 16.742838470536547, 16.359806780491756, 10.895271807817329, 8.827438141132065, 7.297740127553109, 123.58595572153986, 350.93581189549633, 76.38064362926217, 56.0272389326204, 0.009911379717842233, 0.009911379717842233, 0.009911379717842233, 0.009911379717842233, 0.009911379717842233, 0.009911379717842233, 0.009911379717842233, 0.009911379717842233, 0.009911379717842233, 0.009911379717842233, 0.009911379717842233, 0.009911379717842233, 0.009911379717842233, 0.009911379717842233, 330.08933433493814, 225.31764649865667, 189.0148588049539, 182.9452888041221, 173.7696474619168, 167.43932823482126, 160.45251071792237, 152.25738145191477, 132.34270212217044, 125.62462017003169, 114.93306309139368, 114.30347734462998, 92.8436955191994, 69.66005780367436, 58.6082589697082, 47.92640127554585, 40.85317831015858, 38.67823901786685, 35.66556117116606, 33.4432561575478, 30.636814279112134, 29.66396069985273, 28.710632891229334, 26.12331026823386, 23.758029416189732, 19.49238396058127, 18.951272608355026, 18.39331285821725, 17.25839036168211, 17.011682205393193, 53.56476216106734, 29.25444524440047, 21.653480069244054, 683.5548444587625, 179.64122177595988, 157.6378159003162, 129.93180201673704, 97.74237638079923, 93.97649959199046, 76.64115142995954, 76.23521906839439, 73.4585226464042, 69.22183879197657, 66.40446050109276, 62.665117789556334, 56.07977231512066, 55.90988732794581, 46.61156066328948, 43.96682668064141, 42.90375782763687, 41.55023838025474, 40.35227217368879, 38.049376262589576, 34.65734009524995, 27.325185769282083, 27.273940438953353, 26.680831344898476, 25.921048109994146, 21.086735728077056, 20.84102933637716, 19.235129563678672, 17.28298795450587, 16.816174936442817, 182.80575610261897, 69.69960826568642, 39.105039543817576, 233.25356409830331, 222.30046325641973, 218.66102987927363, 194.91973600123154, 167.0593085439108, 163.51345214104714, 154.6905931249614, 140.67525227482648, 108.18940097920058, 93.32693874328335, 82.67681991788224, 80.19195685004821, 71.91192438873783, 67.50070626608448, 65.0531972216904, 64.68295014914897, 63.915843696078504, 63.74208490588192, 62.8898346430167, 58.03032929967017, 52.39234719440564, 51.65706536800679, 46.09626396240235, 35.079797568619355, 33.49599253753917, 25.984877212043802, 25.279804026641322, 18.718516963067895, 17.344688549155496, 16.003941948705094, 30.873653869067315, 18.985936169148072, 205.6142870134756, 192.80457431495415, 161.25627843444028, 146.51786430633425, 128.48397979186961, 112.64018433040546, 104.25991382056893, 93.11297067520123, 87.49924687581229, 85.70727818694219, 82.30265812816893, 78.43208788526401, 64.94000905903113, 59.70344730986793, 57.94816114533462, 51.18729268487995, 49.52761650877847, 36.939203457076836, 36.18709399559465, 31.454106655524658, 30.879964924614022, 27.741473842402307, 26.411655685143007, 24.405329654058914, 23.812238935576694, 23.48753837015619, 22.597209704473368, 22.14793911890769, 16.320275446331724, 16.266807929609048, 255.31713648851127, 118.98063273693516, 175.2874753933476, 25.198726117932694, 56.934152147596876, 339.3825482037138, 228.51422943639884, 204.23703746975843, 162.8855871944322, 131.33025710376344, 100.28233288042662, 87.19976987004529, 82.95672382896886, 78.17154701871026, 72.93020928134229, 71.76728063309955, 65.17937925140942, 64.44505260533568, 54.362238642169956, 44.6921275117927, 43.55499638042546, 42.72845838109254, 40.2952399809266, 38.27287274699648, 38.12469019088105, 34.13933760267345, 33.15038902742163, 31.420825798112958, 29.94664212225871, 28.60248537094445, 28.581282831629473, 27.66580193033787, 26.926133622850028, 19.774239772191276, 19.563871853090124, 184.17304607089662, 141.33723205633504, 217.93777529926533, 204.42372118328157, 194.38413440022515, 193.66797661513192, 137.9058156532185, 118.15334687280664, 104.96565778908256, 89.64169462208073, 82.22576885115076, 77.44557064816115, 73.18162249058872, 69.76570953981151, 67.05012398722164, 58.270316421290836, 53.67094667878891, 52.742740277140484, 49.909493860908285, 47.93365241434481, 47.78829102794098, 46.69210309280427, 46.12916349244509, 44.09275303199751, 34.83760120411803, 33.784514178199515, 33.10591241998943, 29.23285855961102, 27.56671564641691, 26.370093408841583, 21.916596010067327, 21.61411591016384, 66.25080623872122, 90.50493379537438, 269.3959372291569, 266.952543034606, 246.38583241488126, 216.26881820535874, 195.88056301057478, 150.4008434795471, 144.02187243844443, 129.32676984458004, 110.90992111930595, 110.86261464195731, 66.08320142122024, 47.48389755226404, 47.35666466916509, 36.55777175549559, 36.455237789173275, 35.19833532438819, 34.36204380528226, 34.062125026172076, 33.900366466330006, 32.399306007240575, 30.689522970538942, 27.272037796559275, 25.885539216164013, 20.705822406065938, 20.480029133433472, 19.172826937731866, 18.92589397516351, 15.474488310642435, 12.569815441915761, 11.42138770217175, 49.47384389452791, 33.408628496131506, 16.51782409400635, 282.52788359964745, 201.34293879311255, 178.93142120116272, 146.95008823224023, 143.55962332436036, 95.32970395430957, 93.54642097614307, 88.47098692471161, 87.78688733316204, 86.35101287035363, 83.66753564444691, 71.590783081173, 56.77207664298024, 56.42662592724392, 52.738338320715094, 40.33049812578571, 37.52363158789194, 37.46274048754214, 36.772749836563655, 34.42426574980532, 33.36483124597319, 32.597161867475755, 32.26185336112026, 31.973277228983928, 29.82554076864918, 28.443836300272533, 28.124737668362762, 27.008115736661196, 26.874748206241012, 22.457268543420454, 52.46876747794835, 44.83577601906713, 364.30564924314734, 159.67928246605672, 138.1333159842604, 133.42776686704246, 132.08353315315946, 115.21146382296419, 74.06055134357848, 70.27709699717265, 70.24073006244747, 68.51516576154124, 62.84464450148358, 60.805604385224726, 59.410858829291854, 54.01711321892255, 53.44822334915571, 53.10304085862899, 51.60569498863079, 49.88690969921669, 43.92339886616594, 42.88460363632871, 37.167168931003644, 33.150408164873625, 32.21483992221105, 30.91782801655403, 25.87749122467035, 23.290868124361655, 23.146984475820627, 22.875063055931463, 20.632492196434463, 17.90377842898086, 89.98765233447135, 46.645124731090974, 110.9853295815708, 763.1643702873541, 161.19709274460428, 139.94931138093477, 133.97903236837988, 118.1088914151118, 90.44755393082521, 85.08331738049662, 83.20874495852198, 77.64100765605048, 75.54563380936264, 66.33272214512836, 65.96222143730087, 64.27186642019856, 59.19238601627468, 57.781265029374694, 53.42401182511628, 45.758350124058495, 45.50609515625988, 32.88874745057373, 32.64954386734566, 24.09704890705751, 18.29573661453497, 10.658052656470687, 9.658208775131602, 0.010537988699712387, 0.010537988699712387, 0.010537988699712387, 0.010537988699712387, 0.010537988699712387, 0.010537988699712387, 69.29592005138885, 0.010537988699712387, 0.010537988699712387, 0.010537988699712387, 0.010537988699712387, 0.010537988699712387, 59.94589541676752, 0.010537988699712387, 0.010537988699712387, 0.010537988699712387, 0.010537988699712387, 394.3183233347923, 143.63789447279515, 142.319868063585, 105.45470931129317, 97.4996356520963, 93.91183786032069, 87.4624770115368, 86.21268702237587, 83.21620330980217, 82.55836703632654, 80.60187254635814, 77.31941162629894, 47.92400021930169, 38.858850235891616, 38.23668862121689, 32.49479770489895, 32.00819425015145, 27.752202338112337, 25.997722106574937, 25.658316063630956, 25.097265318580384, 24.33108954966787, 23.646633737874694, 16.26270002319324, 12.687622468950867, 11.835093642657569, 11.183548193996195, 10.709007217264837, 8.5438542448941, 7.012626868188641, 15.662001410719041, 109.21815128141077, 60.666829713134916], \"Total\": [11119.0, 5823.0, 29125.0, 3998.0, 3959.0, 18539.0, 3344.0, 3018.0, 3703.0, 2985.0, 2558.0, 2514.0, 3176.0, 2731.0, 2660.0, 2888.0, 2405.0, 3498.0, 2489.0, 2002.0, 1823.0, 1982.0, 2092.0, 4735.0, 2056.0, 1719.0, 2010.0, 1546.0, 1876.0, 1490.0, 621.3044850189311, 397.7632242582694, 179.69635568770866, 144.7219282984975, 121.71507365134768, 102.89936876683745, 95.0923809564506, 56.31422525964318, 52.82824981141289, 49.373328096573516, 46.830196761836035, 46.50829244652685, 36.258672252638455, 27.472676300615372, 24.5628281070998, 19.548771268305238, 17.642599715548734, 17.42572723560442, 16.32077087486475, 147.8631428896091, 12.75720956193214, 12.515132265333234, 12.118798877709056, 11.892875380873186, 11.320784732178437, 10.194914095038238, 5823.555039118253, 8.477043206214422, 8.409754322021152, 8.093852759125381, 3498.0118415726856, 11119.287540831183, 520.6934848477237, 29125.763178144705, 2489.5220342236307, 1720.937277784085, 1233.542177706285, 1148.794436766543, 232.18533532121202, 184.92075375976103, 133.86318637063982, 107.30882349840333, 80.51444263025857, 79.69005300578293, 75.77928519135747, 69.93580878753053, 66.58468532157752, 48.30379223582614, 46.709725497813764, 45.133854122042194, 39.67771558449503, 38.302524823410984, 27.453083825579384, 23.643551012953154, 13.737039361239987, 12.647419834597766, 11.676435658172371, 11.026432842580638, 9.808004057937387, 7.586904001571432, 6.426985316832917, 5.244362139463981, 4.845245345138187, 4.621006063947009, 343.0600087275842, 4735.882671591889, 29125.763178144705, 18539.085698450428, 2010.9008882999376, 1876.919748727593, 1045.790100838481, 829.6719648901368, 757.2067576780477, 631.4938650809822, 610.6271168939261, 510.1636859740755, 445.1445555127339, 381.0424590929605, 266.3394266426431, 196.66116871192673, 193.7871216402846, 174.29947322979896, 170.7090230465209, 135.4965847745969, 130.8054931619377, 124.83956453935895, 114.7780596944531, 104.14548830010625, 94.03527220949108, 88.5837271413131, 57.35683566446053, 45.97563021874386, 43.372677269405294, 39.30731333415907, 39.04114691013137, 32.73506567225572, 31.993721914225528, 28.404923940284583, 648.409200368392, 1480.6779832422328, 274.553601630697, 3498.0118415726856, 11119.287540831183, 3959.0172187832027, 616.8340475081994, 419.40038583318415, 242.23745813219352, 170.1550673923772, 119.17112383085265, 103.65850422088661, 93.17781510335533, 92.45121595382184, 75.61348299763057, 74.58717565753723, 53.3976173154949, 51.83232102400886, 48.045953923588876, 41.6274385186786, 33.56889693033026, 32.70245288548153, 32.18886705016691, 30.921648077390202, 21.19432554283094, 21.06135586066512, 20.533142650551795, 18.82871437871808, 18.092241672333184, 16.36043872754212, 3703.607328838072, 14.441508221734301, 13.824173543072984, 11.831707908781969, 11.698261898474117, 381.06617572095394, 650.1932804605458, 538.9145307725117, 29125.763178144705, 277.1141897855554, 18539.085698450428, 3344.115630132774, 443.3367001229002, 437.87901540311486, 276.3808750743431, 150.45784590165974, 97.94434599712035, 78.22627183845141, 72.95694353977498, 69.96138245143085, 58.05900944570335, 53.468591747758495, 46.20575901852318, 43.29493634738789, 41.142932936069315, 40.28391588733281, 34.98422229820403, 33.33723953944599, 26.53015149276415, 24.61815389447212, 24.243868368461516, 20.81187955720112, 20.727821037273216, 17.261983498424474, 6.298366226198371, 5.204579920855925, 3.248144402110784, 11119.287540831183, 18539.085698450428, 29125.763178144705, 4735.882671591889, 1982.4022626673102, 952.6192890004108, 749.8517329810596, 555.0980920532785, 431.64958415024216, 331.36428283191054, 220.43372974802332, 191.44290395474434, 162.79198681703062, 115.29873319479033, 100.02693784173289, 91.7557834999017, 77.08932593128027, 61.1977149903589, 53.6827512420674, 42.24372889944223, 39.92614081831606, 31.627869288325897, 26.00697893002973, 24.664547971694642, 22.26026522961137, 21.193418767642086, 19.493779162414544, 16.21259837042281, 15.68354266479277, 8.356379944850094, 6.426593170910491, 3.6889113023406996, 3176.1998711187953, 130.30260968044297, 29125.763178144705, 18539.085698450428, 3998.0997003361927, 1342.2424661994205, 449.96186415599044, 415.00899381842027, 212.01177768382368, 184.47304593328488, 170.75117079597302, 154.88846668019679, 91.33180678908994, 70.8837245168898, 53.006374618381614, 34.477381884475335, 33.84936516336247, 30.809086006319145, 30.413318778367923, 28.596839106385637, 26.812241492472342, 26.303592854605526, 23.96254111067671, 21.728883105765792, 20.25789014594638, 20.057348716300865, 18.355275350315473, 13.082159286251152, 12.961042459999055, 11.930113981795094, 11.83176893702372, 5.125701427255312, 18539.085698450428, 29125.763178144705, 2002.165113239096, 967.0613450485994, 525.7430677923921, 419.9711350750967, 392.68925260781737, 346.75346141258655, 292.6387453448045, 263.2231750013229, 219.44947266588912, 150.13973401692974, 144.68843588613305, 126.84846894608033, 118.58343371829893, 114.63098159774822, 98.94323064689824, 95.15720580842282, 85.98939622417518, 54.32113617699882, 51.678627074499346, 43.83276228932775, 42.30015230254441, 41.061502578238326, 34.455795980319074, 31.74097566242049, 30.208520787508228, 29.412616571317717, 23.173735976213937, 22.40166082121809, 20.93941733475019, 15.971487541655712, 647.2491179807334, 1480.6779832422328, 2731.504729696598, 928.2487603718256, 419.77793906239987, 314.7968659348545, 266.7315301707578, 125.82358319684305, 122.52207384910106, 119.25751272301214, 91.13065972167514, 90.6099318018239, 88.55153666248532, 80.55443551376277, 79.19494288505042, 76.80851474404366, 71.79381485601198, 59.33169761494344, 59.20993572929768, 46.19802293843122, 40.546020177145444, 37.998153587065744, 36.589724217972496, 31.023656515391675, 15.039559294524555, 11.636913438623532, 11.411124852261384, 2146.8330235427497, 18539.085698450428, 29125.763178144705, 1.173016512707246, 1.173016512707246, 1.173016512707246, 1.173016512707246, 1.173016512707246, 1.173016512707246, 1.173016512707246, 1.173016512707246, 1.173016512707246, 1477.8117515362032, 1128.0919190445234, 1089.2276790525498, 1086.1115835892988, 128.92031916778276, 99.68775562898065, 96.28652954229536, 91.07816141607985, 75.55052092812855, 50.86188353732233, 50.39213402873131, 49.66767261080983, 41.35305102916039, 35.152025838228006, 30.305994871532178, 11.92391346041171, 11.0513998581039, 10.729856607076616, 8.655740767736672, 6.587524997314467, 6.248716212649618, 5.988838182991955, 5.172031372083986, 18539.085698450428, 29125.763178144705, 1.173016512707246, 1.173016512707246, 1.173016512707246, 1.173016512707246, 1.173016512707246, 1.173016512707246, 1.173016512707246, 1.173016512707246, 1.173016512707246, 1.173016512707246, 1490.9094797210862, 821.5651878953415, 542.6331706276117, 441.22823556653435, 387.7290208409809, 226.60645717821077, 127.9024625868624, 125.79272077953269, 112.38872973864846, 78.33908797415103, 58.638904674686174, 51.567773831674444, 47.700383207014376, 43.79008476254194, 43.273426293859195, 28.731677633194987, 27.90958519946615, 23.14968790917453, 23.035063305140888, 17.17766744927297, 13.64181004501973, 9.485690324957721, 7.808711519831618, 832.8016087890103, 2056.6994446849108, 2146.8330235427497, 18539.085698450428, 29125.763178144705, 1.173016512707246, 1.173016512707246, 1.173016512707246, 1.173016512707246, 1.173016512707246, 1.173016512707246, 1.173016512707246, 1.173016512707246, 1.173016512707246, 1.173016512707246, 1.173016512707246, 1.173016512707246, 2985.489124740108, 319.0174516128216, 154.86666708178825, 124.3052804933524, 119.10220221632669, 116.68385992114372, 111.18371570397156, 110.7565230014392, 95.6770364958174, 88.3613341991879, 87.72476952092416, 86.93859941924575, 56.41780246320745, 53.86354942846487, 52.17724560698005, 51.9822517768942, 48.64405716216239, 40.61482802713868, 37.73282234494397, 37.50888318094415, 36.780581934483344, 34.28147844953666, 33.29629736203578, 32.22870823269089, 32.218856203689775, 28.421228030633593, 27.418851335318966, 26.192042874554463, 24.901577945963588, 24.3901358537315, 194.16741084128358, 1211.1970225077575, 29125.763178144705, 18539.085698450428, 3018.172445779366, 491.41153924891347, 280.34056083384365, 175.739765425999, 156.68940028194237, 151.67890282733643, 134.84472036605365, 127.78787505567942, 119.34444440685338, 113.29359798225777, 103.38336649414478, 90.48161563160392, 86.1532365476001, 80.81282881018367, 77.9126992352147, 76.74400546388884, 59.30618231172194, 51.822181296357925, 50.09000537683194, 44.76503123238487, 37.37315287632458, 35.330113773915016, 29.333069057579667, 25.27853466424907, 20.96173984501986, 16.27134976579537, 15.939958344214364, 12.803088736234596, 11.305439758108859, 205.90864477543357, 11119.287540831183, 5823.555039118253, 264.89761407536076, 2660.5880696296795, 378.1361735137966, 119.3004633010195, 77.42403044026068, 73.10115631297172, 71.60054441298267, 60.51097996737485, 51.179527979739646, 50.773071634220614, 50.6066405279186, 49.00711755217375, 43.77726280784343, 43.65686091262121, 41.91097030612388, 39.99980589920312, 37.769204027869826, 37.39932556208887, 37.00929594607061, 36.796744447013516, 35.09218018134394, 26.272816756548075, 25.876669200817155, 24.50358539467234, 23.917736117011213, 22.17834921885274, 17.577542824342085, 17.29078346955558, 15.078440728697485, 13.825311676867251, 13.082122281279094, 46.647549642090176, 18539.085698450428, 29125.763178144705, 85.90668621938669, 4735.882671591889, 1449.436421813392, 315.6568436378189, 262.8846910320273, 210.5327378316459, 186.44460700067444, 177.93468439612784, 172.83333377364082, 151.02014764480614, 127.68811661921309, 127.6726388147104, 94.91508458373644, 68.67341438576668, 67.75288206324566, 62.42155857142611, 57.42573843418482, 49.701387548090835, 42.325015600672465, 40.831874168637285, 39.161326587197436, 36.057023722366786, 36.01629174134538, 31.005425673534397, 27.173476181517273, 26.36954633805705, 25.795685142422553, 25.729359406588326, 25.40258408488222, 22.964763701474265, 20.327518563786274, 20.277628417386854, 292.8403186479646, 3176.1998711187953, 18539.085698450428, 29125.763178144705, 634.8999225311235, 2405.216382475111, 490.90598806308225, 457.1545097714457, 412.7733522708106, 347.2126379590396, 260.12510495085616, 159.00638539516018, 156.55303158001072, 137.59795442029363, 89.31779821290225, 66.54859865184817, 63.32794647062983, 62.101696836897446, 60.2153485574167, 45.85348820987584, 45.78783265391796, 26.84350636141846, 21.448428016050176, 20.57704738534895, 18.438407048855638, 10.726852885411034, 1026.209186133041, 11119.287540831183, 1.173016512707246, 1.173016512707246, 1.173016512707246, 1.173016512707246, 1.173016512707246, 1.173016512707246, 1.173016512707246, 1.173016512707246, 1.173016512707246, 1.173016512707246, 1.173016512707246, 1.173016512707246, 1.173016512707246, 1.173016512707246, 1.173016512707246, 1.173016512707246, 1.173016512707246, 1.173016512707246, 1.173016512707246, 1.173016512707246, 1.173016512707246, 1.173016512707246, 1.173016512707246, 1.173016512707246, 1.173016512707246, 1.173016512707246, 1.173016512707246, 1.173016512707246, 1.173016512707246, 1.173016512707246, 1.173016512707246, 1.173016512707246, 1.173016512707246, 1.173016512707246, 1.173016512707246, 1.173016512707246, 613.2891148085309, 190.67718894947387, 183.68384183203176, 132.4037877413751, 128.4178634597775, 123.93027723088142, 101.88155772945592, 98.33074356636817, 97.11595495019702, 89.91382644607893, 82.13801502982822, 76.08603815112268, 69.8356802100245, 60.767494014614385, 58.58477718876881, 52.45424712184918, 41.77744648393336, 41.48109167705244, 40.17956858309085, 38.956227237190376, 38.52942649106823, 38.46273056911684, 31.49074126047093, 31.409447100093487, 29.197181569664522, 28.354736090290675, 23.31104151201728, 23.251108362506304, 22.580034482677142, 16.281562233487303, 452.086612483877, 2092.9898661806583, 795.3297658682726, 29125.763178144705, 18539.085698450428, 94.24745258928209, 786.7092417121016, 767.3987743581207, 510.11721122221746, 238.66551172133163, 233.94026722599347, 113.65924818122491, 71.51030940826733, 45.34326884177299, 43.8129965866466, 32.07393163641516, 27.901181082030966, 24.022612023215533, 19.8304776891867, 19.197653192531714, 17.56033599767264, 15.155716601904649, 14.689211243855391, 10.848575017434287, 10.034520301924859, 8.992186130584356, 8.738792249007608, 6.809787197811776, 2888.1890705850865, 2.896764766886271, 104.66899868238902, 29125.763178144705, 1.173016512707246, 1.173016512707246, 1.173016512707246, 1.173016512707246, 18539.085698450428, 1.173016512707246, 1.173016512707246, 1.173016512707246, 1.173016512707246, 1.173016512707246, 1.173016512707246, 1.173016512707246, 1.173016512707246, 1.173016512707246, 1.173016512707246, 1719.0670700143994, 781.2055207324735, 374.6254791377924, 266.405046015079, 262.18618426934324, 154.3837517476652, 122.9848724667929, 116.52518643523025, 84.67901095296125, 81.51297599407718, 61.659380849945876, 55.7581998748253, 55.043668985464976, 53.48130053639082, 52.08781242610522, 39.17040283599866, 38.671359481633374, 38.3248199670728, 36.8150138047447, 31.205555366650653, 28.85560158590467, 26.40253645829785, 25.660140297657527, 22.653148704656243, 22.2025227586785, 20.842701211386565, 19.465274312491683, 18.69020820524966, 17.910652710279066, 15.756271054559885, 3498.0118415726856, 11119.287540831183, 1480.6779832422328, 126.80216872827843, 356.5547253008621, 1148.3218797567367, 1022.835932619773, 492.95777983560885, 395.5958813357695, 236.64810284204367, 154.13079972736324, 123.55189265960179, 104.49057698982286, 94.87620938264185, 92.63573506188374, 90.42633437985418, 88.97719893711049, 88.23503706278743, 84.61922206988076, 65.55307181249782, 52.25464309683753, 42.188139120976345, 40.70556249630091, 36.342941264345036, 27.296491375346715, 22.363044941682347, 18.420071474117222, 18.193899398820754, 17.51537439341391, 14.428809197375186, 8.190956202724651, 628.2423970236814, 6.485436901918029, 3.8953470154211294, 343.0600087275842, 18539.085698450428, 29125.763178144705, 1009.0561020578506, 573.2413254490544, 493.68041689441213, 286.0684252246193, 232.36292869021702, 231.76230836719083, 157.86789064016136, 138.5249742633475, 73.04598583405767, 71.42698138721393, 69.82922270794684, 64.51159123181762, 55.993275250576716, 51.381014251921485, 48.923151043041855, 45.96467103678633, 45.23012267204274, 41.51475188906035, 37.349366614892745, 35.45627527541674, 31.3490478850683, 26.92009690821455, 24.861533196558366, 24.752597103686316, 24.241376661897647, 22.437141004179196, 21.664801008882037, 21.511515406874544, 21.506914447634784, 20.160284588998937, 634.8999225311235, 18539.085698450428, 29125.763178144705, 1823.4209499460246, 395.32973388239753, 364.302248855662, 343.80333072303466, 179.9305101520004, 176.4045932104195, 161.22291907872588, 112.07909310914405, 71.92023808922079, 65.00419796454507, 60.59120821331488, 60.44410654220528, 49.56806835243181, 46.03160925250455, 40.7778103263781, 37.33267359944192, 35.875599654396346, 29.94029040013831, 26.786952711669322, 24.165274924277526, 23.11846275330623, 20.990733527319897, 17.995089071808625, 15.998077394503188, 13.596349486195294, 13.032378322651915, 9.56403498692684, 8.29864937332327, 8.154738345035245, 6.108026058806188, 2888.1890705850865, 29125.763178144705, 18539.085698450428, 1546.0029716074637, 398.84303608895937, 276.51652991266747, 274.06315328767954, 256.4790214286568, 228.7732190191858, 220.149131307696, 219.87842090849352, 194.48300405854394, 160.19982925791973, 146.6019118180088, 121.34874952447773, 118.46232724129528, 114.47734755794043, 98.2956480674835, 69.64965394968371, 60.334130460827865, 60.260571619658634, 53.606526470405306, 48.91900380337962, 47.73078725762835, 46.233410207962734, 43.55642456204437, 42.90851863561834, 42.37846228013423, 34.61459547468022, 31.839553938485015, 28.170677439923484, 27.2296788209465, 25.971770106528023, 310.78065958219554, 18539.085698450428, 29125.763178144705, 1083.9905090125637, 519.8628927489099, 283.51192389941684, 261.33291466788023, 242.10519665115999, 238.5449510576167, 220.15162204548332, 174.3867225581119, 162.80542828421176, 143.49214554872782, 126.69943642733993, 125.1172445511305, 99.34678339427568, 72.82373680659857, 59.257228276229036, 52.55944297222668, 49.09106613821649, 48.74411514167759, 46.857956783204976, 45.14357954579924, 40.69529942267445, 39.15794071404653, 31.84750372470563, 31.56476350629891, 29.45592089249615, 29.142054140298924, 25.438076417213352, 24.99175033073998, 24.55294919419767, 23.44707148700768, 700.993515798627, 709.3685511116711, 72.98701762204558, 156.23580643010126, 2514.2333107438158, 603.0260921509296, 197.8323113142763, 191.30031740589996, 158.86054714735394, 106.53533573329038, 86.12915931374938, 77.35331843157236, 63.04000037640882, 61.269681212517256, 57.35769308056791, 36.44861432590849, 33.119104242058, 32.41797340503014, 31.35316602291745, 28.15948108018948, 27.91633336189448, 19.044456516238572, 18.784217036108874, 17.274118856199085, 14.12306224982101, 14.002154251998755, 9.968421171533619, 9.300634265174777, 8.1680213259281, 7.288078318273445, 7.280461208212536, 6.074182405535329, 528.4098125604513, 85.20271162385866, 29125.763178144705, 18539.085698450428, 74.0587227408548, 1200.687330054402, 577.1157750256132, 562.8622230719589, 562.3929938813332, 498.9376981731944, 356.00788642490755, 279.3961649418773, 214.47078326787883, 148.90685943131433, 145.85529185018802, 134.46427147997488, 120.86786970624236, 72.43131097749958, 56.86079737039416, 55.468988149110146, 47.79774621278287, 43.808498652488, 39.29800833807335, 38.49285657296263, 35.921720861085014, 32.957960190574475, 31.43355438207669, 26.003907954272965, 25.570813976548518, 21.374479905407004, 18.7816357165263, 16.098481107628636, 16.098481107628636, 15.961939915265917, 15.829564225940494, 29125.763178144705, 1043.0584225889183, 630.8041574327473, 352.68078809094897, 305.6150192454835, 109.76327137196296, 80.9938750937477, 76.19527644138208, 74.47828692955761, 73.72822892746946, 64.87248945960961, 57.66128697397288, 52.735431625397204, 51.814369380083335, 50.742639449891584, 46.855617112103765, 46.390090683901775, 41.793644837224996, 32.57434497187656, 25.816054480490685, 25.769907126893575, 16.461735883589157, 13.457206367527936, 13.43840573689021, 10.034980473858585, 8.127177371187548, 248.8208937772406, 5.578353293760263, 5.5037355953186005, 5.5037355953186005, 5.220959781210026, 1028.178447903352, 29125.763178144705, 18539.085698450428, 4735.882671591889, 1223.128665770341, 327.0554330246317, 171.91807049862544, 159.09868072829406, 146.3272779567509, 111.1101877462893, 100.5235300623431, 77.39406092558885, 72.35997978624098, 68.15995862975002, 62.527544363909975, 62.07066666394529, 57.62215193419108, 57.58753644502071, 49.142907186437306, 47.92842241854597, 45.38097957956986, 44.859704160727226, 44.6144530896062, 43.68894997227597, 42.27737138882576, 41.118829947471326, 38.127588686372256, 32.793065328546774, 29.52700168172709, 29.51313973095449, 27.465779154186095, 22.90684401253054, 20.584469193527635, 18.772292938478675, 71.23413522613502, 123.27802937456995, 2146.8330235427497, 18539.085698450428, 29125.763178144705, 1184.0719197462927, 850.9976978414008, 495.8223579654813, 383.4972134995738, 362.87746140282064, 277.92572290356344, 156.9173506084515, 100.10331301933581, 80.05223424375919, 67.20923795168169, 63.204192635907745, 55.180770871589914, 49.768185954690125, 49.20173782259192, 47.186671598855995, 42.88140077239014, 39.239223790179366, 39.162644783125884, 38.49842084284457, 38.09237634052607, 34.40772824947015, 33.45415472264344, 32.43741832875633, 31.17043567100223, 26.12939982528323, 20.20271872472275, 20.024242309266512, 17.802172246048748, 17.732715094151878, 14.459251942206453, 111.59061715425405, 56.93289089122496, 29125.763178144705, 18539.085698450428, 4735.882671591889, 1331.6487328362223, 311.7428089848271, 295.5400174895212, 251.5950462307457, 235.68922465392006, 223.10490446944522, 155.65140386117278, 134.9493162029252, 133.02314964160294, 131.51722070220123, 108.13816591934383, 103.27105564089078, 82.77953656629906, 77.07037184209595, 66.12258459287573, 64.92775343207046, 64.27755202836498, 64.12993662966967, 62.39121034050075, 62.130921884083705, 61.5647678171612, 61.27778304012434, 55.94678719838016, 44.78084519937164, 33.3485528075043, 30.73059086308252, 30.44943295358972, 28.676751324640335, 24.7577443973478, 23.651873278257447, 265.05720179504425, 104.66899868238902, 779.8927160967439, 4735.882671591889, 29125.763178144705, 18539.085698450428, 1250.3091128050728, 702.7182882140746, 682.2112246873494, 514.9667547269526, 393.9487993729858, 222.63918116811698, 172.56951289559626, 114.2606201013355, 82.74921146466991, 78.08495903982023, 66.98638850830945, 57.95102006390055, 51.969106750056866, 48.11817604617645, 45.62001923513578, 44.794786913961694, 38.6755650723203, 33.63100262858629, 33.61507975013291, 31.82326954986774, 28.670339125945965, 19.509234890908452, 16.806314516309055, 16.669436671062396, 15.643154804535593, 12.856992651010918, 8.102920637584198, 8.096357679054876, 6.500943672441442, 3.666546774890577, 29125.763178144705, 4735.882671591889, 18539.085698450428, 1339.4117350365884, 286.101061613075, 282.1457023782531, 279.7145713765849, 269.62123487866836, 115.32181190074265, 111.7380915634856, 108.40958134544883, 107.76735476207024, 102.07952342499311, 80.91824804348123, 58.52308342524124, 31.451272655381956, 30.85181822257322, 27.883363426704815, 23.298482065390793, 21.53038287193463, 11.983013462463274, 11.373061804483884, 10.636531455630369, 8.331365958380292, 399.40084039040994, 2092.9898661806583, 795.3297658682726, 140.2272315721803, 29125.763178144705, 1.173016512707246, 1.173016512707246, 1.173016512707246, 1.173016512707246, 18539.085698450428, 1.173016512707246, 1.173016512707246, 1.173016512707246, 1.173016512707246, 924.7129340581577, 449.7563984993556, 390.28772705308614, 351.5722163456275, 298.72753276969144, 266.73780488716636, 216.26798064851224, 203.00892982317595, 184.43324866807663, 163.04409059615276, 144.037623660154, 132.73153778613036, 101.35643103336277, 94.24070756092425, 74.27706583639485, 72.07966584248729, 66.98960944747229, 66.46148823025888, 65.79723192486499, 63.522688714321795, 38.25515254670536, 31.11314417593813, 23.543549544364193, 20.61806869306097, 17.673052111083322, 17.438554238884535, 14.928747252304685, 12.499572087961942, 12.153258014104939, 9.917122865496143, 4735.882671591889, 29125.763178144705, 1142.6393257586162, 362.75560319629335, 234.61560923853298, 133.10186671400928, 131.44290234685454, 97.35269760827885, 96.87294790281348, 95.11267428159859, 94.81199821669786, 94.58510712406681, 89.37146651045492, 73.61020423544558, 66.18353490953999, 62.94469242734306, 57.00263938243133, 47.89045323212166, 46.075881793298315, 45.34332874464077, 42.91479909180235, 37.68680449154387, 13.463543530668986, 12.164067884916538, 11.941494733078429, 10.243092021897349, 804.7216390528354, 5.053375103180087, 4.893290326909186, 4.160068285291462, 3.589807632100893, 194.16741084128358, 1026.209186133041, 29125.763178144705, 714.7166964681887, 450.2637221667824, 393.3255526594162, 335.0563658433475, 322.00289051603943, 306.9540391089869, 228.10683262332955, 166.3577156188468, 150.67758740104006, 124.9219626016507, 116.2150644356574, 99.62427426716572, 91.96688189842776, 91.59434708438475, 88.3712880507897, 69.88195840410206, 62.078809199850795, 55.60038945033286, 51.53291452115047, 43.45749850221659, 42.61563790287215, 41.778746442114375, 40.87415788303537, 34.45885395071745, 33.95345513961536, 33.57291220966822, 29.394991444929296, 26.405705513328957, 24.700738851591836, 23.80421316476503, 812.9254958330297, 342.33476632163416, 311.53906611245066, 309.9457695407793, 293.72226665544883, 277.3208355047175, 266.9864665184778, 241.8649825525642, 176.61316383244906, 175.78758397313064, 158.4222592592287, 157.28741965664574, 156.56292711614375, 147.35013514917975, 128.9896335828216, 116.96214771577085, 112.27084841117835, 96.30439353221612, 93.46402217702519, 76.69889088522666, 58.58632214770585, 53.64964226398456, 50.392584240739986, 42.787996718299, 40.34385757278259, 39.633739667246644, 36.27124638550346, 32.581169574864475, 31.29264807911245, 19.04576216769007, 18.975396415343972, 832.8016087890103, 2146.8330235427497, 18539.085698450428, 29125.763178144705, 1238.958781404226, 616.1741997106637, 258.2610733893648, 226.9396143339501, 220.53205246098918, 216.23631235757054, 135.77631218832477, 126.17005345768862, 108.22251610056738, 98.04214408087495, 68.48842553607355, 65.59202403785608, 62.2592977019612, 61.80923052715859, 57.59183391469111, 51.552286331205124, 49.38498590384914, 46.0513310925696, 45.44736236201861, 43.55163647750989, 43.36142522419492, 42.08057089526369, 41.15959993544864, 40.874413763175966, 31.917459052685363, 23.34776421367185, 22.442065772501834, 22.43800031232246, 21.253155296042035, 21.064708596674098, 514.3832172641382, 29125.763178144705, 775.9752068012615, 493.7785529726325, 360.43745747905206, 342.26906029677883, 340.8957530192828, 320.4554887864973, 200.820743626258, 195.05083473879526, 166.82907327023392, 154.87998857693904, 146.05595380978033, 114.8785612810624, 107.21559185925402, 74.26462098307285, 73.81486832850038, 55.71537156861617, 49.40323305847766, 43.68638465405134, 39.529039031795705, 25.892123746411716, 25.428475245461563, 21.75315422116237, 19.011993067884674, 18.042212111490567, 15.885012303952921, 13.160474250209223, 10.290936684688761, 10.046538791978618, 9.807852224681495, 6.965061401942368, 78.92068029844393, 58.292918716496615, 29125.763178144705, 18539.085698450428, 2558.672074415497, 339.790166135003, 205.13004973888226, 170.76060124707695, 114.55343779250016, 87.03550486895026, 44.73395139686063, 36.84304997657693, 30.851528468268913, 30.23092834766097, 26.579248247430932, 15.517015463333372, 12.826780769883204, 166.18520785644463, 11.797596120046146, 10.71937938802155, 10.698892166387289, 9.376483261922603, 7.314025109799085, 6.413644268970494, 3.3906421687479433, 3.3906421687479433, 18539.085698450428, 29125.763178144705, 1.173016512707246, 1.173016512707246, 1.173016512707246, 1.173016512707246, 1.173016512707246, 1.173016512707246, 1.173016512707246, 1.173016512707246, 1.173016512707246, 1.173016512707246, 1.173016512707246, 1.173016512707246, 1.173016512707246, 1.173016512707246, 1.173016512707246, 1.173016512707246, 1.173016512707246, 1.173016512707246, 1.173016512707246, 1.173016512707246, 1.173016512707246, 1.173016512707246, 1.173016512707246, 750.6551128842879, 354.3076511884476, 297.8830501243068, 288.78080029949444, 269.24181633174567, 237.80786867915137, 237.52682050149232, 196.65903693992382, 162.93917242458107, 123.87566389704037, 112.5494923587277, 76.85503463778862, 76.3032926890159, 75.67611149255576, 68.6828827287298, 63.04113158844432, 62.111676993807464, 62.0363427781391, 54.283850677555165, 43.206578766401954, 40.62302304331767, 39.795620184196714, 38.406182238435484, 38.30826613866994, 36.84410447585112, 26.135031060169172, 24.21300638011068, 24.119906436052297, 22.508955962100643, 19.673288382607442, 2146.8330235427497, 18539.085698450428, 954.0608651608293, 261.89989402210347, 165.2703307933852, 152.45093748590213, 135.00591591169444, 120.79464834525133, 111.0928639559275, 81.45673552113307, 80.70277294542686, 72.06081785086283, 58.63812603215164, 45.47595356671915, 40.027406126629465, 35.85569681328617, 34.27429574171698, 31.335796287386778, 31.309448915533704, 25.130451793624403, 24.64705983558708, 18.476286767384906, 15.861080505406763, 14.13600094458954, 12.017079875960741, 9.526888221877316, 8.581391256739385, 4.4967787183504395, 2056.6994446849108, 411.62948695862923, 18539.085698450428, 29125.763178144705, 428.14245300029046, 331.08986984440196, 319.18530620476776, 209.07438622010662, 156.22929301896403, 140.95116172031942, 133.8347628095925, 110.1712379357219, 101.75676498101278, 90.20300346701589, 86.81428815714989, 81.86871287670014, 72.85053881715933, 56.53898922287594, 55.80107427999408, 55.466794139843415, 51.37547272728949, 49.12277985459828, 48.65913243964463, 46.57109427486886, 40.62178803937755, 39.5329296841206, 32.59069022548648, 30.260174048781046, 30.06288638585672, 27.517329653555173, 26.557014400464208, 25.84559072091447, 25.785331927254997, 24.85413886781011, 1211.1970225077575, 29125.763178144705, 815.9598173138295, 466.6767022218503, 308.59598453603905, 302.4578309165833, 254.19268459675345, 250.4519179751859, 238.91477740850894, 188.24569310535847, 179.75476076479777, 152.5417107121504, 145.51216125505715, 100.42150616589672, 88.03883521181015, 74.76504209049581, 71.51993106582012, 71.42060153539471, 45.77763283207277, 37.33802652163371, 36.33344445102902, 26.935313944719933, 26.75151646994658, 25.920614621156158, 23.245727965868905, 19.893194891230582, 17.33932187023835, 442.3519399272613, 12.893091728807468, 10.060415908894951, 9.765910735704855, 9.31131692503288, 29125.763178144705, 18539.085698450428, 739.1737544465146, 524.8922770564236, 378.42230078935467, 228.79621526733203, 197.23464388460926, 187.6297460538605, 185.55600501957036, 171.63810274762238, 126.88263342484369, 117.94957276019771, 104.78126674395871, 101.12705981506312, 93.4627617403707, 90.51184105736364, 77.63859034187692, 73.73668984494608, 70.50953799091711, 66.32596387073933, 61.32344818841906, 55.17954809492945, 48.96043271314856, 46.933108571087075, 41.580600030204984, 40.778652770964655, 37.222999973012655, 34.172815459871615, 34.05694637880128, 31.559224207704045, 26.787523223517695, 24.91809218777859, 381.06617572095394, 29125.763178144705, 18539.085698450428, 754.1345852601819, 673.7264694458943, 523.5006977058282, 433.55642344845137, 267.4793564168281, 256.1664922095312, 222.14461517733784, 198.24137765984096, 136.25312753985946, 118.14870091232433, 111.28133115595865, 101.98525476729834, 85.89898392310685, 74.84541275286449, 56.7034902976752, 53.9532949658678, 47.98376038112821, 45.88216299899064, 45.08409153921616, 39.9238992539028, 36.21093503442809, 35.13708273937503, 24.0482567395623, 21.693435070631264, 16.82605414394892, 1.173016512707246, 1.173016512707246, 1.173016512707246, 1.173016512707246, 1.173016512707246, 18539.085698450428, 1.173016512707246, 1.173016512707246, 29125.763178144705, 1.173016512707246, 1.173016512707246, 1.173016512707246, 1.173016512707246, 1.173016512707246, 608.4645308571307, 435.3785686877628, 329.57096969358713, 216.76518815636967, 132.64441039730403, 116.44357907836837, 110.9312227266486, 106.36534598147527, 92.66994473102389, 89.93575977285614, 81.5931602243086, 76.44500986252507, 72.36357717256678, 71.8131873651889, 71.43627700788443, 68.30677349633233, 58.62910935681601, 57.577083493418264, 57.45566737139219, 56.796349691032304, 53.41281815871462, 47.59095070352344, 30.85762078435755, 28.797672027336823, 28.459851542209854, 22.35607468363162, 19.67007351771215, 16.37392794659651, 14.757373476046345, 13.913888023199936, 68.8444251886912, 508.6988303486604, 538.9145307725117, 18539.085698450428, 29125.763178144705, 4735.882671591889, 861.5267082929652, 525.2717983320504, 459.4882357901627, 313.4717378670394, 298.52768975222125, 237.24005336590932, 217.15627775114865, 189.6091328678335, 138.5193479790715, 130.71354827063067, 97.37458318766792, 96.3226544563769, 82.16503421123923, 55.45559935715068, 53.99412753861017, 52.038212873011254, 50.43221284215292, 47.03463348465483, 40.55807918436816, 38.20463586741506, 35.43898710140661, 35.10482266103177, 30.43313836655853, 22.282349392717922, 17.401651736107834, 14.401098139400597, 13.853052018158197, 13.21333507487921, 12.545702422871612, 9.884952296753006, 18539.085698450428, 29125.763178144705, 682.422738147492, 500.0552108835062, 339.06837348869186, 188.27230825182843, 169.7429464601009, 149.0565905670509, 118.46591003306942, 113.8388619180155, 108.79785623414993, 104.02180215195935, 87.48404068517371, 80.17156070572211, 70.8422413328252, 64.97632675738569, 62.67609633663683, 61.18035075700408, 31.88755205675848, 30.285714881692083, 27.47919578087785, 27.194814534645793, 20.95138789002773, 20.75990299629824, 20.182534182449132, 13.129612984461414, 12.135995281256792, 11.150133944077814, 10.471305372806325, 8.244649997908965, 7.394860023955875, 33.66427113232332, 2146.8330235427497, 18539.085698450428, 29125.763178144705, 783.4700350394667, 637.1135426092573, 233.22603917968675, 192.52118692793997, 187.08819415981824, 147.8380893390175, 110.579514394256, 108.22921961386027, 103.84950005249432, 103.51585779085241, 93.40581811625786, 86.90950142985646, 68.86652614351505, 65.16058891111362, 58.334311087867114, 57.57540378199965, 55.57486135435108, 50.0505973717443, 48.44374917306935, 44.52685453714247, 42.05983914802021, 41.768451235731604, 40.89772045794597, 39.542173136131645, 38.40745194117451, 36.61479793435561, 36.53923560973388, 33.71261568891384, 30.342084762790112, 27.664494558955557, 219.20896816880935, 340.6055482999834, 4735.882671591889, 29125.763178144705, 18539.085698450428, 583.130248451253, 350.4218612452843, 318.52021676995116, 262.86938642413025, 182.33832002510613, 167.54894182242955, 144.3485265146461, 142.70623657271275, 107.29627785842953, 78.08153893001887, 77.54629231297143, 74.11420170191903, 72.9641883266646, 67.78313672516617, 65.83158027092848, 64.19544656751167, 60.38016925489896, 57.49572839204179, 51.51973085872545, 49.2272119171705, 41.06251500684037, 36.23911861168904, 32.59726056017961, 31.003715747785463, 30.578257444603977, 29.207624919298578, 29.15421934413542, 28.07050709186044, 26.453011050297977, 25.549733451411704, 688.2219860334689, 29125.763178144705, 73.16275070017362, 18539.085698450428, 1095.713677218582, 1010.8421953693821, 557.519439579997, 199.77924901354632, 162.64382641976914, 119.562808601468, 100.1132256697182, 95.87582460540771, 91.57222229330397, 83.88743746643311, 74.11496383721347, 66.19617400922428, 63.820458065612385, 59.12320712334726, 49.69060837116084, 46.705814887574, 33.499003922041354, 28.429895220420917, 27.337248878368058, 25.279535502617243, 21.170375433386116, 21.033284123872093, 19.538293570118757, 18.966864986786433, 16.525308160151276, 16.33045668948907, 13.499561358217736, 13.098059015626696, 11.759192935521812, 11.69800116522258, 70.11207834107203, 658.506078681761, 449.7142951831657, 437.2352855173052, 392.981450964871, 302.56556372165085, 213.98753674958644, 201.29683772927018, 171.25509790213198, 163.3527524488021, 132.707915095371, 117.115391561841, 60.37331915253564, 58.92779068251926, 53.80554107178073, 45.61527443851759, 42.94393594626065, 40.38553139122661, 21.953917218929874, 16.89057226948964, 14.141921345981734, 11.741857438438418, 10.747208942357037, 7.485474852215315, 6.211582430434531, 5.348285769042994, 203.91417604238958, 205.90864477543357, 158.44598294353654, 3703.607328838072, 1.173016512707246, 1.173016512707246, 965.3831238171318, 576.5986766111319, 405.531112773518, 336.25946370827705, 201.70508168153273, 153.43854631129483, 137.3490824184303, 117.13575687527651, 112.80470699977606, 93.61323885189294, 57.3511631006582, 40.61077257651674, 39.15294502210358, 37.731303374267284, 32.27186418114504, 31.906732363036348, 25.36215785470609, 13.196793629205523, 13.082689179399127, 12.532559082972206, 11.373219858972472, 10.926482102503806, 7.562117414012542, 235.98359113142737, 33.66427113232332, 340.6055482999834, 4.549395285506784, 4.529110576836448, 3.4281921007206053, 18539.085698450428, 29125.763178144705, 483.70127566368865, 385.3916260114256, 371.83297140368694, 359.5470049654365, 349.9987330403291, 266.2090736334931, 220.87224950754054, 203.57532265304732, 180.10400295061888, 140.85468073906756, 106.05748597449883, 103.73744859772162, 95.06992244501642, 86.88464336623517, 77.49503074440086, 71.71065806893439, 67.02032631407677, 62.84419762040249, 47.60936713433143, 46.50710292085738, 44.31190645574465, 40.45750312837206, 37.30273771749122, 37.21649683087148, 36.59245179326422, 34.051063472166, 27.898784183366285, 20.73684245622827, 20.685937402019825, 16.97242875228109, 167.0399471797737, 690.4397546643977, 513.1061751382658, 229.8102555148191, 220.89926055336963, 201.33714832722723, 138.67312791508127, 128.45181357369228, 102.88526541024008, 92.82537750893187, 88.52925640848127, 85.59937401161855, 84.21168064366984, 78.29747099238772, 76.95643225473049, 76.90403745698045, 75.39110120453786, 65.17719073298898, 64.78993049309513, 58.529907291817295, 57.642901607409264, 46.432307251797994, 45.366457503798316, 40.801013738675294, 34.68384422411476, 32.13893151955425, 28.31778956418475, 26.71719551410685, 22.348496382867737, 18.84730962697156, 18.265240482741984, 92.61105454485883, 694.8407733768024, 18539.085698450428, 29125.763178144705, 446.6813375520795, 393.45447383457633, 262.3639443878637, 173.11447480608547, 162.4880963631077, 160.44657142328404, 144.90295993063265, 129.28568565422657, 95.93807631095706, 93.3921373652112, 89.52487666697674, 78.70537269661907, 77.70417013388966, 66.14246103469051, 61.205258446270385, 56.02267473470134, 54.53250206376666, 54.129625481778326, 51.75751211472249, 50.83084674158635, 50.82277621202196, 48.33519007032515, 40.12262469986843, 35.08478272594329, 35.055151396556795, 33.684431622334735, 28.76292501259406, 23.222662047856318, 19.098326033072862, 19.057894609950115, 140.2272315721803, 578.99430250565, 125.63622277630176, 648.6450510170147, 267.89293498071845, 606.0241071737178, 337.88381903597565, 298.6152188392226, 294.48893472253997, 218.92365852358841, 186.4641236604181, 181.19935573757408, 166.86891771321703, 141.84801775859822, 140.13074598555593, 108.29341524632034, 95.77010906640727, 84.10710168634785, 83.81609969709058, 82.82519944918891, 79.40194331954528, 77.26601742718366, 69.9165131044682, 50.69199563966074, 47.14941763447918, 31.61860326787535, 30.8524022230455, 30.430777214930465, 30.34410962336995, 30.1786124881145, 27.837636439369373, 26.05332651162786, 24.25900380620266, 21.380751833425375, 20.849858908092862, 520.6934848477237, 872.4810562535621, 621.3044126446631, 204.51362217469153, 181.0155029868481, 169.97010735272698, 164.92103580604922, 161.76667205849768, 146.22531203900908, 114.36122482667594, 86.10958075210156, 80.36877439640986, 78.16911695965791, 68.2995925325547, 61.600629768531924, 59.56907979590475, 58.3195987113857, 57.01726681078346, 53.739081596798755, 48.29121775964031, 45.09005353653528, 40.662826009556746, 39.377834260163326, 38.23355191223829, 37.35687238346312, 36.92218348499439, 33.492014652523345, 31.286117802100147, 31.23314223672768, 31.03530740681089, 29.122624014783604, 77.42141290653707, 372.9451365186279, 332.48956844436924, 288.98061097766066, 226.63803173649498, 224.2688260759383, 197.82283283052934, 142.68516047213274, 124.26436425309744, 119.84077379067497, 112.73071718043566, 112.34899300451413, 109.57134379653942, 89.27493160924188, 85.58719994117948, 82.11793934235519, 75.6984840856597, 59.57921325817666, 57.59411313072783, 54.13550454072055, 51.656402936537205, 50.44318108767576, 41.08086171309363, 40.15155358136647, 37.766641840705084, 35.64265769895397, 31.339790003124246, 26.997014179440004, 24.54069668601952, 22.364950074727112, 20.687585005793274, 648.6450510170147, 62.421822914471846, 29125.763178144705, 296.9997879031228, 291.05030574096565, 252.9114364946055, 228.82240111895052, 188.76605068001163, 142.57549151315942, 131.16200335338908, 126.46285451528455, 122.27153787561524, 109.51370996356609, 108.09023694846564, 102.10800759380727, 101.68963810242434, 81.75036244629635, 74.40716902844274, 69.48675099775552, 64.7499602454437, 60.86254063790498, 51.63523807806404, 43.09459670204534, 42.1384442525367, 37.24143911448583, 35.43107094143124, 32.809488467162865, 28.27207758853565, 25.455728390433265, 20.125391881174696, 18.196676742994104, 17.56484107085772, 16.879232888631826, 411.62948695862923, 240.05532762975804, 508.6988303486604, 29125.763178144705, 18539.085698450428, 829.7504584327833, 300.42791849745953, 283.03816106739504, 155.17298491586274, 140.43886194419093, 130.91263597602386, 120.9339673842871, 109.89432426548422, 102.98363091891223, 82.32472710998982, 67.74399173979633, 64.73940972454804, 61.2785019040286, 52.13968200088594, 51.33724116773064, 50.4752210125539, 46.98481794470082, 46.81694057205715, 45.808206192082224, 44.32222916585778, 43.0717946269195, 41.08290516064133, 39.77548521887563, 39.29604120500153, 38.796934975753246, 30.650752913966905, 27.408192282575143, 25.182467217958582, 24.963569686924757, 23.998906917706783, 264.89761407536076, 240.05532762975804, 29125.763178144705, 4735.882671591889, 18539.085698450428, 865.6378674848384, 299.23551362516275, 172.91079447118432, 150.4590233648325, 145.53063721687218, 136.16188746352, 124.8686257777848, 121.53052103747478, 119.09656397673452, 111.53900411372109, 110.02920442052441, 97.3063650883396, 89.73980850302343, 84.66134969525922, 82.90483513171621, 68.88989692911896, 59.05853388201098, 53.898676885534805, 45.87336765427607, 44.42842378942824, 44.13984513868928, 36.051829974946074, 27.461999331046336, 25.742105551409672, 24.185357555007926, 23.988745186772462, 22.619574649876, 20.20130075488165, 20.065227239373954, 19.89740743742148, 29125.763178144705, 18539.085698450428, 790.4015488886795, 732.7910287321974, 268.13111947571616, 168.34925894742437, 115.24984325987005, 103.66509194016591, 90.51054012982898, 88.77807698548419, 81.32554665934114, 75.76161399159811, 69.29598298593936, 68.44542808986228, 65.64421631276684, 49.92706118112149, 46.7012956120755, 43.939214585758315, 35.64530836970673, 33.07747948969985, 32.70676571069471, 32.35618099708406, 25.044681720696925, 23.86267710146178, 22.50505067146547, 19.68502193172454, 16.129469144164705, 15.047225277552378, 12.566664560860097, 12.19926055627838, 9.7888087840041, 88.5992120238899, 650.1932804605458, 52.04709236126648, 4735.882671591889, 29125.763178144705, 363.4682482709663, 359.7335540320394, 252.89427532238076, 168.25315155070552, 153.78218322386735, 124.86756463827089, 102.98433433280992, 97.83045203125148, 93.68672325044983, 88.98521388226138, 87.7048711534197, 85.10504599563863, 82.17176274113751, 75.53537793289027, 75.21349850593725, 61.262104952539865, 54.17631970221035, 53.01852105864069, 53.011680152765216, 51.13822481046404, 50.20397041910139, 47.92078961102457, 43.16563493710567, 40.11635998553513, 37.84200174419227, 37.64763194351299, 36.29078647593521, 34.6468583312682, 33.75185373227319, 33.33181375969197, 4735.882671591889, 203.91417604238958, 29125.763178144705, 484.8743261199301, 379.4845981568326, 358.6605682565324, 240.858354521633, 154.13944681377845, 136.02810716839534, 126.11248963264379, 122.7402433157468, 117.7324833402067, 113.35206449009722, 107.83074636445825, 106.30936927806837, 94.01154671223257, 88.58143402232136, 86.09548215080466, 75.45195902048339, 73.57238072928692, 73.18459023315661, 70.90608690447232, 68.13505315750959, 67.82744640583086, 67.05141401324495, 65.87320650082903, 64.91664407147636, 64.89110985974163, 49.67758726602176, 46.043152593510435, 39.40927937110169, 32.796911612524326, 27.77349368820023, 4735.882671591889, 612.3067605185161, 293.86847585713997, 270.92545065414583, 206.21422561602157, 175.90378821991067, 168.8890263687251, 166.16106927062515, 160.77380069431453, 153.15361092410546, 127.47902202301721, 126.95544138261171, 125.78781214824504, 120.14049268485385, 119.29278389747117, 107.19463206073483, 67.08876675917344, 62.23451609325306, 58.47512023619177, 53.015888719372214, 48.17028262281292, 46.53810076794554, 45.51157975835126, 45.24751652877718, 45.1987748326058, 38.618841206968874, 35.47050106767198, 29.74021477691462, 26.27450698719212, 21.422140394081225, 20.918476826456107, 2146.8330235427497, 29125.763178144705, 18539.085698450428, 697.2694518783494, 353.2213189336805, 314.4342758268019, 313.81959963781463, 310.4564977555749, 306.66097745450384, 268.7344153767362, 166.45175156146112, 108.22803157874516, 87.49847763069428, 87.45613529311139, 79.62143046224008, 69.46618354256506, 55.42539130603147, 54.15807477475457, 51.23663994594242, 48.71557030436703, 46.532896268945535, 38.235808189008736, 35.123616542361255, 26.674545053418544, 26.151711908188716, 24.15784240825936, 23.329295273522423, 23.23243447256766, 21.12815753250177, 19.82383154568738, 19.611791680416296, 17.92417318748673, 17.72822333591138, 22.54453975061361, 29125.763178144705, 18539.085698450428, 744.2381615753696, 565.1814139492606, 323.80698108985433, 164.43612682016936, 139.78973147442463, 100.51394199086647, 99.25877970669033, 76.08843853268004, 69.0168609976297, 49.15914257567467, 48.69480734226604, 45.627965337580726, 43.166160460645344, 39.855983047441015, 32.93368284160649, 30.53092340688019, 27.20251761160205, 26.54353601104216, 23.273291688449365, 19.847254716003643, 18.870637742218552, 16.33939845493451, 15.870434943198402, 10.556938799702856, 10.349928025150026, 9.759219578132862, 7.681040260358556, 6.014041692788871, 2.67903101680346, 67.7601344346964, 2056.6994446849108, 18539.085698450428, 29125.763178144705, 505.74638454101955, 446.2780771383301, 245.50184081845464, 222.56828341184644, 206.90468288398304, 185.67078577264147, 159.16987168014913, 128.88197646617434, 128.64173446823767, 105.60420796763955, 98.28123344206278, 82.18253125381796, 80.0501687558558, 79.6503035759362, 77.89741086756327, 72.56738590495613, 66.97671614834834, 58.74408425626244, 53.02154430433225, 49.41726633359259, 49.30937220079545, 40.13295361891156, 39.602940076731215, 37.56670400087812, 35.84141616449375, 31.912115357581335, 31.20732835390884, 30.654671781250958, 29.499619877653995, 27.68908279038342, 370.9305900057065, 514.3832172641382, 864.6348543096311, 416.68465591902935, 201.26280387824224, 196.1307404989839, 177.1197851068925, 163.55344160556464, 149.46605112622157, 108.6556817624062, 100.59019501450814, 99.38045093989302, 97.51601194234388, 85.56952638767689, 84.4614716083124, 81.65653942186799, 78.78983674288632, 77.95889709682855, 69.97096097804211, 57.272849591394525, 50.89257667136925, 48.313509216743874, 45.80027348195084, 44.354985601563634, 43.200409297543715, 36.85584271740622, 36.07190781196724, 31.112708488424893, 30.79573541548416, 28.97659330366041, 27.673339562792705, 27.499433457384747, 779.8927160967439, 566.3783186400514, 388.4973678468993, 187.02079507492715, 159.9583792949509, 139.6253712712162, 138.6575971583266, 132.17389860268528, 117.09638244780876, 115.48654828572528, 110.53786466605851, 92.80153301347079, 92.32117927155878, 87.38401765043112, 75.42303981871311, 74.53760890024861, 62.52941816734653, 60.11708639638574, 49.624967902756254, 47.21008388371958, 42.45046947375517, 40.793776479584835, 40.36479226252964, 40.16504565661386, 37.87210893581566, 37.12868923109948, 36.92883935503035, 29.087582713193555, 26.019183034379637, 25.35805857723166, 24.47594336833396, 709.3685511116711, 85.90668621938669, 78.92068029844393, 244.13136465232927, 58.292918716496615, 495.49671399895453, 363.4390368130438, 348.92056023809, 275.43960199642174, 204.0934176699667, 145.6073559012944, 137.73826608916698, 135.0521802892278, 111.81464416538827, 93.70010451913022, 93.46868358301415, 84.78146266978445, 81.49269601071714, 78.40873735717831, 78.12084651263953, 60.20909651672196, 41.65633526178833, 37.27574119865643, 25.009350847045784, 24.606551371919107, 23.83611216904021, 20.8496198875285, 18.005140911910786, 17.022763405084817, 13.409501195276516, 11.68120566623714, 11.360378017333202, 11.188512320774938, 356.5547253008621, 8.224182955378415, 127.93616568622109, 126.80216872827843, 67.7601344346964, 648.409200368392, 72.98701762204558, 4735.882671591889, 867.4335151283883, 441.27621174335655, 234.24040530395516, 176.41699808650432, 155.6922324858742, 137.90438105458287, 118.97249510237953, 111.35190726533743, 103.21286860979127, 86.85041463425745, 72.33357206151587, 60.22158157449301, 56.043779836929424, 42.50539978741254, 40.51457837094996, 38.51358694521028, 36.73044531862551, 34.844995888132246, 34.404592019872425, 33.72306960552995, 29.236984428002394, 18.044905692651575, 14.327578764982693, 10.912588128224266, 10.175220355164189, 8.365260728954011, 8.318529664457605, 8.297647831154302, 8.094712581241613, 4.6481950987697, 18539.085698450428, 29125.763178144705, 70.12769243618777, 765.8171861822527, 434.83751586922983, 396.16919131931957, 359.8436756929682, 355.18784005973583, 181.1853579296436, 105.9410118506001, 68.22113513964091, 62.12376494707839, 52.76262504265313, 51.596722383660044, 51.344155592675456, 35.784149497113404, 32.65452420634753, 31.977377840124593, 25.036628501476375, 19.9473675801426, 17.466986132819244, 17.32623991443349, 15.159172957822062, 10.740117089648267, 9.32553880158802, 8.253489833273537, 7.911259305711697, 6.709835152032387, 6.494804529525468, 3.6633532477351887, 3.6633532477351887, 399.0437914279692, 127.16111798828155, 18539.085698450428, 29125.763178144705, 441.4057772116783, 291.43855023671887, 289.5574765147728, 286.007424820431, 260.78502519441594, 234.31728333462547, 218.99676580623765, 214.0380806738916, 179.24782562408595, 128.82281437020376, 124.04649180172083, 103.66633086218779, 98.84518913603716, 77.13782098147747, 32.75590787152809, 30.93477401426025, 28.50708975034764, 26.206625276080047, 24.208494503005664, 21.893338939203986, 18.577125295038318, 10.532159620065991, 7.988000116777674, 3.9964876719028224, 812.9254958330297, 1.173016512707246, 1.173016512707246, 1.173016512707246, 1.173016512707246, 1.173016512707246, 29125.763178144705, 1.173016512707246, 1.173016512707246, 18539.085698450428, 1.173016512707246, 1.173016512707246, 1.173016512707246, 1.173016512707246, 606.5342227487329, 267.71220390376726, 251.22170213069288, 250.77049037086582, 232.07685529183783, 193.22369517566835, 191.11016970057406, 191.02472865578017, 151.4977188211728, 125.39759958042393, 97.21906551979505, 89.44221255806701, 82.53666380322036, 78.86552059536554, 73.95241197458253, 61.98070927778544, 52.7525281787198, 51.44660990983856, 48.34364087768198, 40.94358233868296, 36.785012882986955, 36.662352204417544, 33.57659857784701, 31.07035168854998, 29.825451249998537, 27.468704258637867, 23.262185695047922, 16.52687025388854, 16.099472224686625, 14.828586026896552, 1028.178447903352, 4735.882671591889, 365.64958524066043, 358.47617469789964, 258.64577068456015, 206.51854531993936, 166.90584042319, 144.79090896910648, 117.07133150721509, 105.67867066897604, 100.56060056555232, 99.3696234220874, 96.43010609695557, 76.4808080549372, 72.21887053752835, 67.41117926127794, 64.44918267710379, 63.41182110696445, 61.65211432780704, 59.86593708913084, 59.85746172197081, 58.67531780261625, 54.43821482723904, 52.95886705904526, 51.37816178707669, 50.11555117632243, 46.25891951956059, 46.12212687450142, 46.103689938357064, 45.62573546519431, 44.38044805211659, 38.58178880321428, 70.12769243618777, 296.18341346813423, 4735.882671591889, 18539.085698450428, 29125.763178144705, 502.588335967199, 146.31944840306485, 141.69664341571834, 133.8400848148325, 118.66835852937933, 116.661938057667, 108.82911490977467, 105.78162240850982, 103.59443278499195, 96.70196420353597, 96.34018585397061, 88.75279150902058, 88.22821835774067, 87.4298837067947, 85.69913782826278, 79.90044954862132, 64.79066239348984, 64.13648624926321, 57.40798723987374, 52.75632218211602, 46.26575599518776, 45.034796704627325, 44.93255531340754, 43.94300951164524, 40.381371309871625, 39.570616099322095, 36.483065020173335, 31.023130682316747, 30.70648279068425, 29.444806710626946, 211.52819454737053, 134.21287138030706, 263.7661744456474, 127.16111798828155, 628.2423970236814, 64.70484244829292, 29125.763178144705, 258.62155959126, 255.99986634119264, 162.0791146712397, 161.40560031846937, 145.28636748440823, 141.93574157476834, 132.79709897800353, 120.53793313783571, 116.54524200349434, 110.06018391365404, 100.25523873697635, 95.59245431196386, 81.90906118062244, 81.23638034933815, 78.8503489914189, 78.33946555259394, 74.09920404087346, 72.62140668619281, 69.83354549187406, 67.02375905846603, 65.57275035954535, 63.7872458642712, 61.09991823318799, 57.27920432545502, 54.781785504949404, 53.520580520418946, 49.03835496931458, 48.20086519620182, 46.250174862427244, 41.532493987543006, 155.70146669397275, 195.01050830679085, 977.7310771916468, 238.5678194375218, 206.92510950454076, 187.62614989434718, 187.57323544681333, 167.0554422617662, 163.05893162719414, 156.1468234053038, 139.68328273698233, 127.53261538873367, 110.879846488443, 98.1491664731904, 94.99300412902828, 94.66617960014261, 89.45288885171199, 89.0280674000447, 79.54211514141153, 63.76604439370508, 62.616819544018284, 60.56817517596591, 39.113913713127936, 35.29701606948021, 34.43230724705614, 33.464774067230664, 26.436146344127643, 23.508599054843774, 22.21955512677755, 20.317446816096087, 14.441380816796695, 12.582412299184828, 33.659929971159855, 892.8513813474491, 646.1591727970764, 245.73749227101348, 160.13002872026377, 108.14661639365183, 107.54461970954357, 101.63784791131168, 93.75241420505937, 91.87216911800576, 76.26026570787042, 76.14836224307915, 66.09132199263178, 65.6179550659733, 65.54756049384181, 60.756294695178035, 55.27573652075162, 54.831012656691804, 50.4819624917681, 48.814738587132624, 46.40587058058726, 44.276768371810455, 42.918616956047835, 40.24418694249193, 34.77128903904201, 24.832119558093954, 21.837692160588322, 21.541824451819803, 19.919448989743508, 17.97109456742867, 17.811284973898964, 330.02602183496055, 29125.763178144705, 18539.085698450428, 281.54224380757637, 254.86968631697275, 235.0409738517581, 199.12429353779729, 154.71192944371896, 149.0805322897807, 117.2059058731079, 109.97130026412884, 98.81042819165357, 95.06518389932349, 73.6499871264411, 67.88996543527486, 62.11041698172312, 61.643760456917455, 60.75990159130659, 56.26992573514392, 48.037451867693484, 45.50802140152752, 43.22030239668971, 39.42240344668293, 36.893849677926625, 34.627801647211186, 33.32630737339996, 28.01800490278039, 26.8535289277419, 26.614968647866146, 25.99675261825601, 21.196070270886725, 19.284465017413336, 18.608195071179853, 532.203164429976, 167.68888001458168, 368.3450710579322, 195.01050830679085, 155.70146669397275, 18539.085698450428, 239.94320491040875, 221.4707052260316, 191.10089191453983, 174.91699716565924, 149.0744846602737, 138.82964235190713, 134.39708037237267, 130.3448206966596, 129.551747835953, 117.59784628117781, 117.47080757623392, 94.47807882280507, 91.65470183500835, 87.52115226122898, 79.86790514620719, 72.56607004414315, 70.19919893942009, 57.162455187200386, 56.92613078387661, 56.45869457706191, 55.33458654890835, 52.97560450005614, 52.92239809745539, 51.257196950447934, 50.7932159326207, 47.185665388138844, 44.775013355748335, 44.44553916200638, 41.4797838332839, 33.170482270793094, 532.203164429976, 263.7661744456474, 4735.882671591889, 29125.763178144705, 1243.7896383533619, 252.36109556956615, 143.04715954089826, 127.35829853860773, 110.56617607041882, 102.23076915260792, 78.39394917561808, 72.40706405368708, 70.95933106213721, 67.36216768031991, 62.2145283385045, 55.25013392289672, 52.86303317687608, 50.80434125495913, 49.806096600066596, 43.11440013014456, 39.877045428817446, 38.01676796701874, 37.07040163759217, 36.155959363370705, 35.575209559623325, 35.246505656714454, 33.80801036752439, 31.96039699374092, 30.77955410268778, 29.07481441485702, 27.870429442423564, 26.560897477158488, 25.5837058271367, 21.39219471592627, 158.44598294353654, 29125.763178144705, 18539.085698450428, 123.27802937456995, 478.26390926772626, 432.2582473686563, 195.15720286418303, 192.77973153214785, 189.7151352774118, 188.2217073807809, 180.7559242382396, 128.18993343742707, 116.70686316146396, 111.79602436813497, 99.31919930941024, 95.95317019359572, 95.20974329523578, 91.86927704791742, 84.44015662256416, 75.04520732118371, 67.54820758422275, 62.77294749137472, 51.352123561411304, 45.908467810503666, 45.160176078209574, 36.106187278635815, 32.14565884781427, 31.320159502144, 30.42639331897656, 28.266746137361885, 26.72563179600792, 23.666417653067466, 21.971427853164386, 17.964994904700944, 18539.085698450428, 29125.763178144705, 359.95980611799376, 298.7557343129519, 237.2057714508117, 217.17502752802324, 180.68698764907336, 151.4327169963479, 129.10723368505035, 125.44037966431229, 118.43800553354485, 89.82564426673045, 82.782927228369, 70.79532434653396, 48.63642989715764, 47.76439951138205, 41.26171255120585, 40.60815330478279, 35.922464772783535, 35.40810996512799, 33.95485719651153, 33.59185044333799, 31.18409981162867, 27.82511769739684, 20.298577532345266, 17.462067837524675, 12.04014627497845, 8.680564230911425, 7.099037831445614, 7.054965431976834, 6.7964638664696455, 62.53853137802681, 330.02602183496055, 804.7216390528354, 29125.763178144705, 18539.085698450428, 1013.5785069993528, 406.3869774968539, 344.24803723595704, 227.91646530178875, 162.6072405588358, 127.59004696249723, 102.07631164080775, 88.14222727154345, 87.42377703681143, 81.23579304023484, 66.93385585349884, 61.9611726629272, 58.8542960800873, 58.553355409773864, 52.03903443957151, 51.514115360151585, 49.065785360769624, 42.70390090227869, 42.07690636014367, 40.378723640179764, 37.09554713501196, 33.29602746361455, 30.263285576400754, 28.98438525959264, 27.534574312119286, 24.24350720727499, 21.770471396786036, 20.11048497939091, 19.561098308674843, 18.887076068664772, 4735.882671591889, 890.9865247817128, 320.42010138476104, 297.3786658871492, 192.45260241829249, 169.45993262070084, 156.92295089314553, 87.51814530468071, 85.42784567914163, 82.18646087598252, 74.95700088828922, 72.62468221229744, 72.2579762570105, 71.48169483785514, 57.37710707177829, 56.278186332300585, 55.944105510971816, 51.80347927303093, 46.421340095306526, 33.47478978391946, 31.771086299722377, 23.961295217686615, 17.368204223131507, 16.645580210079014, 15.051535910587923, 11.332820182286278, 10.915693878156556, 9.072112368125719, 9.072112368125719, 6.114255596746411, 4735.882671591889, 29125.763178144705, 18539.085698450428, 352.5375226825904, 298.8602023035038, 294.4308627322225, 214.34696036074712, 175.4422583191286, 162.8366770748483, 138.39173903120877, 124.81242860335954, 115.31445077806121, 111.01898763323764, 96.18450364619417, 69.98405250263114, 63.99159178203113, 61.00420033851763, 60.128626446031866, 59.027436833795115, 54.47254200618551, 54.134240249301875, 51.08685110493666, 48.54864041808723, 47.44807345542503, 42.054286916786666, 41.706313787707074, 40.660198207132, 37.70078538689215, 36.25823491334029, 29.54602681619755, 26.45371215144276, 25.64535564930488, 21.83925446249411, 160.5439929272006, 98.59431237282355, 399.0437914279692, 29125.763178144705, 259.0805188802418, 227.95265298214673, 218.2530518393096, 214.63483127584794, 207.72434055048797, 168.66047899728505, 145.41761374458784, 145.1906623737643, 100.21131906603813, 88.90611612804122, 77.00871764069063, 76.11510588070686, 71.23732878678814, 65.45064816643361, 51.00065640703816, 49.877860139412, 49.40314173329939, 46.63031671027063, 42.45090852740191, 40.204958959717004, 39.81274872783552, 37.362748388469704, 32.17725312466279, 26.624619052671708, 24.096098523982086, 23.52877735684171, 23.428921111440708, 20.79203787123232, 20.551426641632087, 19.433393051927336, 694.8407733768024, 578.99430250565, 248.8208937772406, 368.3450710579322, 29125.763178144705, 748.9340560118587, 213.17469115833237, 181.4717698665977, 163.49671538192777, 162.44675696144085, 147.18306197059937, 104.63818223961614, 94.85541611540283, 92.08536216504663, 85.7289766402124, 78.56656365262445, 78.13491273370883, 75.2677009832799, 71.7242612527935, 70.1572989610134, 53.49332962757454, 50.15739341003792, 49.39081190642985, 48.181817824006174, 43.345138183830194, 40.41431216862656, 40.197204597717246, 40.167655462138185, 38.614685347301226, 37.764746408614116, 36.29968673881389, 32.95966526326645, 31.243722293846393, 27.555255903975986, 24.34984098778744, 159.76660997791512, 149.18320094277072, 127.93616568622109, 440.7944577157853, 233.8960059861055, 178.50835398911326, 110.77007730277796, 105.0441776002421, 102.20211254668259, 100.73125198164027, 99.40587988680801, 92.90673901638205, 87.19349778448296, 85.80102572222218, 82.03536910337894, 81.25954923377823, 76.7726351187687, 76.3015586961162, 74.90345243923247, 71.75952483204209, 70.07218091531908, 69.80490922760337, 65.88115267549654, 62.45975945039065, 59.84248466001195, 58.87995066967637, 57.559030864516366, 48.72691035193895, 46.938681446156814, 45.06908912910926, 44.827601100815265, 41.11536188498546, 36.04266612878394, 130.30260968044297, 219.20896816880935, 700.993515798627, 375.0444220271579, 322.8608942726707, 254.14650890187937, 246.40863500369284, 242.87410686132034, 241.47642996189305, 176.76052258738437, 158.08821883887066, 146.82658732591662, 94.71996703284768, 85.78555985711073, 79.45142462917394, 57.562356793081634, 57.01156286226687, 52.86917641723211, 44.708599499085366, 43.82646783549691, 43.770893788520155, 36.58061883254915, 30.800382099820737, 19.278496326859187, 14.366584821136025, 14.311622812069645, 12.813397545016494, 12.091150110437484, 9.109831397335931, 70.38271176021311, 4.26834423052812, 779.8927160967439, 4735.882671591889, 29125.763178144705, 18539.085698450428, 550.2356129832017, 371.46367610161957, 192.97041472586878, 169.58702949799033, 140.5324538032252, 134.887731819405, 133.42737309612372, 128.22681823127874, 124.33145278332123, 123.99072294313798, 109.66678855518737, 106.61018081872851, 105.38582269496902, 100.67235084311531, 99.07425425752339, 89.61094149248561, 85.23673347226898, 83.06491879329973, 64.01131282435507, 62.603790655662515, 56.46894318906006, 52.75478710797407, 47.77483975291613, 38.15801112491326, 37.95276992844924, 36.60341282029405, 35.916915827457245, 27.25679835199328, 26.50176880667443, 24.622583491137224, 588.5523779108614, 262.0392991182892, 187.45542943283968, 131.25155168543557, 124.36463920831825, 122.73355385608075, 121.49704011545782, 84.44870625745348, 83.07844325249255, 78.88517751551029, 73.59511339277799, 70.75224138927565, 67.87373875164458, 66.4880130203808, 65.05199692863508, 58.49532979443987, 58.40904379985206, 58.29265526169785, 58.07976736596009, 48.69127777302405, 48.07324322088046, 46.81063198189447, 46.49473777443584, 45.76807922910556, 44.548620941958305, 44.38214113421874, 41.48431672507233, 37.78366159355528, 35.28064106873616, 34.081848416656314, 296.18341346813423, 128.48283914941646, 4735.882671591889, 460.0739922909768, 314.39377349271, 233.25746319433728, 232.9589152992278, 185.4933465844776, 171.71256085541177, 167.92289850641012, 158.39553692684393, 150.58183288193368, 131.39580613300285, 130.23626319539957, 128.6952160229929, 128.1781760011499, 118.02435693897783, 92.41753982189324, 60.81588782690615, 49.186053719717805, 48.93581022536382, 37.108114304940976, 35.903497148277225, 35.516247804602, 30.064627308583418, 27.828827383447823, 26.359902257641707, 24.651276225391285, 24.57110838948715, 23.974683356385473, 18.71042493504071, 13.189954599439673, 13.066574019079404, 56.461939357794336, 149.18320094277072, 4735.882671591889, 498.40240173631014, 266.5858565343161, 178.59239340895184, 154.5043753654551, 150.3568093680386, 146.6034526897693, 144.6205304200627, 142.0669583698164, 131.55118043694543, 120.22920976524664, 119.07298679085908, 97.8198458247867, 91.2188299554057, 78.24108949931697, 74.76053176537621, 67.76758581294744, 64.29057501702887, 58.56125857702246, 36.962534184725534, 35.094664075012645, 31.820167019151505, 29.08641708578192, 28.113902511530462, 27.566222438886285, 25.568491702937063, 24.53579577147492, 24.510504132855612, 24.164053677336764, 24.039401795270045, 23.912040446658605, 310.78065958219554, 89.21174038508046, 29125.763178144705, 522.7716671044954, 473.69826464660264, 286.48852635934327, 276.65375576554754, 229.24954322785845, 207.11351670379392, 191.32267837306972, 134.1425804670013, 106.91625191820702, 75.65569439187077, 70.29750506464943, 69.9509649348861, 67.14654161973324, 56.0277377628786, 55.85307362272797, 53.12247526588544, 47.90227369305189, 46.84559997287953, 45.2701792813664, 45.10724914342208, 40.35788846229479, 33.64087405504988, 32.40803611834301, 24.95589916088508, 20.071391876465388, 14.139490787661469, 10.70332893393278, 8.70108832887828, 6.369908998889289, 6.095496605039413, 4735.882671591889, 516.0350154726174, 472.36835325596087, 251.9019112493457, 245.65004389493612, 138.0014545012255, 119.44407626523825, 115.52071543602835, 107.56429279498677, 94.75649420403342, 81.63052985065035, 80.0962414768679, 69.35129226579912, 48.90921481767271, 42.196460292044, 39.80136542229826, 39.38367633591606, 38.93174841584515, 38.154610122586526, 38.062109256528025, 37.17708335080231, 36.83157778947839, 31.80477963879035, 31.45805566994538, 30.369837366048255, 28.367129847280236, 28.28737320742234, 26.595024148864773, 26.32465951994565, 23.34161498035787, 21.203881008352134, 779.8927160967439, 265.05720179504425, 668.7477375349375, 291.50600469840634, 263.0059330326527, 170.38301460223036, 153.57818957458528, 150.16371371569173, 128.60949393929494, 110.63083805787171, 99.2510429796995, 89.42461022521401, 78.70070217558585, 76.32270197102008, 65.68382928806139, 61.184530095791345, 51.97644908092093, 50.965082442468635, 50.82778041358004, 48.01347196217652, 47.326317515632084, 44.665678243101766, 44.381312695719764, 33.07656942932484, 30.576886830310205, 30.39651664638855, 26.723140811520352, 26.192490785863463, 24.32519539093093, 20.734765632422686, 20.56912213027105, 18.678452018080744, 528.4098125604513, 29125.763178144705, 292.9538451396738, 269.36614478514247, 225.80348064174277, 207.8794771923843, 196.31530476954228, 188.5585799413827, 167.5296137861167, 130.06001093258823, 128.56873072522453, 122.6760686517375, 120.15947704501316, 98.09263547214158, 85.35201463643443, 82.5639964803323, 79.60766423503561, 59.62733729808053, 56.64848983202852, 53.03051825876362, 48.8521008358226, 44.63106888831203, 43.36259060449166, 42.90225372705511, 40.99856118349062, 27.82158761860851, 26.51292635404809, 23.774171963514526, 22.492309249810106, 18.90288487620917, 16.89753942383469, 14.34527788172992, 166.58145580641346, 368.3450710579322, 681.167536272725, 395.3248357586626, 225.06782459220457, 162.41931867542974, 148.17586786091204, 100.96378736801574, 97.45905029240872, 91.94474344916462, 62.07014388805277, 60.47633339942997, 60.086757680112946, 50.491251348011815, 49.99057067168369, 43.10383349314435, 41.37770383241772, 40.204824797805735, 39.818402169128305, 31.430882968585326, 31.130165400100008, 26.26084383754364, 14.436944476692444, 11.46683143619946, 10.705786451537971, 9.500898629833648, 8.208028515808614, 6.042528274523825, 5.206657698481635, 244.13136465232927, 3.132908630154141, 2.6921442629106567, 18539.085698450428, 29125.763178144705, 433.85279119594674, 258.9981664219822, 231.98072346643394, 192.25867086391426, 148.7354068270781, 146.38257308961414, 135.2407930037253, 123.61236613613674, 118.26538157635208, 103.23176091798643, 99.3188628665338, 98.03105303522436, 87.07084323362466, 83.37677900639194, 82.45571924761073, 80.83209707508642, 75.02820437546771, 65.13226599021601, 51.61410168304058, 46.984509092210324, 42.74347042488733, 38.510482786713716, 38.39170563554711, 38.1500554639012, 34.64361508732793, 31.109219408552462, 21.84652107834405, 21.59922417424762, 21.213631267539977, 16.324336396961574, 647.2491179807334, 18539.085698450428, 29125.763178144705, 575.9834972192308, 509.7458654124526, 206.503807796897, 165.31150002752764, 131.65580699745004, 111.28859468215046, 105.60430934565873, 102.18173285650921, 62.644330294100264, 55.55654945154065, 53.0868660496093, 46.64720906006851, 44.23666479465296, 43.0700114722411, 26.406391379614995, 24.286348142895235, 22.614105645656807, 19.717778437652374, 19.656468151560976, 16.72343499352353, 16.210586369661087, 13.78302615625949, 10.031729416878504, 9.270367730798068, 8.66798995375688, 632.793185829608, 2.876447511222924, 73.16275070017362, 274.553601630697, 1.173016512707246, 1.173016512707246, 1.173016512707246, 1.173016512707246, 1.173016512707246, 1.173016512707246, 1.173016512707246, 1.173016512707246, 1.173016512707246, 1.173016512707246, 1.173016512707246, 1.173016512707246, 677.3035724830539, 265.5409146486704, 237.84929544226546, 153.1965164572456, 152.05069430372842, 149.91773743020866, 143.56154222524586, 115.78927340764102, 108.61997365740805, 71.84514187972049, 65.49043478702941, 64.16415016940938, 52.66025269838728, 47.71732682877252, 45.881667454468904, 43.90674203027863, 39.644032280069055, 30.997829691570836, 30.42161439817626, 27.041753067359604, 24.66315744919928, 23.691117957863227, 19.866965523504177, 18.698097370040117, 17.696392816111814, 15.248256800404668, 14.517498010627705, 13.883477907127144, 13.105258206014593, 10.613695126165563, 399.40084039040994, 29125.763178144705, 18539.085698450428, 539.3738781360341, 481.50939166563927, 280.18930489499456, 228.4805603480062, 140.8325737972308, 129.43574301953015, 97.6988754904284, 96.23272602877773, 83.59427911779345, 81.79021787316118, 81.37377380630484, 80.30220722792517, 75.96782576656507, 61.7222374487171, 60.7846778713203, 39.69247259690761, 38.81892858321867, 35.286311165839884, 29.627515395775973, 28.218535527406907, 25.94455249194865, 25.44573774517758, 20.09994119316369, 16.94879629336095, 14.327153671046284, 14.102984393622076, 11.768493372419279, 6.387014540964987, 235.98359113142737, 4735.882671591889, 29125.763178144705, 18539.085698450428, 228.0046630325487, 197.68153566459455, 188.50710916913803, 180.74892159018208, 122.98168644625338, 119.36520821505876, 98.35368114646248, 91.06148477782816, 83.46612693607652, 75.73803330195042, 70.29954906225882, 67.63113877920074, 66.98870189154815, 64.38128256690223, 59.778388345112354, 59.612473133227454, 58.85540874785222, 56.05889390349601, 51.95859995854124, 51.067178548009274, 47.296296763400484, 47.08506552905411, 47.05629091146049, 44.270502771155286, 42.69701031288585, 42.04844172359307, 41.6449630756357, 38.98998758937665, 38.39366979293801, 37.89104838271468, 474.25999526782016, 632.793185829608, 323.77701827753873, 265.8149748933879, 198.06799887741624, 185.82090420038315, 174.63747008034343, 157.69554293871212, 115.6471114636178, 115.25495183655588, 107.32764850626114, 104.14738849129073, 89.84686779910652, 87.11077948964979, 81.29043215032557, 73.60119174726286, 69.42673305007676, 68.98778363431614, 60.527517625901226, 59.29756900291854, 49.957591118904325, 47.832474570142026, 46.23495987149505, 44.40166210336867, 44.108367589180844, 33.27798615707764, 28.031069723908146, 26.547951480843757, 25.83972285567668, 25.68388840429689, 24.709315472470962, 24.083691785796912, 442.3519399272613, 700.993515798627, 699.6829546008362, 470.54355573153066, 446.34597044170306, 172.07573152272198, 129.3790052392, 95.33585034187281, 82.30475779368015, 56.72904120568644, 49.98216591921809, 40.22205787914888, 39.91380543208726, 24.79272479846601, 22.748999543659153, 19.30395659610075, 18.765239945796104, 17.90594360352595, 17.52291191348116, 12.058376940806733, 9.99054327412147, 8.460845260542513, 156.23580643010126, 474.25999526782016, 1480.6779832422328, 4735.882671591889, 1.173016512707246, 1.173016512707246, 1.173016512707246, 1.173016512707246, 1.173016512707246, 1.173016512707246, 1.173016512707246, 1.173016512707246, 1.173016512707246, 3498.0118415726856, 1.173016512707246, 1.173016512707246, 1.173016512707246, 1.173016512707246, 331.2517261322179, 226.48003829593648, 190.1772506022337, 184.1076806014019, 174.9320392591966, 168.60172003210107, 161.61490251520217, 153.41977324919458, 133.50509391945025, 126.78701196731149, 116.09545488867347, 115.46586914190978, 94.0060873164792, 70.82244960095416, 59.770650766988, 49.088793072825645, 42.01557010743838, 39.840630815146646, 36.82795296844586, 34.605647954827596, 31.799206076391926, 30.826352497132522, 29.873024688509126, 27.28570206551365, 24.920421213469524, 20.654775757861064, 20.113664405634818, 19.555704655497042, 18.420782158961902, 18.174074002672985, 94.24745258928209, 42.80740403400159, 89.21174038508046, 684.7179022683106, 180.80427958550808, 158.80087370986442, 131.09485982628524, 98.9054341903474, 95.13955740153864, 77.80420923950771, 77.39827687794256, 74.62158045595238, 70.38489660152474, 67.56751831064093, 63.828175599104505, 57.24283012466883, 57.07294513749398, 47.77461847283765, 45.12988449018958, 44.066815637185044, 42.71329618980291, 41.51532998323696, 39.21243407213775, 35.82039790479812, 28.488243578830257, 28.436998248501528, 27.84388915444665, 27.08410591954232, 22.24979353762523, 22.004087145925336, 20.398187373226847, 18.446045764054045, 17.97923274599099, 267.89293498071845, 4735.882671591889, 29125.763178144705, 234.4157349215377, 223.46263407965412, 219.82320070250802, 196.08190682446593, 168.22147936714518, 164.67562296428153, 155.8527639481958, 141.83742309806087, 109.35157180243498, 94.48910956651774, 83.83899074111663, 81.3541276732826, 73.07409521197222, 68.66287708931887, 66.21536804492479, 65.84512097238336, 65.07801451931289, 64.9042557291163, 64.05200546625109, 59.19250012290456, 53.55451801764003, 52.81923619124118, 47.25843478563674, 36.241968391853746, 34.658163360773564, 27.147048035278186, 26.441974849875706, 19.88068778630228, 18.50685937238988, 17.166112771939478, 18539.085698450428, 29125.763178144705, 206.77716916413397, 193.9674564656125, 162.41916058509864, 147.6807464569926, 129.64686194252798, 113.80306648106382, 105.42279597122729, 94.27585282585959, 88.66212902647065, 86.87016033760055, 83.46554027882729, 79.59497003592237, 66.10289120968949, 60.86632946052628, 59.11104329599297, 52.3501748355383, 50.69049865943682, 38.102085607735184, 37.349976146253, 32.61698880618301, 32.04284707527238, 28.90435599306066, 27.574537835801358, 25.568211804717265, 24.975121086235045, 24.650420520814542, 23.76009185513172, 23.31082126956604, 17.483157596990075, 17.4296900802674, 370.9305900057065, 167.0399471797737, 277.1141897855554, 32.56750673307833, 399.0437914279692, 340.54453652721463, 229.67621775989969, 205.39902579325928, 164.04757551793304, 132.4922454272643, 101.44432120392747, 88.36175819354614, 84.11871215246971, 79.3335353422111, 74.09219760484314, 72.9292689566004, 66.34136757491027, 65.60704092883653, 55.5242269656708, 45.85411583529354, 44.7169847039263, 43.89044670459338, 41.457228304427446, 39.43486107049732, 39.28667851438189, 35.30132592617429, 34.312377350922475, 32.5828141216138, 31.10863044575955, 29.764473694445293, 29.743271155130316, 28.827790253838714, 28.08812194635087, 20.93622809569212, 20.725860176590967, 29125.763178144705, 18539.085698450428, 219.10002835804548, 205.58597424206172, 195.5463874590053, 194.83022967391207, 139.06806871199865, 119.31559993158679, 106.12791084786271, 90.80394768086089, 83.38802190993091, 78.6078237069413, 74.34387554936887, 70.92796259859166, 68.21237704600179, 59.432569480070995, 54.83319973756907, 53.90499333592064, 51.071746919688444, 49.09590547312497, 48.95054408672114, 47.854356151584426, 47.29141655122525, 45.25500609077767, 35.99985426289819, 34.946767236979674, 34.26816547876959, 30.395111618391176, 28.728968705197065, 27.53234646762174, 23.078849068847482, 22.776368968943995, 74.0587227408548, 128.48283914941646, 270.55860109018636, 268.1152068956354, 247.54849627591074, 217.4314820663882, 197.04322687160425, 151.56350734057656, 145.1845362994739, 130.4894337056095, 112.07258498033542, 112.02527850298678, 67.24586528224971, 48.64656141329351, 48.519328530194564, 37.72043561652506, 37.61790165020275, 36.36099918541766, 35.524707666311734, 35.22478888720155, 35.06303032735948, 33.56196986827005, 31.85218683156841, 28.434701657588743, 27.04820307719348, 21.868486267095406, 21.64269299446294, 20.335490798761334, 20.08855783619298, 16.637152171671904, 13.73247930294523, 12.584051563201218, 167.68888001458168, 292.8403186479646, 29125.763178144705, 283.68979368621666, 202.50484887968176, 180.09333128773193, 148.11199831880944, 144.72153341092957, 96.49161404087877, 94.70833106271228, 89.63289701128082, 88.94879741973125, 87.51292295692284, 84.82944573101612, 72.75269316774221, 57.93398672954946, 57.58853601381314, 53.90024840728431, 41.49240821235493, 38.68554167446116, 38.62465057411136, 37.93465992313287, 35.58617583637454, 34.526741332542414, 33.75907195404497, 33.42376344768948, 33.13518731555314, 30.987450855218395, 29.605746386841748, 29.286647754931977, 28.17002582323041, 28.036658292810227, 23.61917862998967, 18539.085698450428, 29125.763178144705, 365.46809725390636, 160.8417304768157, 139.2957639950194, 134.59021487780146, 133.24598116391846, 116.3739118337232, 75.22299935433749, 71.43954500793166, 71.40317807320648, 69.67761377230025, 64.00709251224258, 61.968052395983726, 60.573306840050854, 55.17956122968155, 54.61067135991471, 54.26548886938799, 52.76814299938979, 51.04935770997569, 45.08584687692494, 44.04705164708771, 38.329616941762644, 34.312856175632625, 33.37728793297005, 32.080276027313026, 27.03993923542935, 24.453316135120655, 24.309432486579627, 24.037511066690463, 21.794940207193463, 19.06622643973986, 110.17722450661603, 63.458973891466094, 688.2219860334689, 764.3268488113615, 162.35957126861183, 141.11178990494233, 135.14151089238743, 119.27136993911934, 91.61003245483275, 86.24579590450416, 84.37122348252952, 78.80348618005802, 76.70811233337018, 67.4952006691359, 67.12469996130841, 65.4343449442061, 60.354864540282215, 58.94374355338223, 54.586490349123814, 46.92082864806603, 46.668573680267414, 34.051225974581264, 33.812022391353196, 25.25952743106504, 19.458215138542503, 11.820531180478222, 10.820687299139136, 1.173016512707246, 1.173016512707246, 1.173016512707246, 1.173016512707246, 1.173016512707246, 1.173016512707246, 18539.085698450428, 1.173016512707246, 1.173016512707246, 1.173016512707246, 1.173016512707246, 1.173016512707246, 29125.763178144705, 1.173016512707246, 1.173016512707246, 1.173016512707246, 1.173016512707246, 395.4807395863966, 144.80031072439948, 143.48228431518933, 106.6171255628975, 98.66205190370063, 95.07425411192501, 88.62489326314113, 87.3751032739802, 84.3786195614065, 83.72078328793087, 81.76428879796246, 78.48182787790327, 49.08641647090602, 40.02126648749595, 39.399104872821226, 33.657213956503284, 33.17061050175578, 28.914618589716667, 27.160138358179267, 26.820732315235286, 26.259681570184714, 25.4935058012722, 24.809049989479025, 17.42511627479757, 13.850038720555196, 12.997509894261897, 12.345964445600524, 11.871423468869166, 9.706270496498428, 8.17504311979297, 63.458973891466094, 29125.763178144705, 18539.085698450428], \"Category\": [\"Default\", \"Default\", \"Default\", \"Default\", \"Default\", \"Default\", \"Default\", \"Default\", \"Default\", \"Default\", \"Default\", \"Default\", \"Default\", \"Default\", \"Default\", \"Default\", \"Default\", \"Default\", \"Default\", \"Default\", \"Default\", \"Default\", \"Default\", \"Default\", \"Default\", \"Default\", \"Default\", \"Default\", \"Default\", \"Default\", \"Topic1\", \"Topic1\", \"Topic1\", \"Topic1\", \"Topic1\", \"Topic1\", \"Topic1\", \"Topic1\", \"Topic1\", \"Topic1\", \"Topic1\", \"Topic1\", \"Topic1\", \"Topic1\", \"Topic1\", \"Topic1\", \"Topic1\", \"Topic1\", \"Topic1\", \"Topic1\", \"Topic1\", \"Topic1\", \"Topic1\", \"Topic1\", \"Topic1\", \"Topic1\", \"Topic1\", \"Topic1\", \"Topic1\", \"Topic1\", \"Topic1\", \"Topic1\", \"Topic1\", \"Topic1\", \"Topic2\", \"Topic2\", \"Topic2\", \"Topic2\", \"Topic2\", \"Topic2\", \"Topic2\", \"Topic2\", \"Topic2\", \"Topic2\", \"Topic2\", \"Topic2\", \"Topic2\", \"Topic2\", \"Topic2\", \"Topic2\", \"Topic2\", \"Topic2\", \"Topic2\", \"Topic2\", \"Topic2\", \"Topic2\", \"Topic2\", \"Topic2\", \"Topic2\", \"Topic2\", \"Topic2\", \"Topic2\", \"Topic2\", \"Topic2\", \"Topic2\", \"Topic2\", \"Topic2\", \"Topic2\", \"Topic3\", \"Topic3\", \"Topic3\", \"Topic3\", \"Topic3\", \"Topic3\", \"Topic3\", \"Topic3\", \"Topic3\", \"Topic3\", \"Topic3\", \"Topic3\", \"Topic3\", \"Topic3\", \"Topic3\", \"Topic3\", \"Topic3\", \"Topic3\", \"Topic3\", \"Topic3\", \"Topic3\", \"Topic3\", \"Topic3\", \"Topic3\", \"Topic3\", \"Topic3\", \"Topic3\", \"Topic3\", \"Topic3\", \"Topic3\", \"Topic3\", \"Topic3\", \"Topic3\", \"Topic3\", \"Topic3\", \"Topic4\", \"Topic4\", \"Topic4\", \"Topic4\", \"Topic4\", \"Topic4\", \"Topic4\", \"Topic4\", \"Topic4\", \"Topic4\", \"Topic4\", \"Topic4\", \"Topic4\", \"Topic4\", \"Topic4\", \"Topic4\", \"Topic4\", \"Topic4\", \"Topic4\", \"Topic4\", \"Topic4\", \"Topic4\", \"Topic4\", \"Topic4\", \"Topic4\", \"Topic4\", \"Topic4\", \"Topic4\", \"Topic4\", \"Topic4\", \"Topic4\", \"Topic4\", \"Topic4\", \"Topic4\", \"Topic4\", \"Topic4\", \"Topic5\", \"Topic5\", \"Topic5\", \"Topic5\", \"Topic5\", \"Topic5\", \"Topic5\", \"Topic5\", \"Topic5\", \"Topic5\", \"Topic5\", \"Topic5\", \"Topic5\", \"Topic5\", \"Topic5\", \"Topic5\", \"Topic5\", \"Topic5\", \"Topic5\", \"Topic5\", \"Topic5\", \"Topic5\", \"Topic5\", \"Topic5\", \"Topic5\", \"Topic5\", \"Topic5\", \"Topic5\", \"Topic5\", \"Topic5\", \"Topic6\", \"Topic6\", \"Topic6\", \"Topic6\", \"Topic6\", \"Topic6\", \"Topic6\", \"Topic6\", \"Topic6\", \"Topic6\", \"Topic6\", \"Topic6\", \"Topic6\", \"Topic6\", \"Topic6\", \"Topic6\", \"Topic6\", \"Topic6\", \"Topic6\", \"Topic6\", \"Topic6\", \"Topic6\", \"Topic6\", \"Topic6\", \"Topic6\", \"Topic6\", \"Topic6\", \"Topic6\", \"Topic6\", \"Topic6\", \"Topic6\", \"Topic6\", \"Topic7\", \"Topic7\", \"Topic7\", \"Topic7\", \"Topic7\", \"Topic7\", \"Topic7\", \"Topic7\", \"Topic7\", \"Topic7\", \"Topic7\", \"Topic7\", \"Topic7\", \"Topic7\", \"Topic7\", \"Topic7\", \"Topic7\", \"Topic7\", \"Topic7\", \"Topic7\", \"Topic7\", \"Topic7\", \"Topic7\", \"Topic7\", \"Topic7\", \"Topic7\", \"Topic7\", \"Topic7\", \"Topic7\", \"Topic7\", \"Topic8\", \"Topic8\", \"Topic8\", \"Topic8\", \"Topic8\", \"Topic8\", \"Topic8\", \"Topic8\", \"Topic8\", \"Topic8\", \"Topic8\", \"Topic8\", \"Topic8\", \"Topic8\", \"Topic8\", \"Topic8\", \"Topic8\", \"Topic8\", \"Topic8\", \"Topic8\", \"Topic8\", \"Topic8\", \"Topic8\", \"Topic8\", \"Topic8\", \"Topic8\", \"Topic8\", \"Topic8\", \"Topic8\", \"Topic8\", \"Topic8\", \"Topic8\", \"Topic9\", \"Topic9\", \"Topic9\", \"Topic9\", \"Topic9\", \"Topic9\", \"Topic9\", \"Topic9\", \"Topic9\", \"Topic9\", \"Topic9\", \"Topic9\", \"Topic9\", \"Topic9\", \"Topic9\", \"Topic9\", \"Topic9\", \"Topic9\", \"Topic9\", \"Topic9\", \"Topic9\", \"Topic9\", \"Topic9\", \"Topic9\", \"Topic9\", \"Topic9\", \"Topic9\", \"Topic9\", \"Topic9\", \"Topic9\", \"Topic9\", \"Topic9\", \"Topic9\", \"Topic9\", \"Topic9\", \"Topic9\", \"Topic9\", \"Topic10\", \"Topic10\", \"Topic10\", \"Topic10\", \"Topic10\", \"Topic10\", \"Topic10\", \"Topic10\", \"Topic10\", \"Topic10\", \"Topic10\", \"Topic10\", \"Topic10\", \"Topic10\", \"Topic10\", \"Topic10\", \"Topic10\", \"Topic10\", \"Topic10\", \"Topic10\", \"Topic10\", \"Topic10\", \"Topic10\", \"Topic10\", \"Topic10\", \"Topic10\", \"Topic10\", \"Topic10\", \"Topic10\", \"Topic10\", \"Topic10\", \"Topic10\", \"Topic10\", \"Topic10\", \"Topic10\", \"Topic11\", \"Topic11\", \"Topic11\", \"Topic11\", \"Topic11\", \"Topic11\", \"Topic11\", \"Topic11\", \"Topic11\", \"Topic11\", \"Topic11\", \"Topic11\", \"Topic11\", \"Topic11\", \"Topic11\", \"Topic11\", \"Topic11\", \"Topic11\", \"Topic11\", \"Topic11\", \"Topic11\", \"Topic11\", \"Topic11\", \"Topic11\", \"Topic11\", \"Topic11\", \"Topic11\", \"Topic11\", \"Topic11\", \"Topic11\", \"Topic11\", \"Topic11\", \"Topic11\", \"Topic11\", \"Topic11\", \"Topic11\", \"Topic11\", \"Topic11\", \"Topic11\", \"Topic11\", \"Topic12\", \"Topic12\", \"Topic12\", \"Topic12\", \"Topic12\", \"Topic12\", \"Topic12\", \"Topic12\", \"Topic12\", \"Topic12\", \"Topic12\", \"Topic12\", \"Topic12\", \"Topic12\", \"Topic12\", \"Topic12\", \"Topic12\", \"Topic12\", \"Topic12\", \"Topic12\", \"Topic12\", \"Topic12\", \"Topic12\", \"Topic12\", \"Topic12\", \"Topic12\", \"Topic12\", \"Topic12\", \"Topic12\", \"Topic12\", \"Topic12\", \"Topic12\", \"Topic12\", \"Topic12\", \"Topic13\", \"Topic13\", \"Topic13\", \"Topic13\", \"Topic13\", \"Topic13\", \"Topic13\", \"Topic13\", \"Topic13\", \"Topic13\", \"Topic13\", \"Topic13\", \"Topic13\", \"Topic13\", \"Topic13\", \"Topic13\", \"Topic13\", \"Topic13\", \"Topic13\", \"Topic13\", \"Topic13\", \"Topic13\", \"Topic13\", \"Topic13\", \"Topic13\", \"Topic13\", \"Topic13\", \"Topic13\", \"Topic13\", \"Topic13\", \"Topic13\", \"Topic13\", \"Topic13\", \"Topic14\", \"Topic14\", \"Topic14\", \"Topic14\", \"Topic14\", \"Topic14\", \"Topic14\", \"Topic14\", \"Topic14\", \"Topic14\", \"Topic14\", \"Topic14\", \"Topic14\", \"Topic14\", \"Topic14\", \"Topic14\", \"Topic14\", \"Topic14\", \"Topic14\", \"Topic14\", \"Topic14\", \"Topic14\", \"Topic14\", \"Topic14\", \"Topic14\", \"Topic14\", \"Topic14\", \"Topic14\", \"Topic14\", \"Topic14\", \"Topic14\", \"Topic14\", \"Topic14\", \"Topic14\", \"Topic14\", \"Topic15\", \"Topic15\", \"Topic15\", \"Topic15\", \"Topic15\", \"Topic15\", \"Topic15\", \"Topic15\", \"Topic15\", \"Topic15\", \"Topic15\", \"Topic15\", \"Topic15\", \"Topic15\", \"Topic15\", \"Topic15\", \"Topic15\", \"Topic15\", \"Topic15\", \"Topic15\", \"Topic15\", \"Topic15\", \"Topic15\", \"Topic15\", \"Topic15\", \"Topic15\", \"Topic15\", \"Topic15\", \"Topic15\", \"Topic15\", \"Topic15\", \"Topic15\", \"Topic15\", \"Topic15\", \"Topic15\", \"Topic16\", \"Topic16\", \"Topic16\", \"Topic16\", \"Topic16\", \"Topic16\", \"Topic16\", \"Topic16\", \"Topic16\", \"Topic16\", \"Topic16\", \"Topic16\", \"Topic16\", \"Topic16\", \"Topic16\", \"Topic16\", \"Topic16\", \"Topic16\", \"Topic16\", \"Topic16\", \"Topic16\", \"Topic16\", \"Topic16\", \"Topic16\", \"Topic16\", \"Topic16\", \"Topic16\", \"Topic16\", \"Topic16\", \"Topic16\", \"Topic16\", \"Topic16\", \"Topic16\", \"Topic16\", \"Topic16\", \"Topic16\", \"Topic16\", \"Topic16\", \"Topic16\", \"Topic16\", \"Topic16\", \"Topic16\", \"Topic16\", \"Topic16\", \"Topic16\", \"Topic16\", \"Topic16\", \"Topic16\", \"Topic16\", \"Topic16\", \"Topic16\", \"Topic16\", \"Topic16\", \"Topic16\", \"Topic16\", \"Topic16\", \"Topic16\", \"Topic16\", \"Topic16\", \"Topic17\", \"Topic17\", \"Topic17\", \"Topic17\", \"Topic17\", \"Topic17\", \"Topic17\", \"Topic17\", \"Topic17\", \"Topic17\", \"Topic17\", \"Topic17\", \"Topic17\", \"Topic17\", \"Topic17\", \"Topic17\", \"Topic17\", \"Topic17\", \"Topic17\", \"Topic17\", \"Topic17\", \"Topic17\", \"Topic17\", \"Topic17\", \"Topic17\", \"Topic17\", \"Topic17\", \"Topic17\", \"Topic17\", \"Topic17\", \"Topic17\", \"Topic17\", \"Topic17\", \"Topic17\", \"Topic17\", \"Topic17\", \"Topic18\", \"Topic18\", \"Topic18\", \"Topic18\", \"Topic18\", \"Topic18\", \"Topic18\", \"Topic18\", \"Topic18\", \"Topic18\", \"Topic18\", \"Topic18\", \"Topic18\", \"Topic18\", \"Topic18\", \"Topic18\", \"Topic18\", \"Topic18\", \"Topic18\", \"Topic18\", \"Topic18\", \"Topic18\", \"Topic18\", \"Topic18\", \"Topic18\", \"Topic18\", \"Topic18\", \"Topic18\", \"Topic18\", \"Topic18\", \"Topic18\", \"Topic18\", \"Topic18\", \"Topic18\", \"Topic18\", \"Topic18\", \"Topic18\", \"Topic18\", \"Topic18\", \"Topic18\", \"Topic18\", \"Topic19\", \"Topic19\", \"Topic19\", \"Topic19\", \"Topic19\", \"Topic19\", \"Topic19\", \"Topic19\", \"Topic19\", \"Topic19\", \"Topic19\", \"Topic19\", \"Topic19\", \"Topic19\", \"Topic19\", \"Topic19\", \"Topic19\", \"Topic19\", \"Topic19\", \"Topic19\", \"Topic19\", \"Topic19\", \"Topic19\", \"Topic19\", \"Topic19\", \"Topic19\", \"Topic19\", \"Topic19\", \"Topic19\", \"Topic19\", \"Topic19\", \"Topic19\", \"Topic19\", \"Topic19\", \"Topic19\", \"Topic20\", \"Topic20\", \"Topic20\", \"Topic20\", \"Topic20\", \"Topic20\", \"Topic20\", \"Topic20\", \"Topic20\", \"Topic20\", \"Topic20\", \"Topic20\", \"Topic20\", \"Topic20\", \"Topic20\", \"Topic20\", \"Topic20\", \"Topic20\", \"Topic20\", \"Topic20\", \"Topic20\", \"Topic20\", \"Topic20\", \"Topic20\", \"Topic20\", \"Topic20\", \"Topic20\", \"Topic20\", \"Topic20\", \"Topic20\", \"Topic20\", \"Topic20\", \"Topic21\", \"Topic21\", \"Topic21\", \"Topic21\", \"Topic21\", \"Topic21\", \"Topic21\", \"Topic21\", \"Topic21\", \"Topic21\", \"Topic21\", \"Topic21\", \"Topic21\", \"Topic21\", \"Topic21\", \"Topic21\", \"Topic21\", \"Topic21\", \"Topic21\", \"Topic21\", \"Topic21\", \"Topic21\", \"Topic21\", \"Topic21\", \"Topic21\", \"Topic21\", \"Topic21\", \"Topic21\", \"Topic21\", \"Topic21\", \"Topic21\", \"Topic21\", \"Topic21\", \"Topic22\", \"Topic22\", \"Topic22\", \"Topic22\", \"Topic22\", \"Topic22\", \"Topic22\", \"Topic22\", \"Topic22\", \"Topic22\", \"Topic22\", \"Topic22\", \"Topic22\", \"Topic22\", \"Topic22\", \"Topic22\", \"Topic22\", \"Topic22\", \"Topic22\", \"Topic22\", \"Topic22\", \"Topic22\", \"Topic22\", \"Topic22\", \"Topic22\", \"Topic22\", \"Topic22\", \"Topic22\", \"Topic22\", \"Topic22\", \"Topic22\", \"Topic22\", \"Topic22\", \"Topic23\", \"Topic23\", \"Topic23\", \"Topic23\", \"Topic23\", \"Topic23\", \"Topic23\", \"Topic23\", \"Topic23\", \"Topic23\", \"Topic23\", \"Topic23\", \"Topic23\", \"Topic23\", \"Topic23\", \"Topic23\", \"Topic23\", \"Topic23\", \"Topic23\", \"Topic23\", \"Topic23\", \"Topic23\", \"Topic23\", \"Topic23\", \"Topic23\", \"Topic23\", \"Topic23\", \"Topic23\", \"Topic23\", \"Topic23\", \"Topic23\", \"Topic23\", \"Topic23\", \"Topic24\", \"Topic24\", \"Topic24\", \"Topic24\", \"Topic24\", \"Topic24\", \"Topic24\", \"Topic24\", \"Topic24\", \"Topic24\", \"Topic24\", \"Topic24\", \"Topic24\", \"Topic24\", \"Topic24\", \"Topic24\", \"Topic24\", \"Topic24\", \"Topic24\", \"Topic24\", \"Topic24\", \"Topic24\", \"Topic24\", \"Topic24\", \"Topic24\", \"Topic24\", \"Topic24\", \"Topic24\", \"Topic24\", \"Topic24\", \"Topic24\", \"Topic24\", \"Topic24\", \"Topic24\", \"Topic25\", \"Topic25\", \"Topic25\", \"Topic25\", \"Topic25\", \"Topic25\", \"Topic25\", \"Topic25\", \"Topic25\", \"Topic25\", \"Topic25\", \"Topic25\", \"Topic25\", \"Topic25\", \"Topic25\", \"Topic25\", \"Topic25\", \"Topic25\", \"Topic25\", \"Topic25\", \"Topic25\", \"Topic25\", \"Topic25\", \"Topic25\", \"Topic25\", \"Topic25\", \"Topic25\", \"Topic25\", \"Topic25\", \"Topic25\", \"Topic25\", \"Topic25\", \"Topic25\", \"Topic26\", \"Topic26\", \"Topic26\", \"Topic26\", \"Topic26\", \"Topic26\", \"Topic26\", \"Topic26\", \"Topic26\", \"Topic26\", \"Topic26\", \"Topic26\", \"Topic26\", \"Topic26\", \"Topic26\", \"Topic26\", \"Topic26\", \"Topic26\", \"Topic26\", \"Topic26\", \"Topic26\", \"Topic26\", \"Topic26\", \"Topic26\", \"Topic26\", \"Topic26\", \"Topic26\", \"Topic26\", \"Topic26\", \"Topic26\", \"Topic26\", \"Topic27\", \"Topic27\", \"Topic27\", \"Topic27\", \"Topic27\", \"Topic27\", \"Topic27\", \"Topic27\", \"Topic27\", \"Topic27\", \"Topic27\", \"Topic27\", \"Topic27\", \"Topic27\", \"Topic27\", \"Topic27\", \"Topic27\", \"Topic27\", \"Topic27\", \"Topic27\", \"Topic27\", \"Topic27\", \"Topic27\", \"Topic27\", \"Topic27\", \"Topic27\", \"Topic27\", \"Topic27\", \"Topic27\", \"Topic27\", \"Topic27\", \"Topic27\", \"Topic27\", \"Topic27\", \"Topic28\", \"Topic28\", \"Topic28\", \"Topic28\", \"Topic28\", \"Topic28\", \"Topic28\", \"Topic28\", \"Topic28\", \"Topic28\", \"Topic28\", \"Topic28\", \"Topic28\", \"Topic28\", \"Topic28\", \"Topic28\", \"Topic28\", \"Topic28\", \"Topic28\", \"Topic28\", \"Topic28\", \"Topic28\", \"Topic28\", \"Topic28\", \"Topic28\", \"Topic28\", \"Topic28\", \"Topic28\", \"Topic28\", \"Topic28\", \"Topic28\", \"Topic28\", \"Topic28\", \"Topic28\", \"Topic28\", \"Topic29\", \"Topic29\", \"Topic29\", \"Topic29\", \"Topic29\", \"Topic29\", \"Topic29\", \"Topic29\", \"Topic29\", \"Topic29\", \"Topic29\", \"Topic29\", \"Topic29\", \"Topic29\", \"Topic29\", \"Topic29\", \"Topic29\", \"Topic29\", \"Topic29\", \"Topic29\", \"Topic29\", \"Topic29\", \"Topic29\", \"Topic29\", \"Topic29\", \"Topic29\", \"Topic29\", \"Topic29\", \"Topic29\", \"Topic29\", \"Topic29\", \"Topic29\", \"Topic29\", \"Topic29\", \"Topic29\", \"Topic30\", \"Topic30\", \"Topic30\", \"Topic30\", \"Topic30\", \"Topic30\", \"Topic30\", \"Topic30\", \"Topic30\", \"Topic30\", \"Topic30\", \"Topic30\", \"Topic30\", \"Topic30\", \"Topic30\", \"Topic30\", \"Topic30\", \"Topic30\", \"Topic30\", \"Topic30\", \"Topic30\", \"Topic30\", \"Topic30\", \"Topic30\", \"Topic30\", \"Topic30\", \"Topic30\", \"Topic30\", \"Topic30\", \"Topic30\", \"Topic30\", \"Topic30\", \"Topic30\", \"Topic30\", \"Topic30\", \"Topic30\", \"Topic31\", \"Topic31\", \"Topic31\", \"Topic31\", \"Topic31\", \"Topic31\", \"Topic31\", \"Topic31\", \"Topic31\", \"Topic31\", \"Topic31\", \"Topic31\", \"Topic31\", \"Topic31\", \"Topic31\", \"Topic31\", \"Topic31\", \"Topic31\", \"Topic31\", \"Topic31\", \"Topic31\", \"Topic31\", \"Topic31\", \"Topic31\", \"Topic31\", \"Topic31\", \"Topic31\", \"Topic31\", \"Topic31\", \"Topic31\", \"Topic31\", \"Topic31\", \"Topic31\", \"Topic32\", \"Topic32\", \"Topic32\", \"Topic32\", \"Topic32\", \"Topic32\", \"Topic32\", \"Topic32\", \"Topic32\", \"Topic32\", \"Topic32\", \"Topic32\", \"Topic32\", \"Topic32\", \"Topic32\", \"Topic32\", \"Topic32\", \"Topic32\", \"Topic32\", \"Topic32\", \"Topic32\", \"Topic32\", \"Topic32\", \"Topic32\", \"Topic32\", \"Topic32\", \"Topic32\", \"Topic32\", \"Topic32\", \"Topic32\", \"Topic32\", \"Topic32\", \"Topic32\", \"Topic32\", \"Topic32\", \"Topic33\", \"Topic33\", \"Topic33\", \"Topic33\", \"Topic33\", \"Topic33\", \"Topic33\", \"Topic33\", \"Topic33\", \"Topic33\", \"Topic33\", \"Topic33\", \"Topic33\", \"Topic33\", \"Topic33\", \"Topic33\", \"Topic33\", \"Topic33\", \"Topic33\", \"Topic33\", \"Topic33\", \"Topic33\", \"Topic33\", \"Topic33\", \"Topic33\", \"Topic33\", \"Topic33\", \"Topic33\", \"Topic33\", \"Topic33\", \"Topic33\", \"Topic33\", \"Topic34\", \"Topic34\", \"Topic34\", \"Topic34\", \"Topic34\", \"Topic34\", \"Topic34\", \"Topic34\", \"Topic34\", \"Topic34\", \"Topic34\", \"Topic34\", \"Topic34\", \"Topic34\", \"Topic34\", \"Topic34\", \"Topic34\", \"Topic34\", \"Topic34\", \"Topic34\", \"Topic34\", \"Topic34\", \"Topic34\", \"Topic34\", \"Topic34\", \"Topic34\", \"Topic34\", \"Topic34\", \"Topic34\", \"Topic34\", \"Topic34\", \"Topic34\", \"Topic35\", \"Topic35\", \"Topic35\", \"Topic35\", \"Topic35\", \"Topic35\", \"Topic35\", \"Topic35\", \"Topic35\", \"Topic35\", \"Topic35\", \"Topic35\", \"Topic35\", \"Topic35\", \"Topic35\", \"Topic35\", \"Topic35\", \"Topic35\", \"Topic35\", \"Topic35\", \"Topic35\", \"Topic35\", \"Topic35\", \"Topic35\", \"Topic35\", \"Topic35\", \"Topic35\", \"Topic35\", \"Topic35\", \"Topic35\", \"Topic35\", \"Topic36\", \"Topic36\", \"Topic36\", \"Topic36\", \"Topic36\", \"Topic36\", \"Topic36\", \"Topic36\", \"Topic36\", \"Topic36\", \"Topic36\", \"Topic36\", \"Topic36\", \"Topic36\", \"Topic36\", \"Topic36\", \"Topic36\", \"Topic36\", \"Topic36\", \"Topic36\", \"Topic36\", \"Topic36\", \"Topic36\", \"Topic36\", \"Topic36\", \"Topic36\", \"Topic36\", \"Topic36\", \"Topic36\", \"Topic36\", \"Topic36\", \"Topic36\", \"Topic36\", \"Topic36\", \"Topic37\", \"Topic37\", \"Topic37\", \"Topic37\", \"Topic37\", \"Topic37\", \"Topic37\", \"Topic37\", \"Topic37\", \"Topic37\", \"Topic37\", \"Topic37\", \"Topic37\", \"Topic37\", \"Topic37\", \"Topic37\", \"Topic37\", \"Topic37\", \"Topic37\", \"Topic37\", \"Topic37\", \"Topic37\", \"Topic37\", \"Topic37\", \"Topic37\", \"Topic37\", \"Topic37\", \"Topic37\", \"Topic37\", \"Topic37\", \"Topic37\", \"Topic37\", \"Topic38\", \"Topic38\", \"Topic38\", \"Topic38\", \"Topic38\", \"Topic38\", \"Topic38\", \"Topic38\", \"Topic38\", \"Topic38\", \"Topic38\", \"Topic38\", \"Topic38\", \"Topic38\", \"Topic38\", \"Topic38\", \"Topic38\", \"Topic38\", \"Topic38\", \"Topic38\", \"Topic38\", \"Topic38\", \"Topic38\", \"Topic38\", \"Topic38\", \"Topic38\", \"Topic38\", \"Topic38\", \"Topic38\", \"Topic38\", \"Topic38\", \"Topic38\", \"Topic38\", \"Topic38\", \"Topic39\", \"Topic39\", \"Topic39\", \"Topic39\", \"Topic39\", \"Topic39\", \"Topic39\", \"Topic39\", \"Topic39\", \"Topic39\", \"Topic39\", \"Topic39\", \"Topic39\", \"Topic39\", \"Topic39\", \"Topic39\", \"Topic39\", \"Topic39\", \"Topic39\", \"Topic39\", \"Topic39\", \"Topic39\", \"Topic39\", \"Topic39\", \"Topic39\", \"Topic39\", \"Topic39\", \"Topic39\", \"Topic39\", \"Topic39\", \"Topic39\", \"Topic39\", \"Topic39\", \"Topic39\", \"Topic39\", \"Topic39\", \"Topic39\", \"Topic39\", \"Topic39\", \"Topic39\", \"Topic39\", \"Topic39\", \"Topic39\", \"Topic39\", \"Topic39\", \"Topic39\", \"Topic39\", \"Topic40\", \"Topic40\", \"Topic40\", \"Topic40\", \"Topic40\", \"Topic40\", \"Topic40\", \"Topic40\", \"Topic40\", \"Topic40\", \"Topic40\", \"Topic40\", \"Topic40\", \"Topic40\", \"Topic40\", \"Topic40\", \"Topic40\", \"Topic40\", \"Topic40\", \"Topic40\", \"Topic40\", \"Topic40\", \"Topic40\", \"Topic40\", \"Topic40\", \"Topic40\", \"Topic40\", \"Topic40\", \"Topic40\", \"Topic40\", \"Topic40\", \"Topic40\", \"Topic41\", \"Topic41\", \"Topic41\", \"Topic41\", \"Topic41\", \"Topic41\", \"Topic41\", \"Topic41\", \"Topic41\", \"Topic41\", \"Topic41\", \"Topic41\", \"Topic41\", \"Topic41\", \"Topic41\", \"Topic41\", \"Topic41\", \"Topic41\", \"Topic41\", \"Topic41\", \"Topic41\", \"Topic41\", \"Topic41\", \"Topic41\", \"Topic41\", \"Topic41\", \"Topic41\", \"Topic41\", \"Topic41\", \"Topic41\", \"Topic42\", \"Topic42\", \"Topic42\", \"Topic42\", \"Topic42\", \"Topic42\", \"Topic42\", \"Topic42\", \"Topic42\", \"Topic42\", \"Topic42\", \"Topic42\", \"Topic42\", \"Topic42\", \"Topic42\", \"Topic42\", \"Topic42\", \"Topic42\", \"Topic42\", \"Topic42\", \"Topic42\", \"Topic42\", \"Topic42\", \"Topic42\", \"Topic42\", \"Topic42\", \"Topic42\", \"Topic42\", \"Topic42\", \"Topic42\", \"Topic42\", \"Topic42\", \"Topic43\", \"Topic43\", \"Topic43\", \"Topic43\", \"Topic43\", \"Topic43\", \"Topic43\", \"Topic43\", \"Topic43\", \"Topic43\", \"Topic43\", \"Topic43\", \"Topic43\", \"Topic43\", \"Topic43\", \"Topic43\", \"Topic43\", \"Topic43\", \"Topic43\", \"Topic43\", \"Topic43\", \"Topic43\", \"Topic43\", \"Topic43\", \"Topic43\", \"Topic43\", \"Topic43\", \"Topic43\", \"Topic43\", \"Topic43\", \"Topic43\", \"Topic43\", \"Topic44\", \"Topic44\", \"Topic44\", \"Topic44\", \"Topic44\", \"Topic44\", \"Topic44\", \"Topic44\", \"Topic44\", \"Topic44\", \"Topic44\", \"Topic44\", \"Topic44\", \"Topic44\", \"Topic44\", \"Topic44\", \"Topic44\", \"Topic44\", \"Topic44\", \"Topic44\", \"Topic44\", \"Topic44\", \"Topic44\", \"Topic44\", \"Topic44\", \"Topic44\", \"Topic44\", \"Topic44\", \"Topic44\", \"Topic44\", \"Topic44\", \"Topic44\", \"Topic44\", \"Topic45\", \"Topic45\", \"Topic45\", \"Topic45\", \"Topic45\", \"Topic45\", \"Topic45\", \"Topic45\", \"Topic45\", \"Topic45\", \"Topic45\", \"Topic45\", \"Topic45\", \"Topic45\", \"Topic45\", \"Topic45\", \"Topic45\", \"Topic45\", \"Topic45\", \"Topic45\", \"Topic45\", \"Topic45\", \"Topic45\", \"Topic45\", \"Topic45\", \"Topic45\", \"Topic45\", \"Topic45\", \"Topic45\", \"Topic45\", \"Topic45\", \"Topic45\", \"Topic45\", \"Topic45\", \"Topic45\", \"Topic45\", \"Topic45\", \"Topic45\", \"Topic45\", \"Topic46\", \"Topic46\", \"Topic46\", \"Topic46\", \"Topic46\", \"Topic46\", \"Topic46\", \"Topic46\", \"Topic46\", \"Topic46\", \"Topic46\", \"Topic46\", \"Topic46\", \"Topic46\", \"Topic46\", \"Topic46\", \"Topic46\", \"Topic46\", \"Topic46\", \"Topic46\", \"Topic46\", \"Topic46\", \"Topic46\", \"Topic46\", \"Topic46\", \"Topic46\", \"Topic46\", \"Topic46\", \"Topic46\", \"Topic46\", \"Topic46\", \"Topic46\", \"Topic46\", \"Topic46\", \"Topic46\", \"Topic46\", \"Topic47\", \"Topic47\", \"Topic47\", \"Topic47\", \"Topic47\", \"Topic47\", \"Topic47\", \"Topic47\", \"Topic47\", \"Topic47\", \"Topic47\", \"Topic47\", \"Topic47\", \"Topic47\", \"Topic47\", \"Topic47\", \"Topic47\", \"Topic47\", \"Topic47\", \"Topic47\", \"Topic47\", \"Topic47\", \"Topic47\", \"Topic47\", \"Topic47\", \"Topic47\", \"Topic47\", \"Topic47\", \"Topic47\", \"Topic47\", \"Topic47\", \"Topic47\", \"Topic48\", \"Topic48\", \"Topic48\", \"Topic48\", \"Topic48\", \"Topic48\", \"Topic48\", \"Topic48\", \"Topic48\", \"Topic48\", \"Topic48\", \"Topic48\", \"Topic48\", \"Topic48\", \"Topic48\", \"Topic48\", \"Topic48\", \"Topic48\", \"Topic48\", \"Topic48\", \"Topic48\", \"Topic48\", \"Topic48\", \"Topic48\", \"Topic48\", \"Topic48\", \"Topic48\", \"Topic48\", \"Topic48\", \"Topic48\", \"Topic48\", \"Topic48\", \"Topic48\", \"Topic49\", \"Topic49\", \"Topic49\", \"Topic49\", \"Topic49\", \"Topic49\", \"Topic49\", \"Topic49\", \"Topic49\", \"Topic49\", \"Topic49\", \"Topic49\", \"Topic49\", \"Topic49\", \"Topic49\", \"Topic49\", \"Topic49\", \"Topic49\", \"Topic49\", \"Topic49\", \"Topic49\", \"Topic49\", \"Topic49\", \"Topic49\", \"Topic49\", \"Topic49\", \"Topic49\", \"Topic49\", \"Topic49\", \"Topic49\", \"Topic49\", \"Topic49\", \"Topic49\", \"Topic49\", \"Topic49\", \"Topic50\", \"Topic50\", \"Topic50\", \"Topic50\", \"Topic50\", \"Topic50\", \"Topic50\", \"Topic50\", \"Topic50\", \"Topic50\", \"Topic50\", \"Topic50\", \"Topic50\", \"Topic50\", \"Topic50\", \"Topic50\", \"Topic50\", \"Topic50\", \"Topic50\", \"Topic50\", \"Topic50\", \"Topic50\", \"Topic50\", \"Topic50\", \"Topic50\", \"Topic50\", \"Topic50\", \"Topic50\", \"Topic50\", \"Topic50\", \"Topic50\", \"Topic50\", \"Topic50\", \"Topic50\", \"Topic51\", \"Topic51\", \"Topic51\", \"Topic51\", \"Topic51\", \"Topic51\", \"Topic51\", \"Topic51\", \"Topic51\", \"Topic51\", \"Topic51\", \"Topic51\", \"Topic51\", \"Topic51\", \"Topic51\", \"Topic51\", \"Topic51\", \"Topic51\", \"Topic51\", \"Topic51\", \"Topic51\", \"Topic51\", \"Topic51\", \"Topic51\", \"Topic51\", \"Topic51\", \"Topic51\", \"Topic51\", \"Topic51\", \"Topic51\", \"Topic51\", \"Topic52\", \"Topic52\", \"Topic52\", \"Topic52\", \"Topic52\", \"Topic52\", \"Topic52\", \"Topic52\", \"Topic52\", \"Topic52\", \"Topic52\", \"Topic52\", \"Topic52\", \"Topic52\", \"Topic52\", \"Topic52\", \"Topic52\", \"Topic52\", \"Topic52\", \"Topic52\", \"Topic52\", \"Topic52\", \"Topic52\", \"Topic52\", \"Topic52\", \"Topic52\", \"Topic52\", \"Topic52\", \"Topic52\", \"Topic52\", \"Topic52\", \"Topic53\", \"Topic53\", \"Topic53\", \"Topic53\", \"Topic53\", \"Topic53\", \"Topic53\", \"Topic53\", \"Topic53\", \"Topic53\", \"Topic53\", \"Topic53\", \"Topic53\", \"Topic53\", \"Topic53\", \"Topic53\", \"Topic53\", \"Topic53\", \"Topic53\", \"Topic53\", \"Topic53\", \"Topic53\", \"Topic53\", \"Topic53\", \"Topic53\", \"Topic53\", \"Topic53\", \"Topic53\", \"Topic53\", \"Topic53\", \"Topic53\", \"Topic54\", \"Topic54\", \"Topic54\", \"Topic54\", \"Topic54\", \"Topic54\", \"Topic54\", \"Topic54\", \"Topic54\", \"Topic54\", \"Topic54\", \"Topic54\", \"Topic54\", \"Topic54\", \"Topic54\", \"Topic54\", \"Topic54\", \"Topic54\", \"Topic54\", \"Topic54\", \"Topic54\", \"Topic54\", \"Topic54\", \"Topic54\", \"Topic54\", \"Topic54\", \"Topic54\", \"Topic54\", \"Topic54\", \"Topic54\", \"Topic54\", \"Topic55\", \"Topic55\", \"Topic55\", \"Topic55\", \"Topic55\", \"Topic55\", \"Topic55\", \"Topic55\", \"Topic55\", \"Topic55\", \"Topic55\", \"Topic55\", \"Topic55\", \"Topic55\", \"Topic55\", \"Topic55\", \"Topic55\", \"Topic55\", \"Topic55\", \"Topic55\", \"Topic55\", \"Topic55\", \"Topic55\", \"Topic55\", \"Topic55\", \"Topic55\", \"Topic55\", \"Topic55\", \"Topic55\", \"Topic55\", \"Topic55\", \"Topic55\", \"Topic55\", \"Topic55\", \"Topic56\", \"Topic56\", \"Topic56\", \"Topic56\", \"Topic56\", \"Topic56\", \"Topic56\", \"Topic56\", \"Topic56\", \"Topic56\", \"Topic56\", \"Topic56\", \"Topic56\", \"Topic56\", \"Topic56\", \"Topic56\", \"Topic56\", \"Topic56\", \"Topic56\", \"Topic56\", \"Topic56\", \"Topic56\", \"Topic56\", \"Topic56\", \"Topic56\", \"Topic56\", \"Topic56\", \"Topic56\", \"Topic56\", \"Topic56\", \"Topic56\", \"Topic56\", \"Topic56\", \"Topic56\", \"Topic56\", \"Topic57\", \"Topic57\", \"Topic57\", \"Topic57\", \"Topic57\", \"Topic57\", \"Topic57\", \"Topic57\", \"Topic57\", \"Topic57\", \"Topic57\", \"Topic57\", \"Topic57\", \"Topic57\", \"Topic57\", \"Topic57\", \"Topic57\", \"Topic57\", \"Topic57\", \"Topic57\", \"Topic57\", \"Topic57\", \"Topic57\", \"Topic57\", \"Topic57\", \"Topic57\", \"Topic57\", \"Topic57\", \"Topic57\", \"Topic57\", \"Topic57\", \"Topic58\", \"Topic58\", \"Topic58\", \"Topic58\", \"Topic58\", \"Topic58\", \"Topic58\", \"Topic58\", \"Topic58\", \"Topic58\", \"Topic58\", \"Topic58\", \"Topic58\", \"Topic58\", \"Topic58\", \"Topic58\", \"Topic58\", \"Topic58\", \"Topic58\", \"Topic58\", \"Topic58\", \"Topic58\", \"Topic58\", \"Topic58\", \"Topic58\", \"Topic58\", \"Topic58\", \"Topic58\", \"Topic58\", \"Topic58\", \"Topic58\", \"Topic59\", \"Topic59\", \"Topic59\", \"Topic59\", \"Topic59\", \"Topic59\", \"Topic59\", \"Topic59\", \"Topic59\", \"Topic59\", \"Topic59\", \"Topic59\", \"Topic59\", \"Topic59\", \"Topic59\", \"Topic59\", \"Topic59\", \"Topic59\", \"Topic59\", \"Topic59\", \"Topic59\", \"Topic59\", \"Topic59\", \"Topic59\", \"Topic59\", \"Topic59\", \"Topic59\", \"Topic59\", \"Topic59\", \"Topic59\", \"Topic59\", \"Topic59\", \"Topic59\", \"Topic60\", \"Topic60\", \"Topic60\", \"Topic60\", \"Topic60\", \"Topic60\", \"Topic60\", \"Topic60\", \"Topic60\", \"Topic60\", \"Topic60\", \"Topic60\", \"Topic60\", \"Topic60\", \"Topic60\", \"Topic60\", \"Topic60\", \"Topic60\", \"Topic60\", \"Topic60\", \"Topic60\", \"Topic60\", \"Topic60\", \"Topic60\", \"Topic60\", \"Topic60\", \"Topic60\", \"Topic60\", \"Topic60\", \"Topic60\", \"Topic60\", \"Topic60\", \"Topic60\", \"Topic60\", \"Topic60\", \"Topic61\", \"Topic61\", \"Topic61\", \"Topic61\", \"Topic61\", \"Topic61\", \"Topic61\", \"Topic61\", \"Topic61\", \"Topic61\", \"Topic61\", \"Topic61\", \"Topic61\", \"Topic61\", \"Topic61\", \"Topic61\", \"Topic61\", \"Topic61\", \"Topic61\", \"Topic61\", \"Topic61\", \"Topic61\", \"Topic61\", \"Topic61\", \"Topic61\", \"Topic61\", \"Topic61\", \"Topic61\", \"Topic61\", \"Topic61\", \"Topic61\", \"Topic61\", \"Topic61\", \"Topic61\", \"Topic61\", \"Topic62\", \"Topic62\", \"Topic62\", \"Topic62\", \"Topic62\", \"Topic62\", \"Topic62\", \"Topic62\", \"Topic62\", \"Topic62\", \"Topic62\", \"Topic62\", \"Topic62\", \"Topic62\", \"Topic62\", \"Topic62\", \"Topic62\", \"Topic62\", \"Topic62\", \"Topic62\", \"Topic62\", \"Topic62\", \"Topic62\", \"Topic62\", \"Topic62\", \"Topic62\", \"Topic62\", \"Topic62\", \"Topic62\", \"Topic62\", \"Topic62\", \"Topic62\", \"Topic63\", \"Topic63\", \"Topic63\", \"Topic63\", \"Topic63\", \"Topic63\", \"Topic63\", \"Topic63\", \"Topic63\", \"Topic63\", \"Topic63\", \"Topic63\", \"Topic63\", \"Topic63\", \"Topic63\", \"Topic63\", \"Topic63\", \"Topic63\", \"Topic63\", \"Topic63\", \"Topic63\", \"Topic63\", \"Topic63\", \"Topic63\", \"Topic63\", \"Topic63\", \"Topic63\", \"Topic63\", \"Topic63\", \"Topic63\", \"Topic63\", \"Topic63\", \"Topic63\", \"Topic63\", \"Topic64\", \"Topic64\", \"Topic64\", \"Topic64\", \"Topic64\", \"Topic64\", \"Topic64\", \"Topic64\", \"Topic64\", \"Topic64\", \"Topic64\", \"Topic64\", \"Topic64\", \"Topic64\", \"Topic64\", \"Topic64\", \"Topic64\", \"Topic64\", \"Topic64\", \"Topic64\", \"Topic64\", \"Topic64\", \"Topic64\", \"Topic64\", \"Topic64\", \"Topic64\", \"Topic64\", \"Topic64\", \"Topic64\", \"Topic64\", \"Topic64\", \"Topic64\", \"Topic64\", \"Topic65\", \"Topic65\", \"Topic65\", \"Topic65\", \"Topic65\", \"Topic65\", \"Topic65\", \"Topic65\", \"Topic65\", \"Topic65\", \"Topic65\", \"Topic65\", \"Topic65\", \"Topic65\", \"Topic65\", \"Topic65\", \"Topic65\", \"Topic65\", \"Topic65\", \"Topic65\", \"Topic65\", \"Topic65\", \"Topic65\", \"Topic65\", \"Topic65\", \"Topic65\", \"Topic65\", \"Topic65\", \"Topic65\", \"Topic65\", \"Topic65\", \"Topic66\", \"Topic66\", \"Topic66\", \"Topic66\", \"Topic66\", \"Topic66\", \"Topic66\", \"Topic66\", \"Topic66\", \"Topic66\", \"Topic66\", \"Topic66\", \"Topic66\", \"Topic66\", \"Topic66\", \"Topic66\", \"Topic66\", \"Topic66\", \"Topic66\", \"Topic66\", \"Topic66\", \"Topic66\", \"Topic66\", \"Topic66\", \"Topic66\", \"Topic66\", \"Topic66\", \"Topic66\", \"Topic66\", \"Topic66\", \"Topic66\", \"Topic66\", \"Topic66\", \"Topic67\", \"Topic67\", \"Topic67\", \"Topic67\", \"Topic67\", \"Topic67\", \"Topic67\", \"Topic67\", \"Topic67\", \"Topic67\", \"Topic67\", \"Topic67\", \"Topic67\", \"Topic67\", \"Topic67\", \"Topic67\", \"Topic67\", \"Topic67\", \"Topic67\", \"Topic67\", \"Topic67\", \"Topic67\", \"Topic67\", \"Topic67\", \"Topic67\", \"Topic67\", \"Topic67\", \"Topic67\", \"Topic67\", \"Topic67\", \"Topic67\", \"Topic67\", \"Topic67\", \"Topic68\", \"Topic68\", \"Topic68\", \"Topic68\", \"Topic68\", \"Topic68\", \"Topic68\", \"Topic68\", \"Topic68\", \"Topic68\", \"Topic68\", \"Topic68\", \"Topic68\", \"Topic68\", \"Topic68\", \"Topic68\", \"Topic68\", \"Topic68\", \"Topic68\", \"Topic68\", \"Topic68\", \"Topic68\", \"Topic68\", \"Topic68\", \"Topic68\", \"Topic68\", \"Topic68\", \"Topic68\", \"Topic68\", \"Topic68\", \"Topic68\", \"Topic68\", \"Topic68\", \"Topic69\", \"Topic69\", \"Topic69\", \"Topic69\", \"Topic69\", \"Topic69\", \"Topic69\", \"Topic69\", \"Topic69\", \"Topic69\", \"Topic69\", \"Topic69\", \"Topic69\", \"Topic69\", \"Topic69\", \"Topic69\", \"Topic69\", \"Topic69\", \"Topic69\", \"Topic69\", \"Topic69\", \"Topic69\", \"Topic69\", \"Topic69\", \"Topic69\", \"Topic69\", \"Topic69\", \"Topic69\", \"Topic69\", \"Topic69\", \"Topic69\", \"Topic69\", \"Topic70\", \"Topic70\", \"Topic70\", \"Topic70\", \"Topic70\", \"Topic70\", \"Topic70\", \"Topic70\", \"Topic70\", \"Topic70\", \"Topic70\", \"Topic70\", \"Topic70\", \"Topic70\", \"Topic70\", \"Topic70\", \"Topic70\", \"Topic70\", \"Topic70\", \"Topic70\", \"Topic70\", \"Topic70\", \"Topic70\", \"Topic70\", \"Topic70\", \"Topic70\", \"Topic70\", \"Topic70\", \"Topic70\", \"Topic70\", \"Topic70\", \"Topic71\", \"Topic71\", \"Topic71\", \"Topic71\", \"Topic71\", \"Topic71\", \"Topic71\", \"Topic71\", \"Topic71\", \"Topic71\", \"Topic71\", \"Topic71\", \"Topic71\", \"Topic71\", \"Topic71\", \"Topic71\", \"Topic71\", \"Topic71\", \"Topic71\", \"Topic71\", \"Topic71\", \"Topic71\", \"Topic71\", \"Topic71\", \"Topic71\", \"Topic71\", \"Topic71\", \"Topic71\", \"Topic71\", \"Topic71\", \"Topic71\", \"Topic71\", \"Topic71\", \"Topic71\", \"Topic71\", \"Topic72\", \"Topic72\", \"Topic72\", \"Topic72\", \"Topic72\", \"Topic72\", \"Topic72\", \"Topic72\", \"Topic72\", \"Topic72\", \"Topic72\", \"Topic72\", \"Topic72\", \"Topic72\", \"Topic72\", \"Topic72\", \"Topic72\", \"Topic72\", \"Topic72\", \"Topic72\", \"Topic72\", \"Topic72\", \"Topic72\", \"Topic72\", \"Topic72\", \"Topic72\", \"Topic72\", \"Topic72\", \"Topic72\", \"Topic72\", \"Topic72\", \"Topic72\", \"Topic72\", \"Topic72\", \"Topic72\", \"Topic72\", \"Topic73\", \"Topic73\", \"Topic73\", \"Topic73\", \"Topic73\", \"Topic73\", \"Topic73\", \"Topic73\", \"Topic73\", \"Topic73\", \"Topic73\", \"Topic73\", \"Topic73\", \"Topic73\", \"Topic73\", \"Topic73\", \"Topic73\", \"Topic73\", \"Topic73\", \"Topic73\", \"Topic73\", \"Topic73\", \"Topic73\", \"Topic73\", \"Topic73\", \"Topic73\", \"Topic73\", \"Topic73\", \"Topic73\", \"Topic73\", \"Topic73\", \"Topic73\", \"Topic73\", \"Topic74\", \"Topic74\", \"Topic74\", \"Topic74\", \"Topic74\", \"Topic74\", \"Topic74\", \"Topic74\", \"Topic74\", \"Topic74\", \"Topic74\", \"Topic74\", \"Topic74\", \"Topic74\", \"Topic74\", \"Topic74\", \"Topic74\", \"Topic74\", \"Topic74\", \"Topic74\", \"Topic74\", \"Topic74\", \"Topic74\", \"Topic74\", \"Topic74\", \"Topic74\", \"Topic74\", \"Topic74\", \"Topic74\", \"Topic74\", \"Topic74\", \"Topic74\", \"Topic75\", \"Topic75\", \"Topic75\", \"Topic75\", \"Topic75\", \"Topic75\", \"Topic75\", \"Topic75\", \"Topic75\", \"Topic75\", \"Topic75\", \"Topic75\", \"Topic75\", \"Topic75\", \"Topic75\", \"Topic75\", \"Topic75\", \"Topic75\", \"Topic75\", \"Topic75\", \"Topic75\", \"Topic75\", \"Topic75\", \"Topic75\", \"Topic75\", \"Topic75\", \"Topic75\", \"Topic75\", \"Topic75\", \"Topic75\", \"Topic75\", \"Topic75\", \"Topic75\", \"Topic75\", \"Topic75\", \"Topic75\", \"Topic75\", \"Topic75\", \"Topic76\", \"Topic76\", \"Topic76\", \"Topic76\", \"Topic76\", \"Topic76\", \"Topic76\", \"Topic76\", \"Topic76\", \"Topic76\", \"Topic76\", \"Topic76\", \"Topic76\", \"Topic76\", \"Topic76\", \"Topic76\", \"Topic76\", \"Topic76\", \"Topic76\", \"Topic76\", \"Topic76\", \"Topic76\", \"Topic76\", \"Topic76\", \"Topic76\", \"Topic76\", \"Topic76\", \"Topic76\", \"Topic76\", \"Topic76\", \"Topic76\", \"Topic76\", \"Topic77\", \"Topic77\", \"Topic77\", \"Topic77\", \"Topic77\", \"Topic77\", \"Topic77\", \"Topic77\", \"Topic77\", \"Topic77\", \"Topic77\", \"Topic77\", \"Topic77\", \"Topic77\", \"Topic77\", \"Topic77\", \"Topic77\", \"Topic77\", \"Topic77\", \"Topic77\", \"Topic77\", \"Topic77\", \"Topic77\", \"Topic77\", \"Topic77\", \"Topic77\", \"Topic77\", \"Topic77\", \"Topic77\", \"Topic77\", \"Topic77\", \"Topic77\", \"Topic77\", \"Topic77\", \"Topic77\", \"Topic78\", \"Topic78\", \"Topic78\", \"Topic78\", \"Topic78\", \"Topic78\", \"Topic78\", \"Topic78\", \"Topic78\", \"Topic78\", \"Topic78\", \"Topic78\", \"Topic78\", \"Topic78\", \"Topic78\", \"Topic78\", \"Topic78\", \"Topic78\", \"Topic78\", \"Topic78\", \"Topic78\", \"Topic78\", \"Topic78\", \"Topic78\", \"Topic78\", \"Topic78\", \"Topic78\", \"Topic78\", \"Topic78\", \"Topic78\", \"Topic78\", \"Topic78\", \"Topic78\", \"Topic78\", \"Topic78\", \"Topic78\", \"Topic78\", \"Topic79\", \"Topic79\", \"Topic79\", \"Topic79\", \"Topic79\", \"Topic79\", \"Topic79\", \"Topic79\", \"Topic79\", \"Topic79\", \"Topic79\", \"Topic79\", \"Topic79\", \"Topic79\", \"Topic79\", \"Topic79\", \"Topic79\", \"Topic79\", \"Topic79\", \"Topic79\", \"Topic79\", \"Topic79\", \"Topic79\", \"Topic79\", \"Topic79\", \"Topic79\", \"Topic79\", \"Topic79\", \"Topic79\", \"Topic79\", \"Topic79\", \"Topic79\", \"Topic80\", \"Topic80\", \"Topic80\", \"Topic80\", \"Topic80\", \"Topic80\", \"Topic80\", \"Topic80\", \"Topic80\", \"Topic80\", \"Topic80\", \"Topic80\", \"Topic80\", \"Topic80\", \"Topic80\", \"Topic80\", \"Topic80\", \"Topic80\", \"Topic80\", \"Topic80\", \"Topic80\", \"Topic80\", \"Topic80\", \"Topic80\", \"Topic80\", \"Topic80\", \"Topic80\", \"Topic80\", \"Topic80\", \"Topic80\", \"Topic80\", \"Topic81\", \"Topic81\", \"Topic81\", \"Topic81\", \"Topic81\", \"Topic81\", \"Topic81\", \"Topic81\", \"Topic81\", \"Topic81\", \"Topic81\", \"Topic81\", \"Topic81\", \"Topic81\", \"Topic81\", \"Topic81\", \"Topic81\", \"Topic81\", \"Topic81\", \"Topic81\", \"Topic81\", \"Topic81\", \"Topic81\", \"Topic81\", \"Topic81\", \"Topic81\", \"Topic81\", \"Topic81\", \"Topic81\", \"Topic81\", \"Topic81\", \"Topic81\", \"Topic81\", \"Topic82\", \"Topic82\", \"Topic82\", \"Topic82\", \"Topic82\", \"Topic82\", \"Topic82\", \"Topic82\", \"Topic82\", \"Topic82\", \"Topic82\", \"Topic82\", \"Topic82\", \"Topic82\", \"Topic82\", \"Topic82\", \"Topic82\", \"Topic82\", \"Topic82\", \"Topic82\", \"Topic82\", \"Topic82\", \"Topic82\", \"Topic82\", \"Topic82\", \"Topic82\", \"Topic82\", \"Topic82\", \"Topic82\", \"Topic82\", \"Topic82\", \"Topic82\", \"Topic82\", \"Topic82\", \"Topic82\", \"Topic82\", \"Topic83\", \"Topic83\", \"Topic83\", \"Topic83\", \"Topic83\", \"Topic83\", \"Topic83\", \"Topic83\", \"Topic83\", \"Topic83\", \"Topic83\", \"Topic83\", \"Topic83\", \"Topic83\", \"Topic83\", \"Topic83\", \"Topic83\", \"Topic83\", \"Topic83\", \"Topic83\", \"Topic83\", \"Topic83\", \"Topic83\", \"Topic83\", \"Topic83\", \"Topic83\", \"Topic83\", \"Topic83\", \"Topic83\", \"Topic83\", \"Topic83\", \"Topic83\", \"Topic83\", \"Topic83\", \"Topic84\", \"Topic84\", \"Topic84\", \"Topic84\", \"Topic84\", \"Topic84\", \"Topic84\", \"Topic84\", \"Topic84\", \"Topic84\", \"Topic84\", \"Topic84\", \"Topic84\", \"Topic84\", \"Topic84\", \"Topic84\", \"Topic84\", \"Topic84\", \"Topic84\", \"Topic84\", \"Topic84\", \"Topic84\", \"Topic84\", \"Topic84\", \"Topic84\", \"Topic84\", \"Topic84\", \"Topic84\", \"Topic84\", \"Topic84\", \"Topic84\", \"Topic84\", \"Topic84\", \"Topic84\", \"Topic85\", \"Topic85\", \"Topic85\", \"Topic85\", \"Topic85\", \"Topic85\", \"Topic85\", \"Topic85\", \"Topic85\", \"Topic85\", \"Topic85\", \"Topic85\", \"Topic85\", \"Topic85\", \"Topic85\", \"Topic85\", \"Topic85\", \"Topic85\", \"Topic85\", \"Topic85\", \"Topic85\", \"Topic85\", \"Topic85\", \"Topic85\", \"Topic85\", \"Topic85\", \"Topic85\", \"Topic85\", \"Topic85\", \"Topic85\", \"Topic85\", \"Topic85\", \"Topic86\", \"Topic86\", \"Topic86\", \"Topic86\", \"Topic86\", \"Topic86\", \"Topic86\", \"Topic86\", \"Topic86\", \"Topic86\", \"Topic86\", \"Topic86\", \"Topic86\", \"Topic86\", \"Topic86\", \"Topic86\", \"Topic86\", \"Topic86\", \"Topic86\", \"Topic86\", \"Topic86\", \"Topic86\", \"Topic86\", \"Topic86\", \"Topic86\", \"Topic86\", \"Topic86\", \"Topic86\", \"Topic86\", \"Topic86\", \"Topic86\", \"Topic86\", \"Topic86\", \"Topic86\", \"Topic87\", \"Topic87\", \"Topic87\", \"Topic87\", \"Topic87\", \"Topic87\", \"Topic87\", \"Topic87\", \"Topic87\", \"Topic87\", \"Topic87\", \"Topic87\", \"Topic87\", \"Topic87\", \"Topic87\", \"Topic87\", \"Topic87\", \"Topic87\", \"Topic87\", \"Topic87\", \"Topic87\", \"Topic87\", \"Topic87\", \"Topic87\", \"Topic87\", \"Topic87\", \"Topic87\", \"Topic87\", \"Topic87\", \"Topic87\", \"Topic87\", \"Topic88\", \"Topic88\", \"Topic88\", \"Topic88\", \"Topic88\", \"Topic88\", \"Topic88\", \"Topic88\", \"Topic88\", \"Topic88\", \"Topic88\", \"Topic88\", \"Topic88\", \"Topic88\", \"Topic88\", \"Topic88\", \"Topic88\", \"Topic88\", \"Topic88\", \"Topic88\", \"Topic88\", \"Topic88\", \"Topic88\", \"Topic88\", \"Topic88\", \"Topic88\", \"Topic88\", \"Topic88\", \"Topic88\", \"Topic88\", \"Topic88\", \"Topic88\", \"Topic89\", \"Topic89\", \"Topic89\", \"Topic89\", \"Topic89\", \"Topic89\", \"Topic89\", \"Topic89\", \"Topic89\", \"Topic89\", \"Topic89\", \"Topic89\", \"Topic89\", \"Topic89\", \"Topic89\", \"Topic89\", \"Topic89\", \"Topic89\", \"Topic89\", \"Topic89\", \"Topic89\", \"Topic89\", \"Topic89\", \"Topic89\", \"Topic89\", \"Topic89\", \"Topic89\", \"Topic89\", \"Topic89\", \"Topic89\", \"Topic89\", \"Topic89\", \"Topic89\", \"Topic89\", \"Topic90\", \"Topic90\", \"Topic90\", \"Topic90\", \"Topic90\", \"Topic90\", \"Topic90\", \"Topic90\", \"Topic90\", \"Topic90\", \"Topic90\", \"Topic90\", \"Topic90\", \"Topic90\", \"Topic90\", \"Topic90\", \"Topic90\", \"Topic90\", \"Topic90\", \"Topic90\", \"Topic90\", \"Topic90\", \"Topic90\", \"Topic90\", \"Topic90\", \"Topic90\", \"Topic90\", \"Topic90\", \"Topic90\", \"Topic90\", \"Topic90\", \"Topic90\", \"Topic90\", \"Topic90\", \"Topic90\", \"Topic91\", \"Topic91\", \"Topic91\", \"Topic91\", \"Topic91\", \"Topic91\", \"Topic91\", \"Topic91\", \"Topic91\", \"Topic91\", \"Topic91\", \"Topic91\", \"Topic91\", \"Topic91\", \"Topic91\", \"Topic91\", \"Topic91\", \"Topic91\", \"Topic91\", \"Topic91\", \"Topic91\", \"Topic91\", \"Topic91\", \"Topic91\", \"Topic91\", \"Topic91\", \"Topic91\", \"Topic91\", \"Topic91\", \"Topic91\", \"Topic91\", \"Topic91\", \"Topic91\", \"Topic92\", \"Topic92\", \"Topic92\", \"Topic92\", \"Topic92\", \"Topic92\", \"Topic92\", \"Topic92\", \"Topic92\", \"Topic92\", \"Topic92\", \"Topic92\", \"Topic92\", \"Topic92\", \"Topic92\", \"Topic92\", \"Topic92\", \"Topic92\", \"Topic92\", \"Topic92\", \"Topic92\", \"Topic92\", \"Topic92\", \"Topic92\", \"Topic92\", \"Topic92\", \"Topic92\", \"Topic92\", \"Topic92\", \"Topic92\", \"Topic92\", \"Topic92\", \"Topic92\", \"Topic93\", \"Topic93\", \"Topic93\", \"Topic93\", \"Topic93\", \"Topic93\", \"Topic93\", \"Topic93\", \"Topic93\", \"Topic93\", \"Topic93\", \"Topic93\", \"Topic93\", \"Topic93\", \"Topic93\", \"Topic93\", \"Topic93\", \"Topic93\", \"Topic93\", \"Topic93\", \"Topic93\", \"Topic93\", \"Topic93\", \"Topic93\", \"Topic93\", \"Topic93\", \"Topic93\", \"Topic93\", \"Topic93\", \"Topic93\", \"Topic93\", \"Topic93\", \"Topic94\", \"Topic94\", \"Topic94\", \"Topic94\", \"Topic94\", \"Topic94\", \"Topic94\", \"Topic94\", \"Topic94\", \"Topic94\", \"Topic94\", \"Topic94\", \"Topic94\", \"Topic94\", \"Topic94\", \"Topic94\", \"Topic94\", \"Topic94\", \"Topic94\", \"Topic94\", \"Topic94\", \"Topic94\", \"Topic94\", \"Topic94\", \"Topic94\", \"Topic94\", \"Topic94\", \"Topic94\", \"Topic94\", \"Topic94\", \"Topic95\", \"Topic95\", \"Topic95\", \"Topic95\", \"Topic95\", \"Topic95\", \"Topic95\", \"Topic95\", \"Topic95\", \"Topic95\", \"Topic95\", \"Topic95\", \"Topic95\", \"Topic95\", \"Topic95\", \"Topic95\", \"Topic95\", \"Topic95\", \"Topic95\", \"Topic95\", \"Topic95\", \"Topic95\", \"Topic95\", \"Topic95\", \"Topic95\", \"Topic95\", \"Topic95\", \"Topic95\", \"Topic95\", \"Topic95\", \"Topic95\", \"Topic95\", \"Topic95\", \"Topic96\", \"Topic96\", \"Topic96\", \"Topic96\", \"Topic96\", \"Topic96\", \"Topic96\", \"Topic96\", \"Topic96\", \"Topic96\", \"Topic96\", \"Topic96\", \"Topic96\", \"Topic96\", \"Topic96\", \"Topic96\", \"Topic96\", \"Topic96\", \"Topic96\", \"Topic96\", \"Topic96\", \"Topic96\", \"Topic96\", \"Topic96\", \"Topic96\", \"Topic96\", \"Topic96\", \"Topic96\", \"Topic96\", \"Topic96\", \"Topic96\", \"Topic96\", \"Topic96\", \"Topic97\", \"Topic97\", \"Topic97\", \"Topic97\", \"Topic97\", \"Topic97\", \"Topic97\", \"Topic97\", \"Topic97\", \"Topic97\", \"Topic97\", \"Topic97\", \"Topic97\", \"Topic97\", \"Topic97\", \"Topic97\", \"Topic97\", \"Topic97\", \"Topic97\", \"Topic97\", \"Topic97\", \"Topic97\", \"Topic97\", \"Topic97\", \"Topic97\", \"Topic97\", \"Topic97\", \"Topic97\", \"Topic97\", \"Topic97\", \"Topic97\", \"Topic97\", \"Topic97\", \"Topic98\", \"Topic98\", \"Topic98\", \"Topic98\", \"Topic98\", \"Topic98\", \"Topic98\", \"Topic98\", \"Topic98\", \"Topic98\", \"Topic98\", \"Topic98\", \"Topic98\", \"Topic98\", \"Topic98\", \"Topic98\", \"Topic98\", \"Topic98\", \"Topic98\", \"Topic98\", \"Topic98\", \"Topic98\", \"Topic98\", \"Topic98\", \"Topic98\", \"Topic98\", \"Topic98\", \"Topic98\", \"Topic98\", \"Topic98\", \"Topic98\", \"Topic99\", \"Topic99\", \"Topic99\", \"Topic99\", \"Topic99\", \"Topic99\", \"Topic99\", \"Topic99\", \"Topic99\", \"Topic99\", \"Topic99\", \"Topic99\", \"Topic99\", \"Topic99\", \"Topic99\", \"Topic99\", \"Topic99\", \"Topic99\", \"Topic99\", \"Topic99\", \"Topic99\", \"Topic99\", \"Topic99\", \"Topic99\", \"Topic99\", \"Topic99\", \"Topic99\", \"Topic99\", \"Topic99\", \"Topic99\", \"Topic99\", \"Topic99\", \"Topic100\", \"Topic100\", \"Topic100\", \"Topic100\", \"Topic100\", \"Topic100\", \"Topic100\", \"Topic100\", \"Topic100\", \"Topic100\", \"Topic100\", \"Topic100\", \"Topic100\", \"Topic100\", \"Topic100\", \"Topic100\", \"Topic100\", \"Topic100\", \"Topic100\", \"Topic100\", \"Topic100\", \"Topic100\", \"Topic100\", \"Topic100\", \"Topic100\", \"Topic100\", \"Topic100\", \"Topic100\", \"Topic100\", \"Topic100\", \"Topic100\", \"Topic100\", \"Topic101\", \"Topic101\", \"Topic101\", \"Topic101\", \"Topic101\", \"Topic101\", \"Topic101\", \"Topic101\", \"Topic101\", \"Topic101\", \"Topic101\", \"Topic101\", \"Topic101\", \"Topic101\", \"Topic101\", \"Topic101\", \"Topic101\", \"Topic101\", \"Topic101\", \"Topic101\", \"Topic101\", \"Topic101\", \"Topic101\", \"Topic101\", \"Topic101\", \"Topic101\", \"Topic101\", \"Topic101\", \"Topic101\", \"Topic101\", \"Topic101\", \"Topic101\", \"Topic102\", \"Topic102\", \"Topic102\", \"Topic102\", \"Topic102\", \"Topic102\", \"Topic102\", \"Topic102\", \"Topic102\", \"Topic102\", \"Topic102\", \"Topic102\", \"Topic102\", \"Topic102\", \"Topic102\", \"Topic102\", \"Topic102\", \"Topic102\", \"Topic102\", \"Topic102\", \"Topic102\", \"Topic102\", \"Topic102\", \"Topic102\", \"Topic102\", \"Topic102\", \"Topic102\", \"Topic102\", \"Topic102\", \"Topic102\", \"Topic102\", \"Topic102\", \"Topic103\", \"Topic103\", \"Topic103\", \"Topic103\", \"Topic103\", \"Topic103\", \"Topic103\", \"Topic103\", \"Topic103\", \"Topic103\", \"Topic103\", \"Topic103\", \"Topic103\", \"Topic103\", \"Topic103\", \"Topic103\", \"Topic103\", \"Topic103\", \"Topic103\", \"Topic103\", \"Topic103\", \"Topic103\", \"Topic103\", \"Topic103\", \"Topic103\", \"Topic103\", \"Topic103\", \"Topic103\", \"Topic103\", \"Topic103\", \"Topic103\", \"Topic103\", \"Topic103\", \"Topic104\", \"Topic104\", \"Topic104\", \"Topic104\", \"Topic104\", \"Topic104\", \"Topic104\", \"Topic104\", \"Topic104\", \"Topic104\", \"Topic104\", \"Topic104\", \"Topic104\", \"Topic104\", \"Topic104\", \"Topic104\", \"Topic104\", \"Topic104\", \"Topic104\", \"Topic104\", \"Topic104\", \"Topic104\", \"Topic104\", \"Topic104\", \"Topic104\", \"Topic104\", \"Topic104\", \"Topic104\", \"Topic104\", \"Topic104\", \"Topic104\", \"Topic104\", \"Topic104\", \"Topic104\", \"Topic104\", \"Topic104\", \"Topic104\", \"Topic104\", \"Topic104\", \"Topic104\", \"Topic104\", \"Topic105\", \"Topic105\", \"Topic105\", \"Topic105\", \"Topic105\", \"Topic105\", \"Topic105\", \"Topic105\", \"Topic105\", \"Topic105\", \"Topic105\", \"Topic105\", \"Topic105\", \"Topic105\", \"Topic105\", \"Topic105\", \"Topic105\", \"Topic105\", \"Topic105\", \"Topic105\", \"Topic105\", \"Topic105\", \"Topic105\", \"Topic105\", \"Topic105\", \"Topic105\", \"Topic105\", \"Topic105\", \"Topic105\", \"Topic105\", \"Topic105\", \"Topic105\", \"Topic105\", \"Topic106\", \"Topic106\", \"Topic106\", \"Topic106\", \"Topic106\", \"Topic106\", \"Topic106\", \"Topic106\", \"Topic106\", \"Topic106\", \"Topic106\", \"Topic106\", \"Topic106\", \"Topic106\", \"Topic106\", \"Topic106\", \"Topic106\", \"Topic106\", \"Topic106\", \"Topic106\", \"Topic106\", \"Topic106\", \"Topic106\", \"Topic106\", \"Topic106\", \"Topic106\", \"Topic106\", \"Topic106\", \"Topic106\", \"Topic106\", \"Topic106\", \"Topic106\", \"Topic107\", \"Topic107\", \"Topic107\", \"Topic107\", \"Topic107\", \"Topic107\", \"Topic107\", \"Topic107\", \"Topic107\", \"Topic107\", \"Topic107\", \"Topic107\", \"Topic107\", \"Topic107\", \"Topic107\", \"Topic107\", \"Topic107\", \"Topic107\", \"Topic107\", \"Topic107\", \"Topic107\", \"Topic107\", \"Topic107\", \"Topic107\", \"Topic107\", \"Topic107\", \"Topic107\", \"Topic107\", \"Topic107\", \"Topic107\", \"Topic107\", \"Topic107\", \"Topic108\", \"Topic108\", \"Topic108\", \"Topic108\", \"Topic108\", \"Topic108\", \"Topic108\", \"Topic108\", \"Topic108\", \"Topic108\", \"Topic108\", \"Topic108\", \"Topic108\", \"Topic108\", \"Topic108\", \"Topic108\", \"Topic108\", \"Topic108\", \"Topic108\", \"Topic108\", \"Topic108\", \"Topic108\", \"Topic108\", \"Topic108\", \"Topic108\", \"Topic108\", \"Topic108\", \"Topic108\", \"Topic108\", \"Topic108\", \"Topic108\", \"Topic108\", \"Topic109\", \"Topic109\", \"Topic109\", \"Topic109\", \"Topic109\", \"Topic109\", \"Topic109\", \"Topic109\", \"Topic109\", \"Topic109\", \"Topic109\", \"Topic109\", \"Topic109\", \"Topic109\", \"Topic109\", \"Topic109\", \"Topic109\", \"Topic109\", \"Topic109\", \"Topic109\", \"Topic109\", \"Topic109\", \"Topic109\", \"Topic109\", \"Topic109\", \"Topic109\", \"Topic109\", \"Topic109\", \"Topic109\", \"Topic109\", \"Topic109\", \"Topic109\", \"Topic109\", \"Topic109\", \"Topic109\", \"Topic109\", \"Topic109\", \"Topic109\", \"Topic110\", \"Topic110\", \"Topic110\", \"Topic110\", \"Topic110\", \"Topic110\", \"Topic110\", \"Topic110\", \"Topic110\", \"Topic110\", \"Topic110\", \"Topic110\", \"Topic110\", \"Topic110\", \"Topic110\", \"Topic110\", \"Topic110\", \"Topic110\", \"Topic110\", \"Topic110\", \"Topic110\", \"Topic110\", \"Topic110\", \"Topic110\", \"Topic110\", \"Topic110\", \"Topic110\", \"Topic110\", \"Topic110\", \"Topic110\", \"Topic110\", \"Topic110\", \"Topic110\", \"Topic111\", \"Topic111\", \"Topic111\", \"Topic111\", \"Topic111\", \"Topic111\", \"Topic111\", \"Topic111\", \"Topic111\", \"Topic111\", \"Topic111\", \"Topic111\", \"Topic111\", \"Topic111\", \"Topic111\", \"Topic111\", \"Topic111\", \"Topic111\", \"Topic111\", \"Topic111\", \"Topic111\", \"Topic111\", \"Topic111\", \"Topic111\", \"Topic111\", \"Topic111\", \"Topic111\", \"Topic111\", \"Topic111\", \"Topic111\", \"Topic111\", \"Topic111\", \"Topic111\", \"Topic112\", \"Topic112\", \"Topic112\", \"Topic112\", \"Topic112\", \"Topic112\", \"Topic112\", \"Topic112\", \"Topic112\", \"Topic112\", \"Topic112\", \"Topic112\", \"Topic112\", \"Topic112\", \"Topic112\", \"Topic112\", \"Topic112\", \"Topic112\", \"Topic112\", \"Topic112\", \"Topic112\", \"Topic112\", \"Topic112\", \"Topic112\", \"Topic112\", \"Topic112\", \"Topic112\", \"Topic112\", \"Topic112\", \"Topic112\", \"Topic112\", \"Topic112\", \"Topic113\", \"Topic113\", \"Topic113\", \"Topic113\", \"Topic113\", \"Topic113\", \"Topic113\", \"Topic113\", \"Topic113\", \"Topic113\", \"Topic113\", \"Topic113\", \"Topic113\", \"Topic113\", \"Topic113\", \"Topic113\", \"Topic113\", \"Topic113\", \"Topic113\", \"Topic113\", \"Topic113\", \"Topic113\", \"Topic113\", \"Topic113\", \"Topic113\", \"Topic113\", \"Topic113\", \"Topic113\", \"Topic113\", \"Topic113\", \"Topic113\", \"Topic113\", \"Topic113\", \"Topic113\", \"Topic113\", \"Topic114\", \"Topic114\", \"Topic114\", \"Topic114\", \"Topic114\", \"Topic114\", \"Topic114\", \"Topic114\", \"Topic114\", \"Topic114\", \"Topic114\", \"Topic114\", \"Topic114\", \"Topic114\", \"Topic114\", \"Topic114\", \"Topic114\", \"Topic114\", \"Topic114\", \"Topic114\", \"Topic114\", \"Topic114\", \"Topic114\", \"Topic114\", \"Topic114\", \"Topic114\", \"Topic114\", \"Topic114\", \"Topic114\", \"Topic114\", \"Topic114\", \"Topic114\", \"Topic115\", \"Topic115\", \"Topic115\", \"Topic115\", \"Topic115\", \"Topic115\", \"Topic115\", \"Topic115\", \"Topic115\", \"Topic115\", \"Topic115\", \"Topic115\", \"Topic115\", \"Topic115\", \"Topic115\", \"Topic115\", \"Topic115\", \"Topic115\", \"Topic115\", \"Topic115\", \"Topic115\", \"Topic115\", \"Topic115\", \"Topic115\", \"Topic115\", \"Topic115\", \"Topic115\", \"Topic115\", \"Topic115\", \"Topic115\", \"Topic115\", \"Topic115\", \"Topic116\", \"Topic116\", \"Topic116\", \"Topic116\", \"Topic116\", \"Topic116\", \"Topic116\", \"Topic116\", \"Topic116\", \"Topic116\", \"Topic116\", \"Topic116\", \"Topic116\", \"Topic116\", \"Topic116\", \"Topic116\", \"Topic116\", \"Topic116\", \"Topic116\", \"Topic116\", \"Topic116\", \"Topic116\", \"Topic116\", \"Topic116\", \"Topic116\", \"Topic116\", \"Topic116\", \"Topic116\", \"Topic116\", \"Topic116\", \"Topic116\", \"Topic116\", \"Topic116\", \"Topic117\", \"Topic117\", \"Topic117\", \"Topic117\", \"Topic117\", \"Topic117\", \"Topic117\", \"Topic117\", \"Topic117\", \"Topic117\", \"Topic117\", \"Topic117\", \"Topic117\", \"Topic117\", \"Topic117\", \"Topic117\", \"Topic117\", \"Topic117\", \"Topic117\", \"Topic117\", \"Topic117\", \"Topic117\", \"Topic117\", \"Topic117\", \"Topic117\", \"Topic117\", \"Topic117\", \"Topic117\", \"Topic117\", \"Topic117\", \"Topic117\", \"Topic117\", \"Topic118\", \"Topic118\", \"Topic118\", \"Topic118\", \"Topic118\", \"Topic118\", \"Topic118\", \"Topic118\", \"Topic118\", \"Topic118\", \"Topic118\", \"Topic118\", \"Topic118\", \"Topic118\", \"Topic118\", \"Topic118\", \"Topic118\", \"Topic118\", \"Topic118\", \"Topic118\", \"Topic118\", \"Topic118\", \"Topic118\", \"Topic118\", \"Topic118\", \"Topic118\", \"Topic118\", \"Topic118\", \"Topic118\", \"Topic118\", \"Topic118\", \"Topic118\", \"Topic118\", \"Topic119\", \"Topic119\", \"Topic119\", \"Topic119\", \"Topic119\", \"Topic119\", \"Topic119\", \"Topic119\", \"Topic119\", \"Topic119\", \"Topic119\", \"Topic119\", \"Topic119\", \"Topic119\", \"Topic119\", \"Topic119\", \"Topic119\", \"Topic119\", \"Topic119\", \"Topic119\", \"Topic119\", \"Topic119\", \"Topic119\", \"Topic119\", \"Topic119\", \"Topic119\", \"Topic119\", \"Topic119\", \"Topic119\", \"Topic119\", \"Topic119\", \"Topic119\", \"Topic119\", \"Topic119\", \"Topic119\", \"Topic119\", \"Topic119\", \"Topic119\", \"Topic119\", \"Topic119\", \"Topic119\", \"Topic120\", \"Topic120\", \"Topic120\", \"Topic120\", \"Topic120\", \"Topic120\", \"Topic120\", \"Topic120\", \"Topic120\", \"Topic120\", \"Topic120\", \"Topic120\", \"Topic120\", \"Topic120\", \"Topic120\", \"Topic120\", \"Topic120\", \"Topic120\", \"Topic120\", \"Topic120\", \"Topic120\", \"Topic120\", \"Topic120\", \"Topic120\", \"Topic120\", \"Topic120\", \"Topic120\", \"Topic120\", \"Topic120\", \"Topic120\", \"Topic120\", \"Topic120\", \"Topic120\"], \"logprob\": [30.0, 29.0, 28.0, 27.0, 26.0, 25.0, 24.0, 23.0, 22.0, 21.0, 20.0, 19.0, 18.0, 17.0, 16.0, 15.0, 14.0, 13.0, 12.0, 11.0, 10.0, 9.0, 8.0, 7.0, 6.0, 5.0, 4.0, 3.0, 2.0, 1.0, -3.373800039291382, -3.8208000659942627, -4.61899995803833, -4.836999893188477, -5.01170015335083, -5.181399822235107, -5.261199951171875, -5.793700218200684, -5.859000205993652, -5.928199768066406, -5.982399940490723, -5.989500045776367, -6.245699882507324, -6.533899784088135, -6.651100158691406, -6.892199993133545, -7.001699924468994, -7.014900207519531, -7.085299968719482, -4.886300086975098, -7.353300094604492, -7.3744001388549805, -7.409999847412109, -7.430799961090088, -7.485599994659424, -7.603099822998047, -1.257099986076355, -7.8140997886657715, -7.823299884796143, -7.8678998947143555, -2.017899990081787, -0.9287999868392944, -4.241000175476074, -3.271899938583374, -1.7218999862670898, -2.0913000106811523, -2.4245998859405518, -2.495800018310547, -4.098800182342529, -4.327700138092041, -4.653200149536133, -4.876500129699707, -5.167399883270264, -5.1778998374938965, -5.228899955749512, -5.310500144958496, -5.360400199890137, -5.688199996948242, -5.722599983215332, -5.757800102233887, -5.8902997970581055, -5.926599979400635, -6.27209997177124, -6.428699970245361, -7.009699821472168, -7.100399971008301, -7.188700199127197, -7.252500057220459, -7.384399890899658, -7.681399822235107, -7.8805999755859375, -8.135100364685059, -8.23799991607666, -8.30090045928955, -4.0046000480651855, -2.026400089263916, -1.767899990081787, -2.3345000743865967, -1.9270999431610107, -1.9960999488830566, -2.581399917602539, -2.813199996948242, -2.9047000408172607, -3.0866000652313232, -3.120300054550171, -3.3004000186920166, -3.4370999336242676, -3.5929999351501465, -3.952500104904175, -4.257299900054932, -4.27209997177124, -4.378799915313721, -4.399700164794922, -4.632500171661377, -4.668099880218506, -4.715199947357178, -4.800000190734863, -4.8983001708984375, -5.0015997886657715, -5.062099933624268, -5.5040998458862305, -5.730400085449219, -5.790200233459473, -5.891499996185303, -5.898499965667725, -6.080599784851074, -6.104400157928467, -6.228099822998047, -3.198899984359741, -3.219399929046631, -4.761199951171875, -3.3141000270843506, -3.194000005722046, -1.2305999994277954, -3.0913000106811523, -3.4779999256134033, -4.028900146484375, -4.384200096130371, -4.743299961090088, -4.884200096130371, -4.992099761962891, -5.0, -5.20389986038208, -5.217800140380859, -5.558300018310547, -5.588699817657471, -5.666399955749512, -5.813600063323975, -6.035699844360352, -6.06279993057251, -6.07919979095459, -6.1209001541137695, -6.5167999267578125, -6.523399829864502, -6.550300121307373, -6.642499923706055, -6.684999942779541, -6.793000221252441, -1.3782999515533447, -6.927999973297119, -6.975599765777588, -7.1468000411987305, -7.15939998626709, -3.801500082015991, -3.802500009536743, -4.0279998779296875, -1.715000033378601, -4.902200222015381, -4.720600128173828, -0.9794999957084656, -3.0023999214172363, -3.0148000717163086, -3.476599931716919, -4.088200092315674, -4.521699905395508, -4.749499797821045, -4.820300102233887, -4.86299991607666, -5.0528998374938965, -5.13700008392334, -5.286499977111816, -5.353300094604492, -5.405799865722656, -5.427499771118164, -5.5731000900268555, -5.623000144958496, -5.8607001304626465, -5.9390997886657715, -5.9552001953125, -6.116199970245361, -6.1203999519348145, -6.315400123596191, -7.458199977874756, -7.697800159454346, -8.359800338745117, -2.610599994659424, -2.1805999279022217, -1.7310999631881714, -4.865799903869629, -1.4912999868392944, -2.2248001098632812, -2.4644999504089355, -2.7657999992370605, -3.017899990081787, -3.283099889755249, -3.692500114440918, -3.8343000411987305, -3.997499942779541, -4.345399856567383, -4.489099979400635, -4.576399803161621, -4.7530999183654785, -4.9878997802734375, -5.121600151062012, -5.367300033569336, -5.4253997802734375, -5.666299819946289, -5.870200157165527, -5.92579984664917, -6.033699989318848, -6.085599899291992, -6.174300193786621, -6.371500015258789, -6.407299995422363, -7.109799861907959, -7.4222002029418945, -8.156599998474121, -1.99590003490448, -5.352700233459473, -2.654400110244751, -2.9426000118255615, -0.7422999739646912, -1.8344000577926636, -2.928999900817871, -3.0100998878479004, -3.6844000816345215, -3.824399948120117, -3.9021999835968018, -4.000400066375732, -4.533899784088135, -4.791100025177002, -5.087399959564209, -5.529600143432617, -5.548699855804443, -5.646299839019775, -5.6596999168396, -5.723800182342529, -5.791100025177002, -5.811100006103516, -5.908899784088135, -6.01200008392334, -6.08620023727417, -6.096799850463867, -6.191199779510498, -6.557499885559082, -6.567699909210205, -6.659200191497803, -6.668300151824951, -7.658899784088135, -2.7844998836517334, -3.567699909210205, -1.4258999824523926, -2.1542999744415283, -2.764699935913086, -2.9899001121520996, -3.057300090789795, -3.1821000576019287, -3.352400064468384, -3.4588000774383545, -3.6414999961853027, -4.023499965667725, -4.060800075531006, -4.19350004196167, -4.261600017547607, -4.29580020904541, -4.4446001052856445, -4.484099864959717, -4.586699962615967, -5.054100036621094, -5.105100154876709, -5.273900032043457, -5.310400009155273, -5.341000080108643, -5.521999835968018, -5.607100009918213, -5.6585001945495605, -5.686299800872803, -5.9359002113342285, -5.97160005569458, -6.042900085449219, -6.332200050354004, -2.6473000049591064, -2.4217000007629395, -1.1088999509811401, -2.188999891281128, -2.984100103378296, -3.2727999687194824, -3.439199924468994, -4.195499897003174, -4.222300052642822, -4.249599933624268, -4.521599769592285, -4.527400016784668, -4.5507001876831055, -4.646699905395508, -4.664000034332275, -4.695000171661377, -4.763599872589111, -4.957699775695801, -4.959799766540527, -5.213600158691406, -5.347700119018555, -5.414599895477295, -5.45359992980957, -5.624599933624268, -6.390900135040283, -6.672299861907959, -6.6940999031066895, -3.4618000984191895, -1.9771000146865845, -2.3547000885009766, -13.732099533081055, -13.732099533081055, -13.732099533081055, -13.732099533081055, -13.732099533081055, -13.732099533081055, -13.732099533081055, -13.732099533081055, -13.732099533081055, -1.6922999620437622, -1.9625999927520752, -1.9976999759674072, -2.000499963760376, -4.139699935913086, -4.399499893188477, -4.434700012207031, -4.491000175476074, -4.680500030517578, -5.083899974822998, -5.093400001525879, -5.1082000732421875, -5.296199798583984, -5.463799953460693, -5.617599964141846, -6.613999843597412, -6.698500156402588, -6.731599807739258, -6.97599983215332, -7.298999786376953, -7.363500118255615, -7.415999889373779, -7.601399898529053, -1.8350000381469727, -2.0769999027252197, -13.64900016784668, -13.64900016784668, -13.64900016784668, -13.64900016784668, -13.64900016784668, -13.64900016784668, -13.64900016784668, -13.64900016784668, -13.64900016784668, -13.64900016784668, -1.6571999788284302, -2.2537999153137207, -2.669300079345703, -2.876699924468994, -3.0062999725341797, -3.5455000400543213, -4.121500015258789, -4.138299942016602, -4.252099990844727, -4.617499828338623, -4.912300109863281, -5.043499946594238, -5.1234002113342285, -5.211100101470947, -5.223299980163574, -5.646999835968018, -5.677199840545654, -5.873199939727783, -5.878499984741211, -6.190199851989746, -6.439700126647949, -6.844799995422363, -7.069799900054932, -2.5081000328063965, -2.660399913787842, -3.075200080871582, -2.2042999267578125, -2.6842000484466553, -13.719200134277344, -13.719200134277344, -13.719200134277344, -13.719200134277344, -13.719200134277344, -13.719200134277344, -13.719200134277344, -13.719200134277344, -13.719200134277344, -13.719200134277344, -13.719200134277344, -13.719200134277344, -0.9617000222206116, -3.201200008392334, -3.927799940109253, -4.149400234222412, -4.192599773406982, -4.2133002281188965, -4.2621002197265625, -4.265999794006348, -4.414000034332275, -4.49459981918335, -4.5019001960754395, -4.511099815368652, -4.950799942016602, -4.998199939727783, -5.030700206756592, -5.0345001220703125, -5.102499961853027, -5.287700176239014, -5.36359977722168, -5.369699954986572, -5.389999866485596, -5.462699890136719, -5.4928998947143555, -5.526700019836426, -5.5269999504089355, -5.657400131225586, -5.694900035858154, -5.742800235748291, -5.7957000732421875, -5.817500114440918, -3.9375998973846436, -3.1447999477386475, -1.9277000427246094, -2.3073999881744385, -0.9487000107765198, -2.7657999992370605, -3.328900098800659, -3.7983999252319336, -3.9138998985290527, -3.946700096130371, -4.065299987792969, -4.119500160217285, -4.188499927520752, -4.241099834442139, -4.333600044250488, -4.468500137329102, -4.518199920654297, -4.583099842071533, -4.620200157165527, -4.635499954223633, -4.897799968719482, -5.035600185394287, -5.070400238037109, -5.1855998039245605, -5.371399879455566, -5.429500102996826, -5.622499942779541, -5.777900218963623, -5.975200176239014, -6.245500087738037, -6.2677001953125, -6.50629997253418, -6.644100189208984, -4.3815999031066895, -1.947100043296814, -2.449399948120117, -4.541399955749512, -1.0408999919891357, -2.9946000576019287, -4.15500020980835, -4.592700004577637, -4.651000022888184, -4.672100067138672, -4.843400001525879, -5.014500141143799, -5.022600173950195, -5.026000022888184, -5.058899879455566, -5.174600124359131, -5.177499771118164, -5.219399929046631, -5.267499923706055, -5.326600074768066, -5.3368000984191895, -5.347599983215332, -5.353499889373779, -5.402599811553955, -5.70359992980957, -5.7195000648498535, -5.776599884033203, -5.80210018157959, -5.8815999031066895, -6.128699779510498, -6.146299839019775, -6.293900012969971, -6.388199806213379, -6.448699951171875, -5.269700050354004, -1.7050000429153442, -1.4972000122070312, -5.573500156402588, -4.643700122833252, -1.641800045967102, -3.1689000129699707, -3.35260009765625, -3.5757999420166016, -3.697999954223633, -3.744999885559082, -3.7743000984191895, -3.9102001190185547, -4.079500198364258, -4.079599857330322, -4.379300117492676, -4.707600116729736, -4.721399784088135, -4.804800033569336, -4.889900207519531, -5.037600040435791, -5.202400207519531, -5.2393999099731445, -5.282400131225586, -5.367599964141846, -5.368800163269043, -5.52400016784668, -5.661399841308594, -5.692800045013428, -5.71589994430542, -5.718599796295166, -5.731900215148926, -5.837900161743164, -5.966899871826172, -5.9695000648498535, -3.3659000396728516, -1.3295999765396118, -2.832900047302246, -2.7806999683380127, -4.594900131225586, -1.0770000219345093, -2.668100118637085, -2.739500045776367, -2.841900110244751, -3.015399932861328, -3.305299997329712, -3.800299882888794, -3.815999984741211, -3.9460999965667725, -4.382900238037109, -4.681700229644775, -4.7322001457214355, -4.752099990844727, -4.7835001945495605, -5.06220006942749, -5.063700199127197, -5.616199970245361, -5.852099895477295, -5.895999908447266, -6.012700080871582, -6.604000091552734, -2.0896999835968018, -2.3268001079559326, -13.53909969329834, -13.53909969329834, -13.53909969329834, -13.53909969329834, -13.53909969329834, -13.53909969329834, -13.53909969329834, -13.53909969329834, -13.53909969329834, -13.53909969329834, -13.53909969329834, -13.53909969329834, -13.53909969329834, -13.53909969329834, -13.53909969329834, -13.53909969329834, -13.53909969329834, -13.53909969329834, -13.53909969329834, -13.53909969329834, -13.53909969329834, -13.53909969329834, -13.53909969329834, -13.53909969329834, -13.53909969329834, -13.53909969329834, -13.53909969329834, -13.53909969329834, -13.53909969329834, -13.53909969329834, -13.53909969329834, -13.53909969329834, -13.53909969329834, -13.53909969329834, -13.53909969329834, -13.53909969329834, -2.4189000129699707, -3.591399908065796, -3.628999948501587, -3.9588000774383545, -3.9897000789642334, -4.025599956512451, -4.223499774932861, -4.259399890899658, -4.271999835968018, -4.349999904632568, -4.441699981689453, -4.519400119781494, -4.606500148773193, -4.7480998039245605, -4.785399913787842, -4.8983001708984375, -5.131700038909912, -5.139100074768066, -5.171899795532227, -5.203700065612793, -5.215099811553955, -5.216899871826172, -5.423799991607666, -5.426499843597412, -5.502399921417236, -5.5329999923706055, -5.738100051879883, -5.740799903869629, -5.771699905395508, -6.119999885559082, -2.816800117492676, -1.3918999433517456, -2.339200019836426, -2.224100112915039, -2.692500114440918, -5.15880012512207, -2.1445999145507812, -2.1695001125335693, -2.5785999298095703, -3.3408000469207764, -3.3608999252319336, -4.088099956512451, -4.557499885559082, -5.02269983291626, -5.058000087738037, -5.379899978637695, -5.524899959564209, -5.681700229644775, -5.884300231933594, -5.918700218200684, -6.013899803161621, -6.172500133514404, -6.206399917602539, -6.540500164031982, -6.628300189971924, -6.753300189971924, -6.786200046539307, -7.080100059509277, -1.1302000284194946, -8.26140022277832, -5.631800174713135, -1.6836999654769897, -13.541999816894531, -13.541999816894531, -13.541999816894531, -13.541999816894531, -4.071899890899658, -13.541999816894531, -13.541999816894531, -13.541999816894531, -13.541999816894531, -13.541999816894531, -13.541999816894531, -13.541999816894531, -13.541999816894531, -13.541999816894531, -13.541999816894531, -1.3467999696731567, -2.1363000869750977, -2.8729000091552734, -3.2149999141693115, -3.231100082397461, -3.7637999057769775, -3.9930999279022217, -4.047599792480469, -4.37060022354126, -4.409299850463867, -4.6930999755859375, -4.7957000732421875, -4.808899879455566, -4.8383002281188965, -4.865300178527832, -5.157899856567383, -5.17110013961792, -5.1803998947143555, -5.22189998626709, -5.393099784851074, -5.4745001792907715, -5.567299842834473, -5.597099781036377, -5.728099822998047, -5.749300003051758, -5.816100120544434, -5.888700008392334, -5.932000160217285, -5.977499961853027, -6.115200042724609, -2.4182000160217285, -1.9433000087738037, -4.077400207519531, -5.167200088500977, -5.051599979400635, -1.7007999420166016, -1.8166999816894531, -2.547800064086914, -2.768399953842163, -3.2841999530792236, -3.71560001373291, -3.938699960708618, -4.107999801635742, -4.205599784851074, -4.229800224304199, -4.254300117492676, -4.270599842071533, -4.279099941253662, -4.321499824523926, -4.580900192260742, -4.81220006942749, -5.031700134277344, -5.06850004196167, -5.185400009155273, -5.482699871063232, -5.69189977645874, -5.89769983291626, -5.910900115966797, -5.951499938964844, -6.160699844360352, -6.796000003814697, -2.4800000190734863, -7.073999881744385, -7.740900039672852, -4.4054999351501465, -2.5285000801086426, -2.6291000843048096, -1.7675000429153442, -2.3338000774383545, -2.483599901199341, -3.030900001525879, -3.239799976348877, -3.2423999309539795, -3.628700017929077, -3.760499954223633, -4.408100128173828, -4.4309000968933105, -4.45389986038208, -4.5345001220703125, -4.678899765014648, -4.76669979095459, -4.81689977645874, -4.880899906158447, -4.89739990234375, -4.985499858856201, -5.094399929046631, -5.148200035095215, -5.275700092315674, -5.4344000816345215, -5.5177001953125, -5.522299766540527, -5.5441999435424805, -5.6255998611450195, -5.662600040435791, -5.670100212097168, -5.670400142669678, -5.738800048828125, -2.3584001064300537, -2.258500099182129, -2.5897998809814453, -1.1739000082015991, -2.704900026321411, -2.786900043487549, -2.8450000286102295, -3.4955999851226807, -3.515500068664551, -3.6061999797821045, -3.972899913787842, -4.422500133514404, -4.525300025939941, -4.59689998626709, -4.599400043487549, -4.80210018157959, -4.877999782562256, -5.002500057220459, -5.093500137329102, -5.1346001625061035, -5.3221001625061035, -5.438199996948242, -5.54610013961792, -5.592700004577637, -5.694699764251709, -5.858500003814697, -5.984799861907959, -6.161399841308594, -6.207799911499023, -6.553500175476074, -6.716700077056885, -6.737100124359131, -7.083499908447266, -2.101599931716919, -2.1245999336242676, -4.131499767303467, -1.3255000114440918, -2.682499885559082, -3.050100088119507, -3.0590999126434326, -3.125699996948242, -3.240499973297119, -3.2792000770568848, -3.280400037765503, -3.4038000106811523, -3.5989999771118164, -3.6884000301361084, -3.8791000843048096, -3.90339994430542, -3.937999963760376, -4.092100143432617, -4.441500186920166, -4.587800025939941, -4.589000225067139, -4.708399772644043, -4.80210018157959, -4.827300071716309, -4.860000133514404, -4.921199798583984, -4.936600208282471, -4.949399948120117, -5.158100128173828, -5.244699954986572, -5.372099876403809, -5.40749979019165, -5.456999778747559, -4.109300136566162, -3.213200092315674, -3.483799934387207, -1.6629999876022339, -2.3989999294281006, -3.007200002670288, -3.0889999866485596, -3.165800094604492, -3.1807000637054443, -3.2613000869750977, -3.495800018310547, -3.565000057220459, -3.692199945449829, -3.8178000450134277, -3.830399990081787, -4.063499927520752, -4.378399848937988, -4.5883002281188965, -4.7108001708984375, -4.780700206756592, -4.787899971008301, -4.828400135040283, -4.866600036621094, -4.973199844360352, -5.012899875640869, -5.226600170135498, -5.235899925231934, -5.307799816131592, -5.318900108337402, -5.460899829864502, -5.479499816894531, -5.4980998039245605, -5.546500205993652, -2.3232998847961426, -2.821000099182129, -4.7480998039245605, -5.200500011444092, -0.8144000172615051, -2.2437000274658203, -3.3622000217437744, -3.3959999084472656, -3.5829999446868896, -3.9862000942230225, -4.201499938964844, -4.310500144958496, -4.518599987030029, -4.547599792480469, -4.6149001121521, -5.0802001953125, -5.1793999671936035, -5.201499938964844, -5.236199855804443, -5.3480000495910645, -5.357100009918213, -5.760000228881836, -5.774600028991699, -5.864200115203857, -6.081900119781494, -6.091300010681152, -6.468400001525879, -6.547299861907959, -6.697199821472168, -6.831399917602539, -6.832699775695801, -7.052299976348877, -2.587899923324585, -4.440700054168701, -2.368000030517578, -4.4375, -6.748300075531006, -1.549299955368042, -2.282900094985962, -2.308000087738037, -2.308799982070923, -2.428800106048584, -2.7672998905181885, -3.010499954223633, -3.27620005607605, -3.6435000896453857, -3.664299964904785, -3.746299982070923, -3.8538999557495117, -4.372499942779541, -4.61899995803833, -4.6442999839782715, -4.796599864959717, -4.886000156402588, -4.997799873352051, -5.019199848175049, -5.0904998779296875, -5.179599761962891, -5.228799819946289, -5.426499843597412, -5.4440999031066895, -5.632699966430664, -5.769999980926514, -5.935200214385986, -5.935200214385986, -5.944399833679199, -5.953400135040283, -4.31689977645874, -1.669100046157837, -2.1726999282836914, -2.7555999755859375, -2.8993000984191895, -3.9302000999450684, -4.23799991607666, -4.299900054931641, -4.3231000900268555, -4.333399772644043, -4.463500022888184, -4.583700180053711, -4.674900054931641, -4.69290018081665, -4.714300155639648, -4.795899868011475, -4.80620002746582, -4.913300037384033, -5.1707000732421875, -5.413000106811523, -5.41480016708374, -5.890100002288818, -6.108699798583984, -6.110300064086914, -6.434999942779541, -6.67710018157959, -3.3055999279022217, -7.132800102233887, -7.149799823760986, -7.149799823760986, -7.217199802398682, -2.0334999561309814, -2.2588000297546387, -2.640500068664551, -3.5627999305725098, -1.496500015258789, -2.8180999755859375, -3.464400053024292, -3.5425000190734863, -3.626800060272217, -3.9047000408172607, -4.005899906158447, -4.270899772644043, -4.339200019836426, -4.400000095367432, -4.487800121307373, -4.495299816131592, -4.571199893951416, -4.571800231933594, -4.73390007019043, -4.759500026702881, -4.815499782562256, -4.827400207519531, -4.833000183105469, -4.854599952697754, -4.888299942016602, -4.916900157928467, -4.994699954986572, -5.150599956512451, -5.2596001625061035, -5.2600998878479, -5.335000038146973, -5.525400161743164, -5.638299942016602, -5.736299991607666, -4.44379997253418, -4.127500057220459, -1.8553999662399292, -2.1561999320983887, -3.025099992752075, -1.5126999616622925, -1.843400001525879, -2.3845999240875244, -2.6421000957489014, -2.6975998878479004, -2.9653000831604004, -3.54010009765625, -3.9939000606536865, -4.220399856567383, -4.398099899291992, -4.460599899291992, -4.599100112915039, -4.704699993133545, -4.716400146484375, -4.759300231933594, -4.857500076293945, -4.948800086975098, -4.950900077819824, -4.968500137329102, -4.979400157928467, -5.084499835968018, -5.11359977722168, -5.145599842071533, -5.186999797821045, -5.3709001541137695, -5.641900062561035, -5.651299953460693, -5.776700019836426, -5.780900001525879, -6.000999927520752, -4.023799896240234, -5.3541998863220215, -3.5452001094818115, -3.857800006866455, -4.4583001136779785, -1.3945000171661377, -2.849400043487549, -2.9030001163482666, -3.06469988822937, -3.1303000450134277, -3.1854000091552734, -3.5476999282836914, -3.6916000843048096, -3.7060999870300293, -3.717600107192993, -3.915299892425537, -3.9618000984191895, -4.185800075531006, -4.258299827575684, -4.414100170135498, -4.432700157165527, -4.44290018081665, -4.445199966430664, -4.473199844360352, -4.477499961853027, -4.486800193786621, -4.491600036621094, -4.584499835968018, -4.812399864196777, -5.116399765014648, -5.201200008392334, -5.2108001708984375, -5.273200035095215, -5.4268999099731445, -5.474899768829346, -3.224100112915039, -4.212200164794922, -3.5274999141693115, -3.2076001167297363, -4.1381001472473145, -4.815299987792969, -1.448199987411499, -2.025099992752075, -2.0546998977661133, -2.3364999294281006, -2.60509991645813, -3.178100109100342, -3.434299945831299, -3.850100040435791, -4.176700115203857, -4.235599994659424, -4.39139986038208, -4.539000034332275, -4.650400161743164, -4.7291998863220215, -4.783899784088135, -4.802599906921387, -4.953700065612793, -5.098100185394287, -5.098599910736084, -5.155399799346924, -5.263899803161621, -5.669000148773193, -5.8282999992370605, -5.837100028991699, -5.905600070953369, -6.11929988861084, -6.64109992980957, -6.642099857330322, -6.903600215911865, -7.660799980163574, -3.143899917602539, -4.184800148010254, -4.3628997802734375, -1.3464000225067139, -2.8933000564575195, -2.9072999954223633, -2.9158999919891357, -2.9528000354766846, -3.808000087738037, -3.8397998809814453, -3.8703999519348145, -3.8763999938964844, -3.931299924850464, -4.166600227355957, -4.496200084686279, -5.134799957275391, -5.154799938201904, -5.2600998878479, -5.448400020599365, -5.531599998474121, -6.1641998291015625, -6.2221999168396, -6.297100067138672, -6.575900077819824, -3.778700113296509, -2.599100112915039, -3.6682000160217285, -5.741300106048584, -1.7660000324249268, -13.159799575805664, -13.159799575805664, -13.159799575805664, -13.159799575805664, -3.5452001094818115, -13.159799575805664, -13.159799575805664, -13.159799575805664, -13.159799575805664, -1.6782000064849854, -2.400399923324585, -2.54259991645813, -2.64739990234375, -2.810800075531006, -2.9245998859405518, -3.1352999210357666, -3.1989998817443848, -3.2955000400543213, -3.419600009918213, -3.5445001125335693, -3.6268999576568604, -3.899399995803833, -3.9730000495910645, -4.2144999504089355, -4.244999885559082, -4.319399833679199, -4.327499866485596, -4.337699890136719, -4.373600006103516, -4.893099784851074, -5.106900215148926, -5.3983001708984375, -5.538400173187256, -5.702499866485596, -5.716800212860107, -5.884300231933594, -6.078499794006348, -6.109499931335449, -6.336999893188477, -3.332200050354004, -3.8373000621795654, -1.4660999774932861, -2.6157000064849854, -3.0532000064849854, -3.6238999366760254, -3.6364998817443848, -3.9398999214172363, -3.9449000358581543, -3.9635000228881836, -3.9667000770568848, -3.969099998474121, -4.026500225067139, -4.223400115966797, -4.331500053405762, -4.382599830627441, -4.483699798583984, -4.661900043487549, -4.701499938964844, -4.717899799346924, -4.774499893188477, -4.908299922943115, -5.996600151062012, -6.10830020904541, -6.128699779510498, -6.30019998550415, -2.029099941253662, -7.147799968719482, -7.189799785614014, -7.408699989318848, -7.619800090789795, -4.796999931335449, -3.483799934387207, -1.763800024986267, -1.9265999794006348, -2.3896000385284424, -2.5251998901367188, -2.6861000061035156, -2.7260000705718994, -2.7739999294281006, -3.072200059890747, -3.3898000717163086, -3.489500045776367, -3.6786000728607178, -3.751499891281128, -3.9072000980377197, -3.9881999492645264, -3.992300033569336, -4.028600215911865, -4.266900062561035, -4.387400150299072, -4.499899864196777, -4.577499866485596, -4.752299785614014, -4.77239990234375, -4.792799949645996, -4.815299987792969, -4.991499900817871, -5.006800174713135, -5.018499851226807, -5.156499862670898, -5.268400192260742, -5.3383002281188965, -5.377200126647949, -3.0071001052856445, -2.663300037384033, -2.7578999996185303, -2.7630999088287354, -2.816999912261963, -2.8747000694274902, -2.912899971008301, -3.0120999813079834, -3.3282999992370605, -3.3331000804901123, -3.4377999305725098, -3.4451000690460205, -3.449700117111206, -3.5107998847961426, -3.6449999809265137, -3.743799924850464, -3.7852001190185547, -3.9402999877929688, -3.9707000255584717, -4.17110013961792, -4.445300102233887, -4.535200119018555, -4.5991997718811035, -4.767000198364258, -4.827499866485596, -4.845799922943115, -4.937300205230713, -5.048299789428711, -5.090199947357178, -5.6118998527526855, -5.615900039672852, -3.220400094985962, -3.2553000450134277, -3.101599931716919, -4.368199825286865, -1.3634999990463257, -2.0629000663757324, -2.9351000785827637, -3.065000057220459, -3.0938000679016113, -3.113600015640259, -3.582200050354004, -3.6561999320983887, -3.811199903488159, -3.911099910736084, -4.275000095367432, -4.318999767303467, -4.372099876403809, -4.379499912261963, -4.451600074768066, -4.564799785614014, -4.608799934387207, -4.6803998947143555, -4.693999767303467, -4.73769998550415, -4.742199897766113, -4.7729997634887695, -4.79580020904541, -4.8028998374938965, -5.058599948883057, -5.385200023651123, -5.4268999099731445, -5.42710018157959, -5.484399795532227, -5.493800163269043, -2.4848999977111816, -3.7904999256134033, -1.8121000528335571, -2.265000104904175, -2.5806000232696533, -2.632499933242798, -2.6364998817443848, -2.6986000537872314, -3.168100118637085, -3.1974000930786133, -3.3547000885009766, -3.4296000003814697, -3.4886999130249023, -3.7309999465942383, -3.800800085067749, -4.172800064086914, -4.178999900817871, -4.4654998779296875, -4.588500022888184, -4.714600086212158, -4.817500114440918, -5.256700038909912, -5.275599956512451, -5.439899921417236, -5.582799911499023, -5.638599872589111, -5.775400161743164, -5.980000019073486, -6.253399848937988, -6.2804999351501465, -6.307799816131592, -6.706500053405762, -4.940100193023682, -5.476799964904785, -2.8782999515533447, -4.928199768066406, -0.6151000261306763, -2.63700008392334, -3.143899917602539, -3.3285000324249268, -3.731100082397461, -4.008999824523926, -4.6875, -4.88730001449585, -5.071199893951416, -5.092299938201904, -5.226500034332275, -5.797900199890137, -6.005499839782715, -3.450200080871582, -6.097799777984619, -6.204800128936768, -6.206900119781494, -6.356200218200684, -6.645400047302246, -6.803699970245361, -7.661300182342529, -7.661300182342529, -2.7864999771118164, -2.4367001056671143, -13.134900093078613, -13.134900093078613, -13.134900093078613, -13.134900093078613, -13.134900093078613, -13.134900093078613, -13.134900093078613, -13.134900093078613, -13.134900093078613, -13.134900093078613, -13.134900093078613, -13.134900093078613, -13.134900093078613, -13.134900093078613, -13.134900093078613, -13.134900093078613, -13.134900093078613, -13.134900093078613, -13.134900093078613, -13.134900093078613, -13.134900093078613, -13.134900093078613, -13.134900093078613, -1.8357000350952148, -2.588200092315674, -2.7623000144958496, -2.7934999465942383, -2.863800048828125, -2.988600015640259, -2.9897000789642334, -3.1796000003814697, -3.3689000606536865, -3.6452999114990234, -3.7421000003814697, -4.128499984741211, -4.135799884796143, -4.144199848175049, -4.242700099945068, -4.329999923706055, -4.345099925994873, -4.34630012512207, -4.482600212097168, -4.716400146484375, -4.779799938201904, -4.801000118255615, -4.837699890136719, -4.8403000831604, -4.880499839782715, -5.237400054931641, -5.317500114440918, -5.321499824523926, -5.3942999839782715, -5.536799907684326, -3.037100076675415, -2.9398000240325928, -1.573699951171875, -2.8696999549865723, -3.33270001411438, -3.414099931716919, -3.536600112915039, -3.6487998962402344, -3.7334001064300537, -4.047599792480469, -4.057000160217285, -4.171999931335449, -4.381899833679199, -4.642000198364258, -4.773200035095215, -4.88670015335083, -4.9334001541137695, -5.026299953460693, -5.027200222015381, -5.2565999031066895, -5.2769999504089355, -5.5817999839782715, -5.74560022354126, -5.8703999519348145, -6.048799991607666, -6.3094000816345215, -6.4293999671936035, -7.229300022125244, -1.378999948501587, -3.773699998855591, -2.456899881362915, -2.8754000663757324, -2.376499891281128, -2.6342999935150146, -2.671099901199341, -3.096100091934204, -3.3893001079559326, -3.4930999279022217, -3.545300006866455, -3.74180006980896, -3.8220999240875244, -3.9440999031066895, -3.9828999042510986, -4.042399883270264, -4.160900115966797, -4.419000148773193, -4.432400226593018, -4.438600063323975, -4.516900062561035, -4.56279993057251, -4.572500228881836, -4.617499828338623, -4.757900238037109, -4.785900115966797, -4.985499858856201, -5.0625, -5.069300174713135, -5.161499977111816, -5.198699951171875, -5.227099895477295, -5.229499816894531, -5.268099784851074, -1.6604000329971313, -2.242500066757202, -1.7289999723434448, -2.288800001144409, -2.703700065612793, -2.723900079727173, -2.898400068283081, -2.913300037384033, -2.960700035095215, -3.2004001140594482, -3.246799945831299, -3.4121999740600586, -3.459700107574463, -3.834199905395508, -3.9674999713897705, -4.133299827575684, -4.178400039672852, -4.179800033569336, -4.633900165557861, -4.843599796295166, -4.871799945831299, -5.182700157165527, -5.189799785614014, -5.222799777984619, -5.337200164794922, -5.501800060272217, -5.648399829864502, -2.418800115585327, -5.969799995422363, -6.246200084686279, -6.279900074005127, -6.334199905395508, -5.200200080871582, -6.104899883270264, -1.8278000354766846, -2.170799970626831, -2.498800039291382, -3.003999948501587, -3.1533000469207764, -3.2035000324249268, -3.2146999835968018, -3.2932000160217285, -3.5977001190185547, -3.6714000701904297, -3.7909998893737793, -3.826900005340576, -3.9066998958587646, -3.939199924468994, -4.094799995422363, -4.147200107574463, -4.192599773406982, -4.254899978637695, -4.334700107574463, -4.442500114440918, -4.564799785614014, -4.608099937438965, -4.732500076293945, -4.752500057220459, -4.84660005569458, -4.934999942779541, -4.938499927520752, -5.017399787902832, -5.188199996948242, -5.263999938964844, -4.084499835968018, -3.319700002670288, -4.036099910736084, -1.8013999462127686, -1.9142999649047852, -2.167099952697754, -2.356100082397461, -2.8406999111175537, -2.884200096130371, -3.027400016784668, -3.1417999267578125, -3.5195000171661377, -3.6633999347686768, -3.723900079727173, -3.8120999336242676, -3.9858999252319336, -4.125699996948242, -4.408299922943115, -4.459099769592285, -4.579100131988525, -4.625, -4.64300012588501, -4.76800012588501, -4.86870002746582, -4.899799823760986, -5.295000076293945, -5.403500080108643, -5.674099922180176, -13.060099601745605, -13.060099601745605, -13.060099601745605, -13.060099601745605, -13.060099601745605, -5.597899913787842, -13.060099601745605, -13.060099601745605, -5.277699947357178, -13.060099601745605, -13.060099601745605, -13.060099601745605, -13.060099601745605, -13.060099601745605, -2.0139000415802, -2.349400043487549, -2.628700017929077, -3.049499988555908, -3.5439999103546143, -3.67549991607666, -3.7244999408721924, -3.7669999599456787, -3.9065001010894775, -3.936800003051758, -4.0355000495910645, -4.1016998291015625, -4.157400131225586, -4.165200233459473, -4.170499801635742, -4.216100215911865, -4.371699810028076, -4.390200138092041, -4.392300128936768, -4.404099941253662, -4.466899871826172, -4.585000038146973, -5.0320000648498535, -5.103899955749512, -5.116199970245361, -5.36929988861084, -5.504799842834473, -5.700900077819824, -5.813300132751465, -5.877299785614014, -4.392499923706055, -2.6375999450683594, -2.7309000492095947, -3.0917999744415283, -3.2014000415802, -3.833199977874756, -1.6627999544143677, -2.1584999561309814, -2.29259991645813, -2.6761999130249023, -2.7251999378204346, -2.9560000896453857, -3.0448999404907227, -3.181299924850464, -3.4976000785827637, -3.5560998916625977, -3.853600025177002, -3.8645999431610107, -4.025700092315674, -4.42579984664917, -4.453100204467773, -4.490799903869629, -4.522900104522705, -4.594299793243408, -4.746500015258789, -4.80810022354126, -4.885700225830078, -4.895500183105469, -5.043600082397461, -5.369999885559082, -5.632800102233887, -5.837100028991699, -5.87939977645874, -5.931099891662598, -5.988100051879883, -6.25439977645874, -3.662100076675415, -3.9367001056671143, -1.8868999481201172, -2.198499917984009, -2.588099956512451, -3.1791999340057373, -3.2834999561309814, -3.414400100708008, -3.6461000442504883, -3.6863999366760254, -3.732100009918213, -3.7774999141693115, -3.9528000354766846, -4.041299819946289, -4.166999816894531, -4.254899978637695, -4.291600227355957, -4.316299915313721, -4.985799789428711, -5.039400100708008, -5.140699863433838, -5.151599884033203, -5.42579984664917, -5.435500144958496, -5.465400218963623, -5.928800106048584, -6.015500068664551, -6.109600067138672, -6.179999828338623, -6.453400135040283, -6.581200122833252, -6.51230001449585, -3.188999891281128, -2.1598000526428223, -2.202500104904175, -1.7364000082015991, -1.94350004196167, -2.95169997215271, -3.1445000171661377, -3.17330002784729, -3.410399913787842, -3.7035000324249268, -3.7251999378204346, -3.7669999599456787, -3.77020001411438, -3.8742001056671143, -3.9472999572753906, -4.183499813079834, -4.239799976348877, -4.35260009765625, -4.366000175476074, -4.402100086212158, -4.509099960327148, -4.542600154876709, -4.629000186920166, -4.687600135803223, -4.694799900054932, -4.716400146484375, -4.751200199127197, -4.781199932098389, -4.83050012588501, -4.832600116729736, -4.915900230407715, -5.025199890136719, -5.121500015258789, -3.456199884414673, -4.022200107574463, -3.2651000022888184, -3.710599899291992, -4.605599880218506, -2.0285000801086426, -2.539099931716919, -2.6349000930786133, -2.827699899673462, -3.1953999996185303, -3.280600070953369, -3.430799961090088, -3.4423000812530518, -3.7302000522613525, -4.052199840545654, -4.059199810028076, -4.105100154876709, -4.120999813079834, -4.195899963378906, -4.225599765777588, -4.251299858093262, -4.313700199127197, -4.36359977722168, -4.475800037384033, -4.52239990234375, -4.708600044250488, -4.837399959564209, -4.947000026702881, -4.999000072479248, -5.013400077819824, -5.061100006103516, -5.063000202178955, -5.102499961853027, -5.1645002365112305, -5.200900077819824, -2.0387001037597656, -3.136399984359741, -5.027699947357178, -4.79010009765625, -1.3848999738693237, -1.4656000137329102, -2.0615999698638916, -3.091599941253662, -3.2985999584198, -3.6089999675750732, -3.7883999347686768, -3.832200050354004, -3.878700017929077, -3.9674999713897705, -4.093200206756592, -4.208099842071533, -4.245299816131592, -4.323299884796143, -4.500899791717529, -4.5644001960754395, -4.906799793243408, -5.077300071716309, -5.118199825286865, -5.200099945068359, -5.386899948120117, -5.393799781799316, -5.4720001220703125, -5.503600120544434, -5.651100158691406, -5.663899898529053, -5.870500087738037, -5.903500080108643, -6.022500038146973, -6.028299808502197, -4.346700191497803, -1.8897000551223755, -2.2718000411987305, -2.300100088119507, -2.407099962234497, -2.6693999767303467, -3.017400026321411, -3.078900098800659, -3.241499900817871, -3.289099931716919, -3.498500108718872, -3.6247000694274902, -4.296800136566162, -4.321499824523926, -4.414400100708008, -4.583499908447266, -4.645400047302246, -4.708600044250488, -5.343400001525879, -5.622499942779541, -5.814599990844727, -6.019100189208984, -6.117800235748291, -6.533899784088135, -6.758900165557861, -6.946499824523926, -3.415800094604492, -3.7019999027252197, -4.679299831390381, -2.714200019836426, -13.054499626159668, -13.054499626159668, -1.5026999711990356, -2.018899917602539, -2.3717000484466553, -2.5596001148223877, -3.072999954223633, -3.348299980163574, -3.4600000381469727, -3.620699882507324, -3.6586999893188477, -3.847399950027466, -4.345300197601318, -4.698999881744385, -4.736700057983398, -4.774799823760986, -4.936500072479248, -4.948299884796143, -5.187699794769287, -5.886300086975098, -5.8958001136779785, -5.9430999755859375, -6.0507001876831055, -6.095399856567383, -6.517899990081787, -3.119499921798706, -5.122300148010254, -2.813699960708618, -7.154300212860107, -7.160299777984619, -7.556399822235107, -2.9042000770568848, -4.934000015258789, -2.1830999851226807, -2.4110000133514404, -2.446899890899658, -2.480600118637085, -2.5076000690460205, -2.7822999954223633, -2.969899892807007, -3.0518999099731445, -3.175100088119507, -3.422800064086914, -3.7093000411987305, -3.731600046157837, -3.8199000358581543, -3.911099910736084, -4.027100086212158, -4.105899810791016, -4.174699783325195, -4.240200042724609, -4.523900032043457, -4.547900199890137, -4.597599983215332, -4.691100120544434, -4.774799823760986, -4.777200222015381, -4.7947001457214355, -4.869100093841553, -5.076200008392334, -5.388000011444092, -5.390600204467773, -5.601600170135498, -4.514100074768066, -1.8150999546051025, -2.112499952316284, -2.9184999465942383, -2.9583001136779785, -3.051500082015991, -3.427000045776367, -3.504199981689453, -3.7284998893737793, -3.8326001167297363, -3.8805999755859375, -3.9147000312805176, -3.931299924850464, -4.005199909210205, -4.02269983291626, -4.023399829864502, -4.043600082397461, -4.1915998458862305, -4.197700023651123, -4.301199913024902, -4.316800117492676, -4.538099765777588, -4.5619001388549805, -4.670899868011475, -4.838500022888184, -4.917500019073486, -5.049200057983398, -5.109899997711182, -5.297399997711182, -5.478000164031982, -5.511499881744385, -4.167600154876709, -2.9672999382019043, -3.4059998989105225, -3.3949999809265137, -2.250499963760376, -2.3777999877929688, -2.7844998836517334, -3.2026000022888184, -3.266400098800659, -3.279099941253662, -3.3817999362945557, -3.496799945831299, -3.79830002784729, -3.825500011444092, -3.868299961090088, -3.999000072479248, -4.011899948120117, -4.1757001876831055, -4.254700183868408, -4.34499979019165, -4.372499942779541, -4.380099773406982, -4.425899982452393, -4.444399833679199, -4.4446001052856445, -4.495999813079834, -4.687300205230713, -4.825699806213379, -4.826600074768066, -4.8678998947143555, -5.0320000648498535, -5.25600004196167, -5.4629998207092285, -5.4653000831604, -3.5411999225616455, -2.2636001110076904, -3.7256999015808105, -3.224400043487549, -3.9196999073028564, -1.940500020980835, -2.52620005607605, -2.6501998901367188, -2.6642000675201416, -2.962100028991699, -3.123500108718872, -3.1522998809814453, -3.235300064086914, -3.3989999294281006, -3.41129994392395, -3.6714999675750732, -3.795799970626831, -3.927299976348877, -3.930799961090088, -3.9428999423980713, -3.9856998920440674, -4.013400077819824, -4.114999771118164, -4.44290018081665, -4.517199993133545, -4.929200172424316, -4.954699993133545, -4.968999862670898, -4.9720001220703125, -4.977700233459473, -5.061800003051758, -5.13100004196167, -5.2058000564575195, -5.338900089263916, -5.365600109100342, -2.7887001037597656, -1.5694999694824219, -1.909500002861023, -3.0244998931884766, -3.1473000049591064, -3.210700035095215, -3.2411000728607178, -3.260499954223633, -3.362299919128418, -3.610300064086914, -3.8975000381469727, -3.967400074005127, -3.9955999851226807, -4.132699966430664, -4.2378997802734375, -4.27209997177124, -4.293700218200684, -4.316699981689453, -4.377200126647949, -4.486599922180176, -4.5569000244140625, -4.6631999015808105, -4.696300029754639, -4.7266998291015625, -4.7505998611450195, -4.762700080871582, -4.863500118255615, -4.934199810028076, -4.9359002113342285, -4.942500114440918, -5.008699893951416, -4.127999782562256, -2.4177000522613525, -2.532900094985962, -2.6735999584198, -2.917799949645996, -2.928299903869629, -3.054500102996826, -3.383500099182129, -3.5230000019073486, -3.5596001148223877, -3.621299982070923, -3.624799966812134, -3.650099992752075, -3.8573999404907227, -3.900099992752075, -3.9421000480651855, -4.024700164794922, -4.268400192260742, -4.302999973297119, -4.366199970245361, -4.414100170135498, -4.438399791717529, -4.649099826812744, -4.672699928283691, -4.735799789428711, -4.795599937438965, -4.928899765014648, -5.0843000411987305, -5.184199810028076, -5.281899929046631, -5.364299774169922, -2.1637001037597656, -4.511099815368652, -3.827399969100952, -2.6389999389648438, -2.6593000888824463, -2.8004000186920166, -2.9010000228881836, -3.0945000648498535, -3.37719988822937, -3.4612998962402344, -3.4981000423431396, -3.5322000980377197, -3.6435000896453857, -3.6566998958587646, -3.7142999172210693, -3.718400001525879, -3.939500093460083, -4.034999847412109, -4.104599952697754, -4.176400184631348, -4.239500045776367, -4.407400131225586, -4.592800140380859, -4.615900039672852, -4.743199825286865, -4.794600009918213, -4.874199867248535, -5.0289998054504395, -5.138700008392334, -5.38640022277832, -5.49370002746582, -5.531499862670898, -5.57420015335083, -2.6089000701904297, -3.273099899291992, -3.124500036239624, -2.8457999229431152, -3.1765999794006348, -1.6068999767303467, -2.6252999305725098, -2.6851000785827637, -3.289599895477295, -3.3901000022888184, -3.4609999656677246, -3.5409998893737793, -3.637700080871582, -3.703399896621704, -3.9302000999450684, -4.128200054168701, -4.1743998527526855, -4.230299949645996, -4.395199775695801, -4.411099910736084, -4.428400039672852, -4.501800060272217, -4.505499839782715, -4.527900218963623, -4.561699867248535, -4.591100215911865, -4.639699935913086, -4.672999858856201, -4.685500144958496, -4.698699951171875, -4.942599773406982, -5.059100151062012, -5.14769983291626, -5.156899929046631, -5.198299884796143, -3.1298000812530518, -3.9202001094818115, -2.9482998847961426, -3.746500015258789, -3.464400053024292, -1.5566999912261963, -2.621500015258789, -3.172800064086914, -3.3129000663757324, -3.346400022506714, -3.4135000705718994, -3.5009000301361084, -3.5281999111175537, -3.5487000942230225, -3.6149001121520996, -3.628700017929077, -3.753000020980835, -3.83489990234375, -3.8940000534057617, -3.9151999950408936, -4.103300094604492, -4.260200023651123, -4.353499889373779, -4.518599987030029, -4.551400184631348, -4.55810022354126, -4.766600131988525, -5.049300193786621, -5.1168999671936035, -5.182300090789795, -5.190899848937988, -5.252799987792969, -5.372300148010254, -5.379499912261963, -5.388400077819824, -2.1898000240325928, -3.150399923324585, -1.6450999975204468, -1.720900058746338, -2.729099988937378, -3.1970999240875244, -3.579200029373169, -3.686300039291382, -3.823699951171875, -3.8431999683380127, -3.9321000576019287, -4.0040998458862305, -4.094699859619141, -4.1072998046875, -4.149799823760986, -4.429200172424316, -4.497600078582764, -4.560200214385986, -4.7758002281188965, -4.853099822998047, -4.864799976348877, -4.875999927520752, -5.143099784851074, -5.193900108337402, -5.255499839782715, -5.397200107574463, -5.610400199890137, -5.685500144958496, -5.882299900054932, -5.914999961853027, -6.161499977111816, -3.9760000705718994, -2.4677999019622803, -4.73390007019043, -3.0072999000549316, -3.5420000553131104, -2.4203999042510986, -2.430799961090088, -2.784600019454956, -3.1944000720977783, -3.2850000858306885, -3.494999885559082, -3.68969988822937, -3.7416999340057373, -3.7855000495910645, -3.837599992752075, -3.852299928665161, -3.8828001022338867, -3.9184000492095947, -4.003799915313721, -4.008200168609619, -4.216899871826172, -4.342400074005127, -4.364500045776367, -4.36460018157959, -4.401400089263916, -4.420300006866455, -4.4679999351501465, -4.575200080871582, -4.650599956512451, -4.710700035095215, -4.716000080108643, -4.753900051116943, -4.8018999099731445, -4.828999996185303, -4.841899871826172, -2.445199966430664, -4.220699787139893, -2.970099925994873, -2.122299909591675, -2.368000030517578, -2.4245998859405518, -2.824399948120117, -3.2734999656677246, -3.3994998931884766, -3.4758999347686768, -3.503200054168701, -3.545300006866455, -3.5836000442504883, -3.6340999603271484, -3.648400068283081, -3.7727999687194824, -3.8331000804901123, -3.8619000911712646, -3.995800018310547, -4.021399974822998, -4.026800155639648, -4.059000015258789, -4.0995001792907715, -4.104100227355957, -4.115799903869629, -4.133900165557861, -4.14870023727417, -4.149099826812744, -4.421899795532227, -4.499800205230713, -4.6596999168396, -4.849599838256836, -5.022500038146973, -3.539400100708008, -1.8871999979019165, -2.623300075531006, -2.7049999237060547, -2.9791998863220215, -3.13919997215271, -3.1802000999450684, -3.1965999603271484, -3.22979998588562, -3.278700113296509, -3.46370005607605, -3.467900037765503, -3.4772000312805176, -3.5236001014709473, -3.5306999683380127, -3.6387999057769775, -4.113999843597412, -4.190499782562256, -4.254000186920166, -4.354100227355957, -4.452199935913086, -4.487500190734863, -4.51039981842041, -4.51639986038208, -4.517499923706055, -4.679299831390381, -4.767099857330322, -4.949900150299072, -5.07919979095459, -5.293900012969971, -5.3190999031066895, -4.020500183105469, -3.390399932861328, -4.3302998542785645, -1.7496000528335571, -2.431299924850464, -2.548099994659424, -2.549999952316284, -2.560800075531006, -2.573199987411499, -2.705699920654297, -3.1874001026153564, -3.6217000484466553, -3.836899995803833, -3.837399959564209, -3.9326000213623047, -4.071199893951416, -4.301300048828125, -4.324900150299072, -4.3815999031066895, -4.433300018310547, -4.480299949645996, -4.682199954986572, -4.769899845123291, -5.056000232696533, -5.076700210571289, -5.159900188446045, -5.196599960327148, -5.200900077819824, -5.30109977722168, -5.36870002746582, -5.380099773406982, -5.476099967956543, -5.487800121307373, -5.377799987792969, -4.668300151824951, -4.9593000411987305, -1.6823999881744385, -1.9580999612808228, -2.5165998935699463, -3.197700023651123, -3.3613998889923096, -3.694499969482422, -3.707200050354004, -3.9767000675201416, -4.075799942016602, -4.422100067138672, -4.43179988861084, -4.498499870300293, -4.5553998947143555, -4.637499809265137, -4.83459997177124, -4.913300037384033, -5.033599853515625, -5.059199810028076, -5.1971001625061035, -5.365499973297119, -5.4191999435424805, -5.573500156402588, -5.604800224304199, -6.053199768066406, -6.075399875640869, -6.141900062561035, -6.418700218200684, -6.714099884033203, -7.877399921417236, -5.226500034332275, -2.4310998916625977, -2.473299980163574, -2.332200050354004, -2.064300060272217, -2.18969988822937, -2.7894999980926514, -2.888000011444092, -2.961400032043457, -3.0703001022338867, -3.225399971008301, -3.438199996948242, -3.4400999546051025, -3.639400005340576, -3.712100028991699, -3.8933000564575195, -3.9200000762939453, -3.925100088119507, -3.947700023651123, -4.019700050354004, -4.101200103759766, -4.234799861907959, -4.3394999504089355, -4.411499977111816, -4.41379976272583, -4.625199794769287, -4.638899803161621, -4.693299770355225, -4.7418999671936035, -4.862199783325195, -4.885300159454346, -4.903900146484375, -4.943900108337402, -5.009900093078613, -3.547800064086914, -3.5880000591278076, -1.5232000350952148, -2.2546000480651855, -2.9853999614715576, -3.0113000869750977, -3.1138999462127686, -3.194200038909912, -3.284899950027466, -3.6066999435424805, -3.6847000122070312, -3.697000026702881, -3.716200113296509, -3.8485000133514404, -3.8617000579833984, -3.8959999084472656, -3.932300090789795, -3.943000078201294, -4.0528998374938965, -4.256899833679199, -4.377600193023682, -4.430799961090088, -4.485599994659424, -4.518499851226807, -4.545599937438965, -4.709199905395508, -4.731400012969971, -4.8846001625061035, -4.895299911499023, -4.958600044250488, -5.0065999031066895, -5.013199806213379, -3.652600049972534, -1.9467999935150146, -2.3248000144958496, -3.0590999126434326, -3.216399908065796, -3.3533999919891357, -3.3605000972747803, -3.408799886703491, -3.5309998989105225, -3.5450000762939453, -3.5892999172210693, -3.766200065612793, -3.7715001106262207, -3.8271000385284424, -3.9765000343322754, -3.9885001182556152, -4.167200088500977, -4.207300186157227, -4.403299808502197, -4.454400062561035, -4.563499927520752, -4.604400157928467, -4.615300178527832, -4.6203999519348145, -4.681000232696533, -4.701499938964844, -4.707099914550781, -4.954500198364258, -5.070899963378906, -5.097899913787842, -5.135000228881836, -2.3757998943328857, -4.255899906158447, -4.503799915313721, -4.006499767303467, -4.665200233459473, -2.0757999420166016, -2.3866000175476074, -2.427500009536743, -2.664900064468384, -2.966200113296509, -3.3060998916625977, -3.3622000217437744, -3.381999969482422, -3.5725998878479004, -3.7513999938964844, -3.7539000511169434, -3.852799892425537, -3.892899990081787, -3.931999921798706, -3.935800075531006, -4.200699806213379, -4.577899932861328, -4.692399978637695, -5.107399940490723, -5.1244001388549805, -5.157899856567383, -5.299099922180176, -5.4552001953125, -5.5152997970581055, -5.773799896240234, -5.925899982452393, -5.956900119781494, -5.973899841308594, -2.532399892807007, -6.324399948120117, -3.729599952697754, -3.801800012588501, -4.469299793243408, -3.849900007247925, -5.173600196838379, -3.8910000324249268, -1.5124000310897827, -2.1895999908447266, -2.825200080871582, -3.1103999614715576, -3.2362000942230225, -3.3585000038146973, -3.507499933242798, -3.574399948120117, -3.65120005607605, -3.825900077819824, -4.011499881744385, -4.1981000900268555, -4.271399974822998, -4.554699897766113, -4.604100227355957, -4.656300067901611, -4.7052001953125, -4.7596001625061035, -4.772799968719482, -4.793499946594238, -4.941800117492676, -5.450399875640869, -5.699100017547607, -5.9994001388549805, -6.078000068664551, -6.302199840545654, -6.308700084686279, -6.311600208282471, -6.3404998779296875, -7.0279998779296875, -2.2105000019073486, -2.4395999908447266, -6.188300132751465, -1.6370999813079834, -2.204200029373169, -2.297600030899048, -2.3940999507904053, -2.4072000980377197, -3.083400011062622, -3.6247000694274902, -4.071000099182129, -4.166299819946289, -4.333000183105469, -4.355899810791016, -4.360899925231934, -4.732100009918213, -4.8267998695373535, -4.848499774932861, -5.103799819946289, -5.343500137329102, -5.485099792480469, -5.493800163269043, -5.637700080871582, -6.017199993133545, -6.177000045776367, -6.317800045013428, -6.367300033569336, -6.563300132751465, -6.60290002822876, -7.360199928283691, -7.360199928283691, -2.687700033187866, -4.565700054168701, -3.0999999046325684, -3.145699977874756, -2.187999963760376, -2.6045000553131104, -2.6110000610351562, -2.6233999729156494, -2.716099977493286, -2.823699951171875, -2.8915998935699463, -2.9147000312805176, -3.093100070953369, -3.4260001182556152, -3.464099884033203, -3.6454999446868896, -3.6935999393463135, -3.944999933242798, -4.822400093078613, -4.881800174713135, -4.966899871826172, -5.054800033569336, -5.137899875640869, -5.243800163269043, -5.418099880218506, -6.038000106811523, -6.354800224304199, -7.234000205993652, -1.9305000305175781, -12.930700302124023, -12.930700302124023, -12.930700302124023, -12.930700302124023, -12.930700302124023, -4.438700199127197, -12.930700302124023, -12.930700302124023, -5.397200107574463, -12.930700302124023, -12.930700302124023, -12.930700302124023, -12.930700302124023, -1.8691999912261963, -2.689500093460083, -2.7532999515533447, -2.7551000118255615, -2.8329999446868896, -3.017199993133545, -3.0283000469207764, -3.028700113296509, -3.262200117111206, -3.4528000354766846, -3.710099935531616, -3.7945001125335693, -3.875999927520752, -3.922100067138672, -3.987499952316284, -4.167099952697754, -4.331699848175049, -4.3572998046875, -4.421000003814697, -4.591599941253662, -4.702099800109863, -4.70550012588501, -4.79640007019043, -4.8769001960754395, -4.919400215148926, -5.005199909210205, -5.179500102996826, -5.543000221252441, -5.571199893951416, -5.660099983215332, -2.5601000785827637, -4.381400108337402, -2.3756000995635986, -2.3954999446868896, -2.723099946975708, -2.9493000507354736, -3.163599967956543, -3.30679988861084, -3.5213000774383545, -3.6247000694274902, -3.6749000549316406, -3.687000036239624, -3.717400074005127, -3.952399969100952, -4.0106000900268555, -4.080699920654297, -4.126399993896484, -4.142899990081787, -4.171599864959717, -4.201600074768066, -4.201700210571289, -4.222099781036377, -4.298600196838379, -4.3267998695373535, -4.357699871063232, -4.383200168609619, -4.4653000831604, -4.468299865722656, -4.468699932098389, -4.479400157928467, -4.507800102233887, -4.651899814605713, -4.280900001525879, -4.008900165557861, -4.041299819946289, -4.3053998947143555, -4.374100208282471, -2.0525999069213867, -3.29229998588562, -3.3245999813079834, -3.382200002670288, -3.5035998821258545, -3.5208001136779785, -3.5910000801086426, -3.619800090789795, -3.640899896621704, -3.7105000019073486, -3.7142999172210693, -3.7973999977111816, -3.8034000396728516, -3.8125998973846436, -3.832900047302246, -3.9040000438690186, -4.117000102996826, -4.127399921417236, -4.2403998374938965, -4.326700210571289, -4.461100101470947, -4.488800048828125, -4.491099834442139, -4.513999938964844, -4.600900173187256, -4.621799945831299, -4.705599784851074, -4.873600006103516, -4.884200096130371, -4.9278998374938965, -3.0550999641418457, -3.506700038909912, -3.109600067138672, -3.8259999752044678, -3.6566998958587646, -4.484600067138672, -4.139900207519531, -2.71560001373291, -2.7258999347686768, -3.1856000423431396, -3.1898000240325928, -3.295799970626831, -3.3192999362945557, -3.3864998817443848, -3.4842000007629395, -3.518199920654297, -3.5761001110076904, -3.6703999042510986, -3.718600034713745, -3.875200033187866, -3.883500099182129, -3.913800001144409, -3.9203999042510986, -3.976900100708008, -3.9974000453948975, -4.037199974060059, -4.07889986038208, -4.101200103759766, -4.129300117492676, -4.1732001304626465, -4.239099979400635, -4.284599781036377, -4.3084001541137695, -4.397900104522705, -4.415500164031982, -4.457900047302246, -4.568399906158447, -3.547100067138672, -3.9098000526428223, -1.3765000104904175, -2.790800094604492, -2.933799982070923, -3.0322999954223633, -3.032599925994873, -3.149199962615967, -3.1735999584198, -3.2172000408172607, -3.3294999599456787, -3.421299934387207, -3.5625998973846436, -3.686000108718872, -3.719099998474121, -3.722599983215332, -3.779900074005127, -3.7846999168395996, -3.8989999294281006, -4.123700141906738, -4.142300128936768, -4.176199913024902, -4.624300003051758, -4.730299949645996, -4.755899906158447, -4.785399913787842, -5.030799865722656, -5.153900146484375, -5.2133002281188965, -5.308000087738037, -5.6743998527526855, -5.825200080871582, -4.912399768829346, -1.457800030708313, -1.781599998474121, -2.7513999938964844, -3.1821999549865723, -3.578200101852417, -3.5838000774383545, -3.6410000324249268, -3.7227001190185547, -3.7432000637054443, -3.9321000576019287, -3.9335999488830566, -4.077600002288818, -4.08489990234375, -4.085999965667725, -4.163300037384033, -4.259799957275391, -4.268099784851074, -4.35260009765625, -4.38700008392334, -4.438799858093262, -4.486999988555908, -4.519000053405762, -4.58519983291626, -4.736100196838379, -5.086699962615967, -5.2220001220703125, -5.236400127410889, -5.319300174713135, -5.428999900817871, -5.438600063323975, -3.7607998847961426, -4.099999904632568, -4.6595001220703125, -2.6015000343322754, -2.7014000415802, -2.7827999591827393, -2.94950008392334, -3.2035999298095703, -3.240999937057495, -3.4837000370025635, -3.5480000972747803, -3.6561999320983887, -3.6953999996185303, -3.954200029373169, -4.0370001792907715, -4.127600193023682, -4.135300159454346, -4.150000095367432, -4.228300094604492, -4.390100002288818, -4.4456000328063965, -4.498600006103516, -4.593200206756592, -4.661600112915039, -4.727099895477295, -4.7667999267578125, -4.947199821472168, -4.991499900817871, -5.000800132751465, -5.025400161743164, -5.240200042724609, -5.3404998779296875, -5.378499984741211, -2.2600998878479004, -3.474900007247925, -2.8603999614715576, -3.485300064086914, -4.489200115203857, -4.907400131225586, -2.7583999633789062, -2.838900089263916, -2.9872000217437744, -3.0762999057769775, -3.237299919128418, -3.3090999126434326, -3.3417999744415283, -3.3726999759674072, -3.3787999153137207, -3.476599931716919, -3.4776999950408936, -3.6979000568389893, -3.728600025177002, -3.775399923324585, -3.8682000637054443, -3.9655001163482666, -3.999300003051758, -4.208499908447266, -4.212800025939941, -4.221199989318848, -4.241700172424316, -4.286300182342529, -4.287300109863281, -4.320000171661377, -4.3292999267578125, -4.404799938201904, -4.458600044250488, -4.466100215911865, -4.537099838256836, -4.767899990081787, -3.316800117492676, -3.7523999214172363, -3.4730000495910645, -3.468899965286255, -1.0985000133514404, -2.6972999572753906, -3.2685000896453857, -3.385699987411499, -3.5285000801086426, -3.6077001094818115, -3.876699924468994, -3.95740008354187, -3.9779000282287598, -4.030799865722656, -4.111800193786621, -4.232900142669678, -4.2779998779296875, -4.318699836730957, -4.339000225067139, -4.486999988555908, -4.567299842834473, -4.616600036621094, -4.642600059509277, -4.668399810791016, -4.685100078582764, -4.694699764251709, -4.737800121307373, -4.79610013961792, -4.83519983291626, -4.894499778747559, -4.938600063323975, -4.988800048828125, -5.02810001373291, -5.216400146484375, -3.4621999263763428, -2.9751999378204346, -3.3570001125335693, -4.6930999755859375, -2.052500009536743, -2.153899908065796, -2.952399969100952, -2.9646999835968018, -2.980799913406372, -2.988800048828125, -3.0295000076293945, -3.3757998943328857, -3.4704999923706055, -3.5139999389648438, -3.6335999965667725, -3.6684999465942383, -3.6763999462127686, -3.712599992752075, -3.7980000972747803, -3.9177000522613525, -4.024700164794922, -4.099400043487549, -4.3043999671936035, -4.4191999435424805, -4.436100006103516, -4.666500091552734, -4.786799907684326, -4.813799858093262, -4.843900203704834, -4.920499801635742, -4.979100227355957, -5.106500148773193, -5.184800148010254, -5.39870023727417, -3.4909000396728516, -3.596100091934204, -2.3352999687194824, -2.52239990234375, -2.7541000843048096, -2.8427999019622803, -3.0278000831604004, -3.205699920654297, -3.366499900817871, -3.3956000804901123, -3.4535999298095703, -3.733299970626831, -3.815999984741211, -3.974900007247925, -4.357900142669678, -4.376500129699707, -4.526800155639648, -4.5432000160217285, -4.6697001457214355, -4.684599876403809, -4.72790002822876, -4.739099979400635, -4.816199779510498, -4.934899806976318, -5.266600131988525, -5.427000045776367, -5.831500053405762, -6.200900077819824, -6.437099933624268, -6.444499969482422, -6.4893999099731445, -4.3043999671936035, -2.7385001182556152, -3.184499979019165, -2.3022000789642334, -2.7874999046325684, -1.2978999614715576, -2.213599920272827, -2.380000114440918, -2.794100046157837, -3.1338000297546387, -3.3782999515533447, -3.6036999225616455, -3.7523000240325928, -3.7606000900268555, -3.835099935531616, -4.031799793243408, -4.110400199890137, -4.162899971008301, -4.168099880218506, -4.288599967956543, -4.298999786376953, -4.348800182342529, -4.491300106048584, -4.506499767303467, -4.548900127410889, -4.63640022277832, -4.7480998039245605, -4.8471999168396, -4.892199993133545, -4.945700168609619, -5.078999996185303, -5.192299842834473, -5.276299953460693, -5.305799961090088, -5.343100070953369, -4.189599990844727, -1.4234000444412231, -2.4484000205993652, -2.5232999324798584, -2.960599899291992, -3.08870005607605, -3.166100025177002, -3.7558999061584473, -3.780400037765503, -3.8196001052856445, -3.913100004196167, -3.945199966430664, -3.9504001140594482, -3.9612998962402344, -4.185200214385986, -4.204999923706055, -4.210999965667725, -4.289599895477295, -4.4019999504089355, -4.738900184631348, -4.793099880218506, -5.087699890136719, -5.428999900817871, -5.474699974060059, -5.5833001136779785, -5.894999980926514, -5.936800003051758, -6.146399974822998, -6.146399974822998, -6.614699840545654, -2.692199945449829, -2.68530011177063, -5.067299842834473, -2.3361001014709473, -2.5018999576568604, -2.516900062561035, -2.8357999324798584, -3.0373001098632812, -3.1124000549316406, -3.2762999534606934, -3.380500078201294, -3.460400104522705, -3.498800039291382, -3.643899917602539, -3.966399908065796, -4.057499885559082, -4.106299877166748, -4.120999813079834, -4.139900207519531, -4.221799850463867, -4.2281999588012695, -4.287499904632568, -4.339600086212158, -4.363100051879883, -4.486999988555908, -4.49560022354126, -4.521699905395508, -4.599599838256836, -4.639900207519531, -4.852200031280518, -4.96750020980835, -5.0, -5.169000148773193, -3.2070999145507812, -3.792799949645996, -3.9000000953674316, -4.474400043487549, -2.640700101852417, -2.7692999839782715, -2.812999963760376, -2.8297998905181885, -2.8626999855041504, -3.0722999572753906, -3.2216999530792236, -3.223299980163574, -3.5977001190185547, -3.718899965286255, -3.8645999431610107, -3.8763999938964844, -3.943700075149536, -4.029900074005127, -4.2845001220703125, -4.307300090789795, -4.3171000480651855, -4.376299858093262, -4.472700119018555, -4.52869987487793, -4.53879976272583, -4.6041998863220215, -4.758800029754639, -4.956099987030029, -5.060699939727783, -5.0858001708984375, -5.090199947357178, -5.216300010681152, -5.228600025177002, -5.288000106811523, -2.0280001163482666, -3.265399932861328, -4.389800071716309, -4.393700122833252, -4.432400226593018, -1.5752999782562256, -2.835700035095215, -2.9976999759674072, -3.1026999950408936, -3.1092000007629395, -3.2086000442504883, -3.552999973297119, -3.6522998809814453, -3.6823999881744385, -3.7548000812530518, -3.8433001041412354, -3.848900079727173, -3.886899948120117, -3.9358999729156494, -3.9583001136779785, -4.234799861907959, -4.3007001876831055, -4.316400051116943, -4.341800212860107, -4.450399875640869, -4.52239990234375, -4.527900218963623, -4.52869987487793, -4.569300174713135, -4.592299938201904, -4.6331000328063965, -4.732999801635742, -4.78849983215332, -4.919300079345703, -5.048799991607666, -3.1812000274658203, -3.5571999549865723, -4.720200061798096, -2.1041998863220215, -2.740299940109253, -3.0120999813079834, -3.493299961090088, -3.5469000339508057, -3.5745999813079834, -3.5892999172210693, -3.6026999950408936, -3.6712000370025635, -3.7355000972747803, -3.751800060272217, -3.797300100326538, -3.8069000244140625, -3.8645999431610107, -3.870800018310547, -3.8896000385284424, -3.933199882507324, -3.95740008354187, -3.9612998962402344, -4.020100116729736, -4.074399948120117, -4.118100166320801, -4.1346001625061035, -4.157800197601318, -4.328100204467773, -4.366399765014648, -4.408100128173828, -4.413599967956543, -4.502500057220459, -4.638299942016602, -3.718899965286255, -3.8343000411987305, -3.5085999965667725, -2.2636001110076904, -2.4140000343322754, -2.6542999744415283, -2.68530011177063, -2.6998000144958496, -2.7056000232696533, -3.019399881362915, -3.1317999362945557, -3.2063000202178955, -3.6489999294281006, -3.7493999004364014, -3.827199935913086, -4.155099868774414, -4.164899826049805, -4.242000102996826, -4.41379976272583, -4.434199810028076, -4.435500144958496, -4.6203999519348145, -4.798500061035156, -5.290800094604492, -5.607100009918213, -5.611199855804443, -5.7322001457214355, -5.796199798583984, -6.114799976348877, -4.097300052642822, -7.0543999671936035, -2.1654000282287598, -4.4679999351501465, -4.768700122833252, -4.882999897003174, -1.8788000345230103, -2.272700071334839, -2.930500030517578, -3.060499906539917, -3.2499001026153564, -3.2911999225616455, -3.3022000789642334, -3.3422999382019043, -3.3733999729156494, -3.376199960708618, -3.500200033187866, -3.5288000106811523, -3.5404999256134033, -3.586699962615967, -3.6029000282287598, -3.7046000957489014, -3.7553000450134277, -3.7815001010894775, -4.046299934387207, -4.068900108337402, -4.174099922180176, -4.243599891662598, -4.345099925994873, -4.576200008392334, -4.5817999839782715, -4.619100093841553, -4.638700008392334, -4.925300121307373, -4.954699993133545, -5.031700134277344, -1.8026000261306763, -2.614300012588501, -2.9509999752044678, -3.3101000785827637, -3.364500045776367, -3.3777999877929688, -3.388000011444092, -3.75600004196167, -3.772599935531616, -3.825200080871582, -3.895699977874756, -3.935699939727783, -3.9779999256134033, -3.9988999366760254, -4.021200180053711, -4.129499912261963, -4.13100004196167, -4.132999897003174, -4.13670015335083, -4.316999912261963, -4.330100059509277, -4.357399940490723, -4.364299774169922, -4.380499839782715, -4.408199787139893, -4.4120001792907715, -4.481400012969971, -4.577700138092041, -4.648499965667725, -4.684299945831299, -2.7672998905181885, -4.5721001625061035, -4.571599960327148, -2.042799949645996, -2.4247000217437744, -2.7244999408721924, -2.725800037384033, -2.954900026321411, -3.032599925994873, -3.0550999641418457, -3.1138999462127686, -3.164900064468384, -3.302299976348877, -3.311300039291382, -3.3232998847961426, -3.3273000717163086, -3.4107000827789307, -3.6579999923706055, -4.083099842071533, -4.300000190734863, -4.305200099945068, -4.589700222015381, -4.623799800872803, -4.635000228881836, -4.807799816131592, -4.888299942016602, -4.944900035858154, -5.015200138092041, -5.018599987030029, -5.044400215148926, -5.30679988861084, -5.684500217437744, -5.694900035858154, -4.591100215911865, -4.365300178527832, -5.29040002822876, -1.9589999914169312, -2.586699962615967, -2.989500045776367, -3.1354000568389893, -3.1628000736236572, -3.1882998943328857, -3.2019999027252197, -3.219899892807007, -3.297499895095825, -3.3882999420166016, -3.398099899291992, -3.59689998626709, -3.66759991645813, -3.823199987411499, -3.8694000244140625, -3.9693000316619873, -4.022900104522705, -4.118000030517578, -4.590099811553955, -4.643700122833252, -4.745200157165527, -4.838600158691406, -4.874000072479248, -4.894499778747559, -4.973199844360352, -5.01639986038208, -5.017499923706055, -5.03249979019165, -5.037899971008301, -5.043499946594238, -2.8013999462127686, -3.9721999168395996, -3.753999948501587, -1.8889000415802002, -1.9876999855041504, -2.4921998977661133, -2.5272998809814453, -2.716099977493286, -2.81820011138916, -2.8980000019073486, -3.25570011138916, -3.4846999645233154, -3.835099935531616, -3.9098000526428223, -3.914799928665161, -3.956399917602539, -4.140999794006348, -4.144199848175049, -4.195400238037109, -4.301300048828125, -4.324100017547607, -4.3592000007629395, -4.3628997802734375, -4.47730016708374, -4.665299892425537, -4.703999996185303, -4.976500034332275, -5.206200122833252, -5.582699775695801, -5.8902997970581055, -6.125899791717529, -6.495800018310547, -6.550000190734863, -4.263400077819824, -1.8869999647140503, -1.9757000207901, -2.6064999103546143, -2.6317999362945557, -3.2121999263763428, -3.3578999042510986, -3.3915998935699463, -3.46370005607605, -3.5920000076293945, -3.7430999279022217, -3.762399911880493, -3.9086999893188477, -4.265100002288818, -4.416600227355957, -4.4766998291015625, -4.487599849700928, -4.499499797821045, -4.520299911499023, -4.522799968719482, -4.546999931335449, -4.556700229644775, -4.708600044250488, -4.71999979019165, -4.756499767303467, -4.827600002288818, -4.83050012588501, -4.894899845123291, -4.905600070953369, -5.031799793243408, -5.133200168609619, -3.467900037765503, -4.211299896240234, -1.6154999732971191, -2.4481000900268555, -2.551500082015991, -2.98799991607666, -3.092600107192993, -3.1152000427246094, -3.2715001106262207, -3.4235999584198, -3.5332999229431152, -3.6389000415802, -3.768399953842163, -3.7995998859405518, -3.952199935913086, -4.024499893188477, -4.190999984741211, -4.211100101470947, -4.213900089263916, -4.272200107574463, -4.2870001792907715, -4.346399784088135, -4.35290002822876, -4.656199932098389, -4.73769998550415, -4.743899822235107, -4.878200054168701, -4.899099826812744, -4.9766998291015625, -5.145100116729736, -5.153600215911865, -5.256100177764893, -3.5074000358581543, -4.259500026702881, -2.4423999786376953, -2.526700019836426, -2.7039999961853027, -2.787100076675415, -2.8447000980377197, -2.885200023651123, -3.004300117492676, -3.259399890899658, -3.2711000442504883, -3.3183999061584473, -3.339400053024292, -3.5445001125335693, -3.6854000091552734, -3.719099998474121, -3.7560999393463135, -4.050000190734863, -4.10230016708374, -4.1697998046875, -4.253699779510498, -4.346399784088135, -4.375999927520752, -4.38700008392334, -4.433700084686279, -4.835299968719482, -4.885700225830078, -5.0, -5.058300018310547, -5.242599964141846, -5.362599849700928, -5.5395002365112305, -3.139699935913086, -3.4539999961853027, -1.5794999599456787, -2.1249001026153564, -2.6903998851776123, -3.0185999870300293, -3.1110999584198, -3.4983999729156494, -3.5341999530792236, -3.5931999683380127, -3.992300033569336, -4.018799781799316, -4.025400161743164, -4.203100204467773, -4.2133002281188965, -4.365300178527832, -4.407400131225586, -4.436999797821045, -4.446899890899658, -4.691500186920166, -4.701499938964844, -4.878799915313721, -5.5157999992370605, -5.769100189208984, -5.845799922943115, -5.980800151824951, -6.149199962615967, -6.516499996185303, -6.704400062561035, -2.960400104522705, -7.423399925231934, -7.676599979400635, -2.661600112915039, -2.625999927520752, -2.026900053024292, -2.544600009918213, -2.6552999019622803, -2.8441998958587646, -3.10260009765625, -3.1187000274658203, -3.198499917984009, -3.289299964904785, -3.333899974822998, -3.471299886703491, -3.5104000568389893, -3.5236001014709473, -3.643699884414673, -3.6875998973846436, -3.698899984359741, -3.719099998474121, -3.7946999073028564, -3.9386000633239746, -4.176000118255615, -4.272200107574463, -4.36929988861084, -4.4766998291015625, -4.479899883270264, -4.486400127410889, -4.585999965667725, -4.6975998878479, -5.067599773406982, -5.079599857330322, -5.098700046539307, -5.378200054168701, -4.068699836730957, -4.1793999671936035, -4.682000160217285, -1.736299991607666, -1.8587000370025635, -2.765700101852417, -2.9895999431610107, -3.2190001010894775, -3.388700008392334, -3.441699981689453, -3.4749999046325684, -3.97160005569458, -4.094099998474121, -4.140600204467773, -4.2729997634887695, -4.327400207519531, -4.354899883270264, -4.861800193786621, -4.94950008392334, -5.024600028991699, -5.169600009918213, -5.172900199890137, -5.345600128173828, -5.3790998458862305, -5.555099964141846, -5.907800197601318, -5.997600078582764, -6.07480001449585, -1.8410999774932861, -7.5518999099731445, -4.32889986038208, -3.045099973678589, -12.703800201416016, -12.703800201416016, -12.703800201416016, -12.703800201416016, -12.703800201416016, -12.703800201416016, -12.703800201416016, -12.703800201416016, -12.703800201416016, -12.703800201416016, -12.703800201416016, -12.703800201416016, -1.5734000205993652, -2.512399911880493, -2.622999906539917, -3.065700054168701, -3.073199987411499, -3.0875000953674316, -3.1310999393463135, -3.348099946975708, -3.4126999378204346, -3.8315999507904053, -3.925800085067749, -3.9465999603271484, -4.148200035095215, -4.249100208282471, -4.289400100708008, -4.334499835968018, -4.439599990844727, -4.6940999031066895, -4.713600158691406, -4.836299896240234, -4.932700157165527, -4.974999904632568, -5.160999774932861, -5.225500106811523, -5.28439998626709, -5.4446001052856445, -5.497900009155273, -5.546500205993652, -5.609600067138672, -5.843599796295166, -2.452500104904175, -3.697000026702881, -5.4008002281188965, -1.7963000535964966, -1.909999966621399, -2.453200101852417, -2.6582000255584717, -3.1452999114990234, -3.2304000854492188, -3.5146000385284424, -3.529900074005127, -3.672600030899048, -3.694700002670288, -3.699899911880493, -3.7132999897003174, -3.769700050354004, -3.9809000492095947, -3.996500015258789, -4.43310022354126, -4.456099987030029, -4.554599761962891, -4.735899925231934, -4.7866997718811035, -4.8744001388549805, -4.894800186157227, -5.143400192260742, -5.325399875640869, -5.506999969482422, -5.524199962615967, -5.723199844360352, -6.431300163269043, -4.314199924468994, -4.185100078582764, -3.197200059890747, -4.188399791717529, -2.659600019454956, -2.803100109100342, -2.8508999347686768, -2.893199920654297, -3.2813000679016113, -3.311500072479248, -3.507200002670288, -3.585200071334839, -3.6733999252319336, -3.7720000743865967, -3.8478000164031982, -3.8870999813079834, -3.8968000411987305, -3.937299966812134, -4.012899875640869, -4.015699863433838, -4.02869987487793, -4.078400135040283, -4.156000137329102, -4.173699855804443, -4.252299785614014, -4.256899833679199, -4.257500171661377, -4.320199966430664, -4.3572998046875, -4.3730998039245605, -4.382999897003174, -4.450799942016602, -4.466700077056885, -4.480299949645996, -3.27839994430542, -3.347599983215332, -2.305000066757202, -2.503000020980835, -2.7987000942230225, -2.8629000186920166, -2.9254000186920166, -3.02810001373291, -3.3410000801086426, -3.344399929046631, -3.4163999557495117, -3.4467999935150146, -3.596299886703491, -3.627700090408325, -3.6977999210357666, -3.7987000942230225, -3.8580000400543213, -3.864500045776367, -3.9976999759674072, -4.018599987030029, -4.19379997253418, -4.23829984664917, -4.273099899291992, -4.314700126647949, -4.321499824523926, -4.612100124359131, -4.79040002822876, -4.8471999168396, -4.875500202178955, -4.881899833679199, -4.922399997711182, -4.9492998123168945, -4.602799892425537, -4.60230016708374, -1.5190999507904053, -1.916700005531311, -1.969599962234497, -2.9268999099731445, -3.214400053024292, -3.5230000019073486, -3.6719000339508057, -4.05049991607666, -4.179999828338623, -4.4029998779296875, -4.410900115966797, -4.905600070953369, -4.996099948883057, -5.169899940490723, -5.200099945068359, -5.250100135803223, -5.2733001708984375, -5.679800033569336, -5.890200138092041, -6.08050012588501, -3.251199960708618, -2.2074999809265137, -3.7323999404907227, -4.042300224304199, -12.68220043182373, -12.68220043182373, -12.68220043182373, -12.68220043182373, -12.68220043182373, -12.68220043182373, -12.68220043182373, -12.68220043182373, -12.68220043182373, -12.68220043182373, -12.68220043182373, -12.68220043182373, -12.68220043182373, -12.68220043182373, -2.262500047683716, -2.644399881362915, -2.8201000690460205, -2.8526999950408936, -2.9042000770568848, -2.9412999153137207, -2.9839000701904297, -3.03629994392395, -3.176500082015991, -3.228600025177002, -3.3176000118255615, -3.322999954223633, -3.5309998989105225, -3.8183000087738037, -3.990999937057495, -4.192200183868408, -4.351900100708008, -4.406599998474121, -4.48769998550415, -4.55210018157959, -4.639699935913086, -4.671999931335449, -4.704599857330322, -4.799099922180176, -4.894000053405762, -5.091899871826172, -5.119999885559082, -5.149899959564209, -5.213600158691406, -5.228000164031982, -4.080999851226807, -4.6859002113342285, -4.986700057983398, -1.4766000509262085, -2.812999963760376, -2.9435999393463135, -3.136899948120117, -3.421600103378296, -3.460900068283081, -3.664799928665161, -3.670099973678589, -3.707200050354004, -3.7665998935699463, -3.808199882507324, -3.8661000728607178, -3.9772000312805176, -3.9802000522613525, -4.162099838256836, -4.2204999923706055, -4.244999885559082, -4.2769999504089355, -4.306300163269043, -4.365099906921387, -4.458399772644043, -4.696100234985352, -4.697999954223633, -4.71999979019165, -4.748899936676025, -4.9552998542785645, -4.9670000076293945, -5.0472002029418945, -5.154200077056885, -5.181600093841553, -2.7955000400543213, -3.759700059890747, -4.337699890136719, -2.5497000217437744, -2.5978000164031982, -2.614300012588501, -2.729300022125244, -2.883500099182129, -2.9049999713897705, -2.960400104522705, -3.0553998947143555, -3.318000078201294, -3.4656999111175537, -3.586899995803833, -3.6173999309539795, -3.7263998985290527, -3.7897000312805176, -3.8266000747680664, -3.83240008354187, -3.8443000316619873, -3.8469998836517334, -3.8605000972747803, -3.9409000873565674, -4.043099880218506, -4.057199954986572, -4.17110013961792, -4.444200038909912, -4.4903998374938965, -4.74429988861084, -4.7718000411987305, -5.072299957275391, -5.148600101470947, -5.229000091552734, -4.572000026702881, -5.058199882507324, -2.659899950027466, -2.724299907684326, -2.9030001163482666, -2.998800039291382, -3.1301000118255615, -3.2618000507354736, -3.339099884033203, -3.4521000385284424, -3.5143001079559326, -3.5350000858306885, -3.575500011444092, -3.623699903488159, -3.8125, -3.8966000080108643, -3.9263999462127686, -4.05049991607666, -4.083399772644043, -4.376699924468994, -4.397200107574463, -4.537399768829346, -4.555799961090088, -4.663000106811523, -4.712100028991699, -4.791100025177002, -4.815800189971924, -4.829500198364258, -4.868100166320801, -4.888199806213379, -5.19350004196167, -5.196800231933594, -2.4433999061584473, -3.2070000171661377, -2.819499969482422, -4.759200096130371, -3.9440999031066895, -2.157900094985962, -2.553499937057495, -2.665800094604492, -2.8919999599456787, -3.1073999404907227, -3.3770999908447266, -3.516900062561035, -3.566800117492676, -3.626199960708618, -3.6956000328063965, -3.7116000652313232, -3.8078999519348145, -3.8192999362945557, -3.9893999099731445, -4.185299873352051, -4.211100101470947, -4.230199813842773, -4.28879976272583, -4.3403000831604, -4.344200134277344, -4.454599857330322, -4.484000205993652, -4.537600040435791, -4.585700035095215, -4.6315999031066895, -4.632299900054932, -4.664899826049805, -4.691999912261963, -5.000699996948242, -5.01140022277832, -2.769200086593628, -3.033900022506714, -2.5708999633789062, -2.6349000930786133, -2.68530011177063, -2.6888999938964844, -3.0285000801086426, -3.1830999851226807, -3.301500082015991, -3.4593000411987305, -3.545599937438965, -3.6054999828338623, -3.6621999740600586, -3.7100000381469727, -3.7497000694274902, -3.890000104904175, -3.9721999168395996, -3.9897000789642334, -4.044899940490723, -4.085299968719482, -4.0883002281188965, -4.111499786376953, -4.123600006103516, -4.168799877166748, -4.404399871826172, -4.435100078582764, -4.455399990081787, -4.579800128936768, -4.638500213623047, -4.6828999519348145, -4.8678998947143555, -4.881700038909912, -3.7616000175476074, -3.449700117111206, -2.3436999320983887, -2.352799892425537, -2.433000087738037, -2.5632998943328857, -2.662400007247925, -2.9265999794006348, -2.969899892807007, -3.077500104904175, -3.231100082397461, -3.231600046157837, -3.7488999366760254, -4.079500198364258, -4.082200050354004, -4.341000080108643, -4.343800067901611, -4.378900051116943, -4.402900218963623, -4.4116997718811035, -4.416399955749512, -4.461699962615967, -4.515900135040283, -4.633999824523926, -4.686200141906738, -4.90939998626709, -4.920400142669678, -4.986400127410889, -4.999300003051758, -5.200699806213379, -5.408599853515625, -5.50439977645874, -4.038400173187256, -4.431000232696533, -5.13539981842041, -2.2606000900268555, -2.599299907684326, -2.7172999382019043, -2.9142000675201416, -2.9375998973846436, -3.3469998836517334, -3.3659000396728516, -3.4217000007629395, -3.4293999671936035, -3.4458999633789062, -3.4774999618530273, -3.6333999633789062, -3.865299940109253, -3.8714001178741455, -3.938999891281128, -4.207200050354004, -4.279399871826172, -4.281000137329102, -4.299600124359131, -4.365600109100342, -4.3968000411987305, -4.420100212097168, -4.4303998947143555, -4.4394001960754395, -4.508999824523926, -4.556399822235107, -4.567699909210205, -4.6082000732421875, -4.613100051879883, -4.792699813842773, -3.9440999031066895, -4.10129976272583, -1.9918999671936035, -2.816699981689453, -2.961699962615967, -2.996299982070923, -3.006500005722046, -3.1431000232696533, -3.5850000381469727, -3.637500047683716, -3.638000011444092, -3.6628000736236572, -3.7492001056671143, -3.7822000980377197, -3.8053998947143555, -3.900599956512451, -3.9112000465393066, -3.9177000522613525, -3.9463000297546387, -3.98009991645813, -4.107500076293945, -4.131400108337402, -4.274499893188477, -4.388800144195557, -4.417500019073486, -4.458600044250488, -4.636499881744385, -4.741799831390381, -4.748000144958496, -4.759900093078613, -4.86299991607666, -5.004899978637695, -3.390199899673462, -4.047299861907959, -3.180500030517578, -1.2366000413894653, -2.7913999557495117, -2.932800054550171, -2.9763998985290527, -3.1024999618530273, -3.36929988861084, -3.4303998947143555, -3.452699899673462, -3.5220000743865967, -3.549299955368042, -3.6793999671936035, -3.684999942779541, -3.7109999656677246, -3.793299913406372, -3.8173999786376953, -3.8958001136779785, -4.0507001876831055, -4.05620002746582, -4.380899906158447, -4.388199806213379, -4.691999912261963, -4.967400074005127, -5.507800102233887, -5.606299877166748, -12.426799774169922, -12.426799774169922, -12.426799774169922, -12.426799774169922, -12.426799774169922, -12.426799774169922, -3.635699987411499, -12.426799774169922, -12.426799774169922, -12.426799774169922, -12.426799774169922, -12.426799774169922, -3.780600070953369, -12.426799774169922, -12.426799774169922, -12.426799774169922, -12.426799774169922, -1.7589000463485718, -2.768699884414673, -2.777899980545044, -3.077699899673462, -3.1561999320983887, -3.193700075149536, -3.2648000717163086, -3.2792000770568848, -3.3145999908447266, -3.322499990463257, -3.3464999198913574, -3.3880999088287354, -3.8664000034332275, -4.076099872589111, -4.092199802398682, -4.254899978637695, -4.269999980926514, -4.412700176239014, -4.478000164031982, -4.491199970245361, -4.513299942016602, -4.544300079345703, -4.572800159454346, -4.9471001625061035, -5.195400238037109, -5.264999866485596, -5.321599960327148, -5.3649001121521, -5.590799808502197, -5.788300037384033, -4.984799861907959, -3.0427000522613525, -3.6305999755859375], \"loglift\": [30.0, 29.0, 28.0, 27.0, 26.0, 25.0, 24.0, 23.0, 22.0, 21.0, 20.0, 19.0, 18.0, 17.0, 16.0, 15.0, 14.0, 13.0, 12.0, 11.0, 10.0, 9.0, 8.0, 7.0, 6.0, 5.0, 4.0, 3.0, 2.0, 1.0, 3.4786, 3.4775, 3.474, 3.4724, 3.4709, 3.4691, 3.4682, 3.4596, 3.4582, 3.4566, 3.4553, 3.4551, 3.4479, 3.4372, 3.4319, 3.4191, 3.4122, 3.4114, 3.4065, 3.4017, 3.3848, 3.3829, 3.3795, 3.3775, 3.372, 3.3593, 3.3575, 3.3328, 3.3315, 3.3253, 3.1064, 3.039, 2.7881, -0.267, 3.7425, 3.7423, 3.742, 3.742, 3.7379, 3.7367, 3.7342, 3.7321, 3.7284, 3.7283, 3.7275, 3.7262, 3.7253, 3.7186, 3.7177, 3.7168, 3.7132, 3.7121, 3.6996, 3.6925, 3.6544, 3.6464, 3.638, 3.6314, 3.6166, 3.5764, 3.5432, 3.492, 3.4682, 3.4528, 3.4417, 2.7949, 1.237, 1.1221, 3.7508, 3.7508, 3.7503, 3.75, 3.7499, 3.7496, 3.7495, 3.7491, 3.7488, 3.7483, 3.747, 3.7455, 3.7454, 3.7447, 3.7446, 3.7428, 3.7425, 3.742, 3.7412, 3.7402, 3.7389, 3.7382, 3.7309, 3.7258, 3.7242, 3.7213, 3.7211, 3.7152, 3.7143, 3.7095, 3.6109, 2.7646, 2.9079, 1.8102, 0.7738, 3.7699, 3.7683, 3.7674, 3.7654, 3.7634, 3.7604, 3.7589, 3.7577, 3.7576, 3.7547, 3.7545, 3.7482, 3.7475, 3.7457, 3.7419, 3.7349, 3.734, 3.7334, 3.7319, 3.7137, 3.7134, 3.7119, 3.7064, 3.7037, 3.6964, 3.6889, 3.6862, 3.6823, 3.6667, 3.6654, 3.5398, 3.0045, 2.9666, 1.2899, 2.7577, -1.264, 4.1898, 4.1875, 4.1875, 4.1859, 4.1824, 4.1782, 4.1751, 4.174, 4.1733, 4.1699, 4.1681, 4.1646, 4.1629, 4.1614, 4.1608, 4.1563, 4.1546, 4.1453, 4.1417, 4.1409, 4.1326, 4.1323, 4.1203, 3.9858, 3.937, 3.7464, 1.3573, 1.276, 1.2738, -0.0445, 4.2009, 4.2002, 4.1999, 4.1993, 4.1987, 4.1979, 4.1962, 4.1953, 4.1943, 4.1913, 4.1897, 4.1887, 4.1862, 4.1822, 4.1795, 4.1735, 4.1719, 4.164, 4.1557, 4.1531, 4.1477, 4.145, 4.1399, 4.127, 4.1243, 4.0515, 4.0016, 3.8224, 3.2249, 3.0617, 0.3504, 0.514, 4.2484, 4.2478, 4.2461, 4.2459, 4.2432, 4.2423, 4.2418, 4.2411, 4.2358, 4.2321, 4.2265, 4.2143, 4.2137, 4.2102, 4.2096, 4.2071, 4.2043, 4.2034, 4.1989, 4.1936, 4.1895, 4.1889, 4.1832, 4.1555, 4.1546, 4.146, 4.1451, 3.9911, 0.6721, -0.5628, 4.2563, 4.2557, 4.2547, 4.2542, 4.254, 4.2536, 4.2529, 4.2525, 4.2516, 4.2491, 4.2489, 4.2477, 4.2471, 4.2467, 4.2451, 4.2446, 4.2433, 4.2353, 4.2341, 4.23, 4.229, 4.2282, 4.2226, 4.2196, 4.2176, 4.2165, 4.2054, 4.2036, 4.1997, 4.1812, 4.1642, 3.5623, 4.2628, 4.2619, 4.2604, 4.2595, 4.2588, 4.2539, 4.2536, 4.2534, 4.2503, 4.2503, 4.25, 4.2486, 4.2484, 4.2479, 4.2468, 4.2434, 4.2433, 4.2377, 4.2341, 4.2321, 4.2309, 4.225, 4.1826, 4.1578, 4.1556, 2.1507, 1.4795, 0.6502, -0.6075, -0.6075, -0.6075, -0.6075, -0.6075, -0.6075, -0.6075, -0.6075, -0.6075, 4.2936, 4.2934, 4.2934, 4.2934, 4.2854, 4.2827, 4.2823, 4.2816, 4.2789, 4.2713, 4.2711, 4.2707, 4.2659, 4.2608, 4.2553, 4.1917, 4.1832, 4.1796, 4.1501, 4.1001, 4.0884, 4.0784, 4.0396, 1.6216, 0.9279, -0.5244, -0.5244, -0.5244, -0.5244, -0.5244, -0.5244, -0.5244, -0.5244, -0.5244, -0.5244, 4.3199, 4.3192, 4.3185, 4.318, 4.3176, 4.3155, 4.3115, 4.3114, 4.3102, 4.3057, 4.3006, 4.2978, 4.2959, 4.2937, 4.2934, 4.2793, 4.278, 4.269, 4.2688, 4.2505, 4.2314, 4.1897, 4.1592, 4.0514, 2.995, 2.5373, 1.2523, 0.3207, -0.5945, -0.5945, -0.5945, -0.5945, -0.5945, -0.5945, -0.5945, -0.5945, -0.5945, -0.5945, -0.5945, -0.5945, 4.3211, 4.3178, 4.3139, 4.3121, 4.3117, 4.3114, 4.3109, 4.3109, 4.3092, 4.3082, 4.3081, 4.308, 4.3006, 4.2996, 4.2989, 4.2988, 4.2973, 4.2924, 4.2901, 4.29, 4.2893, 4.2869, 4.2859, 4.2847, 4.2847, 4.2797, 4.2781, 4.276, 4.2736, 4.2726, 4.0779, 3.0401, 1.0772, 1.1492, 4.3231, 4.3211, 4.3194, 4.3169, 4.3161, 4.3158, 4.3148, 4.3144, 4.3137, 4.3132, 4.3122, 4.3106, 4.3099, 4.309, 4.3085, 4.3082, 4.3037, 4.3008, 4.3, 4.2972, 4.2919, 4.29, 4.283, 4.2764, 4.2664, 4.2493, 4.2477, 4.2282, 4.2149, 3.5752, 2.0207, 2.1652, 3.1635, 4.357, 4.3544, 4.3476, 4.3423, 4.3414, 4.3411, 4.338, 4.3344, 4.3343, 4.3342, 4.3334, 4.3305, 4.3304, 4.3293, 4.3279, 4.3261, 4.3258, 4.3255, 4.3253, 4.3237, 4.3121, 4.3114, 4.3088, 4.3076, 4.3035, 4.2889, 4.2878, 4.2771, 4.2695, 4.2643, 4.1719, 1.7516, 1.5077, 3.2575, 0.1777, 4.3635, 4.3607, 4.3599, 4.3588, 4.3581, 4.3578, 4.3576, 4.3566, 4.3552, 4.3552, 4.352, 4.3473, 4.347, 4.3455, 4.3439, 4.3407, 4.3365, 4.3354, 4.3342, 4.3315, 4.3315, 4.3261, 4.3206, 4.3192, 4.3182, 4.3181, 4.3175, 4.3123, 4.3054, 4.3052, 4.2388, 3.8912, 0.6237, 0.2241, 2.2359, 4.4218, 4.4199, 4.4198, 4.4195, 4.419, 4.4178, 4.415, 4.4148, 4.4138, 4.4092, 4.4047, 4.4038, 4.4034, 4.4028, 4.3966, 4.3966, 4.378, 4.3665, 4.3641, 4.3571, 4.3075, 4.2609, 1.641, -0.4144, -0.4144, -0.4144, -0.4144, -0.4144, -0.4144, -0.4144, -0.4144, -0.4144, -0.4144, -0.4144, -0.4144, -0.4144, -0.4144, -0.4144, -0.4144, -0.4144, -0.4144, -0.4144, -0.4144, -0.4144, -0.4144, -0.4144, -0.4144, -0.4144, -0.4144, -0.4144, -0.4144, -0.4144, -0.4144, -0.4144, -0.4144, -0.4144, -0.4144, -0.4144, -0.4144, 4.4465, 4.4423, 4.442, 4.4396, 4.4393, 4.439, 4.4369, 4.4365, 4.4363, 4.4354, 4.4341, 4.433, 4.4316, 4.4291, 4.4283, 4.426, 4.4202, 4.42, 4.419, 4.4181, 4.4177, 4.4177, 4.4108, 4.4107, 4.4077, 4.4065, 4.3972, 4.3971, 4.3955, 4.3743, 4.3536, 4.246, 4.2663, 0.7808, 0.7641, 3.5795, 4.4718, 4.4718, 4.471, 4.4684, 4.4683, 4.463, 4.4569, 4.4473, 4.4463, 4.4363, 4.4307, 4.4236, 4.4128, 4.4107, 4.4047, 4.3934, 4.3907, 4.3598, 4.35, 4.3346, 4.3303, 4.2858, 4.1857, 3.9593, 3.0016, 1.3211, -0.4173, -0.4173, -0.4173, -0.4173, -0.6153, -0.4173, -0.4173, -0.4173, -0.4173, -0.4173, -0.4173, -0.4173, -0.4173, -0.4173, -0.4173, 4.4879, 4.4871, 4.4855, 4.4842, 4.4841, 4.481, 4.4791, 4.4785, 4.4747, 4.4742, 4.4695, 4.4675, 4.4672, 4.4666, 4.466, 4.4584, 4.458, 4.4577, 4.4565, 4.4506, 4.4474, 4.4435, 4.4422, 4.4358, 4.4347, 4.4311, 4.4269, 4.4243, 4.4214, 4.4119, 2.7061, 2.0245, 1.9066, 3.2744, 2.3561, 4.5374, 4.5373, 4.536, 4.5354, 4.5335, 4.5308, 4.5289, 4.5272, 4.5261, 4.5258, 4.5254, 4.5252, 4.5251, 4.5245, 4.5205, 4.5159, 4.5104, 4.5094, 4.5059, 4.4948, 4.485, 4.4731, 4.4723, 4.4697, 4.4543, 4.3852, 4.3613, 4.3407, 4.1836, 3.0408, 0.9281, 0.3758, 4.6, 4.5991, 4.5988, 4.5971, 4.5961, 4.5961, 4.5938, 4.5927, 4.5851, 4.5847, 4.5843, 4.5829, 4.5801, 4.5782, 4.5771, 4.5755, 4.5751, 4.5727, 4.5695, 4.5678, 4.5633, 4.557, 4.5532, 4.553, 4.552, 4.5479, 4.5459, 4.5455, 4.5455, 4.5417, 4.4724, 1.1981, 0.4151, 4.6019, 4.5996, 4.5993, 4.5992, 4.5961, 4.5959, 4.5953, 4.5921, 4.5862, 4.5845, 4.5832, 4.5831, 4.5788, 4.5769, 4.5736, 4.5709, 4.5696, 4.5629, 4.5581, 4.5532, 4.5509, 4.5455, 4.5357, 4.527, 4.5131, 4.509, 4.4728, 4.4514, 4.4486, 4.3912, 3.2143, 0.8802, -0.6749, 4.6153, 4.6132, 4.6119, 4.6118, 4.6115, 4.611, 4.6108, 4.6108, 4.6101, 4.6088, 4.6081, 4.6064, 4.6062, 4.6059, 4.6042, 4.5992, 4.5966, 4.5966, 4.5941, 4.592, 4.5914, 4.5906, 4.589, 4.5886, 4.5882, 4.5819, 4.5788, 4.5739, 4.5724, 4.5702, 3.4359, 0.2434, -0.4789, 4.6328, 4.6317, 4.6298, 4.6294, 4.6291, 4.629, 4.6286, 4.6272, 4.6267, 4.6258, 4.6247, 4.6246, 4.6221, 4.6178, 4.6141, 4.6115, 4.6099, 4.6097, 4.6088, 4.6078, 4.6049, 4.6037, 4.5967, 4.5963, 4.5936, 4.5932, 4.5871, 4.5862, 4.5853, 4.583, 4.4084, 3.8989, 4.2459, 3.0324, 4.6401, 4.6386, 4.6346, 4.6344, 4.6332, 4.6296, 4.6269, 4.6254, 4.6219, 4.6214, 4.6201, 4.6081, 4.6048, 4.604, 4.6027, 4.5983, 4.598, 4.5775, 4.5766, 4.5708, 4.5546, 4.5538, 4.5164, 4.5069, 4.4869, 4.4666, 4.4664, 4.4279, 4.4265, 4.3985, 0.6368, -0.9809, 2.2311, 4.6443, 4.6433, 4.6432, 4.6432, 4.643, 4.642, 4.6411, 4.6399, 4.6375, 4.6373, 4.6366, 4.6356, 4.6291, 4.6246, 4.6241, 4.6207, 4.6184, 4.6153, 4.6146, 4.6124, 4.6094, 4.6076, 4.5995, 4.5987, 4.5893, 4.5814, 4.5703, 4.5703, 4.5696, 4.569, -1.3121, 4.6653, 4.6645, 4.6631, 4.6626, 4.6557, 4.6519, 4.651, 4.6506, 4.6505, 4.6483, 4.646, 4.6441, 4.6437, 4.6432, 4.6413, 4.641, 4.6382, 4.63, 4.6203, 4.6202, 4.5931, 4.576, 4.5759, 4.5432, 4.5119, 4.4619, 4.4326, 4.429, 4.429, 4.4144, 4.3152, 0.7461, 0.8161, 1.2586, 4.6786, 4.676, 4.6728, 4.6722, 4.6716, 4.6691, 4.6679, 4.6644, 4.6634, 4.6624, 4.6608, 4.6607, 4.6592, 4.6592, 4.6556, 4.655, 4.6536, 4.6533, 4.6532, 4.6526, 4.6517, 4.6509, 4.6486, 4.6435, 4.6394, 4.6394, 4.6363, 4.6275, 4.6214, 4.6156, 4.5745, 4.3423, 3.7571, 1.3004, -0.0202, 4.6948, 4.6945, 4.6935, 4.6928, 4.6926, 4.6916, 4.6884, 4.6841, 4.6812, 4.6784, 4.6772, 4.6745, 4.6722, 4.6719, 4.6709, 4.6683, 4.6657, 4.6657, 4.6651, 4.6648, 4.6614, 4.6604, 4.6593, 4.6578, 4.6503, 4.6365, 4.636, 4.6282, 4.628, 4.6119, 4.5456, 3.8882, -0.5404, -0.4011, 0.363, 4.6955, 4.6927, 4.6925, 4.6918, 4.6915, 4.6912, 4.6889, 4.6877, 4.6876, 4.6875, 4.6856, 4.6851, 4.6822, 4.6812, 4.6786, 4.6783, 4.6781, 4.6781, 4.6776, 4.6775, 4.6773, 4.6772, 4.6754, 4.6701, 4.6609, 4.6578, 4.6574, 4.655, 4.6482, 4.6459, 4.4802, 4.4212, 3.0976, 1.6138, -1.1333, -1.3587, 4.705, 4.7042, 4.7042, 4.7036, 4.7029, 4.7006, 4.6991, 4.6956, 4.6917, 4.6909, 4.6884, 4.6856, 4.6832, 4.6814, 4.6801, 4.6796, 4.6753, 4.6707, 4.6707, 4.6686, 4.6645, 4.6444, 4.6341, 4.6335, 4.6286, 4.611, 4.5509, 4.5508, 4.5087, 4.3242, -0.1391, 0.6366, -0.9063, 4.7378, 4.7346, 4.7346, 4.7345, 4.7344, 4.7286, 4.7282, 4.7279, 4.7279, 4.7272, 4.7242, 4.7186, 4.701, 4.7003, 4.6961, 4.6875, 4.6832, 4.6366, 4.6308, 4.6229, 4.5883, 3.5155, 3.0388, 2.9373, 2.5996, 1.2389, -0.0352, -0.0352, -0.0352, -0.0352, -0.0886, -0.0352, -0.0352, -0.0352, -0.0352, 4.7765, 4.7752, 4.7748, 4.7745, 4.7739, 4.7734, 4.7724, 4.772, 4.7715, 4.7706, 4.7697, 4.769, 4.7662, 4.7654, 4.762, 4.7615, 4.7603, 4.7601, 4.7599, 4.7593, 4.7469, 4.7397, 4.7271, 4.7197, 4.7097, 4.7087, 4.6967, 4.6801, 4.6772, 4.653, 1.4892, -0.8325, 4.777, 4.7748, 4.7731, 4.7693, 4.7691, 4.766, 4.7659, 4.7657, 4.7657, 4.7657, 4.7649, 4.7621, 4.7603, 4.7594, 4.7574, 4.7534, 4.7525, 4.752, 4.7505, 4.7467, 4.6877, 4.6775, 4.6755, 4.6575, 4.5646, 4.5164, 4.5066, 4.45, 4.3864, 3.2185, 2.8668, 1.241, 4.7857, 4.7848, 4.7844, 4.7839, 4.7837, 4.7836, 4.7822, 4.7803, 4.7796, 4.778, 4.7773, 4.7756, 4.7746, 4.7746, 4.7741, 4.7706, 4.7684, 4.7662, 4.7645, 4.7602, 4.7597, 4.7591, 4.7585, 4.753, 4.7525, 4.7521, 4.747, 4.7423, 4.7391, 4.7372, 3.5765, 4.7851, 4.7848, 4.7848, 4.7846, 4.7843, 4.7842, 4.7837, 4.7819, 4.7819, 4.7812, 4.7811, 4.7811, 4.7806, 4.7795, 4.7786, 4.7781, 4.7764, 4.776, 4.7733, 4.7685, 4.7666, 4.7652, 4.761, 4.7593, 4.7587, 4.7559, 4.7522, 4.7506, 4.7255, 4.7253, 3.3391, 2.3572, 0.355, -1.3634, 4.7987, 4.7978, 4.7952, 4.7945, 4.7944, 4.7943, 4.7911, 4.7904, 4.7889, 4.7877, 4.7825, 4.7818, 4.7808, 4.7807, 4.7793, 4.7769, 4.7758, 4.7741, 4.7737, 4.7726, 4.7725, 4.7716, 4.771, 4.7708, 4.7625, 4.7486, 4.7464, 4.7464, 4.7434, 4.7429, 4.5564, -0.7857, 4.8181, 4.8172, 4.8163, 4.8162, 4.8162, 4.8159, 4.8138, 4.8136, 4.8126, 4.812, 4.8116, 4.8094, 4.8087, 4.8038, 4.8037, 4.7985, 4.7957, 4.7926, 4.7897, 4.7736, 4.7727, 4.7646, 4.7564, 4.7529, 4.7435, 4.727, 4.6996, 4.6965, 4.6933, 4.6368, 3.9757, 3.742, 0.1266, -1.4716, 4.8219, 4.8189, 4.8167, 4.8155, 4.8121, 4.8089, 4.796, 4.7903, 4.7839, 4.7831, 4.7776, 4.7444, 4.7273, 4.721, 4.7185, 4.7074, 4.7072, 4.6898, 4.6491, 4.6222, 4.402, 4.402, 0.6701, 0.5682, -0.0103, -0.0103, -0.0103, -0.0103, -0.0103, -0.0103, -0.0103, -0.0103, -0.0103, -0.0103, -0.0103, -0.0103, -0.0103, -0.0103, -0.0103, -0.0103, -0.0103, -0.0103, -0.0103, -0.0103, -0.0103, -0.0103, -0.0103, 4.8276, 4.8258, 4.8252, 4.8251, 4.8248, 4.8242, 4.8242, 4.8232, 4.822, 4.8197, 4.8187, 4.8139, 4.8138, 4.8136, 4.812, 4.8105, 4.8102, 4.8102, 4.8075, 4.8018, 4.8001, 4.7995, 4.7984, 4.7983, 4.797, 4.7836, 4.7799, 4.7797, 4.776, 4.7682, 2.5754, 0.5169, 4.8498, 4.8465, 4.8439, 4.8433, 4.8423, 4.8413, 4.8405, 4.8366, 4.8365, 4.8347, 4.831, 4.8251, 4.8215, 4.818, 4.8165, 4.8132, 4.8131, 4.8036, 4.8026, 4.786, 4.7748, 4.7651, 4.7492, 4.7207, 4.7053, 4.5516, 4.2764, 3.4904, 0.9997, 0.1295, 4.8483, 4.8475, 4.8474, 4.8455, 4.8436, 4.8428, 4.8423, 4.8405, 4.8396, 4.8381, 4.8376, 4.8368, 4.835, 4.8303, 4.83, 4.8299, 4.8282, 4.8271, 4.8269, 4.8258, 4.822, 4.8212, 4.8147, 4.8119, 4.8116, 4.8079, 4.8063, 4.805, 4.8049, 4.8032, 4.5245, 0.7624, 4.8509, 4.8498, 4.8485, 4.8485, 4.8477, 4.8476, 4.8474, 4.8461, 4.8458, 4.8446, 4.8443, 4.8406, 4.839, 4.8366, 4.8359, 4.8359, 4.8266, 4.8206, 4.8198, 4.8081, 4.8078, 4.8064, 4.801, 4.792, 4.7828, 4.7734, 4.7577, 4.7294, 4.7254, 4.7188, -2.1953, -2.6482, 4.8509, 4.8503, 4.8494, 4.8474, 4.8466, 4.8463, 4.8462, 4.8457, 4.8433, 4.8426, 4.8413, 4.8409, 4.84, 4.8396, 4.8374, 4.8366, 4.8359, 4.8348, 4.8333, 4.8312, 4.8284, 4.8274, 4.8241, 4.8236, 4.8207, 4.8179, 4.8177, 4.8149, 4.8081, 4.8047, 3.2567, -0.3149, -0.5795, 4.8573, 4.8571, 4.8566, 4.8561, 4.8545, 4.8543, 4.8536, 4.8529, 4.8502, 4.8489, 4.8483, 4.8473, 4.8452, 4.8432, 4.8381, 4.837, 4.8343, 4.8331, 4.8327, 4.8292, 4.8262, 4.8252, 4.8092, 4.8037, 4.7872, 0.0645, 0.0645, 0.0645, 0.0645, 0.0645, -2.1413, 0.0645, 0.0645, -2.2728, 0.0645, 0.0645, 0.0645, 0.0645, 0.0645, 4.8594, 4.8587, 4.8578, 4.856, 4.8525, 4.8513, 4.8508, 4.8503, 4.8487, 4.8483, 4.847, 4.846, 4.8451, 4.845, 4.8449, 4.8442, 4.8413, 4.8409, 4.8409, 4.8406, 4.8393, 4.8366, 4.8229, 4.8201, 4.8196, 4.8079, 4.8004, 4.7876, 4.7792, 4.774, 4.6599, 4.4148, 4.2638, 0.3648, -0.1965, 0.9881, 4.8627, 4.8619, 4.8616, 4.8604, 4.8602, 4.8592, 4.8587, 4.8579, 4.8557, 4.8552, 4.8521, 4.8519, 4.8498, 4.8429, 4.8423, 4.8415, 4.8407, 4.839, 4.835, 4.8332, 4.8307, 4.8304, 4.8251, 4.8104, 4.7949, 4.7798, 4.7763, 4.7719, 4.7667, 4.7388, -0.2055, -0.9318, 4.8717, 4.871, 4.8699, 4.8672, 4.8665, 4.8655, 4.8635, 4.8631, 4.8626, 4.8621, 4.86, 4.8588, 4.8568, 4.8553, 4.8546, 4.8542, 4.8362, 4.8342, 4.8301, 4.8297, 4.8162, 4.8157, 4.814, 4.7806, 4.7726, 4.7632, 4.7556, 4.7213, 4.7022, 3.2555, 2.4235, 1.2968, 0.8024, 4.8841, 4.8838, 4.8806, 4.8795, 4.8794, 4.8777, 4.875, 4.8748, 4.8743, 4.8743, 4.8731, 4.8721, 4.8686, 4.8676, 4.8654, 4.8652, 4.8644, 4.8621, 4.8613, 4.8591, 4.8575, 4.8573, 4.8567, 4.8557, 4.8548, 4.8533, 4.8532, 4.8505, 4.8465, 4.8426, 4.4381, 3.4313, 1.5562, -0.7058, -1.149, 4.8873, 4.886, 4.8857, 4.8849, 4.8829, 4.8824, 4.8812, 4.8812, 4.8784, 4.8743, 4.8742, 4.8735, 4.8733, 4.872, 4.8715, 4.8711, 4.8699, 4.8689, 4.8665, 4.8654, 4.8606, 4.8567, 4.853, 4.8511, 4.8506, 4.8487, 4.8486, 4.847, 4.8444, 4.8427, 4.7115, -0.1315, 3.9639, -1.3335, 4.9002, 4.9001, 4.8991, 4.8954, 4.8941, 4.8915, 4.8895, 4.889, 4.8884, 4.8873, 4.8854, 4.8835, 4.8828, 4.8814, 4.8775, 4.876, 4.8659, 4.8595, 4.8578, 4.8541, 4.8447, 4.8444, 4.8399, 4.838, 4.8283, 4.8274, 4.8111, 4.8082, 4.7971, 4.7965, 4.6874, 4.9046, 4.9038, 4.9037, 4.9034, 4.9025, 4.9009, 4.9006, 4.8996, 4.8992, 4.8976, 4.8964, 4.8869, 4.8864, 4.8845, 4.8805, 4.8789, 4.8771, 4.8519, 4.835, 4.8205, 4.802, 4.7918, 4.7374, 4.6989, 4.661, 4.5507, 4.2548, 3.5396, 2.353, 0.0702, 0.0702, 4.909, 4.9082, 4.9074, 4.9068, 4.9044, 4.9026, 4.9017, 4.9002, 4.8999, 4.8977, 4.8897, 4.8812, 4.8801, 4.8789, 4.8735, 4.8731, 4.8633, 4.818, 4.8171, 4.8128, 4.8023, 4.7977, 4.7432, 4.701, 4.6455, 4.6398, 4.6149, 4.6134, 4.4958, 0.5524, -1.9291, 4.9196, 4.919, 4.9189, 4.9188, 4.9187, 4.9177, 4.9168, 4.9163, 4.9156, 4.9138, 4.911, 4.9108, 4.9097, 4.9086, 4.9069, 4.9057, 4.9045, 4.9034, 4.8973, 4.8967, 4.8954, 4.8929, 4.8904, 4.8903, 4.8897, 4.8873, 4.8794, 4.8643, 4.8641, 4.851, 3.652, 4.9319, 4.9313, 4.9285, 4.9283, 4.9278, 4.9251, 4.9245, 4.9222, 4.9209, 4.9203, 4.9199, 4.9196, 4.9186, 4.9183, 4.9183, 4.918, 4.9155, 4.9154, 4.9135, 4.9132, 4.9082, 4.9076, 4.9046, 4.8994, 4.8967, 4.8916, 4.889, 4.8801, 4.8699, 4.8678, 4.5882, 3.7733, 0.0506, -0.3901, 4.9319, 4.9315, 4.93, 4.9277, 4.9273, 4.9272, 4.9264, 4.9254, 4.9223, 4.9219, 4.9214, 4.9196, 4.9194, 4.9167, 4.9153, 4.9135, 4.9129, 4.9128, 4.9117, 4.9113, 4.9113, 4.9101, 4.9051, 4.9008, 4.9007, 4.8993, 4.8932, 4.8831, 4.8716, 4.8715, 4.7998, 4.6594, 4.7252, 3.585, 3.7739, 4.9368, 4.9353, 4.9349, 4.9348, 4.9334, 4.9325, 4.9323, 4.9318, 4.9305, 4.9304, 4.928, 4.9265, 4.9248, 4.9248, 4.9246, 4.924, 4.9236, 4.922, 4.9155, 4.9138, 4.9013, 4.9003, 4.8998, 4.8997, 4.8994, 4.8961, 4.8931, 4.8896, 4.8828, 4.8813, 4.2404, 4.9434, 4.9429, 4.9391, 4.9383, 4.9379, 4.9377, 4.9376, 4.9368, 4.9346, 4.9312, 4.9302, 4.9298, 4.9276, 4.9257, 4.9251, 4.9246, 4.9242, 4.9229, 4.9204, 4.9186, 4.9158, 4.9148, 4.9139, 4.9131, 4.9128, 4.9094, 4.9069, 4.9068, 4.9066, 4.904, 4.807, 4.9452, 4.9448, 4.9443, 4.9431, 4.9431, 4.9424, 4.9401, 4.9389, 4.9385, 4.9379, 4.9379, 4.9376, 4.9352, 4.9346, 4.934, 4.9328, 4.9286, 4.9279, 4.9266, 4.9255, 4.925, 4.9196, 4.9189, 4.917, 4.9151, 4.9105, 4.9042, 4.8997, 4.8949, 4.8904, 4.6456, 4.6392, -0.8226, 4.9515, 4.9514, 4.9508, 4.9503, 4.9492, 4.9472, 4.9465, 4.9462, 4.9459, 4.9447, 4.9446, 4.944, 4.9439, 4.9411, 4.9397, 4.9385, 4.9373, 4.9361, 4.9326, 4.928, 4.9274, 4.9237, 4.922, 4.9193, 4.9134, 4.9086, 4.8959, 4.8893, 4.8869, 4.884, 4.6552, 4.5303, 3.9279, 0.159, 0.28, 4.9562, 4.9538, 4.9535, 4.9501, 4.9493, 4.9487, 4.948, 4.947, 4.9463, 4.9434, 4.9403, 4.9395, 4.9385, 4.9351, 4.9347, 4.9343, 4.9326, 4.9325, 4.9319, 4.9311, 4.9303, 4.9289, 4.928, 4.9276, 4.9272, 4.919, 4.9143, 4.9104, 4.9099, 4.908, 4.5752, 3.8832, 0.0566, 1.0749, -0.0078, 4.9641, 4.9616, 4.9587, 4.9577, 4.9574, 4.9569, 4.9561, 4.9558, 4.9556, 4.955, 4.9548, 4.9534, 4.9524, 4.9516, 4.9513, 4.9484, 4.9456, 4.9436, 4.9398, 4.9389, 4.9388, 4.9327, 4.9222, 4.9192, 4.9162, 4.9158, 4.9127, 4.9062, 4.9057, 4.9052, 0.8151, 0.3063, 4.9666, 4.9665, 4.9637, 4.9611, 4.9579, 4.9568, 4.9551, 4.9549, 4.9536, 4.9526, 4.9511, 4.9509, 4.9502, 4.9445, 4.9428, 4.9412, 4.9349, 4.9323, 4.9318, 4.9314, 4.9205, 4.9181, 4.915, 4.9071, 4.8932, 4.8876, 4.8709, 4.8678, 4.8415, 4.8241, 4.3392, 4.5982, 1.8141, -0.5371, 4.9681, 4.9681, 4.9667, 4.9644, 4.9637, 4.962, 4.96, 4.9594, 4.9588, 4.9582, 4.958, 4.9576, 4.9571, 4.9558, 4.9557, 4.9522, 4.9496, 4.9491, 4.9491, 4.9483, 4.9479, 4.9467, 4.944, 4.9419, 4.9401, 4.9399, 4.9387, 4.9372, 4.9362, 4.9358, 2.3761, 3.7458, 0.0348, 4.9781, 4.9774, 4.9772, 4.9756, 4.9729, 4.9719, 4.9712, 4.971, 4.9706, 4.9702, 4.9696, 4.9695, 4.968, 4.9673, 4.9669, 4.9649, 4.9645, 4.9645, 4.9639, 4.9633, 4.9632, 4.963, 4.9627, 4.9624, 4.9624, 4.9568, 4.9549, 4.9505, 4.9444, 4.9377, 1.2819, 4.9799, 4.9778, 4.9775, 4.9761, 4.9751, 4.9748, 4.9747, 4.9745, 4.9741, 4.9726, 4.9726, 4.9725, 4.972, 4.972, 4.9708, 4.9643, 4.9629, 4.9617, 4.9596, 4.9573, 4.9564, 4.9559, 4.9557, 4.9557, 4.9512, 4.9484, 4.9418, 4.9365, 4.9259, 4.9245, 1.592, -0.3855, -0.8737, 4.9875, 4.9858, 4.9854, 4.9854, 4.9854, 4.9853, 4.9848, 4.9821, 4.9783, 4.9757, 4.9757, 4.9744, 4.9722, 4.9679, 4.9674, 4.9662, 4.965, 4.9638, 4.9582, 4.9555, 4.9445, 4.9436, 4.9398, 4.938, 4.9378, 4.9325, 4.9287, 4.928, 4.922, 4.9213, 4.7909, -1.6634, -1.5027, 4.9895, 4.989, 4.9875, 4.984, 4.9827, 4.9794, 4.9793, 4.9757, 4.9741, 4.9671, 4.9669, 4.9653, 4.9638, 4.9615, 4.9551, 4.9522, 4.9474, 4.9463, 4.9398, 4.9307, 4.9274, 4.9172, 4.9149, 4.8743, 4.8718, 4.8641, 4.8268, 4.7761, 4.4214, 3.8418, 3.2243, 0.9833, 0.6727, 4.9939, 4.9936, 4.9915, 4.991, 4.9906, 4.99, 4.9889, 4.9872, 4.9872, 4.9852, 4.9843, 4.982, 4.9816, 4.9815, 4.9812, 4.9801, 4.9787, 4.9762, 4.9741, 4.9724, 4.9724, 4.9668, 4.9664, 4.9648, 4.9633, 4.9591, 4.9583, 4.9576, 4.956, 4.9533, 3.8205, 3.4533, 4.9987, 4.9973, 4.9943, 4.9941, 4.9935, 4.9929, 4.9923, 4.9893, 4.9885, 4.9883, 4.9881, 4.9864, 4.9862, 4.9857, 4.9852, 4.9851, 4.9833, 4.9796, 4.977, 4.9757, 4.9744, 4.9735, 4.9728, 4.968, 4.9673, 4.962, 4.9616, 4.9591, 4.9571, 4.9569, 2.9725, 4.9981, 4.9972, 4.994, 4.9929, 4.9918, 4.9918, 4.9914, 4.9902, 4.9901, 4.9896, 4.9876, 4.9875, 4.9868, 4.9847, 4.9845, 4.9814, 4.9807, 4.9765, 4.9753, 4.9724, 4.9713, 4.971, 4.9708, 4.969, 4.9684, 4.9682, 4.9594, 4.9545, 4.9533, 4.9515, 4.3441, 4.5751, 4.412, 3.78, 4.5536, 5.0029, 5.002, 5.0019, 5.001, 4.9995, 4.9972, 4.9967, 4.9966, 4.9948, 4.9927, 4.9927, 4.9914, 4.9908, 4.9903, 4.9902, 4.9857, 4.9769, 4.9735, 4.9576, 4.9568, 4.9552, 4.9478, 4.9384, 4.9344, 4.9145, 4.9003, 4.8972, 4.8954, 4.8754, 4.8527, 4.7031, 4.6399, 4.5989, 2.9598, 3.8204, 0.9303, 5.0063, 5.005, 5.0027, 5.001, 5.0001, 4.9992, 4.9978, 4.9971, 4.9963, 4.9942, 4.9914, 4.9881, 4.9867, 4.9799, 4.9785, 4.977, 4.9755, 4.9737, 4.9733, 4.9725, 4.9671, 4.941, 4.923, 4.895, 4.8863, 4.858, 4.8571, 4.8567, 4.8526, 4.7198, 1.2461, 0.5653, 2.8457, 5.0062, 5.0051, 5.0048, 5.0045, 5.0045, 5.0013, 4.9967, 4.9905, 4.9888, 4.9854, 4.9849, 4.9848, 4.9747, 4.9715, 4.9707, 4.9602, 4.9477, 4.9388, 4.9382, 4.9279, 4.8931, 4.8745, 4.8558, 4.8487, 4.8173, 4.8104, 4.6257, 4.6257, 4.6075, 3.873, 0.3566, -0.1409, 5.0062, 5.0049, 5.0049, 5.0048, 5.0044, 5.0039, 5.0036, 5.0034, 5.0024, 4.9998, 4.9995, 4.9976, 4.997, 4.9937, 4.9727, 4.9706, 4.9672, 4.9635, 4.9596, 4.9543, 4.9442, 4.8918, 4.8515, 4.6648, 4.6531, 0.194, 0.194, 0.194, 0.194, 0.194, -1.4338, 0.194, 0.194, -1.9405, 0.194, 0.194, 0.194, 0.194, 5.0073, 5.0049, 5.0046, 5.0046, 5.0042, 5.0032, 5.0031, 5.0031, 5.0015, 4.9999, 4.9972, 4.9961, 4.995, 4.9944, 4.9934, 4.9903, 4.9869, 4.9864, 4.9849, 4.9804, 4.9771, 4.977, 4.974, 4.9711, 4.9695, 4.966, 4.9579, 4.9363, 4.9343, 4.9276, 3.7886, 0.4399, 5.007, 5.0069, 5.0057, 5.0045, 5.0032, 5.0021, 5.0002, 4.9991, 4.9986, 4.9984, 4.998, 4.9949, 4.9939, 4.9928, 4.992, 4.9917, 4.9911, 4.9906, 4.9906, 4.9902, 4.9886, 4.988, 4.9873, 4.9867, 4.9847, 4.9846, 4.9846, 4.9844, 4.9836, 4.9796, 4.7531, 3.5844, 0.7801, -0.8488, -1.3692, 5.0119, 5.0062, 5.0059, 5.0054, 5.0043, 5.0042, 5.0034, 5.0031, 5.0029, 5.0021, 5.002, 5.001, 5.0009, 5.0008, 5.0005, 4.9995, 4.9961, 4.9959, 4.9937, 4.9919, 4.9887, 4.988, 4.9879, 4.9874, 4.9849, 4.9843, 4.9818, 4.976, 4.9756, 4.9739, 4.8748, 4.8781, 4.5996, 4.6128, 3.1846, 4.6299, -1.1351, 5.0133, 5.0132, 5.0106, 5.0105, 5.0097, 5.0095, 5.009, 5.0081, 5.0077, 5.0071, 5.0061, 5.0055, 5.0035, 5.0033, 5.0029, 5.0028, 5.0019, 5.0016, 5.001, 5.0003, 4.9999, 4.9994, 4.9985, 4.9973, 4.9963, 4.9958, 4.9938, 4.9933, 4.9923, 4.9894, 4.6892, 4.1014, 5.0225, 5.0188, 5.0181, 5.0175, 5.0175, 5.0167, 5.0165, 5.0162, 5.0153, 5.0145, 5.0132, 5.0118, 5.0114, 5.0113, 5.0106, 5.0106, 5.009, 5.0053, 5.005, 5.0043, 4.9935, 4.9902, 4.9893, 4.9883, 4.9787, 4.973, 4.9699, 4.9648, 4.9397, 4.9267, 4.8556, 5.0321, 5.0316, 5.0286, 5.0261, 5.0226, 5.0225, 5.0219, 5.0209, 5.0206, 5.018, 5.018, 5.0156, 5.0155, 5.0155, 5.014, 5.0121, 5.0119, 5.0101, 5.0093, 5.008, 5.0067, 5.0059, 5.004, 4.9993, 4.9854, 4.9786, 4.9779, 4.9732, 4.9665, 4.9658, 3.7243, -1.0951, -1.2028, 5.0425, 5.0421, 5.0417, 5.0408, 5.0391, 5.0388, 5.0367, 5.036, 5.0348, 5.0343, 5.0307, 5.0294, 5.0277, 5.0276, 5.0273, 5.0258, 5.0221, 5.0208, 5.0194, 5.0167, 5.0146, 5.0125, 5.0111, 5.0042, 5.0024, 5.002, 5.0009, 4.9902, 4.9844, 4.9821, 4.7471, 4.6872, 4.5148, 4.5259, 3.7471, -1.4508, 5.0455, 5.0451, 5.0443, 5.0437, 5.0425, 5.0419, 5.0417, 5.0414, 5.0413, 5.0404, 5.0404, 5.038, 5.0376, 5.037, 5.0357, 5.0342, 5.0337, 5.0298, 5.0297, 5.0295, 5.0291, 5.0282, 5.0281, 5.0274, 5.0272, 5.0254, 5.024, 5.0238, 5.0219, 5.0147, 3.6905, 3.9568, 1.3483, -0.464, 5.0598, 5.0561, 5.0526, 5.0516, 5.0502, 5.0493, 5.0458, 5.0446, 5.0442, 5.0433, 5.0419, 5.0395, 5.0385, 5.0376, 5.0371, 5.0334, 5.0311, 5.0297, 5.0289, 5.028, 5.0275, 5.0272, 5.0257, 5.0237, 5.0222, 5.0199, 5.0181, 5.016, 5.0142, 5.0048, 4.7567, 0.0297, 0.0997, 3.7767, 5.0616, 5.0614, 5.0581, 5.058, 5.0579, 5.0579, 5.0576, 5.0549, 5.054, 5.0536, 5.0523, 5.0519, 5.0518, 5.0513, 5.0502, 5.0484, 5.0467, 5.0454, 5.0412, 5.0384, 5.038, 5.0313, 5.0272, 5.0262, 5.0251, 5.022, 5.0196, 5.0137, 5.0097, 4.9971, -0.0343, -0.5913, 5.0629, 5.0622, 5.0612, 5.0608, 5.0597, 5.0584, 5.0571, 5.0568, 5.0563, 5.0531, 5.052, 5.0496, 5.0419, 5.0415, 5.0376, 5.0371, 5.0332, 5.0327, 5.0313, 5.0309, 5.0281, 5.0234, 5.0071, 4.9972, 4.9646, 4.9223, 4.8872, 4.886, 4.8784, 4.8441, 4.7465, 3.4093, 0.7027, 0.6691, 5.0651, 5.0634, 5.0629, 5.0611, 5.0591, 5.0571, 5.0548, 5.053, 5.0529, 5.0518, 5.0487, 5.0473, 5.0463, 5.0462, 5.0437, 5.0434, 5.0423, 5.0386, 5.0382, 5.037, 5.0344, 5.0307, 5.0271, 5.0253, 5.0231, 5.0171, 5.0114, 5.0067, 5.005, 5.0027, 0.6317, 5.0686, 5.0662, 5.066, 5.0638, 5.063, 5.0624, 5.0565, 5.0562, 5.0556, 5.0542, 5.0537, 5.0536, 5.0535, 5.0494, 5.049, 5.0489, 5.0472, 5.0445, 5.0345, 5.0326, 5.0201, 5.0006, 4.9974, 4.9895, 4.9616, 4.9572, 4.9327, 4.9327, 4.8589, 2.1291, 0.3196, -1.6107, 5.083, 5.0824, 5.0823, 5.0809, 5.0796, 5.0791, 5.0779, 5.0769, 5.0762, 5.0758, 5.0741, 5.0695, 5.068, 5.067, 5.0668, 5.0664, 5.0647, 5.0646, 5.0633, 5.062, 5.0615, 5.0582, 5.058, 5.0573, 5.055, 5.0537, 5.0461, 5.0413, 5.0399, 5.0316, 4.9985, 4.9004, 3.3952, -1.4696, 5.0865, 5.0858, 5.0856, 5.0855, 5.0853, 5.084, 5.0829, 5.0829, 5.0793, 5.0778, 5.0757, 5.0756, 5.0745, 5.073, 5.0679, 5.0674, 5.0671, 5.0657, 5.0632, 5.0616, 5.0613, 5.0593, 5.0541, 5.0463, 5.0415, 5.0403, 5.04, 5.0334, 5.0327, 5.0292, 4.7125, 3.6575, 3.3777, 2.9815, -1.4275, 5.0903, 5.0864, 5.0855, 5.0847, 5.0847, 5.084, 5.0807, 5.0795, 5.0792, 5.0782, 5.077, 5.0769, 5.0763, 5.0755, 5.0752, 5.0699, 5.0684, 5.0681, 5.0675, 5.0647, 5.0627, 5.0625, 5.0625, 5.0613, 5.0606, 5.0593, 5.056, 5.054, 5.0488, 5.043, 5.0294, 4.7219, 3.7125, 5.0915, 5.0891, 5.0876, 5.0835, 5.083, 5.0826, 5.0825, 5.0823, 5.0815, 5.0807, 5.0804, 5.0798, 5.0797, 5.0788, 5.0787, 5.0784, 5.0778, 5.0774, 5.0773, 5.0763, 5.0753, 5.0745, 5.0741, 5.0737, 5.0699, 5.069, 5.068, 5.0678, 5.0654, 5.0613, 4.6955, 4.0599, 3.2232, 5.0936, 5.0931, 5.0921, 5.0919, 5.0919, 5.0918, 5.0901, 5.0893, 5.0887, 5.0843, 5.083, 5.0819, 5.0763, 5.0761, 5.0744, 5.0703, 5.0698, 5.0697, 5.0644, 5.0582, 5.0345, 5.0123, 5.0119, 5.0015, 4.9956, 4.9601, 4.933, 4.7786, 4.4597, 0.3534, -1.7639, -1.4264, 5.0951, 5.0941, 5.0912, 5.0904, 5.089, 5.0886, 5.0885, 5.0882, 5.0879, 5.0878, 5.0866, 5.0863, 5.0862, 5.0856, 5.0855, 5.0842, 5.0835, 5.0832, 5.0789, 5.0785, 5.0764, 5.075, 5.0726, 5.0663, 5.0661, 5.065, 5.0643, 5.0536, 5.0524, 5.0489, 5.104, 5.1015, 5.0997, 5.097, 5.0965, 5.0964, 5.0963, 5.0921, 5.0918, 5.0911, 5.09, 5.0894, 5.0886, 5.0883, 5.0879, 5.0859, 5.0858, 5.0858, 5.0857, 5.0818, 5.0814, 5.0808, 5.0806, 5.0802, 5.0795, 5.0794, 5.0775, 5.0747, 5.0724, 5.0712, 4.8259, 3.8563, 0.2497, 5.1101, 5.1089, 5.1076, 5.1076, 5.1063, 5.1058, 5.1057, 5.1052, 5.1048, 5.1037, 5.1036, 5.1035, 5.1035, 5.1027, 5.0999, 5.0933, 5.0887, 5.0885, 5.0807, 5.0797, 5.0793, 5.0731, 5.0699, 5.0675, 5.0643, 5.0641, 5.0629, 5.0484, 5.0203, 5.0193, 4.6596, 3.9138, -0.469, 5.1139, 5.1119, 5.1097, 5.1087, 5.1085, 5.1083, 5.1081, 5.108, 5.1073, 5.1065, 5.1064, 5.1043, 5.1034, 5.1012, 5.1005, 5.0989, 5.098, 5.0962, 5.0843, 5.0825, 5.079, 5.0754, 5.074, 5.0731, 5.0697, 5.0677, 5.0676, 5.0669, 5.0666, 5.0664, 4.7438, 4.821, -0.7492, 5.1362, 5.1359, 5.1343, 5.1342, 5.1333, 5.1328, 5.1323, 5.1297, 5.1275, 5.1229, 5.1217, 5.1216, 5.1209, 5.1174, 5.1174, 5.1163, 5.1138, 5.1133, 5.1124, 5.1123, 5.1092, 5.1032, 5.1019, 5.0907, 5.0787, 5.0526, 5.0234, 4.9949, 4.9368, 4.9267, 0.5579, 5.151, 5.1508, 5.1487, 5.1485, 5.1448, 5.1435, 5.1432, 5.1424, 5.1409, 5.1389, 5.1387, 5.1364, 5.1292, 5.1254, 5.1236, 5.1233, 5.123, 5.1223, 5.1223, 5.1215, 5.1212, 5.1161, 5.1156, 5.1143, 5.1114, 5.1113, 5.1086, 5.1081, 5.1022, 5.0969, 3.1572, 3.493, 5.1633, 5.1611, 5.1606, 5.1582, 5.1575, 5.1573, 5.156, 5.1545, 5.1533, 5.152, 5.1502, 5.1497, 5.1472, 5.1459, 5.1424, 5.142, 5.1419, 5.1405, 5.1402, 5.1387, 5.1385, 5.1293, 5.1263, 5.1261, 5.1206, 5.1196, 5.1161, 5.1073, 5.1069, 5.1008, 3.507, -1.2546, 5.1618, 5.1615, 5.1606, 5.1602, 5.1599, 5.1596, 5.1588, 5.1568, 5.1567, 5.1563, 5.1561, 5.1539, 5.1521, 5.1516, 5.1511, 5.1461, 5.1451, 5.1436, 5.1417, 5.1394, 5.1386, 5.1383, 5.137, 5.1231, 5.121, 5.1157, 5.1127, 5.1023, 5.0945, 5.0813, 5.029, 3.9212, 5.1809, 5.1797, 5.1775, 5.1754, 5.1748, 5.171, 5.1706, 5.1699, 5.1637, 5.1632, 5.1631, 5.1593, 5.1591, 5.1553, 5.1541, 5.1533, 5.153, 5.1449, 5.1446, 5.1374, 5.0987, 5.0757, 5.0677, 5.0521, 5.0299, 4.969, 4.93, 4.8261, 4.7189, 4.6173, 0.795, 0.3789, 5.1846, 5.1828, 5.1823, 5.1812, 5.1794, 5.1793, 5.1787, 5.1778, 5.1774, 5.176, 5.1755, 5.1754, 5.1738, 5.1732, 5.1731, 5.1728, 5.1717, 5.1693, 5.1645, 5.1622, 5.1597, 5.1566, 5.1565, 5.1563, 5.1531, 5.1492, 5.1326, 5.1319, 5.1309, 5.1134, 2.7428, -0.7227, -1.6772, 5.1919, 5.1916, 5.1883, 5.1869, 5.185, 5.1834, 5.1828, 5.1825, 5.1752, 5.1728, 5.1718, 5.1687, 5.1673, 5.1665, 5.1489, 5.1448, 5.1411, 5.1331, 5.1329, 5.1218, 5.1195, 5.1058, 5.0707, 5.0599, 5.0498, 4.9931, 4.6758, 4.6627, 4.624, 0.4209, 0.4209, 0.4209, 0.4209, 0.4209, 0.4209, 0.4209, 0.4209, 0.4209, 0.4209, 0.4209, 0.4209, 5.1928, 5.1901, 5.1896, 5.1869, 5.1868, 5.1867, 5.1864, 5.1844, 5.1837, 5.1782, 5.1766, 5.1762, 5.1722, 5.1698, 5.1688, 5.1677, 5.1647, 5.1563, 5.1555, 5.1505, 5.1462, 5.1442, 5.1342, 5.1303, 5.1265, 5.1152, 5.111, 5.107, 5.1016, 5.0785, 4.8418, -0.6921, -1.9441, 5.1975, 5.1973, 5.1955, 5.1946, 5.1914, 5.1907, 5.1877, 5.1875, 5.1857, 5.1854, 5.1853, 5.1851, 5.1843, 5.1807, 5.1804, 5.17, 5.1693, 5.1662, 5.1597, 5.1576, 5.1538, 5.1529, 5.1401, 5.1286, 5.115, 5.1136, 5.0957, 4.9987, 3.5062, 0.6363, -0.1923, -0.7317, 5.1953, 5.1945, 5.1942, 5.1939, 5.1909, 5.1906, 5.1885, 5.1875, 5.1864, 5.1849, 5.1837, 5.1831, 5.1829, 5.1822, 5.1808, 5.1807, 5.1804, 5.1794, 5.1778, 5.1774, 5.1755, 5.1754, 5.1754, 5.1738, 5.1728, 5.1724, 5.1721, 5.1701, 5.1696, 5.1692, 3.8441, 3.4865, 5.1992, 5.1985, 5.197, 5.1966, 5.1962, 5.1954, 5.1927, 5.1927, 5.192, 5.1916, 5.1898, 5.1894, 5.1884, 5.1869, 5.186, 5.1858, 5.1835, 5.183, 5.1793, 5.1782, 5.1774, 5.1763, 5.1761, 5.1673, 5.1605, 5.1581, 5.1568, 5.1565, 5.1547, 5.1534, 2.5894, 2.1295, 5.2145, 5.2137, 5.2136, 5.2094, 5.2071, 5.2039, 5.2019, 5.1954, 5.1926, 5.1868, 5.1866, 5.1681, 5.1637, 5.154, 5.1522, 5.149, 5.1475, 5.1147, 5.0924, 5.0683, 4.9817, 4.915, 2.2516, 0.7791, 0.4425, 0.4425, 0.4425, 0.4425, 0.4425, 0.4425, 0.4425, 0.4425, 0.4425, -7.5579, 0.4425, 0.4425, 0.4425, 0.4425, 5.2188, 5.2172, 5.2162, 5.216, 5.2157, 5.2154, 5.2151, 5.2147, 5.2136, 5.2131, 5.2123, 5.2122, 5.2099, 5.2058, 5.2027, 5.1984, 5.1943, 5.1927, 5.1903, 5.1882, 5.1851, 5.1839, 5.1827, 5.1788, 5.1746, 5.1644, 5.1628, 5.1611, 5.1572, 5.1562, 4.6573, 4.8417, 3.8065, 5.2786, 5.2739, 5.273, 5.2714, 5.2685, 5.268, 5.2652, 5.2652, 5.2646, 5.2636, 5.2629, 5.2619, 5.2598, 5.2597, 5.2557, 5.2542, 5.2536, 5.2527, 5.2519, 5.2502, 5.2473, 5.2386, 5.2386, 5.2376, 5.2364, 5.2266, 5.226, 5.2216, 5.2152, 5.2134, 4.8981, 1.0616, -1.3328, 5.2774, 5.2772, 5.2771, 5.2765, 5.2755, 5.2753, 5.2749, 5.2742, 5.2717, 5.27, 5.2684, 5.268, 5.2664, 5.2653, 5.2647, 5.2646, 5.2644, 5.2643, 5.2641, 5.2626, 5.2605, 5.2601, 5.2575, 5.2498, 5.2483, 5.2386, 5.2374, 5.2222, 5.2175, 5.2123, -1.1153, -2.0533, 5.2927, 5.2923, 5.2911, 5.2904, 5.2893, 5.288, 5.2872, 5.2859, 5.2851, 5.2848, 5.2843, 5.2836, 5.2806, 5.279, 5.2784, 5.2758, 5.2751, 5.2673, 5.2667, 5.262, 5.2613, 5.2572, 5.2552, 5.2518, 5.2506, 5.25, 5.2481, 5.2471, 5.2295, 5.2293, 4.9248, 4.959, 4.8403, 5.0418, 3.3511, 5.2958, 5.2941, 5.2935, 5.2921, 5.2904, 5.2877, 5.2859, 5.2853, 5.2844, 5.2834, 5.2831, 5.2815, 5.2813, 5.278, 5.2735, 5.2728, 5.2723, 5.2707, 5.2693, 5.2692, 5.2657, 5.2647, 5.2629, 5.2611, 5.2594, 5.2593, 5.258, 5.2569, 5.2421, 5.2415, 0.2357, 0.4227, 5.3238, 5.3235, 5.3232, 5.3232, 5.3208, 5.3194, 5.3181, 5.3163, 5.3151, 5.3143, 5.3134, 5.3126, 5.312, 5.3094, 5.3077, 5.3074, 5.3061, 5.3052, 5.3051, 5.3046, 5.3043, 5.3031, 5.2963, 5.2953, 5.2947, 5.2902, 5.2879, 5.286, 5.2775, 5.2768, 5.2177, 4.9788, 5.3401, 5.34, 5.3397, 5.339, 5.3385, 5.3367, 5.3363, 5.3354, 5.334, 5.334, 5.3269, 5.3202, 5.3201, 5.3131, 5.313, 5.3119, 5.3111, 5.3108, 5.3107, 5.3091, 5.3072, 5.3026, 5.3005, 5.2898, 5.2892, 5.2855, 5.2848, 5.2719, 5.2559, 5.2474, 4.1237, 3.1736, -2.1305, 5.3758, 5.3742, 5.3734, 5.372, 5.3719, 5.3678, 5.3676, 5.3669, 5.3668, 5.3666, 5.3661, 5.3638, 5.3597, 5.3595, 5.3581, 5.3515, 5.3494, 5.3494, 5.3488, 5.3467, 5.3457, 5.3449, 5.3445, 5.3442, 5.3417, 5.3399, 5.3394, 5.3378, 5.3376, 5.3295, -0.4875, -1.0965, 5.3912, 5.3871, 5.386, 5.3857, 5.3856, 5.3843, 5.3788, 5.3779, 5.3779, 5.3775, 5.376, 5.3754, 5.375, 5.3731, 5.3728, 5.3727, 5.3721, 5.3713, 5.3682, 5.3676, 5.3636, 5.3599, 5.3589, 5.3574, 5.3504, 5.3456, 5.3454, 5.3448, 5.3395, 5.3314, 5.1919, 5.0865, 3.5696, 5.4087, 5.403, 5.4019, 5.4015, 5.4004, 5.3974, 5.3966, 5.3963, 5.3953, 5.3949, 5.3928, 5.3927, 5.3923, 5.3907, 5.3903, 5.3887, 5.3851, 5.385, 5.3754, 5.3752, 5.3631, 5.3486, 5.3067, 5.2965, 0.6978, 0.6978, 0.6978, 0.6978, 0.6978, 0.6978, -0.1791, 0.6978, 0.6978, 0.6978, 0.6978, 0.6978, -0.7758, 0.6978, 0.6978, 0.6978, 0.6978, 5.5453, 5.5402, 5.5401, 5.5373, 5.5364, 5.5359, 5.535, 5.5348, 5.5344, 5.5342, 5.5339, 5.5333, 5.5243, 5.5188, 5.5183, 5.5131, 5.5126, 5.5072, 5.5045, 5.5039, 5.503, 5.5016, 5.5002, 5.4792, 5.4606, 5.4545, 5.4493, 5.4452, 5.4207, 5.3949, 4.1491, -0.0378, -0.174]}, \"token.table\": {\"Topic\": [112, 26, 87, 59, 92, 78, 78, 78, 72, 18, 20, 7, 27, 27, 74, 41, 111, 111, 51, 72, 47, 113, 102, 94, 81, 50, 18, 56, 86, 61, 38, 117, 43, 98, 64, 95, 55, 46, 11, 117, 24, 65, 37, 36, 91, 68, 89, 18, 44, 87, 36, 106, 51, 90, 36, 17, 106, 60, 20, 107, 24, 92, 99, 97, 61, 116, 42, 50, 68, 3, 49, 55, 6, 60, 61, 60, 110, 114, 81, 81, 81, 52, 108, 31, 25, 89, 52, 19, 51, 25, 101, 28, 27, 67, 118, 47, 31, 117, 112, 58, 113, 34, 72, 82, 23, 23, 103, 73, 32, 105, 75, 98, 23, 12, 120, 82, 116, 61, 87, 87, 19, 76, 78, 60, 89, 22, 50, 116, 65, 60, 59, 26, 4, 37, 98, 97, 92, 7, 89, 64, 44, 55, 43, 71, 107, 2, 115, 2, 66, 115, 76, 22, 25, 18, 111, 62, 113, 51, 85, 103, 85, 6, 117, 8, 3, 58, 70, 25, 77, 39, 62, 62, 32, 44, 44, 45, 57, 101, 94, 101, 67, 115, 23, 103, 59, 106, 103, 59, 56, 53, 61, 83, 62, 26, 62, 91, 106, 53, 51, 42, 3, 85, 85, 116, 77, 83, 49, 58, 91, 88, 13, 31, 106, 9, 9, 2, 72, 48, 91, 46, 37, 37, 111, 60, 64, 64, 79, 43, 43, 10, 10, 40, 89, 11, 93, 100, 33, 28, 29, 39, 3, 74, 120, 75, 10, 29, 98, 77, 68, 33, 4, 58, 70, 3, 3, 104, 93, 110, 56, 111, 89, 1, 104, 28, 108, 56, 35, 42, 26, 80, 68, 105, 4, 44, 102, 1, 70, 95, 23, 21, 7, 35, 8, 17, 115, 25, 27, 3, 109, 78, 87, 81, 81, 108, 99, 9, 17, 99, 110, 70, 21, 72, 91, 14, 111, 107, 26, 118, 1, 1, 63, 17, 28, 25, 10, 91, 46, 117, 117, 117, 117, 44, 90, 80, 30, 16, 89, 33, 101, 5, 5, 70, 60, 102, 71, 100, 71, 75, 107, 71, 71, 71, 71, 107, 71, 95, 61, 38, 27, 45, 20, 46, 46, 95, 1, 33, 66, 30, 46, 60, 60, 60, 60, 60, 60, 12, 71, 42, 55, 88, 7, 79, 42, 20, 30, 15, 15, 9, 40, 46, 46, 19, 19, 32, 104, 120, 57, 27, 99, 7, 75, 50, 74, 15, 74, 30, 42, 54, 58, 20, 16, 114, 21, 21, 63, 54, 19, 32, 79, 8, 8, 82, 29, 85, 8, 74, 48, 19, 17, 58, 112, 25, 25, 117, 40, 70, 70, 105, 50, 4, 35, 65, 82, 72, 45, 116, 16, 73, 78, 28, 112, 115, 112, 72, 49, 32, 101, 30, 49, 105, 24, 61, 100, 111, 103, 116, 7, 37, 81, 11, 77, 101, 19, 94, 78, 80, 37, 44, 2, 46, 25, 85, 55, 60, 37, 57, 23, 78, 62, 69, 60, 24, 3, 52, 52, 24, 24, 105, 54, 74, 77, 94, 64, 25, 100, 1, 3, 19, 68, 15, 107, 81, 6, 102, 114, 31, 77, 26, 117, 8, 45, 109, 52, 39, 59, 67, 45, 80, 114, 23, 8, 107, 14, 65, 92, 81, 48, 100, 112, 70, 7, 114, 103, 46, 38, 26, 53, 65, 6, 27, 6, 62, 74, 116, 104, 60, 46, 24, 119, 33, 35, 20, 104, 2, 58, 45, 120, 27, 102, 29, 66, 31, 105, 48, 89, 84, 13, 63, 60, 78, 32, 105, 86, 83, 44, 114, 88, 105, 32, 59, 118, 9, 11, 28, 36, 40, 48, 66, 108, 1, 2, 4, 5, 6, 7, 9, 10, 11, 12, 14, 15, 17, 18, 20, 21, 22, 23, 25, 26, 27, 28, 29, 30, 31, 32, 33, 34, 36, 37, 38, 39, 40, 41, 42, 43, 44, 45, 46, 47, 48, 49, 50, 53, 55, 57, 59, 60, 61, 62, 63, 64, 66, 67, 68, 71, 73, 74, 75, 77, 78, 81, 82, 83, 84, 85, 86, 88, 89, 90, 92, 93, 97, 99, 100, 102, 103, 105, 106, 107, 108, 111, 112, 113, 114, 116, 117, 119, 120, 12, 42, 101, 59, 4, 77, 15, 86, 60, 12, 3, 100, 117, 50, 45, 37, 60, 50, 9, 23, 54, 55, 102, 28, 93, 60, 23, 60, 109, 50, 43, 109, 1, 104, 12, 76, 22, 33, 41, 27, 104, 98, 40, 86, 35, 82, 98, 26, 115, 98, 106, 119, 3, 77, 30, 99, 30, 119, 93, 93, 30, 70, 93, 99, 30, 30, 99, 83, 52, 52, 68, 4, 23, 110, 68, 68, 108, 44, 58, 42, 59, 42, 33, 96, 115, 27, 99, 24, 110, 58, 70, 45, 117, 25, 102, 32, 86, 27, 37, 5, 13, 96, 107, 56, 103, 13, 103, 13, 103, 69, 103, 117, 45, 16, 3, 55, 64, 56, 106, 118, 40, 106, 67, 105, 40, 30, 119, 86, 3, 104, 49, 22, 114, 13, 76, 82, 114, 82, 19, 84, 98, 52, 50, 43, 13, 35, 117, 66, 32, 25, 69, 17, 21, 20, 8, 1, 61, 80, 91, 77, 95, 16, 79, 7, 17, 94, 95, 14, 109, 52, 94, 58, 102, 71, 2, 45, 72, 92, 45, 71, 21, 35, 72, 32, 4, 48, 96, 43, 109, 76, 26, 102, 53, 64, 65, 100, 39, 18, 22, 38, 38, 61, 31, 111, 105, 32, 33, 69, 64, 119, 30, 21, 18, 71, 91, 116, 38, 105, 22, 22, 22, 26, 113, 1, 119, 54, 113, 2, 89, 113, 119, 74, 113, 78, 106, 53, 55, 41, 41, 116, 116, 102, 19, 65, 83, 64, 49, 31, 49, 36, 65, 65, 69, 100, 35, 3, 8, 19, 109, 2, 57, 80, 17, 45, 2, 97, 35, 31, 22, 40, 90, 72, 4, 57, 87, 90, 56, 110, 64, 113, 25, 42, 48, 38, 70, 91, 105, 52, 96, 89, 96, 4, 10, 92, 33, 57, 82, 14, 73, 82, 26, 62, 22, 99, 36, 83, 45, 30, 87, 38, 14, 14, 38, 71, 14, 76, 110, 15, 76, 97, 110, 78, 78, 116, 77, 23, 11, 57, 75, 72, 48, 94, 14, 118, 54, 120, 89, 78, 86, 48, 14, 14, 14, 95, 34, 66, 108, 29, 36, 77, 55, 57, 97, 97, 82, 74, 8, 45, 94, 94, 96, 80, 1, 3, 5, 13, 16, 19, 93, 94, 57, 71, 43, 107, 107, 19, 97, 1, 50, 5, 40, 29, 120, 69, 103, 61, 38, 103, 73, 2, 4, 5, 6, 7, 9, 10, 11, 12, 14, 15, 17, 18, 20, 21, 22, 23, 25, 27, 28, 29, 30, 31, 32, 36, 37, 38, 39, 40, 41, 43, 44, 45, 46, 47, 48, 49, 50, 53, 55, 59, 60, 61, 62, 63, 64, 66, 67, 68, 73, 74, 75, 77, 78, 80, 81, 82, 83, 84, 85, 86, 88, 89, 90, 92, 93, 100, 102, 103, 105, 106, 107, 112, 113, 114, 116, 117, 119, 120, 84, 75, 13, 34, 47, 42, 70, 102, 13, 42, 63, 28, 84, 59, 47, 108, 113, 92, 51, 36, 1, 19, 54, 107, 18, 30, 35, 63, 57, 73, 50, 88, 50, 81, 86, 107, 111, 111, 103, 65, 102, 69, 21, 87, 99, 113, 84, 36, 9, 110, 111, 70, 63, 56, 101, 20, 104, 112, 98, 94, 98, 94, 94, 8, 81, 6, 26, 88, 99, 88, 97, 45, 59, 57, 64, 37, 116, 54, 63, 98, 60, 1, 57, 81, 116, 73, 73, 73, 73, 61, 68, 20, 35, 2, 20, 40, 39, 31, 119, 46, 98, 19, 114, 114, 34, 10, 73, 28, 14, 36, 66, 70, 86, 90, 90, 14, 41, 81, 85, 120, 96, 69, 67, 20, 78, 68, 12, 28, 110, 113, 11, 64, 76, 60, 49, 119, 90, 46, 65, 65, 65, 47, 65, 68, 61, 22, 20, 91, 88, 78, 106, 8, 46, 75, 36, 119, 16, 67, 21, 103, 114, 113, 109, 62, 82, 41, 26, 26, 39, 69, 39, 70, 76, 84, 20, 86, 22, 38, 63, 41, 61, 2, 2, 2, 15, 117, 28, 107, 68, 8, 53, 10, 13, 27, 3, 110, 56, 57, 64, 48, 86, 72, 31, 17, 104, 110, 113, 94, 43, 108, 58, 43, 80, 120, 7, 2, 90, 15, 110, 15, 70, 38, 116, 74, 4, 4, 60, 60, 4, 118, 57, 115, 56, 105, 8, 103, 103, 96, 38, 11, 104, 119, 68, 48, 94, 12, 55, 55, 52, 55, 52, 4, 113, 83, 78, 4, 63, 90, 52, 46, 111, 4, 32, 118, 32, 53, 50, 118, 105, 34, 64, 83, 66, 16, 36, 36, 1, 104, 94, 94, 40, 19, 54, 69, 13, 7, 34, 33, 26, 61, 99, 13, 53, 108, 44, 12, 30, 66, 79, 2, 77, 40, 102, 63, 99, 118, 97, 86, 58, 51, 39, 13, 51, 81, 81, 55, 35, 109, 3, 4, 3, 2, 85, 34, 48, 46, 5, 57, 115, 40, 63, 66, 26, 10, 112, 39, 100, 110, 3, 29, 31, 85, 107, 1, 49, 108, 92, 48, 107, 86, 90, 90, 30, 27, 90, 27, 76, 90, 76, 76, 90, 30, 77, 67, 90, 95, 95, 4, 4, 96, 86, 67, 67, 67, 67, 82, 83, 83, 8, 1, 83, 24, 71, 82, 83, 83, 120, 72, 42, 42, 42, 95, 31, 63, 1, 106, 113, 113, 107, 85, 80, 2, 119, 18, 2, 112, 100, 74, 56, 68, 66, 51, 93, 108, 40, 120, 116, 82, 90, 101, 101, 36, 48, 58, 30, 12, 62, 59, 20, 36, 48, 88, 15, 52, 100, 104, 65, 31, 120, 25, 115, 112, 103, 115, 87, 99, 25, 95, 115, 13, 25, 83, 39, 99, 89, 118, 3, 23, 5, 26, 112, 110, 21, 21, 118, 56, 117, 3, 67, 81, 63, 106, 100, 89, 12, 66, 97, 88, 98, 64, 35, 106, 107, 42, 72, 3, 72, 19, 72, 72, 19, 72, 72, 91, 28, 108, 63, 90, 102, 102, 118, 69, 69, 69, 34, 108, 34, 64, 115, 46, 91, 46, 72, 114, 91, 112, 106, 10, 99, 109, 5, 30, 28, 114, 30, 114, 12, 41, 92, 29, 78, 101, 80, 50, 92, 53, 44, 3, 60, 101, 93, 1, 120, 12, 7, 6, 33, 23, 80, 20, 86, 1, 88, 102, 37, 17, 32, 84, 82, 93, 59, 70, 94, 31, 37, 95, 19, 95, 55, 34, 88, 34, 27, 76, 21, 73, 81, 73, 95, 7, 40, 48, 7, 40, 111, 111, 101, 47, 81, 42, 96, 24, 48, 4, 52, 63, 88, 7, 52, 84, 52, 58, 43, 63, 52, 86, 90, 56, 41, 48, 9, 71, 45, 98, 37, 65, 10, 93, 13, 8, 1, 47, 31, 112, 67, 17, 49, 17, 13, 58, 33, 98, 112, 54, 47, 5, 65, 114, 113, 2, 18, 37, 99, 120, 106, 7, 118, 86, 65, 43, 42, 39, 8, 38, 67, 25, 25, 25, 44, 114, 74, 39, 43, 114, 87, 88, 6, 42, 40, 85, 84, 17, 47, 43, 95, 27, 106, 80, 25, 96, 47, 27, 20, 82, 46, 58, 63, 46, 113, 112, 6, 28, 1, 107, 87, 73, 40, 111, 99, 107, 60, 87, 79, 55, 62, 56, 114, 102, 61, 12, 101, 43, 7, 48, 12, 91, 14, 5, 111, 31, 43, 5, 63, 24, 99, 44, 81, 89, 12, 27, 98, 25, 4, 46, 14, 45, 99, 5, 3, 28, 87, 10, 109, 7, 10, 18, 98, 59, 96, 108, 80, 73, 80, 80, 80, 97, 20, 91, 119, 37, 60, 50, 19, 2, 84, 78, 82, 77, 50, 89, 114, 58, 50, 88, 96, 47, 96, 96, 96, 62, 12, 62, 11, 81, 21, 29, 34, 24, 40, 108, 82, 79, 65, 27, 74, 47, 47, 18, 81, 62, 33, 46, 57, 58, 88, 71, 52, 87, 25, 33, 91, 42, 20, 45, 90, 87, 55, 73, 105, 19, 19, 84, 83, 93, 27, 9, 88, 97, 95, 29, 13, 72, 88, 19, 81, 18, 77, 99, 33, 97, 104, 61, 101, 96, 68, 32, 49, 49, 40, 37, 55, 95, 36, 7, 90, 100, 34, 97, 44, 84, 22, 85, 111, 23, 31, 63, 3, 57, 25, 29, 85, 96, 13, 43, 2, 49, 62, 8, 71, 13, 61, 71, 22, 110, 36, 31, 81, 64, 87, 12, 36, 68, 72, 33, 3, 65, 42, 53, 60, 30, 70, 77, 44, 92, 112, 95, 119, 74, 44, 110, 24, 2, 20, 49, 100, 118, 27, 18, 76, 41, 10, 85, 110, 59, 29, 114, 77, 104, 75, 72, 91, 96, 2, 3, 14, 3, 100, 103, 39, 19, 14, 17, 72, 8, 66, 79, 89, 2, 5, 14, 27, 29, 30, 31, 33, 46, 49, 61, 63, 64, 65, 72, 76, 77, 78, 83, 87, 88, 89, 93, 95, 96, 98, 106, 107, 109, 111, 115, 54, 2, 100, 6, 31, 70, 100, 49, 27, 112, 73, 82, 51, 101, 119, 104, 107, 115, 107, 79, 16, 107, 109, 104, 13, 89, 13, 74, 32, 22, 68, 103, 10, 44, 58, 87, 44, 107, 38, 1, 57, 82, 51, 25, 117, 13, 88, 1, 13, 24, 18, 92, 24, 57, 102, 117, 29, 50, 82, 112, 84, 91, 94, 91, 79, 84, 40, 21, 78, 96, 22, 16, 98, 31, 114, 18, 36, 12, 57, 76, 115, 2, 18, 62, 91, 35, 12, 89, 17, 54, 55, 40, 55, 65, 88, 26, 22, 26, 82, 6, 39, 92, 110, 92, 43, 64, 100, 92, 92, 44, 73, 77, 53, 20, 91, 107, 105, 105, 82, 70, 98, 94, 108, 53, 98, 56, 16, 28, 66, 41, 120, 41, 85, 22, 41, 11, 41, 68, 11, 32, 83, 22, 11, 29, 94, 41, 41, 41, 54, 80, 85, 85, 56, 78, 56, 28, 81, 38, 84, 15, 81, 99, 72, 6, 14, 6, 85, 112, 34, 101, 27, 24, 67, 17, 16, 108, 93, 56, 52, 78, 92, 72, 72, 75, 84, 84, 84, 29, 46, 89, 44, 83, 46, 44, 80, 62, 66, 62, 90, 85, 61, 79, 24, 28, 92, 40, 21, 74, 22, 21, 101, 113, 47, 44, 9, 114, 17, 68, 32, 117, 28, 112, 14, 73, 40, 36, 73, 76, 96, 117, 66, 102, 55, 48, 30, 44, 33, 16, 9, 66, 118, 35, 80, 72, 115, 58, 54, 54, 115, 78, 108, 116, 101, 39, 18, 101, 87, 112, 105, 19, 111, 56, 75, 68, 34, 102, 63, 14, 94, 83, 83, 58, 120, 108, 4, 11, 63, 4, 38, 28, 14, 71, 78, 11, 85, 95, 85, 90, 80, 28, 112, 70, 46, 46, 46, 92, 97, 9, 47, 79, 67, 46, 21, 97, 57, 85, 9, 92, 87, 63, 90, 102, 65, 67, 40, 101, 68, 117, 72, 95, 32, 4, 91, 50, 24, 62, 50, 50, 99, 17, 17, 111, 65, 82, 94, 35, 109, 38, 71, 36, 36, 30, 58, 78, 69, 117, 116, 86, 84, 56, 49, 55, 108, 41, 83, 88, 72, 31, 79, 10, 35, 58, 58, 6, 109, 43, 22, 56, 109, 43, 48, 6, 10, 25, 58, 111, 5, 63, 89, 34, 18, 119, 22, 66, 19, 83, 65, 22, 56, 95, 84, 22, 76, 118, 76, 76, 17, 5, 33, 57, 38, 101, 107, 60, 102, 38, 34, 73, 63, 116, 116, 63, 80, 116, 116, 96, 84, 28, 100, 36, 92, 13, 14, 105, 18, 97, 47, 48, 117, 26, 67, 58, 51, 120, 59, 94, 52, 60, 116, 9, 86, 69, 115, 19, 11, 73, 73, 82, 15, 51, 28, 9, 7, 24, 86, 56, 15, 114, 11, 19, 118, 74, 64, 10, 10, 110, 91, 112, 73, 92, 63, 100, 101, 77, 57, 33, 42, 76, 118, 52, 9, 99, 99, 99, 44, 24, 104, 69, 69, 76, 29, 113, 112, 98, 16, 41, 93, 8, 34, 86, 105, 88, 51, 89, 95, 105, 54, 49, 92, 54, 105, 21, 114, 45, 27, 74, 81, 101, 62, 117, 41, 85, 29, 97, 104, 14, 24, 24, 79, 74, 17, 12, 48, 59, 96, 12, 42, 8, 97, 43, 90, 86, 26, 81, 103, 37, 29, 43, 77, 53, 49, 70, 66, 103, 5, 19, 53, 117, 90, 35, 84, 69, 62, 104, 65, 36, 84, 110, 52, 114, 19, 3, 55, 105, 96, 26, 21, 48, 69, 39, 39, 79, 18, 42, 117, 53, 61, 20, 64, 102, 26, 40, 6, 61, 8, 62, 91, 101, 17, 71, 71, 68, 67, 6, 9, 68, 19, 4, 8, 91, 64, 42, 42, 42, 50, 100, 61, 56, 61, 61, 56, 78, 63, 103, 16, 16, 84, 91, 50, 81, 98, 23, 64, 110, 15, 5, 71, 102, 85, 71, 76, 93, 12, 47, 117, 99, 61, 55, 99, 100, 5, 95, 92, 67, 119, 10, 49, 24, 92, 108, 34, 49, 53, 15, 110, 15, 97, 100, 87, 51, 73, 29, 14, 67, 38, 70, 117, 43, 40, 78, 4, 91, 37, 21, 45, 90, 91, 41, 113, 21, 21, 20, 39, 35, 103, 24, 22, 52, 63, 44, 59, 71, 106, 13, 13, 3, 110, 37, 59, 49, 29, 28, 47, 96, 37, 37, 69, 107, 79, 79, 82, 82, 79, 79, 79, 118, 95, 71, 28, 79, 82, 79, 79, 82, 111, 88, 79, 1, 118, 29, 84, 111, 120, 75, 75, 75, 11, 27, 43, 43, 43, 5, 118, 111, 20, 24, 24, 109, 24, 54, 106, 53, 27, 12, 4, 12, 96, 26, 41, 118, 80, 103, 55, 89, 11, 115, 89, 115, 115, 49, 112, 65, 49, 112, 27, 16, 1, 66, 120, 113, 20, 9, 9, 44, 89, 32, 76, 5, 93, 37, 14, 50, 36, 51, 13, 52, 16, 103, 100, 74, 82, 95, 77, 103, 92, 49, 100, 3, 3, 66, 77, 80, 9, 72, 111, 45, 9, 108, 85, 108, 108, 64, 90, 32, 80, 33, 47, 115, 83, 87, 56, 59, 116, 9, 33, 41, 81, 111, 6, 41, 52, 80, 28, 28, 4, 77, 116, 91, 84, 29, 13, 13, 16, 16, 90, 61, 89, 111, 74, 89, 113, 74, 89, 85, 68, 8, 37, 119, 43, 112, 91, 32, 93, 7, 105, 85, 37, 118, 50, 59, 82, 17, 51, 17, 51, 17, 110, 17, 67, 37, 17, 13, 107, 110, 21, 14, 49, 92, 18, 67, 9, 88, 75, 53, 14, 118, 25, 25, 33, 103, 94, 23, 17, 15, 15, 15, 106, 29, 79, 70, 102, 29, 120, 49, 78, 33, 36, 20, 49, 108, 66, 30, 80, 66, 31, 37, 111, 83, 108, 41, 31, 79, 92, 2, 42, 69, 68, 24, 72, 87, 89, 83, 11, 69, 90, 5, 77, 69, 69, 113, 75, 67, 97, 10, 106, 8, 55, 83, 80, 120, 43, 93, 87, 111, 77, 84, 2, 30, 13, 54, 4, 17, 114, 68, 30, 59, 45, 2, 38, 31, 88, 97, 74, 95, 106, 101, 51, 101, 81, 118, 101, 101, 25, 69, 21, 101, 91, 88, 43, 9, 113, 83, 53, 26, 61, 61, 40, 103, 71, 35, 75, 102, 35, 33, 35, 69, 53, 21, 118, 74, 86, 86, 33, 59, 70, 75, 61, 31, 34, 71, 1, 54, 64, 89, 11, 75, 80, 93, 51, 12, 34, 20, 31, 15, 98, 47, 65, 39, 115, 3, 5, 5, 3, 28, 36, 69, 70, 120, 102, 23, 23, 23, 10, 89, 23, 23, 23, 23, 97, 34, 68, 23, 87, 23, 4, 106, 25, 25, 47, 93, 45, 1, 53, 118, 46, 107, 101, 39, 91, 20, 111, 83, 60, 18, 33, 113, 50, 40, 8, 77, 29, 11, 91, 20, 56, 10, 115, 34, 27, 69, 23, 95, 71, 49, 4, 52, 64, 64, 120, 75, 110, 115, 37, 14, 104, 30, 47, 80, 77, 42, 75, 44, 92, 75, 58, 44, 34, 47, 60, 73, 22, 56, 31, 35, 116, 105, 117, 67, 62, 79, 15, 112, 76, 3, 6, 15, 41, 60, 48, 6, 6, 92, 91, 15, 116, 15, 21, 68, 15, 93, 6, 15, 53, 86, 83, 62, 76, 113, 15, 82, 10, 53, 53, 76, 116, 64, 51, 49, 6, 86, 116, 104, 15, 98, 51, 14, 71, 108, 108, 71, 70, 17, 67, 8, 40, 53, 19, 59, 70, 24, 24, 38, 8, 38, 15, 24, 87, 75, 74, 78, 119, 79, 16, 45, 51, 113, 113, 62, 75, 86, 62, 87, 16, 16, 34, 105, 86, 118, 63, 104, 100, 27, 87, 26, 77, 102, 45, 29, 82, 95, 120, 22, 58, 105, 7, 1, 77, 25, 87, 56, 54, 52, 114, 5, 94, 114, 11, 24, 50, 36, 118, 97, 113, 69, 69, 57, 77, 50, 35, 89, 6, 111, 97, 26, 8, 23, 53, 106, 98, 100, 59, 59, 115, 105, 8, 97, 55, 70, 97, 105, 52, 19, 46, 97, 26, 55, 26, 55, 93, 50, 113, 65, 32, 56, 40, 40, 54, 29, 95, 64, 59, 99, 96, 59, 18, 93, 64, 56, 49, 34, 83, 67, 13, 73, 119, 99, 108, 96, 61, 84, 107, 17, 51, 114, 6, 89, 120, 120, 88, 66, 89, 7, 24, 116, 61, 104, 67, 94, 94, 57, 94, 29, 29, 11, 56, 62, 87, 77, 19, 64, 61, 33, 74, 93, 109, 26, 46, 116, 109, 31, 28, 50, 51, 109, 37, 90, 119, 85, 109, 7, 42, 55, 28, 15, 112, 58, 76, 78, 66, 36, 66, 66, 66, 66, 34, 57, 110, 15, 6, 57, 7, 7, 61, 114, 106, 62, 92, 2, 49, 50, 48, 56, 68, 28, 95, 49, 39, 81, 50, 33, 3, 70, 72, 115, 51, 72, 79, 78, 82, 55, 74, 54, 86, 53, 86, 100, 12, 5, 95, 34, 116, 4, 117, 37, 2, 29, 113, 55, 5, 48, 80, 50, 97, 104, 109, 15, 11, 1, 14, 27, 57, 12, 1, 98, 5, 86, 56, 30, 48, 22, 92, 111, 47, 41, 94, 102, 103, 74, 74, 84, 23, 78, 54, 84, 93, 30, 33, 97, 33, 21, 12, 1, 112, 61, 12, 107, 7, 100, 70, 53, 90, 96, 14, 69, 6, 42, 30, 21, 96, 29, 63, 29, 1, 95, 20, 106, 102, 56, 59, 71, 104, 104, 108, 104, 84, 38, 73, 38, 73, 110, 110, 32, 6, 48, 38, 98, 65, 65, 115, 8, 68, 14, 40, 38, 113, 8, 9, 38, 6, 110, 12, 30, 62, 7, 90, 51, 107, 30, 51, 71, 21, 112, 83, 64, 73, 19, 76, 88, 17, 78, 78, 78, 78, 120, 109, 48, 7, 29, 17, 37, 59, 17, 32, 63, 59, 112, 115, 110, 98, 118, 50, 104, 15, 106, 116, 96, 20, 5, 107, 76, 58, 98, 37, 96, 18, 85, 36, 103, 76, 101, 88, 83, 93, 4, 97, 106, 34, 18, 41, 44, 67, 99, 100, 44, 44, 31, 9, 44, 92, 113, 43, 119, 46, 29, 51, 62, 55, 90, 21, 86, 56, 56, 90, 15, 105, 46, 23, 68, 67, 115, 58, 119, 54, 38, 38, 80, 79, 105, 109, 120, 39, 97, 79, 95, 29, 99, 82, 6, 35, 35, 35, 23, 28, 106, 66, 69, 84, 113, 4, 85, 57, 57, 57, 34, 99, 72, 115, 76, 12, 93, 59, 115, 93, 115, 21, 93, 35, 120, 35, 59, 35, 75, 59, 75, 79, 23, 35, 78, 110, 99, 64, 118, 38, 17, 24, 82, 48, 53, 73, 28, 22, 2, 47, 88, 48, 67, 36, 11, 36, 73, 118, 120, 11, 11, 100, 87, 31, 47, 47, 47, 47, 106, 34, 119, 51, 74, 22, 120, 54, 54, 120, 54, 54, 54, 47, 108, 98, 40, 118, 77, 55, 61, 66, 4, 12, 51, 54, 1, 22, 64, 30, 78, 83, 103, 108, 27, 97, 63, 71], \"Freq\": [0.9940958945828993, 0.9317649223995365, 0.9870410890795335, 0.9929842426406262, 0.9766288012756424, 0.9923814972632824, 0.9915181089380826, 0.9603085255134807, 0.9416836167685954, 0.9530804457493459, 0.7709580827964388, 0.9472837247207282, 0.9877290092294346, 0.7661426572171272, 0.9738206700030488, 0.9904825938768903, 0.9949567424211554, 0.9782692828797754, 0.9819298618518708, 0.9960405001464274, 0.9684688561986139, 0.9929433669417208, 0.9794466346074825, 0.9977543929290534, 0.9893975749599214, 0.9618636354392454, 0.97037556232524, 0.9791311047929088, 0.9743206715179957, 0.9751160907920554, 0.9829714207608884, 0.9845415163203006, 0.989608007729288, 0.9847264695137417, 0.9915113135633249, 0.9940232003960309, 0.9698795634707887, 0.996469967512414, 0.9674095765678542, 0.9924921793545998, 0.977774649767341, 0.9786281113415023, 0.9643724873964, 0.9963051815646635, 0.9909818948623649, 0.9975078329468431, 0.9956386977735283, 0.9154583118632319, 0.9800083738952748, 0.9894558137582876, 0.9955196837266332, 0.9870908607432051, 0.918529119253266, 0.9898081688020626, 0.9918148593227853, 0.9461914527686006, 0.9935199723523476, 0.9891486709033144, 0.9860028725107399, 0.9902554467052498, 0.9983401532193477, 0.9729142266452323, 0.9800254898059153, 0.9739591939255265, 0.961400965526599, 0.991841167594939, 0.9672829795207502, 0.9926602371628638, 0.9729843829471807, 0.9689400965323861, 0.9947431290948514, 0.9550434707265056, 0.9252064140048646, 0.6540158952112245, 0.3415879197918497, 0.2803253378894103, 0.6774528998994082, 0.9672489871112196, 0.9778182212866486, 0.9929430555324645, 0.9706437226561911, 0.9953850735206973, 0.9550030869255681, 0.7691191082297504, 0.8601563906189859, 0.9694808798341323, 0.993557585186637, 0.9353027583481655, 0.9828307946020118, 0.9995094684576226, 0.9877985049990328, 0.9697859316493981, 0.9980696762796918, 0.9676792972990177, 0.9842659231545324, 0.8767942701993554, 0.9515030031486501, 0.9925209212878723, 0.9521566292041231, 0.9880971471865662, 0.9863781442736257, 0.8912958147061999, 0.9927143338739842, 0.9897112192075589, 0.9736317305164809, 0.9812137670040589, 0.9869562715565123, 0.9420941449931162, 0.8792706987714999, 0.9941970726028825, 0.9943782066953026, 0.9930866618410465, 0.976314972779686, 0.9893535155172973, 0.9811188409091516, 0.6977206836244959, 0.29220780767179744, 0.9486214826553736, 0.9610756128480843, 0.9734711119644123, 0.9814388325830833, 0.9076128613323331, 0.9937232196468289, 0.9810882600854652, 0.989943481880122, 0.8825898460600688, 0.9604098696483327, 0.9947055938528452, 0.9981967984839976, 0.9884325360131125, 0.9372187063092943, 0.998468145424198, 0.9901727549996515, 0.9893704478758106, 0.820277710575096, 0.9626486451535832, 0.9863120781387513, 0.9997249442438616, 0.9825939107488592, 0.977742191585987, 0.9900091820436312, 0.9534642504070502, 0.9215730353847459, 0.9911185293382772, 0.9815141195129444, 0.9994553678415916, 0.9923198134417862, 0.9993886239194885, 0.9560925571170418, 0.9920919661104479, 0.9769540845039474, 0.9517789502528342, 0.9855884836451441, 0.9972115295732017, 0.9812004596064009, 0.9947325759853812, 0.9824413731231899, 0.9894210922012224, 0.9557867672662668, 0.9980343766059544, 0.9578495281272872, 0.9233714945691669, 0.981782391669486, 0.9868683223042856, 0.9787794052174601, 0.9740160161584973, 0.9899753981536504, 0.9671757264818571, 0.9760607027369663, 0.5898587643468542, 0.986574721117641, 0.9283994206369889, 0.9961514941368373, 0.9983000758528445, 0.9930437018761398, 0.9954463513183563, 0.9723716092872408, 0.933652466128052, 0.9890953743298971, 0.9903505152192131, 0.9954385512742512, 0.9722681267955144, 0.9876557613264115, 0.9687275060418044, 0.9679342183664591, 0.994088201509194, 0.9905550704538597, 0.973493888693471, 0.9803079265267962, 0.9827669796315318, 0.9963320809339634, 0.9829171990914746, 0.9958710996225186, 0.9891103304702547, 0.9467628225672005, 0.9641956486245876, 0.782838361793454, 0.9715817855391927, 0.9869289738192983, 0.986663376819201, 0.9958465988858264, 0.9907174190241084, 0.9770799605260826, 0.9466608114393347, 0.9731761172618802, 0.9843553251587892, 0.9918198927094988, 0.9943899667702943, 0.9914967299414786, 0.9825904858927121, 0.9494221211304121, 0.8638860372803772, 0.9568179033875298, 0.998146784311397, 0.9849113738640503, 0.9176178911464165, 0.9399178981257937, 0.9849741158648259, 0.9708836465540202, 0.9886763504723217, 0.979773339108489, 0.9494553370255402, 0.9833003712325719, 0.9683309666241525, 0.9949136941128695, 0.9857400802654207, 0.9750862315165155, 0.9948282394586613, 0.9958011639770401, 0.9794770319372971, 0.9319789039309941, 0.16228116627557337, 0.8316909771623135, 0.8964347040125953, 0.983559864629387, 0.992250366703803, 0.9051070903977781, 0.9848440453553687, 0.988978256702426, 0.9405834118132526, 0.9974288003783051, 0.7698461096511732, 0.9507619983446943, 0.9697824198156632, 0.972373981464298, 0.948849884382765, 0.9819492124475068, 0.9945375785348841, 0.9716496073003129, 0.921521810934429, 0.939629279106776, 0.980972177367892, 0.9876999658469058, 0.9889905969838135, 0.42978857060750636, 0.5645527834251143, 0.9728580120737966, 0.9907458261792078, 0.31355810113486526, 0.6831087203295279, 0.9934908036607368, 0.9950116177487045, 0.9982924906286743, 0.9604116563576162, 0.98259603799253, 0.9935622090103451, 0.9926196916663034, 0.9962864637509117, 0.9833099617452356, 0.9584022285588023, 0.8525198611792011, 0.9678096917913523, 0.7951374834744713, 0.20206464101496466, 0.951987687625594, 0.9961248201999219, 0.9861094317158217, 0.9922358640811675, 0.9674725743699197, 0.9424470133902731, 0.9664555650551416, 0.9813602247929255, 0.9933111613160976, 0.9889589857549562, 0.9746260051073398, 0.9945830027479653, 0.9701237911684168, 0.9995099690712848, 0.9122289055979763, 0.9822801915769704, 0.9875378448370303, 0.9919744551493506, 0.984919409830334, 0.996934051989679, 0.9648667553502563, 0.9308783406370806, 0.9813907610597419, 0.9868359936112889, 0.9962212238202246, 0.9942347614855931, 0.9731220904836491, 0.7425578177244969, 0.2501247386019358, 0.9515538524726, 0.9599726155715521, 0.9958565639916783, 0.9317649223995365, 0.9881847660378189, 0.9979004094604413, 0.9207739838454048, 0.9194172854522306, 0.9706425771931444, 0.9812053597823202, 0.9588244869680789, 0.9225159203411555, 0.9709304551459617, 0.9726091806369709, 0.9681338468326411, 0.9630248982605724, 0.9822791243242761, 0.989654085162088, 0.9965199806019444, 0.938980570972388, 0.9879866408370047, 0.9823805122996658, 0.9219885402765902, 0.9814119154362285, 0.8800301260387828, 0.9727082011067276, 0.973904572846865, 0.9903583408770924, 0.9702841386279096, 0.9428133279823824, 0.9850290938806494, 0.9856893154747018, 0.9645635911469507, 0.9672550336769891, 0.9539572431257912, 0.9729507425463837, 0.9961457451946254, 0.9841616615069393, 0.9860874400758103, 0.9945418097783287, 0.9815506969143486, 0.9883590549739059, 0.9870189761594962, 0.9670185299776057, 0.9889606478077838, 0.9817392841063929, 0.9823311075538412, 0.9907647092106301, 0.9665703105316269, 0.995233288614444, 0.9832180147814219, 0.8648538845864077, 0.9852274187648719, 0.9891629329517343, 0.9936602637665495, 0.6388848973315825, 0.3577755425056862, 0.9959417984470618, 0.9889497732293351, 0.9899136408685509, 0.9861778953149366, 0.9746001404859792, 0.9499941371603742, 0.9811325581396145, 0.9893889515765506, 0.9819386088944587, 0.9301376340039673, 0.7803809989264049, 0.9847254306107632, 0.9893689318767095, 0.9759898255450248, 0.9950476011629026, 0.957989391312033, 0.969154331895841, 0.9618699894492508, 0.9657765204518287, 0.9343182853221095, 0.9160905097984082, 0.9826393617749014, 0.9910369340555547, 0.9442675251655278, 0.9157291056160854, 0.9744819048189035, 0.9868370011075112, 0.9683896514431599, 0.9979942921670355, 0.925851453464097, 0.9852495057936536, 0.9966927056970889, 0.9819108686018032, 0.9346935259401871, 0.8848148859115521, 0.9830770050293868, 0.9932518348290967, 0.9922617209565614, 0.9829688282956943, 0.9826666810865217, 0.9822597949329642, 0.9831907737823758, 0.9822608117469163, 0.9811305890287059, 0.9016939960626402, 0.9644669887528147, 0.9458384629643737, 0.9894246819658564, 0.9833412132429729, 0.998902504940319, 0.9976876147097037, 0.9784032702119406, 0.9684187486275018, 0.980211323665744, 0.9551364147467861, 0.818921844857496, 0.9063945515032247, 0.9613672837260564, 0.9300251519150997, 0.9916203834895411, 0.9944823729940853, 0.9662097068242308, 0.9451569271431821, 0.9657407303980956, 0.9834848841984435, 0.9826965883913328, 0.9741608568605878, 0.9606477532823651, 0.998061756435625, 0.9496064798635617, 0.9826219411461683, 0.9926076884448984, 0.9887952260161665, 0.9602380946048392, 0.9665588576136801, 0.969682303057246, 0.9956747544568267, 0.8647620196202569, 0.979245442265571, 0.9967729231253827, 0.9657312103353385, 0.9659134004194176, 0.9816452270702445, 0.9596410617285169, 0.9578744441680703, 0.9869976313167637, 0.9917342401397634, 0.9987618860773361, 0.9780496211550697, 0.9931835360529265, 0.9816902647468297, 0.9701678099061788, 0.9540566880529557, 0.9770969069919732, 0.9607773604117257, 0.9934163992592796, 0.9956007868498273, 0.9942825867492313, 0.9834876658579557, 0.9314419461925947, 0.9884905982974304, 0.9949282981117313, 0.9919919218759298, 0.9920097010516479, 0.9968396879642216, 0.900190928064148, 0.978607307538592, 0.9913140315534369, 0.9304862872733147, 0.9798942908555284, 0.8241236136567632, 0.9900662980527626, 0.9951459383284881, 0.996396222696616, 0.9410367411997687, 0.9354208007191407, 0.9888853446799989, 0.9856638569401184, 0.9741765034492568, 0.9734457742543652, 0.955005868084789, 0.9704289680986425, 0.9733320613626444, 0.9917188267199472, 0.9975025514245996, 0.9847342568530627, 0.9505728950790656, 0.9563614522570903, 0.9650766191115145, 0.952506636460357, 0.9831225477710156, 0.9696522148095608, 0.9777495453363143, 0.8080849178991169, 0.1911395239058801, 0.687819283915939, 0.14351009165660908, 0.16809548584479309, 0.9222048882029441, 0.9751724840975471, 0.9869787666301981, 0.9785963057246562, 0.9768036479525917, 0.9966487413923284, 0.9648498376754285, 0.933344237313262, 0.9908488996116948, 0.9743408489629588, 0.9838784316033774, 0.9994180733490001, 0.9908029447654852, 0.9871487127194146, 0.9304741401823754, 0.9864391866151234, 0.9790247721831719, 0.9953085286792045, 0.9937380496720971, 0.9358277772603835, 0.9712849910954071, 0.9584434047629824, 0.9519724276181788, 0.9769552082627013, 0.9783474201593891, 0.9924419504924625, 0.9981976685462376, 0.9753427996293608, 0.9932421912513728, 0.9850964259519651, 0.94546644650929, 0.9642362062808237, 0.9942638293267424, 0.97971206101896, 0.9826062222487568, 0.981156581448219, 0.9176320965921028, 0.9612173087197895, 0.9972274015255674, 0.9838136658361731, 0.9730565517577178, 0.9112040252664743, 0.9983001719374064, 0.9708245052837253, 0.9160137804161371, 0.9814729831043074, 0.8971533846255256, 0.9109106046251686, 0.9876027592951534, 0.9946671593962544, 0.9915532179206106, 0.9878835035830176, 0.957663886535406, 0.9991827304916518, 0.9719826111069344, 0.9913407887213621, 0.9773729802580401, 0.9989217145550304, 0.9386255347218899, 0.7267790995269364, 0.742902238766977, 0.9975819346855312, 0.9585429857653687, 0.9861054029718201, 0.977241946982392, 0.9830364410062599, 0.9835388328517507, 0.9822186636816146, 0.9623518400640683, 0.9899472311706219, 0.9966337083599234, 0.9770222854248835, 0.2954425430969457, 0.7035538526291671, 0.9974703939501283, 0.994024025864706, 0.9937402280842124, 0.9970557780579329, 0.9844898588993186, 0.98823661756928, 0.9939869911233145, 0.9927724763406017, 0.9947667158621062, 0.12110862705611937, 0.1681546706433042, 0.3973294572264224, 0.0880366558215637, 0.10480554264471868, 0.08617344617454648, 0.03353777364630998, 0.9856817601279656, 0.02358736476012786, 0.0816115953927568, 0.08370596111381619, 0.05414450396902712, 0.021252661989110837, 0.008137125834279916, 0.026986417323814405, 0.03450553360106041, 0.018299949661059897, 0.03900326982169614, 0.05785256131123063, 0.015930913025763212, 0.0255443950240686, 0.0427456610281793, 0.015553240518686928, 0.015209901875890308, 0.024171040452882115, 0.006111427841779852, 0.018231281932500572, 0.002575039820974657, 0.01984497355364469, 0.009098474034110455, 0.005321748963347624, 0.0029527123280509403, 0.00786245492004262, 0.030213800566102643, 0.003673723477923844, 0.029115116909153457, 0.0021286995853390498, 0.003742391206483168, 0.009167141762669778, 0.014214219811780107, 0.0007896788784322281, 0.008892470848432482, 0.016754925768475103, 0.0008583466069915524, 0.005699421470423908, 0.0007896788784322281, 0.006351764891737487, 0.003055713920889926, 0.01706393054699206, 0.003742391206483168, 0.0065921019416951224, 0.0010643497926695249, 0.004875408727712018, 6.866772855932418e-05, 0.0031243816494492507, 0.008274461291398565, 0.007450448548686674, 0.015759243704364902, 0.004051395985000127, 0.007175777634449378, 0.004669405542034045, 0.0013046868426271597, 0.013321539340508892, 0.0009956820641102008, 0.011776515447924098, 0.005802423063262894, 0.0015793577568644563, 0.0016823593497034427, 0.0021286995853390498, 0.002163033449618712, 0.0008240127427118903, 0.004017062120720465, 0.006523434213135798, 0.0035020541565255335, 0.012737863647754637, 0.008652133798474848, 0.0014076884354661458, 0.0014763561640254701, 0.00024033704995763465, 0.0010643497926695249, 0.002849710735211954, 0.0005493418284745935, 0.0016136916211441183, 0.00820579356283924, 0.0010300159283898628, 0.00278104300665263, 0.004566403949195059, 0.0007896788784322281, 0.00037767250707628305, 0.0013390207069068217, 0.0006523434213135798, 0.00020600318567797258, 0.006317431027457825, 0.0005836756927542556, 0.0015450238925847942, 0.0020600318567797257, 0.003742391206483168, 0.2774115141930577, 0.7216001887045608, 0.9967440429422628, 0.9572495539060509, 0.9997430628039765, 0.9735807863684868, 0.17589156249142265, 0.7995071022337394, 0.9908212951742045, 0.9637943447632109, 0.9992444938636849, 0.9826696128823857, 0.9584655750558259, 0.9658071537289167, 0.9768584915008649, 0.9719553245080264, 0.966665114345623, 0.9800597518353205, 0.9737315239600087, 0.992374634144907, 0.9807080437282247, 0.981548204200337, 0.9982859778093454, 0.9900082272489331, 0.9908427495441051, 0.9964059413985302, 0.9846893944220131, 0.9342365224213353, 0.9680259106286269, 0.9750704565752089, 0.9801093591365135, 0.984147237308554, 0.9675693867225718, 0.9286239451186606, 0.9602404317442965, 0.981382046082163, 0.9775891117156974, 0.986834696034915, 0.9912918364539706, 0.8929630668211188, 0.9874232133377747, 0.9815426583993817, 0.9763493071782765, 0.9908083679947927, 0.9712162186964092, 0.9393210388772851, 0.9914823431678179, 0.981544707594263, 0.98321132644835, 0.9864052635189334, 0.9450674356578679, 0.991626171109047, 0.9949709787261791, 0.9777356795260151, 0.9857109882441704, 0.9964195934644857, 0.974583387988917, 0.9907687425510778, 0.9964009878507986, 0.9942833374988189, 0.20259196776547464, 0.1320694473407841, 0.5282777893631364, 0.13591613027303995, 0.9791476946989474, 0.807372893664952, 0.1886385265572318, 0.9819463507940154, 0.9984116689399994, 0.9946656151227886, 0.9180264525264692, 0.9787205287833306, 0.9890730496066286, 0.9887263184103047, 0.9557938853759194, 0.9873182028792815, 0.9675026369142267, 0.9919493327701299, 0.9850437486678879, 0.9906203440189951, 0.9713899667594842, 0.9511918828818625, 0.9075212762880033, 0.9919493253425266, 0.9443437750783867, 0.9516691748295847, 0.9814101530547537, 0.9733886921866287, 0.9198841092607231, 0.9758249669042411, 0.9694513348795706, 0.9564102815886113, 0.997568493116183, 0.9835025321986195, 0.8720804919509986, 0.9723900155113071, 0.9973335741888939, 0.9947155108755102, 0.9992261393852511, 0.9648867560191478, 0.995218098908498, 0.9958502694743935, 0.9758818377356322, 0.9473504783673505, 0.9790460917601979, 0.9899418344568425, 0.9893004904775523, 0.995790563255813, 0.9637498357390373, 0.971769991571772, 0.9834872608081154, 0.9893332181293687, 0.9895344056233356, 0.9324692693111917, 0.9972641917768378, 0.9834289540141871, 0.9807893347776684, 0.9850936341700027, 0.9635464540400828, 0.9798494656177915, 0.9720741886802616, 0.9440198420620227, 0.9981793955336353, 0.9964292707250352, 0.9821019645964751, 0.9976172377889132, 0.9832446184197963, 0.969421711480345, 0.950539422557929, 0.9795266488589922, 0.9886424422328289, 0.9761083979097792, 0.9643626083863596, 0.9218657465978684, 0.995136956240917, 0.9911676931908964, 0.9813731914848931, 0.9965877216331991, 0.9919813547026614, 0.9780062585032029, 0.9663538278628372, 0.9656923818135621, 0.9741244537344249, 0.9551004805354657, 0.9372738287783839, 0.9844826517635278, 0.9579374686900003, 0.9948620309485275, 0.8461404958508271, 0.9932027430820151, 0.9807334109608575, 0.9893976768692061, 0.9941344830782622, 0.9988488595575513, 0.9924088448378281, 0.9076807125030403, 0.9791362082246898, 0.8318496213150374, 0.11883566018786247, 0.23971632701720735, 0.7562881303078091, 0.9883867865112829, 0.9892156597618682, 0.9737387209035284, 0.9437587757998108, 0.9854906045564107, 0.9814088896197452, 0.9386381474198771, 0.9967196326190655, 0.9645891763581357, 0.9744711981434582, 0.9732618513356386, 0.8420256137539773, 0.9626100689109429, 0.7627238344011145, 0.9887045481911363, 0.9907826234040316, 0.9882378894454505, 0.9759540116656633, 0.9906369229784068, 0.9658211888556097, 0.9951477445432015, 0.984286891323234, 0.9739746551941874, 0.9738262232331978, 0.9929114803778125, 0.9976656096432908, 0.9830128212412079, 0.9771055297234916, 0.9723239308911185, 0.9669701241114605, 0.9827591202304471, 0.9906246093574406, 0.9889283416954536, 0.9880719906057349, 0.9918829080148682, 0.9955458036483695, 0.749950902473713, 0.24963739643746402, 0.9954580625471295, 0.9984232750330174, 0.9805034378686192, 0.9644888524315205, 0.991648339013932, 0.9850858584948886, 0.9289198487069396, 0.9671899740780551, 0.9929536976796265, 0.9959604497010377, 0.9898039259554821, 0.987692043690241, 0.9589275730712065, 0.995980738001444, 0.9658314856882344, 0.998752819417997, 0.9958405682820165, 0.994612508374022, 0.9921896627618193, 0.9964253614690751, 0.9992207230337752, 0.9376126662041203, 0.9709338750021175, 0.9962415136677054, 0.9068958236296047, 0.9780796316455964, 0.28136982077357287, 0.712404439830961, 0.8697426150042753, 0.9830645836670595, 0.9864668121516094, 0.9837477349986107, 0.996655741200104, 0.9428988494684013, 0.9846088950715994, 0.9217907101903275, 0.5833978788935429, 0.9691527874324503, 0.982116450999253, 0.9573715543994502, 0.9809006549168949, 0.9896841438416754, 0.980184849695169, 0.9954757941473961, 0.9833411275854492, 0.9674761699540348, 0.9919631470390431, 0.9941835230987977, 0.9982245606001213, 0.9895350748204382, 0.9729233362062485, 0.9960878566243707, 0.9937784091575639, 0.9595247202953746, 0.9636772888125845, 0.9955030644389294, 0.3728021934865868, 0.4990956901930936, 0.07564102476539442, 0.0513278382336605, 0.9848056161698706, 0.9823437152677322, 0.9562293752741933, 0.9857261834429388, 0.9875935274181166, 0.973008491145771, 0.9916188190865155, 0.9664615186688151, 0.8949601391108669, 0.8583966405570486, 0.9862327912258455, 0.9902514302904342, 0.9441747822564464, 0.9839420460522436, 0.975621806330888, 0.9860480792329847, 0.9619066742693761, 0.9838108762774094, 0.9353984141090046, 0.18423270928215973, 0.7676362886756656, 0.9868899299291184, 0.9583553601922588, 0.9926311463073162, 0.992770210441708, 0.945474023684583, 0.9882135212423738, 0.9793484556505393, 0.9926711793254223, 0.9573083335564087, 0.9790476370578323, 0.9183738585552704, 0.9253332684312406, 0.759010402546988, 0.9900596337265276, 0.9950301209702709, 0.948101586682601, 0.963918905943757, 0.9796340948222729, 0.980113355221013, 0.995571096244629, 0.9475939947493276, 0.9509886280443896, 0.9516203665770867, 0.9544894749334821, 0.9964236966284435, 0.9960690492953909, 0.9944692688189262, 0.9801244448792759, 0.9837140754486972, 0.9950304029508635, 0.9102523691674674, 0.9253484683427848, 0.3430948465158959, 0.6347254660544074, 0.9782641561512411, 0.9530447202925668, 0.990007712840403, 0.9946109580324912, 0.9888546544343731, 0.7398129407083921, 0.24660431356946402, 0.9860790755995934, 0.9860890256533029, 0.9652293476868343, 0.96889513033993, 0.9947802142081138, 0.9936981983168801, 0.9609454381450213, 0.7506591402974675, 0.9649224603781567, 0.9807070286064199, 0.9561949912111729, 0.9468693901775573, 0.9843782020161332, 0.9900899240354029, 0.9644889172650627, 0.9971217234784904, 0.9836453664791553, 0.9914239221657295, 0.8490354353156729, 0.975029656300567, 0.9890992602624, 0.9822450569544479, 0.9960338043881729, 0.981406456359774, 0.9970446783901987, 0.9615966497778642, 0.9809475829737343, 0.9514698337875414, 0.9926469300004664, 0.9803677981187998, 0.986349015639871, 0.9902632183593717, 0.9940512352945776, 0.9529914817060793, 0.9780866806076624, 0.9884939740523842, 0.9676386697265336, 0.9892911025045158, 0.9743818922326319, 0.9911895438853907, 0.9895465551581094, 0.6431167441026039, 0.050902541904918726, 0.05881671803147853, 0.1000064074174375, 0.06196440171817845, 0.08507739336051788, 0.933682777682305, 0.9949711735488191, 0.9921479605208962, 0.9661885473445985, 0.9307309877574202, 0.9955936733083162, 0.9637005318727214, 0.9778619177201107, 0.9890626539801732, 0.926532449687484, 0.06763010581660467, 0.9725335622324472, 0.993572008002007, 0.9786017691862685, 0.9673889169548159, 0.9985241920380767, 0.9525564787859239, 0.9823567378147647, 0.943823794715473, 0.9862957619201146, 0.9983474063390597, 0.07276518496879028, 0.006526751209209506, 0.05426373319392366, 0.025028202984076126, 0.027994908079171356, 0.06181534616325698, 0.06904331857676173, 0.04649635985403797, 0.04191145197979989, 0.07384398682155219, 0.023733640760761843, 0.025136083169352313, 0.006149170560742841, 0.027023986411685644, 0.033281037157704675, 0.005124308800619034, 0.012621981677314252, 0.0036139862067523713, 0.02125239649940947, 0.0340901385472761, 0.006095230468104746, 0.002319423983438089, 0.0036679262993904666, 0.007983133710438075, 0.011866820380380921, 0.00043152074110476075, 0.0018339631496952333, 0.015750507050323766, 0.013377142974247584, 0.02125239649940947, 0.000539400926380951, 0.004369147503685703, 0.0009169815748476166, 0.011165599176085684, 0.006310990838657126, 0.027994908079171356, 0.002373364076076184, 0.0019957834276095186, 0.012783801955228538, 0.007551612969333313, 0.0012406221306761871, 0.009331636026390451, 0.006958271950314268, 0.009493456304304737, 0.000593341019019046, 0.0009169815748476166, 0.0028588249098190402, 0.0015103225938666626, 0.018177811219038047, 0.023248179927018987, 0.009547396396942832, 0.0009709216674857117, 0.0028588249098190402, 0.002211543798161899, 0.00043152074110476075, 0.0019418433349714234, 0.0015103225938666626, 0.002265483890799994, 0.0070122120429523625, 0.006095230468104746, 0.012298341121485682, 0.0012406221306761871, 0.0009709216674857117, 0.001078801852761902, 0.0012945622233142822, 0.0014563825012285675, 0.0007012212042952362, 0.012406221306761871, 0.002697004631904755, 0.0008091013895714264, 0.0026430645392666596, 0.0007551612969333313, 0.001672142871780948, 0.0006472811116571411, 0.007605553061971408, 0.00032364055582857055, 0.002804884817180945, 0.0037218663920285614, 0.0032903456509238006, 0.9741524843954538, 0.9946211835607934, 0.9903053605373917, 0.9824106498700066, 0.9593953659767692, 0.9967082356071052, 0.9662971663567834, 0.9952555431051091, 0.8845299443418352, 0.9937627355399425, 0.9833108925472961, 0.7138336039799872, 0.27579934699226777, 0.938969232206356, 0.9384213661336116, 0.9416922438644385, 0.9680097257297616, 0.9927405649462835, 0.9076986555791215, 0.9908878619082968, 0.9822721914653026, 0.9270234471062098, 0.9956973498761721, 0.9605003113426199, 0.22929425428847727, 0.754760253699571, 0.9894866295511071, 0.9788820359489232, 0.9933810154418481, 0.9934419700979267, 0.9739853997179932, 0.9776290626987096, 0.9861485961363005, 0.26967570467672736, 0.7272153833979165, 0.9824344678506604, 0.9216067344432178, 0.9896636795442251, 0.9259591843972642, 0.9911785927318985, 0.7682471619300957, 0.9868811175269512, 0.9881249901432388, 0.9646093379080537, 0.9927431598105612, 0.9687121209938815, 0.976100031952766, 0.9950597973741915, 0.9795653260826123, 0.9204475275678834, 0.9749637185436361, 0.9728127962957273, 0.9786246842458869, 0.12006138320247524, 0.8704450282179454, 0.963048085333078, 0.9927177720694814, 0.9844898137437089, 0.9940222905668809, 0.9848965567231677, 0.9788700496302687, 0.9906417990651276, 0.9939198679566347, 0.9857718953897516, 0.983474150054786, 0.948530542051824, 0.993142267466605, 0.8177610374451239, 0.9805152547032564, 0.8818232926774016, 0.9383731919723828, 0.9964101017439165, 0.9863861739431329, 0.9529825608848245, 0.9796733931184619, 0.9422743779088434, 0.9686861179612357, 0.9963890600690313, 0.9812978627317788, 0.9816566257372695, 0.9858280540236306, 0.9181826263932699, 0.9945909694572792, 0.9833095779939834, 0.949543987664599, 0.9626164597572129, 0.8367940016228612, 0.9073410248333542, 0.9757498640308337, 0.9890175981560994, 0.9418488926870916, 0.987439345313168, 0.9873793118532538, 0.7403952472982515, 0.22445052772427307, 0.03206436110346758, 0.9323933357329556, 0.8182085717669676, 0.9305842378865901, 0.9810973945176578, 0.9194107620441451, 0.986911100665108, 0.9845888286812564, 0.9867007931547741, 0.7915501854360271, 0.8348864750094245, 0.9785586064973344, 0.9230259872804571, 0.9688768216822112, 0.9723652941852078, 0.9978658401265904, 0.9936778090250239, 0.8451849592099143, 0.9658214964594845, 0.9879123528426975, 0.9682523773331239, 0.955016654578761, 0.990506710286926, 0.995955324110316, 0.9647094073926128, 0.9748353998902701, 0.9938825679944077, 0.9912782440085944, 0.8372564514778722, 0.16076597262217698, 0.9943505759250342, 0.9845935531471366, 0.9727903262592682, 0.9731933092892067, 0.915166491592719, 0.9929108058163258, 0.9838659478678358, 0.9890253612880303, 0.9963913257596767, 0.9788620469117684, 0.9250591522315891, 0.9803795386660932, 0.9659343663810521, 0.9872759624147779, 0.9872213099886187, 0.987800714169895, 0.9780027310090046, 0.9862676125948884, 0.9451536806449375, 0.992277046685161, 0.99241473181534, 0.9823422887421251, 0.9754717053573403, 0.9855637916107269, 0.99274095196186, 0.9928466373136825, 0.9391736343204133, 0.9808690495913631, 0.9591958567085306, 0.9908661178054686, 0.9839890801552581, 0.9798166316971854, 0.9833501070195806, 0.9889913405762603, 0.9826158974664554, 0.9797808271981182, 0.9710754519035713, 0.9990239084769104, 0.9405334948745142, 0.9917981512024049, 0.9743324330490166, 0.9981206106962298, 0.9980666357186933, 0.9346762117499419, 0.9956275379011584, 0.9881025005770987, 0.9797133281229359, 0.9441223846027101, 0.9699504047484454, 0.7701496139171743, 0.9905424070568417, 0.9706217903865377, 0.9467708059711979, 0.9304040938953283, 0.9761349830197945, 0.9885786767643686, 0.9993084604685422, 0.9935517269979677, 0.9470702878113287, 0.9686942678728413, 0.975361320622703, 0.9842305669348161, 0.9750658602170078, 0.964320886861026, 0.9493505933864662, 0.9965043930690552, 0.9830544313859341, 0.9866141239283224, 0.8968627316660217, 0.9984063036075534, 0.9528800079093934, 0.99376851976616, 0.9902632107669058, 0.9793982764138185, 0.9876258914259789, 0.913610162931321, 0.9969793664485176, 0.9975915667861004, 0.9589966734697305, 0.9720443482709745, 0.9946719922597163, 0.9899832078792202, 0.9891570795503433, 0.9246031566341824, 0.07234058927211207, 0.9605181500029285, 0.8945952216590389, 0.9955292544884677, 0.9414162252569567, 0.9810140831998606, 0.7908364200676922, 0.9350252104622354, 0.9947315351123385, 0.9536015636255815, 0.9480633333429597, 0.977775689519982, 0.9943182551533964, 0.9885857907164365, 0.9310885455465266, 0.9297051689245437, 0.994891549218956, 0.97860382049229, 0.9932182067387267, 0.9986478575370982, 0.9653109775716558, 0.9836148222810013, 0.9833546607997232, 0.991037807554282, 0.9708279719390008, 0.911550102749715, 0.08652000975251532, 0.9950556034856375, 0.909783267981057, 0.9715963314219399, 0.9695977988735385, 0.9920664924865527, 0.9855552854323059, 0.9113348925049425, 0.9892128518501618, 0.9739867065664397, 0.9662023018211315, 0.9396605319764828, 0.9827259770326641, 0.9842554646666147, 0.9878078200256858, 0.9971747808143075, 0.364470690144589, 0.6315086215376542, 0.9864126229203438, 0.9943678455010072, 0.4644772701835475, 0.5336874594493078, 0.9545113694280768, 0.8049478624805476, 0.9968336321837847, 0.998951535711375, 0.9630658933004991, 0.9885380581612755, 0.9794442524441276, 0.8401983582246669, 0.9172426123901192, 0.8369392604263425, 0.16128516997799308, 0.9181377375300014, 0.9890225921590884, 0.9809159009891815, 0.9643251797253459, 0.9808380328254122, 0.9981544570954269, 0.9843359814512127, 0.9815836968604329, 0.9652863115375974, 0.9848082965969922, 0.9820229375380383, 0.9934187356594184, 0.9966028513537484, 0.9956610555653249, 0.9661964182428524, 0.9848092419941151, 0.9971275822072251, 0.9379061621479824, 0.97868336538532, 0.993596268393812, 0.9735169470702935, 0.9904486673257158, 0.9496798992236923, 0.9866190612565985, 0.9605890699711072, 0.9782450296082005, 0.9689653215809397, 0.9811040933526699, 0.9777018215721701, 0.9667869195844847, 0.9934072872386733, 0.9866190324562688, 0.9756705305990174, 0.9770898360033592, 0.8274682008656418, 0.9783908406919121, 0.9683384697047002, 0.9663258499897793, 0.9841376250348891, 0.9603982655228652, 0.9925989175752868, 0.9991668379364849, 0.9835929674454794, 0.9829100703981769, 0.9993486644974683, 0.9538416454081169, 0.9982060568883382, 0.9964742412691551, 0.9702536808679564, 0.9696172214057105, 0.9915531432930715, 0.9403106286614086, 0.9890010761022561, 0.9748779681217508, 0.9935092110374424, 0.9821173814430183, 0.811374384445793, 0.9746645119970013, 0.9609896090850573, 0.9557044302814288, 0.9541007897616327, 0.12415460305712378, 0.8690822213998665, 0.933613524702968, 0.9928196822832103, 0.8001643585410755, 0.9903459173658485, 0.9328898286009518, 0.9544720356833314, 0.9905641879802795, 0.5269361792521217, 0.4391134827101014, 0.9766190723101937, 0.995817983607313, 0.9854659280081299, 0.9766626415690921, 0.9771264790312294, 0.9976001438222132, 0.985081952730253, 0.9461703394570525, 0.9885627626720251, 0.8828120207628852, 0.98534974276388, 0.9958294090002913, 0.994789140561732, 0.8158478852734039, 0.1808529794941043, 0.7041579226605764, 0.2946959261963462, 0.9958208295903389, 0.9838754820926338, 0.9969275078190966, 0.9923831967713252, 0.9861117597266955, 0.9806381745617343, 0.9520717790648596, 0.9965129721987881, 0.9744367661539024, 0.9890271123929978, 0.9786614379649575, 0.9436488063553915, 0.9620305291030439, 0.8504648332938426, 0.9670577936931783, 0.9466040741713371, 0.9788935642093154, 0.9786167662057589, 0.9945221584273853, 0.9741635085970523, 0.9896825919935147, 0.9978270976459265, 0.9406445776205109, 0.992792296664836, 0.479299511469992, 0.5187712359439913, 0.7403187848798296, 0.2574204911891793, 0.9942392110078055, 0.9906525353647849, 0.8937738738895521, 0.9925630007876726, 0.9662646047010179, 0.985644106492027, 0.9776748322148922, 0.9767618779834174, 0.9919853585583899, 0.9843218388954851, 0.9825540574420762, 0.9330469628531917, 0.9833155374975819, 0.9775526100548814, 0.9872939128563293, 0.9879825612917755, 0.9987497973444632, 0.9709362089598186, 0.9111442971319318, 0.9950208197779833, 0.932068908818678, 0.9810638500671894, 0.9970487575890847, 0.9829670062249947, 0.8313876516678033, 0.9669496446446103, 0.955252283753576, 0.9822568824378541, 0.9955893303910153, 0.9832945861775673, 0.9572852559556313, 0.9732455785194687, 0.5864066522720707, 0.12216805255668138, 0.28777363491129393, 0.9933000395914809, 0.9649516762674155, 0.11624690976467682, 0.865393661581483, 0.9894748915919959, 0.9430041775056853, 0.9903028523500738, 0.9907728127703416, 0.9390492240552728, 0.9917738538958009, 0.9414080426293804, 0.9598813332520918, 0.995178396693243, 0.990476131728151, 0.9910966210438309, 0.9751564618706747, 0.9821471164948306, 0.9520231210997154, 0.983154091450248, 0.09451958852293871, 0.8911846917877079, 0.9835757606870656, 0.9897058581281953, 0.9822264360442361, 0.9844875004520002, 0.9432235538447924, 0.9763293638978677, 0.2879762016853598, 0.7082657933342633, 0.9955240787302552, 0.9982984282698787, 0.9874793780124528, 0.902607409737539, 0.09026074097375389, 0.993715981050162, 0.9759160146223032, 0.9763439588543888, 0.9642664755499546, 0.926892323901268, 0.99716892107355, 0.9871650175456764, 0.9883871624663053, 0.9989533762734334, 0.99862174623273, 0.9766796743979603, 0.9853642092950018, 0.9832978801789224, 0.9925445946237272, 0.9584423655039279, 0.9763902655997821, 0.9849833799494384, 0.9346990861021917, 0.9806400393377733, 0.9787254238335383, 0.9618753496472886, 0.9905070084251649, 0.9386552902235962, 0.9832859453754169, 0.991430190436268, 0.9644321162124403, 0.9716308546152385, 0.9871901578636659, 0.9713013701759202, 0.9413708793848079, 0.9889610254142379, 0.8682788579806285, 0.12954782250510266, 0.11779397949237737, 0.8778456090741457, 0.9816830699708249, 0.29967941700925765, 0.6939944393898598, 0.9946425627908547, 0.9601928898820308, 0.9909293880451792, 0.9794498028727973, 0.9749526096109846, 0.9942587201931447, 0.9544752538445874, 0.9904541282261657, 0.9881939877067443, 0.9765239141045075, 0.9792806367101557, 0.9971361417828868, 0.9846543134626253, 0.9891115148064481, 0.8174458764490626, 0.9782871980105663, 0.9758958851585348, 0.9486783012386528, 0.9800606825627389, 0.9393420042282963, 0.9347104213168004, 0.9636144002654851, 0.9388695173586947, 0.05633217104152169, 0.9968652913281338, 0.9881622400000545, 0.9971032071760756, 0.9969844682581741, 0.9700903510517341, 0.9929653870828238, 0.9946598371191423, 0.9617520716358293, 0.9523986881529481, 0.9954645094501723, 0.9805786501140918, 0.985278853578122, 0.9859216296783393, 0.29364108281668905, 0.6800109286281221, 0.9798051575751663, 0.9451134318477951, 0.986785458061318, 0.9762788831598828, 0.9462917208184897, 0.9916143645181074, 0.9775450069471308, 0.944080995400274, 0.9708996685186747, 0.9823879815604236, 0.8323667650635553, 0.8562645967031024, 0.9894993962591782, 0.9504405021089247, 0.9705582596081225, 0.9760292149916745, 0.9625836012508147, 0.9929628553411951, 0.9890174230164159, 0.9215990789529623, 0.8789359766072843, 0.9826533652033469, 0.9755882455756836, 0.9782674879087477, 0.8336164801730935, 0.16471155188940462, 0.9838153026417751, 0.9775969122220153, 0.9817319244312078, 0.9539131533672873, 0.986123372260861, 0.9960597059799216, 0.8645863087433585, 0.9698890885026469, 0.9688581690991671, 0.9701202246783374, 0.9652375110786038, 0.9875717698091222, 0.9917216283947632, 0.969381752177158, 0.9883015140726218, 0.7170574879999533, 0.9718813365472715, 0.956966862597736, 0.9576911076089761, 0.9664901920213763, 0.9591742864132463, 0.9826827379256916, 0.9697063189327015, 0.9915638916688551, 0.954590698476803, 0.9571492438310526, 0.9633865654829855, 0.981934005066448, 0.9455353429245005, 0.9468834247802569, 0.9615839996444241, 0.987551994423418, 0.9659029588802766, 0.9946091191376388, 0.9382834872231477, 0.8594916946432235, 0.9218039864585401, 0.07776202346223185, 0.9957814688652035, 0.9913847916842468, 0.9952277288796071, 0.2524519666380833, 0.7384220024163937, 0.9977128856809098, 0.9614518247320804, 0.9988236953665326, 0.983700734716317, 0.9948257042130177, 0.9887658633691548, 0.9700295935900768, 0.9908418130532941, 0.9457111068118446, 0.9978898112437588, 0.8593343976255311, 0.9748478595251647, 0.9794980557314737, 0.784940569931508, 0.9757283898277441, 0.9892401864706163, 0.9672273272803762, 0.9567908121023166, 0.9938345085139249, 0.9933949594488389, 0.9249235065298709, 0.9027089374825333, 0.998977843289236, 0.9934546816487773, 0.9484398427855006, 0.996277071378673, 0.9857160306508088, 0.9754538027676999, 0.9956002111138221, 0.9588917420104512, 0.9983182040280485, 0.9811642825383723, 0.9899928334811744, 0.9677841092479523, 0.9194529486416825, 0.9681283246910826, 0.9964362684311375, 0.9931887418265194, 0.9504249513714618, 0.982919490839844, 0.9990984703439378, 0.9869076103964275, 0.9760671314862929, 0.9272356466107948, 0.9872600570465315, 0.9975687422840245, 0.9762287915323626, 0.9945894905993664, 0.9922958303409085, 0.9632998062480351, 0.9948612250427676, 0.9976745467828252, 0.9904669511928069, 0.9987432500514011, 0.9758641482492383, 0.9792771695985606, 0.9028510979954282, 0.9284285664932094, 0.950593709229284, 0.9872579422515068, 0.9690538020654254, 0.9997373346814479, 0.9985499549931923, 0.9514218104149622, 0.9984426396293407, 0.9212236218808799, 0.9858693026807456, 0.9646445663195945, 0.9565705103791131, 0.9743097529956405, 0.992679620173801, 0.9619701839293926, 0.9953050380967242, 0.9882002617445943, 0.9778247318483841, 0.9810103942760668, 0.9974528278218033, 0.9456748980947195, 0.9957928444107692, 0.9593453084699084, 0.9890315107511114, 0.970034749589654, 0.9009752518152983, 0.9733345200757785, 0.980474340987298, 0.9983024774659043, 0.9638482682477846, 0.9916054046483984, 0.9674546062394953, 0.9945284002247196, 0.9564165648411044, 0.9695691985416823, 0.9885124239664282, 0.9852407665228562, 0.9835167071999006, 0.9815635807342442, 0.9929311063247405, 0.9438289827044111, 0.9774221513335238, 0.9764839343130669, 0.988417595275721, 0.970607757707457, 0.9729692943616769, 0.9731560330226963, 0.980961335543137, 0.9900554678754993, 0.9857624242856923, 0.9636954900311459, 0.9897545314432787, 0.9787773359357451, 0.9634544067856915, 0.9652755506529642, 0.9978623429392297, 0.988111029281693, 0.9931694948438443, 0.9835042258160978, 0.9661212502268464, 0.9969849098382119, 0.9696921234757939, 0.9822571560505856, 0.9953079507435648, 0.9868834480538062, 0.9652008550409308, 0.9950528167721429, 0.9920164395022414, 0.9785910100402081, 0.9697048980441847, 0.9591689593180391, 0.9839678328363464, 0.8613076447447038, 0.9985238926417542, 0.8570007007424919, 0.4471952160104803, 0.5492522155149467, 0.984773983347118, 0.9807732909407509, 0.9879100219082315, 0.9722204312015071, 0.9932211809772324, 0.9758160659700086, 0.9847875795387044, 0.9865571995683865, 0.9803496727051508, 0.987532758430615, 0.9048627439416267, 0.8969038607927862, 0.9985259294814526, 0.9974657491784165, 0.9945979652975703, 0.9632168970337678, 0.9992522717046627, 0.9878591458508563, 0.9837580555489888, 0.9936820839388616, 0.96325422899978, 0.99108364371765, 0.9525033691136706, 0.9445646898283875, 0.9778473038925326, 0.9743213822371095, 0.9729832395872525, 0.9952272518668756, 0.9730879417361628, 0.987803207082754, 0.9879608735920723, 0.8698604003770015, 0.12291505657501109, 0.979066094426143, 0.9586537788459255, 0.9845043426109996, 0.9612604235901134, 0.9944152921333069, 0.995942429960758, 0.9941184454670752, 0.9645887075979329, 0.9800490290559208, 0.9893770876401491, 0.9955667904067371, 0.9846615715520547, 0.9678488753911605, 0.9748695907797532, 0.9914668672330846, 0.9972163260019901, 0.9769204971104694, 0.9856804474316508, 0.9556864139375101, 0.9043027467513575, 0.9504268895920398, 0.9658489858576678, 0.9733728634258325, 0.9682153906088621, 0.9851657780255354, 0.9757016263622821, 0.9843129850404623, 0.9976554383195884, 0.9982279036990157, 0.9975787804788133, 0.9981772522906481, 0.9848441125482226, 0.9981079068437737, 0.9992290212109082, 0.9735490804002052, 0.9949440045211111, 0.9750235929202514, 0.975729935940871, 0.970993543326845, 0.9472740026044987, 0.9744062372141565, 0.8231560506717019, 0.9619164756119725, 0.990845593573966, 0.9727800365017268, 0.9229062994618332, 0.9509062471282972, 0.9262407214171394, 0.948707619048541, 0.9882446034450901, 0.9882488625098033, 0.98912283748808, 0.9654318019442484, 0.970348856413286, 0.973254749906651, 0.9796640087730053, 0.8781721253742973, 0.9901227936970267, 0.9974686344716678, 0.9924521549719797, 0.9618585269336122, 0.9637013095583743, 0.9748515511129044, 0.9410313174026872, 0.8511483800858504, 0.9792716884900934, 0.9630711334154214, 0.9459635269412745, 0.9376146042164348, 0.9851695061341355, 0.9854571368031187, 0.9175072532287772, 0.9886732601768323, 0.946740493261768, 0.946143152874568, 0.9964416817692126, 0.9865842980171838, 0.869571264469691, 0.9933944498858186, 0.9558976690995079, 0.9759802385856189, 0.9535692047968163, 0.9771704515889829, 0.9307296017297197, 0.9678514634992158, 0.9450921334372147, 0.9261642593505316, 0.9650374085940631, 0.971975053516598, 0.9832414724446246, 0.9374059115188584, 0.9801183301192644, 0.9804783806782823, 0.9845517982532023, 0.9728488440779794, 0.9803239520352617, 0.9700311403072865, 0.9852747919349751, 0.9912357080497316, 0.9995519976617548, 0.9947928126752139, 0.7863599493849737, 0.19952416626185898, 0.9718412113385023, 0.9958837578806713, 0.9782390644873817, 0.9897673823339816, 0.6492092757475338, 0.9849493517148139, 0.9862020992033246, 0.9982447887146386, 0.9814181547485492, 0.3133286054301241, 0.6832828624440056, 0.9769722637497246, 0.9528013860958963, 0.9789001630258561, 0.9923278053023836, 0.992637499116208, 0.9856374060021293, 0.9524673113064933, 0.9800335565261487, 0.962618926968887, 0.9952371573440791, 0.3099167405023182, 0.6641073010763962, 0.934438537338832, 0.9977189948911129, 0.987683406580623, 0.9973316054217831, 0.990177710730383, 0.9596097181539659, 0.9884637107285233, 0.9983568967340078, 0.9855353957319403, 0.9656798702685523, 0.9850551731163465, 0.9860678514997492, 0.9792592469733281, 0.989340527070593, 0.9585955232983847, 0.961987079814702, 0.9937926452000115, 0.9434675643854801, 0.8255515902850363, 0.9842265597777903, 0.9609992821886038, 0.9948337095149568, 0.9440777417015505, 0.9853645876930596, 0.9814439401550912, 0.9857347466614241, 0.8397285465813479, 0.9672805029982847, 0.9736695687025617, 0.9778199257983311, 0.9797005557460289, 0.9755752972196823, 0.9725484342787305, 0.9727853669598086, 0.8629646883825715, 0.8763144588965993, 0.9946400799855498, 0.6904262634739456, 0.30164254229444226, 0.9463465640697227, 0.9976343949425531, 0.9616294739384433, 0.9938420540111378, 0.9837140160981952, 0.9867209226075603, 0.9771178016718784, 0.946878722788126, 0.9794495656452032, 0.9603049764723912, 0.8802523987091281, 0.9985866332094262, 0.9580815696076155, 0.971588863468347, 0.9729672610832389, 0.38746736928412856, 0.01456961770060211, 0.015203079339758722, 0.03315115911586277, 0.013091540542570012, 0.04582039189899504, 0.017103464257228564, 0.03737423671024019, 0.020693080212449373, 0.035896159552208096, 0.020693080212449373, 0.042653083703211976, 0.07453731954076152, 0.024705003927107925, 0.01689231037750969, 0.010346540106224687, 0.01456961770060211, 0.004645385353815166, 0.024705003927107925, 0.011824617264256784, 0.052788469929717786, 0.006545770271285006, 0.008657309068473716, 0.007812693549598232, 0.0038007698349396806, 0.010346540106224687, 0.010346540106224687, 0.006756924151003877, 0.011824617264256784, 0.01478077158032098, 0.9922855912330169, 0.9427053861015386, 0.7779697250753786, 0.94842879724606, 0.9917630968744057, 0.9813522530853235, 0.9756682939814745, 0.978891925104377, 0.981602113245841, 0.998985270080758, 0.992738862054118, 0.9918258829358613, 0.9135759774105869, 0.9490234686934285, 0.96743642787212, 0.9775516927988804, 0.8185928856374912, 0.1801536466460888, 0.9893721563078764, 0.9785452772633589, 0.9867412690820273, 0.976729808242098, 0.25724286513161454, 0.7401003742721041, 0.9985367896768538, 0.9779756129832055, 0.9812297983050576, 0.9541192738708494, 0.818921844857496, 0.988652151205896, 0.9643027549073838, 0.9498566294088834, 0.9698544222304102, 0.9931009016639882, 0.9809053826437574, 0.9942924825556897, 0.99011581185861, 0.9803834921399575, 0.988343208103646, 0.8745559588750104, 0.5012545914153875, 0.4974135600635455, 0.9874933702753839, 0.9403315869639598, 0.9204802591707586, 0.9827120052010199, 0.9996115378427082, 0.9955680015747334, 0.8843395426687276, 0.11556514800311722, 0.9990862382979109, 0.9665169942809296, 0.9710713373683735, 0.9787835456905201, 0.9919307788051561, 0.9897248780765052, 0.9724157597367623, 0.9624504551891431, 0.9705019643271667, 0.9636660459474983, 0.9842404106319845, 0.9858349440481569, 0.991889813673611, 0.9868500082883048, 0.9843443167249906, 0.9788256565709774, 0.9864805509327991, 0.980007343006237, 0.9728030215402645, 0.9887303569165355, 0.9702169490640918, 0.920783582467253, 0.9322398756489348, 0.9946236405932577, 0.9741299507714738, 0.9743159008187684, 0.9574312725765509, 0.9586916365836332, 0.9774375670220782, 0.959239105077925, 0.9946356230264476, 0.9629928984802159, 0.9897163823940853, 0.8810848012883591, 0.9469117779397155, 0.9720838160949928, 0.9836959990011085, 0.9597726444249154, 0.9476739520404823, 0.9873699906988134, 0.992891201704976, 0.9959290920616171, 0.9888747088356888, 0.9979147280343127, 0.9843192864950281, 0.8823928941915501, 0.9543941367669799, 0.9976634004058506, 0.9802390574161469, 0.9943538102869207, 0.9958828307618096, 0.9592824827109152, 0.9884691601706849, 0.9938097190988633, 0.9728723806905669, 0.9719075189329601, 0.9904419022641939, 0.9873951654094417, 0.9815381354234408, 0.9844996773221742, 0.09981791439051846, 0.11407761644630682, 0.770023911012571, 0.9985672798881516, 0.8546010779146286, 0.9919619693002739, 0.979102457226886, 0.9938783932712706, 0.9849671623193278, 0.9927520228618424, 0.9816578815621104, 0.9781154028764202, 0.9904324364575126, 0.9857574353326068, 0.8792584794807143, 0.9342887677026335, 0.9902220646168, 0.9900798370728643, 0.9930943441940265, 0.9965841132610047, 0.9923136186193436, 0.9962558490510935, 0.9988880529538853, 0.9905378917103699, 0.9685944796268922, 0.9581771969520664, 0.26547388895884494, 0.5630380282313964, 0.17066178575925744, 0.982906515651639, 0.9974453551952327, 0.96471313678114, 0.8185950668614613, 0.992944134392647, 0.9960958947109131, 0.9933213952243642, 0.996563977143009, 0.9925490975347154, 0.9901626088570274, 0.9900291246319651, 0.9934282023400378, 0.9928796719504647, 0.9939432596994231, 0.1192136032516749, 0.8717494737778727, 0.9796810695810905, 0.9755700566934202, 0.9990464467376818, 0.9842883621639383, 0.9893348250236245, 0.9888878223284603, 0.9616400783366591, 0.9932829489106795, 0.979918374686354, 0.9872817389893316, 0.9849365404254717, 0.9951349766501666, 0.953119868529178, 0.970973167620928, 0.9979170461058751, 0.9805674488464324, 0.9842829433258264, 0.9920480037828007, 0.974282701981098, 0.9526609663411704, 0.9813866241545388, 0.9732894788937314, 0.9811422668466218, 0.9699002470529785, 0.7479031923000157, 0.9509316965526047, 0.9800019638976529, 0.9856524018533493, 0.9922090832819251, 0.915103910320315, 0.994606555473639, 0.941233255446251, 0.964634631618383, 0.9703124038336952, 0.9927706363377208, 0.9859389036867485, 0.9904560658653337, 0.9784187011479266, 0.9859788578779378, 0.9984120723450286, 0.988452322620628, 0.9711715286875967, 0.9937369755082744, 0.9917560721895401, 0.96341349834612, 0.9462847103592313, 0.9990955612917639, 0.991145986325618, 0.9910704191485458, 0.9767431914009204, 0.9846989075933744, 0.9977951087578312, 0.9695952266934351, 0.8578592797917158, 0.9755934489505028, 0.9638717671224257, 0.9789695494135281, 0.9638560372577794, 0.986268500760889, 0.9671439708271942, 0.9889431303016278, 0.975505053938042, 0.9864666581569173, 0.9849379900849572, 0.9989460036823181, 0.9314464463241846, 0.9829818172858495, 0.918578331305746, 0.9625842032962395, 0.9902082835431621, 0.991065721015247, 0.9908372316875526, 0.9606999226697965, 0.9871212858492042, 0.9360587090910658, 0.9574026590417393, 0.9757052988047306, 0.9667041980386948, 0.973861101740867, 0.9956231084967319, 0.9923084843175075, 0.9832967594106777, 0.9922289029856214, 0.9827938426377876, 0.989473631318898, 0.9883979183433792, 0.9740264000411054, 0.953149366374739, 0.9920648655611667, 0.8948878728037244, 0.9821467423179167, 0.9591069737955267, 0.9703938160039474, 0.9691327269991095, 0.984804830986396, 0.9926109810880823, 0.9712936008582989, 0.9602859449672023, 0.9908695916408573, 0.853198344894143, 0.9237438497788084, 0.9062215529862088, 0.99658705230813, 0.9853012861964763, 0.9807838837735391, 0.9520019012150074, 0.9955516562586246, 0.9948013268704052, 0.9915637130359674, 0.9979096730357686, 0.998565316524943, 0.9743912918251247, 0.9331238710173736, 0.9776461977195182, 0.934101817881082, 0.9754727721130887, 0.9896048309345575, 0.9554516302467062, 0.984262069829339, 0.9955822828227231, 0.9609046682526873, 0.9720508989078428, 0.8753317116667854, 0.9403817131993427, 0.9655445897312556, 0.9487299641871905, 0.3375755866771582, 0.651870098411064, 0.9754740183802194, 0.9745341137911958, 0.986717580099488, 0.9973623793410337, 0.9962304785205139, 0.9869012538892397, 0.9351568714306974, 0.8984456650850041, 0.08422928110171914, 0.9844537126555153, 0.9975930711111991, 0.9895952424795262, 0.9876028670007383, 0.9829419120872762, 0.9866383952085162, 0.9986547136660593, 0.9945411299741223, 0.987479569618606, 0.9796357531781719, 0.9871636201727482, 0.9487909998177277, 0.9799259064538304, 0.9957809104332646, 0.9973572974183617, 0.9875929821519088, 0.9902403310461455, 0.9854845586985732, 0.9299748098297876, 0.991799318535381, 0.6383844012398149, 0.9642399101533662, 0.9430203416803976, 0.9600467192806653, 0.9522356041354553, 0.9538628342024336, 0.9939290851031839, 0.9592501018190402, 0.9858028418098522, 0.9538564727957483, 0.9840003072265784, 0.9769247695832955, 0.9884464372260983, 0.9896012040030364, 0.9930436827315566, 0.9813780161766698, 0.9510001597456074, 0.9746962674185986, 0.9729489934959994, 0.9551266504118344, 0.9782884577516158, 0.9863603024359193, 0.9717655284896115, 0.9748959053516921, 0.94676508406036, 0.9937484994937829, 0.43081230257299713, 0.557521803329761, 0.9692515701061444, 0.9666899088576695, 0.9905829798204449, 0.9979005257034781, 0.9909824126767469, 0.9856109171161235, 0.94576234066656, 0.9612468497740131, 0.9718786272318756, 0.9773731965131284, 0.9836546743789218, 0.992098599888077, 0.9933586606429232, 0.9905743202868231, 0.9675443074645211, 0.9826196042679064, 0.97728806815569, 0.9947734385833144, 0.9825325093232109, 0.9631013252418058, 0.8087118350507602, 0.9719187594990029, 0.9871143171014163, 0.9952606303341616, 0.9934958694857533, 0.9494054251713628, 0.9961711141586491, 0.9903720392518414, 0.981745342585939, 0.9592203484737462, 0.9787481469407273, 0.8968502127556337, 0.9804287628950267, 0.998976547524127, 0.9262411665216806, 0.9677364029617285, 0.9494673018599195, 0.986258384014949, 0.9538422180938403, 0.935841964065354, 0.7211420087999383, 0.8896612996911043, 0.9803748425891455, 0.8435107551961538, 0.9747735407771119, 0.9247236751474212, 0.982690940824726, 0.9939690251888899, 0.9948285026746474, 0.9984746675206683, 0.9682573432218072, 0.9797784464599723, 0.9966363929438379, 0.997470509179548, 0.9837416831974944, 0.972206460802536, 0.9874606332278844, 0.9964485057011548, 0.7938566638443869, 0.9642227037665001, 0.9919587742572865, 0.9653772407667818, 0.9429362744102712, 0.986236599070993, 0.9911407013946082, 0.9912613925054936, 0.9962922143892339, 0.9817759955822741, 0.9971079072259196, 0.998226788787737, 0.8741222923916361, 0.9625698078736109, 0.9891553582675869, 0.9926554803979135, 0.9240994179937216, 0.9904295508083122, 0.9701382210953945, 0.9841678637082887, 0.9638132269297656, 0.9988818840154977, 0.996948596710384, 0.9915502330540494, 0.9887347549897666, 0.981607384268642, 0.9731114132257705, 0.9677009700993859, 0.9733397366286276, 0.9716012294238291, 0.985386829252053, 0.9557809027548332, 0.9397354005608101, 0.982874243400909, 0.9650099024984415, 0.9508738569884411, 0.918214819785234, 0.9667633991304097, 0.9893022468853119, 0.8015523555228175, 0.9753276108533958, 0.9570803599389609, 0.98757714588658, 0.9949167701804349, 0.9713204222179086, 0.9911463355790826, 0.9595685221968163, 0.8433756243287077, 0.8414948653616928, 0.645411807433395, 0.9616585720188741, 0.9966346802906088, 0.8889177715907864, 0.9806289802230854, 0.9972574289575383, 0.992014844630377, 0.9829145028409092, 0.9839964593043843, 0.9690811046368215, 0.9675725892583823, 0.9649780433522949, 0.9876435142395696, 0.981039254746253, 0.9617386506995312, 0.9235332322517018, 0.9729962286248296, 0.9988728903275598, 0.9990320655381981, 0.9748671059751626, 0.9689668036556867, 0.9939605806666025, 0.9919679050098703, 0.9906641474798277, 0.981431689364644, 0.9812136246668041, 0.9810571611476575, 0.959001672750785, 0.9699099296309243, 0.9967005699543532, 0.9656339383813313, 0.9465317240737333, 0.9803485207371602, 0.9850286595816204, 0.9740676578296902, 0.9518058451933475, 0.986313446715418, 0.9400254671724801, 0.9788946407365012, 0.9947689595253338, 0.9884349890780509, 0.9931567121302969, 0.9613126654029128, 0.9457408812914507, 0.9567766641088172, 0.9812041332035111, 0.9876401245985119, 0.9945494188984425, 0.9994942731622927, 0.8157185461626119, 0.7028486546477091, 0.9756791505116156, 0.807732722044179, 0.19012785611193753, 0.9818566884103392, 0.9559432697430137, 0.9960994496806148, 0.9917792991668796, 0.9893679497001818, 0.9614761267598054, 0.9668404003797841, 0.972637555648508, 0.989415693124783, 0.9564814130995904, 0.9363647990051825, 0.9359481226279448, 0.9936141968899838, 0.994847432261979, 0.9865507017400214, 0.8942097479373424, 0.9838854526638457, 0.9756439944557682, 0.9894823712302503, 0.9640317764947047, 0.9153638083079291, 0.9970891304531126, 0.9868556542649999, 0.9971862059022498, 0.9229360027733581, 0.940304298654751, 0.9608107879149246, 0.98644361348942, 0.9937299906712233, 0.9694353350355639, 0.9722758937237052, 0.9621694762848164, 0.9139644873159412, 0.33650987224506534, 0.6375976526748607, 0.9944037855393986, 0.944859124316987, 0.9766555486415699, 0.9603789437957391, 0.8591695529654362, 0.9635265485745087, 0.9162717811470873, 0.9583829796124453, 0.9284264684605416, 0.9880680043909643, 0.972360075960612, 0.9565329109433696, 0.9644833027838483, 0.9958820842162142, 0.6594283001868922, 0.9821887903331139, 0.982526884205916, 0.9837712509594676, 0.9908253051748143, 0.9423240574716851, 0.9723024585876912, 0.9603363227458478, 0.9775150230705907, 0.9901549016867681, 0.9786134338097718, 0.9349204354946435, 0.987237932736028, 0.9548982730416573, 0.9253212473592715, 0.9721499319860917, 0.9864555137686447, 0.9687687107863999, 0.9904999781034493, 0.9565491110576224, 0.9852589389955989, 0.9984568456053112, 0.9959382149153044, 0.9802834939605888, 0.9585301447528185, 0.991320800506395, 0.961393958322022, 0.9297345919947834, 0.9560646191161327, 0.9873334606253035, 0.7795879831050547, 0.8203417283817362, 0.9857290977695721, 0.9978098931037032, 0.9600759071017397, 0.9950143327400988, 0.9806181258300758, 0.9918619612845183, 0.976308176420167, 0.992551987649825, 0.9004675484475054, 0.9356952818740021, 0.995387728590363, 0.9612804342734713, 0.9839085150173662, 0.9953530877312883, 0.9906460795936426, 0.9702167200505969, 0.9685768173557759, 0.952221876233418, 0.980541726015926, 0.9940085708596501, 0.9856950864852805, 0.9680096569495882, 0.8376833085855545, 0.9670040017725244, 0.957311238852572, 0.9947259031459957, 0.9966609810565574, 0.9692636496141834, 0.9910939621787325, 0.9926700046001818, 0.9771433974640347, 0.9735554548881026, 0.9883248795277407, 0.9771420108302035, 0.9895890770152513, 0.978141753897414, 0.8118677698677187, 0.18306822261723069, 0.9736409789812336, 0.9720201579964903, 0.985754239254576, 0.9989205261784304, 0.996146048306937, 0.9974745742483807, 0.9685768934184094, 0.9805673096668608, 0.9718406753655978, 0.98736806457469, 0.9711639214251389, 0.9565528712322663, 0.9870948481122634, 0.9777240758911481, 0.9934650386538589, 0.9568153822617865, 0.9903106023290231, 0.2949231865497338, 0.7004425680556179, 0.9693629440821532, 0.9880453924465901, 0.9941909438816707, 0.9048775447923076, 0.9941392072424937, 0.9529086238396848, 0.9560670867591767, 0.9548948073202508, 0.9739518303416118, 0.9886976015884791, 0.9697386470762801, 0.9961752458545191, 0.7685538623340374, 0.9876783820080293, 0.9961692121148972, 0.9589229376168651, 0.9759842111200998, 0.9866385303488353, 0.9874173100918545, 0.7974396159187624, 0.1540670456515677, 0.04564949500787191, 0.9849917063550113, 0.23487579811689138, 0.763346343879897, 0.9922518166445586, 0.9775183548986487, 0.9716526402751572, 0.9567625765348888, 0.9874854189220693, 0.9442673674659336, 0.9888803336195476, 0.9645833283549459, 0.9549396424794849, 0.9620480978708615, 0.9972671331444221, 0.8958309111577614, 0.9901914105900642, 0.9554271905003847, 0.9227581170554774, 0.9972962181049271, 0.9918419502695136, 0.9782301351482721, 0.9944895374214011, 0.9930529261216566, 0.9693142342452402, 0.9903392429665796, 0.9245100270319296, 0.9435586477804557, 0.9196377427362625, 0.9386655657933836, 0.9299334894689877, 0.9800218158530585, 0.998057075322093, 0.9022353578935284, 0.9525432267077616, 0.989482383354039, 0.9367510117862069, 0.9809256475481971, 0.9192527438072481, 0.9582872830109236, 0.9786234549637813, 0.985719041322571, 0.9743681056212469, 0.9789038849574871, 0.9632583078856465, 0.9841345679438679, 0.9821216921840885, 0.9228706931822286, 0.968152995316001, 0.981455171541185, 0.9701974104458465, 0.9713229668120257, 0.9990772305466079, 0.9104748035007013, 0.9330145745683366, 0.935912278620803, 0.7834625751272472, 0.21384834556823124, 0.9920176208781915, 0.993997617537296, 0.399978445660427, 0.5948397397001223, 0.9953983545659423, 0.9912915021802466, 0.9933420498166678, 0.9880638239687966, 0.9902750146623186, 0.9776198302102264, 0.9871279529279253, 0.9588599570116626, 0.7193252727678741, 0.26974697728795277, 0.9889015797822683, 0.9876582559161383, 0.9435711310822764, 0.9543681526406211, 0.9759990152508815, 0.9776672120271311, 0.9721848182102023, 0.9854430541662482, 0.9590868586480471, 0.9557217067974454, 0.9690803669594376, 0.9836615060951168, 0.9969897612263944, 0.9968152269765057, 0.9950639672220768, 0.9819574507145559, 0.9930462042318655, 0.9942028075212036, 0.9641645087787793, 0.9933826209523887, 0.9342698928031534, 0.9405677280296002, 0.9870249213402846, 0.9926633759808976, 0.970329918202316, 0.19841802406459988, 0.7936720962583995, 0.9603168918697095, 0.9887459417500293, 0.9903384794207708, 0.8777137954965263, 0.891715536811254, 0.9907457444462299, 0.9785198716456713, 0.9544883581527529, 0.9905075348058416, 0.9385700440357847, 0.9720638065538888, 0.9705062889760229, 0.8742361749433892, 0.918873492633485, 0.985611489588993, 0.9652979546205832, 0.9705725568109244, 0.972692369030088, 0.9156368751003833, 0.07474586735513333, 0.9869168299131422, 0.9748016357292679, 0.9962551691546786, 0.9807565099788964, 0.9853562746500627, 0.957746859482196, 0.9801514375464114, 0.9965075062757863, 0.9912597251313041, 0.9724290607643898, 0.9232537691929532, 0.9950122743101287, 0.91348318572147, 0.989455484234919, 0.8763377957448484, 0.9706011184032759, 0.9948618634948948, 0.9683193374778171, 0.9973396659047218, 0.948693486140205, 0.993885821642609, 0.9907263774118872, 0.8360567768132074, 0.15006147276134493, 0.9910223521247641, 0.951083267949972, 0.47108269837718253, 0.5196479250140055, 0.9790306405838423, 0.9957723924135625, 0.9674522041463471, 0.9855461125742583, 0.9602023903056665, 0.964219810225891, 0.984480993979993, 0.9934532426638631, 0.993047966368453, 0.9790092940561502, 0.9852587390053159, 0.9667412187893549, 0.9683515670273468, 0.9888554861585049, 0.9777404188891874, 0.9913330316948737, 0.999449120596337, 0.997361691046633, 0.9477593774880464, 0.9884856593406229, 0.9775550394059846, 0.9876299488087295, 0.9940704065891518, 0.9808319196851354, 0.9946079180712215, 0.9600437657160281, 0.9795857167915845, 0.9179660887853829, 0.9916126869429651, 0.997233969562438, 0.9737519858404886, 0.9776782714859008, 0.9837310076914815, 0.9963745988329293, 0.9963033236846918, 0.9966066547705636, 0.9942393215964818, 0.9807032908386877, 0.9866172178762265, 0.920098297565347, 0.9544510699206802, 0.9837859830680162, 0.8132480708051806, 0.667144235440719, 0.9772528797188391, 0.9882916328840724, 0.948284566845401, 0.9466325296669149, 0.9701940829582073, 0.9936369704395155, 0.9534601254216978, 0.9581846819991225, 0.9630328022211624, 0.9845647186057878, 0.9937356066758821, 0.9885818969006497, 0.9852459617313777, 0.9233589078250447, 0.9715981274860171, 0.9952470512574163, 0.9908215013038673, 0.97579095240354, 0.6690994966856808, 0.18544330619752952, 0.14284146558458355, 0.9821003397680003, 0.9681012608231502, 0.9551859937749415, 0.7465385758714882, 0.9944001080824973, 0.968602848795771, 0.9921212118017122, 0.985844604207107, 0.9733712131740087, 0.9854749599890549, 0.9959393236593868, 0.974013890567111, 0.9535296102123135, 0.953269593797051, 0.9643603867869652, 0.9712552602896447, 0.9786232220156355, 0.96762595309702, 0.9935180295245875, 0.9757723933465959, 0.1711545326273738, 0.8129840299800254, 0.9924935435337701, 0.9810022632736425, 0.42441465420094376, 0.572959783171274, 0.9642947758322429, 0.9469519875748325, 0.9357427347767249, 0.9212875143607882, 0.9836252301502184, 0.981111045370983, 0.9446314513767652, 0.9978345499636091, 0.9969953323871693, 0.6386600017759685, 0.3558248581323253, 0.9854015558982115, 0.9886532947071881, 0.9824787155484493, 0.9011401111099387, 0.9936128210346407, 0.9962544884405998, 0.9769531289892595, 0.9587357745861201, 0.9562596530229086, 0.9582512790071913, 0.9941369931660249, 0.9877014716539334, 0.9538904630043841, 0.9733221018649776, 0.9913472295761626, 0.9903589130458064, 0.9703450651853787, 0.9901939579997605, 0.9809283705222587, 0.9983414262139052, 0.9872410858739624, 0.9841913517089933, 0.9340743013385459, 0.9988276139360522, 0.9265948627681989, 0.9981236869647572, 0.9950835573876334, 0.9377879981080592, 0.9587790685167978, 0.971837128971977, 0.9982522069697392, 0.9872486562953812, 0.9751106445441947, 0.9301588817585975, 0.9806125957466693, 0.9734777140078359, 0.9226399754091958, 0.9958596284006749, 0.9908454555833114, 0.9843834276279547, 0.9906236039746218, 0.9934214937819091, 0.9909050395445816, 0.9903672347623388, 0.9879384406217401, 0.9811904227268485, 0.9695434625596228, 0.9714178973295594, 0.9852664844078517, 0.6850533372786779, 0.30142346840261824, 0.9582568266353121, 0.9886011617000973, 0.9815838911275641, 0.998119767152328, 0.9582954096574058, 0.9390103750555144, 0.6157361719202858, 0.9935779787474628, 0.9884795802894015, 0.3073351270334598, 0.6874601525748443, 0.9930385452669153, 0.9973883095932805, 0.9742249304141656, 0.999450707077299, 0.9831177326299889, 0.9878390102085113, 0.9645622469166005, 0.9933593690211506, 0.9715212923642037, 0.9778672686047483, 0.995180052332699, 0.9954887875232549, 0.9447807956631116, 0.9314553127861741, 0.9945727458015056, 0.9993651351249337, 0.9762004533936877, 0.9970757057097875, 0.9545540545054149, 0.967312967784158, 0.9168458285136402, 0.9898366415689477, 0.9631366275336015, 0.9452895746122021, 0.9764006976599598, 0.9856591719870004, 0.9984955135563893, 0.9659937607398961, 0.9960119087258416, 0.9981226851673849, 0.9872326683705573, 0.9897761137443494, 0.8481260825911295, 0.9783258246472853, 0.9837836683090284, 0.9918498320507012, 0.9908650109763091, 0.9841595462954978, 0.9690840581704422, 0.9635263873341074, 0.9825575395685386, 0.9944889931739109, 0.9602559835895111, 0.9854170791803977, 0.9945024245485131, 0.9957692928409169, 0.9899021441260883, 0.995363938152603, 0.9898931859033648, 0.956552713857525, 0.9609563019587328, 0.989133242638349, 0.9152076492861776, 0.9939098881355923, 0.9930286639695269, 0.9583769827045842, 0.94990269440035, 0.9612514470698409, 0.9793713680525177, 0.2976902572750719, 0.7011712671354999, 0.9819135243426085, 0.9966298842003688, 0.9927961623235176, 0.9662155115483747, 0.9784009595300982, 0.9093117871785972, 0.996265141027779, 0.9906490150544529, 0.9911175867196064, 0.9878585803005812, 0.9703462998298823, 0.9850212146537051, 0.9879928340393765, 0.9767786420197082, 0.9914493649774502, 0.9825503212709986, 0.9989529686765732, 0.9211577148319255, 0.9464446943721857, 0.9190742346062318, 0.9847758677077276, 0.9870155055706654, 0.9450469505708493, 0.9969902860421844, 0.9964776270369081, 0.9951083427909628, 0.9365197604960873, 0.9447163590901458, 0.7828296177067938, 0.21115798898670096, 0.934379135959269, 0.9909459987423591, 0.9772264806589299, 0.9829247852223517, 0.968527895107182, 0.9867441324445313, 0.9355426131688122, 0.9729083027749178, 0.9973353346929584, 0.9718666806477914, 0.9598875144457083, 0.9991900836492339, 0.9827508431681272, 0.9485967832242365, 0.9751135566461326, 0.9981091968459489, 0.968368298309771, 0.8528235478858341, 0.9945155903947354, 0.9925104211191884, 0.9966201506343233, 0.9569063851205571, 0.9876850885403405, 0.9778876325781466, 0.9868188664202714, 0.9978862960797156, 0.3056818275877116, 0.6885885379344241, 0.9914357018945852, 0.978523097864074, 0.9942333629455609, 0.9201937292047382, 0.996120772621471, 0.9559866721620268, 0.9073679461030472, 0.9825047139668672, 0.9568411680680554, 0.9081734423593053, 0.9083526145641923, 0.968034796316327, 0.994125019770386, 0.793428569210265, 0.9568378330097506, 0.948704878518263, 0.9920050274189618, 0.970469420010417, 0.9723991480958644, 0.9831574371646943, 0.993035638899063, 0.9880222545420396, 0.9880221775323486, 0.947910376352234, 0.9217800479721459, 0.995528041544438, 0.9912623573475798, 0.9483862856651275, 0.9829195747249382, 0.957748879719667, 0.9732026330999344, 0.9966691715545716, 0.950336785805268, 0.965004670555188, 0.9808646069974082, 0.9424909789909925, 0.7733905137524842, 0.9532537751068468, 0.9861051861785922, 0.9987251868535235, 0.9926501688554479, 0.9790813199115522, 0.9887789120416665, 0.9975664346697436, 0.9557682086355526, 0.9873594900025412, 0.7012754227066255, 0.29424143610068204, 0.9979608406727216, 0.9848324032901873, 0.8545255982308791, 0.9707754839822115, 0.9790148764369899, 0.994282418075636, 0.9994031133012258, 0.6953021017058985, 0.9817977610859591, 0.9424499916899693, 0.9741791493756451, 0.9775143358393802, 0.9921314819057985, 0.9769230065460914, 0.992543831848609, 0.9858571757685877, 0.9471328092924933, 0.9736594924534554, 0.978418562107716, 0.8786409397435944, 0.9948825860894538, 0.9896007043200131, 0.9947045630221414, 0.9920376607838999, 0.9827272675249971, 0.959840474260026, 0.9968471996027038, 0.9343270928655097, 0.9626647911696794, 0.9925688254478495, 0.9178151743256696, 0.9803765271727973, 0.9776731578169625, 0.9947511239777841, 0.9557013421382198, 0.993666950761107, 0.988954815524786, 0.9992926447403144, 0.9927197173825214, 0.25751313586204166, 0.7409576079049313, 0.9633956383883999, 0.998864131476134, 0.32232662187658206, 0.6676765738872057, 0.9797497274219832, 0.8810262234079606, 0.11268940066846007, 0.119703904982402, 0.8788786707918463, 0.9912663546147621, 0.9947470365359067, 0.9931163824422627, 0.37655061033004733, 0.6230716202702037, 0.9962244258817866, 0.9905389203550878, 0.9947575296825455, 0.9890858581374821, 0.9786594370516036, 0.985766687950386, 0.9932449566450863, 0.9668625144516412, 0.9928613334676513, 0.9903039267805659, 0.9764405283588278, 0.9953599194952738, 0.9661525631934272, 0.9760184222671897, 0.9898930905897001, 0.9943310323965591, 0.9980218053907973, 0.9885174162564969, 0.9908477933133686, 0.9635973981591288, 0.9796268433527785, 0.9948042374392466, 0.9497045202124474, 0.9172823600015081, 0.9396982030019124, 0.9889830315679334, 0.9684322154403691, 0.960829552832886, 0.9824615547148866, 0.9885090462141951, 0.9965423408265179, 0.986647091683477, 0.9970355811653657, 0.9928663703742641, 0.9791157974305706, 0.9951980957945059, 0.9937255973090477, 0.9954350560564281, 0.9948995530487456, 0.995913053544979, 0.9952419425787777, 0.9973723550048683, 0.9717824436606639, 0.9944795616534486, 0.9782784408130198, 0.9935723502833953, 0.3224256018555792, 0.6684433209201033, 0.9691281020141246, 0.9819980408322291, 0.9936707862853487, 0.9971333415363058, 0.9972746428695982, 0.986503905933062, 0.9742087807771423, 0.9874062825995551, 0.9500797332582734, 0.9602319929949725, 0.9833265501592305, 0.9530326417154371, 0.9981264481668787, 0.8507037471469502, 0.14811794910233267, 0.9930898421178557, 0.9360261806387163, 0.9959829674192152, 0.967425586643161, 0.9567412440205201, 0.9237146767697094, 0.9711888675893976, 0.9704668829650999, 0.9941360245532502, 0.9818941168439991, 0.9704651537009186, 0.9902774985805662, 0.9586800391106761, 0.9774315370323872, 0.9828451337900086, 0.9520298231028453, 0.8364670362389166, 0.9666409810851854, 0.847961044011206, 0.9297003735070446, 0.8827931178331566, 0.9856749401444118, 0.8232622836881653, 0.9660373939010196, 0.9909840926455963, 0.9865668167886924, 0.9368194135955138, 0.9887371111988323, 0.9950037242122065, 0.9856925380737632, 0.9552819117458526, 0.9853170318574844, 0.9886886221070169, 0.9450719977572606, 0.9975409877375893, 0.961540622322599, 0.9882085403430573, 0.9179738667937655, 0.9869636003009865, 0.9460221987350395, 0.9880563814209905, 0.9862168802203293, 0.9950511162674176, 0.9620881445784186, 0.9615712860557848, 0.9924630063327632, 0.9634995076794808, 0.9431832764769069, 0.999427552838114, 0.981001373268905, 0.9788266138168615, 0.8093783092470422, 0.18221605914985767, 0.9512237983958219, 0.9840691480608508, 0.9723215960091357, 0.7369217663352696, 0.24030057597889226, 0.9156629965896177, 0.9599940428725668, 0.9909888311381347, 0.9911082773797236, 0.97221301100932, 0.9518270529903466, 0.9684723750207502, 0.9780193425343714, 0.9864020022789934, 0.813428245591611, 0.1597805482412093, 0.9848613208009223, 0.9714986310266156, 0.9975230952439157, 0.12787231089734227, 0.8524820726489486, 0.9849664210592154, 0.9437676925060803, 0.9858796756273001, 0.12123180219278203, 0.8771477452771875, 0.9942360550222152, 0.9900574538866269, 0.9971464666981693, 0.8602873830090678, 0.12545857668882238, 0.9721719521427753, 0.9955199543512341, 0.9798658811376028, 0.9758863818090302, 0.9898252064403418, 0.9581211455314791, 0.9841507113391046, 0.9562354427501544, 0.9909378076790946, 0.9657093555560088, 0.9766497839775515, 0.9758815122305332, 0.9559603626626031, 0.9882856165403883, 0.843612568578512, 0.985674006562791, 0.9720953652523642, 0.9748717159631927, 0.9945040342048712, 0.9707733619990095, 0.9380970904747951, 0.974609184291036, 0.9861450872727451, 0.9848880725178872, 0.9750104434964911, 0.9433849859104588, 0.9951402420284865, 0.9913906289498993, 0.9693993323676298, 0.9988927725007352, 0.9801634820876047, 0.9749303342398173, 0.9749075009453413, 0.9746679470856082, 0.9937446750870794, 0.97903965604677, 0.9470341059377614, 0.9945836686875158, 0.9842010297909358, 0.9837814264386133, 0.9488085145898947, 0.9871796805586521, 0.9610783816572293, 0.9794456161292744, 0.8796486654189184, 0.9734754023709339, 0.9820765296320131, 0.9658551951154832, 0.9954886172246723, 0.9491558054857244, 0.9807851744827525, 0.9530440283025438, 0.9975645607120776, 0.9234548337675577, 0.9923989940516132, 0.8273405061128795, 0.9950029201647497, 0.9722133019810812, 0.9569911776247619, 0.9859879537751803, 0.9835892437639252, 0.9704259113880106, 0.9907552873471971, 0.987144278018674, 0.9130902488695662, 0.9718267442524402, 0.9778359999927766, 0.9501365401826152, 0.9829446476632977, 0.9324513298810391, 0.99907433550144, 0.9612239796956829, 0.9978441593731205, 0.971848466609791, 0.999008979081956, 0.9833551448216522, 0.982158618473254, 0.9655507057248912, 0.9877966613662946, 0.9924741990401794, 0.9886805129812146, 0.993012386862207, 0.9947360323649203, 0.9514926393171375, 0.9951870224441245, 0.5571329176849299, 0.9900368552725894, 0.9873047407618939, 0.9369932029974786, 0.9436891810270749, 0.986891321323494, 0.9172797653221927, 0.985417930117539, 0.9794588161087647, 0.9839661661296374, 0.9431835005274479, 0.9907926480822005, 0.9873789913461084, 0.9948948743055964, 0.9633547171176525, 0.9906578435734205, 0.9979151659697708, 0.9718974555399155, 0.9764206103902177, 0.9808357148846323, 0.9838283684082878, 0.9716623430815311, 0.9944910570619919, 0.9969988614102071, 0.9879187061815892, 0.9780099984340482, 0.993274852067477, 0.9847621243956056, 0.9820334135625596, 0.9957387019699067, 0.9849562925017088, 0.9657755645459193, 0.9847804598872897, 0.9593492208137318, 0.9821218881520329, 0.9813155875251908, 0.993457760918496, 0.9939321807796302, 0.9526120049259242, 0.9705527892869185, 0.966353823654041, 0.9688762541750375, 0.9995012124720979, 0.999666390084505, 0.9871269983396427, 0.9931138032811346, 0.9015966101181977, 0.9932116779706971, 0.990222195561124, 0.9980943705348015, 0.9069116134624359, 0.9990947173660513, 0.9953904183630948, 0.9913956055154233, 0.9817597741364544, 0.9575471509682175, 0.9935058348743803, 0.9393444376099322, 0.9924897500301302, 0.9646879396804348, 0.900851910957908, 0.9858879684714602, 0.9550657494867885, 0.9363742603137759, 0.9284779674436109, 0.9860543167519459, 0.9595703638398057, 0.9610678224085718, 0.9980812095947467, 0.9466209477120696, 0.9979925610221224, 0.9620287319890146, 0.9723764390212903, 0.9762259415597441, 0.9926666180587895, 0.9872047407841005, 0.9899360609731134, 0.9768007120901749, 0.9858835525383588, 0.9331741860256718, 0.9433332613521173, 0.9920643767579227, 0.942790027212502, 0.9493324662796367, 0.9980739567340328, 0.9680285246547268, 0.95335506734836, 0.9670203922101281, 0.9639744666459671, 0.971125167510818, 0.909756301057286, 0.9825629642340338, 0.9944885910437572, 0.9688082475252401, 0.9828067274600243, 0.9967108181974824, 0.9917381427744728, 0.8257596227501096, 0.9834350428900536, 0.9924407916977381, 0.9482527069435872, 0.9725920029239244, 0.9598314257978323, 0.9897238691316983, 0.9905019326385621, 0.6623817080870388, 0.9826308929902265, 0.9808767808062412, 0.9727285829068097, 0.9963872303881837, 0.9887359283245879, 0.9732270545793174, 0.9830226752358879, 0.9790127718739837, 0.9484101934692314, 0.28820053761856296, 0.691681290284551, 0.8990783238276036, 0.8833309913203976, 0.9758762734640826, 0.9857348190357105, 0.9889076773846501, 0.9700328305404905, 0.25900143651229857, 0.738462429103518, 0.9696006173534919, 0.9431890974171965, 0.9884211433720518, 0.9747632533793594, 0.9737513309443884, 0.9746729890859691, 0.9886621727476935, 0.8845017292851319, 0.9118212438134002, 0.9813756345491594, 0.9630655836197489, 0.9939835177012518, 0.9928795249381, 0.778017196207804, 0.9721661902682691, 0.9442863318568101, 0.919425214136556, 0.9773440232748645, 0.9953700841310644, 0.9805815419530957, 0.9374304953367348, 0.9983363368887874, 0.9750047312298824, 0.9329619745739722, 0.9871602477292079, 0.9799614217430758, 0.9741484721311465, 0.9822322810556238, 0.9422347933252146, 0.9961784183031485, 0.9871065354467642, 0.9929237304936069, 0.9693936416344546, 0.9587829551285716, 0.9220364547049247, 0.9823998035008253, 0.9493845326989979, 0.9836754304861599, 0.95956187918293, 0.9212677624789417, 0.9755408220295066, 0.9635129244392882, 0.9798538645870928, 0.9825707426228717, 0.9964638372250982, 0.9797152193191417, 0.9993792737741231, 0.9901139183294191, 0.8818232926774016, 0.9091178297491782, 0.08847862090016333, 0.9785401700492239, 0.9769923896689795, 0.9657918672629641, 0.8909794004728275, 0.9670754952444526, 0.9901770385551804, 0.944160293365113, 0.9820078609944806, 0.9978980308350436, 0.9887036806700065, 0.9630694649114458, 0.816535248265978, 0.18251402272533856, 0.9935842246631124, 0.9958405568318079, 0.9958972496832268, 0.9949793326532672, 0.9758287200473192, 0.9719422520182238, 0.9906977501838051, 0.3963765676176413, 0.5877307726744336, 0.9447857713925671, 0.9882985860757691, 0.9458120465854569, 0.9894951943959007, 0.9959658798004144, 0.9843240408927599, 0.996552355472638, 0.9546577864085534, 0.9862468509911643, 0.9616964648429369, 0.9951170597534706, 0.9908082948446753, 0.978879836756898, 0.9876866146602256, 0.9900172592264813, 0.9643443509788767, 0.9317075610093158, 0.9888611875205261, 0.9831241289435461, 0.9748723393347148, 0.9972152044776118, 0.984302900304235, 0.9898270952945731, 0.9452763974484762, 0.9703742803664466, 0.6904254093610085, 0.9628206586265178, 0.9843492561836116, 0.7984194931063111, 0.13306991551771852, 0.9455216959356882, 0.9631555987167878, 0.9888550125245978, 0.951953713567301, 0.9934544607940897, 0.9962414984888895, 0.9866251175076318, 0.9872973250732592, 0.9464104558180335, 0.9824251513541756, 0.9722071643063195, 0.940467481574599, 0.9354383468589528, 0.9870823303737183, 0.31374094375688233, 0.6850490331572293, 0.9765686878442383, 0.996197912987472, 0.9444904785338781, 0.759938393341455, 0.2383443142752745, 0.9706846651985007, 0.89547110600485, 0.9723008156152478, 0.9960049699062598, 0.98573138738629, 0.9853112608577451, 0.9722261580395161, 0.9636781053420369, 0.9241557142858728, 0.9675941345256001, 0.961318588327791, 0.861442513389295, 0.9741089248370127, 0.9829017782653282, 0.9980753497604111, 0.9893413522800669, 0.9887008936124773, 0.5898587643468542, 0.9909760696988625, 0.976015183884743, 0.9904644808433571, 0.9941539249490611, 0.9425226154451245, 0.9333937956664341, 0.9897333871865821, 0.9895446907717362, 0.9918385774065475, 0.9968854611384631, 0.9548404948500323, 0.9724326383272821, 0.9635934174527863, 0.9941118241848043, 0.9491647728386507, 0.9836741646286464, 0.9812532245196322, 0.9532633755113732, 0.9860722975058173, 0.9983101213935303, 0.9940216453356338, 0.9973842516682293, 0.9781252578746383, 0.971645482019979, 0.992528241854978, 0.9819235204051683, 0.9841771853014768, 0.9968106709909511, 0.9943703157515892, 0.9713198250465486, 0.9889737810282886, 0.9973335442974285, 0.9795462635763146, 0.9653467390869671, 0.9956974409429662, 0.982593389929229, 0.9944730040951174, 0.9989972299909456, 0.9943423876686781, 0.9971933733397373, 0.9954484907456599, 0.9736894099095995, 0.9951500187694486, 0.9960942700655162, 0.9993512485901493, 0.9968919154419462, 0.9726416229895948, 0.9892976365127066, 0.9536508013958921, 0.17244943394684142, 0.8168657397481963, 0.9923522607589687, 0.9880336211015448, 0.993523438451466, 0.9868910607102409, 0.20793558762895156, 0.77233218262182, 0.9955538405813725, 0.9819874947907284, 0.9737386287510073, 0.9420683093732519, 0.9858208029434512, 0.9161121694710627, 0.9968490912977247, 0.9747120315616369, 0.9961009910387538, 0.7636872855286837, 0.23414940358190772, 0.9163728972906113, 0.7406359907486704, 0.25213140110593035, 0.999389983272991, 0.9980948707194481, 0.9729395277066906, 0.9959789421068143, 0.9889671515854064, 0.9967611014292815, 0.9915134210916141, 0.9947730016566945, 0.9946753657636659, 0.9957553522771317, 0.9909887339890879, 0.9982640295661144, 0.9161662797276565, 0.998932922638722, 0.968365352846055, 0.9816654982216275, 0.9938701920416417, 0.9977598237172394, 0.9896692171980397, 0.9954581802303338, 0.9960508868384991, 0.9985501885172281, 0.9815882284994921, 0.9841256576427192, 0.9754529667747751, 0.9963092775895147, 0.9461347981980855, 0.9643680162386751, 0.7126579037930185, 0.28074402270634063, 0.9924676217743431, 0.9001829864581008, 0.9892038815265528, 0.9861018330465511, 0.9898181849868886, 0.9463948730549274, 0.9447021869223451, 0.9930521217356634, 0.9893903696323505, 0.6596751852874716, 0.33362882934079024, 0.9823454423672023, 0.9781176694974683, 0.7267790995269364, 0.9887946032602998, 0.9580858755485921, 0.9913629334834971], \"Term\": [\"1-planar graph\", \"2-opt\", \"3-dimensional matching\", \"3D reconstruction\", \"3G MIMO\", \"40-bit encryption\", \"56-bit encryption\", \"A priori and a posteriori\", \"A-DNA\", \"AND gate\", \"APX\", \"Abductive logic programming\", \"Abelian group\", \"Abelian variety\", \"Abstract data type\", \"Abstract interpretation\", \"Abstract machine\", \"Abstract state machines\", \"Abstract syntax\", \"Abstraction\", \"Abstraction layer\", \"Abstraction model checking\", \"Acceleration\", \"Access control\", \"Access network\", \"Access structure\", \"Access time\", \"Accessibility relation\", \"Action language\", \"Action selection\", \"Action semantics\", \"Active appearance model\", \"Active contour model\", \"Active database\", \"Active learning\", \"Active learning (machine learning)\", \"Active listening\", \"Active networking\", \"Active queue management\", \"Active shape model\", \"Active vision\", \"Activity diagram\", \"Ad hoc On-Demand Distance Vector Routing\", \"Ad hoc wireless distribution service\", \"AdaBoost\", \"Adaptability\", \"Adaptive algorithm\", \"Adaptive architecture\", \"Adaptive coding\", \"Adaptive control\", \"Adaptive filter\", \"Adaptive learning\", \"Adaptive mesh refinement\", \"Adaptive neuro fuzzy inference system\", \"Adaptive quality of service multi-hop routing\", \"Adaptive resonance theory\", \"Adaptive system\", \"Added value\", \"Adder\", \"Additive Markov chain\", \"Additive white Gaussian noise\", \"Address space\", \"Adjacency list\", \"Adjacency matrix\", \"Adjacent-channel interference\", \"Admission control\", \"Advanced driver assistance systems\", \"Adversary\", \"Affect (psychology)\", \"Affine hull\", \"Affine transformation\", \"Affordance\", \"Ageing\", \"Agent architecture\", \"Agent architecture\", \"Agent-based social simulation\", \"Agent-based social simulation\", \"Agent-oriented software engineering\", \"Agile Unified Process\", \"Agile software development\", \"Agile usability engineering\", \"Algebra\", \"Algebra representation\", \"Algebra tile\", \"Algebraic data type\", \"Algebraic geometry\", \"Algebraic number\", \"Algebraic number field\", \"Algebraic specification\", \"Algorithm\", \"Algorithm design\", \"Algorithmic learning theory\", \"Algorithmics\", \"Aliasing\", \"Alice and Bob\", \"Alignment-free sequence analysis\", \"Almost surely\", \"Ambient intelligence\", \"Ambient network\", \"Ambiguity\", \"Ambiguity function\", \"American Sign Language\", \"Amplitude\", \"Amplitude damping channel\", \"Amplitude distortion\", \"Analog signal\", \"Analogy\", \"Analysis of algorithms\", \"Analysis of variance\", \"Animation\", \"Annotation\", \"Anomaly detection\", \"Anomaly-based intrusion detection system\", \"Anonymity\", \"Answer set programming\", \"Ant colony optimization algorithms\", \"Ant colony optimization algorithms\", \"Ant robotics\", \"Antenna (radio)\", \"Antenna array\", \"Antenna diversity\", \"Anycast\", \"Application domain\", \"Application layer\", \"Application server\", \"Application software\", \"Application-specific integrated circuit\", \"Applications architecture\", \"Applications of UML\", \"Applied mathematics\", \"Approximate string matching\", \"Approximation algorithm\", \"Approximation error\", \"Approximation theory\", \"Arborescence\", \"Arc (geometry)\", \"Architectural pattern\", \"Architecture\", \"Architecture description language\", \"Argumentation theory\", \"Arithmetic coding\", \"Arity\", \"Arrival theorem\", \"Artifact-centric business process model\", \"Artificial immune system\", \"Artificial intelligence\", \"Artificial life\", \"Artificial neural network\", \"Ask price\", \"Aspect-oriented programming\", \"Assertion\", \"Asset (computer security)\", \"Assignment problem\", \"Association rule learning\", \"Associative property\", \"Asymptotic analysis\", \"Asymptotic distribution\", \"Asynchronous Transfer Mode\", \"Asynchronous circuit\", \"Asynchronous communication\", \"Asynchronous system\", \"Atmospheric model\", \"Atomic broadcast\", \"Atomicity\", \"Attenuation\", \"Attractor\", \"Attribute-based encryption\", \"Auction algorithm\", \"Auction theory\", \"Audio codec\", \"Audio signal\", \"Audio signal processing\", \"Augmented reality\", \"Authentication\", \"Authentication protocol\", \"Autocorrelation\", \"Autocorrelation matrix\", \"Autoepistemic logic\", \"Automata theory\", \"Automated reasoning\", \"Automated theorem proving\", \"Automatic control\", \"Automatic image annotation\", \"Automatic programming\", \"Automatic repeat request\", \"Automatic summarization\", \"Automation\", \"Automorphism\", \"Automotive industry\", \"Autonomic computing\", \"Autonomous agent\", \"Autonomous robot\", \"Autonomous system (mathematics)\", \"Autoregressive model\", \"Autoregressive\\u2013moving-average model\", \"Auxiliary memory\", \"Average bitrate\", \"Avionics software\", \"Axiom\", \"B-Method\", \"BCH code\", \"BCJR algorithm\", \"Backbone network\", \"Background debug mode interface\", \"Background noise\", \"Background subtraction\", \"Backporting\", \"Backpropagation\", \"Backtracking\", \"Backup\", \"Balance equation\", \"Banach space\", \"Band-pass filter\", \"Bandwidth (signal processing)\", \"Bandwidth allocation\", \"Bandwidth compression\", \"Base pair\", \"Base station\", \"Baseband\", \"Basis function\", \"Batch processing\", \"Batch production\", \"Bayes classifier\", \"Bayes estimator\", \"Bayes' theorem\", \"Bayesian inference\", \"Bayesian information criterion\", \"Bayesian network\", \"Bayesian probability\", \"Beam search\", \"Beam stack search\", \"Beamforming\", \"Beamforming\", \"Behavior-based robotics\", \"Behavioral pattern\", \"Belief propagation\", \"Belief\\u2013desire\\u2013intention model\", \"Benchmarking\", \"Bent function\", \"Berlekamp\\u2013Massey algorithm\", \"Berlekamp\\u2013Welch algorithm\", \"Bernoulli's inequality\", \"Best practice\", \"Best response\", \"Best-first search\", \"Bhattacharyya distance\", \"Bias of an estimator\", \"Bidding\", \"Big data\", \"Bigram\", \"Bijection\", \"Bilinear interpolation\", \"Bin packing problem\", \"Binary Golay code\", \"Binary code\", \"Binary code\", \"Binary constraint\", \"Binary decision diagram\", \"Binary erasure channel\", \"Binary erasure channel\", \"Binary image\", \"Binary logarithm\", \"Binary number\", \"Binary search algorithm\", \"Binary search tree\", \"Binary symmetric channel\", \"Binary tree\", \"Bioinformatics\", \"Biological data\", \"Biological neural network\", \"Biomarker discovery\", \"Biomedical engineering\", \"Biometrics\", \"Biometrics\", \"Bionics\", \"Bipartite graph\", \"Bisimulation\", \"Bit error rate\", \"Bitmap\", \"Bivariate analysis\", \"Black box (phreaking)\", \"Blind deconvolution\", \"Blind signal separation\", \"Blind signature\", \"Block cellular automaton\", \"Block cipher\", \"Block cipher mode of operation\", \"Block code\", \"Block design\", \"Block size\", \"Blossom algorithm\", \"Bluetooth\", \"Body of knowledge\", \"Boolean algebra\", \"Boolean circuit\", \"Boolean conjunctive query\", \"Boolean data type\", \"Boolean expression\", \"Boolean function\", \"Boolean satisfiability problem\", \"Boomerang attack\", \"Boosting (machine learning)\", \"Boosting (machine learning)\", \"Bootstrapping\", \"Border Gateway Protocol\", \"Bottleneck\", \"Bottleneck traveling salesman problem\", \"Boundary value problem\", \"Bounded function\", \"Bounded set\", \"Bowyer\\u2013Watson algorithm\", \"Braille\", \"Branch and bound\", \"Branch and cut\", \"Branching factor\", \"Bregman divergence\", \"Broadband\", \"Broadcast control channel\", \"Broadcast domain\", \"Broadcast encryption\", \"Broadcast radiation\", \"Broadcasting\", \"Broadcasting (networking)\", \"Brooks\\u2013Iyengar algorithm\", \"Brown clustering\", \"Brownian motion\", \"Building automation\", \"Bulgarian\", \"Bunched logic\", \"Burst error\", \"Burst error-correcting code\", \"Burstiness\", \"Bus sniffing\", \"Business Process Execution Language\", \"Business Process Model and Notation\", \"Business decision mapping\", \"Business domain\", \"Business intelligence\", \"Business logic\", \"Business process\", \"Business process discovery\", \"Business process management\", \"Business process modeling\", \"Business requirements\", \"Business rule\", \"Butterfly graph\", \"Bytecode\", \"B\\u00fcchi automaton\", \"CBC-MAC\", \"CLIPS\", \"CMOS\", \"CONTEST\", \"CPU cache\", \"CPU time\", \"CSS code\", \"CTL*\", \"CUBIC TCP\", \"CURE data clustering algorithm\", \"Cache\", \"Cache\", \"Cache algorithms\", \"Cache coloring\", \"Cache invalidation\", \"Cache pollution\", \"Cache-oblivious algorithm\", \"Cache-only memory architecture\", \"Calculus\", \"Calibration\", \"Call Admission Control\", \"Call blocking\", \"Call site\", \"Camera auto-calibration\", \"Camera resectioning\", \"Canonical Huffman code\", \"Canopy clustering algorithm\", \"Capability Maturity Model\", \"Capability Maturity Model Integration\", \"Capacity planning\", \"Cardiac cycle\", \"Cardiac electrophysiology\", \"Cardiac resynchronization therapy\", \"Cardinal number\", \"Cardinality\", \"Cardiology\", \"Care-of address\", \"Cartesian product\", \"Cascade algorithm\", \"Cascading classifiers\", \"Case-based reasoning\", \"Categorial grammar\", \"Categorical variable\", \"Categorization\", \"Category theory\", \"Cauchy distribution\", \"Cauchy\\u2013Schwarz inequality\", \"Causality\", \"Cellular automaton\", \"Cellular network\", \"Cellular neural network\", \"Central limit theorem\", \"Cepstrum\", \"Certificate\", \"Certificate authority\", \"Certification\", \"Certified Information Security Manager\", \"Chaining\", \"Change data capture\", \"Change detection\", \"Channel allocation schemes\", \"Channel capacity\", \"Channel state information\", \"Channel use\", \"Chapman\\u2013Robbins bound\", \"Characteristic function (probability theory)\", \"Characteristic polynomial\", \"Chebyshev's inequality\", \"Checklist\", \"Chernoff bound\", \"Chien search\", \"Chip\", \"Chordal graph\", \"Choreography\", \"Chosen-ciphertext attack\", \"Chromatic scale\", \"Cipher\", \"Ciphertext\", \"Ciphertext stealing\", \"Circuit complexity\", \"Circuit design\", \"Circulant graph\", \"Circumscription\", \"Class diagram\", \"Classical capacity\", \"Classical logic\", \"Classification of discontinuities\", \"Classification rule\", \"Classifier (linguistics)\", \"Clearing\", \"Client-side encryption\", \"Client\\u2013server model\", \"Clique (graph theory)\", \"Clique graph\", \"Clique-sum\", \"Clique-width\", \"Closeness\", \"Cloud computing\", \"Cloud computing security\", \"Cluster analysis\", \"Clustering coefficient\", \"Clustering high-dimensional data\", \"Clutter\", \"Co-channel interference\", \"Coaching\", \"Codd's theorem\", \"Code (cryptography)\", \"Code division multiple access\", \"Code generation\", \"Code rate\", \"Code refactoring\", \"Code reuse\", \"Codec\", \"Coding (social sciences)\", \"Coding gain\", \"Coding theory\", \"Cognition\", \"Cognitive dimensions of notations\", \"Cognitive models of information retrieval\", \"Cognitive neuroscience of visual object recognition\", \"Cognitive skill\", \"Coherence (physics)\", \"Collaborative engineering\", \"Collaborative filtering\", \"Collaborative learning\", \"Collaborative software\", \"Collaborative virtual environment\", \"Collective intelligence\", \"Collision\", \"Collision attack\", \"Collision detection\", \"Collision resistance\", \"Collusion\", \"Color balance\", \"Color depth\", \"Color histogram\", \"Color image\", \"Color normalization\", \"Color quantization\", \"Colored\", \"Colors of noise\", \"Coloured Petri net\", \"Combinatorial auction\", \"Combinatorial design\", \"Combinatorial game theory\", \"Combinatorial optimization\", \"Combinatorial optimization\", \"Combinatorics\", \"Combinatorics\", \"Combinatorics\", \"Command-line interface\", \"Commercial off-the-shelf\", \"Commit\", \"Commitment scheme\", \"Common Component Architecture\", \"Common Object Request Broker Architecture\", \"Common knowledge\", \"Common law\", \"Common value auction\", \"Commonsense knowledge\", \"Communication\", \"Communication channel\", \"Communication complexity\", \"Communication diagram\", \"Communication in small groups\", \"Communication source\", \"Communication theory\", \"Communications protocol\", \"Communications system\", \"Compact convergence\", \"Compact space\", \"Comparability graph\", \"Compatibility (mechanics)\", \"Compensating transaction\", \"Competitive advantage\", \"Competitive analysis\", \"Compiler\", \"Compiler correctness\", \"Complementary sequences\", \"Complete Boolean algebra\", \"Complete coloring\", \"Complete graph\", \"Complete information\", \"Complex Hadamard matrix\", \"Complex adaptive system\", \"Complex data type\", \"Complex event processing\", \"Complex network\", \"Complex system\", \"Complexity class\", \"Component (UML)\", \"Component analysis\", \"Component-based software engineering\", \"Component-based usability testing\", \"Composability\", \"Composite number\", \"Compound Poisson distribution\", \"Compound Poisson process\", \"Comprehension\", \"Compressed sensing\", \"Compromise\", \"Computability\", \"Computable function\", \"Computation\", \"Computation tree logic\", \"Computational biology\", \"Computational chemistry\", \"Computational complexity theory\", \"Computational epidemiology\", \"Computational gene\", \"Computational genomics\", \"Computational geometry\", \"Computational learning theory\", \"Computational linguistics\", \"Computational logic\", \"Computational model\", \"Computational physics\", \"Computational science\", \"Computational semantics\", \"Computational trust\", \"Computer Aided Design\", \"Computer access control\", \"Computer animation\", \"Computer animation\", \"Computer architecture\", \"Computer cluster\", \"Computer data storage\", \"Computer engineering\", \"Computer experiment\", \"Computer facial animation\", \"Computer graphics\", \"Computer graphics (images)\", \"Computer hardware\", \"Computer network\", \"Computer network\", \"Computer network\", \"Computer network\", \"Computer network\", \"Computer network\", \"Computer network\", \"Computer program\", \"Computer science\", \"Computer science\", \"Computer science\", \"Computer science\", \"Computer science\", \"Computer science\", \"Computer science\", \"Computer science\", \"Computer science\", \"Computer science\", \"Computer science\", \"Computer science\", \"Computer science\", \"Computer science\", \"Computer science\", \"Computer science\", \"Computer science\", \"Computer science\", \"Computer science\", \"Computer science\", \"Computer science\", \"Computer science\", \"Computer science\", \"Computer science\", \"Computer science\", \"Computer science\", \"Computer science\", \"Computer science\", \"Computer science\", \"Computer science\", \"Computer science\", \"Computer science\", \"Computer science\", \"Computer science\", \"Computer science\", \"Computer science\", \"Computer science\", \"Computer science\", \"Computer science\", \"Computer science\", \"Computer science\", \"Computer science\", \"Computer science\", \"Computer science\", \"Computer science\", \"Computer science\", \"Computer science\", \"Computer science\", \"Computer science\", \"Computer science\", \"Computer science\", \"Computer science\", \"Computer science\", \"Computer science\", \"Computer science\", \"Computer science\", \"Computer science\", \"Computer science\", \"Computer science\", \"Computer science\", \"Computer science\", \"Computer science\", \"Computer science\", \"Computer science\", \"Computer science\", \"Computer science\", \"Computer science\", \"Computer science\", \"Computer science\", \"Computer science\", \"Computer science\", \"Computer science\", \"Computer science\", \"Computer science\", \"Computer science\", \"Computer science\", \"Computer science\", \"Computer science\", \"Computer science\", \"Computer science\", \"Computer science\", \"Computer science\", \"Computer science\", \"Computer science\", \"Computer science\", \"Computer science\", \"Computer science\", \"Computer science\", \"Computer science\", \"Computer security\", \"Computer security\", \"Computer security model\", \"Computer stereo vision\", \"Computer vision\", \"Computer-aided\", \"Computer-aided software engineering\", \"Computer-aided software engineering\", \"Computer-supported cooperative work\", \"Computing with Memory\", \"Concatenated error correction code\", \"Concatenation\", \"Concept drift\", \"Concept map\", \"Concept mining\", \"Concept search\", \"Conceptual design\", \"Conceptual framework\", \"Conceptual graph\", \"Conceptual model\", \"Conceptual schema\", \"Conceptualization\", \"Concurrency\", \"Concurrency control\", \"Concurrent constraint logic programming\", \"Concurrent engineering\", \"Conditional entropy\", \"Conditional expectation\", \"Conditional independence\", \"Conditional mutual information\", \"Conditional probability\", \"Conditional probability distribution\", \"Conditional quantum entropy\", \"Cone (formal languages)\", \"Confidentiality\", \"Configuration management\", \"Conflict resolution\", \"Confluence\", \"Conformance testing\", \"Confusion matrix\", \"Conjecture\", \"Conjugate gradient method\", \"Conjunctive normal form\", \"Conjunctive query\", \"Connected component\", \"Connectionism\", \"Connectivity\", \"Consensus\", \"Consistency model\", \"Consistent estimator\", \"Constant bitrate\", \"Constant false alarm rate\", \"Constant-weight code\", \"Constrained Shortest Path First\", \"Constrained clustering\", \"Constrained optimization\", \"Constraint (mathematics)\", \"Constraint graph\", \"Constraint logic programming\", \"Constraint programming\", \"Constraint satisfaction\", \"Constraint satisfaction\", \"Constraint satisfaction\", \"Constraint satisfaction\", \"Constraint satisfaction dual problem\", \"Constraint satisfaction problem\", \"Constraint satisfaction problem\", \"Constructive\", \"Content analysis\", \"Content management\", \"Content negotiation\", \"Content-addressable memory\", \"Content-based image retrieval\", \"Context awareness\", \"Context management\", \"Context model\", \"Context switch\", \"Context-adaptive binary arithmetic coding\", \"Context-aware pervasive systems\", \"Context-free grammar\", \"Context-free language\", \"Context-sensitive grammar\", \"Context-sensitive language\", \"Contextual image classification\", \"Continuous automaton\", \"Continuous knapsack problem\", \"Continuous optimization\", \"Continuous phase modulation\", \"Continuous signal\", \"Continuous-time Markov chain\", \"Continuous-time stochastic process\", \"Contour line\", \"Control engineering\", \"Control flow\", \"Control flow analysis\", \"Control flow graph\", \"Control reconfiguration\", \"Control system\", \"Control theory\", \"Control unit\", \"Convergence (routing)\", \"Conversation\", \"Converse\", \"Convex analysis\", \"Convex combination\", \"Convex function\", \"Convex hull\", \"Convex optimization\", \"Convex polygon\", \"Convex polytope\", \"Convex set\", \"Convexity\", \"Convolution\", \"Convolution of probability distributions\", \"Convolutional code\", \"Cooperative diversity\", \"Cooperative learning\", \"Coordinate system\", \"Coprime integers\", \"Coprocessor\", \"Core network\", \"Corner detection\", \"Correctness\", \"Correlation\", \"Correlation attack\", \"Correlation clustering\", \"Correlation function\", \"Correspondence problem\", \"Coset\", \"Countable set\", \"Counterexample\", \"Countermeasure\", \"Counting points on elliptic curves\", \"Counting process\", \"Covariance\", \"Covariance function\", \"Covariance mapping\", \"Covariance matrix\", \"Covering code\", \"Covert channel\", \"Cram\\u00e9r\\u2013Rao bound\", \"Crash\", \"Critical path method\", \"Critical success factor\", \"Cross entropy\", \"Cross-correlation\", \"Cross-domain interoperability\", \"Crossover\", \"Crowding\", \"Cryptanalysis\", \"Cryptographic hash function\", \"Cryptographic primitive\", \"Cryptographic protocol\", \"Cryptography\", \"Cryptosystem\", \"Crystal structure\", \"Cultural heritage\", \"Cumulant\", \"Cumulant\", \"Curse of dimensionality\", \"Curse of dimensionality\", \"Curvature\", \"Curve fitting\", \"Customer relationship management\", \"Customer retention\", \"Cut\", \"Cycle graph\", \"Cycles per instruction\", \"Cyclic code\", \"Cyclic group\", \"Cyclotomic fast Fourier transform\", \"DARPA Agent Markup Language\", \"DC motor\", \"DFA minimization\", \"DICOM\", \"DNA\", \"DNA computing\", \"DNA microarray\", \"DNA sequencing\", \"DSRFLOW\", \"Daemon\", \"Data Web\", \"Data access\", \"Data acquisition\", \"Data as a service\", \"Data collection\", \"Data compression\", \"Data consistency\", \"Data control language\", \"Data dependency\", \"Data element\", \"Data exchange\", \"Data flow diagram\", \"Data grid\", \"Data integration\", \"Data integrity\", \"Data management\", \"Data mining\", \"Data mining\", \"Data model\", \"Data modeling\", \"Data parallelism\", \"Data point\", \"Data processing\", \"Data reduction\", \"Data redundancy\", \"Data retrieval\", \"Data science\", \"Data set\", \"Data stream\", \"Data stream clustering\", \"Data stream management system\", \"Data stream mining\", \"Data striping\", \"Data structure\", \"Data transmission\", \"Data type\", \"Data visualization\", \"Data warehouse\", \"Database\", \"Database administrator\", \"Database catalog\", \"Database design\", \"Database index\", \"Database model\", \"Database schema\", \"Database schema\", \"Database search engine\", \"Database server\", \"Database testing\", \"Database theory\", \"Database transaction\", \"Database tuning\", \"Database-centric architecture\", \"Datapath\", \"Dataspaces\", \"De Bruijn sequence\", \"Deadlock\", \"Deadlock prevention algorithms\", \"Debugger\", \"Debugging\", \"Decentralised system\", \"Decidability\", \"Decision analysis\", \"Decision boundary\", \"Decision problem\", \"Decision rule\", \"Decision support system\", \"Decision table\", \"Decision theory\", \"Decision tree\", \"Decision tree learning\", \"Decision tree model\", \"Decision-making\", \"Declarative programming\", \"Decoding methods\", \"Decoding methods\", \"Decoding methods\", \"Decoding methods\", \"Decomposition method (constraint satisfaction)\", \"Deconvolution\", \"Decorrelation\", \"Deductive database\", \"Deductive reasoning\", \"Deep learning\", \"Default gateway\", \"Default logic\", \"Defeasible estate\", \"Definite clause grammar\", \"Deformation (mechanics)\", \"Defuzzification\", \"Degeneracy (graph theory)\", \"Degree (graph theory)\", \"Degree distribution\", \"Degrees of freedom (statistics)\", \"Deixis\", \"Delaunay triangulation\", \"Delay-tolerant networking\", \"Delegate\", \"Delegate\", \"Delegation\", \"Demodulation\", \"Denial-of-service attack\", \"Denotational semantics\", \"Dense graph\", \"Density estimation\", \"Deontic logic\", \"Dependability\", \"Dependence analysis\", \"Deployment diagram\", \"Deployment environment\", \"Depth of field\", \"Depth-first search\", \"Derivation\", \"Description logic\", \"Descriptive knowledge\", \"Design knowledge\", \"Design methods\", \"Design pattern\", \"Design process\", \"Design research\", \"Design review\", \"Design strategy\", \"Design studio\", \"Destination-Sequenced Distance Vector routing\", \"Detection theory\", \"Detector\", \"Determining the number of clusters in a data set\", \"Deterministic algorithm\", \"Deterministic automaton\", \"Deterministic context-free grammar\", \"Deterministic context-free language\", \"Deterministic finite automaton\", \"Deterministic finite automaton\", \"Deterministic pushdown automaton\", \"Deterministic system\", \"Deterministic system (philosophy)\", \"Diagram\", \"Diagrammatic reasoning\", \"Dialog box\", \"Dialog box\", \"Differential cryptanalysis\", \"Differential entropy\", \"Differential evolution\", \"Differential geometry\", \"Differentiated service\", \"Differentiated services\", \"Diffusion process\", \"Digital Chart of the World\", \"Digital audio\", \"Digital camera\", \"Digital content\", \"Digital data\", \"Digital electronics\", \"Digital filter\", \"Digital geometry\", \"Digital image\", \"Digital image processing\", \"Digital library\", \"Digital photography\", \"Digital signal\", \"Digital signal processing\", \"Digital signal processor\", \"Digital signature\", \"Digital storytelling\", \"Digital watermarking\", \"Digitization\", \"Dijkstra's algorithm\", \"Dilemma\", \"Dimensionality reduction\", \"Dimensioning\", \"Direct-sequence spread spectrum\", \"Directed acyclic graph\", \"Directed graph\", \"Directional antenna\", \"Directory service\", \"Dirty paper coding\", \"Discontinuity (linguistics)\", \"Discrete Fourier transform\", \"Discrete Fourier transform (general)\", \"Discrete cosine transform\", \"Discrete geometry\", \"Discrete mathematics\", \"Discrete mathematics\", \"Discrete mathematics\", \"Discrete mathematics\", \"Discrete mathematics\", \"Discrete mathematics\", \"Discrete space\", \"Discrete time and continuous time\", \"Discrete wavelet transform\", \"Discrete-time signal\", \"Discretionary access control\", \"Discretization\", \"Discretization of continuous features\", \"Discriminant\", \"Discriminative model\", \"Disjoint sets\", \"Disjoint sets\", \"Dissemination\", \"Distance Vector Multicast Routing Protocol\", \"Distance-hereditary graph\", \"Distance-vector routing protocol\", \"Distortion\", \"Distortion function\", \"Distraction\", \"Distributed Component Object Model\", \"Distributed Computing Environment\", \"Distributed algorithm\", \"Distributed computing\", \"Distributed computing\", \"Distributed computing\", \"Distributed computing\", \"Distributed computing\", \"Distributed computing\", \"Distributed computing\", \"Distributed computing\", \"Distributed computing\", \"Distributed computing\", \"Distributed computing\", \"Distributed computing\", \"Distributed computing\", \"Distributed computing\", \"Distributed computing\", \"Distributed computing\", \"Distributed computing\", \"Distributed computing\", \"Distributed computing\", \"Distributed computing\", \"Distributed computing\", \"Distributed computing\", \"Distributed computing\", \"Distributed computing\", \"Distributed computing\", \"Distributed computing\", \"Distributed computing\", \"Distributed computing\", \"Distributed computing\", \"Distributed computing\", \"Distributed computing\", \"Distributed computing\", \"Distributed computing\", \"Distributed computing\", \"Distributed computing\", \"Distributed computing\", \"Distributed computing\", \"Distributed computing\", \"Distributed computing\", \"Distributed computing\", \"Distributed computing\", \"Distributed computing\", \"Distributed computing\", \"Distributed computing\", \"Distributed computing\", \"Distributed computing\", \"Distributed computing\", \"Distributed computing\", \"Distributed computing\", \"Distributed computing\", \"Distributed computing\", \"Distributed computing\", \"Distributed computing\", \"Distributed computing\", \"Distributed computing\", \"Distributed computing\", \"Distributed computing\", \"Distributed computing\", \"Distributed computing\", \"Distributed computing\", \"Distributed computing\", \"Distributed computing\", \"Distributed computing\", \"Distributed computing\", \"Distributed computing\", \"Distributed computing\", \"Distributed computing\", \"Distributed computing\", \"Distributed computing\", \"Distributed computing\", \"Distributed computing\", \"Distributed computing\", \"Distributed computing\", \"Distributed computing\", \"Distributed computing\", \"Distributed computing\", \"Distributed computing\", \"Distributed computing\", \"Distributed computing\", \"Distributed concurrency control\", \"Distributed database\", \"Distributed design patterns\", \"Distributed hash table\", \"Distributed knowledge\", \"Distributed memory\", \"Distributed minimum spanning tree\", \"Distributed object\", \"Distributed object communication\", \"Distributed shared memory\", \"Distributed source coding\", \"Distributed transaction\", \"Distributed transaction\", \"Distributed web crawling\", \"Distribution function\", \"Distributive property\", \"Dither\", \"Divergence\", \"Diversity coding\", \"Diversity gain\", \"Divide and conquer algorithms\", \"Division algebra\", \"Document Structure Description\", \"Document classification\", \"Document clustering\", \"Document clustering\", \"Document management system\", \"Document processing\", \"Document retrieval\", \"Documentation\", \"Domain analysis\", \"Domain decomposition methods\", \"Domain engineering\", \"Domain knowledge\", \"Domain knowledge\", \"Domain model\", \"Domain theory\", \"Domain-specific language\", \"Dominance drawing\", \"Dominance-based rough set approach\", \"Domination analysis\", \"Double hashing\", \"Dual code\", \"Dual graph\", \"Duality (optimization)\", \"Duration calculus\", \"Dynamic Monte Carlo method\", \"Dynamic Source Routing\", \"Dynamic bandwidth allocation\", \"Dynamic circuit network\", \"Dynamic data\", \"Dynamic load testing\", \"Dynamic logic (digital electronics)\", \"Dynamic logic (modal logic)\", \"Dynamic logic (modal logic)\", \"Dynamic network analysis\", \"Dynamic priority scheduling\", \"Dynamic problem\", \"Dynamic programming\", \"Dynamic time warping\", \"Dynamic web page\", \"Dynamical system\", \"Dynamical systems theory\", \"E-commerce\", \"Earliest deadline first scheduling\", \"Earth system science\", \"Econometrics\", \"Economic geography\", \"Economic model\", \"Economies of agglomeration\", \"Edge cover\", \"Edge detection\", \"Edit distance\", \"Educational program\", \"Educational technology\", \"Effective input noise temperature\", \"Efficiency\", \"Efficient XML Interchange\", \"Efficient energy use\", \"Efficient estimator\", \"Eigenface\", \"Eigenfunction\", \"Eigenvalues and eigenvectors\", \"Elaboration\", \"Elasticity (economics)\", \"Electric power\", \"Electric power industry\", \"Electric utility\", \"Electrical network\", \"Electroencephalography\", \"Electronic business\", \"Electronic circuit\", \"Electronic document\", \"Electronic engineering\", \"Electronic engineering\", \"Electronic engineering\", \"Electronic music\", \"Electronic nose\", \"Electronic system-level design and verification\", \"Element management system\", \"Elliptic boundary value problem\", \"Elliptic curve\", \"Elliptic curve cryptography\", \"Elliptic curve point multiplication\", \"Emacs Lisp\", \"Embarrassingly parallel\", \"Embedded Java\", \"Embedded operating system\", \"Embedded pushdown automaton\", \"Embedded software\", \"Embedded system\", \"Embedding\", \"Embedding problem\", \"Embodied agent\", \"Embodied cognition\", \"Emerging technologies\", \"Emotional expression\", \"Empirical process (process control model)\", \"Empirical research\", \"Empirical risk minimization\", \"Emulation\", \"Encoder\", \"Encoding (memory)\", \"Encryption\", \"Encryption\", \"End user\", \"End-to-end delay\", \"End-to-end principle\", \"End-user computing\", \"Energy (signal processing)\", \"Energy consumption\", \"Enforcement\", \"Engineering\", \"Engineering design process\", \"Engineering physics\", \"English auction\", \"Enterprise architecture\", \"Enterprise information integration\", \"Enterprise information system\", \"Enterprise integration\", \"Enterprise life cycle\", \"Enterprise modelling\", \"Enterprise software\", \"Enterprise system\", \"Entertainment\", \"Entity\\u2013relationship model\", \"Entropy encoding\", \"Entropy in thermodynamics and information theory\", \"Entropy power inequality\", \"Entropy rate\", \"Enumeration\", \"Envelope detector\", \"Epipolar geometry\", \"Epsilon-equilibrium\", \"Equal-cost multi-path routing\", \"Equivalence class\", \"Equivalence relation\", \"Erasure\", \"Erasure code\", \"Ergodic theory\", \"Ergodicity\", \"Erlang (programming language)\", \"Error detection and correction\", \"Esterel\", \"Estimation of covariance matrices\", \"Estimation of distribution algorithm\", \"Estimation theory\", \"Estimator\", \"Euclidean algorithm\", \"Euclidean distance\", \"Euclidean geometry\", \"Euclidean space\", \"Euler diagram\", \"Euler equations\", \"Euler tour technique\", \"European union\", \"Evaluation function\", \"Event structure\", \"Event-related potential\", \"Evidential reasoning approach\", \"Evolution strategy\", \"Evolutionary algorithm\", \"Evolutionary computation\", \"Evolutionary music\", \"Evolutionary programming\", \"Evolutionary robotics\", \"Exact algorithm\", \"Examples of Markov chains\", \"Exception handling\", \"Excitatory postsynaptic potential\", \"Executable\", \"Execution model\", \"Existential quantification\", \"Exon\", \"Expander code\", \"Expander graph\", \"Expectation\\u2013maximization algorithm\", \"Expected value\", \"Experiential learning\", \"Experimental data\", \"Experimental software engineering\", \"Expert system\", \"Exploit\", \"Exponential decay\", \"Exponential distribution\", \"Exponential function\", \"Exponential growth\", \"Exponential stability\", \"Expression (mathematics)\", \"Expression (mathematics)\", \"Extended Kalman filter\", \"Extended enterprise\", \"Extensibility\", \"Extension topology\", \"External Data Representation\", \"Extranet\", \"Extreme Transaction Processing\", \"Extreme programming\", \"Eye movement\", \"FERET database\", \"FIFO (computing and electronics)\", \"FLAME clustering\", \"FSA-Red Algorithm\", \"Facade pattern\", \"Face Recognition Grand Challenge\", \"Face detection\", \"Face hallucination\", \"Facial expression\", \"Facial recognition system\", \"Facility location problem\", \"Factor graph\", \"Factor-critical graph\", \"Factorization\", \"Factorization of polynomials\", \"Fading\", \"Fading\", \"Fading distribution\", \"Failure mode and effects analysis\", \"Failure semantics\", \"Fair queuing\", \"Fair-share scheduling\", \"False alarm\", \"False discovery rate\", \"False positive paradox\", \"Fast Fourier transform\", \"Fast packet switching\", \"Fault coverage\", \"Fault detection and isolation\", \"Fault injection\", \"Fault model\", \"Fault tolerance\", \"Feature (computer vision)\", \"Feature (computer vision)\", \"Feature (machine learning)\", \"Feature detection (computer vision)\", \"Feature extraction\", \"Feature extraction\", \"Feature model\", \"Feature recognition\", \"Feature selection\", \"Feature vector\", \"Feedback vertex set\", \"Feedforward neural network\", \"Fibonacci number\", \"Fibrillation\", \"Field extension\", \"Field-programmable gate array\", \"Field-programmable gate array\", \"Fieldbus\", \"Fifth-generation programming language\", \"File system\", \"File system fragmentation\", \"Filesystem-level encryption\", \"Filter (signal processing)\", \"Filter design\", \"Filtering problem\", \"Financial economics\", \"Fingerprint\", \"Fingerprint Verification Competition\", \"Fingerprint recognition\", \"Finite element method\", \"Finite field\", \"Finite impulse response\", \"Finite set\", \"Finite-state machine\", \"First class\", \"First-generation programming language\", \"First-order logic\", \"Fisher information\", \"Fitness function\", \"Fitness landscape\", \"Fixed point\", \"Fixed wireless\", \"Fixed-priority pre-emptive scheduling\", \"Flash memory\", \"Flat memory model\", \"Floating point\", \"Flow control (data)\", \"Flow network\", \"Flow shop scheduling\", \"Floyd\\u2013Warshall algorithm\", \"Fluhrer, Mantin and Shamir attack\", \"Fluidics\", \"Fold (higher-order function)\", \"Football\", \"Force-directed graph drawing\", \"Formal concept analysis\", \"Formal grammar\", \"Formal language\", \"Formal methods\", \"Formal proof\", \"Formal semantics (linguistics)\", \"Formal specification\", \"Formal system\", \"Formal verification\", \"Formalism (philosophy)\", \"Fortran\", \"Forward algorithm\", \"Forward error correction\", \"Forward secrecy\", \"Fountain code\", \"Fourier analysis\", \"Fourier transform\", \"Fourth-generation programming language\", \"Foveal\", \"Fractal\", \"Fractal analysis\", \"Fractional Brownian motion\", \"Fractional coloring\", \"Frame rate\", \"Frame rate\", \"Free field\", \"Frequency domain\", \"Fringe search\", \"Front and back ends\", \"Full Rate\", \"Full text search\", \"Function approximation\", \"Function field of an algebraic variety\", \"Function field of an algebraic variety\", \"Function space\", \"Functional analysis\", \"Functional compiler\", \"Functional decomposition\", \"Functional logic programming\", \"Functional programming\", \"Functional software architecture\", \"Functional testing\", \"Functional verification\", \"Fundamental theorem of Galois theory\", \"Fuzzy associative matrix\", \"Fuzzy classification\", \"Fuzzy clustering\", \"Fuzzy control system\", \"Fuzzy control system\", \"Fuzzy logic\", \"Fuzzy logic\", \"Fuzzy number\", \"Fuzzy rule\", \"Fuzzy set\", \"Fuzzy set operations\", \"GRASP\", \"GSM\", \"GSP Algorithm\", \"Gabor filter\", \"Gabor transform\", \"Gabor wavelet\", \"Gait\", \"Gait (human)\", \"Gait analysis\", \"Galois group\", \"Game Developer\", \"Game art design\", \"Game design\", \"Game mechanics\", \"Game theory\", \"Garbage\", \"Garbage collection\", \"Gaussian\", \"Gaussian binomial coefficient\", \"Gaussian function\", \"Gaussian noise\", \"Gaussian noise\", \"Gaussian process\", \"Gaussian process\", \"Gaussian random field\", \"Gaze\", \"Gel electrophoresis\", \"Gene\", \"Gene expression\", \"Gene regulatory network\", \"General Packet Radio Service\", \"Generality\", \"Generalization\", \"Generalized relative entropy\", \"Generating function\", \"Generative Design\", \"Generative grammar\", \"Generative model\", \"Generator matrix\", \"Generics in Java\", \"Genetic algorithm\", \"Genetic operator\", \"Genetic program\", \"Genetic programming\", \"Genetic representation\", \"Geodesic\", \"Geographic information system\", \"Geographic routing\", \"Geometric hashing\", \"Geometric modeling\", \"Geometric networks\", \"Geometric transformation\", \"Geometry\", \"Geospatial analysis\", \"German\", \"Gestalt psychology\", \"Gesture\", \"Gesture\", \"Gesture\", \"Gesture recognition\", \"Gilbert\\u2013Varshamov bound\", \"Global Positioning System\", \"Global Positioning System\", \"Global optimization\", \"Globally asynchronous locally synchronous\", \"Goal-Driven Software Development Process\", \"Golomb coding\", \"Gomory\\u2013Hu tree\", \"Goppa code\", \"Gossip\", \"Gossip protocol\", \"Government\", \"Gradient descent\", \"Gradient method\", \"Gradient noise\", \"Grammar\", \"Granular computing\", \"Graph (abstract data type)\", \"Graph bandwidth\", \"Graph bandwidth\", \"Graph coloring\", \"Graph drawing\", \"Graph factorization\", \"Graph isomorphism\", \"Graph operations\", \"Graph partition\", \"Graph power\", \"Graph power\", \"Graph rewriting\", \"Graph theory\", \"Graphical model\", \"Graphical user interface\", \"Graphical user interface\", \"Graphics\", \"Graphics hardware\", \"Gray code\", \"Grayscale\", \"Greatest common divisor\", \"Greedy algorithm\", \"Greedy coloring\", \"Greedy randomized adaptive search procedure\", \"Grid\", \"Grid computing\", \"Grid file\", \"Grid network\", \"Ground truth\", \"Group code\", \"Group decision-making\", \"Group key\", \"Group method of data handling\", \"Group of pictures\", \"Group testing\", \"Group theory\", \"Guideline\", \"H-TCP\", \"H.248\", \"HOL\", \"HTML\", \"Haar wavelet\", \"Hacker\", \"Hadamard transform\", \"Hamiltonian (quantum mechanics)\", \"Hamiltonian path\", \"Hamming bound\", \"Hamming code\", \"Hamming code\", \"Hamming distance\", \"Hamming distance\", \"Hamming graph\", \"Hamming weight\", \"Hamming weight\", \"Hamming(7,4)\", \"Hand geometry\", \"Handover\", \"Handwriting\", \"Handwriting recognition\", \"Haptic technology\", \"Hardware acceleration\", \"Hardware architecture\", \"Hardware description language\", \"Hash buster\", \"Hash chain\", \"Hash function\", \"Hash table\", \"Haskell\", \"Hazardous waste\", \"Header\", \"Health care\", \"Health informatics\", \"Heap (data structure)\", \"Heart failure\", \"Hebbian theory\", \"Hermitian matrix\", \"Heterogeneous network\", \"Heterogeneous network\", \"Heuristic\", \"Heuristic (computer science)\", \"Heuristics\", \"Hidden Markov model\", \"Hidden semi-Markov model\", \"Hierarchical clustering\", \"Hierarchical control system\", \"Hierarchical routing\", \"Hierarchical task network\", \"Hierarchy\", \"High-level design\", \"High-level programming language\", \"High-level verification\", \"Higher-order differential cryptanalysis\", \"Higher-order differential cryptanalysis\", \"Higher-order logic\", \"Higher-order statistics\", \"Hilbert space\", \"Hill climbing\", \"HiperLAN\", \"Histogram\", \"Histogram equalization\", \"Homomorphic encryption\", \"Homomorphic secret sharing\", \"Homomorphism\", \"Homotopy\", \"Honour\", \"Hop (networking)\", \"Hopcroft\\u2013Karp algorithm\", \"Horizontal and vertical\", \"Horn clause\", \"Host-based intrusion detection system\", \"Hough transform\", \"Huffman coding\", \"Human communication\", \"Human error\", \"Human visual system model\", \"Humanoid robot\", \"Human\\u2013computer information retrieval\", \"Human\\u2013computer interaction\", \"Human\\u2013computer interaction\", \"Hybrid Monte Carlo\", \"Hybrid algorithm\", \"Hybrid algorithm (constraint satisfaction)\", \"Hybrid automatic repeat request\", \"Hybrid automaton\", \"Hybrid system\", \"Hyper-heuristic\", \"Hypercube\", \"Hypercube graph\", \"Hyperelliptic curve\", \"Hypergraph\", \"Hyperlink\", \"Hypermedia\", \"Hyperplane\", \"Hypertext\", \"ID-based cryptography\", \"IDEF5\", \"IEEE 802.11\", \"IEEE 802.11b-1999\", \"IEEE 802.11e-2005\", \"IEEE 802.11s\", \"IP Multimedia Subsystem\", \"IP address management\", \"IP multicast\", \"IP traceback\", \"IP tunnel\", \"IPsec\", \"IPv6\", \"IPv6 address\", \"ITIL security management\", \"Identifiability\", \"Identifier\", \"Identity management\", \"Image compression\", \"Image formation\", \"Image map\", \"Image processing\", \"Image processing\", \"Image quality\", \"Image registration\", \"Image resolution\", \"Image restoration\", \"Image restoration\", \"Image retrieval\", \"Image scaling\", \"Image segmentation\", \"Image sensor\", \"Image texture\", \"Image warping\", \"Imitation\", \"Immersion (virtual reality)\", \"Imperative programming\", \"Implementation\", \"Implicit graph\", \"Importance sampling\", \"Impulse response\", \"In-place algorithm\", \"Incentive\", \"Incremental decision tree\", \"Incremental heuristic search\", \"Independence (probability theory)\", \"Independent and identically distributed random variables\", \"Independent component analysis\", \"Index locking\", \"Index set\", \"Indexation\", \"Indifference graph\", \"Inductive effect\", \"Inductive logic programming\", \"Inductive programming\", \"Inductive reasoning\", \"Inequality\", \"Inertial measurement unit\", \"Inference\", \"Inference engine\", \"InfiniBand\", \"Infinite impulse response\", \"Infinite set\", \"Information Dissemination\", \"Information access\", \"Information and Communications Technology\", \"Information and Computer Science\", \"Information diagram\", \"Information extraction\", \"Information filtering system\", \"Information geometry\", \"Information good\", \"Information hiding\", \"Information integration\", \"Information leakage\", \"Information management\", \"Information needs\", \"Information overload\", \"Information privacy\", \"Information processing\", \"Information protection policy\", \"Information retrieval\", \"Information science\", \"Information security\", \"Information security management\", \"Information security standards\", \"Information sensitivity\", \"Information society\", \"Information space\", \"Information system\", \"Information technology\", \"Information technology management\", \"Information theory\", \"Information theory and measure theory\", \"Information visualization\", \"Infrared\", \"Inhibitory postsynaptic potential\", \"Initial value problem\", \"Initialization\", \"Input device\", \"Input/output\", \"Instability\", \"Instance-based learning\", \"Instruction prefetch\", \"Integer\", \"Integer lattice\", \"Integer programming\", \"Integrable system\", \"Integrated design\", \"Integrated services\", \"Integration platform\", \"Integration testing\", \"Intelligent Network\", \"Intelligent agent\", \"Intelligent character recognition\", \"Intelligent computer network\", \"Intelligent database\", \"Intelligent decision support system\", \"Intelligent sensor\", \"Intelligent transportation system\", \"Intelligent tutoring system\", \"Intelligent verification\", \"Intelligibility (communication)\", \"Inter-Access Point Protocol\", \"Inter-domain\", \"Inter-process communication\", \"Interaction design\", \"Interaction information\", \"Interaction protocol\", \"Interaction technique\", \"Interactive evolutionary computation\", \"Interactive television\", \"Interactive visualization\", \"Interactivity\", \"Interconnection\", \"Interface description language\", \"Interference (wave propagation)\", \"Interleaved memory\", \"Intermediate logic\", \"Internet Group Management Protocol\", \"Internet Protocol\", \"Internet access\", \"Internet privacy\", \"Internet traffic\", \"Internet traffic engineering\", \"Interoperability\", \"Interoperable Object Reference\", \"Interoperation\", \"Interpolation\", \"Interpreter\", \"Intersection graph\", \"Intersymbol interference\", \"Interval arithmetic\", \"Interval graph\", \"Interval temporal logic\", \"Interval tree\", \"Intranet\", \"Intron\", \"Intrusion detection system\", \"Intuitionistic type theory\", \"Invariant (mathematics)\", \"Invariant (mathematics)\", \"Invariant (physics)\", \"Inverse\", \"Inverse problem\", \"Invertible matrix\", \"Iris recognition\", \"Isolation (database systems)\", \"Isomorphism\", \"Iterated local search\", \"Iterative Viterbi decoding\", \"Iterative and incremental development\", \"Iterative deepening depth-first search\", \"Iterative learning control\", \"Iterative method\", \"Iterative reconstruction\", \"JPEG\", \"JPEG 2000\", \"Java\", \"Java Card\", \"Java Modeling Language\", \"Java annotation\", \"Java bytecode\", \"Java concurrency\", \"JavaScript\", \"Jensen\\u2013Shannon divergence\", \"Jitter\", \"Job scheduler\", \"Job shop\", \"Job shop scheduling\", \"Johnson bound\", \"Joint entropy\", \"Joint probability distribution\", \"Joint quantum entropy\", \"Joint quantum entropy\", \"K shortest path routing\", \"K-SVD\", \"K-ary tree\", \"KAOS\", \"Kalman filter\", \"Kernel (linear algebra)\", \"Kernel (statistics)\", \"Kernel Fisher discriminant analysis\", \"Kernel adaptive filter\", \"Kernel embedding of distributions\", \"Kernel method\", \"Kernel principal component analysis\", \"Key (cryptography)\", \"Key (lock)\", \"Key distribution\", \"Key distribution in wireless sensor networks\", \"Key generation\", \"Key management\", \"Key size\", \"Key-based routing\", \"Keying\", \"Keystream\", \"Keyword extraction\", \"Keyword-driven testing\", \"Kinematics\", \"Kleene algebra\", \"Knapsack problem\", \"Knowledge acquisition\", \"Knowledge base\", \"Knowledge engineering\", \"Knowledge extraction\", \"Knowledge integration\", \"Knowledge management\", \"Knowledge representation and reasoning\", \"Knowledge sharing\", \"Knowledge-based systems\", \"Kolmogorov complexity\", \"Kolmogorov structure function\", \"Kraft's inequality\", \"Krein\\u2013Milman theorem\", \"Kripke structure\", \"Kronecker product\", \"Kruskal's algorithm\", \"Kullback\\u2013Leibler divergence\", \"L-attributed grammar\", \"L-reduction\", \"LTI system theory\", \"Labelling\", \"Lagrange multiplier\", \"Lambda calculus\", \"Language Of Temporal Ordering Specification\", \"Language model\", \"Laplace operator\", \"Laplace transform\", \"Large deviations theory\", \"Large margin nearest neighbor\", \"Large numbers\", \"Lasso (statistics)\", \"Latency (engineering)\", \"Lattice (order)\", \"Lattice Miner\", \"Lattice problem\", \"Lattice reduction\", \"Layered queueing network\", \"Leabra\", \"Leader election\", \"Leaky bucket\", \"LeanCMMI\", \"Learnability\", \"Learning classifier system\", \"Learning environment\", \"Learning theory\", \"Learning vector quantization\", \"Least mean squares filter\", \"Least significant bit\", \"Least squares\", \"Least squares support vector machine\", \"Leech lattice\", \"Legacy system\", \"Legal expert system\", \"Legendre polynomials\", \"Legislation\", \"Level of detail\", \"Level of service\", \"Level structure\", \"Lexical analysis\", \"Lexical item\", \"Lexico\", \"Lexicographical order\", \"Lexicon\", \"Lightweight Directory Access Protocol\", \"Lightweight Extensible Authentication Protocol\", \"Likelihood function\", \"Likelihood-ratio test\", \"Limiting factor\", \"Linde\\u2013Buzo\\u2013Gray algorithm\", \"Line graph\", \"Linear algebra\", \"Linear classifier\", \"Linear code\", \"Linear combination\", \"Linear cryptanalysis\", \"Linear cryptanalysis\", \"Linear differential equation\", \"Linear discriminant analysis\", \"Linear equation\", \"Linear filter\", \"Linear genetic programming\", \"Linear logic\", \"Linear model\", \"Linear network coding\", \"Linear prediction\", \"Linear programming\", \"Linear programming\", \"Linear regression\", \"Linear scale\", \"Linear space\", \"Linear subspace\", \"Linear system\", \"Linear temporal logic\", \"Linearization\", \"Link adaptation\", \"Link state packet\", \"Link-state routing protocol\", \"Linked data\", \"Linked data\", \"Lisp\", \"List decoding\", \"Liveness\", \"Load balancing (computing)\", \"Local area network\", \"Local binary patterns\", \"Local consistency\", \"Local search (optimization)\", \"Locality\", \"Locality of reference\", \"Locally decodable code\", \"Location awareness\", \"Location transparency\", \"Location-based service\", \"Log sum inequality\", \"Log-log plot\", \"Logarithm\", \"Logic Control\", \"Logic block\", \"Logic gate\", \"Logic model\", \"Logic programming\", \"Logic simulation\", \"Logic synthesis\", \"Logical consequence\", \"Logical data model\", \"Logical form\", \"Logical framework\", \"Logical topology\", \"Logistic regression\", \"Longest common subsequence problem\", \"Longest path problem\", \"Lookup table\", \"Loop fusion\", \"Loose Source Routing\", \"Loose coupling\", \"Lossless compression\", \"Lossy compression\", \"Lossy compression\", \"Lottery scheduling\", \"Low-density parity-check code\", \"Low-rank approximation\", \"Luby transform code\", \"Luminance\", \"Lyapunov function\", \"M.2\", \"M/G/1 queue\", \"MATLAB\", \"MAXEkSAT\", \"MIDI\", \"MIMO\", \"MPEG-4\", \"MPICH\", \"Machine code\", \"Machine learning\", \"Machine learning\", \"Machine learning\", \"Machine learning\", \"Machine learning\", \"Machine learning\", \"Machine learning\", \"Machine learning\", \"Machine learning\", \"Machine learning\", \"Machine learning\", \"Machine learning\", \"Machine learning\", \"Machine learning\", \"Machine learning\", \"Machine learning\", \"Machine learning\", \"Machine learning\", \"Machine learning\", \"Machine learning\", \"Machine learning\", \"Machine learning\", \"Machine learning\", \"Machine learning\", \"Machine learning\", \"Machine learning\", \"Machine learning\", \"Machine learning\", \"Machine learning\", \"Machine learning\", \"Machine vision\", \"Machining\", \"Macrocell array\", \"Magnetic resonance imaging\", \"Magnitude (mathematics)\", \"Maintainability\", \"Malleability\", \"Malware\", \"Management information systems\", \"Management science\", \"Management system\", \"Manifold\", \"Manual testing\", \"Manufacturing\", \"Many-valued logic\", \"Marketing\", \"Markov chain\", \"Markov chain\", \"Markov chain Monte Carlo\", \"Markov chain mixing time\", \"Markov decision process\", \"Markov kernel\", \"Markov model\", \"Markov model\", \"Markov process\", \"Markov property\", \"Markov random field\", \"Markov renewal process\", \"Markov's inequality\", \"Markup language\", \"Martingale (probability theory)\", \"Mashup\", \"Masking (art)\", \"Massively parallel\", \"Match moving\", \"Matched filter\", \"Matching (graph theory)\", \"Matching pursuit\", \"Materialized view\", \"MathML\", \"Mathematical analysis\", \"Mathematical analysis\", \"Mathematical economics\", \"Mathematical knowledge management\", \"Mathematical logic\", \"Mathematical morphology\", \"Mathematical optimization\", \"Mathematical proof\", \"Mathematics\", \"Mathematics\", \"Matrix (mathematics)\", \"Matrix analysis\", \"Matrix calculus\", \"Matrix completion\", \"Matrix decomposition\", \"Matrix multiplication\", \"Matrix norm\", \"Matrix polynomial\", \"Matroid\", \"Mat\\u00e9rn covariance function\", \"Maximal independent set\", \"Maximum a posteriori estimation\", \"Maximum entropy probability distribution\", \"Maximum entropy spectral estimation\", \"Maximum entropy thermodynamics\", \"Maximum flow problem\", \"Maximum likelihood sequence estimation\", \"Maximum satisfiability problem\", \"Maximum throughput scheduling\", \"Maximum-entropy Markov model\", \"McEliece cryptosystem\", \"Mean curvature\", \"Mean curvature flow\", \"Mean squared error\", \"Mean-shift\", \"Measure (mathematics)\", \"Media access control\", \"Median filter\", \"Medical imaging\", \"Mellin transform\", \"Membership function\", \"Membrane computing\", \"Memetic algorithm\", \"Memorization\", \"Memory footprint\", \"Memory hierarchy\", \"Memory management\", \"Memory map\", \"Memory model\", \"Merkle signature scheme\", \"Mesh generation\", \"Message Passing Interface\", \"Message authentication code\", \"Message passing\", \"Message sequence chart\", \"Message switching\", \"Meta Data Services\", \"Metadata\", \"Metadata repository\", \"Metaheuristic\", \"Metamodeling\", \"Metaphor\", \"Metaprogramming\", \"Metaverse\", \"Method\", \"Method of moments (statistics)\", \"Metric (mathematics)\", \"Metric space\", \"Microarray\", \"Microarray analysis techniques\", \"Microeconomics\", \"Microeconomics\", \"Microeconomics\", \"Middleware\", \"Military service\", \"Min entropy\", \"Minification\", \"Minimax\", \"Minimax approximation algorithm\", \"Minimum mean square error\", \"Minimum spanning tree\", \"Minimum-variance unbiased estimator\", \"Minutiae\", \"Missing data\", \"Misuse case\", \"Misuse detection\", \"Mixed reality\", \"Mixture model\", \"Mobile IP\", \"Mobile QoS\", \"Mobile Web\", \"Mobile ad hoc network\", \"Mobile agent\", \"Mobile architecture\", \"Mobile broadband\", \"Mobile business development\", \"Mobile computing\", \"Mobile computing\", \"Mobile computing\", \"Mobile database\", \"Mobile device\", \"Mobile identification number\", \"Mobile interaction\", \"Mobile phone\", \"Mobile robot\", \"Mobile robot navigation\", \"Mobile search\", \"Mobile station\", \"Mobile technology\", \"Mobile telephony\", \"Mobile wireless sensor network\", \"Mobility management\", \"Mobility model\", \"Modal logic\", \"Modal logic\", \"Modal \\u03bc-calculus\", \"Modalities\", \"Model checking\", \"Model of computation\", \"Model selection\", \"Model transformation\", \"Model-based design\", \"Model-based reasoning\", \"Model-based testing\", \"Model-driven architecture\", \"Modeling and simulation\", \"Modeling language\", \"Modified Huffman coding\", \"Modular decomposition\", \"Modular design\", \"Modular exponentiation\", \"Modular programming\", \"Modulation\", \"Modulo\", \"Modulus\", \"Moment-generating function\", \"Monad (functional programming)\", \"Monadic predicate calculus\", \"Monoid\", \"Monoidal functor\", \"Monoidal t-norm logic\", \"Monomial\", \"Monotone polygon\", \"Monotonic function\", \"Monte Carlo localization\", \"Monte Carlo method\", \"Monte Carlo method in statistical physics\", \"Monte Carlo molecular modeling\", \"Moral graph\", \"Motion analysis\", \"Motion capture\", \"Motion compensation\", \"Motion control\", \"Motion detection\", \"Motion estimation\", \"Motion field\", \"Motion interpolation\", \"Motion planning\", \"Motion vector\", \"Motor learning\", \"MovieLens\", \"Multi-agent system\", \"Multi-objective optimization\", \"Multi-swarm optimization\", \"Multi-task learning\", \"Multi-user MIMO\", \"Multicast\", \"Multicast address\", \"Multidimensional Chebyshev's inequality\", \"Multidimensional analysis\", \"Multidimensional parity-check code\", \"Multidimensional scaling\", \"Multidimensional signal processing\", \"Multidisciplinary approach\", \"Multifractal system\", \"Multigraph\", \"Multigrid method\", \"Multilayer perceptron\", \"Multilingualism\", \"Multimedia\", \"Multimedia Broadcast Multicast Service\", \"Multimedia database\", \"Multimedia framework\", \"Multimodal interaction\", \"Multimodal logic\", \"Multipath propagation\", \"Multipath routing\", \"Multiple Access with Collision Avoidance for Wireless\", \"Multiple description coding\", \"Multiple discriminant analysis\", \"Multiple edges\", \"Multiple encryption\", \"Multiple sequence alignment\", \"Multiplexer\", \"Multiplexing\", \"Multiplication\", \"Multiplicative function\", \"Multiprocessing\", \"Multiprocessor scheduling\", \"Multiprotocol Label Switching\", \"Multiresolution analysis\", \"Multiset\", \"Multitier architecture\", \"Multiuser detection\", \"Multivariable calculus\", \"Multivariate analysis\", \"Multivariate interpolation\", \"Multivariate kernel density estimation\", \"Multivariate mutual information\", \"Multivariate random variable\", \"Multivariate statistics\", \"Multiversion concurrency control\", \"Music theory\", \"Musical acoustics\", \"Musicality\", \"Mutation\", \"Mutual coherence\", \"Mutual information\", \"Myrinet\", \"NIST\", \"NP\", \"Naive Bayes classifier\", \"Narrative\", \"Nash equilibrium\", \"Natural language\", \"Natural language processing\", \"Natural language user interface\", \"Natural number\", \"Navigation system\", \"Navigational aid\", \"Nearest neighbor graph\", \"Nearest neighbor search\", \"Nearest-neighbor interpolation\", \"Negation\", \"Negotiation\", \"Neighbourhood (graph theory)\", \"Neighbourhood (mathematics)\", \"Neocognitron\", \"Nervous system network models\", \"Nested stack automaton\", \"Nested transaction\", \"Nested word\", \"Nested word\", \"Network Access Control\", \"Network allocation vector\", \"Network analysis\", \"Network architecture\", \"Network congestion\", \"Network delay\", \"Network dynamics\", \"Network element\", \"Network element\", \"Network interface\", \"Network management\", \"Network management application\", \"Network management station\", \"Network model\", \"Network monitoring\", \"Network packet\", \"Network performance\", \"Network planning and design\", \"Network processor\", \"Network security\", \"Network security policy\", \"Network service\", \"Network simulation\", \"Network topology\", \"Network traffic control\", \"Networking hardware\", \"Neural coding\", \"Neural gas\", \"Neuro-fuzzy\", \"Neuroevolution\", \"Neuron\", \"Neuroprosthetics\", \"Neuroscience\", \"New Interfaces for Musical Expression\", \"New business development\", \"New product development\", \"Newton's method\", \"Next-generation network\", \"No-communication theorem\", \"Node (networking)\", \"Noise (electronics)\", \"Noise floor\", \"Noise measurement\", \"Noise reduction\", \"Noise spectral density\", \"Noise temperature\", \"Non-cooperative game\", \"Non-functional requirement\", \"Non-functional testing\", \"Non-monotonic logic\", \"Non-negative matrix factorization\", \"Non-regression testing\", \"Non-uniform discrete Fourier transform\", \"Non-uniform memory access\", \"Nondeterministic algorithm\", \"Nondeterministic finite automaton\", \"Nondeterministic finite automaton\", \"Nonlinear control\", \"Nonlinear filter\", \"Nonlinear programming\", \"Nonlinear system\", \"Nonparametric statistics\", \"Nonuniform sampling\", \"Nonverbal communication\", \"Norm (social)\", \"Normal basis\", \"Normal distribution\", \"Normal modal logic\", \"Normalization (statistics)\", \"Notation\", \"Noun\", \"Noun phrase\", \"Novelty\", \"Number theory\", \"Numerical analysis\", \"Numerical linear algebra\", \"Numerical stability\", \"Nuprl\", \"Nyquist rate\", \"Nyquist\\u2013Shannon sampling theorem\", \"OWL-S\", \"Object Constraint Language\", \"Object Query Language\", \"Object detection\", \"Object model\", \"Object request broker\", \"Object-based spatial database\", \"Object-class detection\", \"Object-oriented analysis and design\", \"Object-oriented design\", \"Object-oriented programming\", \"Obligation\", \"Oblivious transfer\", \"Observability\", \"Observable\", \"Obstacle\", \"Occultation\", \"Occupational safety and health\", \"Odd graph\", \"Omnidirectional antenna\", \"Omnidirectional camera\", \"On-the-fly encryption\", \"One half\", \"One-class classification\", \"Online algorithm\", \"Online analytical processing\", \"Online codes\", \"Online machine learning\", \"Online transaction processing\", \"Ontology\", \"Ontology (information science)\", \"Ontology alignment\", \"Ontology components\", \"Ontology language\", \"Ontology-based data integration\", \"Open Archives Initiative\", \"Open Biomedical Ontologies\", \"Open Knowledge Base Connectivity\", \"Open architecture\", \"Open platform\", \"Open problem\", \"Open system (systems theory)\", \"Operating system\", \"Operational semantics\", \"Operations management\", \"Operations research\", \"Operator (computer programming)\", \"Optical Transport Network\", \"Optical burst switching\", \"Optical character recognition\", \"Optical flow\", \"Optical switch\", \"Optimal control\", \"Optimal discriminant analysis\", \"Optimal estimation\", \"Optimistic concurrency control\", \"Optimization problem\", \"Optimized Link State Routing Protocol\", \"Optimizing compiler\", \"Oracle\", \"Orchestration (computing)\", \"Order statistic\", \"Ordinal number\", \"Ordinary differential equation\", \"Organizational learning\", \"Orthogonal frequency-division multiplexing\", \"Orthogonality\", \"Orthogonalization\", \"Orthonormal basis\", \"Oscillation\", \"Out-of-order delivery\", \"Outbreak\", \"Outer automorphism group\", \"Outlier\", \"Output-sensitive algorithm\", \"Overhead (business)\", \"Overhead (computing)\", \"Overlay\", \"Overlay network\", \"Oversampling\", \"P system\", \"P versus NP problem\", \"PEPA\", \"PKCS #11\", \"PKCS #12\", \"PSPACE\", \"Package development process\", \"Packet erasure channel\", \"Packet forwarding\", \"Packet loss\", \"Packet switching\", \"Page cache\", \"Paging\", \"Painting\", \"Pair programming\", \"Pairing-based cryptography\", \"Pairwise comparison\", \"Pairwise error probability\", \"Pancyclic graph\", \"Paraconsistent logic\", \"Parallel I/O\", \"Parallel algorithm\", \"Parallel computing\", \"Parallel metaheuristic\", \"Parameter space\", \"Parameterized complexity\", \"Parametric statistics\", \"Pareto principle\", \"Parity bit\", \"Parity function\", \"Parity-check matrix\", \"Parse tree\", \"Parser combinator\", \"Parsing\", \"Parsing expression grammar\", \"Partial correlation\", \"Partial differential equation\", \"Partial evaluation\", \"Partial k-tree\", \"Partial order reduction\", \"Partially ordered set\", \"Participatory design\", \"Particle filter\", \"Particle swarm optimization\", \"Partition (number theory)\", \"Password\", \"Password policy\", \"Pastry\", \"Path (graph theory)\", \"Path expression\", \"Pathwidth\", \"Pattern matching\", \"Pattern recognition\", \"Pattern search\", \"Patterns of evolution\", \"Payment\", \"Peer-to-peer\", \"Peer-to-peer\", \"Penalty method\", \"Pentium\", \"Perception\", \"Perceptron\", \"Perfect information\", \"Performance engineering\", \"Performance measurement\", \"Performance metric\", \"Performance prediction\", \"Performance tuning\", \"Performative utterance\", \"Periodic function\", \"Periodic graph (geometry)\", \"Permutation\", \"Persistence (computer science)\", \"Personal information manager\", \"Personal knowledge management\", \"Personal mobility\", \"Personal software process\", \"Personality\", \"Personality test\", \"Personalization\", \"Personally identifiable information\", \"Petri net\", \"Phase correlation\", \"Phase detector\", \"Phase modulation\", \"Phase-shift keying\", \"Phenomenon\", \"Philosophy of logic\", \"Phone\", \"Phonetics\", \"Photography\", \"Photometric stereo\", \"Photometric stereo\", \"Phrase\", \"Phrase structure grammar\", \"Phylogenetic tree\", \"Phylogenetics\", \"Physical access\", \"Physical medicine and rehabilitation\", \"Physical security\", \"Physical system\", \"Piconet\", \"Piecewise\", \"Piecewise linear function\", \"Piling-up lemma\", \"Pipeline (computing)\", \"Pixel\", \"Plain text\", \"Plaintext\", \"Plaintext-aware encryption\", \"Planar\", \"Planar graph\", \"Planner\", \"Plotkin bound\", \"Plug-in\", \"Point distribution model\", \"Pointer (computer programming)\", \"Pointwise\", \"Pointwise mutual information\", \"Poisson distribution\", \"Poisson point process\", \"Poisson regression\", \"Policy-based management\", \"Policy-based routing\", \"Polling\", \"Polygon\", \"Polygon covering\", \"Polyhedron\", \"Polynomial\", \"Polynomial code\", \"Polynomial hierarchy\", \"Polynomial interpolation\", \"Polynomial kernel\", \"Polynomial-time approximation scheme\", \"Polyomino\", \"Polyphase system\", \"Polytope\", \"Pop music automation\", \"Popular music\", \"Popularity\", \"Population\", \"Porting\", \"Pose\", \"Position paper\", \"Posterior probability\", \"Power analysis\", \"Power control\", \"Power factor\", \"Powerset construction\", \"Pragmatic General Multicast\", \"Pre-play attack\", \"Precision and recall\", \"Precoding\", \"Predicate (grammar)\", \"Predicate abstraction\", \"Predicate functor logic\", \"Preemption\", \"Prefix\", \"Prefix code\", \"Preprocessor\", \"Presburger arithmetic\", \"Presentation layer\", \"Price of anarchy\", \"Primary research\", \"Prime (order theory)\", \"Principal component analysis\", \"Principle of compositionality\", \"Principle of maximum entropy\", \"Prior probability\", \"Privacy by Design\", \"Privacy policy\", \"Privacy software\", \"Private information retrieval\", \"Private network\", \"Probabilistic CTL\", \"Probabilistic analysis of algorithms\", \"Probabilistic analysis of algorithms\", \"Probabilistic argumentation\", \"Probabilistic automaton\", \"Probabilistic encryption\", \"Probabilistic logic\", \"Probability density function\", \"Probability distribution\", \"Probability mass function\", \"Probability measure\", \"Probability theory\", \"Problem domain\", \"Procedural knowledge\", \"Procedural programming\", \"Process architecture\", \"Process automation system\", \"Process calculus\", \"Process capability index\", \"Process control\", \"Process management\", \"Process management\", \"Process mining\", \"Process modeling\", \"Process ontology\", \"Process patterns\", \"Processing delay\", \"Procurement\", \"Product lifecycle\", \"Product term\", \"Production planning\", \"Profiling (computer programming)\", \"Profitability index\", \"Program analysis\", \"Program derivation\", \"Program optimization\", \"Program transformation\", \"Programmable logic controller\", \"Programmable logic device\", \"Programmer\", \"Programming domain\", \"Programming language\", \"Programming language\", \"Programming language\", \"Programming language theory\", \"Programming paradigm\", \"Programming paradigm\", \"Project management\", \"Project manager\", \"Project planning\", \"Projective space\", \"Prolog\", \"Promela\", \"Proof assistant\", \"Proof calculus\", \"Proof complexity\", \"Proof of concept\", \"Proof theory\", \"Proof-theoretic semantics\", \"Propositional calculus\", \"Prosody\", \"Protection mechanism\", \"Protocol Independent Multicast\", \"Protocol stack\", \"Provable security\", \"Provisioning\", \"Pseudorandom binary sequence\", \"Pseudorandom generator\", \"Pseudorandom number generator\", \"Psychological intervention\", \"Psychological resilience\", \"Psychometrics\", \"Public health\", \"Public key certificate\", \"Public key infrastructure\", \"Public-key cryptography\", \"Publication\", \"Publishing\", \"Pulse (signal processing)\", \"Pulse-width modulation\", \"Pure mathematics\", \"Pyramid (image processing)\", \"Python (programming language)\", \"Quadratic classifier\", \"Quadratic equation\", \"Quadratic form\", \"Quadratic function\", \"Quadratic residue\", \"Quadratic residue code\", \"Quadrature amplitude modulation\", \"Quadrature modulation\", \"Quadtree\", \"Qualitative reasoning\", \"Quality assurance\", \"Quality management\", \"Quality of service\", \"Quantile\", \"Quantization (image processing)\", \"Quantization (physics)\", \"Quantization (signal processing)\", \"Quantization (signal processing)\", \"Quantum\", \"Quantum algorithm\", \"Quantum capacity\", \"Quantum capacity\", \"Quantum channel\", \"Quantum computer\", \"Quantum convolutional code\", \"Quantum cryptography\", \"Quantum entanglement\", \"Quantum error correction\", \"Quantum finite automata\", \"Quantum gate\", \"Quantum information\", \"Quantum information\", \"Quantum information science\", \"Quantum network\", \"Quantum no-deleting theorem\", \"Quantum noise\", \"Quantum operation\", \"Quantum phase estimation algorithm\", \"Quantum relative entropy\", \"Quantum state\", \"Quartic graph\", \"Quasi-Monte Carlo method\", \"Qubit\", \"Query by Example\", \"Query expansion\", \"Query language\", \"Query optimization\", \"Query plan\", \"Question answering\", \"Queue\", \"Queue management system\", \"Queueing theory\", \"Queuing delay\", \"Quotient\", \"R-tree\", \"RDF\", \"RDF Schema\", \"RDF query language\", \"RDF query language\", \"RDF/XML\", \"RELAX NG\", \"RGB color model\", \"RIPEMD\", \"RNA splicing\", \"Radar\", \"Radar imaging\", \"Radar tracker\", \"Radial basis function kernel\", \"Radial basis function network\", \"Radio access network\", \"Radio resource management\", \"Radiography\", \"Radiosity (computer graphics)\", \"Random access\", \"Random binary tree\", \"Random early detection\", \"Random element\", \"Random field\", \"Random field\", \"Random function\", \"Random geometric graph\", \"Random graph\", \"Random matrix\", \"Random oracle\", \"Random regular graph\", \"Random subspace method\", \"Random variable\", \"Random walk\", \"Randomization\", \"Randomized Hough transform\", \"Randomized algorithm\", \"Randomized rounding\", \"Randomness\", \"Randomness tests\", \"Range encoding\", \"Range query (data structures)\", \"Range query (database)\", \"Ranging\", \"Rank (linear algebra)\", \"Ranking\", \"Ranking (information retrieval)\", \"Rapid prototyping\", \"Rapid prototyping\", \"Raptor code\", \"Raster graphics\", \"Rate of convergence\", \"Rate of convergence\", \"Rate-monotonic scheduling\", \"Rate\\u2013distortion theory\", \"Rational agent\", \"Rational function\", \"Rational quadratic covariance function\", \"Rationality\", \"Raw data\", \"Rayleigh fading\", \"Reachability\", \"Reactive programming\", \"Reactive system\", \"Real Time Streaming Protocol\", \"Real algebraic geometry\", \"Real image\", \"Real number\", \"Real time Java\", \"Real-time computing\", \"Real-time operating system\", \"Real-valued function\", \"Reasoning system\", \"Recall\", \"Receiver operating characteristic\", \"Recommender system\", \"Reconfigurability\", \"Reconfigurable computing\", \"Reconstruction algorithm\", \"Rectangle\", \"Recurrence quantification analysis\", \"Recurrent neural network\", \"Recursion\", \"Recursive least squares filter\", \"Recursively enumerable language\", \"Reduct\", \"Redundancy (engineering)\", \"Reed\\u2013Muller code\", \"Reed\\u2013Solomon error correction\", \"Reference architecture\", \"Reference frame\", \"Reference model\", \"Referent\", \"Refinement\", \"Refinement calculus\", \"Reflection attack\", \"Region connection calculus\", \"Region growing\", \"Region of interest\", \"Register allocation\", \"Register file\", \"Register-transfer level\", \"Regression analysis\", \"Regression testing\", \"Regret\", \"Regular conditional probability\", \"Regular expression\", \"Regular language\", \"Regular polygon\", \"Regularization (mathematics)\", \"Regularization perspectives on support vector machines\", \"Rehabilitation\", \"Reinforcement learning\", \"Relational algebra\", \"Relational calculus\", \"Relational database\", \"Relational database\", \"Relational database\", \"Relational database management system\", \"Relational model\", \"Relationship extraction\", \"Relaxation labelling\", \"Relay channel\", \"Relevance (information retrieval)\", \"Relevance feedback\", \"Reliable multicast\", \"Remote direct memory access\", \"Remote procedure call\", \"Rendering (computer graphics)\", \"Rendezvous\", \"Renewal theory\", \"Repeated game\", \"Repetition code\", \"Replicate\", \"Replication (computing)\", \"Reproducing kernel Hilbert space\", \"Reputation\", \"Reputation system\", \"Requirement\", \"Requirement\", \"Requirements analysis\", \"Requirements elicitation\", \"Requirements engineering\", \"Requirements engineering\", \"Requirements management\", \"Requirements traceability\", \"Resampling\", \"Reservation price\", \"Residual\", \"Residual frame\", \"Residue number system\", \"Resource allocation\", \"Resource management\", \"Resource-oriented architecture\", \"Resource-oriented architecture\", \"Response time\", \"Restricted isometry property\", \"Retransmission\", \"Returns to scale\", \"Reusability\", \"Reuse\", \"Revenue\", \"Reverse engineering\", \"Reverse-delete algorithm\", \"Revocation\", \"Rewriting\", \"Rician fading\", \"Ridge\", \"Ring network\", \"Ring signature\", \"Risk analysis (business)\", \"Risk assessment\", \"Risk management\", \"Roaming\", \"Robot\", \"Robot control\", \"Robot learning\", \"Robotic arm\", \"Robotics\", \"Robust optimization\", \"Robustness (computer science)\", \"Role-based access control\", \"Romanian\", \"Root-raised-cosine filter\", \"Rotation formalisms in three dimensions\", \"Rough set\", \"Round-robin scheduling\", \"Round-trip delay time\", \"Rounding\", \"Router\", \"Routing and wavelength assignment\", \"Routing domain\", \"Routing protocol\", \"Routing table\", \"Rule induction\", \"Rule of inference\", \"Rule-based machine translation\", \"Rule-based system\", \"Runtime system\", \"Runtime verification\", \"R\\u00e9nyi entropy\", \"S-attributed grammar\", \"SHA-2\", \"SOAP\", \"SPARQL\", \"SPARQL\", \"SPMD\", \"SQL\", \"SSH File Transfer Protocol\", \"STREAMS\", \"SWIFFT\", \"Salience (neuroscience)\", \"Sammon mapping\", \"Sample size determination\", \"Sampling (signal processing)\", \"Sampling (statistics)\", \"Sampling (statistics)\", \"Sargable\", \"Satisfiability\", \"Scala\", \"Scalability\", \"Scalable Video Coding\", \"Scalar (physics)\", \"Scale parameter\", \"Scale space\", \"Scale-invariant feature transform\", \"Scale-space axioms\", \"Scale-space segmentation\", \"Scaling\", \"Scattering\", \"Schaefer's dichotomy theorem\", \"Schedule\", \"Scheduling (computing)\", \"Scheduling (production processes)\", \"Schema (psychology)\", \"Schema matching\", \"Schema migration\", \"Schematic\", \"Schnorr signature\", \"Schoof's algorithm\", \"Scientific method\", \"Scratch\", \"Scripting language\", \"Search algorithm\", \"Search analytics\", \"Search engine\", \"Search engine indexing\", \"Search problem\", \"Search tree\", \"Second moment method\", \"Second-generation programming language\", \"Second-generation wavelet transform\", \"Secret sharing\", \"Secure communication\", \"Secure multi-party computation\", \"Secure two-party computation\", \"Security association\", \"Security convergence\", \"Security information and event management\", \"Security management\", \"Security of cryptographic hash functions\", \"Security policy\", \"Security service\", \"Security token\", \"Segmentation\", \"Segmentation-based object categorization\", \"Selection algorithm\", \"Selectivity\", \"Self-certifying File System\", \"Self-management\", \"Self-organization\", \"Self-organizing map\", \"Self-reconfiguring modular robot\", \"Self-shrinking generator\", \"Self-stabilization\", \"Self-synchronizing code\", \"Semantic Web\", \"Semantic Web\", \"Semantic Web Rule Language\", \"Semantic Web Stack\", \"Semantic analytics\", \"Semantic compression\", \"Semantic data model\", \"Semantic equivalence\", \"Semantic grid\", \"Semantic integration\", \"Semantic interoperability\", \"Semantic network\", \"Semantic query\", \"Semantic reasoner\", \"Semantic search\", \"Semantic security\", \"Semantic similarity\", \"Semantic technology\", \"Semantics\", \"Semantics (computer science)\", \"Semantics of Business Vocabulary and Business Rules\", \"Semi-Thue system\", \"Semi-structured model\", \"Semi-supervised learning\", \"Semigroup\", \"Sensor array\", \"Sensor fusion\", \"Sensor node\", \"Sensor web\", \"Sensory cue\", \"Sentence\", \"Sentence\", \"Sentiment analysis\", \"Separable space\", \"Separation of concerns\", \"Sequence alignment\", \"Sequence analysis\", \"Sequence diagram\", \"Sequential access\", \"Sequential consistency\", \"Sequential decoding\", \"Sequential estimation\", \"Sequential probability ratio test\", \"Serial concatenated convolutional codes\", \"Serializability\", \"Series (mathematics)\", \"Series expansion\", \"Server\", \"Server-side\", \"Service Location Protocol\", \"Service delivery framework\", \"Service design\", \"Service discovery\", \"Service layer\", \"Service level\", \"Service level objective\", \"Service level requirement\", \"Service provider\", \"Service quality\", \"Service quality\", \"Service-level agreement\", \"Service-orientation\", \"Service-oriented architecture\", \"Service-oriented modeling\", \"Services computing\", \"Services marketing\", \"Session ID\", \"Session Initiation Protocol\", \"Session key\", \"Set function\", \"Set operations\", \"Set partitioning in hierarchical trees\", \"Set theory\", \"Sewage treatment\", \"Shader\", \"Shading\", \"Shadow\", \"Shamir's Secret Sharing\", \"Shannon capacity of a graph\", \"Shannon's source coding theorem\", \"Shannon\\u2013Fano coding\", \"Shannon\\u2013Hartley theorem\", \"Shape analysis (digital geometry)\", \"Shapley value\", \"Shared medium\", \"Shared memory\", \"Shared resource\", \"Shared secret\", \"Shift register\", \"Short-time Fourier transform\", \"Shortest Path Faster Algorithm\", \"Shortest path problem\", \"Shortest-path tree\", \"Shot noise\", \"Side channel attack\", \"Sieve\", \"Sieve of Eratosthenes\", \"Sight\", \"Sign language\", \"Signal processing\", \"Signal reconstruction\", \"Signal transfer function\", \"Signal-to-interference-plus-noise ratio\", \"Signal-to-noise ratio\", \"Signcryption\", \"Silhouette\", \"Similarity measure\", \"Similarity measure\", \"Similitude\", \"Simple API for XML\", \"Simple Features\", \"Simple polygon\", \"Simplex graph\", \"Simulated annealing\", \"Simulation\", \"Sine and cosine transforms\", \"Single-linkage clustering\", \"Singleton\", \"Singular value decomposition\", \"Singularity\", \"Situated\", \"Situation calculus\", \"Skeleton (computer programming)\", \"Sketch\", \"Slicing\", \"Sliding window protocol\", \"Smacker video\", \"Small and medium-sized enterprises\", \"Small number\", \"Smart Cache\", \"Smart card\", \"Smoothing\", \"Smoothness\", \"Sobolev space\", \"Social Semantic Web\", \"Social choice theory\", \"Social infrastructure\", \"Social network\", \"Social network analysis\", \"Social relation\", \"Social robot\", \"Social software engineering\", \"Socioeconomics\", \"Soft computing\", \"Soft-decision decoder\", \"Software\", \"Software Engineering Process Group\", \"Software agent\", \"Software agent\", \"Software analysis pattern\", \"Software architecture\", \"Software architecture description\", \"Software architecture description\", \"Software as a service\", \"Software construction\", \"Software construction\", \"Software deployment\", \"Software deployment\", \"Software design\", \"Software design description\", \"Software design pattern\", \"Software development\", \"Software development\", \"Software development process\", \"Software engineering\", \"Software framework\", \"Software maintenance\", \"Software measurement\", \"Software metric\", \"Software peer review\", \"Software performance testing\", \"Software portability\", \"Software product line\", \"Software project management\", \"Software quality\", \"Software reliability testing\", \"Software requirements\", \"Software requirements specification\", \"Software sizing\", \"Software system\", \"Software verification\", \"Software verification and validation\", \"Software versioning\", \"Software walkthrough\", \"Solver\", \"Sonar\", \"Sophistication\", \"Sort-merge join\", \"Sorting\", \"Sorting algorithm\", \"Sound quality\", \"Sound recording and reproduction\", \"Soundness\", \"Source code\", \"Source separation\", \"Source-specific multicast\", \"Space\\u2013time block code\", \"Space\\u2013time code\", \"Space\\u2013time trellis code\", \"Spanning tree\", \"Sparse approximation\", \"Sparse matrix\", \"Spatial analysis\", \"Spatial correlation\", \"Spatial database\", \"Spatial frequency\", \"Spatial intelligence\", \"Spatial multiplexing\", \"Spatial query\", \"Spatial relation\", \"Spatial relation\", \"Spatiotemporal database\", \"Speaker diarisation\", \"Speaker recognition\", \"Special case\", \"Specification language\", \"Spectral density\", \"Spectral density estimation\", \"Spectral efficiency\", \"Spectrum analyzer\", \"Speech analytics\", \"Speech coding\", \"Speech enhancement\", \"Speech processing\", \"Speech recognition\", \"Speech recognition\", \"Speech synthesis\", \"Speech technology\", \"Speedup\", \"Spelling\", \"Sphere packing\", \"Spherical harmonics\", \"Spike train\", \"Spin-\\u00bd\", \"Spite\", \"Spline (mathematics)\", \"Spoken language\", \"Spread spectrum\", \"Square-free polynomial\", \"Squashed entanglement\", \"Stability (learning theory)\", \"Stable model semantics\", \"Stacking\", \"Stairstep interpolation\", \"Standard CMMI Appraisal Method for Process Improvement\", \"Standard ML\", \"Standard array\", \"Standard deviation\", \"Standard of Good Practice\", \"Standard test image\", \"Standardization\", \"Star schema\", \"Star-shaped polygon\", \"State diagram\", \"State space\", \"State variable\", \"Stateflow\", \"Stateless protocol\", \"Static analysis\", \"Static random-access memory\", \"Static routing\", \"Static timing analysis\", \"Static web page\", \"Stationary distribution\", \"Stationary process\", \"Stationary sequence\", \"Stationary wavelet transform\", \"Statistic\", \"Statistical hypothesis testing\", \"Statistical learning theory\", \"Statistical mechanics\", \"Statistical model\", \"Statistical relational learning\", \"Statistical time division multiplexing\", \"Statistics\", \"Steady state\", \"Steganalysis\", \"Steganography\", \"Steganography\", \"Stein's unbiased risk estimate\", \"Steiner tree problem\", \"Stereo cameras\", \"Stereopsis\", \"Stereopsis\", \"Stiffness matrix\", \"Stimulus (physiology)\", \"Stochastic Petri net\", \"Stochastic approximation\", \"Stochastic cellular automaton\", \"Stochastic differential equation\", \"Stochastic game\", \"Stochastic gradient descent\", \"Stochastic matrix\", \"Stochastic modelling\", \"Stochastic modelling\", \"Stochastic neural network\", \"Stochastic optimization\", \"Stochastic process\", \"Stochastic programming\", \"Stochastic programming\", \"Stochastic resonance\", \"Stochastic simulation\", \"Story-driven modeling\", \"Storytelling\", \"Storytelling\", \"Stream cipher\", \"Stream cipher attack\", \"Streaming XML\", \"Strength of a graph\", \"Strength of a graph\", \"Strengths and weaknesses\", \"String (computer science)\", \"String graph\", \"String kernel\", \"String searching algorithm\", \"Strong perfect graph theorem\", \"Structural pattern\", \"Structural proof theory\", \"Structure from motion\", \"Structure of Management Information\", \"Structuring\", \"Stub file\", \"Sub-band coding\", \"Subclass\", \"Subject reduction\", \"Subject-matter expert\", \"Submodular set function\", \"Subroutine\", \"Subspace topology\", \"Subtyping\", \"Sufficient statistic\", \"Suffix tree\", \"Suggested Upper Merged Ontology\", \"Superposition principle\", \"Supersingular elliptic curve\", \"Superstructure\", \"Supervised learning\", \"Supply chain\", \"Supply chain management\", \"Support vector machine\", \"Surface reconstruction\", \"Sustainability\", \"Suurballe's algorithm\", \"Swarm behaviour\", \"Swarm intelligence\", \"Swarm robotics\", \"Switched mesh\", \"Symbolic computation\", \"Symbolic data analysis\", \"Symbolic execution\", \"Symbolic simulation\", \"Symbolic trajectory evaluation\", \"Symmetric Boolean function\", \"Symmetric function\", \"Symmetric graph\", \"Symmetric probability distribution\", \"Symmetric-key algorithm\", \"Symmetry group\", \"Synchronization\", \"Synchronizing\", \"Synchronous learning\", \"Synonym\", \"Syntax\", \"Syntax (logic)\", \"Synthetic data\", \"System context diagram\", \"System identification\", \"System integration\", \"System integration testing\", \"System model\", \"System of linear equations\", \"System of systems\", \"System on a chip\", \"System requirements specification\", \"System sequence diagram\", \"System testing\", \"System under test\", \"SystemC\", \"Systematic code\", \"Systems analysis\", \"Systems architecture\", \"Systems biology\", \"Systems design\", \"Systems development life cycle\", \"Systems engineering\", \"Systems management\", \"Systems modeling\", \"T-norm\", \"T-norm fuzzy logics\", \"TCP Friendly Rate Control\", \"TCP Westwood plus\", \"TCP acceleration\", \"TCP global synchronization\", \"TCP hole punching\", \"TCP tuning\", \"TOPSIS\", \"TUTOR\", \"Tabu search\", \"Tacit knowledge\", \"Tangent space\", \"Tanner graph\", \"Tarjan's strongly connected components algorithm\", \"Task analysis\", \"Task parallelism\", \"Tate pairing\", \"Teaching method\", \"Teamwork\", \"Technical report\", \"Telecommunications\", \"Telecommunications Management Network\", \"Telecommunications link\", \"Telecommunications network\", \"Telecommunications service\", \"Teleconference\", \"Telematics\", \"Telephony\", \"Template matching\", \"Temporal database\", \"Temporal logic\", \"Tensor\", \"Terminology\", \"Ternary Golay code\", \"Ternary operation\", \"Test Management Approach\", \"Test case\", \"Test data\", \"Test data generation\", \"Test set\", \"Test statistic\", \"Test strategy\", \"Test suite\", \"Testbed\", \"Text mining\", \"Text processing\", \"Textual entailment\", \"Texture filtering\", \"Texture mapping\", \"The Internet\", \"Theoretical computer science\", \"Third-generation programming language\", \"Thread (computing)\", \"Threat model\", \"Three-dimensional face recognition\", \"Thresholding\", \"Throughput\", \"Thumbnail\", \"Time complexity\", \"Time delay neural network\", \"Time division multiple access\", \"Time domain\", \"Time evolution\", \"Time series\", \"Time to market\", \"Timed automaton\", \"Timestamp\", \"Timing diagram\", \"Toeplitz matrix\", \"Token bucket\", \"Tomography\", \"Toolbox\", \"Top-down and bottom-up design\", \"Top-down parsing\", \"Topic Maps\", \"Topology\", \"Topology control\", \"Tornado code\", \"Total cost\", \"Tourism\", \"Tournament\", \"Tracing\", \"Tracking system\", \"Traffic congestion\", \"Traffic engineering\", \"Traffic generation model\", \"Trait\", \"Traitor tracing\", \"Trajectory\", \"Transaction cost\", \"Transaction data\", \"Transaction processing\", \"Transaction processing system\", \"Transactional leadership\", \"Transfer entropy\", \"Transfer function\", \"Transform coding\", \"Transformation geometry\", \"Transient response\", \"Transition system\", \"Transitive closure\", \"Transitive relation\", \"Transmission Control Protocol\", \"Transmission delay\", \"Transmission electron microscopy\", \"Transmission time\", \"Transmitter\", \"Transmitter power output\", \"Transparency (graphic)\", \"Transport layer\", \"Travelling salesman problem\", \"Tree (graph theory)\", \"Tree alignment\", \"Tree automaton\", \"Tree kernel\", \"Tree rotation\", \"Tree structure\", \"Tree traversal\", \"Tree-adjoining grammar\", \"Treewidth\", \"Trellis modulation\", \"Trellis quantization\", \"Triangulation (social science)\", \"Triangulation (social science)\", \"Trilateration\", \"Troubleshooting\", \"Trusted third party\", \"Tunstall coding\", \"Tuple\", \"Tuple space\", \"Turbo code\", \"Turbo code\", \"Turbo equalizer\", \"Turing\", \"Turing machine\", \"Two-element Boolean algebra\", \"Two-level scheduling\", \"Two-phase commit protocol\", \"Two-way deterministic finite automaton\", \"Type constructor\", \"Type erasure\", \"Type inference\", \"Type safety\", \"Type theory\", \"Type-2 fuzzy sets and systems\", \"Typical set\", \"Typing\", \"Typography\", \"U-statistic\", \"UML state machine\", \"UML tool\", \"UMTS frequency bands\", \"Ubiquitous commerce\", \"Ubiquitous computing\", \"Ubiquitous robot\", \"Ultrasound\", \"Unary operation\", \"Undecidable problem\", \"Underdetermined system\", \"Unicast\", \"Unicode\", \"Unified Modeling Language\", \"Uniform distribution (continuous)\", \"Uniform memory access\", \"Unimodular matrix\", \"Uninterpreted function\", \"Union type\", \"Unit testing\", \"Unitary matrix\", \"Univariate\", \"Universal Networking Language\", \"Universal Plug and Play\", \"Universal code\", \"Universal composability\", \"Universal graph\", \"Unix file types\", \"Unsupervised learning\", \"Upload\", \"Upper and lower bounds\", \"Upper ontology\", \"Urban agglomeration\", \"Usability\", \"Usability\", \"Usability engineering\", \"Usability goals\", \"Usability inspection\", \"Usage data\", \"Use Case Diagram\", \"Use case\", \"User Datagram Protocol\", \"User agent\", \"User assistance\", \"User experience design\", \"User information\", \"User interface\", \"User interface\", \"User interface design\", \"User modeling\", \"User profile\", \"User requirements document\", \"Utility computing\", \"Utterance\", \"VHDL\", \"Value noise\", \"Value noise\", \"Vandermonde matrix\", \"Variable bitrate\", \"Variable elimination\", \"Variable kernel density estimation\", \"Variable-length code\", \"Variable-order Bayesian network\", \"Variable-order Markov model\", \"Variables\", \"Vector field\", \"Vector processor\", \"Vector quantization\", \"Vector space\", \"Vector space model\", \"Vehicle routing problem\", \"Vehicular ad hoc network\", \"Vendor\", \"Venn diagram\", \"Verifiable secret sharing\", \"Versa\", \"Versioning file system\", \"Vertex (geometry)\", \"Vertex (graph theory)\", \"Vertex cover\", \"Vertical handover\", \"Very high-level programming language\", \"Video Graphics Array\", \"Video camera\", \"Video compression picture types\", \"Video game design\", \"Video game design\", \"Video game development\", \"Video post-processing\", \"Video processing\", \"Video production\", \"Video quality\", \"Video tracking\", \"Videoconferencing\", \"View\", \"Viola\\u2013Jones object detection framework\", \"Virtex\", \"Virtual Physiological Human\", \"Virtual address space\", \"Virtual circuit\", \"Virtual community\", \"Virtual machine\", \"Virtual machine\", \"Virtual memory\", \"Virtual network\", \"Virtual prototyping\", \"Virtual reality\", \"Virtual reality\", \"Virtual team\", \"Viseme\", \"Vision disorder\", \"Visual Word\", \"Visual analytics\", \"Visual cortex\", \"Visual inspection\", \"Visual modeling\", \"Visual odometry\", \"Visual processing\", \"Visual search\", \"Visual search engine\", \"Visual sensor network\", \"Visual servoing\", \"Visualization\", \"Viterbi algorithm\", \"Viterbi decoder\", \"VoIP gateway\", \"Vocabulary\", \"Voice activity detection\", \"Voice over IP\", \"Voltage graph\", \"Volterra series\", \"Von Neumann entropy\", \"Voting\", \"WS-Addressing\", \"WS-I Basic Profile\", \"WS-Policy\", \"WSMO\", \"Wake-sleep algorithm\", \"Walsh matrix\", \"Watermark\", \"Watermarking attack\", \"Watershed\", \"Waveform\", \"Wavelength\", \"Wavelength-division multiplexing\", \"Wavelet\", \"Wavelet packet decomposition\", \"Wavelet transform\", \"Wearable computer\", \"Web 2.0\", \"Web API\", \"Web Accessibility Initiative\", \"Web Ontology Language\", \"Web application\", \"Web application security\", \"Web crawler\", \"Web design\", \"Web development\", \"Web engineering\", \"Web information system\", \"Web intelligence\", \"Web mapping\", \"Web mining\", \"Web modeling\", \"Web navigation\", \"Web page\", \"Web query classification\", \"Web search engine\", \"Web search query\", \"Web server\", \"Web service\", \"Web standards\", \"Web usability\", \"Weight function\", \"Weight-balanced tree\", \"Weighting\", \"Weighting\", \"Well-founded semantics\", \"Wheelchair\", \"White noise\", \"White-box testing\", \"Wi-Fi\", \"Wi-Fi\", \"Wi-Fi array\", \"Wide area network\", \"Wiener filter\", \"Window function\", \"Windows Workflow Foundation\", \"Winner-take-all\", \"Wireless\", \"Wireless Application Protocol\", \"Wireless Routing Protocol\", \"Wireless ad hoc network\", \"Wireless ad hoc network\", \"Wireless distribution system\", \"Wireless mesh network\", \"Wireless mesh network\", \"Wireless network\", \"Wireless sensor network\", \"Wizard\", \"Word error rate\", \"WordNet\", \"Workflow\", \"Workflow engine\", \"Workflow management system\", \"Workflow technology\", \"Workload\", \"Workstation\", \"World Wide Web\", \"Write-once\", \"XML\", \"XML Base\", \"XML Catalog\", \"XML Encryption\", \"XML Schema Editor\", \"XML Signature\", \"XML framework\", \"XML schema\", \"XML validation\", \"XPDL\", \"XQuery\", \"XSLT\", \"Xcast\", \"Xeon\", \"Yen's algorithm\", \"Zero-forcing precoding\", \"Zero-forcing precoding\", \"Zeta-TCP\", \"Zipf's law\", \"Zone Routing Protocol\", \"Zoom\", \"cXML\", \"cons\", \"e-Science\", \"k-means clustering\", \"k-medians clustering\", \"k-nearest neighbors algorithm\", \"k-nearest neighbors algorithm\", \"restrict\", \"sort\", \"splice\", \"strictfp\", \"tf\\u2013idf\", \"\\u03c9-automaton\"]}, \"R\": 30, \"lambda.step\": 0.01, \"plot.opts\": {\"xlab\": \"PC1\", \"ylab\": \"PC2\"}, \"topic.order\": [6, 4, 97, 5, 28, 59, 1, 107, 31, 57, 30, 119, 78, 113, 10, 13, 39, 114, 116, 33, 48, 87, 101, 26, 94, 7, 46, 95, 29, 96, 111, 108, 93, 109, 56, 54, 12, 61, 70, 51, 100, 73, 83, 20, 37, 19, 105, 75, 85, 32, 50, 14, 102, 16, 44, 65, 98, 120, 76, 79, 69, 22, 15, 99, 24, 74, 63, 86, 104, 88, 67, 9, 17, 71, 110, 11, 49, 66, 3, 25, 90, 106, 84, 91, 77, 38, 118, 115, 55, 58, 18, 21, 89, 42, 72, 23, 8, 41, 92, 117, 62, 40, 27, 82, 60, 2, 81, 34, 80, 103, 52, 47, 53, 36, 35, 68, 64, 112, 43, 45]};\n",
       "\n",
       "function LDAvis_load_lib(url, callback){\n",
       "  var s = document.createElement('script');\n",
       "  s.src = url;\n",
       "  s.async = true;\n",
       "  s.onreadystatechange = s.onload = callback;\n",
       "  s.onerror = function(){console.warn(\"failed to load library \" + url);};\n",
       "  document.getElementsByTagName(\"head\")[0].appendChild(s);\n",
       "}\n",
       "\n",
       "if(typeof(LDAvis) !== \"undefined\"){\n",
       "   // already loaded: just create the visualization\n",
       "   !function(LDAvis){\n",
       "       new LDAvis(\"#\" + \"ldavis_el1823614861120339205521153931\", ldavis_el1823614861120339205521153931_data);\n",
       "   }(LDAvis);\n",
       "}else if(typeof define === \"function\" && define.amd){\n",
       "   // require.js is available: use it to load d3/LDAvis\n",
       "   require.config({paths: {d3: \"https://cdnjs.cloudflare.com/ajax/libs/d3/3.5.5/d3.min\"}});\n",
       "   require([\"d3\"], function(d3){\n",
       "      window.d3 = d3;\n",
       "      LDAvis_load_lib(\"https://cdn.rawgit.com/bmabey/pyLDAvis/files/ldavis.v1.0.0.js\", function(){\n",
       "        new LDAvis(\"#\" + \"ldavis_el1823614861120339205521153931\", ldavis_el1823614861120339205521153931_data);\n",
       "      });\n",
       "    });\n",
       "}else{\n",
       "    // require.js not available: dynamically load d3 & LDAvis\n",
       "    LDAvis_load_lib(\"https://cdnjs.cloudflare.com/ajax/libs/d3/3.5.5/d3.min.js\", function(){\n",
       "         LDAvis_load_lib(\"https://cdn.rawgit.com/bmabey/pyLDAvis/files/ldavis.v1.0.0.js\", function(){\n",
       "                 new LDAvis(\"#\" + \"ldavis_el1823614861120339205521153931\", ldavis_el1823614861120339205521153931_data);\n",
       "            })\n",
       "         });\n",
       "}\n",
       "</script>"
      ],
      "text/plain": [
       "PreparedData(topic_coordinates=              x         y  topics  cluster      Freq\n",
       "topic                                               \n",
       "5      0.369621 -0.265119       1        1  3.079266\n",
       "3     -0.109352 -0.093316       2        1  2.368365\n",
       "96     0.538535 -0.139561       3        1  2.348470\n",
       "4     -0.034749 -0.313109       4        1  2.304689\n",
       "27    -0.148451  0.039990       5        1  1.514441\n",
       "...         ...       ...     ...      ...       ...\n",
       "67     0.038904  0.480535     116        1  0.477486\n",
       "63     0.121241  0.378577     117        1  0.460818\n",
       "111    0.468510  0.162023     118        1  0.454217\n",
       "42     0.055532  0.356774     119        1  0.447084\n",
       "44     0.194186 -0.058516     120        1  0.389435\n",
       "\n",
       "[120 rows x 5 columns], topic_info=                       Term          Freq         Total  Category  logprob  \\\n",
       "1      Discrete mathematics  11119.000000  11119.000000   Default  30.0000   \n",
       "3               Mathematics   5823.000000   5823.000000   Default  29.0000   \n",
       "7          Computer science  29125.000000  29125.000000   Default  28.0000   \n",
       "239            Architecture   3998.000000   3998.000000   Default  27.0000   \n",
       "32          Computer vision   3959.000000   3959.000000   Default  26.0000   \n",
       "...                     ...           ...           ...       ...      ...   \n",
       "6357       Information good      8.543854      9.706270  Topic120  -5.5908   \n",
       "8633                 Honour      7.012627      8.175043  Topic120  -5.7883   \n",
       "3071  Wireless mesh network     15.662001     63.458974  Topic120  -4.9848   \n",
       "7          Computer science    109.218151  29125.763178  Topic120  -3.0427   \n",
       "46    Distributed computing     60.666830  18539.085698  Topic120  -3.6306   \n",
       "\n",
       "      loglift  \n",
       "1     30.0000  \n",
       "3     29.0000  \n",
       "7     28.0000  \n",
       "239   27.0000  \n",
       "32    26.0000  \n",
       "...       ...  \n",
       "6357   5.4207  \n",
       "8633   5.3949  \n",
       "3071   4.1491  \n",
       "7     -0.0378  \n",
       "46    -0.1740  \n",
       "\n",
       "[4082 rows x 6 columns], token_table=      Topic      Freq                    Term\n",
       "term                                         \n",
       "4139    112  0.994096          1-planar graph\n",
       "3700     26  0.931765                   2-opt\n",
       "2422     87  0.987041  3-dimensional matching\n",
       "712      59  0.992984       3D reconstruction\n",
       "1973     92  0.976629                 3G MIMO\n",
       "...     ...       ...                     ...\n",
       "1698    108  0.978118                    sort\n",
       "8052     27  0.726779                  splice\n",
       "5281     97  0.988795                strictfp\n",
       "8152     63  0.958086                  tf–idf\n",
       "4382     71  0.991363             ω-automaton\n",
       "\n",
       "[3933 rows x 3 columns], R=30, lambda_step=0.01, plot_opts={'xlab': 'PC1', 'ylab': 'PC2'}, topic_order=[6, 4, 97, 5, 28, 59, 1, 107, 31, 57, 30, 119, 78, 113, 10, 13, 39, 114, 116, 33, 48, 87, 101, 26, 94, 7, 46, 95, 29, 96, 111, 108, 93, 109, 56, 54, 12, 61, 70, 51, 100, 73, 83, 20, 37, 19, 105, 75, 85, 32, 50, 14, 102, 16, 44, 65, 98, 120, 76, 79, 69, 22, 15, 99, 24, 74, 63, 86, 104, 88, 67, 9, 17, 71, 110, 11, 49, 66, 3, 25, 90, 106, 84, 91, 77, 38, 118, 115, 55, 58, 18, 21, 89, 42, 72, 23, 8, 41, 92, 117, 62, 40, 27, 82, 60, 2, 81, 34, 80, 103, 52, 47, 53, 36, 35, 68, 64, 112, 43, 45])"
      ]
     },
     "execution_count": 68,
     "metadata": {},
     "output_type": "execute_result"
    }
   ],
   "source": [
    "# Visualize the topics\n",
    "#https://github.com/bmabey/pyLDAvis\n",
    "#https://speakerdeck.com/bmabey/visualizing-topic-models\n",
    "pyLDAvis.enable_notebook()\n",
    "vis = pyLDAvis.gensim.prepare(lda_model, doc_term_matrix, dictionary, mds='mmds')\n",
    "vis"
   ]
  },
  {
   "cell_type": "code",
   "execution_count": 69,
   "metadata": {},
   "outputs": [
    {
     "name": "stderr",
     "output_type": "stream",
     "text": [
      "2021-04-21 00:06:21,559 : INFO : -26.711 per-word bound, 109839884.9 perplexity estimate based on a held-out corpus of 63800 documents with 587864 words\n",
      "2021-04-21 00:06:21,610 : INFO : using ParallelWordOccurrenceAccumulator(processes=19, batch_size=64) to estimate probabilities from sliding windows\n"
     ]
    },
    {
     "name": "stdout",
     "output_type": "stream",
     "text": [
      "\n",
      "Perplexity:  -26.71082677744713\n"
     ]
    },
    {
     "name": "stderr",
     "output_type": "stream",
     "text": [
      "2021-04-21 00:06:36,871 : INFO : 19 accumulators retrieved from output queue\n",
      "2021-04-21 00:06:42,611 : INFO : accumulated word occurrence stats for 63268 virtual documents\n"
     ]
    },
    {
     "name": "stdout",
     "output_type": "stream",
     "text": [
      "\n",
      "Coherence Score:  0.5069075106918339\n"
     ]
    }
   ],
   "source": [
    "print('\\nPerplexity: ', lda_model.log_perplexity(doc_term_matrix))  # a measure of how good the model is. lower the better.\n",
    "\n",
    "# Compute Coherence Score\n",
    "from gensim.models.coherencemodel import CoherenceModel\n",
    "coherence_model_lda = CoherenceModel(model=lda_model, texts=fos_multi_list, dictionary=dictionary , coherence='c_v')\n",
    "coherence_lda = coherence_model_lda.get_coherence()\n",
    "print('\\nCoherence Score: ', coherence_lda)"
   ]
  },
  {
   "cell_type": "code",
   "execution_count": 71,
   "metadata": {},
   "outputs": [
    {
     "name": "stderr",
     "output_type": "stream",
     "text": [
      "2021-04-20 19:16:49,684 : INFO : LdaState lifecycle event {'fname_or_handle': 'models/lda_model.model.state', 'separately': 'None', 'sep_limit': 10485760, 'ignore': frozenset(), 'datetime': '2021-04-20T19:16:49.684136', 'gensim': '4.0.1', 'python': '3.8.8 (tags/v3.8.8:024d805, Feb 19 2021, 13:18:16) [MSC v.1928 64 bit (AMD64)]', 'platform': 'Windows-10-10.0.18362-SP0', 'event': 'saving'}\n",
      "2021-04-20 19:16:49,707 : INFO : saved models/lda_model.model.state\n",
      "2021-04-20 19:16:49,724 : INFO : LdaMulticore lifecycle event {'fname_or_handle': 'models/lda_model.model', 'separately': \"['expElogbeta', 'sstats']\", 'sep_limit': 10485760, 'ignore': ['id2word', 'state', 'dispatcher'], 'datetime': '2021-04-20T19:16:49.724026', 'gensim': '4.0.1', 'python': '3.8.8 (tags/v3.8.8:024d805, Feb 19 2021, 13:18:16) [MSC v.1928 64 bit (AMD64)]', 'platform': 'Windows-10-10.0.18362-SP0', 'event': 'saving'}\n",
      "2021-04-20 19:16:49,726 : INFO : storing np array 'expElogbeta' to models/lda_model.model.expElogbeta.npy\n",
      "2021-04-20 19:16:49,735 : INFO : not storing attribute id2word\n",
      "2021-04-20 19:16:49,736 : INFO : not storing attribute state\n",
      "2021-04-20 19:16:49,737 : INFO : not storing attribute dispatcher\n",
      "2021-04-20 19:16:49,739 : INFO : saved models/lda_model.model\n"
     ]
    }
   ],
   "source": [
    "# lda_model.save(\"models/lda_model.model\")"
   ]
  },
  {
   "cell_type": "code",
   "execution_count": null,
   "metadata": {},
   "outputs": [],
   "source": [
    "# lda_model = gensim.models.ldamodel.LdaModel.load(\"/content/gdrive/MyDrive/GraphSAGE_Ndarrays/LDA/model/lda_model.model\")"
   ]
  },
  {
   "cell_type": "code",
   "execution_count": null,
   "metadata": {},
   "outputs": [],
   "source": []
  },
  {
   "cell_type": "code",
   "execution_count": null,
   "metadata": {},
   "outputs": [],
   "source": []
  },
  {
   "cell_type": "code",
   "execution_count": 63,
   "metadata": {},
   "outputs": [
    {
     "name": "stderr",
     "output_type": "stream",
     "text": [
      "d:\\env\\env\\lib\\site-packages\\ipykernel\\ipkernel.py:283: DeprecationWarning: `should_run_async` will not call `transform_cell` automatically in the future. Please pass the result to `transformed_cell` argument and any exception that happen during thetransform in `preprocessing_exc_tuple` in IPython 7.17 and above.\n",
      "  and should_run_async(code)\n"
     ]
    }
   ],
   "source": [
    "from gensim.models.coherencemodel import CoherenceModel"
   ]
  },
  {
   "cell_type": "code",
   "execution_count": 64,
   "metadata": {},
   "outputs": [
    {
     "name": "stderr",
     "output_type": "stream",
     "text": [
      "d:\\env\\env\\lib\\site-packages\\ipykernel\\ipkernel.py:283: DeprecationWarning: `should_run_async` will not call `transform_cell` automatically in the future. Please pass the result to `transformed_cell` argument and any exception that happen during thetransform in `preprocessing_exc_tuple` in IPython 7.17 and above.\n",
      "  and should_run_async(code)\n"
     ]
    }
   ],
   "source": [
    "  def compute_coherence_values(dictionary, corpus, texts, limit, start=2, step=3):\n",
    "    \"\"\"\n",
    "    Compute c_v coherence for various number of topics\n",
    "\n",
    "    Parameters:\n",
    "    ----------\n",
    "    dictionary : Gensim dictionary\n",
    "    corpus : Gensim corpus\n",
    "    texts : List of input texts\n",
    "    limit : Max num of topics\n",
    "\n",
    "    Returns:\n",
    "    -------\n",
    "    model_list : List of LDA topic models\n",
    "    coherence_values : Coherence values corresponding to the LDA model with respective number of topics\n",
    "    \"\"\"\n",
    "    coherence_values = []\n",
    "    model_list = []\n",
    "    for num_topics in range(start, limit, step):\n",
    "        model = gensim.models.ldamulticore.LdaMulticore(corpus=corpus, num_topics=num_topics, id2word=dictionary)\n",
    "        model_list.append(model)\n",
    "        coherencemodel = CoherenceModel(model=model, texts=texts, dictionary=dictionary, coherence='c_v')\n",
    "        coherence_values.append(coherencemodel.get_coherence())\n",
    "\n",
    "    return model_list, coherence_values"
   ]
  },
  {
   "cell_type": "code",
   "execution_count": null,
   "metadata": {},
   "outputs": [
    {
     "name": "stderr",
     "output_type": "stream",
     "text": [
      "d:\\env\\env\\lib\\site-packages\\ipykernel\\ipkernel.py:283: DeprecationWarning: `should_run_async` will not call `transform_cell` automatically in the future. Please pass the result to `transformed_cell` argument and any exception that happen during thetransform in `preprocessing_exc_tuple` in IPython 7.17 and above.\n",
      "  and should_run_async(code)\n"
     ]
    }
   ],
   "source": [
    "model_list, coherence_values = compute_coherence_values(dictionary=dictionary, corpus=doc_term_matrix, texts=fos_multi_list, start=50, limit=200, step=5)"
   ]
  },
  {
   "cell_type": "code",
   "execution_count": 77,
   "metadata": {},
   "outputs": [
    {
     "data": {
      "text/plain": [
       "527402"
      ]
     },
     "execution_count": 77,
     "metadata": {},
     "output_type": "execute_result"
    }
   ],
   "source": [
    "# len(fos_multi_list)"
   ]
  },
  {
   "cell_type": "code",
   "execution_count": 79,
   "metadata": {},
   "outputs": [
    {
     "name": "stdout",
     "output_type": "stream",
     "text": [
      "4633703\n"
     ]
    }
   ],
   "source": [
    "# cout = 0\n",
    "# for i in range(len(fos_multi_list)):\n",
    "#     for ele in fos_multi_list[i]:\n",
    "#         if len(ele) > 0:\n",
    "#             cout += 1\n",
    "# print(cout)"
   ]
  },
  {
   "cell_type": "code",
   "execution_count": 70,
   "metadata": {},
   "outputs": [
    {
     "data": {
      "text/plain": [
       "['Matrix (mathematics)',\n",
       " 'Radar',\n",
       " 'Inequality',\n",
       " 'Combinatorics',\n",
       " 'Discrete mathematics',\n",
       " 'Mathematics']"
      ]
     },
     "execution_count": 70,
     "metadata": {},
     "output_type": "execute_result"
    }
   ],
   "source": [
    "fos_multi_list[0]"
   ]
  },
  {
   "cell_type": "code",
   "execution_count": 71,
   "metadata": {},
   "outputs": [],
   "source": [
    "topic_set = set()\n",
    "topic_list = list()\n",
    "\n",
    "for i in range(len(fos_multi_list)):\n",
    "  for j in range(len(fos_multi_list[i])):\n",
    "    topic_probs = lda_model.get_term_topics(fos_multi_list[i][j])\n",
    "    ctr = 0\n",
    "    for (a, b) in topic_probs:\n",
    "      ctr += 1\n",
    "      if ctr > 25:\n",
    "        break\n",
    "      topic_set.add(str(a))    \n",
    "  topic_list.append(tuple(topic_set))\n",
    "  topic_set.clear()\n",
    "\n"
   ]
  },
  {
   "cell_type": "code",
   "execution_count": 72,
   "metadata": {},
   "outputs": [
    {
     "data": {
      "text/plain": [
       "6"
      ]
     },
     "execution_count": 72,
     "metadata": {},
     "output_type": "execute_result"
    }
   ],
   "source": [
    "len(topic_list[500])"
   ]
  },
  {
   "cell_type": "code",
   "execution_count": 73,
   "metadata": {},
   "outputs": [
    {
     "data": {
      "text/plain": [
       "('77', '96', '115', '12', '118', '27', '5', '25')"
      ]
     },
     "execution_count": 73,
     "metadata": {},
     "output_type": "execute_result"
    }
   ],
   "source": [
    "topic_list[0]"
   ]
  },
  {
   "cell_type": "code",
   "execution_count": 74,
   "metadata": {},
   "outputs": [
    {
     "name": "stdout",
     "output_type": "stream",
     "text": [
      "9.214169278996865\n"
     ]
    }
   ],
   "source": [
    "sum = 0\n",
    "for i in range(len(fos_multi_list)):\n",
    "  sum += len(fos_multi_list[i])\n",
    "\n",
    "print(sum / len(fos_multi_list))"
   ]
  },
  {
   "cell_type": "code",
   "execution_count": 75,
   "metadata": {},
   "outputs": [
    {
     "name": "stdout",
     "output_type": "stream",
     "text": [
      "20.293291536050155\n"
     ]
    }
   ],
   "source": [
    "sum = 0\n",
    "for i in range(len(topic_list)):\n",
    "  sum += len(topic_list[i])\n",
    "\n",
    "print(sum / len(topic_list))"
   ]
  },
  {
   "cell_type": "code",
   "execution_count": null,
   "metadata": {},
   "outputs": [],
   "source": []
  },
  {
   "cell_type": "markdown",
   "metadata": {},
   "source": [
    "### Generate the reduced ote feature mat (done after topic modelling for field of studies)"
   ]
  },
  {
   "cell_type": "code",
   "execution_count": 76,
   "metadata": {},
   "outputs": [],
   "source": [
    "from sklearn.preprocessing import MultiLabelBinarizer\n",
    "mlb = MultiLabelBinarizer()"
   ]
  },
  {
   "cell_type": "code",
   "execution_count": 77,
   "metadata": {},
   "outputs": [],
   "source": [
    "# for topic list tuple\n",
    "s = topic_list\n",
    "s = pd.DataFrame(mlb.fit_transform(s),columns=mlb.classes_, index=fos_dff.index)"
   ]
  },
  {
   "cell_type": "code",
   "execution_count": 78,
   "metadata": {},
   "outputs": [
    {
     "data": {
      "text/html": [
       "<div>\n",
       "<style scoped>\n",
       "    .dataframe tbody tr th:only-of-type {\n",
       "        vertical-align: middle;\n",
       "    }\n",
       "\n",
       "    .dataframe tbody tr th {\n",
       "        vertical-align: top;\n",
       "    }\n",
       "\n",
       "    .dataframe thead th {\n",
       "        text-align: right;\n",
       "    }\n",
       "</style>\n",
       "<table border=\"1\" class=\"dataframe\">\n",
       "  <thead>\n",
       "    <tr style=\"text-align: right;\">\n",
       "      <th></th>\n",
       "      <th>0</th>\n",
       "      <th>1</th>\n",
       "      <th>10</th>\n",
       "      <th>100</th>\n",
       "      <th>101</th>\n",
       "      <th>102</th>\n",
       "      <th>103</th>\n",
       "      <th>104</th>\n",
       "      <th>105</th>\n",
       "      <th>106</th>\n",
       "      <th>...</th>\n",
       "      <th>90</th>\n",
       "      <th>91</th>\n",
       "      <th>92</th>\n",
       "      <th>93</th>\n",
       "      <th>94</th>\n",
       "      <th>95</th>\n",
       "      <th>96</th>\n",
       "      <th>97</th>\n",
       "      <th>98</th>\n",
       "      <th>99</th>\n",
       "    </tr>\n",
       "  </thead>\n",
       "  <tbody>\n",
       "    <tr>\n",
       "      <th>0</th>\n",
       "      <td>0</td>\n",
       "      <td>0</td>\n",
       "      <td>0</td>\n",
       "      <td>0</td>\n",
       "      <td>0</td>\n",
       "      <td>0</td>\n",
       "      <td>0</td>\n",
       "      <td>0</td>\n",
       "      <td>0</td>\n",
       "      <td>0</td>\n",
       "      <td>...</td>\n",
       "      <td>0</td>\n",
       "      <td>0</td>\n",
       "      <td>0</td>\n",
       "      <td>0</td>\n",
       "      <td>0</td>\n",
       "      <td>0</td>\n",
       "      <td>1</td>\n",
       "      <td>0</td>\n",
       "      <td>0</td>\n",
       "      <td>0</td>\n",
       "    </tr>\n",
       "    <tr>\n",
       "      <th>1</th>\n",
       "      <td>1</td>\n",
       "      <td>1</td>\n",
       "      <td>1</td>\n",
       "      <td>0</td>\n",
       "      <td>0</td>\n",
       "      <td>0</td>\n",
       "      <td>0</td>\n",
       "      <td>0</td>\n",
       "      <td>0</td>\n",
       "      <td>0</td>\n",
       "      <td>...</td>\n",
       "      <td>0</td>\n",
       "      <td>0</td>\n",
       "      <td>1</td>\n",
       "      <td>0</td>\n",
       "      <td>0</td>\n",
       "      <td>1</td>\n",
       "      <td>0</td>\n",
       "      <td>0</td>\n",
       "      <td>1</td>\n",
       "      <td>0</td>\n",
       "    </tr>\n",
       "    <tr>\n",
       "      <th>2</th>\n",
       "      <td>0</td>\n",
       "      <td>0</td>\n",
       "      <td>0</td>\n",
       "      <td>0</td>\n",
       "      <td>0</td>\n",
       "      <td>0</td>\n",
       "      <td>0</td>\n",
       "      <td>0</td>\n",
       "      <td>0</td>\n",
       "      <td>0</td>\n",
       "      <td>...</td>\n",
       "      <td>0</td>\n",
       "      <td>0</td>\n",
       "      <td>1</td>\n",
       "      <td>0</td>\n",
       "      <td>0</td>\n",
       "      <td>0</td>\n",
       "      <td>0</td>\n",
       "      <td>0</td>\n",
       "      <td>0</td>\n",
       "      <td>1</td>\n",
       "    </tr>\n",
       "    <tr>\n",
       "      <th>3</th>\n",
       "      <td>1</td>\n",
       "      <td>1</td>\n",
       "      <td>1</td>\n",
       "      <td>0</td>\n",
       "      <td>0</td>\n",
       "      <td>0</td>\n",
       "      <td>1</td>\n",
       "      <td>0</td>\n",
       "      <td>0</td>\n",
       "      <td>0</td>\n",
       "      <td>...</td>\n",
       "      <td>0</td>\n",
       "      <td>0</td>\n",
       "      <td>0</td>\n",
       "      <td>0</td>\n",
       "      <td>0</td>\n",
       "      <td>0</td>\n",
       "      <td>0</td>\n",
       "      <td>0</td>\n",
       "      <td>0</td>\n",
       "      <td>0</td>\n",
       "    </tr>\n",
       "    <tr>\n",
       "      <th>4</th>\n",
       "      <td>1</td>\n",
       "      <td>1</td>\n",
       "      <td>0</td>\n",
       "      <td>0</td>\n",
       "      <td>0</td>\n",
       "      <td>0</td>\n",
       "      <td>0</td>\n",
       "      <td>0</td>\n",
       "      <td>0</td>\n",
       "      <td>0</td>\n",
       "      <td>...</td>\n",
       "      <td>1</td>\n",
       "      <td>0</td>\n",
       "      <td>0</td>\n",
       "      <td>0</td>\n",
       "      <td>0</td>\n",
       "      <td>0</td>\n",
       "      <td>1</td>\n",
       "      <td>0</td>\n",
       "      <td>0</td>\n",
       "      <td>0</td>\n",
       "    </tr>\n",
       "    <tr>\n",
       "      <th>...</th>\n",
       "      <td>...</td>\n",
       "      <td>...</td>\n",
       "      <td>...</td>\n",
       "      <td>...</td>\n",
       "      <td>...</td>\n",
       "      <td>...</td>\n",
       "      <td>...</td>\n",
       "      <td>...</td>\n",
       "      <td>...</td>\n",
       "      <td>...</td>\n",
       "      <td>...</td>\n",
       "      <td>...</td>\n",
       "      <td>...</td>\n",
       "      <td>...</td>\n",
       "      <td>...</td>\n",
       "      <td>...</td>\n",
       "      <td>...</td>\n",
       "      <td>...</td>\n",
       "      <td>...</td>\n",
       "      <td>...</td>\n",
       "      <td>...</td>\n",
       "    </tr>\n",
       "    <tr>\n",
       "      <th>63795</th>\n",
       "      <td>1</td>\n",
       "      <td>1</td>\n",
       "      <td>0</td>\n",
       "      <td>0</td>\n",
       "      <td>0</td>\n",
       "      <td>0</td>\n",
       "      <td>0</td>\n",
       "      <td>0</td>\n",
       "      <td>0</td>\n",
       "      <td>0</td>\n",
       "      <td>...</td>\n",
       "      <td>0</td>\n",
       "      <td>0</td>\n",
       "      <td>0</td>\n",
       "      <td>0</td>\n",
       "      <td>0</td>\n",
       "      <td>0</td>\n",
       "      <td>1</td>\n",
       "      <td>0</td>\n",
       "      <td>0</td>\n",
       "      <td>0</td>\n",
       "    </tr>\n",
       "    <tr>\n",
       "      <th>63796</th>\n",
       "      <td>1</td>\n",
       "      <td>1</td>\n",
       "      <td>0</td>\n",
       "      <td>0</td>\n",
       "      <td>0</td>\n",
       "      <td>0</td>\n",
       "      <td>0</td>\n",
       "      <td>0</td>\n",
       "      <td>0</td>\n",
       "      <td>0</td>\n",
       "      <td>...</td>\n",
       "      <td>0</td>\n",
       "      <td>0</td>\n",
       "      <td>0</td>\n",
       "      <td>0</td>\n",
       "      <td>0</td>\n",
       "      <td>0</td>\n",
       "      <td>0</td>\n",
       "      <td>0</td>\n",
       "      <td>0</td>\n",
       "      <td>0</td>\n",
       "    </tr>\n",
       "    <tr>\n",
       "      <th>63797</th>\n",
       "      <td>0</td>\n",
       "      <td>0</td>\n",
       "      <td>0</td>\n",
       "      <td>0</td>\n",
       "      <td>0</td>\n",
       "      <td>0</td>\n",
       "      <td>0</td>\n",
       "      <td>0</td>\n",
       "      <td>0</td>\n",
       "      <td>0</td>\n",
       "      <td>...</td>\n",
       "      <td>0</td>\n",
       "      <td>1</td>\n",
       "      <td>0</td>\n",
       "      <td>0</td>\n",
       "      <td>0</td>\n",
       "      <td>0</td>\n",
       "      <td>0</td>\n",
       "      <td>0</td>\n",
       "      <td>1</td>\n",
       "      <td>0</td>\n",
       "    </tr>\n",
       "    <tr>\n",
       "      <th>63798</th>\n",
       "      <td>1</td>\n",
       "      <td>1</td>\n",
       "      <td>0</td>\n",
       "      <td>0</td>\n",
       "      <td>0</td>\n",
       "      <td>0</td>\n",
       "      <td>0</td>\n",
       "      <td>0</td>\n",
       "      <td>0</td>\n",
       "      <td>0</td>\n",
       "      <td>...</td>\n",
       "      <td>0</td>\n",
       "      <td>0</td>\n",
       "      <td>0</td>\n",
       "      <td>0</td>\n",
       "      <td>0</td>\n",
       "      <td>0</td>\n",
       "      <td>1</td>\n",
       "      <td>0</td>\n",
       "      <td>0</td>\n",
       "      <td>0</td>\n",
       "    </tr>\n",
       "    <tr>\n",
       "      <th>63799</th>\n",
       "      <td>1</td>\n",
       "      <td>1</td>\n",
       "      <td>0</td>\n",
       "      <td>0</td>\n",
       "      <td>0</td>\n",
       "      <td>0</td>\n",
       "      <td>0</td>\n",
       "      <td>0</td>\n",
       "      <td>0</td>\n",
       "      <td>0</td>\n",
       "      <td>...</td>\n",
       "      <td>0</td>\n",
       "      <td>0</td>\n",
       "      <td>0</td>\n",
       "      <td>0</td>\n",
       "      <td>0</td>\n",
       "      <td>0</td>\n",
       "      <td>0</td>\n",
       "      <td>0</td>\n",
       "      <td>0</td>\n",
       "      <td>0</td>\n",
       "    </tr>\n",
       "  </tbody>\n",
       "</table>\n",
       "<p>63800 rows × 120 columns</p>\n",
       "</div>"
      ],
      "text/plain": [
       "       0  1  10  100  101  102  103  104  105  106  ...  90  91  92  93  94  \\\n",
       "0      0  0   0    0    0    0    0    0    0    0  ...   0   0   0   0   0   \n",
       "1      1  1   1    0    0    0    0    0    0    0  ...   0   0   1   0   0   \n",
       "2      0  0   0    0    0    0    0    0    0    0  ...   0   0   1   0   0   \n",
       "3      1  1   1    0    0    0    1    0    0    0  ...   0   0   0   0   0   \n",
       "4      1  1   0    0    0    0    0    0    0    0  ...   1   0   0   0   0   \n",
       "...   .. ..  ..  ...  ...  ...  ...  ...  ...  ...  ...  ..  ..  ..  ..  ..   \n",
       "63795  1  1   0    0    0    0    0    0    0    0  ...   0   0   0   0   0   \n",
       "63796  1  1   0    0    0    0    0    0    0    0  ...   0   0   0   0   0   \n",
       "63797  0  0   0    0    0    0    0    0    0    0  ...   0   1   0   0   0   \n",
       "63798  1  1   0    0    0    0    0    0    0    0  ...   0   0   0   0   0   \n",
       "63799  1  1   0    0    0    0    0    0    0    0  ...   0   0   0   0   0   \n",
       "\n",
       "       95  96  97  98  99  \n",
       "0       0   1   0   0   0  \n",
       "1       1   0   0   1   0  \n",
       "2       0   0   0   0   1  \n",
       "3       0   0   0   0   0  \n",
       "4       0   1   0   0   0  \n",
       "...    ..  ..  ..  ..  ..  \n",
       "63795   0   1   0   0   0  \n",
       "63796   0   0   0   0   0  \n",
       "63797   0   0   0   1   0  \n",
       "63798   0   1   0   0   0  \n",
       "63799   0   0   0   0   0  \n",
       "\n",
       "[63800 rows x 120 columns]"
      ]
     },
     "execution_count": 78,
     "metadata": {},
     "output_type": "execute_result"
    }
   ],
   "source": [
    "s"
   ]
  },
  {
   "cell_type": "code",
   "execution_count": 79,
   "metadata": {},
   "outputs": [
    {
     "data": {
      "text/html": [
       "<div>\n",
       "<style scoped>\n",
       "    .dataframe tbody tr th:only-of-type {\n",
       "        vertical-align: middle;\n",
       "    }\n",
       "\n",
       "    .dataframe tbody tr th {\n",
       "        vertical-align: top;\n",
       "    }\n",
       "\n",
       "    .dataframe thead th {\n",
       "        text-align: right;\n",
       "    }\n",
       "</style>\n",
       "<table border=\"1\" class=\"dataframe\">\n",
       "  <thead>\n",
       "    <tr style=\"text-align: right;\">\n",
       "      <th></th>\n",
       "      <th>name</th>\n",
       "      <th>fos</th>\n",
       "      <th>title</th>\n",
       "      <th>key</th>\n",
       "      <th>sortedkey</th>\n",
       "      <th>FOS_BEST</th>\n",
       "    </tr>\n",
       "  </thead>\n",
       "  <tbody>\n",
       "    <tr>\n",
       "      <th>0</th>\n",
       "      <td>A Aart Blokhuis</td>\n",
       "      <td>Discrete mathematics:0.4204095:Combinatorics:0...</td>\n",
       "      <td>Bounds for the size of radar arrays</td>\n",
       "      <td>{'Matrix (mathematics)': ['0.4815577'], 'Radar...</td>\n",
       "      <td>{'Matrix (mathematics)': ['0.4815577'], 'Radar...</td>\n",
       "      <td>[Matrix (mathematics), Radar, Inequality, Comb...</td>\n",
       "    </tr>\n",
       "    <tr>\n",
       "      <th>1</th>\n",
       "      <td>A Alejandro Montes Garcia</td>\n",
       "      <td>Empirical research:0.471031338:Cluster analysi...</td>\n",
       "      <td>Effects of Evolutionary Linguistics in Text Cl...</td>\n",
       "      <td>{'Cluster analysis': ['0.547445059'], 'Evoluti...</td>\n",
       "      <td>{'Cluster analysis': ['0.547445059'], 'Evoluti...</td>\n",
       "      <td>[Cluster analysis, Evolutionary linguistics, E...</td>\n",
       "    </tr>\n",
       "    <tr>\n",
       "      <th>2</th>\n",
       "      <td>A Anne Rozinat</td>\n",
       "      <td>Versa:0.441023469:Business process:0.4714488:T...</td>\n",
       "      <td>Conformance testing : Measuring the fit and ap...</td>\n",
       "      <td>{'Transaction log': ['0.555015'], 'Conformance...</td>\n",
       "      <td>{'Transaction log': ['0.555015'], 'Conformance...</td>\n",
       "      <td>[Transaction log, Conformance testing, Referen...</td>\n",
       "    </tr>\n",
       "    <tr>\n",
       "      <th>3</th>\n",
       "      <td>A Arakala</td>\n",
       "      <td>Biometrics:0.4345782:Minutiae:0.700131357:Fing...</td>\n",
       "      <td>Fuzzy extractors for minutiae-based fingerprin...</td>\n",
       "      <td>{'Minutiae': ['0.700131357'], 'Fingerprint rec...</td>\n",
       "      <td>{'Minutiae': ['0.700131357'], 'Fingerprint rec...</td>\n",
       "      <td>[Minutiae, Fingerprint recognition, Authentica...</td>\n",
       "    </tr>\n",
       "    <tr>\n",
       "      <th>4</th>\n",
       "      <td>A Campilho</td>\n",
       "      <td>Image segmentation:0.619028568:Discrete mathem...</td>\n",
       "      <td>Automatic image segmentation using a deformabl...</td>\n",
       "      <td>{'Image segmentation': ['0.619028568'], 'Class...</td>\n",
       "      <td>{'Image segmentation': ['0.619028568'], 'Class...</td>\n",
       "      <td>[Image segmentation, Classical electromagnetis...</td>\n",
       "    </tr>\n",
       "  </tbody>\n",
       "</table>\n",
       "</div>"
      ],
      "text/plain": [
       "                        name  \\\n",
       "0            A Aart Blokhuis   \n",
       "1  A Alejandro Montes Garcia   \n",
       "2             A Anne Rozinat   \n",
       "3                  A Arakala   \n",
       "4                 A Campilho   \n",
       "\n",
       "                                                 fos  \\\n",
       "0  Discrete mathematics:0.4204095:Combinatorics:0...   \n",
       "1  Empirical research:0.471031338:Cluster analysi...   \n",
       "2  Versa:0.441023469:Business process:0.4714488:T...   \n",
       "3  Biometrics:0.4345782:Minutiae:0.700131357:Fing...   \n",
       "4  Image segmentation:0.619028568:Discrete mathem...   \n",
       "\n",
       "                                               title  \\\n",
       "0                Bounds for the size of radar arrays   \n",
       "1  Effects of Evolutionary Linguistics in Text Cl...   \n",
       "2  Conformance testing : Measuring the fit and ap...   \n",
       "3  Fuzzy extractors for minutiae-based fingerprin...   \n",
       "4  Automatic image segmentation using a deformabl...   \n",
       "\n",
       "                                                 key  \\\n",
       "0  {'Matrix (mathematics)': ['0.4815577'], 'Radar...   \n",
       "1  {'Cluster analysis': ['0.547445059'], 'Evoluti...   \n",
       "2  {'Transaction log': ['0.555015'], 'Conformance...   \n",
       "3  {'Minutiae': ['0.700131357'], 'Fingerprint rec...   \n",
       "4  {'Image segmentation': ['0.619028568'], 'Class...   \n",
       "\n",
       "                                           sortedkey  \\\n",
       "0  {'Matrix (mathematics)': ['0.4815577'], 'Radar...   \n",
       "1  {'Cluster analysis': ['0.547445059'], 'Evoluti...   \n",
       "2  {'Transaction log': ['0.555015'], 'Conformance...   \n",
       "3  {'Minutiae': ['0.700131357'], 'Fingerprint rec...   \n",
       "4  {'Image segmentation': ['0.619028568'], 'Class...   \n",
       "\n",
       "                                            FOS_BEST  \n",
       "0  [Matrix (mathematics), Radar, Inequality, Comb...  \n",
       "1  [Cluster analysis, Evolutionary linguistics, E...  \n",
       "2  [Transaction log, Conformance testing, Referen...  \n",
       "3  [Minutiae, Fingerprint recognition, Authentica...  \n",
       "4  [Image segmentation, Classical electromagnetis...  "
      ]
     },
     "execution_count": 79,
     "metadata": {},
     "output_type": "execute_result"
    }
   ],
   "source": [
    "fos_dff.head()"
   ]
  },
  {
   "cell_type": "code",
   "execution_count": 80,
   "metadata": {},
   "outputs": [
    {
     "data": {
      "text/html": [
       "<div>\n",
       "<style scoped>\n",
       "    .dataframe tbody tr th:only-of-type {\n",
       "        vertical-align: middle;\n",
       "    }\n",
       "\n",
       "    .dataframe tbody tr th {\n",
       "        vertical-align: top;\n",
       "    }\n",
       "\n",
       "    .dataframe thead th {\n",
       "        text-align: right;\n",
       "    }\n",
       "</style>\n",
       "<table border=\"1\" class=\"dataframe\">\n",
       "  <thead>\n",
       "    <tr style=\"text-align: right;\">\n",
       "      <th></th>\n",
       "      <th>name</th>\n",
       "    </tr>\n",
       "  </thead>\n",
       "  <tbody>\n",
       "    <tr>\n",
       "      <th>0</th>\n",
       "      <td>A Aart Blokhuis</td>\n",
       "    </tr>\n",
       "    <tr>\n",
       "      <th>1</th>\n",
       "      <td>A Alejandro Montes Garcia</td>\n",
       "    </tr>\n",
       "    <tr>\n",
       "      <th>2</th>\n",
       "      <td>A Anne Rozinat</td>\n",
       "    </tr>\n",
       "    <tr>\n",
       "      <th>3</th>\n",
       "      <td>A Arakala</td>\n",
       "    </tr>\n",
       "    <tr>\n",
       "      <th>4</th>\n",
       "      <td>A Campilho</td>\n",
       "    </tr>\n",
       "  </tbody>\n",
       "</table>\n",
       "</div>"
      ],
      "text/plain": [
       "                        name\n",
       "0            A Aart Blokhuis\n",
       "1  A Alejandro Montes Garcia\n",
       "2             A Anne Rozinat\n",
       "3                  A Arakala\n",
       "4                 A Campilho"
      ]
     },
     "execution_count": 80,
     "metadata": {},
     "output_type": "execute_result"
    }
   ],
   "source": [
    "fos_dff.drop(columns=[\"fos\", \"title\", \"key\", \"sortedkey\", \"FOS_BEST\"], axis=1, inplace=True)\n",
    "fos_dff.head()"
   ]
  },
  {
   "cell_type": "code",
   "execution_count": 81,
   "metadata": {},
   "outputs": [],
   "source": [
    "horizontal_feature = pd.concat([fos_dff, s], axis=1)"
   ]
  },
  {
   "cell_type": "code",
   "execution_count": 82,
   "metadata": {},
   "outputs": [
    {
     "data": {
      "text/html": [
       "<div>\n",
       "<style scoped>\n",
       "    .dataframe tbody tr th:only-of-type {\n",
       "        vertical-align: middle;\n",
       "    }\n",
       "\n",
       "    .dataframe tbody tr th {\n",
       "        vertical-align: top;\n",
       "    }\n",
       "\n",
       "    .dataframe thead th {\n",
       "        text-align: right;\n",
       "    }\n",
       "</style>\n",
       "<table border=\"1\" class=\"dataframe\">\n",
       "  <thead>\n",
       "    <tr style=\"text-align: right;\">\n",
       "      <th></th>\n",
       "      <th>name</th>\n",
       "      <th>0</th>\n",
       "      <th>1</th>\n",
       "      <th>10</th>\n",
       "      <th>100</th>\n",
       "      <th>101</th>\n",
       "      <th>102</th>\n",
       "      <th>103</th>\n",
       "      <th>104</th>\n",
       "      <th>105</th>\n",
       "      <th>...</th>\n",
       "      <th>90</th>\n",
       "      <th>91</th>\n",
       "      <th>92</th>\n",
       "      <th>93</th>\n",
       "      <th>94</th>\n",
       "      <th>95</th>\n",
       "      <th>96</th>\n",
       "      <th>97</th>\n",
       "      <th>98</th>\n",
       "      <th>99</th>\n",
       "    </tr>\n",
       "  </thead>\n",
       "  <tbody>\n",
       "    <tr>\n",
       "      <th>0</th>\n",
       "      <td>A Aart Blokhuis</td>\n",
       "      <td>0</td>\n",
       "      <td>0</td>\n",
       "      <td>0</td>\n",
       "      <td>0</td>\n",
       "      <td>0</td>\n",
       "      <td>0</td>\n",
       "      <td>0</td>\n",
       "      <td>0</td>\n",
       "      <td>0</td>\n",
       "      <td>...</td>\n",
       "      <td>0</td>\n",
       "      <td>0</td>\n",
       "      <td>0</td>\n",
       "      <td>0</td>\n",
       "      <td>0</td>\n",
       "      <td>0</td>\n",
       "      <td>1</td>\n",
       "      <td>0</td>\n",
       "      <td>0</td>\n",
       "      <td>0</td>\n",
       "    </tr>\n",
       "    <tr>\n",
       "      <th>1</th>\n",
       "      <td>A Alejandro Montes Garcia</td>\n",
       "      <td>1</td>\n",
       "      <td>1</td>\n",
       "      <td>1</td>\n",
       "      <td>0</td>\n",
       "      <td>0</td>\n",
       "      <td>0</td>\n",
       "      <td>0</td>\n",
       "      <td>0</td>\n",
       "      <td>0</td>\n",
       "      <td>...</td>\n",
       "      <td>0</td>\n",
       "      <td>0</td>\n",
       "      <td>1</td>\n",
       "      <td>0</td>\n",
       "      <td>0</td>\n",
       "      <td>1</td>\n",
       "      <td>0</td>\n",
       "      <td>0</td>\n",
       "      <td>1</td>\n",
       "      <td>0</td>\n",
       "    </tr>\n",
       "    <tr>\n",
       "      <th>2</th>\n",
       "      <td>A Anne Rozinat</td>\n",
       "      <td>0</td>\n",
       "      <td>0</td>\n",
       "      <td>0</td>\n",
       "      <td>0</td>\n",
       "      <td>0</td>\n",
       "      <td>0</td>\n",
       "      <td>0</td>\n",
       "      <td>0</td>\n",
       "      <td>0</td>\n",
       "      <td>...</td>\n",
       "      <td>0</td>\n",
       "      <td>0</td>\n",
       "      <td>1</td>\n",
       "      <td>0</td>\n",
       "      <td>0</td>\n",
       "      <td>0</td>\n",
       "      <td>0</td>\n",
       "      <td>0</td>\n",
       "      <td>0</td>\n",
       "      <td>1</td>\n",
       "    </tr>\n",
       "    <tr>\n",
       "      <th>3</th>\n",
       "      <td>A Arakala</td>\n",
       "      <td>1</td>\n",
       "      <td>1</td>\n",
       "      <td>1</td>\n",
       "      <td>0</td>\n",
       "      <td>0</td>\n",
       "      <td>0</td>\n",
       "      <td>1</td>\n",
       "      <td>0</td>\n",
       "      <td>0</td>\n",
       "      <td>...</td>\n",
       "      <td>0</td>\n",
       "      <td>0</td>\n",
       "      <td>0</td>\n",
       "      <td>0</td>\n",
       "      <td>0</td>\n",
       "      <td>0</td>\n",
       "      <td>0</td>\n",
       "      <td>0</td>\n",
       "      <td>0</td>\n",
       "      <td>0</td>\n",
       "    </tr>\n",
       "    <tr>\n",
       "      <th>4</th>\n",
       "      <td>A Campilho</td>\n",
       "      <td>1</td>\n",
       "      <td>1</td>\n",
       "      <td>0</td>\n",
       "      <td>0</td>\n",
       "      <td>0</td>\n",
       "      <td>0</td>\n",
       "      <td>0</td>\n",
       "      <td>0</td>\n",
       "      <td>0</td>\n",
       "      <td>...</td>\n",
       "      <td>1</td>\n",
       "      <td>0</td>\n",
       "      <td>0</td>\n",
       "      <td>0</td>\n",
       "      <td>0</td>\n",
       "      <td>0</td>\n",
       "      <td>1</td>\n",
       "      <td>0</td>\n",
       "      <td>0</td>\n",
       "      <td>0</td>\n",
       "    </tr>\n",
       "    <tr>\n",
       "      <th>5</th>\n",
       "      <td>A Hammers</td>\n",
       "      <td>1</td>\n",
       "      <td>1</td>\n",
       "      <td>0</td>\n",
       "      <td>0</td>\n",
       "      <td>0</td>\n",
       "      <td>0</td>\n",
       "      <td>0</td>\n",
       "      <td>0</td>\n",
       "      <td>0</td>\n",
       "      <td>...</td>\n",
       "      <td>0</td>\n",
       "      <td>0</td>\n",
       "      <td>0</td>\n",
       "      <td>0</td>\n",
       "      <td>0</td>\n",
       "      <td>0</td>\n",
       "      <td>0</td>\n",
       "      <td>0</td>\n",
       "      <td>0</td>\n",
       "      <td>0</td>\n",
       "    </tr>\n",
       "    <tr>\n",
       "      <th>6</th>\n",
       "      <td>A Jakoby</td>\n",
       "      <td>1</td>\n",
       "      <td>1</td>\n",
       "      <td>0</td>\n",
       "      <td>0</td>\n",
       "      <td>0</td>\n",
       "      <td>0</td>\n",
       "      <td>0</td>\n",
       "      <td>0</td>\n",
       "      <td>0</td>\n",
       "      <td>...</td>\n",
       "      <td>1</td>\n",
       "      <td>0</td>\n",
       "      <td>0</td>\n",
       "      <td>0</td>\n",
       "      <td>0</td>\n",
       "      <td>0</td>\n",
       "      <td>1</td>\n",
       "      <td>0</td>\n",
       "      <td>0</td>\n",
       "      <td>0</td>\n",
       "    </tr>\n",
       "    <tr>\n",
       "      <th>7</th>\n",
       "      <td>A Kaptein</td>\n",
       "      <td>1</td>\n",
       "      <td>1</td>\n",
       "      <td>0</td>\n",
       "      <td>0</td>\n",
       "      <td>0</td>\n",
       "      <td>0</td>\n",
       "      <td>0</td>\n",
       "      <td>0</td>\n",
       "      <td>0</td>\n",
       "      <td>...</td>\n",
       "      <td>0</td>\n",
       "      <td>0</td>\n",
       "      <td>0</td>\n",
       "      <td>0</td>\n",
       "      <td>0</td>\n",
       "      <td>0</td>\n",
       "      <td>0</td>\n",
       "      <td>0</td>\n",
       "      <td>0</td>\n",
       "      <td>0</td>\n",
       "    </tr>\n",
       "    <tr>\n",
       "      <th>8</th>\n",
       "      <td>A Leonardis</td>\n",
       "      <td>1</td>\n",
       "      <td>1</td>\n",
       "      <td>0</td>\n",
       "      <td>0</td>\n",
       "      <td>0</td>\n",
       "      <td>0</td>\n",
       "      <td>0</td>\n",
       "      <td>0</td>\n",
       "      <td>0</td>\n",
       "      <td>...</td>\n",
       "      <td>1</td>\n",
       "      <td>0</td>\n",
       "      <td>0</td>\n",
       "      <td>0</td>\n",
       "      <td>0</td>\n",
       "      <td>0</td>\n",
       "      <td>0</td>\n",
       "      <td>0</td>\n",
       "      <td>0</td>\n",
       "      <td>0</td>\n",
       "    </tr>\n",
       "    <tr>\n",
       "      <th>9</th>\n",
       "      <td>A Min Tjoa</td>\n",
       "      <td>0</td>\n",
       "      <td>0</td>\n",
       "      <td>0</td>\n",
       "      <td>0</td>\n",
       "      <td>0</td>\n",
       "      <td>0</td>\n",
       "      <td>0</td>\n",
       "      <td>0</td>\n",
       "      <td>0</td>\n",
       "      <td>...</td>\n",
       "      <td>0</td>\n",
       "      <td>0</td>\n",
       "      <td>0</td>\n",
       "      <td>0</td>\n",
       "      <td>0</td>\n",
       "      <td>0</td>\n",
       "      <td>0</td>\n",
       "      <td>0</td>\n",
       "      <td>0</td>\n",
       "      <td>0</td>\n",
       "    </tr>\n",
       "  </tbody>\n",
       "</table>\n",
       "<p>10 rows × 121 columns</p>\n",
       "</div>"
      ],
      "text/plain": [
       "                        name  0  1  10  100  101  102  103  104  105  ...  90  \\\n",
       "0            A Aart Blokhuis  0  0   0    0    0    0    0    0    0  ...   0   \n",
       "1  A Alejandro Montes Garcia  1  1   1    0    0    0    0    0    0  ...   0   \n",
       "2             A Anne Rozinat  0  0   0    0    0    0    0    0    0  ...   0   \n",
       "3                  A Arakala  1  1   1    0    0    0    1    0    0  ...   0   \n",
       "4                 A Campilho  1  1   0    0    0    0    0    0    0  ...   1   \n",
       "5                  A Hammers  1  1   0    0    0    0    0    0    0  ...   0   \n",
       "6                   A Jakoby  1  1   0    0    0    0    0    0    0  ...   1   \n",
       "7                  A Kaptein  1  1   0    0    0    0    0    0    0  ...   0   \n",
       "8                A Leonardis  1  1   0    0    0    0    0    0    0  ...   1   \n",
       "9                 A Min Tjoa  0  0   0    0    0    0    0    0    0  ...   0   \n",
       "\n",
       "   91  92  93  94  95  96  97  98  99  \n",
       "0   0   0   0   0   0   1   0   0   0  \n",
       "1   0   1   0   0   1   0   0   1   0  \n",
       "2   0   1   0   0   0   0   0   0   1  \n",
       "3   0   0   0   0   0   0   0   0   0  \n",
       "4   0   0   0   0   0   1   0   0   0  \n",
       "5   0   0   0   0   0   0   0   0   0  \n",
       "6   0   0   0   0   0   1   0   0   0  \n",
       "7   0   0   0   0   0   0   0   0   0  \n",
       "8   0   0   0   0   0   0   0   0   0  \n",
       "9   0   0   0   0   0   0   0   0   0  \n",
       "\n",
       "[10 rows x 121 columns]"
      ]
     },
     "execution_count": 82,
     "metadata": {},
     "output_type": "execute_result"
    }
   ],
   "source": [
    "horizontal_feature.head(10)"
   ]
  },
  {
   "cell_type": "code",
   "execution_count": 83,
   "metadata": {},
   "outputs": [
    {
     "data": {
      "text/plain": [
       "(63800, 121)"
      ]
     },
     "execution_count": 83,
     "metadata": {},
     "output_type": "execute_result"
    }
   ],
   "source": [
    "horizontal_feature.shape"
   ]
  },
  {
   "cell_type": "code",
   "execution_count": 84,
   "metadata": {},
   "outputs": [],
   "source": [
    "import gc"
   ]
  },
  {
   "cell_type": "code",
   "execution_count": 85,
   "metadata": {},
   "outputs": [
    {
     "data": {
      "text/plain": [
       "45"
      ]
     },
     "execution_count": 85,
     "metadata": {},
     "output_type": "execute_result"
    }
   ],
   "source": [
    "del fos_dff\n",
    "del s\n",
    "gc.collect()"
   ]
  },
  {
   "cell_type": "code",
   "execution_count": 86,
   "metadata": {},
   "outputs": [],
   "source": [
    "horizontal_feature['name'] = horizontal_feature['name'].apply(lambda x: dic_authors[x])"
   ]
  },
  {
   "cell_type": "code",
   "execution_count": 87,
   "metadata": {},
   "outputs": [
    {
     "data": {
      "text/html": [
       "<div>\n",
       "<style scoped>\n",
       "    .dataframe tbody tr th:only-of-type {\n",
       "        vertical-align: middle;\n",
       "    }\n",
       "\n",
       "    .dataframe tbody tr th {\n",
       "        vertical-align: top;\n",
       "    }\n",
       "\n",
       "    .dataframe thead th {\n",
       "        text-align: right;\n",
       "    }\n",
       "</style>\n",
       "<table border=\"1\" class=\"dataframe\">\n",
       "  <thead>\n",
       "    <tr style=\"text-align: right;\">\n",
       "      <th></th>\n",
       "      <th>name</th>\n",
       "      <th>0</th>\n",
       "      <th>1</th>\n",
       "      <th>10</th>\n",
       "      <th>100</th>\n",
       "      <th>101</th>\n",
       "      <th>102</th>\n",
       "      <th>103</th>\n",
       "      <th>104</th>\n",
       "      <th>105</th>\n",
       "      <th>...</th>\n",
       "      <th>90</th>\n",
       "      <th>91</th>\n",
       "      <th>92</th>\n",
       "      <th>93</th>\n",
       "      <th>94</th>\n",
       "      <th>95</th>\n",
       "      <th>96</th>\n",
       "      <th>97</th>\n",
       "      <th>98</th>\n",
       "      <th>99</th>\n",
       "    </tr>\n",
       "  </thead>\n",
       "  <tbody>\n",
       "    <tr>\n",
       "      <th>0</th>\n",
       "      <td>26121</td>\n",
       "      <td>0</td>\n",
       "      <td>0</td>\n",
       "      <td>0</td>\n",
       "      <td>0</td>\n",
       "      <td>0</td>\n",
       "      <td>0</td>\n",
       "      <td>0</td>\n",
       "      <td>0</td>\n",
       "      <td>0</td>\n",
       "      <td>...</td>\n",
       "      <td>0</td>\n",
       "      <td>0</td>\n",
       "      <td>0</td>\n",
       "      <td>0</td>\n",
       "      <td>0</td>\n",
       "      <td>0</td>\n",
       "      <td>1</td>\n",
       "      <td>0</td>\n",
       "      <td>0</td>\n",
       "      <td>0</td>\n",
       "    </tr>\n",
       "    <tr>\n",
       "      <th>1</th>\n",
       "      <td>34806</td>\n",
       "      <td>1</td>\n",
       "      <td>1</td>\n",
       "      <td>1</td>\n",
       "      <td>0</td>\n",
       "      <td>0</td>\n",
       "      <td>0</td>\n",
       "      <td>0</td>\n",
       "      <td>0</td>\n",
       "      <td>0</td>\n",
       "      <td>...</td>\n",
       "      <td>0</td>\n",
       "      <td>0</td>\n",
       "      <td>1</td>\n",
       "      <td>0</td>\n",
       "      <td>0</td>\n",
       "      <td>1</td>\n",
       "      <td>0</td>\n",
       "      <td>0</td>\n",
       "      <td>1</td>\n",
       "      <td>0</td>\n",
       "    </tr>\n",
       "    <tr>\n",
       "      <th>2</th>\n",
       "      <td>35266</td>\n",
       "      <td>0</td>\n",
       "      <td>0</td>\n",
       "      <td>0</td>\n",
       "      <td>0</td>\n",
       "      <td>0</td>\n",
       "      <td>0</td>\n",
       "      <td>0</td>\n",
       "      <td>0</td>\n",
       "      <td>0</td>\n",
       "      <td>...</td>\n",
       "      <td>0</td>\n",
       "      <td>0</td>\n",
       "      <td>1</td>\n",
       "      <td>0</td>\n",
       "      <td>0</td>\n",
       "      <td>0</td>\n",
       "      <td>0</td>\n",
       "      <td>0</td>\n",
       "      <td>0</td>\n",
       "      <td>1</td>\n",
       "    </tr>\n",
       "    <tr>\n",
       "      <th>3</th>\n",
       "      <td>3338</td>\n",
       "      <td>1</td>\n",
       "      <td>1</td>\n",
       "      <td>1</td>\n",
       "      <td>0</td>\n",
       "      <td>0</td>\n",
       "      <td>0</td>\n",
       "      <td>1</td>\n",
       "      <td>0</td>\n",
       "      <td>0</td>\n",
       "      <td>...</td>\n",
       "      <td>0</td>\n",
       "      <td>0</td>\n",
       "      <td>0</td>\n",
       "      <td>0</td>\n",
       "      <td>0</td>\n",
       "      <td>0</td>\n",
       "      <td>0</td>\n",
       "      <td>0</td>\n",
       "      <td>0</td>\n",
       "      <td>0</td>\n",
       "    </tr>\n",
       "    <tr>\n",
       "      <th>4</th>\n",
       "      <td>61889</td>\n",
       "      <td>1</td>\n",
       "      <td>1</td>\n",
       "      <td>0</td>\n",
       "      <td>0</td>\n",
       "      <td>0</td>\n",
       "      <td>0</td>\n",
       "      <td>0</td>\n",
       "      <td>0</td>\n",
       "      <td>0</td>\n",
       "      <td>...</td>\n",
       "      <td>1</td>\n",
       "      <td>0</td>\n",
       "      <td>0</td>\n",
       "      <td>0</td>\n",
       "      <td>0</td>\n",
       "      <td>0</td>\n",
       "      <td>1</td>\n",
       "      <td>0</td>\n",
       "      <td>0</td>\n",
       "      <td>0</td>\n",
       "    </tr>\n",
       "  </tbody>\n",
       "</table>\n",
       "<p>5 rows × 121 columns</p>\n",
       "</div>"
      ],
      "text/plain": [
       "    name  0  1  10  100  101  102  103  104  105  ...  90  91  92  93  94  95  \\\n",
       "0  26121  0  0   0    0    0    0    0    0    0  ...   0   0   0   0   0   0   \n",
       "1  34806  1  1   1    0    0    0    0    0    0  ...   0   0   1   0   0   1   \n",
       "2  35266  0  0   0    0    0    0    0    0    0  ...   0   0   1   0   0   0   \n",
       "3   3338  1  1   1    0    0    0    1    0    0  ...   0   0   0   0   0   0   \n",
       "4  61889  1  1   0    0    0    0    0    0    0  ...   1   0   0   0   0   0   \n",
       "\n",
       "   96  97  98  99  \n",
       "0   1   0   0   0  \n",
       "1   0   0   1   0  \n",
       "2   0   0   0   1  \n",
       "3   0   0   0   0  \n",
       "4   1   0   0   0  \n",
       "\n",
       "[5 rows x 121 columns]"
      ]
     },
     "execution_count": 87,
     "metadata": {},
     "output_type": "execute_result"
    }
   ],
   "source": [
    "horizontal_feature.head()"
   ]
  },
  {
   "cell_type": "code",
   "execution_count": 88,
   "metadata": {},
   "outputs": [
    {
     "name": "stderr",
     "output_type": "stream",
     "text": [
      "100%|█████████████████████████████████████████████████████████████████████████| 63800/63800 [00:04<00:00, 15252.83it/s]\n"
     ]
    },
    {
     "data": {
      "text/plain": [
       "489"
      ]
     },
     "execution_count": 88,
     "metadata": {},
     "output_type": "execute_result"
    }
   ],
   "source": [
    "# Add features from feat df\n",
    "cited_colab_feat = pd.DataFrame()\n",
    "cited_colab_feat['cited_colabs'] = feat['cited_colabs']\n",
    "horizontal_feature['cited_colabs'] = feat['cited_colabs']\n",
    "for i in tqdm(range(len(horizontal_feature))):\n",
    "  cited_colab_feat['cited_colabs'][i] = feat['cited_colabs'][horizontal_feature['name'][i]]\n",
    "\n",
    "horizontal_feature['cited_colabs'] = cited_colab_feat['cited_colabs']\n",
    "len(horizontal_feature['cited_colabs'].drop_duplicates())"
   ]
  },
  {
   "cell_type": "code",
   "execution_count": 89,
   "metadata": {},
   "outputs": [
    {
     "name": "stderr",
     "output_type": "stream",
     "text": [
      "100%|█████████████████████████████████████████████████████████████████████████| 63800/63800 [00:03<00:00, 15964.63it/s]\n"
     ]
    },
    {
     "data": {
      "text/plain": [
       "108"
      ]
     },
     "execution_count": 89,
     "metadata": {},
     "output_type": "execute_result"
    }
   ],
   "source": [
    "# Add features from feat df\n",
    "dir_colab_feat = pd.DataFrame()\n",
    "dir_colab_feat['dir_colabs'] = feat['dir_colabs']\n",
    "horizontal_feature['dir_colabs'] = feat['dir_colabs']\n",
    "for i in tqdm(range(len(horizontal_feature))):\n",
    "  dir_colab_feat['dir_colabs'][i] = feat['dir_colabs'][horizontal_feature['name'][i]]\n",
    "\n",
    "horizontal_feature['dir_colabs'] = dir_colab_feat['dir_colabs']\n",
    "len(horizontal_feature['dir_colabs'].drop_duplicates())"
   ]
  },
  {
   "cell_type": "code",
   "execution_count": 90,
   "metadata": {},
   "outputs": [],
   "source": [
    "horizontal_feature.set_index(\"name\", inplace=True)"
   ]
  },
  {
   "cell_type": "code",
   "execution_count": 91,
   "metadata": {},
   "outputs": [
    {
     "data": {
      "text/html": [
       "<div>\n",
       "<style scoped>\n",
       "    .dataframe tbody tr th:only-of-type {\n",
       "        vertical-align: middle;\n",
       "    }\n",
       "\n",
       "    .dataframe tbody tr th {\n",
       "        vertical-align: top;\n",
       "    }\n",
       "\n",
       "    .dataframe thead th {\n",
       "        text-align: right;\n",
       "    }\n",
       "</style>\n",
       "<table border=\"1\" class=\"dataframe\">\n",
       "  <thead>\n",
       "    <tr style=\"text-align: right;\">\n",
       "      <th></th>\n",
       "      <th>0</th>\n",
       "      <th>1</th>\n",
       "      <th>10</th>\n",
       "      <th>100</th>\n",
       "      <th>101</th>\n",
       "      <th>102</th>\n",
       "      <th>103</th>\n",
       "      <th>104</th>\n",
       "      <th>105</th>\n",
       "      <th>106</th>\n",
       "      <th>...</th>\n",
       "      <th>92</th>\n",
       "      <th>93</th>\n",
       "      <th>94</th>\n",
       "      <th>95</th>\n",
       "      <th>96</th>\n",
       "      <th>97</th>\n",
       "      <th>98</th>\n",
       "      <th>99</th>\n",
       "      <th>cited_colabs</th>\n",
       "      <th>dir_colabs</th>\n",
       "    </tr>\n",
       "    <tr>\n",
       "      <th>name</th>\n",
       "      <th></th>\n",
       "      <th></th>\n",
       "      <th></th>\n",
       "      <th></th>\n",
       "      <th></th>\n",
       "      <th></th>\n",
       "      <th></th>\n",
       "      <th></th>\n",
       "      <th></th>\n",
       "      <th></th>\n",
       "      <th></th>\n",
       "      <th></th>\n",
       "      <th></th>\n",
       "      <th></th>\n",
       "      <th></th>\n",
       "      <th></th>\n",
       "      <th></th>\n",
       "      <th></th>\n",
       "      <th></th>\n",
       "      <th></th>\n",
       "      <th></th>\n",
       "    </tr>\n",
       "  </thead>\n",
       "  <tbody>\n",
       "    <tr>\n",
       "      <th>26121</th>\n",
       "      <td>0</td>\n",
       "      <td>0</td>\n",
       "      <td>0</td>\n",
       "      <td>0</td>\n",
       "      <td>0</td>\n",
       "      <td>0</td>\n",
       "      <td>0</td>\n",
       "      <td>0</td>\n",
       "      <td>0</td>\n",
       "      <td>0</td>\n",
       "      <td>...</td>\n",
       "      <td>0</td>\n",
       "      <td>0</td>\n",
       "      <td>0</td>\n",
       "      <td>0</td>\n",
       "      <td>1</td>\n",
       "      <td>0</td>\n",
       "      <td>0</td>\n",
       "      <td>0</td>\n",
       "      <td>0.000497</td>\n",
       "      <td>0.004167</td>\n",
       "    </tr>\n",
       "    <tr>\n",
       "      <th>34806</th>\n",
       "      <td>1</td>\n",
       "      <td>1</td>\n",
       "      <td>1</td>\n",
       "      <td>0</td>\n",
       "      <td>0</td>\n",
       "      <td>0</td>\n",
       "      <td>0</td>\n",
       "      <td>0</td>\n",
       "      <td>0</td>\n",
       "      <td>0</td>\n",
       "      <td>...</td>\n",
       "      <td>1</td>\n",
       "      <td>0</td>\n",
       "      <td>0</td>\n",
       "      <td>1</td>\n",
       "      <td>0</td>\n",
       "      <td>0</td>\n",
       "      <td>1</td>\n",
       "      <td>0</td>\n",
       "      <td>0.000000</td>\n",
       "      <td>0.012500</td>\n",
       "    </tr>\n",
       "    <tr>\n",
       "      <th>35266</th>\n",
       "      <td>0</td>\n",
       "      <td>0</td>\n",
       "      <td>0</td>\n",
       "      <td>0</td>\n",
       "      <td>0</td>\n",
       "      <td>0</td>\n",
       "      <td>0</td>\n",
       "      <td>0</td>\n",
       "      <td>0</td>\n",
       "      <td>0</td>\n",
       "      <td>...</td>\n",
       "      <td>1</td>\n",
       "      <td>0</td>\n",
       "      <td>0</td>\n",
       "      <td>0</td>\n",
       "      <td>0</td>\n",
       "      <td>0</td>\n",
       "      <td>0</td>\n",
       "      <td>1</td>\n",
       "      <td>0.000000</td>\n",
       "      <td>0.004167</td>\n",
       "    </tr>\n",
       "    <tr>\n",
       "      <th>3338</th>\n",
       "      <td>1</td>\n",
       "      <td>1</td>\n",
       "      <td>1</td>\n",
       "      <td>0</td>\n",
       "      <td>0</td>\n",
       "      <td>0</td>\n",
       "      <td>1</td>\n",
       "      <td>0</td>\n",
       "      <td>0</td>\n",
       "      <td>0</td>\n",
       "      <td>...</td>\n",
       "      <td>0</td>\n",
       "      <td>0</td>\n",
       "      <td>0</td>\n",
       "      <td>0</td>\n",
       "      <td>0</td>\n",
       "      <td>0</td>\n",
       "      <td>0</td>\n",
       "      <td>0</td>\n",
       "      <td>0.000000</td>\n",
       "      <td>0.008333</td>\n",
       "    </tr>\n",
       "    <tr>\n",
       "      <th>61889</th>\n",
       "      <td>1</td>\n",
       "      <td>1</td>\n",
       "      <td>0</td>\n",
       "      <td>0</td>\n",
       "      <td>0</td>\n",
       "      <td>0</td>\n",
       "      <td>0</td>\n",
       "      <td>0</td>\n",
       "      <td>0</td>\n",
       "      <td>0</td>\n",
       "      <td>...</td>\n",
       "      <td>0</td>\n",
       "      <td>0</td>\n",
       "      <td>0</td>\n",
       "      <td>0</td>\n",
       "      <td>1</td>\n",
       "      <td>0</td>\n",
       "      <td>0</td>\n",
       "      <td>0</td>\n",
       "      <td>0.000000</td>\n",
       "      <td>0.016667</td>\n",
       "    </tr>\n",
       "  </tbody>\n",
       "</table>\n",
       "<p>5 rows × 122 columns</p>\n",
       "</div>"
      ],
      "text/plain": [
       "       0  1  10  100  101  102  103  104  105  106  ...  92  93  94  95  96  \\\n",
       "name                                                ...                       \n",
       "26121  0  0   0    0    0    0    0    0    0    0  ...   0   0   0   0   1   \n",
       "34806  1  1   1    0    0    0    0    0    0    0  ...   1   0   0   1   0   \n",
       "35266  0  0   0    0    0    0    0    0    0    0  ...   1   0   0   0   0   \n",
       "3338   1  1   1    0    0    0    1    0    0    0  ...   0   0   0   0   0   \n",
       "61889  1  1   0    0    0    0    0    0    0    0  ...   0   0   0   0   1   \n",
       "\n",
       "       97  98  99  cited_colabs  dir_colabs  \n",
       "name                                         \n",
       "26121   0   0   0      0.000497    0.004167  \n",
       "34806   0   1   0      0.000000    0.012500  \n",
       "35266   0   0   1      0.000000    0.004167  \n",
       "3338    0   0   0      0.000000    0.008333  \n",
       "61889   0   0   0      0.000000    0.016667  \n",
       "\n",
       "[5 rows x 122 columns]"
      ]
     },
     "execution_count": 91,
     "metadata": {},
     "output_type": "execute_result"
    }
   ],
   "source": [
    "horizontal_feature.head()"
   ]
  },
  {
   "cell_type": "code",
   "execution_count": null,
   "metadata": {},
   "outputs": [],
   "source": []
  },
  {
   "cell_type": "markdown",
   "metadata": {},
   "source": [
    "## GraphSAGE integration"
   ]
  },
  {
   "cell_type": "code",
   "execution_count": 92,
   "metadata": {},
   "outputs": [],
   "source": [
    "from stellargraph import StellarGraph"
   ]
  },
  {
   "cell_type": "code",
   "execution_count": 93,
   "metadata": {},
   "outputs": [],
   "source": [
    "# sg = StellarGraph(feat,edges=dff)\n",
    "sg = StellarGraph(horizontal_feature,edges=dff)"
   ]
  },
  {
   "cell_type": "code",
   "execution_count": 94,
   "metadata": {},
   "outputs": [
    {
     "name": "stdout",
     "output_type": "stream",
     "text": [
      "<class 'stellargraph.core.graph.StellarGraph'>\n",
      "StellarGraph: Undirected multigraph\n",
      " Nodes: 63800, Edges: 120775\n",
      "\n",
      " Node types:\n",
      "  default: [63800]\n",
      "    Features: float32 vector, length 122\n",
      "    Edge types: default-default->default\n",
      "\n",
      " Edge types:\n",
      "    default-default->default: [120775]\n",
      "        Weights: all 1 (default)\n",
      "        Features: none\n"
     ]
    }
   ],
   "source": [
    "print(type(sg))\n",
    "print(sg.info())"
   ]
  },
  {
   "cell_type": "code",
   "execution_count": 95,
   "metadata": {},
   "outputs": [],
   "source": [
    "from stellargraph.data import EdgeSplitter\n",
    "from stellargraph.mapper import GraphSAGELinkGenerator\n",
    "from stellargraph.layer import GraphSAGE, HinSAGE, link_classification"
   ]
  },
  {
   "cell_type": "code",
   "execution_count": 96,
   "metadata": {},
   "outputs": [],
   "source": [
    "edge_splitter_test = EdgeSplitter(sg)"
   ]
  },
  {
   "cell_type": "code",
   "execution_count": 97,
   "metadata": {},
   "outputs": [
    {
     "name": "stdout",
     "output_type": "stream",
     "text": [
      "** Sampled 12077 positive and 12077 negative edges. **\n"
     ]
    }
   ],
   "source": [
    "G_test, edge_ids_test, edge_labels_test = edge_splitter_test.train_test_split(\n",
    "    p=0.1, method=\"global\", keep_connected=True\n",
    ")"
   ]
  },
  {
   "cell_type": "code",
   "execution_count": 98,
   "metadata": {},
   "outputs": [],
   "source": [
    "edge_splitter_val = EdgeSplitter(G_test)"
   ]
  },
  {
   "cell_type": "code",
   "execution_count": 99,
   "metadata": {},
   "outputs": [
    {
     "name": "stdout",
     "output_type": "stream",
     "text": [
      "** Sampled 10869 positive and 10869 negative edges. **\n"
     ]
    }
   ],
   "source": [
    "G_val, edge_ids_val, edge_labels_val = edge_splitter_val.train_test_split(\n",
    "    p=0.1, method=\"global\", keep_connected=True\n",
    ")"
   ]
  },
  {
   "cell_type": "code",
   "execution_count": 100,
   "metadata": {},
   "outputs": [],
   "source": [
    "edge_splitter_train = EdgeSplitter(G_val)"
   ]
  },
  {
   "cell_type": "code",
   "execution_count": 101,
   "metadata": {},
   "outputs": [
    {
     "name": "stdout",
     "output_type": "stream",
     "text": [
      "** Sampled 9782 positive and 9782 negative edges. **\n"
     ]
    }
   ],
   "source": [
    "G_train, edge_ids_train, edge_labels_train = edge_splitter_train.train_test_split(\n",
    "    p=0.1, method=\"global\", keep_connected=True\n",
    ")"
   ]
  },
  {
   "cell_type": "code",
   "execution_count": null,
   "metadata": {},
   "outputs": [],
   "source": []
  },
  {
   "cell_type": "code",
   "execution_count": 102,
   "metadata": {},
   "outputs": [
    {
     "name": "stdout",
     "output_type": "stream",
     "text": [
      "StellarGraph: Undirected multigraph\n",
      " Nodes: 63800, Edges: 88047\n",
      "\n",
      " Node types:\n",
      "  default: [63800]\n",
      "    Features: float32 vector, length 122\n",
      "    Edge types: default-default->default\n",
      "\n",
      " Edge types:\n",
      "    default-default->default: [88047]\n",
      "        Weights: all 1 (default)\n",
      "        Features: none\n"
     ]
    }
   ],
   "source": [
    "print(G_train.info())"
   ]
  },
  {
   "cell_type": "code",
   "execution_count": 103,
   "metadata": {},
   "outputs": [
    {
     "name": "stdout",
     "output_type": "stream",
     "text": [
      "StellarGraph: Undirected multigraph\n",
      " Nodes: 63800, Edges: 97829\n",
      "\n",
      " Node types:\n",
      "  default: [63800]\n",
      "    Features: float32 vector, length 122\n",
      "    Edge types: default-default->default\n",
      "\n",
      " Edge types:\n",
      "    default-default->default: [97829]\n",
      "        Weights: all 1 (default)\n",
      "        Features: none\n"
     ]
    }
   ],
   "source": [
    "print(G_val.info())"
   ]
  },
  {
   "cell_type": "code",
   "execution_count": 104,
   "metadata": {},
   "outputs": [
    {
     "name": "stdout",
     "output_type": "stream",
     "text": [
      "StellarGraph: Undirected multigraph\n",
      " Nodes: 63800, Edges: 108698\n",
      "\n",
      " Node types:\n",
      "  default: [63800]\n",
      "    Features: float32 vector, length 122\n",
      "    Edge types: default-default->default\n",
      "\n",
      " Edge types:\n",
      "    default-default->default: [108698]\n",
      "        Weights: all 1 (default)\n",
      "        Features: none\n"
     ]
    }
   ],
   "source": [
    "print(G_test.info())"
   ]
  },
  {
   "cell_type": "code",
   "execution_count": 105,
   "metadata": {},
   "outputs": [],
   "source": [
    "# len(edge_ids_test)"
   ]
  },
  {
   "cell_type": "code",
   "execution_count": 106,
   "metadata": {},
   "outputs": [],
   "source": [
    "batch_size = 20\n",
    "epochs = 40"
   ]
  },
  {
   "cell_type": "code",
   "execution_count": 107,
   "metadata": {},
   "outputs": [],
   "source": [
    "num_samples = [20, 10]"
   ]
  },
  {
   "cell_type": "code",
   "execution_count": 108,
   "metadata": {},
   "outputs": [],
   "source": [
    "train_gen = GraphSAGELinkGenerator(G_train, batch_size, num_samples)"
   ]
  },
  {
   "cell_type": "code",
   "execution_count": 109,
   "metadata": {},
   "outputs": [],
   "source": [
    "train_flow = train_gen.flow(edge_ids_train, edge_labels_train, shuffle=True)"
   ]
  },
  {
   "cell_type": "code",
   "execution_count": 110,
   "metadata": {},
   "outputs": [],
   "source": [
    "# mx = -1\n",
    "# for i in range(len(train_flow.ids)):\n",
    "#     for j in range(len(train_flow.ids[i])):\n",
    "#         mx = max(mx, train_flow.ids[i][j])\n",
    "        \n",
    "# print(mx)"
   ]
  },
  {
   "cell_type": "code",
   "execution_count": null,
   "metadata": {},
   "outputs": [],
   "source": []
  },
  {
   "cell_type": "code",
   "execution_count": 111,
   "metadata": {},
   "outputs": [],
   "source": [
    "val_gen = GraphSAGELinkGenerator(G_val, batch_size, num_samples)\n",
    "val_flow = val_gen.flow(edge_ids_val, edge_labels_val)"
   ]
  },
  {
   "cell_type": "code",
   "execution_count": 112,
   "metadata": {},
   "outputs": [],
   "source": [
    "test_gen = GraphSAGELinkGenerator(G_test, batch_size, num_samples)\n",
    "test_flow = test_gen.flow(edge_ids_test, edge_labels_test)"
   ]
  },
  {
   "cell_type": "code",
   "execution_count": 113,
   "metadata": {},
   "outputs": [],
   "source": [
    "layer_sizes = [20, 20]\n",
    "graphsage = GraphSAGE(\n",
    "    layer_sizes=layer_sizes, generator=train_gen, bias=True, dropout=0.3\n",
    ")"
   ]
  },
  {
   "cell_type": "code",
   "execution_count": 114,
   "metadata": {},
   "outputs": [],
   "source": [
    "x_inp, x_out = graphsage.in_out_tensors()"
   ]
  },
  {
   "cell_type": "code",
   "execution_count": 115,
   "metadata": {},
   "outputs": [
    {
     "name": "stdout",
     "output_type": "stream",
     "text": [
      "link_classification: using 'ip' method to combine node embeddings into edge embeddings\n"
     ]
    }
   ],
   "source": [
    "prediction = link_classification(\n",
    "    output_dim=1, output_act=\"relu\", edge_embedding_method=\"ip\"\n",
    ")(x_out)"
   ]
  },
  {
   "cell_type": "code",
   "execution_count": null,
   "metadata": {},
   "outputs": [],
   "source": []
  },
  {
   "cell_type": "code",
   "execution_count": null,
   "metadata": {},
   "outputs": [],
   "source": []
  },
  {
   "cell_type": "code",
   "execution_count": 116,
   "metadata": {},
   "outputs": [],
   "source": [
    "import tensorflow.keras as keras # DO NOT USE KERAS DIRECTLY\n",
    "from tensorflow.keras import layers, optimizers, losses, metrics, Model\n",
    "from sklearn import preprocessing, feature_extraction, model_selection"
   ]
  },
  {
   "cell_type": "code",
   "execution_count": 117,
   "metadata": {},
   "outputs": [],
   "source": [
    "model = keras.Model(inputs=x_inp, outputs=prediction)\n",
    "\n",
    "model.compile(\n",
    "    optimizer=keras.optimizers.Adam(lr=1e-4),\n",
    "    loss=keras.losses.binary_crossentropy,\n",
    "    metrics=[\"acc\"],\n",
    ")"
   ]
  },
  {
   "cell_type": "code",
   "execution_count": 118,
   "metadata": {},
   "outputs": [
    {
     "name": "stdout",
     "output_type": "stream",
     "text": [
      "979/979 [==============================] - 42s 42ms/step - loss: 0.6025 - acc: 0.6918 2s\n",
      "1087/1087 [==============================] - 45s 41ms/step - loss: 0.5861 - acc: 0.6916\n",
      "1208/1208 [==============================] - 50s 42ms/step - loss: 0.5957 - acc: 0.6930\n",
      "\n",
      "Train Set Metrics of the initial (untrained) model:\n",
      "\tloss: 0.6025\n",
      "\tacc: 0.6879\n",
      "\n",
      "Validation Set Metrics of the initial (untrained) model:\n",
      "\tloss: 0.5861\n",
      "\tacc: 0.6916\n",
      "\n",
      "Test Set Metrics of the initial (untrained) model:\n",
      "\tloss: 0.5957\n",
      "\tacc: 0.6930\n"
     ]
    }
   ],
   "source": [
    "init_train_metrics = model.evaluate(train_flow)\n",
    "init_val_metrics = model.evaluate(val_flow)\n",
    "init_test_metrics = model.evaluate(test_flow)\n",
    "\n",
    "print(\"\\nTrain Set Metrics of the initial (untrained) model:\")\n",
    "for name, val in zip(model.metrics_names, init_train_metrics):\n",
    "    print(\"\\t{}: {:0.4f}\".format(name, val))\n",
    "\n",
    "print(\"\\nValidation Set Metrics of the initial (untrained) model:\")\n",
    "for name, val in zip(model.metrics_names, init_val_metrics):\n",
    "    print(\"\\t{}: {:0.4f}\".format(name, val))\n",
    "\n",
    "print(\"\\nTest Set Metrics of the initial (untrained) model:\")\n",
    "for name, val in zip(model.metrics_names, init_test_metrics):\n",
    "    print(\"\\t{}: {:0.4f}\".format(name, val))"
   ]
  },
  {
   "cell_type": "code",
   "execution_count": 119,
   "metadata": {},
   "outputs": [
    {
     "name": "stdout",
     "output_type": "stream",
     "text": [
      "Epoch 1/40\n",
      "979/979 [==============================] - 87s 87ms/step - loss: 0.7383 - acc: 0.6673 - val_loss: 0.6010 - val_acc: 0.6611\n",
      "Epoch 2/40\n",
      "979/979 [==============================] - 81s 82ms/step - loss: 0.6546 - acc: 0.6663 - val_loss: 0.6009 - val_acc: 0.6599\n",
      "Epoch 3/40\n",
      "979/979 [==============================] - 85s 87ms/step - loss: 0.6346 - acc: 0.6751 - val_loss: 0.5745 - val_acc: 0.6837\n",
      "Epoch 4/40\n",
      "979/979 [==============================] - 88s 90ms/step - loss: 0.5986 - acc: 0.6930 - val_loss: 0.5429 - val_acc: 0.7091\n",
      "Epoch 5/40\n",
      "979/979 [==============================] - 86s 88ms/step - loss: 0.5801 - acc: 0.7116 - val_loss: 0.5187 - val_acc: 0.7297\n",
      "Epoch 6/40\n",
      "979/979 [==============================] - 88s 90ms/step - loss: 0.5460 - acc: 0.7276 - val_loss: 0.5018 - val_acc: 0.7394\n",
      "Epoch 7/40\n",
      "979/979 [==============================] - 86s 88ms/step - loss: 0.5317 - acc: 0.7360 - val_loss: 0.4684 - val_acc: 0.7636\n",
      "Epoch 8/40\n",
      "979/979 [==============================] - 89s 91ms/step - loss: 0.5179 - acc: 0.7512 - val_loss: 0.4411 - val_acc: 0.7791\n",
      "Epoch 9/40\n",
      "979/979 [==============================] - 88s 90ms/step - loss: 0.5026 - acc: 0.7642 - val_loss: 0.4206 - val_acc: 0.7918\n",
      "Epoch 10/40\n",
      "979/979 [==============================] - 88s 89ms/step - loss: 0.4803 - acc: 0.7719 - val_loss: 0.4214 - val_acc: 0.7875\n",
      "Epoch 11/40\n",
      "979/979 [==============================] - 86s 87ms/step - loss: 0.4628 - acc: 0.7833 - val_loss: 0.3999 - val_acc: 0.8034\n",
      "Epoch 12/40\n",
      "979/979 [==============================] - 86s 88ms/step - loss: 0.4525 - acc: 0.7959 - val_loss: 0.3862 - val_acc: 0.8159\n",
      "Epoch 13/40\n",
      "979/979 [==============================] - 88s 90ms/step - loss: 0.4484 - acc: 0.8043 - val_loss: 0.3736 - val_acc: 0.8261\n",
      "Epoch 14/40\n",
      "979/979 [==============================] - 89s 91ms/step - loss: 0.4351 - acc: 0.8129 - val_loss: 0.3613 - val_acc: 0.8332\n",
      "Epoch 15/40\n",
      "979/979 [==============================] - 84s 86ms/step - loss: 0.4240 - acc: 0.8209 - val_loss: 0.3547 - val_acc: 0.8417\n",
      "Epoch 16/40\n",
      "979/979 [==============================] - 83s 85ms/step - loss: 0.4122 - acc: 0.8299 - val_loss: 0.3500 - val_acc: 0.8429\n",
      "Epoch 17/40\n",
      "979/979 [==============================] - 87s 89ms/step - loss: 0.4054 - acc: 0.8331 - val_loss: 0.3401 - val_acc: 0.8470\n",
      "Epoch 18/40\n",
      "979/979 [==============================] - 86s 88ms/step - loss: 0.3883 - acc: 0.8398 - val_loss: 0.3382 - val_acc: 0.8470\n",
      "Epoch 19/40\n",
      "979/979 [==============================] - 84s 86ms/step - loss: 0.3765 - acc: 0.8444 - val_loss: 0.3357 - val_acc: 0.8481\n",
      "Epoch 20/40\n",
      "979/979 [==============================] - 87s 89ms/step - loss: 0.3785 - acc: 0.8477 - val_loss: 0.3327 - val_acc: 0.8523\n",
      "Epoch 21/40\n",
      "979/979 [==============================] - 87s 89ms/step - loss: 0.3689 - acc: 0.8510 - val_loss: 0.3291 - val_acc: 0.8551\n",
      "Epoch 22/40\n",
      "979/979 [==============================] - 87s 89ms/step - loss: 0.3573 - acc: 0.8586 - val_loss: 0.3268 - val_acc: 0.8574\n",
      "Epoch 23/40\n",
      "979/979 [==============================] - 88s 90ms/step - loss: 0.3535 - acc: 0.8583 - val_loss: 0.3227 - val_acc: 0.8630\n",
      "Epoch 24/40\n",
      "979/979 [==============================] - 88s 90ms/step - loss: 0.3532 - acc: 0.8624 - val_loss: 0.3169 - val_acc: 0.8665\n",
      "Epoch 25/40\n",
      "979/979 [==============================] - 89s 91ms/step - loss: 0.3487 - acc: 0.8647 - val_loss: 0.3153 - val_acc: 0.8644\n",
      "Epoch 26/40\n",
      "979/979 [==============================] - 89s 91ms/step - loss: 0.3325 - acc: 0.8660 - val_loss: 0.3045 - val_acc: 0.8667\n",
      "Epoch 27/40\n",
      "979/979 [==============================] - 88s 90ms/step - loss: 0.3309 - acc: 0.8709 - val_loss: 0.3050 - val_acc: 0.8710\n",
      "Epoch 28/40\n",
      "979/979 [==============================] - 88s 90ms/step - loss: 0.3311 - acc: 0.8721 - val_loss: 0.3100 - val_acc: 0.8712\n",
      "Epoch 29/40\n",
      "979/979 [==============================] - 88s 89ms/step - loss: 0.3252 - acc: 0.8763 - val_loss: 0.3054 - val_acc: 0.8744\n",
      "Epoch 30/40\n",
      "979/979 [==============================] - 88s 90ms/step - loss: 0.3291 - acc: 0.8768 - val_loss: 0.3061 - val_acc: 0.8769\n",
      "Epoch 31/40\n",
      "979/979 [==============================] - 88s 90ms/step - loss: 0.3164 - acc: 0.8788 - val_loss: 0.3039 - val_acc: 0.8785\n",
      "Epoch 32/40\n",
      "979/979 [==============================] - 86s 88ms/step - loss: 0.3112 - acc: 0.8787 - val_loss: 0.2971 - val_acc: 0.8793\n",
      "Epoch 33/40\n",
      "979/979 [==============================] - 85s 87ms/step - loss: 0.3080 - acc: 0.8838 - val_loss: 0.2939 - val_acc: 0.8785\n",
      "Epoch 34/40\n",
      "979/979 [==============================] - 87s 89ms/step - loss: 0.3042 - acc: 0.8835 - val_loss: 0.3037 - val_acc: 0.8784\n",
      "Epoch 35/40\n",
      "979/979 [==============================] - 85s 87ms/step - loss: 0.3006 - acc: 0.8866 - val_loss: 0.2953 - val_acc: 0.8829\n",
      "Epoch 36/40\n",
      "979/979 [==============================] - 86s 87ms/step - loss: 0.2958 - acc: 0.8864 - val_loss: 0.2952 - val_acc: 0.8817\n",
      "Epoch 37/40\n",
      "979/979 [==============================] - 87s 89ms/step - loss: 0.2948 - acc: 0.8891 - val_loss: 0.2925 - val_acc: 0.8819\n",
      "Epoch 38/40\n",
      "979/979 [==============================] - 85s 87ms/step - loss: 0.2942 - acc: 0.8902 - val_loss: 0.2985 - val_acc: 0.8848\n",
      "Epoch 39/40\n",
      "979/979 [==============================] - 83s 85ms/step - loss: 0.2892 - acc: 0.8912 - val_loss: 0.2896 - val_acc: 0.8859\n",
      "Epoch 40/40\n",
      "979/979 [==============================] - 85s 87ms/step - loss: 0.2805 - acc: 0.8927 - val_loss: 0.2958 - val_acc: 0.8873\n"
     ]
    }
   ],
   "source": [
    "history = model.fit(train_flow, epochs=epochs, validation_data=val_flow, verbose=1)"
   ]
  },
  {
   "cell_type": "code",
   "execution_count": 120,
   "metadata": {},
   "outputs": [
    {
     "data": {
      "image/png": "[encoded data removed]",
      "text/plain": [
       "<Figure size 504x576 with 2 Axes>"
      ]
     },
     "metadata": {
      "needs_background": "light"
     },
     "output_type": "display_data"
    }
   ],
   "source": [
    "import stellargraph\n",
    "stellargraph.utils.plot_history(history)"
   ]
  },
  {
   "cell_type": "code",
   "execution_count": 121,
   "metadata": {},
   "outputs": [
    {
     "name": "stdout",
     "output_type": "stream",
     "text": [
      "dict_keys(['loss', 'acc', 'val_loss', 'val_acc'])\n"
     ]
    }
   ],
   "source": [
    "print(history.history.keys())"
   ]
  },
  {
   "cell_type": "code",
   "execution_count": 122,
   "metadata": {},
   "outputs": [
    {
     "name": "stderr",
     "output_type": "stream",
     "text": [
      "2021-04-21 01:10:53,371 : WARNING : The PostScript backend does not support transparency; partially transparent artists will be rendered opaque.\n",
      "2021-04-21 01:10:53,372 : WARNING : The PostScript backend does not support transparency; partially transparent artists will be rendered opaque.\n"
     ]
    },
    {
     "data": {
      "image/png": "[encoded data removed]",
      "text/plain": [
       "<Figure size 432x288 with 1 Axes>"
      ]
     },
     "metadata": {
      "needs_background": "light"
     },
     "output_type": "display_data"
    },
    {
     "name": "stderr",
     "output_type": "stream",
     "text": [
      "2021-04-21 01:10:53,684 : WARNING : The PostScript backend does not support transparency; partially transparent artists will be rendered opaque.\n",
      "2021-04-21 01:10:53,685 : WARNING : The PostScript backend does not support transparency; partially transparent artists will be rendered opaque.\n"
     ]
    },
    {
     "data": {
      "image/png": "[encoded data removed]",
      "text/plain": [
       "<Figure size 432x288 with 1 Axes>"
      ]
     },
     "metadata": {
      "needs_background": "light"
     },
     "output_type": "display_data"
    }
   ],
   "source": [
    "# Plot acc and loss using matplotlib\n",
    "# summarize history for accuracy\n",
    "plt.plot(history.history['acc'])\n",
    "plt.plot(history.history['val_acc'])\n",
    "# plt.title('model accuracy')\n",
    "plt.ylabel('acc')\n",
    "plt.xlabel('epoch')\n",
    "plt.legend(['train', 'validation'], loc='lower right')\n",
    "plt.savefig(r'D:\\notebooks\\lp\\small\\Mean\\plots\\accuracy.png', format='png', dpi=300)\n",
    "plt.savefig(r'D:\\notebooks\\lp\\small\\Mean\\plots\\acc.eps', format='eps', dpi=300)\n",
    "plt.show()\n",
    "# summarize history for loss\n",
    "plt.plot(history.history['loss'])\n",
    "plt.plot(history.history['val_loss'])\n",
    "# plt.title('model loss')\n",
    "plt.ylabel('loss')\n",
    "plt.xlabel('epoch')\n",
    "plt.legend(['train', 'validation'], loc='upper right')\n",
    "plt.savefig(r'D:\\notebooks\\lp\\small\\Mean\\plots\\loss.png', format='png', dpi=300)\n",
    "plt.savefig(r'D:\\notebooks\\lp\\small\\Mean\\plots\\los.eps', format='eps', dpi=300)\n",
    "plt.show()"
   ]
  },
  {
   "cell_type": "code",
   "execution_count": 123,
   "metadata": {},
   "outputs": [
    {
     "name": "stdout",
     "output_type": "stream",
     "text": [
      "979/979 [==============================] - 39s 40ms/step - loss: 0.2599 - acc: 0.8987\n",
      "1087/1087 [==============================] - 44s 41ms/step - loss: 0.2863 - acc: 0.8880\n",
      "1208/1208 [==============================] - 50s 41ms/step - loss: 0.2713 - acc: 0.8928 4s -\n",
      "\n",
      "Train Set Metrics of the trained model:\n",
      "\tloss: 0.2599\n",
      "\tacc: 0.8987\n",
      "\n",
      "Validation Set Metrics of the trained model:\n",
      "\tloss: 0.2863\n",
      "\tacc: 0.8880\n",
      "\n",
      "Test Set Metrics of the trained model:\n",
      "\tloss: 0.2713\n",
      "\tacc: 0.8928\n"
     ]
    }
   ],
   "source": [
    "train_metrics = model.evaluate(train_flow)\n",
    "val_metrics = model.evaluate(val_flow)\n",
    "test_metrics = model.evaluate(test_flow)\n",
    "\n",
    "print(\"\\nTrain Set Metrics of the trained model:\")\n",
    "for name, val in zip(model.metrics_names, train_metrics):\n",
    "    print(\"\\t{}: {:0.4f}\".format(name, val))\n",
    "\n",
    "print(\"\\nValidation Set Metrics of the trained model:\")\n",
    "for name, val in zip(model.metrics_names, val_metrics):\n",
    "    print(\"\\t{}: {:0.4f}\".format(name, val))\n",
    "\n",
    "print(\"\\nTest Set Metrics of the trained model:\")\n",
    "for name, val in zip(model.metrics_names, test_metrics):\n",
    "    print(\"\\t{}: {:0.4f}\".format(name, val))"
   ]
  },
  {
   "cell_type": "code",
   "execution_count": 124,
   "metadata": {},
   "outputs": [
    {
     "name": "stdout",
     "output_type": "stream",
     "text": [
      "test_matrics:  [0.27134642004966736, 0.8928127884864807]\n"
     ]
    }
   ],
   "source": [
    "print(\"test_matrics: \", test_metrics)"
   ]
  },
  {
   "cell_type": "code",
   "execution_count": 125,
   "metadata": {},
   "outputs": [
    {
     "name": "stdout",
     "output_type": "stream",
     "text": [
      "INFO:tensorflow:Assets written to: D:\\notebooks\\lp\\small\\Mean\\model\\model\\assets\n"
     ]
    },
    {
     "name": "stderr",
     "output_type": "stream",
     "text": [
      "2021-04-21 01:13:53,142 : INFO : Assets written to: D:\\notebooks\\lp\\small\\Mean\\model\\model\\assets\n"
     ]
    }
   ],
   "source": [
    "model.save(r'D:\\notebooks\\lp\\small\\Mean\\model\\model')"
   ]
  },
  {
   "cell_type": "code",
   "execution_count": null,
   "metadata": {},
   "outputs": [],
   "source": []
  },
  {
   "cell_type": "markdown",
   "metadata": {},
   "source": [
    "### The code ahead is to generate a raw csv with probabilities of link predicted. This csv can be further  used to calculate different metrics like acc, precision, recall, AP, auc etc."
   ]
  },
  {
   "cell_type": "code",
   "execution_count": 126,
   "metadata": {},
   "outputs": [],
   "source": [
    "y_true = test_flow.targets"
   ]
  },
  {
   "cell_type": "code",
   "execution_count": 127,
   "metadata": {},
   "outputs": [
    {
     "data": {
      "text/plain": [
       "array([1, 1, 1, ..., 0, 0, 0], dtype=int64)"
      ]
     },
     "execution_count": 127,
     "metadata": {},
     "output_type": "execute_result"
    }
   ],
   "source": [
    "y_true"
   ]
  },
  {
   "cell_type": "code",
   "execution_count": 128,
   "metadata": {},
   "outputs": [
    {
     "name": "stdout",
     "output_type": "stream",
     "text": [
      "1208/1208 [==============================] - 50s 41ms/step\n"
     ]
    }
   ],
   "source": [
    "y_pred = model.predict(test_flow, verbose=1)"
   ]
  },
  {
   "cell_type": "code",
   "execution_count": 129,
   "metadata": {},
   "outputs": [],
   "source": [
    "y_pred = y_pred[:, 0]"
   ]
  },
  {
   "cell_type": "code",
   "execution_count": 130,
   "metadata": {},
   "outputs": [
    {
     "data": {
      "text/plain": [
       "array([0.98647267, 0.99999976, 0.643442  , ..., 0.4262353 , 0.5328256 ,\n",
       "       0.        ], dtype=float32)"
      ]
     },
     "execution_count": 130,
     "metadata": {},
     "output_type": "execute_result"
    }
   ],
   "source": [
    "y_pred"
   ]
  },
  {
   "cell_type": "code",
   "execution_count": 131,
   "metadata": {},
   "outputs": [],
   "source": [
    "data = []\n",
    "for i in range(len(y_true)):\n",
    "    data.append([y_true[i], y_pred[i]])"
   ]
  },
  {
   "cell_type": "code",
   "execution_count": 132,
   "metadata": {},
   "outputs": [],
   "source": [
    "df = pd.DataFrame(data, columns=['y_true', 'y_pred'])"
   ]
  },
  {
   "cell_type": "code",
   "execution_count": 133,
   "metadata": {},
   "outputs": [
    {
     "data": {
      "text/html": [
       "<div>\n",
       "<style scoped>\n",
       "    .dataframe tbody tr th:only-of-type {\n",
       "        vertical-align: middle;\n",
       "    }\n",
       "\n",
       "    .dataframe tbody tr th {\n",
       "        vertical-align: top;\n",
       "    }\n",
       "\n",
       "    .dataframe thead th {\n",
       "        text-align: right;\n",
       "    }\n",
       "</style>\n",
       "<table border=\"1\" class=\"dataframe\">\n",
       "  <thead>\n",
       "    <tr style=\"text-align: right;\">\n",
       "      <th></th>\n",
       "      <th>y_true</th>\n",
       "      <th>y_pred</th>\n",
       "    </tr>\n",
       "  </thead>\n",
       "  <tbody>\n",
       "    <tr>\n",
       "      <th>0</th>\n",
       "      <td>1</td>\n",
       "      <td>0.986473</td>\n",
       "    </tr>\n",
       "    <tr>\n",
       "      <th>1</th>\n",
       "      <td>1</td>\n",
       "      <td>1.000000</td>\n",
       "    </tr>\n",
       "    <tr>\n",
       "      <th>2</th>\n",
       "      <td>1</td>\n",
       "      <td>0.643442</td>\n",
       "    </tr>\n",
       "    <tr>\n",
       "      <th>3</th>\n",
       "      <td>1</td>\n",
       "      <td>0.559263</td>\n",
       "    </tr>\n",
       "    <tr>\n",
       "      <th>4</th>\n",
       "      <td>1</td>\n",
       "      <td>0.962550</td>\n",
       "    </tr>\n",
       "  </tbody>\n",
       "</table>\n",
       "</div>"
      ],
      "text/plain": [
       "   y_true    y_pred\n",
       "0       1  0.986473\n",
       "1       1  1.000000\n",
       "2       1  0.643442\n",
       "3       1  0.559263\n",
       "4       1  0.962550"
      ]
     },
     "execution_count": 133,
     "metadata": {},
     "output_type": "execute_result"
    }
   ],
   "source": [
    "df.head()"
   ]
  },
  {
   "cell_type": "code",
   "execution_count": 134,
   "metadata": {},
   "outputs": [],
   "source": [
    "df.to_csv(r\"D:\\notebooks\\lp\\small\\Mean\\raw_data.csv\", index=False)"
   ]
  },
  {
   "cell_type": "code",
   "execution_count": null,
   "metadata": {},
   "outputs": [],
   "source": []
  }
 ],
 "metadata": {
  "kernelspec": {
   "display_name": "Python 3",
   "language": "python",
   "name": "python3"
  },
  "language_info": {
   "codemirror_mode": {
    "name": "ipython",
    "version": 3
   },
   "file_extension": ".py",
   "mimetype": "text/x-python",
   "name": "python",
   "nbconvert_exporter": "python",
   "pygments_lexer": "ipython3",
   "version": "3.8.2"
  }
 },
 "nbformat": 4,
 "nbformat_minor": 5
}
