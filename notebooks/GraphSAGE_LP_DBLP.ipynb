{
  "nbformat": 4,
  "nbformat_minor": 0,
  "metadata": {
    "colab": {
      "name": "GraphSAGE_LP_DBLP",
      "provenance": [],
      "collapsed_sections": [],
      "machine_shape": "hm"
    },
    "kernelspec": {
      "name": "python3",
      "display_name": "Python 3"
    },
    "accelerator": "GPU"
  },
  "cells": [
    {
      "cell_type": "code",
      "metadata": {
        "id": "hwG2FShUa5br"
      },
      "source": [
        "!pip install py2neo"
      ],
      "execution_count": null,
      "outputs": []
    },
    {
      "cell_type": "code",
      "metadata": {
        "id": "P84flCdF71uB"
      },
      "source": [
        "!pip install stellargraph"
      ],
      "execution_count": null,
      "outputs": []
    },
    {
      "cell_type": "code",
      "metadata": {
        "id": "HtE1MBO0dUZ8"
      },
      "source": [
        "from py2neo.data import Node, Relationship\n",
        "import py2neo"
      ],
      "execution_count": null,
      "outputs": []
    },
    {
      "cell_type": "code",
      "metadata": {
        "id": "8J-NT9pWcjT2"
      },
      "source": [
        "graph = py2neo.Graph(\"bolt://0.tcp.ap.ngrok.io:19617/\", auth=(\"neo4j\", \"randomstufF\"))"
      ],
      "execution_count": null,
      "outputs": []
    },
    {
      "cell_type": "code",
      "metadata": {
        "id": "DJzTxQE9dTfi"
      },
      "source": [
        "import pandas as pd\n",
        "import os\n",
        "\n",
        "import stellargraph as sg\n",
        "from stellargraph.connector.neo4j import Neo4jGraphSAGENodeGenerator, Neo4jStellarGraph\n",
        "from stellargraph.layer import GraphSAGE\n",
        "\n",
        "import numpy as np\n",
        "from tensorflow.keras import layers, optimizers, losses, metrics, Model\n",
        "from sklearn import preprocessing, feature_extraction, model_selection\n",
        "\n",
        "import time\n",
        "%matplotlib inline\n"
      ],
      "execution_count": null,
      "outputs": []
    },
    {
      "cell_type": "code",
      "metadata": {
        "id": "V-Wtr3Iqcjyo"
      },
      "source": [
        "# Authors\n",
        "authors_df = graph.run(\n",
        "    \"\"\"\n",
        "    MATCH (n:Author) RETURN n.name as name\n",
        "    \"\"\").to_data_frame()"
      ],
      "execution_count": null,
      "outputs": []
    },
    {
      "cell_type": "code",
      "metadata": {
        "id": "mSMOiUVHcjvw",
        "outputId": "f1c3f8a4-97aa-49be-b6c5-c3dfc9be6a8f",
        "colab": {
          "base_uri": "https://localhost:8080/",
          "height": 80
        }
      },
      "source": [
        "(authors_df.drop_duplicates() == authors_df).drop_duplicates()"
      ],
      "execution_count": null,
      "outputs": [
        {
          "output_type": "execute_result",
          "data": {
            "text/html": [
              "<div>\n",
              "<style scoped>\n",
              "    .dataframe tbody tr th:only-of-type {\n",
              "        vertical-align: middle;\n",
              "    }\n",
              "\n",
              "    .dataframe tbody tr th {\n",
              "        vertical-align: top;\n",
              "    }\n",
              "\n",
              "    .dataframe thead th {\n",
              "        text-align: right;\n",
              "    }\n",
              "</style>\n",
              "<table border=\"1\" class=\"dataframe\">\n",
              "  <thead>\n",
              "    <tr style=\"text-align: right;\">\n",
              "      <th></th>\n",
              "      <th>name</th>\n",
              "    </tr>\n",
              "  </thead>\n",
              "  <tbody>\n",
              "    <tr>\n",
              "      <th>0</th>\n",
              "      <td>True</td>\n",
              "    </tr>\n",
              "  </tbody>\n",
              "</table>\n",
              "</div>"
            ],
            "text/plain": [
              "   name\n",
              "0  True"
            ]
          },
          "metadata": {
            "tags": []
          },
          "execution_count": 7
        }
      ]
    },
    {
      "cell_type": "code",
      "metadata": {
        "id": "PyNsnovwcjt5",
        "outputId": "92bb2745-5572-4ce9-d24c-e7ee4d2a52f0",
        "colab": {
          "base_uri": "https://localhost:8080/",
          "height": 204
        }
      },
      "source": [
        "authors_df.head()"
      ],
      "execution_count": null,
      "outputs": [
        {
          "output_type": "execute_result",
          "data": {
            "text/html": [
              "<div>\n",
              "<style scoped>\n",
              "    .dataframe tbody tr th:only-of-type {\n",
              "        vertical-align: middle;\n",
              "    }\n",
              "\n",
              "    .dataframe tbody tr th {\n",
              "        vertical-align: top;\n",
              "    }\n",
              "\n",
              "    .dataframe thead th {\n",
              "        text-align: right;\n",
              "    }\n",
              "</style>\n",
              "<table border=\"1\" class=\"dataframe\">\n",
              "  <thead>\n",
              "    <tr style=\"text-align: right;\">\n",
              "      <th></th>\n",
              "      <th>name</th>\n",
              "    </tr>\n",
              "  </thead>\n",
              "  <tbody>\n",
              "    <tr>\n",
              "      <th>0</th>\n",
              "      <td>Eun-Kyeong Kwon</td>\n",
              "    </tr>\n",
              "    <tr>\n",
              "      <th>1</th>\n",
              "      <td>Yong-Gu Cho</td>\n",
              "    </tr>\n",
              "    <tr>\n",
              "      <th>2</th>\n",
              "      <td>Kijoon Chae</td>\n",
              "    </tr>\n",
              "    <tr>\n",
              "      <th>3</th>\n",
              "      <td>Dominik Slezak</td>\n",
              "    </tr>\n",
              "    <tr>\n",
              "      <th>4</th>\n",
              "      <td>Anthony Brabazon</td>\n",
              "    </tr>\n",
              "  </tbody>\n",
              "</table>\n",
              "</div>"
            ],
            "text/plain": [
              "               name\n",
              "0   Eun-Kyeong Kwon\n",
              "1       Yong-Gu Cho\n",
              "2       Kijoon Chae\n",
              "3    Dominik Slezak\n",
              "4  Anthony Brabazon"
            ]
          },
          "metadata": {
            "tags": []
          },
          "execution_count": 8
        }
      ]
    },
    {
      "cell_type": "code",
      "metadata": {
        "id": "MHzXAokEcjrg"
      },
      "source": [
        "# To give all the authors a identifier\n",
        "dic_authors = {}\n",
        "for i in range(len(authors_df)):\n",
        "    dic_authors[authors_df['name'][i]] = i"
      ],
      "execution_count": null,
      "outputs": []
    },
    {
      "cell_type": "code",
      "metadata": {
        "id": "P2KfHgXtcjnu",
        "outputId": "3ec467d4-e88a-428b-d321-31578c1dda53",
        "colab": {
          "base_uri": "https://localhost:8080/"
        }
      },
      "source": [
        "len(dic_authors)"
      ],
      "execution_count": null,
      "outputs": [
        {
          "output_type": "execute_result",
          "data": {
            "text/plain": [
              "63800"
            ]
          },
          "metadata": {
            "tags": []
          },
          "execution_count": 10
        }
      ]
    },
    {
      "cell_type": "code",
      "metadata": {
        "id": "V73cR6Lccjky",
        "outputId": "52ec8588-beeb-442c-af44-bf185c8a67cf",
        "colab": {
          "base_uri": "https://localhost:8080/"
        }
      },
      "source": [
        "dic_authors"
      ],
      "execution_count": null,
      "outputs": [
        {
          "output_type": "execute_result",
          "data": {
            "text/plain": [
              "{'Eun-Kyeong Kwon': 0,\n",
              " 'Yong-Gu Cho': 1,\n",
              " 'Kijoon Chae': 2,\n",
              " 'Dominik Slezak': 3,\n",
              " 'Anthony Brabazon': 4,\n",
              " \"Michael O'Neill\": 5,\n",
              " 'Huijae Lee': 6,\n",
              " 'Sang Bong Yoo': 7,\n",
              " 'Christian Callegari': 8,\n",
              " 'Stefano Giordano': 9,\n",
              " 'Susanna Mannella': 10,\n",
              " 'Michele Pagano': 11,\n",
              " 'Mohamed Ahmed Abdelraheem': 12,\n",
              " 'Julia Borghoff': 13,\n",
              " 'Erik Zenner': 14,\n",
              " 'Mathieu David': 15,\n",
              " 'Amin Vahdat': 16,\n",
              " 'Anna E. Bobkowska': 17,\n",
              " 'Sondess Missaoui': 18,\n",
              " 'Rim Faiz': 19,\n",
              " 'Sanqiang Zhao': 20,\n",
              " 'Wen Gao': 21,\n",
              " 'Shiguang Shan': 22,\n",
              " 'Baocai Yin': 23,\n",
              " 'Giuseppe Attardi': 24,\n",
              " 'Stefano Dei Rossi': 25,\n",
              " 'Maria Simi': 26,\n",
              " 'Ralf Münzenberger': 27,\n",
              " 'Frank Slomka': 28,\n",
              " 'Matthias Dörfel': 29,\n",
              " 'Richard Hofmann': 30,\n",
              " 'Qi Chen': 31,\n",
              " 'Raymond W. Yeung': 32,\n",
              " 'Christian Berger': 33,\n",
              " 'Erik Dahlgren': 34,\n",
              " 'Johan Grundén': 35,\n",
              " 'Daniel Gunnarsson': 36,\n",
              " 'Nadia Holtryd': 37,\n",
              " 'Anmar Khazal': 38,\n",
              " 'Mohamed Mustafa': 39,\n",
              " 'Marina Papatriantafilou': 40,\n",
              " 'Elad Michael Schiller': 41,\n",
              " 'Christoph Steup': 42,\n",
              " 'Viktor Swantesson': 43,\n",
              " 'Philippas Tsigas': 44,\n",
              " 'Mario Berta': 45,\n",
              " 'Omar Fawzi': 46,\n",
              " 'Volkher B. Scholz': 47,\n",
              " 'Markus Bauer': 48,\n",
              " 'Gunnar W. Klau': 49,\n",
              " 'Knut Reinert': 50,\n",
              " 'Luca Rossi': 51,\n",
              " 'Andrea Torsello': 52,\n",
              " 'Edwin R. Hancock': 53,\n",
              " 'Alfons Juan': 54,\n",
              " 'Enrique Vidal': 55,\n",
              " 'Sang-Bum Kim': 56,\n",
              " 'Namyoon Woo': 57,\n",
              " 'Heon Young Yeom': 58,\n",
              " 'Taesoon Park': 59,\n",
              " 'Hyoungwoo Park': 60,\n",
              " 'Daniel Faria': 61,\n",
              " 'Catia Pesquita': 62,\n",
              " 'Emanuel Santos': 63,\n",
              " 'Matteo Palmonari': 64,\n",
              " 'Isabel F. Cruz': 65,\n",
              " 'Francisco M. Couto': 66,\n",
              " 'Eli Gjørven': 67,\n",
              " 'Frank Eliassen': 68,\n",
              " 'Ketil Lund': 69,\n",
              " 'Viktor S. Wold Eide': 70,\n",
              " 'Richard Staehli': 71,\n",
              " 'Longjiang Qu': 72,\n",
              " 'Yin Tan': 73,\n",
              " 'Chik How Tan': 74,\n",
              " 'Chao Li': 75,\n",
              " 'Pieter Muller': 76,\n",
              " 'Soon-Kyeong Kim': 77,\n",
              " 'David A. Carrington': 78,\n",
              " 'Andrea Ciancone': 79,\n",
              " 'Antonio Filieri': 80,\n",
              " 'Mauro Luigi Drago': 81,\n",
              " 'Raffaela Mirandola': 82,\n",
              " 'Vincenzo Grassi': 83,\n",
              " 'Hyo Seung Kang': 84,\n",
              " 'Myung Gil Kang': 85,\n",
              " 'Aria Nosratinia': 86,\n",
              " 'Wan Choi': 87,\n",
              " 'Charles Kervrann': 88,\n",
              " 'Paul M. B. Vitányi': 89,\n",
              " 'Baruch Awerbuch': 90,\n",
              " 'Kei Takikawa': 91,\n",
              " 'Kasper Revsbech': 92,\n",
              " 'Henrik Schiøler': 93,\n",
              " 'Tatiana Kozlova Madsen': 94,\n",
              " 'Jimmy Jessen Nielsen': 95,\n",
              " 'Nicola Franchi': 96,\n",
              " 'Marco Fumagalli': 97,\n",
              " 'Rosa Lancini': 98,\n",
              " 'Khakhanian V. Kh': 99,\n",
              " 'Nick Howgrave-Graham': 100,\n",
              " 'Michael Szydlo': 101,\n",
              " 'Jan Hruza': 102,\n",
              " 'Petr Stepánek': 103,\n",
              " 'Miyako Ohkubo': 104,\n",
              " 'Fumiaki Miura': 105,\n",
              " 'Masayuki Abe': 106,\n",
              " 'Atsushi Fujioka': 107,\n",
              " 'Tatsuaki Okamoto': 108,\n",
              " 'Isaac Chao': 109,\n",
              " 'Ramon Sangüesa': 110,\n",
              " 'Oscar Ardaiz': 111,\n",
              " 'Brahim Chaib-draa': 112,\n",
              " 'Jordi Nin': 113,\n",
              " 'Wolfgang Reisig': 114,\n",
              " 'Unjeng Cheng': 115,\n",
              " 'Solomon W. Golomb': 116,\n",
              " 'Manuel López-Ibáñez': 117,\n",
              " 'Thomas Stützle': 118,\n",
              " 'Peter McBurney': 119,\n",
              " 'Simon Parsons': 120,\n",
              " 'Aaron D. Wyner': 121,\n",
              " 'Dave Turner': 122,\n",
              " 'Adam Oline': 123,\n",
              " 'Xuehua Chen': 124,\n",
              " 'Troy Benjegerdes': 125,\n",
              " 'Henning Kerstan': 126,\n",
              " 'Barbara König': 127,\n",
              " 'Bram Westerbaan': 128,\n",
              " 'Wojciech Dzik': 129,\n",
              " 'Ewa Orlowska': 130,\n",
              " 'Clint J. van Alten': 131,\n",
              " 'Yan Niu': 132,\n",
              " 'Tim Poston': 133,\n",
              " 'Elizabeth Hofvenschiöld': 134,\n",
              " 'Frank Heidmann': 135,\n",
              " 'Satoru Morita': 136,\n",
              " 'Marco Bernardo': 137,\n",
              " 'E.P. de Vink': 138,\n",
              " 'A. Di Pierro': 139,\n",
              " 'Herbert Wiklicky': 140,\n",
              " 'Bernhard Beckert': 141,\n",
              " 'Rajeev Goré': 142,\n",
              " 'Carsten Schürmann': 143,\n",
              " 'Kim B. Bruce': 144,\n",
              " 'Steven W. McLaughlin': 145,\n",
              " 'Claude Carlet': 146,\n",
              " 'Chunming Tang': 147,\n",
              " 'Nian Li': 148,\n",
              " 'Yanfeng Qi': 149,\n",
              " 'Zhengchun Zhou': 150,\n",
              " 'Tor Helleseth': 151,\n",
              " 'Carles Sierra': 152,\n",
              " 'Frank Dignum': 153,\n",
              " 'Daniel Prokopp': 154,\n",
              " 'Michael Matthes': 155,\n",
              " 'Oswald Drobnik': 156,\n",
              " 'Udo R. Krieger': 157,\n",
              " 'E. den Heijer': 158,\n",
              " 'A. E. Eiben': 159,\n",
              " 'Namje Park': 160,\n",
              " 'Seungjoo Kim': 161,\n",
              " 'Dongho Won': 162,\n",
              " 'Howon Kim': 163,\n",
              " 'Lizhong Zheng': 164,\n",
              " 'David Tse': 165,\n",
              " 'Seiji Yamada': 166,\n",
              " 'Zhifeng Liu': 167,\n",
              " 'Wenhua Dou': 168,\n",
              " 'Yajie Liu': 169,\n",
              " 'Xuming Zhang': 170,\n",
              " 'David J. Brady': 171,\n",
              " 'M. Scalem': 172,\n",
              " 'Somprakash Bandyopadhyay': 173,\n",
              " 'A. K. Sircar': 174,\n",
              " 'Alexander Knyazev': 175,\n",
              " 'Jouni Järvinen': 176,\n",
              " 'Quentin Vey': 177,\n",
              " 'Alain Pirovano': 178,\n",
              " 'José Radzik': 179,\n",
              " 'Fabien Garcia': 180,\n",
              " 'Vincente Julián': 181,\n",
              " 'Carlos Carrascosa': 182,\n",
              " 'Miguel Rebollo': 183,\n",
              " 'José Soler': 184,\n",
              " 'Vincente J. Botti': 185,\n",
              " 'Hüsnü Yenigün': 186,\n",
              " 'Vladimir Levin': 187,\n",
              " 'Doron A. Peled': 188,\n",
              " 'Peter A. Beerel': 189,\n",
              " 'Anthony Ephremides': 190,\n",
              " 'Kurt Verschaeve': 191,\n",
              " 'Bart Wydaeghe': 192,\n",
              " 'Frans Westerhuis': 193,\n",
              " 'Jan De Moerloose': 194,\n",
              " 'Wijnand Derks': 195,\n",
              " 'Sietse Dijkstra': 196,\n",
              " 'Willem Jonker': 197,\n",
              " 'Jeroen Wijnands': 198,\n",
              " 'Fernando Marques Figueira Filho': 199,\n",
              " 'João Porto de Albuquerque': 200,\n",
              " 'Paulo Lício de Geus': 201,\n",
              " 'Klaus-Dieter Althoff': 202,\n",
              " 'Alexandre Hanft': 203,\n",
              " 'Martin Schaaf': 204,\n",
              " 'Hendrik C. Ferreira': 205,\n",
              " 'Mengjie Zhang': 206,\n",
              " 'William D. Smart': 207,\n",
              " 'Juneho Yi': 208,\n",
              " 'P. N. Topiwala': 209,\n",
              " 'John Derrick': 210,\n",
              " 'Eerke Albert Boiten': 211,\n",
              " 'Kwangjin Jeong': 212,\n",
              " 'Masahiro Yukawa': 213,\n",
              " 'Shun-ichi Amari': 214,\n",
              " 'Jim Torresen': 215,\n",
              " 'Hisashi Miyamori': 216,\n",
              " 'L. Flatto': 217,\n",
              " 'William Dupuy': 218,\n",
              " 'Jenny Benois-Pineau': 219,\n",
              " 'Dominique Barba': 220,\n",
              " 'Tom Holvoet': 221,\n",
              " 'Pierre Verbaeten': 222,\n",
              " 'Tommi Myllymäki': 223,\n",
              " 'Kai Koskimies': 224,\n",
              " 'Tommi Mikkonen': 225,\n",
              " 'Soo-Yong Shin': 226,\n",
              " 'In-Hee Lee': 227,\n",
              " 'Byoung-Tak Zhang': 228,\n",
              " 'Rüdiger Kapitza': 229,\n",
              " 'Franz J. Hauck': 230,\n",
              " 'Hans P. Reiser': 231,\n",
              " 'Lin Han': 232,\n",
              " 'Richard C. Wilson': 233,\n",
              " 'Toby Berger': 234,\n",
              " 'Tuvi Etzion': 235,\n",
              " 'Giacomo Tarroni': 236,\n",
              " 'Silvia Visentin': 237,\n",
              " 'Erich Cosmi': 238,\n",
              " 'Enrico Grisan': 239,\n",
              " 'József Bíró': 240,\n",
              " 'Zalán Heszberger': 241,\n",
              " 'Mátyás Martinecz': 242,\n",
              " 'Maryam Razavian': 243,\n",
              " 'Patricia Lago': 244,\n",
              " 'Marco Vacca': 245,\n",
              " 'Mariagrazia Graziano': 246,\n",
              " 'Juan Chi Wang': 247,\n",
              " 'Fabrizio Cairo': 248,\n",
              " 'Giovanni Causapruno': 249,\n",
              " 'Gianvito Urgese': 250,\n",
              " 'Andrea Dario Giancarlo Biroli': 251,\n",
              " 'Maurizio Zamboni': 252,\n",
              " 'Bilhanan Silverajan': 253,\n",
              " 'Jaakko Kalliosalo': 254,\n",
              " 'Jarmo Harju': 255,\n",
              " 'Olivier Corre': 256,\n",
              " 'Idir Fodil': 257,\n",
              " 'Vladimir Ksinant': 258,\n",
              " 'Guy Pujolle': 259,\n",
              " 'Andreas Knüpfer': 260,\n",
              " 'Dieter Kranzlmüller': 261,\n",
              " 'Wolfgang E. Nagel': 262,\n",
              " 'Jemima Rossmorris': 263,\n",
              " 'Susan Stepney': 264,\n",
              " \"Georgy L. Gimel'farb\": 265,\n",
              " 'Kevin Bjorke': 266,\n",
              " 'Aradhana Goel': 267,\n",
              " 'Xiangqian Wu': 268,\n",
              " 'Kuanquan Wang': 269,\n",
              " 'David Zhang': 270,\n",
              " 'Atsushi Imiya': 271,\n",
              " 'Ulrich Eckhardt': 272,\n",
              " 'Carles Padró': 273,\n",
              " 'Germán Sáez': 274,\n",
              " 'Po-Ning Chen': 275,\n",
              " 'Adrian Papamarcou': 276,\n",
              " 'Taher Abualrub': 277,\n",
              " 'Robert H. Oehmke': 278,\n",
              " 'Sofoklis Efremidis': 279,\n",
              " 'Didoe Prevedourou': 280,\n",
              " 'L. Demounem': 281,\n",
              " 'Kathleen Milsted': 282,\n",
              " 'Han Zuidweg': 283,\n",
              " 'Neil A. M. Maiden': 284,\n",
              " 'V. Croce': 285,\n",
              " 'Hyoseob Kim': 286,\n",
              " 'Giuseppe Sajeva': 287,\n",
              " 'S. Topuzidou': 288,\n",
              " 'Konlakorn Wongpatikaseree': 289,\n",
              " 'Junsoo Kim': 290,\n",
              " 'Yoshiki Makino': 291,\n",
              " 'Azman Osman Lim': 292,\n",
              " 'Yasuo Tan': 293,\n",
              " 'Roy Friedman': 294,\n",
              " 'Achour Mostefaoui': 295,\n",
              " 'Sergio Rajsbaum': 296,\n",
              " 'Michel Raynal': 297,\n",
              " 'Hung Son Nguyen': 298,\n",
              " 'Jordi Cabot': 299,\n",
              " 'Nicola Zannone': 300,\n",
              " 'Giacomo Cabri': 301,\n",
              " 'Letizia Leonardi': 302,\n",
              " 'Franco Zambonelli': 303,\n",
              " 'Leong Kok Yong': 304,\n",
              " 'Liu Hai': 305,\n",
              " 'Oliver P. Wu': 306,\n",
              " 'Tsau Young Lin': 307,\n",
              " 'David Vernon': 308,\n",
              " 'Mitsunori Ogihara': 309,\n",
              " 'Animesh Ray': 310,\n",
              " 'Reinhold Plösch': 311,\n",
              " 'Rainer Weinreich': 312,\n",
              " 'Christos Levcopoulos': 313,\n",
              " 'Andrzej Lingas': 314,\n",
              " 'Cao Wang': 315,\n",
              " 'Jijuan Zheng': 316,\n",
              " 'Christina-Angeliki Toli': 317,\n",
              " 'Bart Preneel': 318,\n",
              " 'Jordan B. Pollack': 319,\n",
              " 'Hod Lipson': 320,\n",
              " 'Pablo Funes': 321,\n",
              " 'Gregory S. Hornby': 322,\n",
              " 'Antoine Lobstein': 323,\n",
              " 'Ronald-Bryan O. Alferez': 324,\n",
              " 'Yuan-Fang Wang': 325,\n",
              " 'Ricardo Jiménez-Peris': 326,\n",
              " 'Marta Patiño-Martínez': 327,\n",
              " 'William H. R. Equitz': 328,\n",
              " 'Thomas M. Cover': 329,\n",
              " 'Andrzej Skowron': 330,\n",
              " 'Arkadiusz Wojna': 331,\n",
              " 'Ross J. Micheals': 332,\n",
              " 'Patrick J. Grother': 333,\n",
              " 'P. Jonathon Phillips': 334,\n",
              " 'Lukas Sekanina': 335,\n",
              " 'Zdeněk Vašíček': 336,\n",
              " 'Roberto Fresco': 337,\n",
              " 'Andrea Pederiva': 338,\n",
              " 'Michael Thielscher': 339,\n",
              " 'Sadegh Abbasi': 340,\n",
              " 'Farzin Mokhtarian': 341,\n",
              " 'Ralph Bergmann': 342,\n",
              " 'Ivo Vollrath': 343,\n",
              " 'Riccardo Focardi': 344,\n",
              " 'Flaminia L. Luccio': 345,\n",
              " 'Graham Steel': 346,\n",
              " 'Terry P. Speed': 347,\n",
              " 'Nourhene Maalel': 348,\n",
              " 'Mounir Kellil': 349,\n",
              " 'Pierre Roux': 350,\n",
              " 'Abdelmadjid Bouabdallah': 351,\n",
              " 'Bernd Brügge': 352,\n",
              " 'Ralf Pfleghar': 353,\n",
              " 'Thomas Reicher': 354,\n",
              " 'Saddek Bensalem': 355,\n",
              " 'Susanne Graf': 356,\n",
              " 'Yassine Lakhnech': 357,\n",
              " 'Manfred Nagl': 358,\n",
              " 'Stefan Janson': 359,\n",
              " 'Martin Middendorf': 360,\n",
              " 'Maria Roussou': 361,\n",
              " 'Michael Pieper': 362,\n",
              " 'Karl A. Stroetmann': 363,\n",
              " 'Harm Derksen': 364,\n",
              " 'Matteo Baldoni': 365,\n",
              " 'Cristina Baroglio': 366,\n",
              " 'Laura Giordano': 367,\n",
              " 'Alberto Martelli': 368,\n",
              " 'Viviana Patti': 369,\n",
              " 'Werner Wiedermann': 370,\n",
              " 'Marija Mikic-Rakic': 371,\n",
              " 'Sam Malek': 372,\n",
              " 'Nels E. Beckman': 373,\n",
              " 'Nenad Medvidovic': 374,\n",
              " 'Cyril Fonlupt': 375,\n",
              " 'Sébastien Cahon': 376,\n",
              " 'Denis Robilliard': 377,\n",
              " 'El-Ghazali Talbi': 378,\n",
              " 'Ludovic Duponchel': 379,\n",
              " 'Yoko Yamaguchi': 380,\n",
              " 'Colin Molter': 381,\n",
              " 'Wu Zhihua': 382,\n",
              " 'Tinne Tuytelaars': 383,\n",
              " 'Luc Van Gool': 384,\n",
              " 'Simon C. Roberts': 385,\n",
              " 'Daniel Howard': 386,\n",
              " 'S. S. Satchidananda': 387,\n",
              " 'Srinath Srinivasa': 388,\n",
              " 'Václav Snásel': 389,\n",
              " 'Bart Jacobs': 390,\n",
              " 'Alexandra Silva': 391,\n",
              " 'John M. Cioffi': 392,\n",
              " 'Yukiko Kenmochi': 393,\n",
              " 'Toshiaki Nomura': 394,\n",
              " 'Kazunori Kotani': 395,\n",
              " 'Guang-Ho Cha': 396,\n",
              " 'Antonina Danylenko': 397,\n",
              " 'Welf Löwe': 398,\n",
              " 'Imre Csiszár': 399,\n",
              " 'Sandrine Pasqualini': 400,\n",
              " 'Andreas Iselt': 401,\n",
              " 'Andreas Kirstädter': 402,\n",
              " 'Antoine Frost': 403,\n",
              " 'Clemens Gröpl': 404,\n",
              " 'Eva Lange': 405,\n",
              " 'Oliver Kohlbacher': 406,\n",
              " 'Marc Sturm': 407,\n",
              " 'Christian G. Huber': 408,\n",
              " 'Bettina M. Mayr': 409,\n",
              " 'Christoph L. Klein': 410,\n",
              " 'Diego Rughetti': 411,\n",
              " 'Pierangelo Di Sanzo': 412,\n",
              " 'Alessandro Pellegrini': 413,\n",
              " 'Bruno Ciciani': 414,\n",
              " 'Francesco Quaglia': 415,\n",
              " 'Marc Garbey': 416,\n",
              " 'Rainer Keller': 417,\n",
              " 'Michael M. Resch': 418,\n",
              " 'Ingrid Daubechies': 419,\n",
              " 'Stéphane Mallat': 420,\n",
              " 'Alan S. Willsky': 421,\n",
              " 'Elvio Gilberto Amparore': 422,\n",
              " 'Susanna Donatelli': 423,\n",
              " 'Bharat Bhushan': 424,\n",
              " 'Thomas Gringel': 425,\n",
              " 'Conor Ryan': 426,\n",
              " 'Eric Leray': 427,\n",
              " 'E. de Leastar': 428,\n",
              " 'James Cloney': 429,\n",
              " 'Ulrike Spierling': 430,\n",
              " 'Ido Iurgel': 431,\n",
              " 'Nils Svangård': 432,\n",
              " 'Peter Nordin': 433,\n",
              " 'Miguel Angel Lozano': 434,\n",
              " 'Francisco Escolano': 435,\n",
              " 'Domenico Beneventano': 436,\n",
              " 'Sonia Bergamaschi': 437,\n",
              " 'Silvana Castano': 438,\n",
              " 'Valeria De Antonellis': 439,\n",
              " 'Alfio Ferrara': 440,\n",
              " 'Francesco Guerra': 441,\n",
              " 'Federica Mandreoli': 442,\n",
              " 'Giorgio Carlo Ornetti': 443,\n",
              " 'Maurizio Vincini': 444,\n",
              " 'Grace A. Lewis': 445,\n",
              " 'Lutz Wrage': 446,\n",
              " 'Abdelkader Ouali': 447,\n",
              " 'Samir Loudni': 448,\n",
              " 'Lakhdar Loukil': 449,\n",
              " 'Patrice Boizumault': 450,\n",
              " 'Yahia Lebbah': 451,\n",
              " 'Paul Valckenaers': 452,\n",
              " 'Nariman Farvardin': 453,\n",
              " 'Jacek Chrząszcz': 454,\n",
              " 'Daria Walukiewicz-Chrząszcz': 455,\n",
              " 'Paweł Górecki': 456,\n",
              " 'Jerzy Tiuryn': 457,\n",
              " 'K. T. Arasu': 458,\n",
              " 'T. Aaron Gulliver': 459,\n",
              " 'Margot Colinet': 460,\n",
              " 'Sophia Katrenko': 461,\n",
              " 'Rasmus Kraemmer Rendsvig': 462,\n",
              " 'Seok-Woo Jang': 463,\n",
              " 'Kyujung Kim': 464,\n",
              " 'Hyung-Il Choi': 465,\n",
              " 'Xishuo Liu': 466,\n",
              " 'Stark C. Draper': 467,\n",
              " 'Jean-Paul Jamont': 468,\n",
              " 'Michel Occello': 469,\n",
              " 'Spela Ivekovic': 470,\n",
              " 'Aleš Leonardis': 471,\n",
              " 'John C. Knight': 472,\n",
              " 'Valérie Ficet-Cauchard': 473,\n",
              " 'Christine Porquet': 474,\n",
              " 'Marinette Revenu': 475,\n",
              " 'Ramesh R. Rao': 476,\n",
              " 'Jasper Vanlerberghe': 477,\n",
              " 'Joris Walraevens': 478,\n",
              " 'Tom Maertens': 479,\n",
              " 'Stijn De Vuyst': 480,\n",
              " 'Herwig Bruneel': 481,\n",
              " 'Michael J. Neely': 482,\n",
              " 'Eytan Modiano': 483,\n",
              " 'Giuseppe Scollo': 484,\n",
              " 'Jayant Shah': 485,\n",
              " 'Steven T. Dougherty': 486,\n",
              " 'Philippe Gaborit': 487,\n",
              " 'Masaaki Harada': 488,\n",
              " 'Patrick Solé': 489,\n",
              " 'Marco Beccuti': 490,\n",
              " 'Dimitri Scheftelowitsch': 491,\n",
              " 'Peter Buchholz': 492,\n",
              " 'Giuliana Franceschinis': 493,\n",
              " 'Lei Sun': 494,\n",
              " 'Ke Xu': 495,\n",
              " 'Weidong Liu': 496,\n",
              " 'Jianping Wu': 497,\n",
              " 'Tor Stålhane': 498,\n",
              " 'Torgeir Dingsøyr': 499,\n",
              " 'Geir Kjetil Hanssen': 500,\n",
              " 'Nils Brede Moe': 501,\n",
              " 'Mario Giacobini': 502,\n",
              " 'Marco Tomassini': 503,\n",
              " 'Andrea G. B. Tettamanzi': 504,\n",
              " 'Konstantinos Kotis': 505,\n",
              " 'George A. Vouros': 506,\n",
              " 'Christoph Benzmüller': 507,\n",
              " 'Bruno Woltzenlogel Paleo': 508,\n",
              " 'Shi-Kuo Chang': 509,\n",
              " 'John A. Schormans': 510,\n",
              " 'Tijana Timotijevic': 511,\n",
              " 'Ana Ferreira': 512,\n",
              " 'Jean-Louis Huynen': 513,\n",
              " 'Vincent Koenig': 514,\n",
              " 'Gabriele Lenzini': 515,\n",
              " 'Salvador Rivas': 516,\n",
              " 'Jiang Li': 517,\n",
              " 'Shivkumar Kalyanaraman': 518,\n",
              " 'Meir Feder': 519,\n",
              " 'Neri Merhav': 520,\n",
              " 'Michael Gutman': 521,\n",
              " 'Federico Manuri': 522,\n",
              " 'Andrea Sanna': 523,\n",
              " 'Fabrizio Lamberti': 524,\n",
              " 'Gianluca Paravati': 525,\n",
              " 'Pietro Pezzolla': 526,\n",
              " 'Nam H. Nguyen': 527,\n",
              " 'Deanna Needell': 528,\n",
              " 'Tina Woolf': 529,\n",
              " 'Sung Wan Kim': 530,\n",
              " 'Jaeho Lee': 531,\n",
              " 'Hae Chull Lim': 532,\n",
              " 'Davide Ciucci': 533,\n",
              " 'Didier Dubois': 534,\n",
              " 'Patricia Maldonado': 535,\n",
              " 'Vicente J. Botti': 536,\n",
              " 'Tao Dai': 537,\n",
              " 'Chunping Li': 538,\n",
              " 'Jia-Guang Sun': 539,\n",
              " 'Juichi Takahashi': 540,\n",
              " 'Yoshiaki Kakuda': 541,\n",
              " 'Bill Stoddart': 542,\n",
              " 'Manish Parashar': 543,\n",
              " 'Salim Hariri': 544,\n",
              " 'Lewis D. Griffin': 545,\n",
              " 'Stefan Borovac': 546,\n",
              " 'Gerhard Heindl': 547,\n",
              " 'Kenneth Baclawski': 548,\n",
              " 'Mieczyslaw M. Kokar': 549,\n",
              " 'Paul A. Kogut': 550,\n",
              " 'Lewis Hart': 551,\n",
              " 'Jeffrey E. Smith': 552,\n",
              " 'William S. Holmes Iii': 553,\n",
              " 'Jerzy Letkowski': 554,\n",
              " 'Michael L. Aronson': 555,\n",
              " 'Hans-Rüdiger Pfister': 556,\n",
              " 'Christian Schuckmann': 557,\n",
              " 'Jennifer Beck-Wilson': 558,\n",
              " 'Martin Wessner': 559,\n",
              " 'James J. Alpigini': 560,\n",
              " 'James F. Peters': 561,\n",
              " 'Agnieszka Debudaj-Grabysz': 562,\n",
              " 'Rolf Rabenseifner': 563,\n",
              " 'Jan G. Bazan': 564,\n",
              " 'Marcin S. Szczuka': 565,\n",
              " 'Dan Grossman': 566,\n",
              " 'J. Gregory Morrisett': 567,\n",
              " 'Yuki Yokoyama': 568,\n",
              " 'Kazushi Nishimoto': 569,\n",
              " 'Shaobin Cai': 570,\n",
              " 'Xiaozong Yang': 571,\n",
              " 'Jean-Marc Seigneur': 572,\n",
              " 'Stephen Farrell': 573,\n",
              " 'Christian Damsgaard Jensen': 574,\n",
              " 'Elizabeth Gray': 575,\n",
              " 'Yong Chen': 576,\n",
              " 'Nikos Komninos': 577,\n",
              " 'Bahram Honary': 578,\n",
              " 'Michael Darnell': 579,\n",
              " 'Andrew V. Goldberg': 580,\n",
              " 'Tristan Henderson': 581,\n",
              " 'Tomonari Masada': 582,\n",
              " 'Atsuhiro Takasu': 583,\n",
              " 'Tsuyoshi Hamada': 584,\n",
              " 'Yuichiro Shibata': 585,\n",
              " 'Kiyoshi Oguri': 586,\n",
              " 'John Hicks': 587,\n",
              " 'Padraic Monaghan': 588,\n",
              " 'Geoffrey Brown': 589,\n",
              " 'Miriam Leeser': 590,\n",
              " 'Jean-Pierre Chanod': 591,\n",
              " 'Carla Ferreira': 592,\n",
              " 'Michael Butler': 593,\n",
              " 'Baha Jabarin': 594,\n",
              " 'T. C. Nicholas Graham': 595,\n",
              " 'Falk Kemmel': 596,\n",
              " 'Sotiris Maniatis': 597,\n",
              " 'Anne Thomas': 598,\n",
              " 'Charilaos A. Tsetsekas': 599,\n",
              " 'Marcus Brunner': 600,\n",
              " 'Alex Galis': 601,\n",
              " 'Lawrence Cheng': 602,\n",
              " 'Jorge Andrés Colás': 603,\n",
              " 'Bengt Ahlgren': 604,\n",
              " 'Anders Gunnar': 605,\n",
              " 'Henrik Abrahamsson': 606,\n",
              " 'Róbert Szabó': 607,\n",
              " 'Simon Csaba': 608,\n",
              " 'Johan Nielsen': 609,\n",
              " 'Alberto Gonzalez Prieto': 610,\n",
              " 'Rolf Stadler': 611,\n",
              " 'Gergely Molnar': 612,\n",
              " 'Soo Yeon Lim': 613,\n",
              " 'Mu Hee Song': 614,\n",
              " 'Sang-Jo Lee': 615,\n",
              " 'Hiroshi Shimodaira': 616,\n",
              " 'Jun Rokui': 617,\n",
              " 'Mitsuru Nakai': 618,\n",
              " 'Alan Dorin': 619,\n",
              " 'Roman Bittner': 620,\n",
              " 'Pavel Smrcka': 621,\n",
              " 'Miroslav Pavelka': 622,\n",
              " 'Petr Vysoký': 623,\n",
              " 'Lubomir Pousek': 624,\n",
              " 'Marek Kurzynski': 625,\n",
              " 'Edward Puchala': 626,\n",
              " 'Jerzy Sas': 627,\n",
              " 'Joan Climent': 628,\n",
              " 'Antoni Grau': 629,\n",
              " 'Alberto Sanfeliu': 630,\n",
              " 'Yongwha Chung': 631,\n",
              " 'K. Park': 632,\n",
              " 'Woo-Jong Hahn': 633,\n",
              " 'Neungsoo Park': 634,\n",
              " 'Viktor K. Prasanna': 635,\n",
              " 'Hitoshi Furusawa': 636,\n",
              " 'Philippe Refalo': 637,\n",
              " 'Wolfgang Hommel': 638,\n",
              " 'Stefano Bistarelli': 639,\n",
              " 'Stefano Frassi': 640,\n",
              " 'Anna Vaccarelli': 641,\n",
              " 'JinHo Ahn': 642,\n",
              " 'Sung Gi Min': 643,\n",
              " 'Chong Sun Hwang': 644,\n",
              " 'Elona Erez': 645,\n",
              " 'MinJi Kim': 646,\n",
              " 'Yun Xu': 647,\n",
              " 'Edmund M. Yeh': 648,\n",
              " 'Muriel Médard': 649,\n",
              " 'Hideo Yamamoto': 650,\n",
              " 'Tetsutaro Kobayashi': 651,\n",
              " 'Masahiro Morita': 652,\n",
              " 'Ryuji Yamada': 653,\n",
              " 'Klaus Haller': 654,\n",
              " 'Heiko Schuldt': 655,\n",
              " 'Bernd Schoeller': 656,\n",
              " 'Tobias Widmer': 657,\n",
              " 'Bertrand Meyer': 658,\n",
              " 'Andreas Kind': 659,\n",
              " 'Miltiades E. Anagnostou': 660,\n",
              " 'Malamati D. Louta': 661,\n",
              " 'Jan Nicklisch': 662,\n",
              " 'Juan Tous': 663,\n",
              " 'Sahand Negahban': 664,\n",
              " 'Martin J. Wainwright': 665,\n",
              " 'Martin Hachet': 666,\n",
              " 'Pascal Guitton': 667,\n",
              " 'Pietro Casella': 668,\n",
              " 'Ana Paiva': 669,\n",
              " 'Emerson Cabrera Paraiso': 670,\n",
              " 'Jean-Paul A. Barthès': 671,\n",
              " 'Stephan Didas': 672,\n",
              " 'Bernhard Burgeth': 673,\n",
              " 'Joachim Weickert': 674,\n",
              " 'Bart Duysburgh': 675,\n",
              " 'Thijs Lambrecht': 676,\n",
              " 'Bart Dhoedt': 677,\n",
              " 'Piet Demeester': 678,\n",
              " 'Habin Lee': 679,\n",
              " 'John Willliam Shepherdson': 680,\n",
              " 'Jun Muramatsu': 681,\n",
              " 'Shigeki Miyake': 682,\n",
              " 'Michael Goedicke': 683,\n",
              " 'Klaus Pohl': 684,\n",
              " 'Uwe Zdun': 685,\n",
              " 'Luigi Lavazza': 686,\n",
              " 'Marco Mauri': 687,\n",
              " 'Peter Baumgartner': 688,\n",
              " 'Fabio Massacci': 689,\n",
              " 'Harald Meyer auf’m Hofe': 690,\n",
              " 'Nabil J. Sarhan': 691,\n",
              " 'Chita R. Das': 692,\n",
              " 'Nir A. Sochen': 693,\n",
              " 'Ron Kimmel': 694,\n",
              " 'Yuliang Geng': 695,\n",
              " 'De Xu': 696,\n",
              " 'Songhe Feng': 697,\n",
              " 'David McSherry': 698,\n",
              " 'Franck Petit': 699,\n",
              " 'Armando Ferro': 700,\n",
              " 'Fidel Liberal': 701,\n",
              " 'Alejandro Muñoz': 702,\n",
              " 'Cristina Perfecto': 703,\n",
              " 'Riccardo Distasi': 704,\n",
              " 'Sergio Vitulano': 705,\n",
              " 'Paul Buitelaar': 706,\n",
              " 'Daniel Olejnik': 707,\n",
              " 'Michael Sintek': 708,\n",
              " 'Aydin Sezgin': 709,\n",
              " 'Amir Salman Avestimehr': 710,\n",
              " 'M. A. Khajehnejad': 711,\n",
              " 'Babak Hassibi': 712,\n",
              " 'Stefan Kopp': 713,\n",
              " 'Jens Allwood': 714,\n",
              " 'Karl Grammer': 715,\n",
              " 'Elisabeth Ahlsén': 716,\n",
              " 'Thorsten Stocksmeier': 717,\n",
              " 'Tom De Muer': 718,\n",
              " 'Dick Botteldooren': 719,\n",
              " 'Jan Wilms': 720,\n",
              " 'Christian Lange': 721,\n",
              " 'Thomas Hermann': 722,\n",
              " 'Helge Ritter': 723,\n",
              " 'Richard Bosworth': 724,\n",
              " 'Andy Williamson': 725,\n",
              " 'Norbert Eichhorn': 726,\n",
              " 'Helmut Kiesewetter': 727,\n",
              " 'Fumitaka Hoshino': 728,\n",
              " 'Kazumaro Aoki': 729,\n",
              " 'WoongChul Choi': 730,\n",
              " 'Kwangsue Chung': 731,\n",
              " 'Seung Hyong Rhee': 732,\n",
              " 'Jin-Woong Cho': 733,\n",
              " 'Osher Yadgar': 734,\n",
              " 'Sarit Kraus': 735,\n",
              " 'Charles L. Ortiz': 736,\n",
              " 'Koichi Goto': 737,\n",
              " 'Yahiko Kambayashi': 738,\n",
              " 'Dit Yan Yeung': 739,\n",
              " 'Hong Chang': 740,\n",
              " 'Yimin Xiong': 741,\n",
              " 'Susan E. George': 742,\n",
              " 'Ramanujan S. Kashi': 743,\n",
              " 'Takashi Matsumoto': 744,\n",
              " 'Gerhard Rigoll': 745,\n",
              " 'Marco Lohse': 746,\n",
              " 'Michael Repplinger': 747,\n",
              " 'Philipp Slusallek': 748,\n",
              " 'Dattatraya Kulkarni': 749,\n",
              " 'Michael Stumm': 750,\n",
              " 'Tero Harju': 751,\n",
              " 'Ion Petre': 752,\n",
              " 'Grzegorz Rozenberg': 753,\n",
              " 'J. Assfalg': 754,\n",
              " 'Marco Bertini': 755,\n",
              " 'Carlo Colombo': 756,\n",
              " 'Alberto Del Bimbo': 757,\n",
              " 'Takahiro Sakamoto': 758,\n",
              " 'Tatsurou Sekiguchi': 759,\n",
              " 'Akinori Yonezawa': 760,\n",
              " 'Laura Vallius': 761,\n",
              " 'Tomi Kujanpää': 762,\n",
              " 'Tony Manninen': 763,\n",
              " 'Ruddy Lelouche': 764,\n",
              " 'Daniel Oberle': 765,\n",
              " 'Marta Sabou': 766,\n",
              " 'Debbie Richards': 767,\n",
              " 'Raphael Volz': 768,\n",
              " 'Victor Page': 769,\n",
              " 'Maurice Dixon': 770,\n",
              " 'Peter Bielkowicz': 771,\n",
              " 'Alessandro Zimmer': 772,\n",
              " 'Lee Luan Ling': 773,\n",
              " 'Dirk Draheim': 774,\n",
              " 'Gerald Weber': 775,\n",
              " 'Wu Boying': 776,\n",
              " 'Liu Shaohui': 777,\n",
              " 'Deng Zhongxing': 778,\n",
              " 'Jaesung Park': 779,\n",
              " 'Beom Joon Kim': 780,\n",
              " 'Yong-Hoon Choi': 781,\n",
              " 'M. Banzi': 782,\n",
              " 'F. Macugli': 783,\n",
              " 'S. Borion': 784,\n",
              " 'Giuseppe La Commare': 785,\n",
              " 'Rolf Klein': 786,\n",
              " 'Fayin Li': 787,\n",
              " 'Harry Wechsler': 788,\n",
              " 'Juan Ramón Rico-Juan': 789,\n",
              " 'Jorge Calera-Rubio': 790,\n",
              " 'Rafael C. Carrasco': 791,\n",
              " 'Bernd Gärtner': 792,\n",
              " 'Emo Welzl': 793,\n",
              " 'Seong-il Hahm': 794,\n",
              " 'Jongwon Lee': 795,\n",
              " 'Chong-kwon Kim': 796,\n",
              " 'Nick Bassiliades': 797,\n",
              " 'Grigoris Antoniou': 798,\n",
              " 'Ioannis P. Vlahavas': 799,\n",
              " 'Keita Emura': 800,\n",
              " 'Atsuko Miyaji': 801,\n",
              " 'Kazumasa Omote': 802,\n",
              " 'Jukka Louhivuori': 803,\n",
              " 'Bruno Legeard': 804,\n",
              " 'Fabien Peureux': 805,\n",
              " 'Mark Utting': 806,\n",
              " 'Jacqueline Floch': 807,\n",
              " 'Rolv Bræk': 808,\n",
              " 'Maria Roussos': 809,\n",
              " 'Hisham Bizri': 810,\n",
              " 'Panos Markopoulos': 811,\n",
              " 'B. de Ruyter': 812,\n",
              " 'Wa Wijnand IJsselsteijn': 813,\n",
              " 'Duncan Rowland': 814,\n",
              " 'Edward Nawarecki': 815,\n",
              " 'Jarosław Koźlak': 816,\n",
              " 'Grzegorz Dobrowolski': 817,\n",
              " 'Marek Kisiel-Dorohinicki': 818,\n",
              " 'Régine Laleau': 819,\n",
              " 'Fiona Polack': 820,\n",
              " 'Satoshi Yamane': 821,\n",
              " 'Kazuhiro Okada': 822,\n",
              " 'Kenji Shinoda': 823,\n",
              " 'Kenji Oshima': 824,\n",
              " 'Adams Wai-Kin Kong': 825,\n",
              " 'Mohamed S. Kamel': 826,\n",
              " 'Chu Cheow Lim': 827,\n",
              " 'Yoke Hean Low': 828,\n",
              " 'Yağiz Yaşaroğlu': 829,\n",
              " 'A. Aydin Alatan': 830,\n",
              " 'Lyle Noakes': 831,\n",
              " 'R. Kozera': 832,\n",
              " 'James Lipton': 833,\n",
              " 'Robert McGrail': 834,\n",
              " 'Yusuke Kimura': 835,\n",
              " 'Makoto Nakamura': 836,\n",
              " 'Akira Shimazu': 837,\n",
              " 'Toru Hisamitsu': 838,\n",
              " 'Jun’ichi Tsujii': 839,\n",
              " 'Wenjin Lu': 840,\n",
              " 'Ulrich Furbach': 841,\n",
              " 'Mark Richters': 842,\n",
              " 'Martin Gogolla': 843,\n",
              " 'Marcus Ciolkowski': 844,\n",
              " 'Oliver Laitenberger': 845,\n",
              " 'Sira Vegas': 846,\n",
              " 'Stefan Biffl': 847,\n",
              " 'David Wakeling': 848,\n",
              " 'Phan Minh Dung': 849,\n",
              " 'Tran Cao Son': 850,\n",
              " 'André Adelsbach': 851,\n",
              " 'Markus Rohe': 852,\n",
              " 'Ahmad-Reza Sadeghi': 853,\n",
              " 'Mariusz Flasiński': 854,\n",
              " 'Robert Schaefer': 855,\n",
              " 'Wojciech Toporkiewicz': 856,\n",
              " 'Gerður Jónsdóttir': 857,\n",
              " 'Leigh A. Davis': 858,\n",
              " 'Rose F. Gamble': 859,\n",
              " 'Juan A. Fernández del Pozo': 860,\n",
              " 'Concha Bielza': 861,\n",
              " 'Manuel Fernandez Gomez': 862,\n",
              " 'Despina Kontos': 863,\n",
              " 'Vasileios Megalooikonomou': 864,\n",
              " 'Marc Sobel': 865,\n",
              " 'Qiang Wang': 866,\n",
              " 'Hae-Sung Lee': 867,\n",
              " 'Yongbum Cho': 868,\n",
              " 'Hyeran Byun': 869,\n",
              " 'Ji-Sang Yoo': 870,\n",
              " 'Rich Hilliard': 871,\n",
              " 'B. S. Manoj': 872,\n",
              " 'Rajesh Mishra': 873,\n",
              " 'Keiichi Nakata': 874,\n",
              " 'Rolf H. Möhring': 875,\n",
              " 'Frederic Fol Leymarie': 876,\n",
              " 'Benjamin B. Kimia': 877,\n",
              " 'Lianne Bodenstaff': 878,\n",
              " 'Paolo Ceravolo': 879,\n",
              " 'Ernesto Damiani': 880,\n",
              " 'Cristiano Fugazza': 881,\n",
              " 'Karl Reed': 882,\n",
              " 'Andreas Wombacher': 883,\n",
              " 'Cheong-Woo Lee': 884,\n",
              " 'Seong-Dae Kim': 885,\n",
              " 'Rodney Berry': 886,\n",
              " 'D. Manivannan': 887,\n",
              " 'Qiangfeng Jiang': 888,\n",
              " 'Jianchang Yang': 889,\n",
              " 'Karl E. Persson': 890,\n",
              " 'Mukesh Singhal': 891,\n",
              " 'Stefania Bandini': 892,\n",
              " 'Ettore Colombo': 893,\n",
              " 'Fabio Sartori': 894,\n",
              " 'Giuseppe Vizzari': 895,\n",
              " 'Ihn-Jung Baik': 896,\n",
              " 'Sae-Young Chung': 897,\n",
              " 'Jon McCormack': 898,\n",
              " 'Luis E. Anido-Rifón': 899,\n",
              " 'Manuel Caeiro': 900,\n",
              " 'Judith S. Rodríguez': 901,\n",
              " 'Juan Santos': 902,\n",
              " 'Stefan Göbel': 903,\n",
              " 'Oliver Schneider': 904,\n",
              " 'Axel Feix': 905,\n",
              " 'Christian Knöpfle': 906,\n",
              " 'Alexander Rettig': 907,\n",
              " 'Dae-Hee Seo': 908,\n",
              " 'Deok-Gyu Lee': 909,\n",
              " 'Im-Yeong Lee': 910,\n",
              " 'Andrew Burgess': 911,\n",
              " 'Sam Steel': 912,\n",
              " 'Roman W. Swiniarski': 913,\n",
              " 'Michel Sala': 914,\n",
              " 'Pierre Pompidor': 915,\n",
              " 'Danièle Hérin': 916,\n",
              " 'Fabio Gadducci': 917,\n",
              " 'Craig Robertson': 918,\n",
              " 'Robert B. Fisher': 919,\n",
              " 'Naoufel Werghi': 920,\n",
              " 'Anthony Ashbrook': 921,\n",
              " 'Olivier Caron': 922,\n",
              " 'Bernard Carré': 923,\n",
              " 'Alexis Muller': 924,\n",
              " 'Gilles Vanwormhoudt': 925,\n",
              " 'José Gabriel Rodríguez Carneiro Gomes': 926,\n",
              " 'Olivier Faugeras': 927,\n",
              " 'Adel Hlaoui': 928,\n",
              " 'Shengrui Wang': 929,\n",
              " 'Marc Joye': 930,\n",
              " 'Narn-Yih Lee': 931,\n",
              " 'Tzonelih Hwang': 932,\n",
              " 'Chris Abts': 933,\n",
              " 'Ruth Raventós': 934,\n",
              " 'Cong Liu': 935,\n",
              " 'Wei Huang': 936,\n",
              " 'Zhiguo Zhang': 937,\n",
              " 'Heiko Timm': 938,\n",
              " 'Christian Döring': 939,\n",
              " 'Rudolf Kruse': 940,\n",
              " 'Antje Nowack': 941,\n",
              " 'Jean-Pierre Jouannaud': 942,\n",
              " 'Ralf Treinen': 943,\n",
              " 'Maria-Teresa Sagri': 944,\n",
              " 'Daniela Tiscornia': 945,\n",
              " 'Aldo Gangemi': 946,\n",
              " 'Mikael Ronström': 947,\n",
              " 'Paul F. Curran': 948,\n",
              " 'Gary McDarby': 949,\n",
              " 'Thai Son Hoang': 950,\n",
              " 'Zhendong Jin': 951,\n",
              " 'Ken Robinson': 952,\n",
              " 'Annabelle McIver': 953,\n",
              " 'Carroll Morgan': 954,\n",
              " 'Mayer Aladjem': 955,\n",
              " 'Christian Prehofer': 956,\n",
              " 'Qing Wei': 957,\n",
              " 'Alongkrit Chutinan': 958,\n",
              " 'Bruce H. Krogh': 959,\n",
              " 'Masaki Suwa': 960,\n",
              " 'Reda Reda': 961,\n",
              " 'Jing Shen': 962,\n",
              " 'Jiaoying Shi': 963,\n",
              " 'Jon Crowcroft': 964,\n",
              " 'Petra Malik': 965,\n",
              " 'Michael K. Tschudi': 966,\n",
              " 'Susan Darling Urban': 967,\n",
              " 'Suzanne W. Dietrich': 968,\n",
              " 'Anton P. Karadimce': 969,\n",
              " 'Simon Helsen': 970,\n",
              " 'Peter Thiemann': 971,\n",
              " 'Paulo Gomes': 972,\n",
              " 'Francisco C. Pereira': 973,\n",
              " 'Paulo Paiva': 974,\n",
              " 'Nuno Seco': 975,\n",
              " 'Paulo Carreiro': 976,\n",
              " 'José Luís Ferreira': 977,\n",
              " 'Carlos Bento': 978,\n",
              " 'Jacky Estublier': 979,\n",
              " 'Javier Pereira': 980,\n",
              " 'Alejandro Lamelo': 981,\n",
              " 'José M. Vázquez-Naya': 982,\n",
              " 'Mario Fernandez': 983,\n",
              " 'Julian Dorado': 984,\n",
              " 'Antonino Santos': 985,\n",
              " 'Jorge Teijeiro': 986,\n",
              " 'Alejandro Pazos': 987,\n",
              " 'Yuri L. Borissov': 988,\n",
              " 'An Braeken': 989,\n",
              " 'Svetla Nikova': 990,\n",
              " 'Gavin J. Doherty': 991,\n",
              " 'Mieke Massink': 992,\n",
              " 'Giorgio P. Faconti': 993,\n",
              " 'Jian-Ping Yong': 994,\n",
              " 'Kwok-Yan Lam': 995,\n",
              " 'Siu Leung Chung': 996,\n",
              " 'Ming Gu': 997,\n",
              " 'Christof Fetzer': 998,\n",
              " 'Karin Högstedt': 999,\n",
              " ...}"
            ]
          },
          "metadata": {
            "tags": []
          },
          "execution_count": 11
        }
      ]
    },
    {
      "cell_type": "code",
      "metadata": {
        "id": "D5mU5JM7cjiE"
      },
      "source": [
        "co = graph.run(\n",
        "    \"\"\"\n",
        "    MATCH p=(a)-[r:CO_AUTHOR_DIRECT]->(b) RETURN a.name as source,b.name as target \n",
        "    \"\"\").to_data_frame()"
      ],
      "execution_count": null,
      "outputs": []
    },
    {
      "cell_type": "code",
      "metadata": {
        "id": "SEH1M_bGcjgI",
        "outputId": "2302d4cb-12d3-4ec7-df46-995c71b90dcb",
        "colab": {
          "base_uri": "https://localhost:8080/",
          "height": 221
        }
      },
      "source": [
        "print(co.shape)\n",
        "co.head()"
      ],
      "execution_count": null,
      "outputs": [
        {
          "output_type": "stream",
          "text": [
            "(120775, 2)\n"
          ],
          "name": "stdout"
        },
        {
          "output_type": "execute_result",
          "data": {
            "text/html": [
              "<div>\n",
              "<style scoped>\n",
              "    .dataframe tbody tr th:only-of-type {\n",
              "        vertical-align: middle;\n",
              "    }\n",
              "\n",
              "    .dataframe tbody tr th {\n",
              "        vertical-align: top;\n",
              "    }\n",
              "\n",
              "    .dataframe thead th {\n",
              "        text-align: right;\n",
              "    }\n",
              "</style>\n",
              "<table border=\"1\" class=\"dataframe\">\n",
              "  <thead>\n",
              "    <tr style=\"text-align: right;\">\n",
              "      <th></th>\n",
              "      <th>source</th>\n",
              "      <th>target</th>\n",
              "    </tr>\n",
              "  </thead>\n",
              "  <tbody>\n",
              "    <tr>\n",
              "      <th>0</th>\n",
              "      <td>Eun-Kyeong Kwon</td>\n",
              "      <td>Yong-Gu Cho</td>\n",
              "    </tr>\n",
              "    <tr>\n",
              "      <th>1</th>\n",
              "      <td>Eun-Kyeong Kwon</td>\n",
              "      <td>Kijoon Chae</td>\n",
              "    </tr>\n",
              "    <tr>\n",
              "      <th>2</th>\n",
              "      <td>Yong-Gu Cho</td>\n",
              "      <td>Kijoon Chae</td>\n",
              "    </tr>\n",
              "    <tr>\n",
              "      <th>3</th>\n",
              "      <td>Kijoon Chae</td>\n",
              "      <td>Hyun-Jung Na</td>\n",
              "    </tr>\n",
              "    <tr>\n",
              "      <th>4</th>\n",
              "      <td>Kijoon Chae</td>\n",
              "      <td>Ga-Jin Na</td>\n",
              "    </tr>\n",
              "  </tbody>\n",
              "</table>\n",
              "</div>"
            ],
            "text/plain": [
              "            source        target\n",
              "0  Eun-Kyeong Kwon   Yong-Gu Cho\n",
              "1  Eun-Kyeong Kwon   Kijoon Chae\n",
              "2      Yong-Gu Cho   Kijoon Chae\n",
              "3      Kijoon Chae  Hyun-Jung Na\n",
              "4      Kijoon Chae     Ga-Jin Na"
            ]
          },
          "metadata": {
            "tags": []
          },
          "execution_count": 13
        }
      ]
    },
    {
      "cell_type": "code",
      "metadata": {
        "id": "o0eQSP4tcjd9"
      },
      "source": [
        "cal_colab_direct_df = graph.run(\n",
        "    \"\"\"\n",
        "    MATCH p=(a)-[r:CO_AUTHOR_DIRECT]->(b) RETURN a.name as source, b.name as target, r.collaborations\n",
        "    \"\"\").to_data_frame()"
      ],
      "execution_count": null,
      "outputs": []
    },
    {
      "cell_type": "code",
      "metadata": {
        "id": "UPWzj-Vjcjax",
        "outputId": "ec5914a2-48ad-4907-9976-9947f1fd7382",
        "colab": {
          "base_uri": "https://localhost:8080/",
          "height": 221
        }
      },
      "source": [
        "print(cal_colab_direct_df.shape)\n",
        "cal_colab_direct_df.head()"
      ],
      "execution_count": null,
      "outputs": [
        {
          "output_type": "stream",
          "text": [
            "(120775, 3)\n"
          ],
          "name": "stdout"
        },
        {
          "output_type": "execute_result",
          "data": {
            "text/html": [
              "<div>\n",
              "<style scoped>\n",
              "    .dataframe tbody tr th:only-of-type {\n",
              "        vertical-align: middle;\n",
              "    }\n",
              "\n",
              "    .dataframe tbody tr th {\n",
              "        vertical-align: top;\n",
              "    }\n",
              "\n",
              "    .dataframe thead th {\n",
              "        text-align: right;\n",
              "    }\n",
              "</style>\n",
              "<table border=\"1\" class=\"dataframe\">\n",
              "  <thead>\n",
              "    <tr style=\"text-align: right;\">\n",
              "      <th></th>\n",
              "      <th>source</th>\n",
              "      <th>target</th>\n",
              "      <th>r.collaborations</th>\n",
              "    </tr>\n",
              "  </thead>\n",
              "  <tbody>\n",
              "    <tr>\n",
              "      <th>0</th>\n",
              "      <td>Eun-Kyeong Kwon</td>\n",
              "      <td>Yong-Gu Cho</td>\n",
              "      <td>2</td>\n",
              "    </tr>\n",
              "    <tr>\n",
              "      <th>1</th>\n",
              "      <td>Eun-Kyeong Kwon</td>\n",
              "      <td>Kijoon Chae</td>\n",
              "      <td>2</td>\n",
              "    </tr>\n",
              "    <tr>\n",
              "      <th>2</th>\n",
              "      <td>Yong-Gu Cho</td>\n",
              "      <td>Kijoon Chae</td>\n",
              "      <td>2</td>\n",
              "    </tr>\n",
              "    <tr>\n",
              "      <th>3</th>\n",
              "      <td>Kijoon Chae</td>\n",
              "      <td>Hyun-Jung Na</td>\n",
              "      <td>1</td>\n",
              "    </tr>\n",
              "    <tr>\n",
              "      <th>4</th>\n",
              "      <td>Kijoon Chae</td>\n",
              "      <td>Ga-Jin Na</td>\n",
              "      <td>1</td>\n",
              "    </tr>\n",
              "  </tbody>\n",
              "</table>\n",
              "</div>"
            ],
            "text/plain": [
              "            source        target  r.collaborations\n",
              "0  Eun-Kyeong Kwon   Yong-Gu Cho                 2\n",
              "1  Eun-Kyeong Kwon   Kijoon Chae                 2\n",
              "2      Yong-Gu Cho   Kijoon Chae                 2\n",
              "3      Kijoon Chae  Hyun-Jung Na                 1\n",
              "4      Kijoon Chae     Ga-Jin Na                 1"
            ]
          },
          "metadata": {
            "tags": []
          },
          "execution_count": 15
        }
      ]
    },
    {
      "cell_type": "code",
      "metadata": {
        "id": "vtpQO4ak-gs4",
        "outputId": "17cd0ff5-b526-46dc-be46-934f9b911680",
        "colab": {
          "base_uri": "https://localhost:8080/",
          "height": 390
        }
      },
      "source": [
        "cal_colab_direct_df[cal_colab_direct_df['source'] == 'Kijoon Chae']"
      ],
      "execution_count": null,
      "outputs": [
        {
          "output_type": "execute_result",
          "data": {
            "text/html": [
              "<div>\n",
              "<style scoped>\n",
              "    .dataframe tbody tr th:only-of-type {\n",
              "        vertical-align: middle;\n",
              "    }\n",
              "\n",
              "    .dataframe tbody tr th {\n",
              "        vertical-align: top;\n",
              "    }\n",
              "\n",
              "    .dataframe thead th {\n",
              "        text-align: right;\n",
              "    }\n",
              "</style>\n",
              "<table border=\"1\" class=\"dataframe\">\n",
              "  <thead>\n",
              "    <tr style=\"text-align: right;\">\n",
              "      <th></th>\n",
              "      <th>source</th>\n",
              "      <th>target</th>\n",
              "      <th>r.collaborations</th>\n",
              "    </tr>\n",
              "  </thead>\n",
              "  <tbody>\n",
              "    <tr>\n",
              "      <th>3</th>\n",
              "      <td>Kijoon Chae</td>\n",
              "      <td>Hyun-Jung Na</td>\n",
              "      <td>1</td>\n",
              "    </tr>\n",
              "    <tr>\n",
              "      <th>4</th>\n",
              "      <td>Kijoon Chae</td>\n",
              "      <td>Ga-Jin Na</td>\n",
              "      <td>1</td>\n",
              "    </tr>\n",
              "    <tr>\n",
              "      <th>5</th>\n",
              "      <td>Kijoon Chae</td>\n",
              "      <td>Hayoung Oh</td>\n",
              "      <td>1</td>\n",
              "    </tr>\n",
              "    <tr>\n",
              "      <th>6</th>\n",
              "      <td>Kijoon Chae</td>\n",
              "      <td>Jung-Chan Na</td>\n",
              "      <td>1</td>\n",
              "    </tr>\n",
              "    <tr>\n",
              "      <th>7</th>\n",
              "      <td>Kijoon Chae</td>\n",
              "      <td>Youngsoo Kim</td>\n",
              "      <td>1</td>\n",
              "    </tr>\n",
              "    <tr>\n",
              "      <th>8</th>\n",
              "      <td>Kijoon Chae</td>\n",
              "      <td>Jungchan Nah</td>\n",
              "      <td>1</td>\n",
              "    </tr>\n",
              "    <tr>\n",
              "      <th>9</th>\n",
              "      <td>Kijoon Chae</td>\n",
              "      <td>Hyokyung Bahn</td>\n",
              "      <td>1</td>\n",
              "    </tr>\n",
              "    <tr>\n",
              "      <th>10</th>\n",
              "      <td>Kijoon Chae</td>\n",
              "      <td>Ok-Kyeung Kim</td>\n",
              "      <td>1</td>\n",
              "    </tr>\n",
              "    <tr>\n",
              "      <th>11</th>\n",
              "      <td>Kijoon Chae</td>\n",
              "      <td>Jiyoung Lim</td>\n",
              "      <td>2</td>\n",
              "    </tr>\n",
              "    <tr>\n",
              "      <th>12</th>\n",
              "      <td>Kijoon Chae</td>\n",
              "      <td>Myung-Jin Lee</td>\n",
              "      <td>1</td>\n",
              "    </tr>\n",
              "    <tr>\n",
              "      <th>13</th>\n",
              "      <td>Kijoon Chae</td>\n",
              "      <td>Yeojin Kim</td>\n",
              "      <td>1</td>\n",
              "    </tr>\n",
              "  </tbody>\n",
              "</table>\n",
              "</div>"
            ],
            "text/plain": [
              "         source         target  r.collaborations\n",
              "3   Kijoon Chae   Hyun-Jung Na                 1\n",
              "4   Kijoon Chae      Ga-Jin Na                 1\n",
              "5   Kijoon Chae     Hayoung Oh                 1\n",
              "6   Kijoon Chae   Jung-Chan Na                 1\n",
              "7   Kijoon Chae   Youngsoo Kim                 1\n",
              "8   Kijoon Chae   Jungchan Nah                 1\n",
              "9   Kijoon Chae  Hyokyung Bahn                 1\n",
              "10  Kijoon Chae  Ok-Kyeung Kim                 1\n",
              "11  Kijoon Chae    Jiyoung Lim                 2\n",
              "12  Kijoon Chae  Myung-Jin Lee                 1\n",
              "13  Kijoon Chae     Yeojin Kim                 1"
            ]
          },
          "metadata": {
            "tags": []
          },
          "execution_count": 16
        }
      ]
    },
    {
      "cell_type": "code",
      "metadata": {
        "id": "aUGreW0l-hkB"
      },
      "source": [
        "# Calculate total collaborations per author (direct)\n",
        "colab_dic_direct = {}\n",
        "for i in range(len(cal_colab_direct_df)):\n",
        "    if dic_authors[cal_colab_direct_df['source'][i]] not in colab_dic_direct.keys():\n",
        "        colab_dic_direct[dic_authors[cal_colab_direct_df['source'][i]]] = cal_colab_direct_df['r.collaborations'][i]\n",
        "    else:\n",
        "        colab_dic_direct[dic_authors[cal_colab_direct_df['source'][i]]] += cal_colab_direct_df['r.collaborations'][i]\n",
        "\n",
        "    if dic_authors[cal_colab_direct_df['target'][i]]  not in colab_dic_direct.keys():\n",
        "        colab_dic_direct[dic_authors[cal_colab_direct_df['target'][i]]] = cal_colab_direct_df['r.collaborations'][i]\n",
        "    else:\n",
        "        colab_dic_direct[dic_authors[cal_colab_direct_df['target'][i]]] += cal_colab_direct_df['r.collaborations'][i]"
      ],
      "execution_count": null,
      "outputs": []
    },
    {
      "cell_type": "code",
      "metadata": {
        "id": "KISHKAbA-hhj",
        "outputId": "26ef6ba3-9b29-4e61-d13b-6f50691dfb7f",
        "colab": {
          "base_uri": "https://localhost:8080/"
        }
      },
      "source": [
        "print(len(colab_dic_direct))\n",
        "# colab_dic_direct"
      ],
      "execution_count": null,
      "outputs": [
        {
          "output_type": "stream",
          "text": [
            "60544\n"
          ],
          "name": "stdout"
        }
      ]
    },
    {
      "cell_type": "code",
      "metadata": {
        "id": "xwMH2eSc-he0"
      },
      "source": [
        "cal_colab_cited_df = graph.run(\n",
        "    \"\"\"\n",
        "    MATCH p=(a)-[r:CO_AUTHOR_CITED_FINAL]->(b) RETURN a.name as source, b.name as target, r.collaborations\n",
        "    \"\"\").to_data_frame()"
      ],
      "execution_count": null,
      "outputs": []
    },
    {
      "cell_type": "code",
      "metadata": {
        "id": "Wzg_eTqv-hct",
        "outputId": "8b594131-42d0-4696-94bc-2299dc1ec323",
        "colab": {
          "base_uri": "https://localhost:8080/",
          "height": 221
        }
      },
      "source": [
        "print(cal_colab_cited_df.shape)\n",
        "cal_colab_cited_df.head()"
      ],
      "execution_count": null,
      "outputs": [
        {
          "output_type": "stream",
          "text": [
            "(60863, 3)\n"
          ],
          "name": "stdout"
        },
        {
          "output_type": "execute_result",
          "data": {
            "text/html": [
              "<div>\n",
              "<style scoped>\n",
              "    .dataframe tbody tr th:only-of-type {\n",
              "        vertical-align: middle;\n",
              "    }\n",
              "\n",
              "    .dataframe tbody tr th {\n",
              "        vertical-align: top;\n",
              "    }\n",
              "\n",
              "    .dataframe thead th {\n",
              "        text-align: right;\n",
              "    }\n",
              "</style>\n",
              "<table border=\"1\" class=\"dataframe\">\n",
              "  <thead>\n",
              "    <tr style=\"text-align: right;\">\n",
              "      <th></th>\n",
              "      <th>source</th>\n",
              "      <th>target</th>\n",
              "      <th>r.collaborations</th>\n",
              "    </tr>\n",
              "  </thead>\n",
              "  <tbody>\n",
              "    <tr>\n",
              "      <th>0</th>\n",
              "      <td>Raymond W. Yeung</td>\n",
              "      <td>Song-Nam Hong</td>\n",
              "      <td>3</td>\n",
              "    </tr>\n",
              "    <tr>\n",
              "      <th>1</th>\n",
              "      <td>Raymond W. Yeung</td>\n",
              "      <td>Steven Weber</td>\n",
              "      <td>12</td>\n",
              "    </tr>\n",
              "    <tr>\n",
              "      <th>2</th>\n",
              "      <td>Raymond W. Yeung</td>\n",
              "      <td>Vladimir Stankovic</td>\n",
              "      <td>3</td>\n",
              "    </tr>\n",
              "    <tr>\n",
              "      <th>3</th>\n",
              "      <td>Raymond W. Yeung</td>\n",
              "      <td>Neeharika Marukala</td>\n",
              "      <td>2</td>\n",
              "    </tr>\n",
              "    <tr>\n",
              "      <th>4</th>\n",
              "      <td>Raymond W. Yeung</td>\n",
              "      <td>Katherine Morrison</td>\n",
              "      <td>2</td>\n",
              "    </tr>\n",
              "  </tbody>\n",
              "</table>\n",
              "</div>"
            ],
            "text/plain": [
              "             source              target  r.collaborations\n",
              "0  Raymond W. Yeung       Song-Nam Hong                 3\n",
              "1  Raymond W. Yeung        Steven Weber                12\n",
              "2  Raymond W. Yeung  Vladimir Stankovic                 3\n",
              "3  Raymond W. Yeung  Neeharika Marukala                 2\n",
              "4  Raymond W. Yeung  Katherine Morrison                 2"
            ]
          },
          "metadata": {
            "tags": []
          },
          "execution_count": 20
        }
      ]
    },
    {
      "cell_type": "code",
      "metadata": {
        "id": "FoGdJ-RT-hZ4",
        "outputId": "c0e0e784-8200-4468-ce20-a1ca34812beb",
        "colab": {
          "base_uri": "https://localhost:8080/",
          "height": 1000
        }
      },
      "source": [
        "cal_colab_cited_df[cal_colab_cited_df['source'] == 'Steven Weber']"
      ],
      "execution_count": null,
      "outputs": [
        {
          "output_type": "execute_result",
          "data": {
            "text/html": [
              "<div>\n",
              "<style scoped>\n",
              "    .dataframe tbody tr th:only-of-type {\n",
              "        vertical-align: middle;\n",
              "    }\n",
              "\n",
              "    .dataframe tbody tr th {\n",
              "        vertical-align: top;\n",
              "    }\n",
              "\n",
              "    .dataframe thead th {\n",
              "        text-align: right;\n",
              "    }\n",
              "</style>\n",
              "<table border=\"1\" class=\"dataframe\">\n",
              "  <thead>\n",
              "    <tr style=\"text-align: right;\">\n",
              "      <th></th>\n",
              "      <th>source</th>\n",
              "      <th>target</th>\n",
              "      <th>r.collaborations</th>\n",
              "    </tr>\n",
              "  </thead>\n",
              "  <tbody>\n",
              "    <tr>\n",
              "      <th>9802</th>\n",
              "      <td>Steven Weber</td>\n",
              "      <td>Raymond Hall Yip Louie</td>\n",
              "      <td>2</td>\n",
              "    </tr>\n",
              "    <tr>\n",
              "      <th>9803</th>\n",
              "      <td>Steven Weber</td>\n",
              "      <td>Chun-Hung Liu</td>\n",
              "      <td>3</td>\n",
              "    </tr>\n",
              "    <tr>\n",
              "      <th>9804</th>\n",
              "      <td>Steven Weber</td>\n",
              "      <td>Junse Lee</td>\n",
              "      <td>2</td>\n",
              "    </tr>\n",
              "    <tr>\n",
              "      <th>9805</th>\n",
              "      <td>Steven Weber</td>\n",
              "      <td>Giovanni Luca Torrisi</td>\n",
              "      <td>2</td>\n",
              "    </tr>\n",
              "    <tr>\n",
              "      <th>9806</th>\n",
              "      <td>Steven Weber</td>\n",
              "      <td>Aaron B. Wagner</td>\n",
              "      <td>2</td>\n",
              "    </tr>\n",
              "    <tr>\n",
              "      <th>9807</th>\n",
              "      <td>Steven Weber</td>\n",
              "      <td>Namyoon Lee</td>\n",
              "      <td>5</td>\n",
              "    </tr>\n",
              "    <tr>\n",
              "      <th>9808</th>\n",
              "      <td>Steven Weber</td>\n",
              "      <td>Bertrand M. Hochwald</td>\n",
              "      <td>2</td>\n",
              "    </tr>\n",
              "    <tr>\n",
              "      <th>9809</th>\n",
              "      <td>Steven Weber</td>\n",
              "      <td>Dongning Guo</td>\n",
              "      <td>3</td>\n",
              "    </tr>\n",
              "    <tr>\n",
              "      <th>9810</th>\n",
              "      <td>Steven Weber</td>\n",
              "      <td>Jeffrey G. Andrews</td>\n",
              "      <td>3</td>\n",
              "    </tr>\n",
              "    <tr>\n",
              "      <th>9811</th>\n",
              "      <td>Steven Weber</td>\n",
              "      <td>Matthew R. McKay</td>\n",
              "      <td>2</td>\n",
              "    </tr>\n",
              "    <tr>\n",
              "      <th>9812</th>\n",
              "      <td>Steven Weber</td>\n",
              "      <td>Yuxin Chen</td>\n",
              "      <td>3</td>\n",
              "    </tr>\n",
              "    <tr>\n",
              "      <th>9813</th>\n",
              "      <td>Steven Weber</td>\n",
              "      <td>Robert W. Heath</td>\n",
              "      <td>8</td>\n",
              "    </tr>\n",
              "    <tr>\n",
              "      <th>9814</th>\n",
              "      <td>Steven Weber</td>\n",
              "      <td>Emilio Leonardi</td>\n",
              "      <td>2</td>\n",
              "    </tr>\n",
              "    <tr>\n",
              "      <th>9815</th>\n",
              "      <td>Steven Weber</td>\n",
              "      <td>Radha Krishna Ganti</td>\n",
              "      <td>7</td>\n",
              "    </tr>\n",
              "    <tr>\n",
              "      <th>9816</th>\n",
              "      <td>Steven Weber</td>\n",
              "      <td>Ebad Ahmed</td>\n",
              "      <td>2</td>\n",
              "    </tr>\n",
              "    <tr>\n",
              "      <th>9817</th>\n",
              "      <td>Steven Weber</td>\n",
              "      <td>Rahul Vaze</td>\n",
              "      <td>2</td>\n",
              "    </tr>\n",
              "    <tr>\n",
              "      <th>9818</th>\n",
              "      <td>Steven Weber</td>\n",
              "      <td>Nihar Jindal</td>\n",
              "      <td>2</td>\n",
              "    </tr>\n",
              "    <tr>\n",
              "      <th>9819</th>\n",
              "      <td>Steven Weber</td>\n",
              "      <td>Ahmad AlAmmouri</td>\n",
              "      <td>2</td>\n",
              "    </tr>\n",
              "    <tr>\n",
              "      <th>9820</th>\n",
              "      <td>Steven Weber</td>\n",
              "      <td>Yuchul Kim</td>\n",
              "      <td>2</td>\n",
              "    </tr>\n",
              "    <tr>\n",
              "      <th>9821</th>\n",
              "      <td>Steven Weber</td>\n",
              "      <td>Masoud Ebrahimi</td>\n",
              "      <td>2</td>\n",
              "    </tr>\n",
              "    <tr>\n",
              "      <th>9822</th>\n",
              "      <td>Steven Weber</td>\n",
              "      <td>Kaibin Huang</td>\n",
              "      <td>8</td>\n",
              "    </tr>\n",
              "    <tr>\n",
              "      <th>9823</th>\n",
              "      <td>Steven Weber</td>\n",
              "      <td>G. de Veciana</td>\n",
              "      <td>3</td>\n",
              "    </tr>\n",
              "    <tr>\n",
              "      <th>9824</th>\n",
              "      <td>Steven Weber</td>\n",
              "      <td>Gustavo de Veciana</td>\n",
              "      <td>2</td>\n",
              "    </tr>\n",
              "    <tr>\n",
              "      <th>9825</th>\n",
              "      <td>Steven Weber</td>\n",
              "      <td>François Baccelli</td>\n",
              "      <td>2</td>\n",
              "    </tr>\n",
              "    <tr>\n",
              "      <th>9826</th>\n",
              "      <td>Steven Weber</td>\n",
              "      <td>Bartlomiej Blaszczyszyn</td>\n",
              "      <td>2</td>\n",
              "    </tr>\n",
              "    <tr>\n",
              "      <th>9827</th>\n",
              "      <td>Steven Weber</td>\n",
              "      <td>Abolfazl S. Motahari</td>\n",
              "      <td>2</td>\n",
              "    </tr>\n",
              "    <tr>\n",
              "      <th>9828</th>\n",
              "      <td>Steven Weber</td>\n",
              "      <td>Iain B. Collings</td>\n",
              "      <td>2</td>\n",
              "    </tr>\n",
              "    <tr>\n",
              "      <th>9829</th>\n",
              "      <td>Steven Weber</td>\n",
              "      <td>Amir K. Khandani</td>\n",
              "      <td>5</td>\n",
              "    </tr>\n",
              "    <tr>\n",
              "      <th>9830</th>\n",
              "      <td>Steven Weber</td>\n",
              "      <td>Radhika Gowaikar</td>\n",
              "      <td>2</td>\n",
              "    </tr>\n",
              "    <tr>\n",
              "      <th>9831</th>\n",
              "      <td>Steven Weber</td>\n",
              "      <td>Xiangying Yang</td>\n",
              "      <td>3</td>\n",
              "    </tr>\n",
              "    <tr>\n",
              "      <th>9832</th>\n",
              "      <td>Steven Weber</td>\n",
              "      <td>John MacLaren Walsh</td>\n",
              "      <td>2</td>\n",
              "    </tr>\n",
              "  </tbody>\n",
              "</table>\n",
              "</div>"
            ],
            "text/plain": [
              "            source                   target  r.collaborations\n",
              "9802  Steven Weber   Raymond Hall Yip Louie                 2\n",
              "9803  Steven Weber            Chun-Hung Liu                 3\n",
              "9804  Steven Weber                Junse Lee                 2\n",
              "9805  Steven Weber    Giovanni Luca Torrisi                 2\n",
              "9806  Steven Weber          Aaron B. Wagner                 2\n",
              "9807  Steven Weber              Namyoon Lee                 5\n",
              "9808  Steven Weber     Bertrand M. Hochwald                 2\n",
              "9809  Steven Weber             Dongning Guo                 3\n",
              "9810  Steven Weber       Jeffrey G. Andrews                 3\n",
              "9811  Steven Weber         Matthew R. McKay                 2\n",
              "9812  Steven Weber               Yuxin Chen                 3\n",
              "9813  Steven Weber          Robert W. Heath                 8\n",
              "9814  Steven Weber          Emilio Leonardi                 2\n",
              "9815  Steven Weber      Radha Krishna Ganti                 7\n",
              "9816  Steven Weber               Ebad Ahmed                 2\n",
              "9817  Steven Weber               Rahul Vaze                 2\n",
              "9818  Steven Weber             Nihar Jindal                 2\n",
              "9819  Steven Weber          Ahmad AlAmmouri                 2\n",
              "9820  Steven Weber               Yuchul Kim                 2\n",
              "9821  Steven Weber          Masoud Ebrahimi                 2\n",
              "9822  Steven Weber             Kaibin Huang                 8\n",
              "9823  Steven Weber            G. de Veciana                 3\n",
              "9824  Steven Weber       Gustavo de Veciana                 2\n",
              "9825  Steven Weber        François Baccelli                 2\n",
              "9826  Steven Weber  Bartlomiej Blaszczyszyn                 2\n",
              "9827  Steven Weber     Abolfazl S. Motahari                 2\n",
              "9828  Steven Weber         Iain B. Collings                 2\n",
              "9829  Steven Weber         Amir K. Khandani                 5\n",
              "9830  Steven Weber         Radhika Gowaikar                 2\n",
              "9831  Steven Weber           Xiangying Yang                 3\n",
              "9832  Steven Weber      John MacLaren Walsh                 2"
            ]
          },
          "metadata": {
            "tags": []
          },
          "execution_count": 21
        }
      ]
    },
    {
      "cell_type": "code",
      "metadata": {
        "id": "BeRxVQAW-hX4"
      },
      "source": [
        "# Calculate total collaborations per author (cited)\n",
        "colab_dic_cited = {}\n",
        "for i in range(len(cal_colab_cited_df)):\n",
        "    if dic_authors[cal_colab_cited_df['source'][i]] not in colab_dic_cited.keys():\n",
        "        colab_dic_cited[dic_authors[cal_colab_cited_df['source'][i]]] = cal_colab_cited_df['r.collaborations'][i]\n",
        "    else:\n",
        "        colab_dic_cited[dic_authors[cal_colab_cited_df['source'][i]]] += cal_colab_cited_df['r.collaborations'][i]\n",
        "\n",
        "    if dic_authors[cal_colab_cited_df['target'][i]]  not in colab_dic_cited.keys():\n",
        "        colab_dic_cited[dic_authors[cal_colab_cited_df['target'][i]]] = cal_colab_cited_df['r.collaborations'][i]\n",
        "    else:\n",
        "        colab_dic_cited[dic_authors[cal_colab_cited_df['target'][i]]] += cal_colab_cited_df['r.collaborations'][i]"
      ],
      "execution_count": null,
      "outputs": []
    },
    {
      "cell_type": "code",
      "metadata": {
        "id": "s_px__Z--hV5",
        "outputId": "66034331-84e6-4ebd-c226-61138f3b7bfd",
        "colab": {
          "base_uri": "https://localhost:8080/"
        }
      },
      "source": [
        "print(len(colab_dic_cited))\n",
        "# colab_dic_direct"
      ],
      "execution_count": null,
      "outputs": [
        {
          "output_type": "stream",
          "text": [
            "8868\n"
          ],
          "name": "stdout"
        }
      ]
    },
    {
      "cell_type": "code",
      "metadata": {
        "id": "6SjZ3-8V-hTg",
        "outputId": "c9ee0acd-578b-4fba-8ab8-a47d28e0e4df",
        "colab": {
          "base_uri": "https://localhost:8080/"
        }
      },
      "source": [
        "colab_dic_direct == colab_dic_cited"
      ],
      "execution_count": null,
      "outputs": [
        {
          "output_type": "execute_result",
          "data": {
            "text/plain": [
              "False"
            ]
          },
          "metadata": {
            "tags": []
          },
          "execution_count": 24
        }
      ]
    },
    {
      "cell_type": "code",
      "metadata": {
        "id": "y2i8RQow-hRh"
      },
      "source": [
        ""
      ],
      "execution_count": null,
      "outputs": []
    },
    {
      "cell_type": "code",
      "metadata": {
        "id": "9_GLZY6I-hPk"
      },
      "source": [
        "co['source'] = co['source'].apply(lambda x: dic_authors[x])\n",
        "co['target'] = co['target'].apply(lambda x: dic_authors[x])"
      ],
      "execution_count": null,
      "outputs": []
    },
    {
      "cell_type": "code",
      "metadata": {
        "id": "4bkmfYvs-hNl"
      },
      "source": [
        "co.head()\n",
        "dff = co\n",
        "del co"
      ],
      "execution_count": null,
      "outputs": []
    },
    {
      "cell_type": "code",
      "metadata": {
        "id": "VwsNEjHV-hLq",
        "outputId": "c8462f7a-14ac-4b2e-c09b-4e29c0981445",
        "colab": {
          "base_uri": "https://localhost:8080/",
          "height": 221
        }
      },
      "source": [
        "print(dff.shape)\n",
        "dff.head()"
      ],
      "execution_count": null,
      "outputs": [
        {
          "output_type": "stream",
          "text": [
            "(120775, 2)\n"
          ],
          "name": "stdout"
        },
        {
          "output_type": "execute_result",
          "data": {
            "text/html": [
              "<div>\n",
              "<style scoped>\n",
              "    .dataframe tbody tr th:only-of-type {\n",
              "        vertical-align: middle;\n",
              "    }\n",
              "\n",
              "    .dataframe tbody tr th {\n",
              "        vertical-align: top;\n",
              "    }\n",
              "\n",
              "    .dataframe thead th {\n",
              "        text-align: right;\n",
              "    }\n",
              "</style>\n",
              "<table border=\"1\" class=\"dataframe\">\n",
              "  <thead>\n",
              "    <tr style=\"text-align: right;\">\n",
              "      <th></th>\n",
              "      <th>source</th>\n",
              "      <th>target</th>\n",
              "    </tr>\n",
              "  </thead>\n",
              "  <tbody>\n",
              "    <tr>\n",
              "      <th>0</th>\n",
              "      <td>0</td>\n",
              "      <td>1</td>\n",
              "    </tr>\n",
              "    <tr>\n",
              "      <th>1</th>\n",
              "      <td>0</td>\n",
              "      <td>2</td>\n",
              "    </tr>\n",
              "    <tr>\n",
              "      <th>2</th>\n",
              "      <td>1</td>\n",
              "      <td>2</td>\n",
              "    </tr>\n",
              "    <tr>\n",
              "      <th>3</th>\n",
              "      <td>2</td>\n",
              "      <td>59631</td>\n",
              "    </tr>\n",
              "    <tr>\n",
              "      <th>4</th>\n",
              "      <td>2</td>\n",
              "      <td>59630</td>\n",
              "    </tr>\n",
              "  </tbody>\n",
              "</table>\n",
              "</div>"
            ],
            "text/plain": [
              "   source  target\n",
              "0       0       1\n",
              "1       0       2\n",
              "2       1       2\n",
              "3       2   59631\n",
              "4       2   59630"
            ]
          },
          "metadata": {
            "tags": []
          },
          "execution_count": 27
        }
      ]
    },
    {
      "cell_type": "code",
      "metadata": {
        "id": "WmruTx65-g-4",
        "outputId": "804525d0-2783-4906-fc6c-bfc6388c40c3",
        "colab": {
          "base_uri": "https://localhost:8080/"
        }
      },
      "source": [
        "cora_feature_names = [f\"f{i}\" for i in range(2)]\n",
        "print(cora_feature_names)"
      ],
      "execution_count": null,
      "outputs": [
        {
          "output_type": "stream",
          "text": [
            "['f0', 'f1']\n"
          ],
          "name": "stdout"
        }
      ]
    },
    {
      "cell_type": "code",
      "metadata": {
        "id": "ulhAw4Es-g7S"
      },
      "source": [
        "cols = ['dir_colabs', 'cited_colabs']\n",
        "idx = [i for i in range(len(dic_authors))]"
      ],
      "execution_count": null,
      "outputs": []
    },
    {
      "cell_type": "code",
      "metadata": {
        "id": "K7mLDPEs-g4J"
      },
      "source": [
        "feat = pd.DataFrame(index=idx, columns=cols)"
      ],
      "execution_count": null,
      "outputs": []
    },
    {
      "cell_type": "code",
      "metadata": {
        "id": "0tmkWaXe-g1t",
        "outputId": "5cc02d98-7a10-42a5-96ee-0efd2e4368b6",
        "colab": {
          "base_uri": "https://localhost:8080/",
          "height": 204
        }
      },
      "source": [
        "feat.fillna(0, inplace=True)\n",
        "feat.head()"
      ],
      "execution_count": null,
      "outputs": [
        {
          "output_type": "execute_result",
          "data": {
            "text/html": [
              "<div>\n",
              "<style scoped>\n",
              "    .dataframe tbody tr th:only-of-type {\n",
              "        vertical-align: middle;\n",
              "    }\n",
              "\n",
              "    .dataframe tbody tr th {\n",
              "        vertical-align: top;\n",
              "    }\n",
              "\n",
              "    .dataframe thead th {\n",
              "        text-align: right;\n",
              "    }\n",
              "</style>\n",
              "<table border=\"1\" class=\"dataframe\">\n",
              "  <thead>\n",
              "    <tr style=\"text-align: right;\">\n",
              "      <th></th>\n",
              "      <th>dir_colabs</th>\n",
              "      <th>cited_colabs</th>\n",
              "    </tr>\n",
              "  </thead>\n",
              "  <tbody>\n",
              "    <tr>\n",
              "      <th>0</th>\n",
              "      <td>0</td>\n",
              "      <td>0</td>\n",
              "    </tr>\n",
              "    <tr>\n",
              "      <th>1</th>\n",
              "      <td>0</td>\n",
              "      <td>0</td>\n",
              "    </tr>\n",
              "    <tr>\n",
              "      <th>2</th>\n",
              "      <td>0</td>\n",
              "      <td>0</td>\n",
              "    </tr>\n",
              "    <tr>\n",
              "      <th>3</th>\n",
              "      <td>0</td>\n",
              "      <td>0</td>\n",
              "    </tr>\n",
              "    <tr>\n",
              "      <th>4</th>\n",
              "      <td>0</td>\n",
              "      <td>0</td>\n",
              "    </tr>\n",
              "  </tbody>\n",
              "</table>\n",
              "</div>"
            ],
            "text/plain": [
              "   dir_colabs  cited_colabs\n",
              "0           0             0\n",
              "1           0             0\n",
              "2           0             0\n",
              "3           0             0\n",
              "4           0             0"
            ]
          },
          "metadata": {
            "tags": []
          },
          "execution_count": 31
        }
      ]
    },
    {
      "cell_type": "code",
      "metadata": {
        "id": "XmGH_PlC-gy8",
        "outputId": "cad930ea-3b8a-475a-f617-4e498f148326",
        "colab": {
          "base_uri": "https://localhost:8080/",
          "height": 204
        }
      },
      "source": [
        "for i in range(len(dic_authors)):\n",
        "    if i in colab_dic_direct.keys():\n",
        "        feat['dir_colabs'][i] = colab_dic_direct[i]\n",
        "    else:\n",
        "        feat['dir_colabs'][i] = 0\n",
        "        \n",
        "    if i in colab_dic_cited.keys():\n",
        "        feat['cited_colabs'][i] = colab_dic_cited[i]\n",
        "    else:\n",
        "        feat['cited_colabs'][i] = 0\n",
        "\n",
        "feat.head()"
      ],
      "execution_count": null,
      "outputs": [
        {
          "output_type": "execute_result",
          "data": {
            "text/html": [
              "<div>\n",
              "<style scoped>\n",
              "    .dataframe tbody tr th:only-of-type {\n",
              "        vertical-align: middle;\n",
              "    }\n",
              "\n",
              "    .dataframe tbody tr th {\n",
              "        vertical-align: top;\n",
              "    }\n",
              "\n",
              "    .dataframe thead th {\n",
              "        text-align: right;\n",
              "    }\n",
              "</style>\n",
              "<table border=\"1\" class=\"dataframe\">\n",
              "  <thead>\n",
              "    <tr style=\"text-align: right;\">\n",
              "      <th></th>\n",
              "      <th>dir_colabs</th>\n",
              "      <th>cited_colabs</th>\n",
              "    </tr>\n",
              "  </thead>\n",
              "  <tbody>\n",
              "    <tr>\n",
              "      <th>0</th>\n",
              "      <td>4</td>\n",
              "      <td>0</td>\n",
              "    </tr>\n",
              "    <tr>\n",
              "      <th>1</th>\n",
              "      <td>4</td>\n",
              "      <td>0</td>\n",
              "    </tr>\n",
              "    <tr>\n",
              "      <th>2</th>\n",
              "      <td>16</td>\n",
              "      <td>0</td>\n",
              "    </tr>\n",
              "    <tr>\n",
              "      <th>3</th>\n",
              "      <td>19</td>\n",
              "      <td>0</td>\n",
              "    </tr>\n",
              "    <tr>\n",
              "      <th>4</th>\n",
              "      <td>15</td>\n",
              "      <td>0</td>\n",
              "    </tr>\n",
              "  </tbody>\n",
              "</table>\n",
              "</div>"
            ],
            "text/plain": [
              "   dir_colabs  cited_colabs\n",
              "0           4             0\n",
              "1           4             0\n",
              "2          16             0\n",
              "3          19             0\n",
              "4          15             0"
            ]
          },
          "metadata": {
            "tags": []
          },
          "execution_count": 32
        }
      ]
    },
    {
      "cell_type": "code",
      "metadata": {
        "id": "S2b0W65u-gqg",
        "outputId": "78933661-e077-4064-88a1-1e177a6ad0dc",
        "colab": {
          "base_uri": "https://localhost:8080/"
        }
      },
      "source": [
        "len(feat['cited_colabs'].drop_duplicates())"
      ],
      "execution_count": null,
      "outputs": [
        {
          "output_type": "execute_result",
          "data": {
            "text/plain": [
              "489"
            ]
          },
          "metadata": {
            "tags": []
          },
          "execution_count": 33
        }
      ]
    },
    {
      "cell_type": "code",
      "metadata": {
        "id": "CbTzh75w-gny"
      },
      "source": [
        "# Normalise thee feaatures to feed into the moddel\n",
        "dir_mean = feat['dir_colabs'].mean()\n",
        "dir_max = feat['dir_colabs'].max()\n",
        "dir_min = feat['dir_colabs'].min()\n",
        "\n",
        "cit_mean = feat['cited_colabs'].mean()\n",
        "cit_max = feat['cited_colabs'].max()\n",
        "cit_min = feat['cited_colabs'].min()"
      ],
      "execution_count": null,
      "outputs": []
    },
    {
      "cell_type": "code",
      "metadata": {
        "id": "r46GQ05l-gkb"
      },
      "source": [
        "feat['dir_colabs'] = feat['dir_colabs'].apply(lambda x: ((x - dir_mean) / (dir_max - dir_min)))\n",
        "feat['cited_colabs'] = feat['cited_colabs'].apply(lambda x: ((x - cit_mean) / (cit_max - cit_min)))"
      ],
      "execution_count": null,
      "outputs": []
    },
    {
      "cell_type": "code",
      "metadata": {
        "id": "A68Xpni--ghI",
        "outputId": "8b8fc186-6b03-4f61-dfc2-5c61555eb706",
        "colab": {
          "base_uri": "https://localhost:8080/",
          "height": 359
        }
      },
      "source": [
        "feat.head(10)"
      ],
      "execution_count": null,
      "outputs": [
        {
          "output_type": "execute_result",
          "data": {
            "text/html": [
              "<div>\n",
              "<style scoped>\n",
              "    .dataframe tbody tr th:only-of-type {\n",
              "        vertical-align: middle;\n",
              "    }\n",
              "\n",
              "    .dataframe tbody tr th {\n",
              "        vertical-align: top;\n",
              "    }\n",
              "\n",
              "    .dataframe thead th {\n",
              "        text-align: right;\n",
              "    }\n",
              "</style>\n",
              "<table border=\"1\" class=\"dataframe\">\n",
              "  <thead>\n",
              "    <tr style=\"text-align: right;\">\n",
              "      <th></th>\n",
              "      <th>dir_colabs</th>\n",
              "      <th>cited_colabs</th>\n",
              "    </tr>\n",
              "  </thead>\n",
              "  <tbody>\n",
              "    <tr>\n",
              "      <th>0</th>\n",
              "      <td>-0.001945</td>\n",
              "      <td>-0.001537</td>\n",
              "    </tr>\n",
              "    <tr>\n",
              "      <th>1</th>\n",
              "      <td>-0.001945</td>\n",
              "      <td>-0.001537</td>\n",
              "    </tr>\n",
              "    <tr>\n",
              "      <th>2</th>\n",
              "      <td>0.048055</td>\n",
              "      <td>-0.001537</td>\n",
              "    </tr>\n",
              "    <tr>\n",
              "      <th>3</th>\n",
              "      <td>0.060555</td>\n",
              "      <td>-0.001537</td>\n",
              "    </tr>\n",
              "    <tr>\n",
              "      <th>4</th>\n",
              "      <td>0.043888</td>\n",
              "      <td>-0.001537</td>\n",
              "    </tr>\n",
              "    <tr>\n",
              "      <th>5</th>\n",
              "      <td>-0.001945</td>\n",
              "      <td>-0.001537</td>\n",
              "    </tr>\n",
              "    <tr>\n",
              "      <th>6</th>\n",
              "      <td>-0.014445</td>\n",
              "      <td>-0.001537</td>\n",
              "    </tr>\n",
              "    <tr>\n",
              "      <th>7</th>\n",
              "      <td>0.023055</td>\n",
              "      <td>-0.001537</td>\n",
              "    </tr>\n",
              "    <tr>\n",
              "      <th>8</th>\n",
              "      <td>-0.001945</td>\n",
              "      <td>-0.001537</td>\n",
              "    </tr>\n",
              "    <tr>\n",
              "      <th>9</th>\n",
              "      <td>0.035555</td>\n",
              "      <td>-0.001537</td>\n",
              "    </tr>\n",
              "  </tbody>\n",
              "</table>\n",
              "</div>"
            ],
            "text/plain": [
              "   dir_colabs  cited_colabs\n",
              "0   -0.001945     -0.001537\n",
              "1   -0.001945     -0.001537\n",
              "2    0.048055     -0.001537\n",
              "3    0.060555     -0.001537\n",
              "4    0.043888     -0.001537\n",
              "5   -0.001945     -0.001537\n",
              "6   -0.014445     -0.001537\n",
              "7    0.023055     -0.001537\n",
              "8   -0.001945     -0.001537\n",
              "9    0.035555     -0.001537"
            ]
          },
          "metadata": {
            "tags": []
          },
          "execution_count": 36
        }
      ]
    },
    {
      "cell_type": "code",
      "metadata": {
        "id": "gRlQ-JUWcjXu"
      },
      "source": [
        "\n",
        "# fos features"
      ],
      "execution_count": null,
      "outputs": []
    },
    {
      "cell_type": "code",
      "metadata": {
        "id": "_r6CRlRUAhsd"
      },
      "source": [
        "from stellargraph import StellarGraph"
      ],
      "execution_count": null,
      "outputs": []
    },
    {
      "cell_type": "code",
      "metadata": {
        "id": "VSempnoHAh6s"
      },
      "source": [
        "sg = StellarGraph(feat,edges=dff)\n",
        "# sg = StellarGraph(horizontal_feature,edges=dff)"
      ],
      "execution_count": null,
      "outputs": []
    },
    {
      "cell_type": "code",
      "metadata": {
        "id": "9Nk_OQGYAiTI",
        "outputId": "9ed94284-3d54-45d4-8545-131a014ace05",
        "colab": {
          "base_uri": "https://localhost:8080/"
        }
      },
      "source": [
        "print(type(sg))\n",
        "print(sg.info())"
      ],
      "execution_count": null,
      "outputs": [
        {
          "output_type": "stream",
          "text": [
            "<class 'stellargraph.core.graph.StellarGraph'>\n",
            "StellarGraph: Undirected multigraph\n",
            " Nodes: 63800, Edges: 120775\n",
            "\n",
            " Node types:\n",
            "  default: [63800]\n",
            "    Features: float32 vector, length 2\n",
            "    Edge types: default-default->default\n",
            "\n",
            " Edge types:\n",
            "    default-default->default: [120775]\n",
            "        Weights: all 1 (default)\n",
            "        Features: none\n"
          ],
          "name": "stdout"
        }
      ]
    },
    {
      "cell_type": "code",
      "metadata": {
        "id": "jb0xOVDEAiQn"
      },
      "source": [
        "from stellargraph.data import EdgeSplitter\n",
        "from stellargraph.mapper import GraphSAGELinkGenerator\n",
        "from stellargraph.layer import GraphSAGE, HinSAGE, link_classification"
      ],
      "execution_count": null,
      "outputs": []
    },
    {
      "cell_type": "code",
      "metadata": {
        "id": "tZihlYnoAiNJ"
      },
      "source": [
        "edge_splitter_test = EdgeSplitter(sg)"
      ],
      "execution_count": null,
      "outputs": []
    },
    {
      "cell_type": "code",
      "metadata": {
        "id": "TyA7xLXLAiKG",
        "outputId": "4caf0116-a037-4837-aa1f-673d8821fb7e",
        "colab": {
          "base_uri": "https://localhost:8080/"
        }
      },
      "source": [
        "G_test, edge_ids_test, edge_labels_test = edge_splitter_test.train_test_split(\n",
        "    p=0.2, method=\"global\", keep_connected=True\n",
        ")"
      ],
      "execution_count": null,
      "outputs": [
        {
          "output_type": "stream",
          "text": [
            "** Sampled 24155 positive and 24155 negative edges. **\n"
          ],
          "name": "stdout"
        }
      ]
    },
    {
      "cell_type": "code",
      "metadata": {
        "id": "9Dnpdm46AiHR"
      },
      "source": [
        "edge_splitter_train = EdgeSplitter(G_test)"
      ],
      "execution_count": null,
      "outputs": []
    },
    {
      "cell_type": "code",
      "metadata": {
        "id": "koT9brr0AiD8",
        "outputId": "d1c764dd-f633-43e0-ddf4-124c43c0b5e8",
        "colab": {
          "base_uri": "https://localhost:8080/"
        }
      },
      "source": [
        "G_train, edge_ids_train, edge_labels_train = edge_splitter_train.train_test_split(\n",
        "    p=0.1, method=\"global\", keep_connected=True\n",
        ")"
      ],
      "execution_count": null,
      "outputs": [
        {
          "output_type": "stream",
          "text": [
            "** Sampled 9662 positive and 9662 negative edges. **\n"
          ],
          "name": "stdout"
        }
      ]
    },
    {
      "cell_type": "code",
      "metadata": {
        "id": "W21pmPJ7AiBy",
        "outputId": "e8c4067e-4a73-4643-dc24-44f5575db0aa",
        "colab": {
          "base_uri": "https://localhost:8080/"
        }
      },
      "source": [
        "print(G_train.info())"
      ],
      "execution_count": null,
      "outputs": [
        {
          "output_type": "stream",
          "text": [
            "StellarGraph: Undirected multigraph\n",
            " Nodes: 63800, Edges: 86958\n",
            "\n",
            " Node types:\n",
            "  default: [63800]\n",
            "    Features: float32 vector, length 2\n",
            "    Edge types: default-default->default\n",
            "\n",
            " Edge types:\n",
            "    default-default->default: [86958]\n",
            "        Weights: all 1 (default)\n",
            "        Features: none\n"
          ],
          "name": "stdout"
        }
      ]
    },
    {
      "cell_type": "code",
      "metadata": {
        "id": "HgOk7OxOAh_P",
        "outputId": "31207c5f-5039-455c-9395-34a0959ee14a",
        "colab": {
          "base_uri": "https://localhost:8080/"
        }
      },
      "source": [
        "print(G_test.info())"
      ],
      "execution_count": null,
      "outputs": [
        {
          "output_type": "stream",
          "text": [
            "StellarGraph: Undirected multigraph\n",
            " Nodes: 63800, Edges: 96620\n",
            "\n",
            " Node types:\n",
            "  default: [63800]\n",
            "    Features: float32 vector, length 2\n",
            "    Edge types: default-default->default\n",
            "\n",
            " Edge types:\n",
            "    default-default->default: [96620]\n",
            "        Weights: all 1 (default)\n",
            "        Features: none\n"
          ],
          "name": "stdout"
        }
      ]
    },
    {
      "cell_type": "code",
      "metadata": {
        "id": "vsFE5dTFAh4g"
      },
      "source": [
        "batch_size = 20\n",
        "epochs = 50"
      ],
      "execution_count": null,
      "outputs": []
    },
    {
      "cell_type": "code",
      "metadata": {
        "id": "S9mQe6YLAh1T"
      },
      "source": [
        "num_samples = [20, 10]"
      ],
      "execution_count": null,
      "outputs": []
    },
    {
      "cell_type": "code",
      "metadata": {
        "id": "MS8LWEDyAhy_"
      },
      "source": [
        "train_gen = GraphSAGELinkGenerator(G_train, batch_size, num_samples)"
      ],
      "execution_count": null,
      "outputs": []
    },
    {
      "cell_type": "code",
      "metadata": {
        "id": "eaK8o4QbAhwZ"
      },
      "source": [
        "train_flow = train_gen.flow(edge_ids_train, edge_labels_train, shuffle=True)"
      ],
      "execution_count": null,
      "outputs": []
    },
    {
      "cell_type": "code",
      "metadata": {
        "id": "uswmgWpbBQo8"
      },
      "source": [
        "test_gen = GraphSAGELinkGenerator(G_test, batch_size, num_samples)\n",
        "test_flow = test_gen.flow(edge_ids_test, edge_labels_test)"
      ],
      "execution_count": null,
      "outputs": []
    },
    {
      "cell_type": "code",
      "metadata": {
        "id": "ebbItVSdBQmB"
      },
      "source": [
        "layer_sizes = [20, 20]\n",
        "graphsage = GraphSAGE(\n",
        "    layer_sizes=layer_sizes, generator=train_gen, bias=True, dropout=0.3\n",
        ")"
      ],
      "execution_count": null,
      "outputs": []
    },
    {
      "cell_type": "code",
      "metadata": {
        "id": "4Dedf5ADBQj4"
      },
      "source": [
        "x_inp, x_out = graphsage.in_out_tensors()"
      ],
      "execution_count": null,
      "outputs": []
    },
    {
      "cell_type": "code",
      "metadata": {
        "id": "L2cT9R9-BQgr",
        "outputId": "96f6a61c-98a4-4048-ed01-59c034f98104",
        "colab": {
          "base_uri": "https://localhost:8080/"
        }
      },
      "source": [
        "prediction = link_classification(\n",
        "    output_dim=1, output_act=\"relu\", edge_embedding_method=\"ip\"\n",
        ")(x_out)"
      ],
      "execution_count": null,
      "outputs": [
        {
          "output_type": "stream",
          "text": [
            "link_classification: using 'ip' method to combine node embeddings into edge embeddings\n"
          ],
          "name": "stdout"
        }
      ]
    },
    {
      "cell_type": "code",
      "metadata": {
        "id": "Z-C4N4hGBQd-"
      },
      "source": [
        ""
      ],
      "execution_count": null,
      "outputs": []
    },
    {
      "cell_type": "code",
      "metadata": {
        "id": "yhA7Nt3pBQbr"
      },
      "source": [
        "import tensorflow.keras as keras # DO NOT USE KERAS DIRECTLY\n",
        "from tensorflow.keras import layers, optimizers, losses, metrics, Model\n",
        "from sklearn import preprocessing, feature_extraction, model_selection"
      ],
      "execution_count": null,
      "outputs": []
    },
    {
      "cell_type": "code",
      "metadata": {
        "id": "NUOt0WRQBQZf"
      },
      "source": [
        "model = keras.Model(inputs=x_inp, outputs=prediction)\n",
        "\n",
        "model.compile(\n",
        "    optimizer=keras.optimizers.Adam(lr=1e-3),\n",
        "    loss=keras.losses.binary_crossentropy,\n",
        "    metrics=[\"acc\"],\n",
        ")"
      ],
      "execution_count": null,
      "outputs": []
    },
    {
      "cell_type": "code",
      "metadata": {
        "id": "XgpajnG5BQWK",
        "outputId": "a562b1db-8cd8-4588-ee5a-aca756d9ccce",
        "colab": {
          "base_uri": "https://localhost:8080/"
        }
      },
      "source": [
        "init_train_metrics = model.evaluate(train_flow)\n",
        "init_test_metrics = model.evaluate(test_flow)\n",
        "\n",
        "print(\"\\nTrain Set Metrics of the initial (untrained) model:\")\n",
        "for name, val in zip(model.metrics_names, init_train_metrics):\n",
        "    print(\"\\t{}: {:0.4f}\".format(name, val))\n",
        "\n",
        "print(\"\\nTest Set Metrics of the initial (untrained) model:\")\n",
        "for name, val in zip(model.metrics_names, init_test_metrics):\n",
        "    print(\"\\t{}: {:0.4f}\".format(name, val))"
      ],
      "execution_count": 57,
      "outputs": [
        {
          "output_type": "stream",
          "text": [
            "  1/967 [..............................] - ETA: 0s - loss: 1.4131 - acc: 0.7500WARNING:tensorflow:Callbacks method `on_test_batch_end` is slow compared to the batch time (batch time: 0.0064s vs `on_test_batch_end` time: 0.0181s). Check your callbacks.\n",
            "967/967 [==============================] - 32s 33ms/step - loss: 0.7527 - acc: 0.7488\n",
            "2416/2416 [==============================] - 80s 33ms/step - loss: 0.7339 - acc: 0.7530\n",
            "\n",
            "Train Set Metrics of the initial (untrained) model:\n",
            "\tloss: 0.7527\n",
            "\tacc: 0.7488\n",
            "\n",
            "Test Set Metrics of the initial (untrained) model:\n",
            "\tloss: 0.7339\n",
            "\tacc: 0.7530\n"
          ],
          "name": "stdout"
        }
      ]
    },
    {
      "cell_type": "code",
      "metadata": {
        "id": "etEq97ZWBQSw",
        "outputId": "ff6cba81-6f04-429e-fece-c35b34882f2f",
        "colab": {
          "base_uri": "https://localhost:8080/"
        }
      },
      "source": [
        "history = model.fit(train_flow, epochs=epochs, validation_data=test_flow, verbose=2)"
      ],
      "execution_count": 58,
      "outputs": [
        {
          "output_type": "stream",
          "text": [
            "Epoch 1/50\n",
            "967/967 - 108s - loss: 0.5434 - acc: 0.7484 - val_loss: 0.6083 - val_acc: 0.7806\n",
            "Epoch 2/50\n",
            "967/967 - 107s - loss: 0.7940 - acc: 0.6122 - val_loss: 1.2903 - val_acc: 0.5503\n",
            "Epoch 3/50\n",
            "967/967 - 106s - loss: 0.5633 - acc: 0.7135 - val_loss: 0.7717 - val_acc: 0.7065\n",
            "Epoch 4/50\n",
            "967/967 - 104s - loss: 0.4895 - acc: 0.7712 - val_loss: 0.6920 - val_acc: 0.7525\n",
            "Epoch 5/50\n",
            "967/967 - 103s - loss: 0.5751 - acc: 0.7337 - val_loss: 1.0006 - val_acc: 0.6360\n",
            "Epoch 6/50\n",
            "967/967 - 104s - loss: 0.8151 - acc: 0.5918 - val_loss: 1.2498 - val_acc: 0.5670\n",
            "Epoch 7/50\n",
            "967/967 - 103s - loss: 0.6250 - acc: 0.6771 - val_loss: 0.8378 - val_acc: 0.6933\n",
            "Epoch 8/50\n",
            "967/967 - 104s - loss: 0.5514 - acc: 0.7369 - val_loss: 1.4428 - val_acc: 0.5347\n",
            "Epoch 9/50\n",
            "967/967 - 103s - loss: 0.6212 - acc: 0.6989 - val_loss: 0.7493 - val_acc: 0.7303\n",
            "Epoch 10/50\n",
            "967/967 - 103s - loss: 0.4950 - acc: 0.7689 - val_loss: 0.7510 - val_acc: 0.7410\n",
            "Epoch 11/50\n",
            "967/967 - 102s - loss: 0.5463 - acc: 0.7401 - val_loss: 0.7394 - val_acc: 0.7435\n",
            "Epoch 12/50\n",
            "967/967 - 102s - loss: 0.4900 - acc: 0.7728 - val_loss: 0.7112 - val_acc: 0.7528\n",
            "Epoch 13/50\n",
            "967/967 - 102s - loss: 0.4688 - acc: 0.7868 - val_loss: 1.6396 - val_acc: 0.5356\n",
            "Epoch 14/50\n",
            "967/967 - 104s - loss: 0.6866 - acc: 0.6721 - val_loss: 0.8383 - val_acc: 0.6919\n",
            "Epoch 15/50\n",
            "967/967 - 104s - loss: 0.5001 - acc: 0.7668 - val_loss: 0.6999 - val_acc: 0.7527\n",
            "Epoch 16/50\n",
            "967/967 - 102s - loss: 0.4721 - acc: 0.7815 - val_loss: 0.7124 - val_acc: 0.7494\n",
            "Epoch 17/50\n",
            "967/967 - 102s - loss: 0.4581 - acc: 0.7923 - val_loss: 0.6475 - val_acc: 0.7692\n",
            "Epoch 18/50\n",
            "967/967 - 104s - loss: 0.4430 - acc: 0.8034 - val_loss: 0.6055 - val_acc: 0.7817\n",
            "Epoch 19/50\n",
            "967/967 - 102s - loss: 0.4382 - acc: 0.8119 - val_loss: 0.5761 - val_acc: 0.7968\n",
            "Epoch 20/50\n",
            "967/967 - 102s - loss: 0.5036 - acc: 0.7780 - val_loss: 0.5754 - val_acc: 0.7952\n",
            "Epoch 21/50\n",
            "967/967 - 104s - loss: 0.4366 - acc: 0.8102 - val_loss: 0.5610 - val_acc: 0.8036\n",
            "Epoch 22/50\n",
            "967/967 - 104s - loss: 0.4625 - acc: 0.8048 - val_loss: 0.7511 - val_acc: 0.7113\n",
            "Epoch 23/50\n",
            "967/967 - 105s - loss: 0.4229 - acc: 0.8231 - val_loss: 1.4595 - val_acc: 0.5739\n",
            "Epoch 24/50\n",
            "967/967 - 106s - loss: 0.5433 - acc: 0.7591 - val_loss: 0.5950 - val_acc: 0.7955\n",
            "Epoch 25/50\n",
            "967/967 - 105s - loss: 0.5456 - acc: 0.7300 - val_loss: 0.6482 - val_acc: 0.7601\n",
            "Epoch 26/50\n",
            "967/967 - 105s - loss: 0.4801 - acc: 0.7832 - val_loss: 0.8063 - val_acc: 0.6951\n",
            "Epoch 27/50\n",
            "967/967 - 106s - loss: 0.4414 - acc: 0.8032 - val_loss: 0.5814 - val_acc: 0.8001\n",
            "Epoch 28/50\n",
            "967/967 - 105s - loss: 0.4174 - acc: 0.8248 - val_loss: 0.5569 - val_acc: 0.8049\n",
            "Epoch 29/50\n",
            "967/967 - 105s - loss: 0.4260 - acc: 0.8211 - val_loss: 0.6351 - val_acc: 0.7721\n",
            "Epoch 30/50\n",
            "967/967 - 106s - loss: 0.4241 - acc: 0.8154 - val_loss: 0.5706 - val_acc: 0.8014\n",
            "Epoch 31/50\n",
            "967/967 - 105s - loss: 0.4165 - acc: 0.8245 - val_loss: 0.5758 - val_acc: 0.8084\n",
            "Epoch 32/50\n",
            "967/967 - 105s - loss: 0.4233 - acc: 0.8252 - val_loss: 0.5417 - val_acc: 0.8161\n",
            "Epoch 33/50\n",
            "967/967 - 105s - loss: 0.4354 - acc: 0.8187 - val_loss: 0.5425 - val_acc: 0.8042\n",
            "Epoch 34/50\n",
            "967/967 - 105s - loss: 0.4457 - acc: 0.8142 - val_loss: 0.6049 - val_acc: 0.7744\n",
            "Epoch 35/50\n",
            "967/967 - 104s - loss: 0.5489 - acc: 0.7527 - val_loss: 0.6373 - val_acc: 0.7711\n",
            "Epoch 36/50\n",
            "967/967 - 103s - loss: 0.4118 - acc: 0.8287 - val_loss: 0.5845 - val_acc: 0.7959\n",
            "Epoch 37/50\n",
            "967/967 - 103s - loss: 0.4201 - acc: 0.8341 - val_loss: 0.7174 - val_acc: 0.7335\n",
            "Epoch 38/50\n",
            "967/967 - 102s - loss: 0.4017 - acc: 0.8352 - val_loss: 0.5436 - val_acc: 0.8203\n",
            "Epoch 39/50\n",
            "967/967 - 103s - loss: 0.4117 - acc: 0.8300 - val_loss: 0.5715 - val_acc: 0.7910\n",
            "Epoch 40/50\n",
            "967/967 - 102s - loss: 0.4021 - acc: 0.8384 - val_loss: 0.6011 - val_acc: 0.7576\n",
            "Epoch 41/50\n",
            "967/967 - 102s - loss: 0.4788 - acc: 0.7763 - val_loss: 1.2651 - val_acc: 0.5192\n",
            "Epoch 42/50\n",
            "967/967 - 102s - loss: 0.6493 - acc: 0.6562 - val_loss: 0.6433 - val_acc: 0.7512\n",
            "Epoch 43/50\n",
            "967/967 - 102s - loss: 0.4226 - acc: 0.8145 - val_loss: 0.6799 - val_acc: 0.7386\n",
            "Epoch 44/50\n",
            "967/967 - 102s - loss: 0.4000 - acc: 0.8239 - val_loss: 0.5403 - val_acc: 0.8087\n",
            "Epoch 45/50\n",
            "967/967 - 102s - loss: 0.3962 - acc: 0.8301 - val_loss: 0.5669 - val_acc: 0.7834\n",
            "Epoch 46/50\n",
            "967/967 - 102s - loss: 0.5816 - acc: 0.7366 - val_loss: 0.9167 - val_acc: 0.6435\n",
            "Epoch 47/50\n",
            "967/967 - 101s - loss: 0.4698 - acc: 0.7762 - val_loss: 0.5673 - val_acc: 0.7863\n",
            "Epoch 48/50\n",
            "967/967 - 101s - loss: 0.4198 - acc: 0.8239 - val_loss: 0.5521 - val_acc: 0.7997\n",
            "Epoch 49/50\n",
            "967/967 - 102s - loss: 0.4025 - acc: 0.8301 - val_loss: 0.5121 - val_acc: 0.8214\n",
            "Epoch 50/50\n",
            "967/967 - 102s - loss: 0.4206 - acc: 0.8155 - val_loss: 0.6201 - val_acc: 0.7559\n"
          ],
          "name": "stdout"
        }
      ]
    },
    {
      "cell_type": "code",
      "metadata": {
        "id": "xZjZ7lk6BQPP",
        "outputId": "b07f121d-136f-41de-eab3-59ae4d2a5223",
        "colab": {
          "base_uri": "https://localhost:8080/",
          "height": 585
        }
      },
      "source": [
        "import stellargraph\n",
        "stellargraph.utils.plot_history(history)"
      ],
      "execution_count": 59,
      "outputs": [
        {
          "output_type": "display_data",
          "data": {
            "image/png": "[encoded data removed]",
            "text/plain": [
              "<Figure size 504x576 with 2 Axes>"
            ]
          },
          "metadata": {
            "tags": [],
            "needs_background": "light"
          }
        }
      ]
    },
    {
      "cell_type": "code",
      "metadata": {
        "id": "ubDS17GvBQMv",
        "outputId": "1a0daba0-6c25-4240-c46a-05d87b56bd61",
        "colab": {
          "base_uri": "https://localhost:8080/"
        }
      },
      "source": [
        "train_metrics = model.evaluate(train_flow)\n",
        "test_metrics = model.evaluate(test_flow)\n",
        "\n",
        "print(\"\\nTrain Set Metrics of the trained model:\")\n",
        "for name, val in zip(model.metrics_names, train_metrics):\n",
        "    print(\"\\t{}: {:0.4f}\".format(name, val))\n",
        "\n",
        "print(\"\\nTest Set Metrics of the trained model:\")\n",
        "for name, val in zip(model.metrics_names, test_metrics):\n",
        "    print(\"\\t{}: {:0.4f}\".format(name, val))"
      ],
      "execution_count": 60,
      "outputs": [
        {
          "output_type": "stream",
          "text": [
            "967/967 [==============================] - 33s 34ms/step - loss: 0.6150 - acc: 0.7609\n",
            "2416/2416 [==============================] - 80s 33ms/step - loss: 0.6202 - acc: 0.7573\n",
            "\n",
            "Train Set Metrics of the trained model:\n",
            "\tloss: 0.6150\n",
            "\tacc: 0.7609\n",
            "\n",
            "Test Set Metrics of the trained model:\n",
            "\tloss: 0.6202\n",
            "\tacc: 0.7573\n"
          ],
          "name": "stdout"
        }
      ]
    },
    {
      "cell_type": "code",
      "metadata": {
        "id": "2qauctjCBQJ1"
      },
      "source": [
        ""
      ],
      "execution_count": null,
      "outputs": []
    },
    {
      "cell_type": "code",
      "metadata": {
        "id": "5fPcp7WOBQGj"
      },
      "source": [
        ""
      ],
      "execution_count": null,
      "outputs": []
    },
    {
      "cell_type": "code",
      "metadata": {
        "id": "VnLCj2v2BQEZ"
      },
      "source": [
        ""
      ],
      "execution_count": null,
      "outputs": []
    },
    {
      "cell_type": "code",
      "metadata": {
        "id": "jN15cfiRBQA3"
      },
      "source": [
        ""
      ],
      "execution_count": null,
      "outputs": []
    },
    {
      "cell_type": "code",
      "metadata": {
        "id": "l9Wly9qOBP-m"
      },
      "source": [
        ""
      ],
      "execution_count": null,
      "outputs": []
    },
    {
      "cell_type": "code",
      "metadata": {
        "id": "-fJHH-vsBP7m"
      },
      "source": [
        ""
      ],
      "execution_count": null,
      "outputs": []
    },
    {
      "cell_type": "code",
      "metadata": {
        "id": "woOiBX_zBP4u"
      },
      "source": [
        ""
      ],
      "execution_count": null,
      "outputs": []
    },
    {
      "cell_type": "code",
      "metadata": {
        "id": "yIqn6e1GBP12"
      },
      "source": [
        ""
      ],
      "execution_count": null,
      "outputs": []
    },
    {
      "cell_type": "code",
      "metadata": {
        "id": "jeQwxaNCBPyB"
      },
      "source": [
        ""
      ],
      "execution_count": null,
      "outputs": []
    },
    {
      "cell_type": "code",
      "metadata": {
        "id": "KIs572WtAhpe"
      },
      "source": [
        ""
      ],
      "execution_count": null,
      "outputs": []
    }
  ]
}