{
 "cells": [
  {
   "cell_type": "markdown",
   "metadata": {},
   "source": [
    "## Import the required libraries and dataset\n",
    "\n",
    "**Download the dataset from [here](http://users.dimi.uniud.it/~massimo.franceschet/ns/syllabus/make/assortative/assortative.html)**"
   ]
  },
  {
   "cell_type": "code",
   "execution_count": 1,
   "metadata": {},
   "outputs": [],
   "source": [
    "import networkx as nx\n",
    "import pandas as pd\n",
    "import matplotlib.pyplot as plt\n",
    "import seaborn as sns\n",
    "from tqdm import tqdm"
   ]
  },
  {
   "cell_type": "code",
   "execution_count": 2,
   "metadata": {},
   "outputs": [],
   "source": [
    "E = pd.read_csv(r'data/dolphins/dolphin_edges.csv', dtype=str)\n",
    "V = pd.read_csv(r'data/dolphins/dolphin_nodes.csv')"
   ]
  },
  {
   "cell_type": "code",
   "execution_count": 3,
   "metadata": {},
   "outputs": [
    {
     "data": {
      "text/html": [
       "<div>\n",
       "<style scoped>\n",
       "    .dataframe tbody tr th:only-of-type {\n",
       "        vertical-align: middle;\n",
       "    }\n",
       "\n",
       "    .dataframe tbody tr th {\n",
       "        vertical-align: top;\n",
       "    }\n",
       "\n",
       "    .dataframe thead th {\n",
       "        text-align: right;\n",
       "    }\n",
       "</style>\n",
       "<table border=\"1\" class=\"dataframe\">\n",
       "  <thead>\n",
       "    <tr style=\"text-align: right;\">\n",
       "      <th></th>\n",
       "      <th>x</th>\n",
       "      <th>y</th>\n",
       "    </tr>\n",
       "  </thead>\n",
       "  <tbody>\n",
       "    <tr>\n",
       "      <th>0</th>\n",
       "      <td>4</td>\n",
       "      <td>9</td>\n",
       "    </tr>\n",
       "    <tr>\n",
       "      <th>1</th>\n",
       "      <td>6</td>\n",
       "      <td>10</td>\n",
       "    </tr>\n",
       "    <tr>\n",
       "      <th>2</th>\n",
       "      <td>7</td>\n",
       "      <td>10</td>\n",
       "    </tr>\n",
       "    <tr>\n",
       "      <th>3</th>\n",
       "      <td>1</td>\n",
       "      <td>11</td>\n",
       "    </tr>\n",
       "    <tr>\n",
       "      <th>4</th>\n",
       "      <td>3</td>\n",
       "      <td>11</td>\n",
       "    </tr>\n",
       "  </tbody>\n",
       "</table>\n",
       "</div>"
      ],
      "text/plain": [
       "   x   y\n",
       "0  4   9\n",
       "1  6  10\n",
       "2  7  10\n",
       "3  1  11\n",
       "4  3  11"
      ]
     },
     "execution_count": 3,
     "metadata": {},
     "output_type": "execute_result"
    }
   ],
   "source": [
    "E.head()"
   ]
  },
  {
   "cell_type": "code",
   "execution_count": 4,
   "metadata": {},
   "outputs": [
    {
     "data": {
      "text/html": [
       "<div>\n",
       "<style scoped>\n",
       "    .dataframe tbody tr th:only-of-type {\n",
       "        vertical-align: middle;\n",
       "    }\n",
       "\n",
       "    .dataframe tbody tr th {\n",
       "        vertical-align: top;\n",
       "    }\n",
       "\n",
       "    .dataframe thead th {\n",
       "        text-align: right;\n",
       "    }\n",
       "</style>\n",
       "<table border=\"1\" class=\"dataframe\">\n",
       "  <thead>\n",
       "    <tr style=\"text-align: right;\">\n",
       "      <th></th>\n",
       "      <th>name</th>\n",
       "      <th>sex</th>\n",
       "    </tr>\n",
       "  </thead>\n",
       "  <tbody>\n",
       "    <tr>\n",
       "      <th>0</th>\n",
       "      <td>Beak</td>\n",
       "      <td>M</td>\n",
       "    </tr>\n",
       "    <tr>\n",
       "      <th>1</th>\n",
       "      <td>Beescratch</td>\n",
       "      <td>M</td>\n",
       "    </tr>\n",
       "    <tr>\n",
       "      <th>2</th>\n",
       "      <td>Bumper</td>\n",
       "      <td>M</td>\n",
       "    </tr>\n",
       "    <tr>\n",
       "      <th>3</th>\n",
       "      <td>CCL</td>\n",
       "      <td>F</td>\n",
       "    </tr>\n",
       "    <tr>\n",
       "      <th>4</th>\n",
       "      <td>Cross</td>\n",
       "      <td>M</td>\n",
       "    </tr>\n",
       "  </tbody>\n",
       "</table>\n",
       "</div>"
      ],
      "text/plain": [
       "         name sex\n",
       "0        Beak   M\n",
       "1  Beescratch   M\n",
       "2      Bumper   M\n",
       "3         CCL   F\n",
       "4       Cross   M"
      ]
     },
     "execution_count": 4,
     "metadata": {},
     "output_type": "execute_result"
    }
   ],
   "source": [
    "V.head()"
   ]
  },
  {
   "cell_type": "code",
   "execution_count": 5,
   "metadata": {},
   "outputs": [
    {
     "name": "stderr",
     "output_type": "stream",
     "text": [
      "100%|█████████████████████████████████████████████████████████████████████████████| 159/159 [00:00<00:00, 13285.81it/s]\n"
     ]
    }
   ],
   "source": [
    "for i in tqdm(range(len(E))):\n",
    "    E.at[i, 'x'] = V['name'][int(E['x'][i]) - 1]\n",
    "    E.at[i, 'y'] = V['name'][int(E['y'][i]) - 1]"
   ]
  },
  {
   "cell_type": "code",
   "execution_count": 6,
   "metadata": {},
   "outputs": [
    {
     "data": {
      "text/html": [
       "<div>\n",
       "<style scoped>\n",
       "    .dataframe tbody tr th:only-of-type {\n",
       "        vertical-align: middle;\n",
       "    }\n",
       "\n",
       "    .dataframe tbody tr th {\n",
       "        vertical-align: top;\n",
       "    }\n",
       "\n",
       "    .dataframe thead th {\n",
       "        text-align: right;\n",
       "    }\n",
       "</style>\n",
       "<table border=\"1\" class=\"dataframe\">\n",
       "  <thead>\n",
       "    <tr style=\"text-align: right;\">\n",
       "      <th></th>\n",
       "      <th>x</th>\n",
       "      <th>y</th>\n",
       "    </tr>\n",
       "  </thead>\n",
       "  <tbody>\n",
       "    <tr>\n",
       "      <th>0</th>\n",
       "      <td>CCL</td>\n",
       "      <td>Double</td>\n",
       "    </tr>\n",
       "    <tr>\n",
       "      <th>1</th>\n",
       "      <td>DN16</td>\n",
       "      <td>Feather</td>\n",
       "    </tr>\n",
       "    <tr>\n",
       "      <th>2</th>\n",
       "      <td>DN21</td>\n",
       "      <td>Feather</td>\n",
       "    </tr>\n",
       "    <tr>\n",
       "      <th>3</th>\n",
       "      <td>Beak</td>\n",
       "      <td>Fish</td>\n",
       "    </tr>\n",
       "    <tr>\n",
       "      <th>4</th>\n",
       "      <td>Bumper</td>\n",
       "      <td>Fish</td>\n",
       "    </tr>\n",
       "    <tr>\n",
       "      <th>...</th>\n",
       "      <td>...</td>\n",
       "      <td>...</td>\n",
       "    </tr>\n",
       "    <tr>\n",
       "      <th>154</th>\n",
       "      <td>Topless</td>\n",
       "      <td>Zap</td>\n",
       "    </tr>\n",
       "    <tr>\n",
       "      <th>155</th>\n",
       "      <td>Ripplefluke</td>\n",
       "      <td>Zig</td>\n",
       "    </tr>\n",
       "    <tr>\n",
       "      <th>156</th>\n",
       "      <td>Bumper</td>\n",
       "      <td>Zipfel</td>\n",
       "    </tr>\n",
       "    <tr>\n",
       "      <th>157</th>\n",
       "      <td>SN4</td>\n",
       "      <td>Zipfel</td>\n",
       "    </tr>\n",
       "    <tr>\n",
       "      <th>158</th>\n",
       "      <td>TSN83</td>\n",
       "      <td>Zipfel</td>\n",
       "    </tr>\n",
       "  </tbody>\n",
       "</table>\n",
       "<p>159 rows × 2 columns</p>\n",
       "</div>"
      ],
      "text/plain": [
       "               x        y\n",
       "0            CCL   Double\n",
       "1           DN16  Feather\n",
       "2           DN21  Feather\n",
       "3           Beak     Fish\n",
       "4         Bumper     Fish\n",
       "..           ...      ...\n",
       "154      Topless      Zap\n",
       "155  Ripplefluke      Zig\n",
       "156       Bumper   Zipfel\n",
       "157          SN4   Zipfel\n",
       "158        TSN83   Zipfel\n",
       "\n",
       "[159 rows x 2 columns]"
      ]
     },
     "execution_count": 6,
     "metadata": {},
     "output_type": "execute_result"
    }
   ],
   "source": [
    "E"
   ]
  },
  {
   "cell_type": "code",
   "execution_count": 7,
   "metadata": {},
   "outputs": [],
   "source": [
    "G = nx.from_pandas_edgelist(E, source='x', target='y')"
   ]
  },
  {
   "cell_type": "code",
   "execution_count": 8,
   "metadata": {},
   "outputs": [
    {
     "data": {
      "image/png": "[encoded data removed]",
      "text/plain": [
       "<Figure size 432x288 with 1 Axes>"
      ]
     },
     "metadata": {},
     "output_type": "display_data"
    }
   ],
   "source": [
    "nx.draw(G, with_labels=True)"
   ]
  },
  {
   "cell_type": "markdown",
   "metadata": {},
   "source": [
    "## Common Neighbors"
   ]
  },
  {
   "cell_type": "code",
   "execution_count": 9,
   "metadata": {},
   "outputs": [
    {
     "data": {
      "text/plain": [
       "[('TR99', 'SN4', 4),\n",
       " ('TR99', 'SN63', 4),\n",
       " ('DN16', 'DN21', 4),\n",
       " ('MN83', 'MN105', 4),\n",
       " ('SN90', 'Jet', 4),\n",
       " ('SN90', 'DN21', 4),\n",
       " ('Upbang', 'Feather', 4),\n",
       " ('Upbang', 'Jet', 4),\n",
       " ('SN4', 'SN63', 4),\n",
       " ('Haecksel', 'Trigger', 4),\n",
       " ('Hook', 'Stripes', 4),\n",
       " ('Double', 'SN100', 3),\n",
       " ('TR99', 'MN83', 3),\n",
       " ('TR99', 'Jonah', 3),\n",
       " ('TR99', 'MN105', 3),\n",
       " ('Gallatin', 'Beescratch', 3)]"
      ]
     },
     "execution_count": 9,
     "metadata": {},
     "output_type": "execute_result"
    }
   ],
   "source": [
    "# targets not connected directly (pair of nodes)\n",
    "targets = nx.non_edges(G)\n",
    "common_neighbours = [(e[0], e[1],\n",
    "                     len(list(nx.common_neighbors(G, e[0], e[1]))))\n",
    "                    for e in targets]\n",
    "cn = sorted(common_neighbours, key=lambda x: x[2], reverse=True)\n",
    "cn[:16]\n",
    "# print(cn)"
   ]
  },
  {
   "cell_type": "markdown",
   "metadata": {},
   "source": [
    "## Jaccard Coefficient"
   ]
  },
  {
   "cell_type": "code",
   "execution_count": 10,
   "metadata": {},
   "outputs": [
    {
     "data": {
      "text/plain": [
       "[('Five', 'Cross', 1.0),\n",
       " ('MN23', 'Quasi', 1.0),\n",
       " ('DN16', 'DN21', 0.6666666666666666),\n",
       " ('SN90', 'DN21', 0.5714285714285714),\n",
       " ('Five', 'Vau', 0.5),\n",
       " ('DN16', 'SN90', 0.5),\n",
       " ('MN83', 'MN105', 0.5),\n",
       " ('Cross', 'Vau', 0.5),\n",
       " ('TR82', 'SN89', 0.5),\n",
       " ('Hook', 'Stripes', 0.4444444444444444),\n",
       " ('DN16', 'Ripplefluke', 0.4),\n",
       " ('SN90', 'Jet', 0.4),\n",
       " ('Upbang', 'Feather', 0.4),\n",
       " ('Beescratch', 'Mus', 0.375),\n",
       " ('Hook', 'Shmuddel', 0.375),\n",
       " ('Stripes', 'TSN103', 0.375)]"
      ]
     },
     "execution_count": 10,
     "metadata": {},
     "output_type": "execute_result"
    }
   ],
   "source": [
    "jaccard_coeff = list(nx.jaccard_coefficient(G))\n",
    "jc = sorted(jaccard_coeff, key=lambda x: x[2], reverse=True)\n",
    "jc[:16]\n",
    "# print(jc)"
   ]
  },
  {
   "cell_type": "markdown",
   "metadata": {},
   "source": [
    "## Resource Allocation"
   ]
  },
  {
   "cell_type": "code",
   "execution_count": 11,
   "metadata": {},
   "outputs": [
    {
     "data": {
      "text/plain": [
       "[('Haecksel', 'Trigger', 0.9004329004329005),\n",
       " ('DN16', 'DN21', 0.878968253968254),\n",
       " ('Notch', 'Jet', 0.6583333333333333),\n",
       " ('Beescratch', 'Mus', 0.6444444444444444),\n",
       " ('SN100', 'Topless', 0.6242424242424243),\n",
       " ('Upbang', 'Feather', 0.6027777777777777),\n",
       " ('Beescratch', 'DN63', 0.5928571428571429),\n",
       " ('Zipfel', 'Stripes', 0.5909090909090909),\n",
       " ('Patchback', 'Grin', 0.5595238095238095),\n",
       " ('Upbang', 'Jet', 0.5277777777777777),\n",
       " ('SN90', 'DN21', 0.5218253968253967),\n",
       " ('SN90', 'Jet', 0.503968253968254),\n",
       " ('TR88', 'Stripes', 0.5),\n",
       " ('SN100', 'Web', 0.5),\n",
       " ('TR120', 'Shmuddel', 0.5),\n",
       " ('SN4', 'SN63', 0.4928571428571428)]"
      ]
     },
     "execution_count": 11,
     "metadata": {},
     "output_type": "execute_result"
    }
   ],
   "source": [
    "RA_idx = list(nx.resource_allocation_index(G))\n",
    "ra = sorted(RA_idx, key=lambda x: x[2], reverse=True)\n",
    "ra[:16]\n",
    "# print(ra)"
   ]
  },
  {
   "cell_type": "markdown",
   "metadata": {},
   "source": [
    "## Adamic-Adar Index"
   ]
  },
  {
   "cell_type": "code",
   "execution_count": 12,
   "metadata": {},
   "outputs": [
    {
     "data": {
      "text/plain": [
       "[('Haecksel', 'Trigger', 2.9317364012342075),\n",
       " ('DN16', 'DN21', 2.8926113435351204),\n",
       " ('Upbang', 'Feather', 2.1154635213872655),\n",
       " ('Notch', 'Jet', 2.012472508149437),\n",
       " ('Beescratch', 'Mus', 1.986693774499868),\n",
       " ('Upbang', 'Jet', 1.9750269337906414),\n",
       " ('SN90', 'DN21', 1.963814645015908),\n",
       " ('SN100', 'Topless', 1.9486065526106957),\n",
       " ('SN90', 'Jet', 1.930814649609145),\n",
       " ('SN4', 'SN63', 1.9087330552060944),\n",
       " ('Zipfel', 'Stripes', 1.8597274323132096),\n",
       " ('Beescratch', 'DN63', 1.8565807973738442),\n",
       " ('TR99', 'SN63', 1.8499543261497624),\n",
       " ('MN83', 'MN105', 1.8203448290106674),\n",
       " ('TR99', 'SN4', 1.8118671042605898),\n",
       " ('Patchback', 'Grin', 1.7933564893654796)]"
      ]
     },
     "execution_count": 12,
     "metadata": {},
     "output_type": "execute_result"
    }
   ],
   "source": [
    "adamic_adar_idx = list(nx.adamic_adar_index(G))\n",
    "ada = sorted(adamic_adar_idx, key=lambda x: x[2], reverse=True)\n",
    "ada[:16]\n",
    "# print(ada)"
   ]
  },
  {
   "cell_type": "code",
   "execution_count": null,
   "metadata": {},
   "outputs": [],
   "source": []
  },
  {
   "cell_type": "code",
   "execution_count": null,
   "metadata": {},
   "outputs": [],
   "source": []
  }
 ],
 "metadata": {
  "kernelspec": {
   "display_name": "Python 3",
   "language": "python",
   "name": "python3"
  },
  "language_info": {
   "codemirror_mode": {
    "name": "ipython",
    "version": 3
   },
   "file_extension": ".py",
   "mimetype": "text/x-python",
   "name": "python",
   "nbconvert_exporter": "python",
   "pygments_lexer": "ipython3",
   "version": "3.8.2"
  }
 },
 "nbformat": 4,
 "nbformat_minor": 4
}
